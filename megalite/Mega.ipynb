{
 "cells": [
  {
   "cell_type": "markdown",
   "id": "106029fb",
   "metadata": {
    "toc": true
   },
   "source": [
    "<h1>Содержание<span class=\"tocSkip\"></span></h1>\n",
    "<div class=\"toc\"><ul class=\"toc-item\"><li><span><a href=\"#Шаг-1.-Обзор-данных\" data-toc-modified-id=\"Шаг-1.-Обзор-данных-1\"><span class=\"toc-item-num\">1&nbsp;&nbsp;</span>Шаг 1. Обзор данных</a></span><ul class=\"toc-item\"><li><ul class=\"toc-item\"><li><span><a href=\"#Таблица-звонков\" data-toc-modified-id=\"Таблица-звонков-1.0.1\"><span class=\"toc-item-num\">1.0.1&nbsp;&nbsp;</span>Таблица звонков</a></span></li><li><span><a href=\"#Трафик\" data-toc-modified-id=\"Трафик-1.0.2\"><span class=\"toc-item-num\">1.0.2&nbsp;&nbsp;</span>Трафик</a></span></li><li><span><a href=\"#Сообщения\" data-toc-modified-id=\"Сообщения-1.0.3\"><span class=\"toc-item-num\">1.0.3&nbsp;&nbsp;</span>Сообщения</a></span></li><li><span><a href=\"#Тарифы\" data-toc-modified-id=\"Тарифы-1.0.4\"><span class=\"toc-item-num\">1.0.4&nbsp;&nbsp;</span>Тарифы</a></span></li><li><span><a href=\"#Пользователи\" data-toc-modified-id=\"Пользователи-1.0.5\"><span class=\"toc-item-num\">1.0.5&nbsp;&nbsp;</span>Пользователи</a></span></li></ul></li></ul></li><li><span><a href=\"#Шаг-2.-Подготовка-данных\" data-toc-modified-id=\"Шаг-2.-Подготовка-данных-2\"><span class=\"toc-item-num\">2&nbsp;&nbsp;</span>Шаг 2. Подготовка данных</a></span><ul class=\"toc-item\"><li><ul class=\"toc-item\"><li><span><a href=\"#Подготовка-данных-(замена-типов,-ошибки,-заполнение-пропусков-и-т.д.)\" data-toc-modified-id=\"Подготовка-данных-(замена-типов,-ошибки,-заполнение-пропусков-и-т.д.)-2.0.1\"><span class=\"toc-item-num\">2.0.1&nbsp;&nbsp;</span>Подготовка данных (замена типов, ошибки, заполнение пропусков и т.д.)</a></span></li><li><span><a href=\"#Подготовка-пользовательских-данных-(звонки,-смс,-объем-трафика-и-т.д.)\" data-toc-modified-id=\"Подготовка-пользовательских-данных-(звонки,-смс,-объем-трафика-и-т.д.)-2.0.2\"><span class=\"toc-item-num\">2.0.2&nbsp;&nbsp;</span>Подготовка пользовательских данных (звонки, смс, объем трафика и т.д.)</a></span></li><li><span><a href=\"#Объединение-таблиц\" data-toc-modified-id=\"Объединение-таблиц-2.0.3\"><span class=\"toc-item-num\">2.0.3&nbsp;&nbsp;</span>Объединение таблиц</a></span></li></ul></li></ul></li><li><span><a href=\"#Шаг-3.-Анализ-данных\" data-toc-modified-id=\"Шаг-3.-Анализ-данных-3\"><span class=\"toc-item-num\">3&nbsp;&nbsp;</span>Шаг 3. Анализ данных</a></span></li><li><span><a href=\"#Шаг-4.-Проверка-гипотез-и-пояснения\" data-toc-modified-id=\"Шаг-4.-Проверка-гипотез-и-пояснения-4\"><span class=\"toc-item-num\">4&nbsp;&nbsp;</span>Шаг 4. Проверка гипотез и пояснения</a></span><ul class=\"toc-item\"><li><span><a href=\"#Cредняя-выручка-пользователей-тарифов-«Ультра»-и-«Смарт»-различаются\" data-toc-modified-id=\"Cредняя-выручка-пользователей-тарифов-«Ультра»-и-«Смарт»-различаются-4.1\"><span class=\"toc-item-num\">4.1&nbsp;&nbsp;</span>Cредняя выручка пользователей тарифов «Ультра» и «Смарт» различаются</a></span></li><li><span><a href=\"#Cредняя-выручка-пользователей-из-Москвы-отличается-от-выручки-пользователей-из-других-регионов.\" data-toc-modified-id=\"Cредняя-выручка-пользователей-из-Москвы-отличается-от-выручки-пользователей-из-других-регионов.-4.2\"><span class=\"toc-item-num\">4.2&nbsp;&nbsp;</span>Cредняя выручка пользователей из Москвы отличается от выручки пользователей из других регионов.</a></span></li></ul></li><li><span><a href=\"#Вывод\" data-toc-modified-id=\"Вывод-5\"><span class=\"toc-item-num\">5&nbsp;&nbsp;</span>Вывод</a></span></li></ul></div>"
   ]
  },
  {
   "cell_type": "markdown",
   "id": "7e64e50b",
   "metadata": {},
   "source": [
    "# Исследование тарифов сотовой связи"
   ]
  },
  {
   "cell_type": "markdown",
   "id": "d834481f",
   "metadata": {},
   "source": [
    "Клиентам предлагают два тарифных плана: «Смарт» и «Ультра». Чтобы скорректировать рекламный бюджет, коммерческий департамент хочет понять, какой тариф приносит больше денег.\n",
    "Вам предстоит сделать предварительный анализ тарифов на небольшой выборке клиентов. В вашем распоряжении данные 500 пользователей «Мегалайна»: кто они, откуда, каким тарифом пользуются, сколько звонков и сообщений каждый отправил за 2018 год. Нужно проанализировать поведение клиентов и сделать вывод — какой тариф лучше.\n",
    "Описание тарифов\n",
    "Тариф «Смарт»\n",
    "1.\tЕжемесячная плата: 550 рублей\n",
    "2.\tВключено 500 минут разговора, 50 сообщений и 15 Гб интернет-трафика\n",
    "3.\tСтоимость услуг сверх тарифного пакета:\n",
    "    - минута разговора: 3 рубля\n",
    "    - сообщение: 3 рубля\n",
    "    - 1 Гб интернет-трафика: 200 рублей\n",
    "    \n",
    "Тариф «Ультра»\n",
    "1.\tЕжемесячная плата: 1950 рублей\n",
    "2.\tВключено 3000 минут разговора, 1000 сообщений и 30 Гб интернет-трафика\n",
    "3.\tСтоимость услуг сверх тарифного пакета:\n",
    "    - минута разговора: 1 рубль\n",
    "    - сообщение: 1 рубль\n",
    "    - 1 Гб интернет-трафика: 150 рублей\n",
    "    \n",
    "    \n",
    "Примечание:\n",
    "«Мегалайн» всегда округляет секунды до минут, а мегабайты — до гигабайт. Каждый звонок округляется отдельно: даже если он длился всего 1 секунду, будет засчитан как 1 минута.\n",
    "Для веб-трафика отдельные сессии не считаются. Вместо этого общая сумма за месяц округляется в бо́льшую сторону. Если абонент использует 1025 мегабайт в этом месяце, с него возьмут плату за 2 гигабайта.\n"
   ]
  },
  {
   "cell_type": "markdown",
   "id": "47c1b1ca",
   "metadata": {},
   "source": [
    "## Шаг 1. Обзор данных"
   ]
  },
  {
   "cell_type": "code",
   "execution_count": 1,
   "id": "f4ce41a9",
   "metadata": {},
   "outputs": [],
   "source": [
    "# импортируем нужные библиотеки\n",
    "from scipy import stats as st\n",
    "import numpy as np\n",
    "from matplotlib import pyplot as plt\n",
    "import pandas as pd\n",
    "import math\n",
    "import seaborn as sns"
   ]
  },
  {
   "cell_type": "markdown",
   "id": "7b634497",
   "metadata": {},
   "source": [
    "#### Таблица звонков"
   ]
  },
  {
   "cell_type": "code",
   "execution_count": 3,
   "id": "54c76389",
   "metadata": {},
   "outputs": [
    {
     "data": {
      "text/html": [
       "<div>\n",
       "<style scoped>\n",
       "    .dataframe tbody tr th:only-of-type {\n",
       "        vertical-align: middle;\n",
       "    }\n",
       "\n",
       "    .dataframe tbody tr th {\n",
       "        vertical-align: top;\n",
       "    }\n",
       "\n",
       "    .dataframe thead th {\n",
       "        text-align: right;\n",
       "    }\n",
       "</style>\n",
       "<table border=\"1\" class=\"dataframe\">\n",
       "  <thead>\n",
       "    <tr style=\"text-align: right;\">\n",
       "      <th></th>\n",
       "      <th>id</th>\n",
       "      <th>call_date</th>\n",
       "      <th>duration</th>\n",
       "      <th>user_id</th>\n",
       "    </tr>\n",
       "  </thead>\n",
       "  <tbody>\n",
       "    <tr>\n",
       "      <th>0</th>\n",
       "      <td>1000_0</td>\n",
       "      <td>2018-07-25</td>\n",
       "      <td>0.00</td>\n",
       "      <td>1000</td>\n",
       "    </tr>\n",
       "    <tr>\n",
       "      <th>1</th>\n",
       "      <td>1000_1</td>\n",
       "      <td>2018-08-17</td>\n",
       "      <td>0.00</td>\n",
       "      <td>1000</td>\n",
       "    </tr>\n",
       "    <tr>\n",
       "      <th>2</th>\n",
       "      <td>1000_2</td>\n",
       "      <td>2018-06-11</td>\n",
       "      <td>2.85</td>\n",
       "      <td>1000</td>\n",
       "    </tr>\n",
       "    <tr>\n",
       "      <th>3</th>\n",
       "      <td>1000_3</td>\n",
       "      <td>2018-09-21</td>\n",
       "      <td>13.80</td>\n",
       "      <td>1000</td>\n",
       "    </tr>\n",
       "    <tr>\n",
       "      <th>4</th>\n",
       "      <td>1000_4</td>\n",
       "      <td>2018-12-15</td>\n",
       "      <td>5.18</td>\n",
       "      <td>1000</td>\n",
       "    </tr>\n",
       "  </tbody>\n",
       "</table>\n",
       "</div>"
      ],
      "text/plain": [
       "       id   call_date  duration  user_id\n",
       "0  1000_0  2018-07-25      0.00     1000\n",
       "1  1000_1  2018-08-17      0.00     1000\n",
       "2  1000_2  2018-06-11      2.85     1000\n",
       "3  1000_3  2018-09-21     13.80     1000\n",
       "4  1000_4  2018-12-15      5.18     1000"
      ]
     },
     "execution_count": 3,
     "metadata": {},
     "output_type": "execute_result"
    }
   ],
   "source": [
    "d_calls.head()"
   ]
  },
  {
   "cell_type": "markdown",
   "id": "0ee11e2b",
   "metadata": {},
   "source": [
    "Таблица calls (информация о звонках)\n",
    "\n",
    "Пропусков нет."
   ]
  },
  {
   "cell_type": "markdown",
   "id": "7ddd5838",
   "metadata": {},
   "source": [
    "#### Трафик"
   ]
  },
  {
   "cell_type": "code",
   "execution_count": 9,
   "id": "1c3ad625",
   "metadata": {},
   "outputs": [
    {
     "data": {
      "text/html": [
       "<div>\n",
       "<style scoped>\n",
       "    .dataframe tbody tr th:only-of-type {\n",
       "        vertical-align: middle;\n",
       "    }\n",
       "\n",
       "    .dataframe tbody tr th {\n",
       "        vertical-align: top;\n",
       "    }\n",
       "\n",
       "    .dataframe thead th {\n",
       "        text-align: right;\n",
       "    }\n",
       "</style>\n",
       "<table border=\"1\" class=\"dataframe\">\n",
       "  <thead>\n",
       "    <tr style=\"text-align: right;\">\n",
       "      <th></th>\n",
       "      <th>id</th>\n",
       "      <th>mb_used</th>\n",
       "      <th>session_date</th>\n",
       "      <th>user_id</th>\n",
       "    </tr>\n",
       "  </thead>\n",
       "  <tbody>\n",
       "    <tr>\n",
       "      <th>0</th>\n",
       "      <td>1000_0</td>\n",
       "      <td>112.95</td>\n",
       "      <td>2018-11-25</td>\n",
       "      <td>1000</td>\n",
       "    </tr>\n",
       "    <tr>\n",
       "      <th>1</th>\n",
       "      <td>1000_1</td>\n",
       "      <td>1052.81</td>\n",
       "      <td>2018-09-07</td>\n",
       "      <td>1000</td>\n",
       "    </tr>\n",
       "    <tr>\n",
       "      <th>2</th>\n",
       "      <td>1000_2</td>\n",
       "      <td>1197.26</td>\n",
       "      <td>2018-06-25</td>\n",
       "      <td>1000</td>\n",
       "    </tr>\n",
       "    <tr>\n",
       "      <th>3</th>\n",
       "      <td>1000_3</td>\n",
       "      <td>550.27</td>\n",
       "      <td>2018-08-22</td>\n",
       "      <td>1000</td>\n",
       "    </tr>\n",
       "    <tr>\n",
       "      <th>4</th>\n",
       "      <td>1000_4</td>\n",
       "      <td>302.56</td>\n",
       "      <td>2018-09-24</td>\n",
       "      <td>1000</td>\n",
       "    </tr>\n",
       "  </tbody>\n",
       "</table>\n",
       "</div>"
      ],
      "text/plain": [
       "       id  mb_used session_date  user_id\n",
       "0  1000_0   112.95   2018-11-25     1000\n",
       "1  1000_1  1052.81   2018-09-07     1000\n",
       "2  1000_2  1197.26   2018-06-25     1000\n",
       "3  1000_3   550.27   2018-08-22     1000\n",
       "4  1000_4   302.56   2018-09-24     1000"
      ]
     },
     "execution_count": 9,
     "metadata": {},
     "output_type": "execute_result"
    }
   ],
   "source": [
    "d_internet.head()"
   ]
  },
  {
   "cell_type": "markdown",
   "id": "78433399",
   "metadata": {},
   "source": [
    "Таблица internet (информация об интернет-сессиях)\n",
    "Пропусков нет\n"
   ]
  },
  {
   "cell_type": "markdown",
   "id": "ff7c7477",
   "metadata": {},
   "source": [
    "#### Сообщения"
   ]
  },
  {
   "cell_type": "markdown",
   "id": "c97b0fe2",
   "metadata": {},
   "source": [
    "Таблица messages (информация о сообщениях)\n",
    "\n",
    "пропусков нет"
   ]
  },
  {
   "cell_type": "markdown",
   "id": "3dc153b3",
   "metadata": {},
   "source": [
    "#### Тарифы"
   ]
  },
  {
   "cell_type": "code",
   "execution_count": 18,
   "id": "2127ca3f",
   "metadata": {},
   "outputs": [
    {
     "data": {
      "text/html": [
       "<div>\n",
       "<style scoped>\n",
       "    .dataframe tbody tr th:only-of-type {\n",
       "        vertical-align: middle;\n",
       "    }\n",
       "\n",
       "    .dataframe tbody tr th {\n",
       "        vertical-align: top;\n",
       "    }\n",
       "\n",
       "    .dataframe thead th {\n",
       "        text-align: right;\n",
       "    }\n",
       "</style>\n",
       "<table border=\"1\" class=\"dataframe\">\n",
       "  <thead>\n",
       "    <tr style=\"text-align: right;\">\n",
       "      <th></th>\n",
       "      <th>messages_included</th>\n",
       "      <th>mb_per_month_included</th>\n",
       "      <th>minutes_included</th>\n",
       "      <th>rub_monthly_fee</th>\n",
       "      <th>rub_per_gb</th>\n",
       "      <th>rub_per_message</th>\n",
       "      <th>rub_per_minute</th>\n",
       "      <th>tariff_name</th>\n",
       "    </tr>\n",
       "  </thead>\n",
       "  <tbody>\n",
       "    <tr>\n",
       "      <th>0</th>\n",
       "      <td>50</td>\n",
       "      <td>15360</td>\n",
       "      <td>500</td>\n",
       "      <td>550</td>\n",
       "      <td>200</td>\n",
       "      <td>3</td>\n",
       "      <td>3</td>\n",
       "      <td>smart</td>\n",
       "    </tr>\n",
       "    <tr>\n",
       "      <th>1</th>\n",
       "      <td>1000</td>\n",
       "      <td>30720</td>\n",
       "      <td>3000</td>\n",
       "      <td>1950</td>\n",
       "      <td>150</td>\n",
       "      <td>1</td>\n",
       "      <td>1</td>\n",
       "      <td>ultra</td>\n",
       "    </tr>\n",
       "  </tbody>\n",
       "</table>\n",
       "</div>"
      ],
      "text/plain": [
       "   messages_included  mb_per_month_included  minutes_included  \\\n",
       "0                 50                  15360               500   \n",
       "1               1000                  30720              3000   \n",
       "\n",
       "   rub_monthly_fee  rub_per_gb  rub_per_message  rub_per_minute tariff_name  \n",
       "0              550         200                3               3       smart  \n",
       "1             1950         150                1               1       ultra  "
      ]
     },
     "execution_count": 18,
     "metadata": {},
     "output_type": "execute_result"
    }
   ],
   "source": [
    "d_tar.head()"
   ]
  },
  {
   "cell_type": "markdown",
   "id": "b96dde66",
   "metadata": {},
   "source": [
    "Таблица tariffs (информация о тарифах)\n"
   ]
  },
  {
   "cell_type": "markdown",
   "id": "2fe4a335",
   "metadata": {},
   "source": [
    "#### Пользователи"
   ]
  },
  {
   "cell_type": "code",
   "execution_count": 20,
   "id": "b5a32089",
   "metadata": {
    "scrolled": false
   },
   "outputs": [
    {
     "data": {
      "text/html": [
       "<div>\n",
       "<style scoped>\n",
       "    .dataframe tbody tr th:only-of-type {\n",
       "        vertical-align: middle;\n",
       "    }\n",
       "\n",
       "    .dataframe tbody tr th {\n",
       "        vertical-align: top;\n",
       "    }\n",
       "\n",
       "    .dataframe thead th {\n",
       "        text-align: right;\n",
       "    }\n",
       "</style>\n",
       "<table border=\"1\" class=\"dataframe\">\n",
       "  <thead>\n",
       "    <tr style=\"text-align: right;\">\n",
       "      <th></th>\n",
       "      <th>user_id</th>\n",
       "      <th>age</th>\n",
       "      <th>churn_date</th>\n",
       "      <th>city</th>\n",
       "      <th>first_name</th>\n",
       "      <th>last_name</th>\n",
       "      <th>reg_date</th>\n",
       "      <th>tariff</th>\n",
       "    </tr>\n",
       "  </thead>\n",
       "  <tbody>\n",
       "    <tr>\n",
       "      <th>0</th>\n",
       "      <td>1000</td>\n",
       "      <td>52</td>\n",
       "      <td>NaN</td>\n",
       "      <td>Краснодар</td>\n",
       "      <td>Рафаил</td>\n",
       "      <td>Верещагин</td>\n",
       "      <td>2018-05-25</td>\n",
       "      <td>ultra</td>\n",
       "    </tr>\n",
       "    <tr>\n",
       "      <th>1</th>\n",
       "      <td>1001</td>\n",
       "      <td>41</td>\n",
       "      <td>NaN</td>\n",
       "      <td>Москва</td>\n",
       "      <td>Иван</td>\n",
       "      <td>Ежов</td>\n",
       "      <td>2018-11-01</td>\n",
       "      <td>smart</td>\n",
       "    </tr>\n",
       "    <tr>\n",
       "      <th>2</th>\n",
       "      <td>1002</td>\n",
       "      <td>59</td>\n",
       "      <td>NaN</td>\n",
       "      <td>Стерлитамак</td>\n",
       "      <td>Евгений</td>\n",
       "      <td>Абрамович</td>\n",
       "      <td>2018-06-17</td>\n",
       "      <td>smart</td>\n",
       "    </tr>\n",
       "    <tr>\n",
       "      <th>3</th>\n",
       "      <td>1003</td>\n",
       "      <td>23</td>\n",
       "      <td>NaN</td>\n",
       "      <td>Москва</td>\n",
       "      <td>Белла</td>\n",
       "      <td>Белякова</td>\n",
       "      <td>2018-08-17</td>\n",
       "      <td>ultra</td>\n",
       "    </tr>\n",
       "    <tr>\n",
       "      <th>4</th>\n",
       "      <td>1004</td>\n",
       "      <td>68</td>\n",
       "      <td>NaN</td>\n",
       "      <td>Новокузнецк</td>\n",
       "      <td>Татьяна</td>\n",
       "      <td>Авдеенко</td>\n",
       "      <td>2018-05-14</td>\n",
       "      <td>ultra</td>\n",
       "    </tr>\n",
       "  </tbody>\n",
       "</table>\n",
       "</div>"
      ],
      "text/plain": [
       "   user_id  age churn_date         city first_name  last_name    reg_date  \\\n",
       "0     1000   52        NaN    Краснодар     Рафаил  Верещагин  2018-05-25   \n",
       "1     1001   41        NaN       Москва       Иван       Ежов  2018-11-01   \n",
       "2     1002   59        NaN  Стерлитамак    Евгений  Абрамович  2018-06-17   \n",
       "3     1003   23        NaN       Москва      Белла   Белякова  2018-08-17   \n",
       "4     1004   68        NaN  Новокузнецк    Татьяна   Авдеенко  2018-05-14   \n",
       "\n",
       "  tariff  \n",
       "0  ultra  \n",
       "1  smart  \n",
       "2  smart  \n",
       "3  ultra  \n",
       "4  ultra  "
      ]
     },
     "execution_count": 20,
     "metadata": {},
     "output_type": "execute_result"
    }
   ],
   "source": [
    "d_users.head()"
   ]
  },
  {
   "cell_type": "code",
   "execution_count": 24,
   "id": "9cd174f5",
   "metadata": {
    "scrolled": true
   },
   "outputs": [
    {
     "data": {
      "text/plain": [
       "Москва             99\n",
       "Санкт-Петербург    39\n",
       "Новосибирск        16\n",
       "Омск               14\n",
       "Казань             14\n",
       "                   ..\n",
       "Нижневартовск       1\n",
       "Иваново             1\n",
       "Химки               1\n",
       "Подольск            1\n",
       "Архангельск         1\n",
       "Name: city, Length: 76, dtype: int64"
      ]
     },
     "execution_count": 24,
     "metadata": {},
     "output_type": "execute_result"
    }
   ],
   "source": [
    "d_users['city'].value_counts()"
   ]
  },
  {
   "cell_type": "markdown",
   "id": "681e5bbc",
   "metadata": {},
   "source": [
    "Таблица users (информация о пользователях):\n",
    "\n",
    "Пропусков нет, в двух столбцах надо поменять тип данных."
   ]
  },
  {
   "cell_type": "markdown",
   "id": "721caf9d",
   "metadata": {},
   "source": [
    "В выгрузке содержится пять файлов с данными по звонкам, СМС, трафику, тарифам и пользователям. Данные выгружены за 2018 год по 500 пользователям, средний возраст пользователей 46 лет, минимальный 18, самому старшему 75 лет. Пользователи из 76 населенных пунктов, в основном из Москвы. \n",
    "Пользователей с тарифом \"Смарт\" 70%"
   ]
  },
  {
   "cell_type": "markdown",
   "id": "a79bfc9a",
   "metadata": {},
   "source": [
    "## Шаг 2. Подготовка данных"
   ]
  },
  {
   "cell_type": "markdown",
   "id": "ac9cb0fe",
   "metadata": {},
   "source": [
    "#### Подготовка данных (замена типов, ошибки, заполнение пропусков и т.д.)"
   ]
  },
  {
   "cell_type": "markdown",
   "id": "150f40b2",
   "metadata": {},
   "source": [
    "#поменять тип данных\n",
    "d_users[age] на целое\n",
    "d_users reg_date     на дату"
   ]
  },
  {
   "cell_type": "markdown",
   "id": "eccd1664",
   "metadata": {},
   "source": [
    "Округлить длительность звонков до целого"
   ]
  },
  {
   "cell_type": "markdown",
   "id": "bd8306e9",
   "metadata": {},
   "source": [
    "#### Подготовка пользовательских данных (звонки, смс, объем трафика и т.д.)"
   ]
  },
  {
   "cell_type": "markdown",
   "id": "d13fade9",
   "metadata": {},
   "source": [
    "Посчитайте для каждого пользователя:\n",
    "•\tколичество сделанных звонков и израсходованных минут разговора по месяцам;\n",
    "•\tколичество отправленных сообщений по месяцам;\n",
    "•\tобъем израсходованного интернет-трафика по месяцам;\n",
    "•\tпомесячную выручку с каждого пользователя (вычтите бесплатный лимит из суммарного количества звонков, сообщений и интернет-трафика; остаток умножьте на значение из тарифного плана; прибавьте абонентскую плату, соответствующую тарифному плану).\n"
   ]
  },
  {
   "cell_type": "code",
   "execution_count": 35,
   "id": "4bad375b",
   "metadata": {},
   "outputs": [],
   "source": [
    "#ДОБАВИТЬ СТОЛБЕЦ МЕСЯЦ В ТАБЛИЦУ ЗВОНКОВ\n",
    "d_calls['calls_month'] = d_calls['call_date'].dt.month"
   ]
  },
  {
   "cell_type": "code",
   "execution_count": 37,
   "id": "cd27cf96",
   "metadata": {},
   "outputs": [],
   "source": [
    "#ДОБАВИТЬ СТОЛБЕЦ МЕСЯЦ В ТАБЛИЦУ СООБЩЕНИЙ\n",
    "d_mess['message_month'] = d_mess['message_date'].dt.month"
   ]
  },
  {
   "cell_type": "code",
   "execution_count": 39,
   "id": "17954b03",
   "metadata": {},
   "outputs": [],
   "source": [
    "#ДОБАВИТЬ СТОЛБЕЦ МЕСЯЦ В ТАБЛИЦУ интернет-сессий\n",
    "d_internet['session_month'] = d_internet['session_date'].dt.month"
   ]
  },
  {
   "cell_type": "markdown",
   "id": "4bc41a84",
   "metadata": {},
   "source": [
    "#### Объединение таблиц"
   ]
  },
  {
   "cell_type": "markdown",
   "id": "a9e98702",
   "metadata": {},
   "source": [
    "•\tпомесячную выручку с каждого пользователя (вычтите бесплатный лимит из суммарного количества звонков, сообщений и интернет-трафика; остаток умножьте на значение из тарифного плана; прибавьте абонентскую плату, соответствующую тарифному плану)."
   ]
  },
  {
   "cell_type": "code",
   "execution_count": 59,
   "id": "08ea5ff8",
   "metadata": {
    "scrolled": true
   },
   "outputs": [
    {
     "data": {
      "text/html": [
       "<div>\n",
       "<style scoped>\n",
       "    .dataframe tbody tr th:only-of-type {\n",
       "        vertical-align: middle;\n",
       "    }\n",
       "\n",
       "    .dataframe tbody tr th {\n",
       "        vertical-align: top;\n",
       "    }\n",
       "\n",
       "    .dataframe thead th {\n",
       "        text-align: right;\n",
       "    }\n",
       "</style>\n",
       "<table border=\"1\" class=\"dataframe\">\n",
       "  <thead>\n",
       "    <tr style=\"text-align: right;\">\n",
       "      <th></th>\n",
       "      <th>user_id</th>\n",
       "      <th>month</th>\n",
       "      <th>calls_count</th>\n",
       "      <th>calls_sum</th>\n",
       "      <th>mb_used__sum</th>\n",
       "      <th>gb_used</th>\n",
       "      <th>message__count</th>\n",
       "      <th>age</th>\n",
       "      <th>churn_date</th>\n",
       "      <th>city</th>\n",
       "      <th>...</th>\n",
       "      <th>minutes_included</th>\n",
       "      <th>rub_monthly_fee</th>\n",
       "      <th>rub_per_gb</th>\n",
       "      <th>rub_per_message</th>\n",
       "      <th>rub_per_minute</th>\n",
       "      <th>tariff_name</th>\n",
       "      <th>messages_balance</th>\n",
       "      <th>internet_balance</th>\n",
       "      <th>calls_balance</th>\n",
       "      <th>revenue</th>\n",
       "    </tr>\n",
       "  </thead>\n",
       "  <tbody>\n",
       "    <tr>\n",
       "      <th>50</th>\n",
       "      <td>1024</td>\n",
       "      <td>11.0</td>\n",
       "      <td>157.0</td>\n",
       "      <td>1146.0</td>\n",
       "      <td>43107.47</td>\n",
       "      <td>43.0</td>\n",
       "      <td>0.0</td>\n",
       "      <td>73</td>\n",
       "      <td>NaT</td>\n",
       "      <td>Санкт-Петербург</td>\n",
       "      <td>...</td>\n",
       "      <td>3000</td>\n",
       "      <td>1950</td>\n",
       "      <td>150</td>\n",
       "      <td>1</td>\n",
       "      <td>1</td>\n",
       "      <td>ultra</td>\n",
       "      <td>1000.0</td>\n",
       "      <td>-13.0</td>\n",
       "      <td>1854.0</td>\n",
       "      <td>3900.0</td>\n",
       "    </tr>\n",
       "    <tr>\n",
       "      <th>51</th>\n",
       "      <td>1024</td>\n",
       "      <td>12.0</td>\n",
       "      <td>136.0</td>\n",
       "      <td>949.0</td>\n",
       "      <td>35948.13</td>\n",
       "      <td>36.0</td>\n",
       "      <td>0.0</td>\n",
       "      <td>73</td>\n",
       "      <td>NaT</td>\n",
       "      <td>Санкт-Петербург</td>\n",
       "      <td>...</td>\n",
       "      <td>3000</td>\n",
       "      <td>1950</td>\n",
       "      <td>150</td>\n",
       "      <td>1</td>\n",
       "      <td>1</td>\n",
       "      <td>ultra</td>\n",
       "      <td>1000.0</td>\n",
       "      <td>-6.0</td>\n",
       "      <td>2051.0</td>\n",
       "      <td>2850.0</td>\n",
       "    </tr>\n",
       "    <tr>\n",
       "      <th>78</th>\n",
       "      <td>1050</td>\n",
       "      <td>7.0</td>\n",
       "      <td>35.0</td>\n",
       "      <td>209.0</td>\n",
       "      <td>35177.91</td>\n",
       "      <td>35.0</td>\n",
       "      <td>52.0</td>\n",
       "      <td>44</td>\n",
       "      <td>2018-10-03</td>\n",
       "      <td>Тюмень</td>\n",
       "      <td>...</td>\n",
       "      <td>3000</td>\n",
       "      <td>1950</td>\n",
       "      <td>150</td>\n",
       "      <td>1</td>\n",
       "      <td>1</td>\n",
       "      <td>ultra</td>\n",
       "      <td>948.0</td>\n",
       "      <td>-5.0</td>\n",
       "      <td>2791.0</td>\n",
       "      <td>2700.0</td>\n",
       "    </tr>\n",
       "    <tr>\n",
       "      <th>97</th>\n",
       "      <td>1060</td>\n",
       "      <td>12.0</td>\n",
       "      <td>184.0</td>\n",
       "      <td>1233.0</td>\n",
       "      <td>43931.36</td>\n",
       "      <td>43.0</td>\n",
       "      <td>52.0</td>\n",
       "      <td>46</td>\n",
       "      <td>NaT</td>\n",
       "      <td>Калуга</td>\n",
       "      <td>...</td>\n",
       "      <td>3000</td>\n",
       "      <td>1950</td>\n",
       "      <td>150</td>\n",
       "      <td>1</td>\n",
       "      <td>1</td>\n",
       "      <td>ultra</td>\n",
       "      <td>948.0</td>\n",
       "      <td>-13.0</td>\n",
       "      <td>1767.0</td>\n",
       "      <td>3900.0</td>\n",
       "    </tr>\n",
       "    <tr>\n",
       "      <th>211</th>\n",
       "      <td>1124</td>\n",
       "      <td>10.0</td>\n",
       "      <td>152.0</td>\n",
       "      <td>1225.0</td>\n",
       "      <td>49745.69</td>\n",
       "      <td>49.0</td>\n",
       "      <td>121.0</td>\n",
       "      <td>54</td>\n",
       "      <td>NaT</td>\n",
       "      <td>Махачкала</td>\n",
       "      <td>...</td>\n",
       "      <td>3000</td>\n",
       "      <td>1950</td>\n",
       "      <td>150</td>\n",
       "      <td>1</td>\n",
       "      <td>1</td>\n",
       "      <td>ultra</td>\n",
       "      <td>879.0</td>\n",
       "      <td>-19.0</td>\n",
       "      <td>1775.0</td>\n",
       "      <td>4800.0</td>\n",
       "    </tr>\n",
       "    <tr>\n",
       "      <th>...</th>\n",
       "      <td>...</td>\n",
       "      <td>...</td>\n",
       "      <td>...</td>\n",
       "      <td>...</td>\n",
       "      <td>...</td>\n",
       "      <td>...</td>\n",
       "      <td>...</td>\n",
       "      <td>...</td>\n",
       "      <td>...</td>\n",
       "      <td>...</td>\n",
       "      <td>...</td>\n",
       "      <td>...</td>\n",
       "      <td>...</td>\n",
       "      <td>...</td>\n",
       "      <td>...</td>\n",
       "      <td>...</td>\n",
       "      <td>...</td>\n",
       "      <td>...</td>\n",
       "      <td>...</td>\n",
       "      <td>...</td>\n",
       "      <td>...</td>\n",
       "    </tr>\n",
       "    <tr>\n",
       "      <th>2380</th>\n",
       "      <td>1306</td>\n",
       "      <td>12.0</td>\n",
       "      <td>66.0</td>\n",
       "      <td>484.0</td>\n",
       "      <td>34912.13</td>\n",
       "      <td>35.0</td>\n",
       "      <td>0.0</td>\n",
       "      <td>21</td>\n",
       "      <td>NaT</td>\n",
       "      <td>Чита</td>\n",
       "      <td>...</td>\n",
       "      <td>500</td>\n",
       "      <td>550</td>\n",
       "      <td>200</td>\n",
       "      <td>3</td>\n",
       "      <td>3</td>\n",
       "      <td>smart</td>\n",
       "      <td>50.0</td>\n",
       "      <td>-20.0</td>\n",
       "      <td>16.0</td>\n",
       "      <td>4550.0</td>\n",
       "    </tr>\n",
       "    <tr>\n",
       "      <th>2685</th>\n",
       "      <td>1386</td>\n",
       "      <td>9.0</td>\n",
       "      <td>69.0</td>\n",
       "      <td>352.0</td>\n",
       "      <td>31014.49</td>\n",
       "      <td>31.0</td>\n",
       "      <td>53.0</td>\n",
       "      <td>21</td>\n",
       "      <td>NaT</td>\n",
       "      <td>Новосибирск</td>\n",
       "      <td>...</td>\n",
       "      <td>500</td>\n",
       "      <td>550</td>\n",
       "      <td>200</td>\n",
       "      <td>3</td>\n",
       "      <td>3</td>\n",
       "      <td>smart</td>\n",
       "      <td>-3.0</td>\n",
       "      <td>-16.0</td>\n",
       "      <td>148.0</td>\n",
       "      <td>3759.0</td>\n",
       "    </tr>\n",
       "    <tr>\n",
       "      <th>3043</th>\n",
       "      <td>1464</td>\n",
       "      <td>12.0</td>\n",
       "      <td>84.0</td>\n",
       "      <td>555.0</td>\n",
       "      <td>31564.25</td>\n",
       "      <td>31.0</td>\n",
       "      <td>29.0</td>\n",
       "      <td>44</td>\n",
       "      <td>NaT</td>\n",
       "      <td>Саранск</td>\n",
       "      <td>...</td>\n",
       "      <td>500</td>\n",
       "      <td>550</td>\n",
       "      <td>200</td>\n",
       "      <td>3</td>\n",
       "      <td>3</td>\n",
       "      <td>smart</td>\n",
       "      <td>21.0</td>\n",
       "      <td>-16.0</td>\n",
       "      <td>-55.0</td>\n",
       "      <td>3915.0</td>\n",
       "    </tr>\n",
       "    <tr>\n",
       "      <th>3157</th>\n",
       "      <td>1486</td>\n",
       "      <td>11.0</td>\n",
       "      <td>108.0</td>\n",
       "      <td>764.0</td>\n",
       "      <td>36266.11</td>\n",
       "      <td>36.0</td>\n",
       "      <td>96.0</td>\n",
       "      <td>35</td>\n",
       "      <td>NaT</td>\n",
       "      <td>Нижний Новгород</td>\n",
       "      <td>...</td>\n",
       "      <td>500</td>\n",
       "      <td>550</td>\n",
       "      <td>200</td>\n",
       "      <td>3</td>\n",
       "      <td>3</td>\n",
       "      <td>smart</td>\n",
       "      <td>-46.0</td>\n",
       "      <td>-21.0</td>\n",
       "      <td>-264.0</td>\n",
       "      <td>5680.0</td>\n",
       "    </tr>\n",
       "    <tr>\n",
       "      <th>3158</th>\n",
       "      <td>1486</td>\n",
       "      <td>12.0</td>\n",
       "      <td>133.0</td>\n",
       "      <td>1007.0</td>\n",
       "      <td>38552.45</td>\n",
       "      <td>38.0</td>\n",
       "      <td>83.0</td>\n",
       "      <td>35</td>\n",
       "      <td>NaT</td>\n",
       "      <td>Нижний Новгород</td>\n",
       "      <td>...</td>\n",
       "      <td>500</td>\n",
       "      <td>550</td>\n",
       "      <td>200</td>\n",
       "      <td>3</td>\n",
       "      <td>3</td>\n",
       "      <td>smart</td>\n",
       "      <td>-33.0</td>\n",
       "      <td>-23.0</td>\n",
       "      <td>-507.0</td>\n",
       "      <td>6770.0</td>\n",
       "    </tr>\n",
       "  </tbody>\n",
       "</table>\n",
       "<p>152 rows × 27 columns</p>\n",
       "</div>"
      ],
      "text/plain": [
       "      user_id  month  calls_count  calls_sum  mb_used__sum  gb_used  \\\n",
       "50       1024   11.0        157.0     1146.0      43107.47     43.0   \n",
       "51       1024   12.0        136.0      949.0      35948.13     36.0   \n",
       "78       1050    7.0         35.0      209.0      35177.91     35.0   \n",
       "97       1060   12.0        184.0     1233.0      43931.36     43.0   \n",
       "211      1124   10.0        152.0     1225.0      49745.69     49.0   \n",
       "...       ...    ...          ...        ...           ...      ...   \n",
       "2380     1306   12.0         66.0      484.0      34912.13     35.0   \n",
       "2685     1386    9.0         69.0      352.0      31014.49     31.0   \n",
       "3043     1464   12.0         84.0      555.0      31564.25     31.0   \n",
       "3157     1486   11.0        108.0      764.0      36266.11     36.0   \n",
       "3158     1486   12.0        133.0     1007.0      38552.45     38.0   \n",
       "\n",
       "      message__count  age churn_date             city  ... minutes_included  \\\n",
       "50               0.0   73        NaT  Санкт-Петербург  ...             3000   \n",
       "51               0.0   73        NaT  Санкт-Петербург  ...             3000   \n",
       "78              52.0   44 2018-10-03           Тюмень  ...             3000   \n",
       "97              52.0   46        NaT           Калуга  ...             3000   \n",
       "211            121.0   54        NaT        Махачкала  ...             3000   \n",
       "...              ...  ...        ...              ...  ...              ...   \n",
       "2380             0.0   21        NaT             Чита  ...              500   \n",
       "2685            53.0   21        NaT      Новосибирск  ...              500   \n",
       "3043            29.0   44        NaT          Саранск  ...              500   \n",
       "3157            96.0   35        NaT  Нижний Новгород  ...              500   \n",
       "3158            83.0   35        NaT  Нижний Новгород  ...              500   \n",
       "\n",
       "     rub_monthly_fee rub_per_gb rub_per_message rub_per_minute  tariff_name  \\\n",
       "50              1950        150               1              1        ultra   \n",
       "51              1950        150               1              1        ultra   \n",
       "78              1950        150               1              1        ultra   \n",
       "97              1950        150               1              1        ultra   \n",
       "211             1950        150               1              1        ultra   \n",
       "...              ...        ...             ...            ...          ...   \n",
       "2380             550        200               3              3        smart   \n",
       "2685             550        200               3              3        smart   \n",
       "3043             550        200               3              3        smart   \n",
       "3157             550        200               3              3        smart   \n",
       "3158             550        200               3              3        smart   \n",
       "\n",
       "      messages_balance  internet_balance  calls_balance  revenue  \n",
       "50              1000.0             -13.0         1854.0   3900.0  \n",
       "51              1000.0              -6.0         2051.0   2850.0  \n",
       "78               948.0              -5.0         2791.0   2700.0  \n",
       "97               948.0             -13.0         1767.0   3900.0  \n",
       "211              879.0             -19.0         1775.0   4800.0  \n",
       "...                ...               ...            ...      ...  \n",
       "2380              50.0             -20.0           16.0   4550.0  \n",
       "2685              -3.0             -16.0          148.0   3759.0  \n",
       "3043              21.0             -16.0          -55.0   3915.0  \n",
       "3157             -46.0             -21.0         -264.0   5680.0  \n",
       "3158             -33.0             -23.0         -507.0   6770.0  \n",
       "\n",
       "[152 rows x 27 columns]"
      ]
     },
     "metadata": {},
     "output_type": "display_data"
    }
   ],
   "source": [
    "#остаток сообщений\n",
    "d_summary['messages_balance'] = d_summary['messages_included']-d_summary['message__count']\n",
    "#остаток трафика\n",
    "d_summary['internet_balance'] = (d_summary['mb_per_month_included']/1024)-d_summary['gb_used']\n",
    "#остаток звонков\n",
    "d_summary['calls_balance'] = d_summary['minutes_included']-d_summary['calls_sum']\n",
    "# выручка за месяц\n",
    "\n",
    "def revenue(row):\n",
    "\n",
    "#Считает выручку за месяц с учетом превышения лимита по сообщениям, трафику и длительности звонка\n",
    "\n",
    "    revenue = row['rub_monthly_fee']\n",
    "    messages_balance =row['message__count']-row['messages_included']\n",
    "    internet_balance = row['gb_used']-(row['mb_per_month_included']/1024)\n",
    "    calls_balance = row['calls_sum']-row['minutes_included']\n",
    "    revenue_msg=0\n",
    "    revenue_int=0\n",
    "    revenue_cls=0\n",
    "    \n",
    "    \n",
    "    if messages_balance >0:\n",
    "        revenue_msg = messages_balance*row['rub_per_message']\n",
    "    else:\n",
    "        revenue_msg=0    \n",
    "    if internet_balance >0:\n",
    "        revenue_int = internet_balance*row['rub_per_gb']\n",
    "    else:\n",
    "        revenue_int=0    \n",
    "    if calls_balance>0:   \n",
    "        revenue_cls = calls_balance*row['rub_per_minute']\n",
    "    else:\n",
    "        revenue_cls=0\n",
    "    revenue = revenue+revenue_msg+revenue_int+revenue_cls\n",
    "    #print(revenue_msg, revenue_int, revenue_cls)\n",
    "    return revenue\n",
    "\n",
    "    \n",
    "    \n",
    "#test = d_summary.query('gb_used>=31')\n",
    "#test['revenue'] = test.apply(revenue, axis=1) \n",
    "\n",
    "d_summary['revenue'] = d_summary.apply(revenue, axis=1) \n",
    "display(d_summary.query('gb_used>=31'))\n"
   ]
  },
  {
   "cell_type": "markdown",
   "id": "81d2bff6",
   "metadata": {},
   "source": [
    "## Шаг 3. Анализ данных"
   ]
  },
  {
   "cell_type": "markdown",
   "id": "5f79c663",
   "metadata": {},
   "source": [
    "Опишите поведение клиентов оператора, исходя из выборки. Сколько минут разговора, сколько сообщений и какой объём интернет-трафика требуется пользователям каждого тарифа в месяц? Посчитайте среднее количество, дисперсию и стандартное отклонение. Постройте гистограммы. Опишите распределения."
   ]
  },
  {
   "cell_type": "code",
   "execution_count": 63,
   "id": "abcbf19f",
   "metadata": {
    "scrolled": true
   },
   "outputs": [
    {
     "data": {
      "image/png": "[encoded data removed]",
      "text/plain": [
       "<Figure size 432x288 with 1 Axes>"
      ]
     },
     "metadata": {
      "needs_background": "light"
     },
     "output_type": "display_data"
    },
    {
     "name": "stdout",
     "output_type": "stream",
     "text": [
      "Дисперсия по тарифу Ультра 78867.04136496516\n",
      "Дисперсия по тарифу Смарт 20974.051039437672\n"
     ]
    }
   ],
   "source": [
    "d_ultra['calls_sum'].hist(alpha=0.5, bins=30, label='Ультра')\n",
    "plt.legend()\n",
    "d_smart['calls_sum'].hist(alpha=0.5, bins=30, label='Смарт')\n",
    "plt.legend()\n",
    "plt.xlabel(\"Использовано минут\")\n",
    "plt.ylabel(\"Кол-во пользователей\")\n",
    "plt.show()\n",
    "print('Дисперсия по тарифу Ультра', np.var(d_ultra['calls_sum']))\n",
    "print('Дисперсия по тарифу Смарт', np.var(d_smart['calls_sum']))"
   ]
  },
  {
   "cell_type": "markdown",
   "id": "3942d4ea",
   "metadata": {},
   "source": [
    "Тариф Смарт - включено 500 мин разговора (50% пользователей не укладываются в это время), в среднем используют 419 мин\n",
    "Тариф Ультра - включено 3000 мин разговора (пользователи не выговаривают это время), в среднем используют 527 мин\n",
    "На обоих тарифах есть пользователи с нулевой длительностью звонков, предположу, что исопльзуют тарифы только для интернета."
   ]
  },
  {
   "cell_type": "code",
   "execution_count": 65,
   "id": "18d25318",
   "metadata": {},
   "outputs": [
    {
     "name": "stdout",
     "output_type": "stream",
     "text": [
      "Дисперсия по тарифу Ультра 2135.302923096238\n",
      "Дисперсия по тарифу Смарт 700.9015956121176\n"
     ]
    },
    {
     "data": {
      "image/png": "[encoded data removed]",
      "text/plain": [
       "<Figure size 432x288 with 1 Axes>"
      ]
     },
     "metadata": {
      "needs_background": "light"
     },
     "output_type": "display_data"
    }
   ],
   "source": [
    "d_ultra['message__count'].hist(alpha=0.5, bins=50, label='Ультра')\n",
    "plt.legend()\n",
    "d_smart['message__count'].hist(alpha=0.5, bins=50, label='Смарт')\n",
    "plt.legend()\n",
    "plt.xlabel(\"Использовано сообщений\")\n",
    "plt.ylabel(\"Кол-во пользователей\")\n",
    "plt.show\n",
    "print('Дисперсия по тарифу Ультра', np.var(d_ultra['message__count']))\n",
    "print('Дисперсия по тарифу Смарт', np.var(d_smart['message__count']))"
   ]
  },
  {
   "cell_type": "code",
   "execution_count": 66,
   "id": "5b94a303",
   "metadata": {
    "scrolled": true
   },
   "outputs": [
    {
     "data": {
      "text/html": [
       "<div>\n",
       "<style scoped>\n",
       "    .dataframe tbody tr th:only-of-type {\n",
       "        vertical-align: middle;\n",
       "    }\n",
       "\n",
       "    .dataframe tbody tr th {\n",
       "        vertical-align: top;\n",
       "    }\n",
       "\n",
       "    .dataframe thead th {\n",
       "        text-align: right;\n",
       "    }\n",
       "</style>\n",
       "<table border=\"1\" class=\"dataframe\">\n",
       "  <thead>\n",
       "    <tr style=\"text-align: right;\">\n",
       "      <th></th>\n",
       "      <th>Количество сообщений Смарт</th>\n",
       "      <th>Количество сообщений Ультра</th>\n",
       "    </tr>\n",
       "  </thead>\n",
       "  <tbody>\n",
       "    <tr>\n",
       "      <th>count</th>\n",
       "      <td>350.000000</td>\n",
       "      <td>148.000000</td>\n",
       "    </tr>\n",
       "    <tr>\n",
       "      <th>mean</th>\n",
       "      <td>32.352078</td>\n",
       "      <td>54.030743</td>\n",
       "    </tr>\n",
       "    <tr>\n",
       "      <th>std</th>\n",
       "      <td>26.512448</td>\n",
       "      <td>46.366246</td>\n",
       "    </tr>\n",
       "    <tr>\n",
       "      <th>min</th>\n",
       "      <td>0.000000</td>\n",
       "      <td>0.000000</td>\n",
       "    </tr>\n",
       "    <tr>\n",
       "      <th>25%</th>\n",
       "      <td>11.000000</td>\n",
       "      <td>17.000000</td>\n",
       "    </tr>\n",
       "    <tr>\n",
       "      <th>50%</th>\n",
       "      <td>27.750000</td>\n",
       "      <td>45.500000</td>\n",
       "    </tr>\n",
       "    <tr>\n",
       "      <th>75%</th>\n",
       "      <td>48.000000</td>\n",
       "      <td>84.250000</td>\n",
       "    </tr>\n",
       "    <tr>\n",
       "      <th>max</th>\n",
       "      <td>118.000000</td>\n",
       "      <td>192.000000</td>\n",
       "    </tr>\n",
       "  </tbody>\n",
       "</table>\n",
       "</div>"
      ],
      "text/plain": [
       "       Количество сообщений Смарт  Количество сообщений Ультра\n",
       "count                  350.000000                   148.000000\n",
       "mean                    32.352078                    54.030743\n",
       "std                     26.512448                    46.366246\n",
       "min                      0.000000                     0.000000\n",
       "25%                     11.000000                    17.000000\n",
       "50%                     27.750000                    45.500000\n",
       "75%                     48.000000                    84.250000\n",
       "max                    118.000000                   192.000000"
      ]
     },
     "execution_count": 66,
     "metadata": {},
     "output_type": "execute_result"
    }
   ],
   "source": [
    "msg = {'Количество сообщений Смарт':d_smart['message__count'].describe(),\n",
    "       'Количество сообщений Ультра':d_ultra['message__count'].describe()}\n",
    "table= pd.DataFrame(msg)         \n",
    "table"
   ]
  },
  {
   "cell_type": "markdown",
   "id": "b743cd5a",
   "metadata": {},
   "source": [
    "В Смарт включено 50 сообщений, в среднем 32 сообщения\n",
    "в Ультра 1000 сообщений, в среднем 54 сообщения.\n",
    "16% пользователей тарифа Ультра и 13% пользователей тарифа Смарт вообще не пользуются сообщениями."
   ]
  },
  {
   "cell_type": "code",
   "execution_count": 68,
   "id": "154bf96c",
   "metadata": {},
   "outputs": [
    {
     "name": "stdout",
     "output_type": "stream",
     "text": [
      "Дисперсия по тарифу Ультра 63.09800552536999\n",
      "Дисперсия по тарифу Смарт 12.206781890426399\n"
     ]
    },
    {
     "data": {
      "image/png": "[encoded data removed]",
      "text/plain": [
       "<Figure size 432x288 with 1 Axes>"
      ]
     },
     "metadata": {
      "needs_background": "light"
     },
     "output_type": "display_data"
    }
   ],
   "source": [
    "d_ultra['gb_used'].hist(alpha=0.5, bins=30, label='Ультра')\n",
    "plt.legend()\n",
    "d_smart['gb_used'].hist(alpha=0.5, bins=30, label='Смарт')\n",
    "plt.legend()\n",
    "plt.xlabel(\"Использовано Гб\")\n",
    "plt.ylabel(\"Кол-во пользователей\")\n",
    "plt.show\n",
    "print('Дисперсия по тарифу Ультра', np.var(d_ultra['gb_used']))\n",
    "print('Дисперсия по тарифу Смарт', np.var(d_smart['gb_used']))"
   ]
  },
  {
   "cell_type": "markdown",
   "id": "7f032d14",
   "metadata": {},
   "source": [
    "Тариф Смарт - включено 15 Гб трафика, в Ультра 30 Гб.\n",
    "На тарифе Смарт пакета хватает чуть меньше чем 50% пользователей, среднее по Смарту 16,33 Гб\n",
    "На тарифе Ультра- более 75%, среднее по Ультра 18,8 Гб"
   ]
  },
  {
   "cell_type": "code",
   "execution_count": 70,
   "id": "55cecdd5",
   "metadata": {},
   "outputs": [
    {
     "data": {
      "text/html": [
       "<div>\n",
       "<style scoped>\n",
       "    .dataframe tbody tr th:only-of-type {\n",
       "        vertical-align: middle;\n",
       "    }\n",
       "\n",
       "    .dataframe tbody tr th {\n",
       "        vertical-align: top;\n",
       "    }\n",
       "\n",
       "    .dataframe thead th {\n",
       "        text-align: right;\n",
       "    }\n",
       "</style>\n",
       "<table border=\"1\" class=\"dataframe\">\n",
       "  <thead>\n",
       "    <tr style=\"text-align: right;\">\n",
       "      <th></th>\n",
       "      <th>Средняя прибыль, Смарт</th>\n",
       "      <th>Средняя прибыль Гб, Ультра</th>\n",
       "    </tr>\n",
       "  </thead>\n",
       "  <tbody>\n",
       "    <tr>\n",
       "      <th>count</th>\n",
       "      <td>350.000000</td>\n",
       "      <td>148.000000</td>\n",
       "    </tr>\n",
       "    <tr>\n",
       "      <th>mean</th>\n",
       "      <td>1324.401019</td>\n",
       "      <td>2086.464659</td>\n",
       "    </tr>\n",
       "    <tr>\n",
       "      <th>std</th>\n",
       "      <td>606.040551</td>\n",
       "      <td>298.532720</td>\n",
       "    </tr>\n",
       "    <tr>\n",
       "      <th>min</th>\n",
       "      <td>550.000000</td>\n",
       "      <td>1950.000000</td>\n",
       "    </tr>\n",
       "    <tr>\n",
       "      <th>25%</th>\n",
       "      <td>867.550000</td>\n",
       "      <td>1950.000000</td>\n",
       "    </tr>\n",
       "    <tr>\n",
       "      <th>50%</th>\n",
       "      <td>1177.116667</td>\n",
       "      <td>1950.000000</td>\n",
       "    </tr>\n",
       "    <tr>\n",
       "      <th>75%</th>\n",
       "      <td>1667.250000</td>\n",
       "      <td>1990.625000</td>\n",
       "    </tr>\n",
       "    <tr>\n",
       "      <th>max</th>\n",
       "      <td>4333.333333</td>\n",
       "      <td>3225.000000</td>\n",
       "    </tr>\n",
       "  </tbody>\n",
       "</table>\n",
       "</div>"
      ],
      "text/plain": [
       "       Средняя прибыль, Смарт  Средняя прибыль Гб, Ультра\n",
       "count              350.000000                  148.000000\n",
       "mean              1324.401019                 2086.464659\n",
       "std                606.040551                  298.532720\n",
       "min                550.000000                 1950.000000\n",
       "25%                867.550000                 1950.000000\n",
       "50%               1177.116667                 1950.000000\n",
       "75%               1667.250000                 1990.625000\n",
       "max               4333.333333                 3225.000000"
      ]
     },
     "execution_count": 70,
     "metadata": {},
     "output_type": "execute_result"
    }
   ],
   "source": [
    "rev = {'Средняя прибыль, Смарт':d_smart['revenue'].describe(),\n",
    "         'Средняя прибыль Гб, Ультра':d_ultra['revenue'].describe()}\n",
    "table= pd.DataFrame(rev)         \n",
    "table"
   ]
  },
  {
   "cell_type": "markdown",
   "id": "eebf5c36",
   "metadata": {},
   "source": [
    "Больше 25% пользователей тарифа Смарт не укладываются в пакет. В пакет тарифа Ультра укладываются 75% пользователей."
   ]
  },
  {
   "cell_type": "markdown",
   "id": "d319612a",
   "metadata": {},
   "source": [
    "## Шаг 4. Проверка гипотез и пояснения"
   ]
  },
  {
   "cell_type": "markdown",
   "id": "089457a5",
   "metadata": {},
   "source": [
    "### Cредняя выручка пользователей тарифов «Ультра» и «Смарт» различаются"
   ]
  },
  {
   "cell_type": "markdown",
   "id": "fc5c9321",
   "metadata": {},
   "source": [
    "\n",
    "Н0 - средняя выручка пользователей тарифов  «Ультра» и «Смарт» равны\n",
    "\n",
    "н1 - средняя выручка пользователей тарифов  «Ультра» и «Смарт» не равны.\n",
    "\n",
    "Для проверки гипотезы использую t-test, т.к сравниваю средние разных выборок."
   ]
  },
  {
   "cell_type": "code",
   "execution_count": 73,
   "id": "778e5f8a",
   "metadata": {
    "scrolled": true
   },
   "outputs": [
    {
     "name": "stdout",
     "output_type": "stream",
     "text": [
      "p-значение: 2.983728825353049e-40\n",
      "Отвергаем нулевую гипотезу\n"
     ]
    }
   ],
   "source": [
    "alpha = .05 # критический уровень статистической значимости\n",
    "# если p-value окажется меньше него - отвергнем гипотезу\n",
    "ultra=d_ultra['revenue']\n",
    "smart=d_smart['revenue']\n",
    "\n",
    "results = st.ttest_ind(\n",
    "    ultra,smart)\n",
    "\n",
    "print('p-значение:', results.pvalue)\n",
    "\n",
    "if results.pvalue < alpha:\n",
    "    print(\"Отвергаем нулевую гипотезу\")\n",
    "else:\n",
    "    print(\"Не получилось отвергнуть нулевую гипотезу\") "
   ]
  },
  {
   "cell_type": "markdown",
   "id": "83fbd76d",
   "metadata": {},
   "source": [
    "Полученные данные дают основания отвергнуть нулевую гипотезу о равенстве средней прибыли по тарифам Ультра и Смарт."
   ]
  },
  {
   "cell_type": "markdown",
   "id": "0c3cf7f9",
   "metadata": {},
   "source": [
    "###  Cредняя выручка пользователей из Москвы отличается от выручки пользователей из других регионов."
   ]
  },
  {
   "cell_type": "markdown",
   "id": "0090665b",
   "metadata": {},
   "source": [
    "Н0 - средняя выручка пользователей из Москвы и из других регионов равны\n",
    "\n",
    "н1 - средняя выручка пользователей из Москвы и из других регионов  не равны.\n",
    "\n",
    "Для проверки гипотезы использую t-test, т.к сравниваю средние разных выборок."
   ]
  },
  {
   "cell_type": "code",
   "execution_count": 77,
   "id": "11715b9b",
   "metadata": {
    "scrolled": true
   },
   "outputs": [
    {
     "name": "stdout",
     "output_type": "stream",
     "text": [
      "p-значение: 0.5440152911670224\n",
      "Не получилось отвергнуть нулевую гипотезу\n"
     ]
    }
   ],
   "source": [
    "alpha = .05 # критический уровень статистической значимости\n",
    "# если p-value окажется меньше него - отвергнем гипотезу\n",
    "moscow=moscow['revenue']\n",
    "not_moscow=not_moscow['revenue']\n",
    "\n",
    "results = st.ttest_ind(\n",
    "    moscow,not_moscow)\n",
    "\n",
    "print('p-значение:', results.pvalue)\n",
    "\n",
    "if results.pvalue < alpha:\n",
    "    print(\"Отвергаем нулевую гипотезу\")\n",
    "else:\n",
    "    print(\"Не получилось отвергнуть нулевую гипотезу\") "
   ]
  },
  {
   "cell_type": "markdown",
   "id": "24456dd1",
   "metadata": {},
   "source": [
    "Полученные данные не дают оснований отвергнуть нулевую гипотезу, то есть, можем предополагать, что средняя выручка по Москве равна средней выручке по другим регионам."
   ]
  },
  {
   "cell_type": "markdown",
   "id": "91cb4329",
   "metadata": {},
   "source": [
    "## Вывод"
   ]
  },
  {
   "cell_type": "markdown",
   "id": "9fd4529b",
   "metadata": {},
   "source": [
    "В выгрузке содержится пять файлов с данными по звонкам, СМС, трафику, тарифам и пользователям. \n",
    "Данные выгружены за 2018 год по 500 пользователям, средний возраст пользователей 46 лет, минимальный 18, \n",
    "самому старшему 75 лет. Пользователи из 76 населенных пунктов, в основном из Москвы. \n",
    "Пользователей с тарифом \"Смарт\" 70%.\n",
    "Пропусков и дублирования данных нет.\n",
    "\n",
    "Посчитала для каждого пользователя: количество сделанных звонков и израсходованных минут разговора по месяцам; \n",
    "количество отправленных сообщений по месяцам; объем израсходованного интернет-трафика по месяцам; помесячную выручку \n",
    "с каждого пользователя.\n",
    "Определила, сколько минут разговора, сколько сообщений и какой объём интернет-трафика требуется пользователям каждого тарифа \n",
    "в месяц. Посчитала среднее количество, дисперсию и стандартное отклонение. \n",
    "\n",
    "*Использование звонков:*  \n",
    "Тариф Смарт - включено 500 мин разговора (50% пользователей не укладываются в это время), в среднем используют 419 мин.  \n",
    "Тариф Ультра - включено 3000 мин разговора (пользователи не выговаривают это время), в среднем используют 527 мин.  \n",
    "На обоих тарифах есть пользователи с нулевой длительностью звонков, предположу, что исопльзуют тарифы только для интернета.\n",
    "Дисперсия по тарифу Ультра 78867.04136496516  \n",
    "Дисперсия по тарифу Смарт 20974.051039437672   \n",
    "Среднее отклонение по тарифу Ультра 281.786359  \n",
    "Среднее отклонение по тарифу Смарт 145.031543  \n",
    "\n",
    "*Использование сообщений:*  \n",
    "В Смарт включено 50 сообщений, в среднем 32 сообщения  \n",
    "в Ультра 1000 сообщений, в среднем 54 сообщения.  \n",
    "16% пользователей тарифа Ультра и 13% пользователей тарифа Смарт вообще не пользуются сообщениями.  \n",
    "Дисперсия по тарифу Ультра 63.09800552536999  \n",
    "Дисперсия по тарифу Смарт 12.206781890426399  \n",
    "Среднее отклонение по тарифу Ультра 46.366246   \n",
    "Среднее отклонение по тарифу Смарт 26.512448  \n",
    "\n",
    "*Использование интернета*  \n",
    "Тариф Смарт - включено 15 Гб трафика, в Ультра 30 Гб.  \n",
    "На тарифе Смарт пакета хватает чуть меньше чем 50% пользователей, среднее по Смарту 16,33 Гб  \n",
    "На тарифе Ультра- более 75%, среднее по Ультра 18,8 Гб  \n",
    "Дисперсия по тарифу Ультра 63.09800552536999  \n",
    "Дисперсия по тарифу Смарт 12.206781890426399  \n",
    "Среднее отклонение по тарифу Ультра 7.970582  \n",
    "Среднее отклонение по тарифу Смарт 3.498822  \n",
    "\n",
    "При исследовании гистограмм заметила, что у тариф Смарт более «собран» по оси Х, но при этом более вытянут по оси Y, что согласуется с цифрами дисперсии. Можно это объяснить тем, что на тарифе Смарт бесплатный лимит гораздо меньше, а пользователей больше, чем на тарифе Ультра.\n",
    "\n",
    "Была выдвинута гипотеза о равенстве средней прибыли по тарифам, исследованные данные не позволили ее не подтвердили.\n",
    "Вторая гипотеза о равенстве средней прибыли по Москве и регионам не была отвергнута.\n"
   ]
  }
 ],
 "metadata": {
  "ExecuteTimeLog": [
   {
    "duration": 1771,
    "start_time": "2022-04-13T12:16:42.854Z"
   },
   {
    "duration": 160,
    "start_time": "2022-04-13T12:17:55.871Z"
   },
   {
    "duration": 213,
    "start_time": "2022-04-13T12:18:07.655Z"
   },
   {
    "duration": 5,
    "start_time": "2022-04-13T12:18:31.471Z"
   },
   {
    "duration": 18,
    "start_time": "2022-04-13T12:18:35.550Z"
   },
   {
    "duration": 4,
    "start_time": "2022-04-13T12:20:39.961Z"
   },
   {
    "duration": 37,
    "start_time": "2022-04-13T12:23:04.098Z"
   },
   {
    "duration": 36,
    "start_time": "2022-04-13T12:23:21.244Z"
   },
   {
    "duration": 15,
    "start_time": "2022-04-13T12:24:15.707Z"
   },
   {
    "duration": 36,
    "start_time": "2022-04-13T12:24:33.414Z"
   },
   {
    "duration": 203,
    "start_time": "2022-04-13T12:29:01.065Z"
   },
   {
    "duration": 182,
    "start_time": "2022-04-13T12:29:14.438Z"
   },
   {
    "duration": 13,
    "start_time": "2022-04-13T12:29:29.989Z"
   },
   {
    "duration": 12,
    "start_time": "2022-04-13T12:32:34.168Z"
   },
   {
    "duration": 206,
    "start_time": "2022-04-13T12:33:02.365Z"
   },
   {
    "duration": 11,
    "start_time": "2022-04-13T12:33:15.863Z"
   },
   {
    "duration": 76,
    "start_time": "2022-04-13T12:33:29.680Z"
   },
   {
    "duration": 127,
    "start_time": "2022-04-13T12:37:27.131Z"
   },
   {
    "duration": 36,
    "start_time": "2022-04-13T12:39:37.581Z"
   },
   {
    "duration": 37,
    "start_time": "2022-04-13T12:40:25.540Z"
   },
   {
    "duration": 43,
    "start_time": "2022-04-13T12:40:35.166Z"
   },
   {
    "duration": 27,
    "start_time": "2022-04-13T12:41:36.126Z"
   },
   {
    "duration": 29,
    "start_time": "2022-04-13T12:41:42.429Z"
   },
   {
    "duration": 26,
    "start_time": "2022-04-13T12:43:38.443Z"
   },
   {
    "duration": 12,
    "start_time": "2022-04-13T12:44:05.344Z"
   },
   {
    "duration": 64,
    "start_time": "2022-04-13T12:45:43.442Z"
   },
   {
    "duration": 14,
    "start_time": "2022-04-13T12:46:02.191Z"
   },
   {
    "duration": 11,
    "start_time": "2022-04-13T12:49:50.237Z"
   },
   {
    "duration": 9,
    "start_time": "2022-04-13T12:49:56.451Z"
   },
   {
    "duration": 19,
    "start_time": "2022-04-13T12:50:28.267Z"
   },
   {
    "duration": 11,
    "start_time": "2022-04-13T12:51:25.364Z"
   },
   {
    "duration": 10,
    "start_time": "2022-04-13T12:51:28.682Z"
   },
   {
    "duration": 13,
    "start_time": "2022-04-13T12:51:33.404Z"
   },
   {
    "duration": 9,
    "start_time": "2022-04-13T12:51:41.140Z"
   },
   {
    "duration": 10,
    "start_time": "2022-04-13T13:01:45.778Z"
   },
   {
    "duration": 10,
    "start_time": "2022-04-13T13:01:51.269Z"
   },
   {
    "duration": 6,
    "start_time": "2022-04-13T13:01:55.650Z"
   },
   {
    "duration": 8,
    "start_time": "2022-04-13T13:03:53.207Z"
   },
   {
    "duration": 15,
    "start_time": "2022-04-13T13:04:00.355Z"
   },
   {
    "duration": 4,
    "start_time": "2022-04-13T13:05:36.687Z"
   },
   {
    "duration": 257,
    "start_time": "2022-04-13T13:05:36.693Z"
   },
   {
    "duration": 13,
    "start_time": "2022-04-13T13:05:36.952Z"
   },
   {
    "duration": 57,
    "start_time": "2022-04-13T13:05:36.969Z"
   },
   {
    "duration": 40,
    "start_time": "2022-04-13T13:05:37.028Z"
   },
   {
    "duration": 37,
    "start_time": "2022-04-13T13:05:37.094Z"
   },
   {
    "duration": 211,
    "start_time": "2022-04-13T13:05:37.133Z"
   },
   {
    "duration": 13,
    "start_time": "2022-04-13T13:05:37.346Z"
   },
   {
    "duration": 54,
    "start_time": "2022-04-13T13:05:37.365Z"
   },
   {
    "duration": 134,
    "start_time": "2022-04-13T13:05:37.421Z"
   },
   {
    "duration": 37,
    "start_time": "2022-04-13T13:05:37.558Z"
   },
   {
    "duration": 25,
    "start_time": "2022-04-13T13:05:37.598Z"
   },
   {
    "duration": 27,
    "start_time": "2022-04-13T13:05:37.625Z"
   },
   {
    "duration": 10,
    "start_time": "2022-04-13T13:05:37.654Z"
   },
   {
    "duration": 63,
    "start_time": "2022-04-13T13:05:37.666Z"
   },
   {
    "duration": 14,
    "start_time": "2022-04-13T13:05:37.731Z"
   },
   {
    "duration": 12,
    "start_time": "2022-04-13T13:05:37.746Z"
   },
   {
    "duration": 11,
    "start_time": "2022-04-13T13:05:37.760Z"
   },
   {
    "duration": 25,
    "start_time": "2022-04-13T13:05:37.773Z"
   },
   {
    "duration": 20,
    "start_time": "2022-04-13T13:05:37.799Z"
   },
   {
    "duration": 11,
    "start_time": "2022-04-13T13:05:37.820Z"
   },
   {
    "duration": 19,
    "start_time": "2022-04-13T13:05:37.833Z"
   },
   {
    "duration": 31,
    "start_time": "2022-04-13T13:05:37.854Z"
   },
   {
    "duration": 185,
    "start_time": "2022-04-13T13:05:37.888Z"
   },
   {
    "duration": 43,
    "start_time": "2022-04-13T13:06:52.748Z"
   },
   {
    "duration": 12,
    "start_time": "2022-04-13T13:07:04.541Z"
   },
   {
    "duration": 72,
    "start_time": "2022-04-15T14:04:45.091Z"
   },
   {
    "duration": 1681,
    "start_time": "2022-04-15T14:04:53.286Z"
   },
   {
    "duration": 222,
    "start_time": "2022-04-15T14:04:54.969Z"
   },
   {
    "duration": 19,
    "start_time": "2022-04-15T14:04:55.193Z"
   },
   {
    "duration": 42,
    "start_time": "2022-04-15T14:04:55.215Z"
   },
   {
    "duration": 40,
    "start_time": "2022-04-15T14:04:55.282Z"
   },
   {
    "duration": 34,
    "start_time": "2022-04-15T14:04:55.324Z"
   },
   {
    "duration": 215,
    "start_time": "2022-04-15T14:04:55.359Z"
   },
   {
    "duration": 14,
    "start_time": "2022-04-15T14:04:55.576Z"
   },
   {
    "duration": 32,
    "start_time": "2022-04-15T14:04:55.593Z"
   },
   {
    "duration": 157,
    "start_time": "2022-04-15T14:04:55.631Z"
   },
   {
    "duration": 27,
    "start_time": "2022-04-15T14:04:55.790Z"
   },
   {
    "duration": 26,
    "start_time": "2022-04-15T14:04:55.819Z"
   },
   {
    "duration": 47,
    "start_time": "2022-04-15T14:04:55.847Z"
   },
   {
    "duration": 11,
    "start_time": "2022-04-15T14:04:55.896Z"
   },
   {
    "duration": 38,
    "start_time": "2022-04-15T14:04:55.910Z"
   },
   {
    "duration": 16,
    "start_time": "2022-04-15T14:04:55.950Z"
   },
   {
    "duration": 25,
    "start_time": "2022-04-15T14:04:55.968Z"
   },
   {
    "duration": 9,
    "start_time": "2022-04-15T14:04:55.995Z"
   },
   {
    "duration": 19,
    "start_time": "2022-04-15T14:04:56.006Z"
   },
   {
    "duration": 8,
    "start_time": "2022-04-15T14:04:56.027Z"
   },
   {
    "duration": 4,
    "start_time": "2022-04-15T14:04:56.081Z"
   },
   {
    "duration": 9,
    "start_time": "2022-04-15T14:04:56.087Z"
   },
   {
    "duration": 20,
    "start_time": "2022-04-15T14:04:56.098Z"
   },
   {
    "duration": 72,
    "start_time": "2022-04-15T14:04:56.120Z"
   },
   {
    "duration": 12,
    "start_time": "2022-04-15T14:04:56.194Z"
   },
   {
    "duration": 105,
    "start_time": "2022-04-15T14:04:56.209Z"
   },
   {
    "duration": 37,
    "start_time": "2022-04-15T14:05:38.671Z"
   },
   {
    "duration": 10,
    "start_time": "2022-04-15T14:08:25.142Z"
   },
   {
    "duration": 32,
    "start_time": "2022-04-15T14:11:44.039Z"
   },
   {
    "duration": 41,
    "start_time": "2022-04-15T14:11:52.016Z"
   },
   {
    "duration": 105,
    "start_time": "2022-04-15T14:13:29.512Z"
   },
   {
    "duration": 46,
    "start_time": "2022-04-15T14:13:58.794Z"
   },
   {
    "duration": 108,
    "start_time": "2022-04-15T14:14:32.989Z"
   },
   {
    "duration": 61,
    "start_time": "2022-04-15T14:15:07.833Z"
   },
   {
    "duration": 43,
    "start_time": "2022-04-15T14:16:23.724Z"
   },
   {
    "duration": 52,
    "start_time": "2022-04-15T14:16:42.858Z"
   },
   {
    "duration": 51,
    "start_time": "2022-04-15T14:17:12.811Z"
   },
   {
    "duration": 53,
    "start_time": "2022-04-15T14:19:58.790Z"
   },
   {
    "duration": 27,
    "start_time": "2022-04-15T14:29:22.575Z"
   },
   {
    "duration": 17,
    "start_time": "2022-04-15T14:29:33.411Z"
   },
   {
    "duration": 40,
    "start_time": "2022-04-15T14:30:52.715Z"
   },
   {
    "duration": 28,
    "start_time": "2022-04-15T14:31:00.891Z"
   },
   {
    "duration": 21,
    "start_time": "2022-04-15T14:31:10.757Z"
   },
   {
    "duration": 46,
    "start_time": "2022-04-15T14:31:12.635Z"
   },
   {
    "duration": 35,
    "start_time": "2022-04-15T14:32:29.516Z"
   },
   {
    "duration": 24,
    "start_time": "2022-04-15T14:33:55.294Z"
   },
   {
    "duration": 56,
    "start_time": "2022-04-15T14:36:01.412Z"
   },
   {
    "duration": 42,
    "start_time": "2022-04-15T14:36:03.874Z"
   },
   {
    "duration": 45,
    "start_time": "2022-04-15T14:36:26.477Z"
   },
   {
    "duration": 11,
    "start_time": "2022-04-15T14:44:10.594Z"
   },
   {
    "duration": 14,
    "start_time": "2022-04-15T14:44:19.235Z"
   },
   {
    "duration": 104,
    "start_time": "2022-04-15T14:47:10.979Z"
   },
   {
    "duration": 4,
    "start_time": "2022-04-15T14:47:14.604Z"
   },
   {
    "duration": 13,
    "start_time": "2022-04-15T14:47:47.156Z"
   },
   {
    "duration": 12,
    "start_time": "2022-04-15T14:47:55.428Z"
   },
   {
    "duration": 12,
    "start_time": "2022-04-15T14:48:35.694Z"
   },
   {
    "duration": 5,
    "start_time": "2022-04-15T14:50:15.222Z"
   },
   {
    "duration": 13,
    "start_time": "2022-04-15T15:04:06.579Z"
   },
   {
    "duration": 12,
    "start_time": "2022-04-15T15:04:24.499Z"
   },
   {
    "duration": 13,
    "start_time": "2022-04-15T15:04:28.760Z"
   },
   {
    "duration": 13,
    "start_time": "2022-04-15T15:04:44.276Z"
   },
   {
    "duration": 12,
    "start_time": "2022-04-15T15:08:39.613Z"
   },
   {
    "duration": 14,
    "start_time": "2022-04-15T15:09:14.480Z"
   },
   {
    "duration": 12,
    "start_time": "2022-04-15T15:13:22.632Z"
   },
   {
    "duration": 42,
    "start_time": "2022-04-16T06:52:37.215Z"
   },
   {
    "duration": 1215,
    "start_time": "2022-04-16T06:52:42.771Z"
   },
   {
    "duration": 177,
    "start_time": "2022-04-16T06:52:43.988Z"
   },
   {
    "duration": 13,
    "start_time": "2022-04-16T06:52:44.166Z"
   },
   {
    "duration": 37,
    "start_time": "2022-04-16T06:52:44.181Z"
   },
   {
    "duration": 28,
    "start_time": "2022-04-16T06:52:44.219Z"
   },
   {
    "duration": 23,
    "start_time": "2022-04-16T06:52:44.249Z"
   },
   {
    "duration": 153,
    "start_time": "2022-04-16T06:52:44.273Z"
   },
   {
    "duration": 7,
    "start_time": "2022-04-16T06:52:44.428Z"
   },
   {
    "duration": 22,
    "start_time": "2022-04-16T06:52:44.436Z"
   },
   {
    "duration": 97,
    "start_time": "2022-04-16T06:52:44.461Z"
   },
   {
    "duration": 18,
    "start_time": "2022-04-16T06:52:44.560Z"
   },
   {
    "duration": 33,
    "start_time": "2022-04-16T06:52:44.579Z"
   },
   {
    "duration": 20,
    "start_time": "2022-04-16T06:52:44.614Z"
   },
   {
    "duration": 6,
    "start_time": "2022-04-16T06:52:44.635Z"
   },
   {
    "duration": 32,
    "start_time": "2022-04-16T06:52:44.643Z"
   },
   {
    "duration": 8,
    "start_time": "2022-04-16T06:52:44.676Z"
   },
   {
    "duration": 8,
    "start_time": "2022-04-16T06:52:44.686Z"
   },
   {
    "duration": 9,
    "start_time": "2022-04-16T06:52:44.695Z"
   },
   {
    "duration": 13,
    "start_time": "2022-04-16T06:52:44.705Z"
   },
   {
    "duration": 9,
    "start_time": "2022-04-16T06:52:44.719Z"
   },
   {
    "duration": 6,
    "start_time": "2022-04-16T06:52:44.729Z"
   },
   {
    "duration": 7,
    "start_time": "2022-04-16T06:52:44.736Z"
   },
   {
    "duration": 12,
    "start_time": "2022-04-16T06:52:44.745Z"
   },
   {
    "duration": 44,
    "start_time": "2022-04-16T06:52:44.758Z"
   },
   {
    "duration": 22,
    "start_time": "2022-04-16T06:52:44.803Z"
   },
   {
    "duration": 20,
    "start_time": "2022-04-16T06:52:44.826Z"
   },
   {
    "duration": 19,
    "start_time": "2022-04-16T06:52:44.847Z"
   },
   {
    "duration": 8,
    "start_time": "2022-04-16T06:52:44.869Z"
   },
   {
    "duration": 29,
    "start_time": "2022-04-16T06:52:44.899Z"
   },
   {
    "duration": 46,
    "start_time": "2022-04-16T06:52:44.930Z"
   },
   {
    "duration": 35,
    "start_time": "2022-04-16T06:52:44.977Z"
   },
   {
    "duration": 30,
    "start_time": "2022-04-16T06:52:45.013Z"
   },
   {
    "duration": 16,
    "start_time": "2022-04-16T06:52:45.044Z"
   },
   {
    "duration": 47,
    "start_time": "2022-04-16T06:52:45.061Z"
   },
   {
    "duration": 16,
    "start_time": "2022-04-16T06:52:58.781Z"
   },
   {
    "duration": 16,
    "start_time": "2022-04-16T06:53:24.467Z"
   },
   {
    "duration": 3,
    "start_time": "2022-04-16T06:54:54.168Z"
   },
   {
    "duration": 164,
    "start_time": "2022-04-16T06:54:54.173Z"
   },
   {
    "duration": 8,
    "start_time": "2022-04-16T06:54:54.339Z"
   },
   {
    "duration": 31,
    "start_time": "2022-04-16T06:54:54.348Z"
   },
   {
    "duration": 44,
    "start_time": "2022-04-16T06:54:54.381Z"
   },
   {
    "duration": 23,
    "start_time": "2022-04-16T06:54:54.427Z"
   },
   {
    "duration": 142,
    "start_time": "2022-04-16T06:54:54.451Z"
   },
   {
    "duration": 11,
    "start_time": "2022-04-16T06:54:54.595Z"
   },
   {
    "duration": 23,
    "start_time": "2022-04-16T06:54:54.608Z"
   },
   {
    "duration": 103,
    "start_time": "2022-04-16T06:54:54.633Z"
   },
   {
    "duration": 20,
    "start_time": "2022-04-16T06:54:54.739Z"
   },
   {
    "duration": 20,
    "start_time": "2022-04-16T06:54:54.760Z"
   },
   {
    "duration": 28,
    "start_time": "2022-04-16T06:54:54.782Z"
   },
   {
    "duration": 8,
    "start_time": "2022-04-16T06:54:54.811Z"
   },
   {
    "duration": 33,
    "start_time": "2022-04-16T06:54:54.820Z"
   },
   {
    "duration": 9,
    "start_time": "2022-04-16T06:54:54.854Z"
   },
   {
    "duration": 11,
    "start_time": "2022-04-16T06:54:54.865Z"
   },
   {
    "duration": 7,
    "start_time": "2022-04-16T06:54:54.878Z"
   },
   {
    "duration": 20,
    "start_time": "2022-04-16T06:54:54.887Z"
   },
   {
    "duration": 7,
    "start_time": "2022-04-16T06:54:54.908Z"
   },
   {
    "duration": 5,
    "start_time": "2022-04-16T06:54:54.916Z"
   },
   {
    "duration": 6,
    "start_time": "2022-04-16T06:54:54.922Z"
   },
   {
    "duration": 19,
    "start_time": "2022-04-16T06:54:54.929Z"
   },
   {
    "duration": 29,
    "start_time": "2022-04-16T06:54:54.950Z"
   },
   {
    "duration": 33,
    "start_time": "2022-04-16T06:54:54.981Z"
   },
   {
    "duration": 19,
    "start_time": "2022-04-16T06:54:55.016Z"
   },
   {
    "duration": 8,
    "start_time": "2022-04-16T06:54:55.036Z"
   },
   {
    "duration": 19,
    "start_time": "2022-04-16T06:54:55.045Z"
   },
   {
    "duration": 9,
    "start_time": "2022-04-16T06:54:55.066Z"
   },
   {
    "duration": 49,
    "start_time": "2022-04-16T06:54:55.076Z"
   },
   {
    "duration": 34,
    "start_time": "2022-04-16T06:54:55.127Z"
   },
   {
    "duration": 14,
    "start_time": "2022-04-16T06:54:55.163Z"
   },
   {
    "duration": 29,
    "start_time": "2022-04-16T06:54:55.200Z"
   },
   {
    "duration": 17,
    "start_time": "2022-04-16T06:54:55.231Z"
   },
   {
    "duration": 26,
    "start_time": "2022-04-16T06:54:55.250Z"
   },
   {
    "duration": 14,
    "start_time": "2022-04-16T06:56:00.670Z"
   },
   {
    "duration": 59,
    "start_time": "2022-04-16T06:59:10.902Z"
   },
   {
    "duration": 179,
    "start_time": "2022-04-16T06:59:28.927Z"
   },
   {
    "duration": 15,
    "start_time": "2022-04-16T06:59:38.847Z"
   },
   {
    "duration": 3,
    "start_time": "2022-04-16T06:59:43.769Z"
   },
   {
    "duration": 175,
    "start_time": "2022-04-16T06:59:43.776Z"
   },
   {
    "duration": 7,
    "start_time": "2022-04-16T06:59:43.953Z"
   },
   {
    "duration": 41,
    "start_time": "2022-04-16T06:59:43.962Z"
   },
   {
    "duration": 29,
    "start_time": "2022-04-16T06:59:44.004Z"
   },
   {
    "duration": 23,
    "start_time": "2022-04-16T06:59:44.036Z"
   },
   {
    "duration": 145,
    "start_time": "2022-04-16T06:59:44.060Z"
   },
   {
    "duration": 7,
    "start_time": "2022-04-16T06:59:44.207Z"
   },
   {
    "duration": 22,
    "start_time": "2022-04-16T06:59:44.216Z"
   },
   {
    "duration": 101,
    "start_time": "2022-04-16T06:59:44.239Z"
   },
   {
    "duration": 20,
    "start_time": "2022-04-16T06:59:44.342Z"
   },
   {
    "duration": 20,
    "start_time": "2022-04-16T06:59:44.364Z"
   },
   {
    "duration": 22,
    "start_time": "2022-04-16T06:59:44.400Z"
   },
   {
    "duration": 8,
    "start_time": "2022-04-16T06:59:44.423Z"
   },
   {
    "duration": 34,
    "start_time": "2022-04-16T06:59:44.433Z"
   },
   {
    "duration": 9,
    "start_time": "2022-04-16T06:59:44.468Z"
   },
   {
    "duration": 8,
    "start_time": "2022-04-16T06:59:44.478Z"
   },
   {
    "duration": 8,
    "start_time": "2022-04-16T06:59:44.488Z"
   },
   {
    "duration": 14,
    "start_time": "2022-04-16T06:59:44.498Z"
   },
   {
    "duration": 6,
    "start_time": "2022-04-16T06:59:44.513Z"
   },
   {
    "duration": 4,
    "start_time": "2022-04-16T06:59:44.521Z"
   },
   {
    "duration": 5,
    "start_time": "2022-04-16T06:59:44.526Z"
   },
   {
    "duration": 11,
    "start_time": "2022-04-16T06:59:44.533Z"
   },
   {
    "duration": 54,
    "start_time": "2022-04-16T06:59:44.546Z"
   },
   {
    "duration": 22,
    "start_time": "2022-04-16T06:59:44.601Z"
   },
   {
    "duration": 18,
    "start_time": "2022-04-16T06:59:44.625Z"
   },
   {
    "duration": 8,
    "start_time": "2022-04-16T06:59:44.645Z"
   },
   {
    "duration": 20,
    "start_time": "2022-04-16T06:59:44.654Z"
   },
   {
    "duration": 28,
    "start_time": "2022-04-16T06:59:44.700Z"
   },
   {
    "duration": 38,
    "start_time": "2022-04-16T06:59:44.729Z"
   },
   {
    "duration": 35,
    "start_time": "2022-04-16T06:59:44.769Z"
   },
   {
    "duration": 29,
    "start_time": "2022-04-16T06:59:44.805Z"
   },
   {
    "duration": 16,
    "start_time": "2022-04-16T06:59:44.836Z"
   },
   {
    "duration": 47,
    "start_time": "2022-04-16T06:59:44.854Z"
   },
   {
    "duration": 1728,
    "start_time": "2022-04-18T05:45:30.414Z"
   },
   {
    "duration": 341,
    "start_time": "2022-04-18T05:45:32.144Z"
   },
   {
    "duration": 19,
    "start_time": "2022-04-18T05:45:32.487Z"
   },
   {
    "duration": 53,
    "start_time": "2022-04-18T05:45:32.508Z"
   },
   {
    "duration": 40,
    "start_time": "2022-04-18T05:45:32.564Z"
   },
   {
    "duration": 36,
    "start_time": "2022-04-18T05:45:32.625Z"
   },
   {
    "duration": 218,
    "start_time": "2022-04-18T05:45:32.663Z"
   },
   {
    "duration": 12,
    "start_time": "2022-04-18T05:45:32.884Z"
   },
   {
    "duration": 50,
    "start_time": "2022-04-18T05:45:32.898Z"
   },
   {
    "duration": 139,
    "start_time": "2022-04-18T05:45:32.951Z"
   },
   {
    "duration": 43,
    "start_time": "2022-04-18T05:45:33.093Z"
   },
   {
    "duration": 35,
    "start_time": "2022-04-18T05:45:33.138Z"
   },
   {
    "duration": 23,
    "start_time": "2022-04-18T05:45:33.176Z"
   },
   {
    "duration": 12,
    "start_time": "2022-04-18T05:45:33.226Z"
   },
   {
    "duration": 35,
    "start_time": "2022-04-18T05:45:33.241Z"
   },
   {
    "duration": 15,
    "start_time": "2022-04-18T05:45:33.278Z"
   },
   {
    "duration": 32,
    "start_time": "2022-04-18T05:45:33.295Z"
   },
   {
    "duration": 22,
    "start_time": "2022-04-18T05:45:33.329Z"
   },
   {
    "duration": 41,
    "start_time": "2022-04-18T05:45:33.354Z"
   },
   {
    "duration": 26,
    "start_time": "2022-04-18T05:45:33.397Z"
   },
   {
    "duration": 15,
    "start_time": "2022-04-18T05:45:33.425Z"
   },
   {
    "duration": 33,
    "start_time": "2022-04-18T05:45:33.442Z"
   },
   {
    "duration": 28,
    "start_time": "2022-04-18T05:45:33.477Z"
   },
   {
    "duration": 57,
    "start_time": "2022-04-18T05:45:33.507Z"
   },
   {
    "duration": 34,
    "start_time": "2022-04-18T05:45:33.566Z"
   },
   {
    "duration": 39,
    "start_time": "2022-04-18T05:45:33.602Z"
   },
   {
    "duration": 11,
    "start_time": "2022-04-18T05:45:33.643Z"
   },
   {
    "duration": 180,
    "start_time": "2022-04-18T05:45:33.656Z"
   },
   {
    "duration": 0,
    "start_time": "2022-04-18T05:45:33.838Z"
   },
   {
    "duration": 0,
    "start_time": "2022-04-18T05:45:33.839Z"
   },
   {
    "duration": 0,
    "start_time": "2022-04-18T05:45:33.841Z"
   },
   {
    "duration": 0,
    "start_time": "2022-04-18T05:45:33.842Z"
   },
   {
    "duration": 0,
    "start_time": "2022-04-18T05:45:33.843Z"
   },
   {
    "duration": 1,
    "start_time": "2022-04-18T05:45:33.844Z"
   },
   {
    "duration": 14,
    "start_time": "2022-04-18T05:45:39.698Z"
   },
   {
    "duration": 14,
    "start_time": "2022-04-18T05:46:00.868Z"
   },
   {
    "duration": 14,
    "start_time": "2022-04-18T05:46:17.011Z"
   },
   {
    "duration": 103,
    "start_time": "2022-04-18T05:46:32.572Z"
   },
   {
    "duration": 104,
    "start_time": "2022-04-18T05:47:05.780Z"
   },
   {
    "duration": 12,
    "start_time": "2022-04-18T05:47:11.238Z"
   },
   {
    "duration": 34,
    "start_time": "2022-04-18T05:47:53.052Z"
   },
   {
    "duration": 32,
    "start_time": "2022-04-18T05:48:05.659Z"
   },
   {
    "duration": 47,
    "start_time": "2022-04-18T05:48:49.183Z"
   },
   {
    "duration": 102,
    "start_time": "2022-04-18T05:49:15.870Z"
   },
   {
    "duration": 48,
    "start_time": "2022-04-18T05:49:29.133Z"
   },
   {
    "duration": 50,
    "start_time": "2022-04-18T05:49:46.255Z"
   },
   {
    "duration": 44,
    "start_time": "2022-04-18T05:49:50.181Z"
   },
   {
    "duration": 47,
    "start_time": "2022-04-18T05:52:26.359Z"
   },
   {
    "duration": 5,
    "start_time": "2022-04-18T05:52:48.230Z"
   },
   {
    "duration": 277,
    "start_time": "2022-04-18T05:52:48.237Z"
   },
   {
    "duration": 16,
    "start_time": "2022-04-18T05:52:48.516Z"
   },
   {
    "duration": 38,
    "start_time": "2022-04-18T05:52:48.535Z"
   },
   {
    "duration": 67,
    "start_time": "2022-04-18T05:52:48.575Z"
   },
   {
    "duration": 34,
    "start_time": "2022-04-18T05:52:48.644Z"
   },
   {
    "duration": 218,
    "start_time": "2022-04-18T05:52:48.681Z"
   },
   {
    "duration": 13,
    "start_time": "2022-04-18T05:52:48.902Z"
   },
   {
    "duration": 35,
    "start_time": "2022-04-18T05:52:48.925Z"
   },
   {
    "duration": 168,
    "start_time": "2022-04-18T05:52:48.966Z"
   },
   {
    "duration": 29,
    "start_time": "2022-04-18T05:52:49.137Z"
   },
   {
    "duration": 55,
    "start_time": "2022-04-18T05:52:49.169Z"
   },
   {
    "duration": 23,
    "start_time": "2022-04-18T05:52:49.227Z"
   },
   {
    "duration": 15,
    "start_time": "2022-04-18T05:52:49.254Z"
   },
   {
    "duration": 54,
    "start_time": "2022-04-18T05:52:49.273Z"
   },
   {
    "duration": 16,
    "start_time": "2022-04-18T05:52:49.330Z"
   },
   {
    "duration": 16,
    "start_time": "2022-04-18T05:52:49.349Z"
   },
   {
    "duration": 16,
    "start_time": "2022-04-18T05:52:49.367Z"
   },
   {
    "duration": 53,
    "start_time": "2022-04-18T05:52:49.386Z"
   },
   {
    "duration": 13,
    "start_time": "2022-04-18T05:52:49.442Z"
   },
   {
    "duration": 20,
    "start_time": "2022-04-18T05:52:49.457Z"
   },
   {
    "duration": 20,
    "start_time": "2022-04-18T05:52:49.479Z"
   },
   {
    "duration": 24,
    "start_time": "2022-04-18T05:52:49.502Z"
   },
   {
    "duration": 49,
    "start_time": "2022-04-18T05:52:49.528Z"
   },
   {
    "duration": 55,
    "start_time": "2022-04-18T05:52:49.580Z"
   },
   {
    "duration": 31,
    "start_time": "2022-04-18T05:52:49.638Z"
   },
   {
    "duration": 12,
    "start_time": "2022-04-18T05:52:49.672Z"
   },
   {
    "duration": 79,
    "start_time": "2022-04-18T05:52:49.689Z"
   },
   {
    "duration": 56,
    "start_time": "2022-04-18T05:52:49.770Z"
   },
   {
    "duration": 72,
    "start_time": "2022-04-18T05:52:49.828Z"
   },
   {
    "duration": 42,
    "start_time": "2022-04-18T05:52:49.902Z"
   },
   {
    "duration": 45,
    "start_time": "2022-04-18T05:52:49.947Z"
   },
   {
    "duration": 48,
    "start_time": "2022-04-18T05:52:49.994Z"
   },
   {
    "duration": 40,
    "start_time": "2022-04-18T05:52:50.045Z"
   },
   {
    "duration": 45,
    "start_time": "2022-04-18T05:53:17.503Z"
   },
   {
    "duration": 42,
    "start_time": "2022-04-18T05:53:21.058Z"
   },
   {
    "duration": 67,
    "start_time": "2022-04-18T05:53:21.103Z"
   },
   {
    "duration": 24,
    "start_time": "2022-04-18T05:53:21.172Z"
   },
   {
    "duration": 53,
    "start_time": "2022-04-18T05:53:21.199Z"
   },
   {
    "duration": 31,
    "start_time": "2022-04-18T05:53:21.256Z"
   },
   {
    "duration": 70,
    "start_time": "2022-04-18T05:53:21.290Z"
   },
   {
    "duration": 1645,
    "start_time": "2022-04-18T05:55:32.570Z"
   },
   {
    "duration": 1988,
    "start_time": "2022-04-18T05:56:04.938Z"
   },
   {
    "duration": 45,
    "start_time": "2022-04-18T05:56:25.281Z"
   },
   {
    "duration": 45,
    "start_time": "2022-04-18T05:57:08.585Z"
   },
   {
    "duration": 19,
    "start_time": "2022-04-18T06:10:03.466Z"
   },
   {
    "duration": 15,
    "start_time": "2022-04-18T06:10:48.066Z"
   },
   {
    "duration": 30,
    "start_time": "2022-04-18T06:10:52.514Z"
   },
   {
    "duration": 19,
    "start_time": "2022-04-18T06:13:34.771Z"
   },
   {
    "duration": 19,
    "start_time": "2022-04-18T06:14:15.699Z"
   },
   {
    "duration": 23,
    "start_time": "2022-04-18T06:16:04.523Z"
   },
   {
    "duration": 18,
    "start_time": "2022-04-18T06:16:35.541Z"
   },
   {
    "duration": 36,
    "start_time": "2022-04-18T06:17:42.093Z"
   },
   {
    "duration": 1502,
    "start_time": "2022-04-18T06:22:42.650Z"
   },
   {
    "duration": 1760,
    "start_time": "2022-04-18T06:23:40.852Z"
   },
   {
    "duration": 1665,
    "start_time": "2022-04-18T06:24:02.898Z"
   },
   {
    "duration": 18,
    "start_time": "2022-04-18T06:27:36.717Z"
   },
   {
    "duration": 5,
    "start_time": "2022-04-18T06:27:50.656Z"
   },
   {
    "duration": 316,
    "start_time": "2022-04-18T06:27:50.664Z"
   },
   {
    "duration": 11,
    "start_time": "2022-04-18T06:27:50.983Z"
   },
   {
    "duration": 69,
    "start_time": "2022-04-18T06:27:50.997Z"
   },
   {
    "duration": 42,
    "start_time": "2022-04-18T06:27:51.068Z"
   },
   {
    "duration": 36,
    "start_time": "2022-04-18T06:27:51.125Z"
   },
   {
    "duration": 238,
    "start_time": "2022-04-18T06:27:51.163Z"
   },
   {
    "duration": 21,
    "start_time": "2022-04-18T06:27:51.403Z"
   },
   {
    "duration": 35,
    "start_time": "2022-04-18T06:27:51.430Z"
   },
   {
    "duration": 170,
    "start_time": "2022-04-18T06:27:51.468Z"
   },
   {
    "duration": 29,
    "start_time": "2022-04-18T06:27:51.641Z"
   },
   {
    "duration": 50,
    "start_time": "2022-04-18T06:27:51.673Z"
   },
   {
    "duration": 22,
    "start_time": "2022-04-18T06:27:51.726Z"
   },
   {
    "duration": 12,
    "start_time": "2022-04-18T06:27:51.751Z"
   },
   {
    "duration": 38,
    "start_time": "2022-04-18T06:27:51.765Z"
   },
   {
    "duration": 30,
    "start_time": "2022-04-18T06:27:51.806Z"
   },
   {
    "duration": 21,
    "start_time": "2022-04-18T06:27:51.838Z"
   },
   {
    "duration": 12,
    "start_time": "2022-04-18T06:27:51.862Z"
   },
   {
    "duration": 23,
    "start_time": "2022-04-18T06:27:51.878Z"
   },
   {
    "duration": 8,
    "start_time": "2022-04-18T06:27:51.926Z"
   },
   {
    "duration": 12,
    "start_time": "2022-04-18T06:27:51.937Z"
   },
   {
    "duration": 13,
    "start_time": "2022-04-18T06:27:51.951Z"
   },
   {
    "duration": 24,
    "start_time": "2022-04-18T06:27:51.966Z"
   },
   {
    "duration": 71,
    "start_time": "2022-04-18T06:27:51.995Z"
   },
   {
    "duration": 37,
    "start_time": "2022-04-18T06:27:52.068Z"
   },
   {
    "duration": 30,
    "start_time": "2022-04-18T06:27:52.125Z"
   },
   {
    "duration": 13,
    "start_time": "2022-04-18T06:27:52.157Z"
   },
   {
    "duration": 66,
    "start_time": "2022-04-18T06:27:52.172Z"
   },
   {
    "duration": 41,
    "start_time": "2022-04-18T06:27:52.240Z"
   },
   {
    "duration": 87,
    "start_time": "2022-04-18T06:27:52.283Z"
   },
   {
    "duration": 22,
    "start_time": "2022-04-18T06:27:52.372Z"
   },
   {
    "duration": 56,
    "start_time": "2022-04-18T06:27:52.396Z"
   },
   {
    "duration": 25,
    "start_time": "2022-04-18T06:27:52.454Z"
   },
   {
    "duration": 73,
    "start_time": "2022-04-18T06:27:52.481Z"
   },
   {
    "duration": 18,
    "start_time": "2022-04-18T06:27:52.556Z"
   },
   {
    "duration": 57,
    "start_time": "2022-04-18T06:27:52.576Z"
   },
   {
    "duration": 16,
    "start_time": "2022-04-18T06:28:29.452Z"
   },
   {
    "duration": 5,
    "start_time": "2022-04-18T06:28:32.916Z"
   },
   {
    "duration": 253,
    "start_time": "2022-04-18T06:28:32.924Z"
   },
   {
    "duration": 13,
    "start_time": "2022-04-18T06:28:33.180Z"
   },
   {
    "duration": 52,
    "start_time": "2022-04-18T06:28:33.196Z"
   },
   {
    "duration": 39,
    "start_time": "2022-04-18T06:28:33.251Z"
   },
   {
    "duration": 56,
    "start_time": "2022-04-18T06:28:33.292Z"
   },
   {
    "duration": 201,
    "start_time": "2022-04-18T06:28:33.350Z"
   },
   {
    "duration": 13,
    "start_time": "2022-04-18T06:28:33.554Z"
   },
   {
    "duration": 60,
    "start_time": "2022-04-18T06:28:33.570Z"
   },
   {
    "duration": 252,
    "start_time": "2022-04-18T06:28:33.633Z"
   },
   {
    "duration": 42,
    "start_time": "2022-04-18T06:28:33.887Z"
   },
   {
    "duration": 42,
    "start_time": "2022-04-18T06:28:33.931Z"
   },
   {
    "duration": 33,
    "start_time": "2022-04-18T06:28:33.976Z"
   },
   {
    "duration": 21,
    "start_time": "2022-04-18T06:28:34.011Z"
   },
   {
    "duration": 33,
    "start_time": "2022-04-18T06:28:34.035Z"
   },
   {
    "duration": 17,
    "start_time": "2022-04-18T06:28:34.071Z"
   },
   {
    "duration": 38,
    "start_time": "2022-04-18T06:28:34.091Z"
   },
   {
    "duration": 19,
    "start_time": "2022-04-18T06:28:34.131Z"
   },
   {
    "duration": 22,
    "start_time": "2022-04-18T06:28:34.152Z"
   },
   {
    "duration": 9,
    "start_time": "2022-04-18T06:28:34.177Z"
   },
   {
    "duration": 36,
    "start_time": "2022-04-18T06:28:34.188Z"
   },
   {
    "duration": 6,
    "start_time": "2022-04-18T06:28:34.227Z"
   },
   {
    "duration": 31,
    "start_time": "2022-04-18T06:28:34.237Z"
   },
   {
    "duration": 78,
    "start_time": "2022-04-18T06:28:34.273Z"
   },
   {
    "duration": 34,
    "start_time": "2022-04-18T06:28:34.353Z"
   },
   {
    "duration": 49,
    "start_time": "2022-04-18T06:28:34.390Z"
   },
   {
    "duration": 13,
    "start_time": "2022-04-18T06:28:34.441Z"
   },
   {
    "duration": 43,
    "start_time": "2022-04-18T06:28:34.456Z"
   },
   {
    "duration": 40,
    "start_time": "2022-04-18T06:28:34.524Z"
   },
   {
    "duration": 76,
    "start_time": "2022-04-18T06:28:34.567Z"
   },
   {
    "duration": 20,
    "start_time": "2022-04-18T06:28:34.646Z"
   },
   {
    "duration": 61,
    "start_time": "2022-04-18T06:28:34.668Z"
   },
   {
    "duration": 25,
    "start_time": "2022-04-18T06:28:34.732Z"
   },
   {
    "duration": 67,
    "start_time": "2022-04-18T06:28:34.759Z"
   },
   {
    "duration": 15,
    "start_time": "2022-04-18T06:28:34.828Z"
   },
   {
    "duration": 36,
    "start_time": "2022-04-18T06:28:34.846Z"
   },
   {
    "duration": 1858,
    "start_time": "2022-04-18T06:29:03.336Z"
   },
   {
    "duration": 268,
    "start_time": "2022-04-18T06:29:05.197Z"
   },
   {
    "duration": 19,
    "start_time": "2022-04-18T06:29:05.467Z"
   },
   {
    "duration": 50,
    "start_time": "2022-04-18T06:29:05.489Z"
   },
   {
    "duration": 42,
    "start_time": "2022-04-18T06:29:05.542Z"
   },
   {
    "duration": 42,
    "start_time": "2022-04-18T06:29:05.586Z"
   },
   {
    "duration": 203,
    "start_time": "2022-04-18T06:29:05.630Z"
   },
   {
    "duration": 13,
    "start_time": "2022-04-18T06:29:05.835Z"
   },
   {
    "duration": 88,
    "start_time": "2022-04-18T06:29:05.850Z"
   },
   {
    "duration": 192,
    "start_time": "2022-04-18T06:29:05.942Z"
   },
   {
    "duration": 25,
    "start_time": "2022-04-18T06:29:06.137Z"
   },
   {
    "duration": 72,
    "start_time": "2022-04-18T06:29:06.165Z"
   },
   {
    "duration": 22,
    "start_time": "2022-04-18T06:29:06.239Z"
   },
   {
    "duration": 19,
    "start_time": "2022-04-18T06:29:06.264Z"
   },
   {
    "duration": 39,
    "start_time": "2022-04-18T06:29:06.285Z"
   },
   {
    "duration": 15,
    "start_time": "2022-04-18T06:29:06.327Z"
   },
   {
    "duration": 25,
    "start_time": "2022-04-18T06:29:06.344Z"
   },
   {
    "duration": 15,
    "start_time": "2022-04-18T06:29:06.371Z"
   },
   {
    "duration": 42,
    "start_time": "2022-04-18T06:29:06.389Z"
   },
   {
    "duration": 10,
    "start_time": "2022-04-18T06:29:06.434Z"
   },
   {
    "duration": 7,
    "start_time": "2022-04-18T06:29:06.446Z"
   },
   {
    "duration": 14,
    "start_time": "2022-04-18T06:29:06.455Z"
   },
   {
    "duration": 21,
    "start_time": "2022-04-18T06:29:06.471Z"
   },
   {
    "duration": 49,
    "start_time": "2022-04-18T06:29:06.524Z"
   },
   {
    "duration": 49,
    "start_time": "2022-04-18T06:29:06.576Z"
   },
   {
    "duration": 32,
    "start_time": "2022-04-18T06:29:06.628Z"
   },
   {
    "duration": 13,
    "start_time": "2022-04-18T06:29:06.662Z"
   },
   {
    "duration": 97,
    "start_time": "2022-04-18T06:29:06.683Z"
   },
   {
    "duration": 68,
    "start_time": "2022-04-18T06:29:06.783Z"
   },
   {
    "duration": 79,
    "start_time": "2022-04-18T06:29:06.854Z"
   },
   {
    "duration": 20,
    "start_time": "2022-04-18T06:29:06.936Z"
   },
   {
    "duration": 66,
    "start_time": "2022-04-18T06:29:06.958Z"
   },
   {
    "duration": 25,
    "start_time": "2022-04-18T06:29:07.027Z"
   },
   {
    "duration": 44,
    "start_time": "2022-04-18T06:29:07.055Z"
   },
   {
    "duration": 175,
    "start_time": "2022-04-18T06:29:07.101Z"
   },
   {
    "duration": 0,
    "start_time": "2022-04-18T06:29:07.278Z"
   },
   {
    "duration": 13,
    "start_time": "2022-04-18T06:30:09.050Z"
   },
   {
    "duration": 2249,
    "start_time": "2022-04-18T06:30:41.418Z"
   },
   {
    "duration": 2068,
    "start_time": "2022-04-18T06:30:53.897Z"
   },
   {
    "duration": 10,
    "start_time": "2022-04-18T06:31:16.803Z"
   },
   {
    "duration": 7,
    "start_time": "2022-04-18T06:32:20.316Z"
   },
   {
    "duration": 15,
    "start_time": "2022-04-18T06:32:46.020Z"
   },
   {
    "duration": 4,
    "start_time": "2022-04-18T06:32:56.584Z"
   },
   {
    "duration": 863,
    "start_time": "2022-04-18T06:32:56.591Z"
   },
   {
    "duration": 12,
    "start_time": "2022-04-18T06:32:57.457Z"
   },
   {
    "duration": 64,
    "start_time": "2022-04-18T06:32:57.473Z"
   },
   {
    "duration": 40,
    "start_time": "2022-04-18T06:32:57.540Z"
   },
   {
    "duration": 59,
    "start_time": "2022-04-18T06:32:57.583Z"
   },
   {
    "duration": 207,
    "start_time": "2022-04-18T06:32:57.645Z"
   },
   {
    "duration": 12,
    "start_time": "2022-04-18T06:32:57.854Z"
   },
   {
    "duration": 33,
    "start_time": "2022-04-18T06:32:57.869Z"
   },
   {
    "duration": 157,
    "start_time": "2022-04-18T06:32:57.904Z"
   },
   {
    "duration": 28,
    "start_time": "2022-04-18T06:32:58.063Z"
   },
   {
    "duration": 48,
    "start_time": "2022-04-18T06:32:58.094Z"
   },
   {
    "duration": 22,
    "start_time": "2022-04-18T06:32:58.144Z"
   },
   {
    "duration": 12,
    "start_time": "2022-04-18T06:32:58.168Z"
   },
   {
    "duration": 43,
    "start_time": "2022-04-18T06:32:58.182Z"
   },
   {
    "duration": 14,
    "start_time": "2022-04-18T06:32:58.228Z"
   },
   {
    "duration": 15,
    "start_time": "2022-04-18T06:32:58.244Z"
   },
   {
    "duration": 17,
    "start_time": "2022-04-18T06:32:58.262Z"
   },
   {
    "duration": 46,
    "start_time": "2022-04-18T06:32:58.281Z"
   },
   {
    "duration": 9,
    "start_time": "2022-04-18T06:32:58.329Z"
   },
   {
    "duration": 5,
    "start_time": "2022-04-18T06:32:58.340Z"
   },
   {
    "duration": 9,
    "start_time": "2022-04-18T06:32:58.347Z"
   },
   {
    "duration": 17,
    "start_time": "2022-04-18T06:32:58.358Z"
   },
   {
    "duration": 82,
    "start_time": "2022-04-18T06:32:58.379Z"
   },
   {
    "duration": 33,
    "start_time": "2022-04-18T06:32:58.464Z"
   },
   {
    "duration": 38,
    "start_time": "2022-04-18T06:32:58.499Z"
   },
   {
    "duration": 12,
    "start_time": "2022-04-18T06:32:58.539Z"
   },
   {
    "duration": 42,
    "start_time": "2022-04-18T06:32:58.553Z"
   },
   {
    "duration": 64,
    "start_time": "2022-04-18T06:32:58.597Z"
   },
   {
    "duration": 79,
    "start_time": "2022-04-18T06:32:58.663Z"
   },
   {
    "duration": 21,
    "start_time": "2022-04-18T06:32:58.744Z"
   },
   {
    "duration": 63,
    "start_time": "2022-04-18T06:32:58.767Z"
   },
   {
    "duration": 24,
    "start_time": "2022-04-18T06:32:58.832Z"
   },
   {
    "duration": 68,
    "start_time": "2022-04-18T06:32:58.858Z"
   },
   {
    "duration": 7,
    "start_time": "2022-04-18T06:32:58.928Z"
   },
   {
    "duration": 16,
    "start_time": "2022-04-18T06:32:58.937Z"
   },
   {
    "duration": 11,
    "start_time": "2022-04-18T06:36:44.629Z"
   },
   {
    "duration": 15,
    "start_time": "2022-04-18T06:38:04.031Z"
   },
   {
    "duration": 14,
    "start_time": "2022-04-18T06:38:18.480Z"
   },
   {
    "duration": 12,
    "start_time": "2022-04-18T06:39:46.529Z"
   },
   {
    "duration": 18,
    "start_time": "2022-04-18T06:39:53.359Z"
   },
   {
    "duration": 109,
    "start_time": "2022-04-18T06:41:05.852Z"
   },
   {
    "duration": 12,
    "start_time": "2022-04-18T06:41:09.567Z"
   },
   {
    "duration": 12,
    "start_time": "2022-04-18T06:41:19.729Z"
   },
   {
    "duration": 4,
    "start_time": "2022-04-18T06:41:26.888Z"
   },
   {
    "duration": 259,
    "start_time": "2022-04-18T06:41:26.895Z"
   },
   {
    "duration": 13,
    "start_time": "2022-04-18T06:41:27.157Z"
   },
   {
    "duration": 66,
    "start_time": "2022-04-18T06:41:27.174Z"
   },
   {
    "duration": 41,
    "start_time": "2022-04-18T06:41:27.243Z"
   },
   {
    "duration": 61,
    "start_time": "2022-04-18T06:41:27.286Z"
   },
   {
    "duration": 204,
    "start_time": "2022-04-18T06:41:27.349Z"
   },
   {
    "duration": 13,
    "start_time": "2022-04-18T06:41:27.555Z"
   },
   {
    "duration": 54,
    "start_time": "2022-04-18T06:41:27.572Z"
   },
   {
    "duration": 135,
    "start_time": "2022-04-18T06:41:27.628Z"
   },
   {
    "duration": 26,
    "start_time": "2022-04-18T06:41:27.766Z"
   },
   {
    "duration": 49,
    "start_time": "2022-04-18T06:41:27.794Z"
   },
   {
    "duration": 23,
    "start_time": "2022-04-18T06:41:27.845Z"
   },
   {
    "duration": 12,
    "start_time": "2022-04-18T06:41:27.870Z"
   },
   {
    "duration": 44,
    "start_time": "2022-04-18T06:41:27.884Z"
   },
   {
    "duration": 15,
    "start_time": "2022-04-18T06:41:27.930Z"
   },
   {
    "duration": 12,
    "start_time": "2022-04-18T06:41:27.948Z"
   },
   {
    "duration": 21,
    "start_time": "2022-04-18T06:41:27.963Z"
   },
   {
    "duration": 50,
    "start_time": "2022-04-18T06:41:27.987Z"
   },
   {
    "duration": 8,
    "start_time": "2022-04-18T06:41:28.040Z"
   },
   {
    "duration": 4,
    "start_time": "2022-04-18T06:41:28.051Z"
   },
   {
    "duration": 9,
    "start_time": "2022-04-18T06:41:28.057Z"
   },
   {
    "duration": 17,
    "start_time": "2022-04-18T06:41:28.068Z"
   },
   {
    "duration": 45,
    "start_time": "2022-04-18T06:41:28.124Z"
   },
   {
    "duration": 33,
    "start_time": "2022-04-18T06:41:28.171Z"
   },
   {
    "duration": 29,
    "start_time": "2022-04-18T06:41:28.224Z"
   },
   {
    "duration": 13,
    "start_time": "2022-04-18T06:41:28.256Z"
   },
   {
    "duration": 65,
    "start_time": "2022-04-18T06:41:28.271Z"
   },
   {
    "duration": 40,
    "start_time": "2022-04-18T06:41:28.339Z"
   },
   {
    "duration": 80,
    "start_time": "2022-04-18T06:41:28.382Z"
   },
   {
    "duration": 20,
    "start_time": "2022-04-18T06:41:28.465Z"
   },
   {
    "duration": 62,
    "start_time": "2022-04-18T06:41:28.487Z"
   },
   {
    "duration": 24,
    "start_time": "2022-04-18T06:41:28.551Z"
   },
   {
    "duration": 66,
    "start_time": "2022-04-18T06:41:28.577Z"
   },
   {
    "duration": 13,
    "start_time": "2022-04-18T06:41:28.645Z"
   },
   {
    "duration": 0,
    "start_time": "2022-04-18T06:41:28.660Z"
   },
   {
    "duration": 17,
    "start_time": "2022-04-18T06:41:55.208Z"
   },
   {
    "duration": 103,
    "start_time": "2022-04-18T06:42:04.087Z"
   },
   {
    "duration": 11,
    "start_time": "2022-04-18T06:42:12.496Z"
   },
   {
    "duration": 30,
    "start_time": "2022-04-18T06:42:17.577Z"
   },
   {
    "duration": 71,
    "start_time": "2022-04-18T06:43:49.115Z"
   },
   {
    "duration": 4,
    "start_time": "2022-04-18T06:43:53.867Z"
   },
   {
    "duration": 259,
    "start_time": "2022-04-18T06:43:53.874Z"
   },
   {
    "duration": 14,
    "start_time": "2022-04-18T06:43:54.136Z"
   },
   {
    "duration": 70,
    "start_time": "2022-04-18T06:43:54.154Z"
   },
   {
    "duration": 44,
    "start_time": "2022-04-18T06:43:54.227Z"
   },
   {
    "duration": 65,
    "start_time": "2022-04-18T06:43:54.275Z"
   },
   {
    "duration": 1046,
    "start_time": "2022-04-18T06:43:54.343Z"
   },
   {
    "duration": 13,
    "start_time": "2022-04-18T06:43:55.392Z"
   },
   {
    "duration": 35,
    "start_time": "2022-04-18T06:43:55.423Z"
   },
   {
    "duration": 155,
    "start_time": "2022-04-18T06:43:55.461Z"
   },
   {
    "duration": 27,
    "start_time": "2022-04-18T06:43:55.624Z"
   },
   {
    "duration": 35,
    "start_time": "2022-04-18T06:43:55.653Z"
   },
   {
    "duration": 35,
    "start_time": "2022-04-18T06:43:55.691Z"
   },
   {
    "duration": 12,
    "start_time": "2022-04-18T06:43:55.728Z"
   },
   {
    "duration": 49,
    "start_time": "2022-04-18T06:43:55.742Z"
   },
   {
    "duration": 15,
    "start_time": "2022-04-18T06:43:55.793Z"
   },
   {
    "duration": 20,
    "start_time": "2022-04-18T06:43:55.809Z"
   },
   {
    "duration": 54,
    "start_time": "2022-04-18T06:43:55.831Z"
   },
   {
    "duration": 26,
    "start_time": "2022-04-18T06:43:55.887Z"
   },
   {
    "duration": 20,
    "start_time": "2022-04-18T06:43:55.916Z"
   },
   {
    "duration": 7,
    "start_time": "2022-04-18T06:43:55.938Z"
   },
   {
    "duration": 9,
    "start_time": "2022-04-18T06:43:55.947Z"
   },
   {
    "duration": 19,
    "start_time": "2022-04-18T06:43:55.958Z"
   },
   {
    "duration": 65,
    "start_time": "2022-04-18T06:43:55.982Z"
   },
   {
    "duration": 35,
    "start_time": "2022-04-18T06:43:56.050Z"
   },
   {
    "duration": 46,
    "start_time": "2022-04-18T06:43:56.087Z"
   },
   {
    "duration": 13,
    "start_time": "2022-04-18T06:43:56.136Z"
   },
   {
    "duration": 44,
    "start_time": "2022-04-18T06:43:56.151Z"
   },
   {
    "duration": 64,
    "start_time": "2022-04-18T06:43:56.197Z"
   },
   {
    "duration": 74,
    "start_time": "2022-04-18T06:43:56.263Z"
   },
   {
    "duration": 21,
    "start_time": "2022-04-18T06:43:56.339Z"
   },
   {
    "duration": 64,
    "start_time": "2022-04-18T06:43:56.362Z"
   },
   {
    "duration": 24,
    "start_time": "2022-04-18T06:43:56.428Z"
   },
   {
    "duration": 45,
    "start_time": "2022-04-18T06:43:56.455Z"
   },
   {
    "duration": 16,
    "start_time": "2022-04-18T06:43:56.524Z"
   },
   {
    "duration": 29,
    "start_time": "2022-04-18T06:43:56.544Z"
   },
   {
    "duration": 16,
    "start_time": "2022-04-18T06:44:24.105Z"
   },
   {
    "duration": 23,
    "start_time": "2022-04-18T06:44:27.260Z"
   },
   {
    "duration": 30,
    "start_time": "2022-04-18T06:46:26.684Z"
   },
   {
    "duration": 30,
    "start_time": "2022-04-18T06:48:06.501Z"
   },
   {
    "duration": 14,
    "start_time": "2022-04-18T06:52:42.656Z"
   },
   {
    "duration": 24,
    "start_time": "2022-04-18T06:52:45.759Z"
   },
   {
    "duration": 29,
    "start_time": "2022-04-18T06:52:47.286Z"
   },
   {
    "duration": 30,
    "start_time": "2022-04-18T06:52:49.112Z"
   },
   {
    "duration": 38,
    "start_time": "2022-04-18T06:52:59.198Z"
   },
   {
    "duration": 11,
    "start_time": "2022-04-18T06:57:04.226Z"
   },
   {
    "duration": 12,
    "start_time": "2022-04-18T06:57:22.209Z"
   },
   {
    "duration": 12,
    "start_time": "2022-04-18T06:58:24.658Z"
   },
   {
    "duration": 104,
    "start_time": "2022-04-18T06:58:41.042Z"
   },
   {
    "duration": 36,
    "start_time": "2022-04-18T06:58:49.505Z"
   },
   {
    "duration": 35,
    "start_time": "2022-04-18T07:00:57.632Z"
   },
   {
    "duration": 1818,
    "start_time": "2022-04-18T07:03:22.575Z"
   },
   {
    "duration": 58,
    "start_time": "2022-04-18T07:03:31.916Z"
   },
   {
    "duration": 117,
    "start_time": "2022-04-18T07:19:21.557Z"
   },
   {
    "duration": 118,
    "start_time": "2022-04-18T07:19:50.485Z"
   },
   {
    "duration": 106,
    "start_time": "2022-04-18T07:20:08.255Z"
   },
   {
    "duration": 110,
    "start_time": "2022-04-18T07:20:33.527Z"
   },
   {
    "duration": 16,
    "start_time": "2022-04-18T07:21:35.694Z"
   },
   {
    "duration": 43,
    "start_time": "2022-04-18T07:22:18.448Z"
   },
   {
    "duration": 180,
    "start_time": "2022-04-18T07:24:07.523Z"
   },
   {
    "duration": 1356,
    "start_time": "2022-04-18T07:25:34.898Z"
   },
   {
    "duration": 130,
    "start_time": "2022-04-18T07:26:35.170Z"
   },
   {
    "duration": 56,
    "start_time": "2022-04-18T07:30:12.587Z"
   },
   {
    "duration": 51,
    "start_time": "2022-04-18T07:30:20.396Z"
   },
   {
    "duration": 50,
    "start_time": "2022-04-18T07:31:26.013Z"
   },
   {
    "duration": 49,
    "start_time": "2022-04-18T07:32:51.598Z"
   },
   {
    "duration": 30,
    "start_time": "2022-04-18T07:33:23.038Z"
   },
   {
    "duration": 47,
    "start_time": "2022-04-18T07:34:24.981Z"
   },
   {
    "duration": 80,
    "start_time": "2022-04-18T07:34:34.965Z"
   },
   {
    "duration": 112,
    "start_time": "2022-04-18T07:40:17.569Z"
   },
   {
    "duration": 105,
    "start_time": "2022-04-18T07:40:29.727Z"
   },
   {
    "duration": 52,
    "start_time": "2022-04-18T07:40:42.128Z"
   },
   {
    "duration": 229,
    "start_time": "2022-04-18T07:41:46.226Z"
   },
   {
    "duration": 358,
    "start_time": "2022-04-18T07:43:28.014Z"
   },
   {
    "duration": 235,
    "start_time": "2022-04-18T07:43:43.695Z"
   },
   {
    "duration": 202,
    "start_time": "2022-04-18T07:45:48.157Z"
   },
   {
    "duration": 219,
    "start_time": "2022-04-18T07:45:52.348Z"
   },
   {
    "duration": 218,
    "start_time": "2022-04-18T07:46:52.245Z"
   },
   {
    "duration": 2345,
    "start_time": "2022-04-18T07:48:50.025Z"
   },
   {
    "duration": 3012,
    "start_time": "2022-04-18T07:49:20.519Z"
   },
   {
    "duration": 3255,
    "start_time": "2022-04-18T07:50:35.319Z"
   },
   {
    "duration": 117,
    "start_time": "2022-04-18T07:56:54.603Z"
   },
   {
    "duration": 2875,
    "start_time": "2022-04-18T07:57:37.785Z"
   },
   {
    "duration": 2832,
    "start_time": "2022-04-18T08:00:09.844Z"
   },
   {
    "duration": 3393,
    "start_time": "2022-04-18T08:01:38.945Z"
   },
   {
    "duration": 3126,
    "start_time": "2022-04-18T08:01:54.221Z"
   },
   {
    "duration": 190,
    "start_time": "2022-04-18T08:08:16.554Z"
   },
   {
    "duration": 190,
    "start_time": "2022-04-18T08:10:41.673Z"
   },
   {
    "duration": 19,
    "start_time": "2022-04-18T08:15:11.496Z"
   },
   {
    "duration": 24,
    "start_time": "2022-04-18T08:15:49.761Z"
   },
   {
    "duration": 22,
    "start_time": "2022-04-18T08:18:53.443Z"
   },
   {
    "duration": 1912,
    "start_time": "2022-04-18T08:35:19.971Z"
   },
   {
    "duration": 44,
    "start_time": "2022-04-18T08:35:45.930Z"
   },
   {
    "duration": 46,
    "start_time": "2022-04-18T08:37:27.687Z"
   },
   {
    "duration": 44,
    "start_time": "2022-04-18T09:01:31.299Z"
   },
   {
    "duration": 1146,
    "start_time": "2022-04-18T09:01:49.676Z"
   },
   {
    "duration": 158,
    "start_time": "2022-04-18T09:01:50.824Z"
   },
   {
    "duration": 12,
    "start_time": "2022-04-18T09:01:50.984Z"
   },
   {
    "duration": 36,
    "start_time": "2022-04-18T09:01:50.998Z"
   },
   {
    "duration": 38,
    "start_time": "2022-04-18T09:01:51.035Z"
   },
   {
    "duration": 23,
    "start_time": "2022-04-18T09:01:51.075Z"
   },
   {
    "duration": 142,
    "start_time": "2022-04-18T09:01:51.099Z"
   },
   {
    "duration": 7,
    "start_time": "2022-04-18T09:01:51.247Z"
   },
   {
    "duration": 27,
    "start_time": "2022-04-18T09:01:51.255Z"
   },
   {
    "duration": 93,
    "start_time": "2022-04-18T09:01:51.284Z"
   },
   {
    "duration": 18,
    "start_time": "2022-04-18T09:01:51.379Z"
   },
   {
    "duration": 20,
    "start_time": "2022-04-18T09:01:51.399Z"
   },
   {
    "duration": 30,
    "start_time": "2022-04-18T09:01:51.420Z"
   },
   {
    "duration": 7,
    "start_time": "2022-04-18T09:01:51.451Z"
   },
   {
    "duration": 28,
    "start_time": "2022-04-18T09:01:51.460Z"
   },
   {
    "duration": 9,
    "start_time": "2022-04-18T09:01:51.489Z"
   },
   {
    "duration": 8,
    "start_time": "2022-04-18T09:01:51.499Z"
   },
   {
    "duration": 8,
    "start_time": "2022-04-18T09:01:51.508Z"
   },
   {
    "duration": 14,
    "start_time": "2022-04-18T09:01:51.517Z"
   },
   {
    "duration": 19,
    "start_time": "2022-04-18T09:01:51.533Z"
   },
   {
    "duration": 4,
    "start_time": "2022-04-18T09:01:51.553Z"
   },
   {
    "duration": 7,
    "start_time": "2022-04-18T09:01:51.558Z"
   },
   {
    "duration": 11,
    "start_time": "2022-04-18T09:01:51.566Z"
   },
   {
    "duration": 34,
    "start_time": "2022-04-18T09:01:51.578Z"
   },
   {
    "duration": 45,
    "start_time": "2022-04-18T09:01:51.614Z"
   },
   {
    "duration": 19,
    "start_time": "2022-04-18T09:01:51.661Z"
   },
   {
    "duration": 8,
    "start_time": "2022-04-18T09:01:51.682Z"
   },
   {
    "duration": 32,
    "start_time": "2022-04-18T09:01:51.692Z"
   },
   {
    "duration": 47,
    "start_time": "2022-04-18T09:01:51.725Z"
   },
   {
    "duration": 40,
    "start_time": "2022-04-18T09:01:51.773Z"
   },
   {
    "duration": 13,
    "start_time": "2022-04-18T09:01:51.815Z"
   },
   {
    "duration": 44,
    "start_time": "2022-04-18T09:01:51.829Z"
   },
   {
    "duration": 15,
    "start_time": "2022-04-18T09:01:51.875Z"
   },
   {
    "duration": 29,
    "start_time": "2022-04-18T09:01:51.892Z"
   },
   {
    "duration": 31,
    "start_time": "2022-04-18T09:01:51.923Z"
   },
   {
    "duration": 18,
    "start_time": "2022-04-18T09:01:51.956Z"
   },
   {
    "duration": 18,
    "start_time": "2022-04-18T09:01:51.976Z"
   },
   {
    "duration": 19,
    "start_time": "2022-04-18T09:01:51.995Z"
   },
   {
    "duration": 51,
    "start_time": "2022-04-18T09:01:52.015Z"
   },
   {
    "duration": 118,
    "start_time": "2022-04-18T09:01:52.068Z"
   },
   {
    "duration": 17,
    "start_time": "2022-04-18T09:01:52.187Z"
   },
   {
    "duration": 30,
    "start_time": "2022-04-18T09:22:29.051Z"
   },
   {
    "duration": 1967,
    "start_time": "2022-04-18T09:22:57.843Z"
   },
   {
    "duration": 1830,
    "start_time": "2022-04-18T09:23:21.979Z"
   },
   {
    "duration": 3,
    "start_time": "2022-04-18T09:23:28.769Z"
   },
   {
    "duration": 182,
    "start_time": "2022-04-18T09:23:28.773Z"
   },
   {
    "duration": 7,
    "start_time": "2022-04-18T09:23:28.957Z"
   },
   {
    "duration": 30,
    "start_time": "2022-04-18T09:23:28.966Z"
   },
   {
    "duration": 29,
    "start_time": "2022-04-18T09:23:28.997Z"
   },
   {
    "duration": 42,
    "start_time": "2022-04-18T09:23:29.027Z"
   },
   {
    "duration": 145,
    "start_time": "2022-04-18T09:23:29.071Z"
   },
   {
    "duration": 8,
    "start_time": "2022-04-18T09:23:29.217Z"
   },
   {
    "duration": 38,
    "start_time": "2022-04-18T09:23:29.226Z"
   },
   {
    "duration": 99,
    "start_time": "2022-04-18T09:23:29.265Z"
   },
   {
    "duration": 19,
    "start_time": "2022-04-18T09:23:29.367Z"
   },
   {
    "duration": 20,
    "start_time": "2022-04-18T09:23:29.387Z"
   },
   {
    "duration": 16,
    "start_time": "2022-04-18T09:23:29.408Z"
   },
   {
    "duration": 29,
    "start_time": "2022-04-18T09:23:29.425Z"
   },
   {
    "duration": 36,
    "start_time": "2022-04-18T09:23:29.456Z"
   },
   {
    "duration": 9,
    "start_time": "2022-04-18T09:23:29.494Z"
   },
   {
    "duration": 8,
    "start_time": "2022-04-18T09:23:29.505Z"
   },
   {
    "duration": 7,
    "start_time": "2022-04-18T09:23:29.515Z"
   },
   {
    "duration": 13,
    "start_time": "2022-04-18T09:23:29.523Z"
   },
   {
    "duration": 6,
    "start_time": "2022-04-18T09:23:29.547Z"
   },
   {
    "duration": 5,
    "start_time": "2022-04-18T09:23:29.555Z"
   },
   {
    "duration": 9,
    "start_time": "2022-04-18T09:23:29.561Z"
   },
   {
    "duration": 13,
    "start_time": "2022-04-18T09:23:29.571Z"
   },
   {
    "duration": 29,
    "start_time": "2022-04-18T09:23:29.586Z"
   },
   {
    "duration": 41,
    "start_time": "2022-04-18T09:23:29.617Z"
   },
   {
    "duration": 18,
    "start_time": "2022-04-18T09:23:29.660Z"
   },
   {
    "duration": 8,
    "start_time": "2022-04-18T09:23:29.680Z"
   },
   {
    "duration": 28,
    "start_time": "2022-04-18T09:23:29.690Z"
   },
   {
    "duration": 46,
    "start_time": "2022-04-18T09:23:29.722Z"
   },
   {
    "duration": 38,
    "start_time": "2022-04-18T09:23:29.769Z"
   },
   {
    "duration": 14,
    "start_time": "2022-04-18T09:23:29.809Z"
   },
   {
    "duration": 28,
    "start_time": "2022-04-18T09:23:29.847Z"
   },
   {
    "duration": 16,
    "start_time": "2022-04-18T09:23:29.876Z"
   },
   {
    "duration": 29,
    "start_time": "2022-04-18T09:23:29.894Z"
   },
   {
    "duration": 30,
    "start_time": "2022-04-18T09:23:29.924Z"
   },
   {
    "duration": 17,
    "start_time": "2022-04-18T09:23:29.956Z"
   },
   {
    "duration": 16,
    "start_time": "2022-04-18T09:23:29.974Z"
   },
   {
    "duration": 18,
    "start_time": "2022-04-18T09:23:29.991Z"
   },
   {
    "duration": 50,
    "start_time": "2022-04-18T09:23:30.011Z"
   },
   {
    "duration": 109,
    "start_time": "2022-04-18T09:23:30.063Z"
   },
   {
    "duration": 11,
    "start_time": "2022-04-18T09:23:30.173Z"
   },
   {
    "duration": 19,
    "start_time": "2022-04-18T09:23:44.720Z"
   },
   {
    "duration": 8,
    "start_time": "2022-04-18T09:27:13.779Z"
   },
   {
    "duration": 3,
    "start_time": "2022-04-18T09:27:19.482Z"
   },
   {
    "duration": 3,
    "start_time": "2022-04-18T09:27:31.571Z"
   },
   {
    "duration": 5,
    "start_time": "2022-04-18T09:28:28.436Z"
   },
   {
    "duration": 5,
    "start_time": "2022-04-18T09:28:48.259Z"
   },
   {
    "duration": 15,
    "start_time": "2022-04-18T09:30:27.792Z"
   },
   {
    "duration": 21,
    "start_time": "2022-04-18T09:30:51.253Z"
   },
   {
    "duration": 13,
    "start_time": "2022-04-18T09:32:45.664Z"
   },
   {
    "duration": 31,
    "start_time": "2022-04-18T09:33:01.816Z"
   },
   {
    "duration": 27,
    "start_time": "2022-04-18T09:34:22.014Z"
   },
   {
    "duration": 11,
    "start_time": "2022-04-18T09:36:14.408Z"
   },
   {
    "duration": 8,
    "start_time": "2022-04-18T09:36:26.336Z"
   },
   {
    "duration": 7,
    "start_time": "2022-04-18T09:39:11.057Z"
   },
   {
    "duration": 7,
    "start_time": "2022-04-18T09:39:20.494Z"
   },
   {
    "duration": 10,
    "start_time": "2022-04-18T09:39:26.840Z"
   },
   {
    "duration": 145,
    "start_time": "2022-04-18T09:39:41.323Z"
   },
   {
    "duration": 128,
    "start_time": "2022-04-18T09:39:51.018Z"
   },
   {
    "duration": 116,
    "start_time": "2022-04-18T09:39:57.528Z"
   },
   {
    "duration": 7,
    "start_time": "2022-04-18T09:40:04.370Z"
   },
   {
    "duration": 7,
    "start_time": "2022-04-18T09:40:53.353Z"
   },
   {
    "duration": 8,
    "start_time": "2022-04-18T09:41:14.845Z"
   },
   {
    "duration": 2740,
    "start_time": "2022-04-18T09:41:54.579Z"
   },
   {
    "duration": 10,
    "start_time": "2022-04-18T09:42:12.123Z"
   },
   {
    "duration": 171,
    "start_time": "2022-04-18T09:45:31.977Z"
   },
   {
    "duration": 187,
    "start_time": "2022-04-18T09:46:09.262Z"
   },
   {
    "duration": 4,
    "start_time": "2022-04-18T09:46:23.948Z"
   },
   {
    "duration": 126,
    "start_time": "2022-04-18T09:46:30.180Z"
   },
   {
    "duration": 181,
    "start_time": "2022-04-18T09:47:25.669Z"
   },
   {
    "duration": 75,
    "start_time": "2022-04-18T09:48:17.150Z"
   },
   {
    "duration": 1909,
    "start_time": "2022-04-18T09:49:28.773Z"
   },
   {
    "duration": 13,
    "start_time": "2022-04-18T09:49:43.832Z"
   },
   {
    "duration": 138,
    "start_time": "2022-04-18T10:10:36.929Z"
   },
   {
    "duration": 128,
    "start_time": "2022-04-18T10:18:57.842Z"
   },
   {
    "duration": 141,
    "start_time": "2022-04-18T10:19:17.225Z"
   },
   {
    "duration": 145,
    "start_time": "2022-04-18T10:22:30.789Z"
   },
   {
    "duration": 161,
    "start_time": "2022-04-18T10:22:39.215Z"
   },
   {
    "duration": 29,
    "start_time": "2022-04-18T10:39:40.821Z"
   },
   {
    "duration": 28,
    "start_time": "2022-04-18T10:40:10.266Z"
   },
   {
    "duration": 164,
    "start_time": "2022-04-18T10:40:44.742Z"
   },
   {
    "duration": 29,
    "start_time": "2022-04-18T10:40:55.974Z"
   },
   {
    "duration": 43,
    "start_time": "2022-04-18T10:43:09.052Z"
   },
   {
    "duration": 114,
    "start_time": "2022-04-18T10:45:51.729Z"
   },
   {
    "duration": 21,
    "start_time": "2022-04-18T10:46:34.489Z"
   },
   {
    "duration": 31,
    "start_time": "2022-04-18T10:47:12.282Z"
   },
   {
    "duration": 26,
    "start_time": "2022-04-18T10:47:33.261Z"
   },
   {
    "duration": 224,
    "start_time": "2022-04-18T11:18:53.297Z"
   },
   {
    "duration": 167,
    "start_time": "2022-04-18T11:19:05.825Z"
   },
   {
    "duration": 407,
    "start_time": "2022-04-18T11:19:14.491Z"
   },
   {
    "duration": 206,
    "start_time": "2022-04-18T11:19:52.490Z"
   },
   {
    "duration": 218,
    "start_time": "2022-04-18T11:20:11.717Z"
   },
   {
    "duration": 211,
    "start_time": "2022-04-18T11:21:34.716Z"
   },
   {
    "duration": 194,
    "start_time": "2022-04-18T11:22:44.859Z"
   },
   {
    "duration": 308,
    "start_time": "2022-04-18T11:23:01.359Z"
   },
   {
    "duration": 59,
    "start_time": "2022-04-18T11:28:07.566Z"
   },
   {
    "duration": 12,
    "start_time": "2022-04-18T11:35:20.530Z"
   },
   {
    "duration": 5,
    "start_time": "2022-04-18T11:37:43.404Z"
   },
   {
    "duration": 6,
    "start_time": "2022-04-18T11:39:24.974Z"
   },
   {
    "duration": 11,
    "start_time": "2022-04-18T11:40:36.643Z"
   },
   {
    "duration": 6,
    "start_time": "2022-04-18T11:40:53.987Z"
   },
   {
    "duration": 9,
    "start_time": "2022-04-18T11:42:02.315Z"
   },
   {
    "duration": 8,
    "start_time": "2022-04-18T11:42:17.240Z"
   },
   {
    "duration": 3,
    "start_time": "2022-04-18T11:42:27.622Z"
   },
   {
    "duration": 805,
    "start_time": "2022-04-18T11:42:27.626Z"
   },
   {
    "duration": 7,
    "start_time": "2022-04-18T11:42:28.433Z"
   },
   {
    "duration": 45,
    "start_time": "2022-04-18T11:42:28.442Z"
   },
   {
    "duration": 31,
    "start_time": "2022-04-18T11:42:28.489Z"
   },
   {
    "duration": 42,
    "start_time": "2022-04-18T11:42:28.522Z"
   },
   {
    "duration": 164,
    "start_time": "2022-04-18T11:42:28.565Z"
   },
   {
    "duration": 9,
    "start_time": "2022-04-18T11:42:28.730Z"
   },
   {
    "duration": 26,
    "start_time": "2022-04-18T11:42:28.763Z"
   },
   {
    "duration": 108,
    "start_time": "2022-04-18T11:42:28.791Z"
   },
   {
    "duration": 20,
    "start_time": "2022-04-18T11:42:28.902Z"
   },
   {
    "duration": 37,
    "start_time": "2022-04-18T11:42:28.923Z"
   },
   {
    "duration": 16,
    "start_time": "2022-04-18T11:42:28.962Z"
   },
   {
    "duration": 7,
    "start_time": "2022-04-18T11:42:28.980Z"
   },
   {
    "duration": 62,
    "start_time": "2022-04-18T11:42:28.989Z"
   },
   {
    "duration": 13,
    "start_time": "2022-04-18T11:42:29.054Z"
   },
   {
    "duration": 12,
    "start_time": "2022-04-18T11:42:29.069Z"
   },
   {
    "duration": 9,
    "start_time": "2022-04-18T11:42:29.083Z"
   },
   {
    "duration": 13,
    "start_time": "2022-04-18T11:42:29.093Z"
   },
   {
    "duration": 5,
    "start_time": "2022-04-18T11:42:29.108Z"
   },
   {
    "duration": 4,
    "start_time": "2022-04-18T11:42:29.115Z"
   },
   {
    "duration": 35,
    "start_time": "2022-04-18T11:42:29.120Z"
   },
   {
    "duration": 23,
    "start_time": "2022-04-18T11:42:29.158Z"
   },
   {
    "duration": 33,
    "start_time": "2022-04-18T11:42:29.182Z"
   },
   {
    "duration": 22,
    "start_time": "2022-04-18T11:42:29.217Z"
   },
   {
    "duration": 39,
    "start_time": "2022-04-18T11:42:29.240Z"
   },
   {
    "duration": 13,
    "start_time": "2022-04-18T11:42:29.281Z"
   },
   {
    "duration": 29,
    "start_time": "2022-04-18T11:42:29.296Z"
   },
   {
    "duration": 61,
    "start_time": "2022-04-18T11:42:29.329Z"
   },
   {
    "duration": 38,
    "start_time": "2022-04-18T11:42:29.392Z"
   },
   {
    "duration": 14,
    "start_time": "2022-04-18T11:42:29.431Z"
   },
   {
    "duration": 34,
    "start_time": "2022-04-18T11:42:29.461Z"
   },
   {
    "duration": 16,
    "start_time": "2022-04-18T11:42:29.496Z"
   },
   {
    "duration": 40,
    "start_time": "2022-04-18T11:42:29.513Z"
   },
   {
    "duration": 14,
    "start_time": "2022-04-18T11:42:29.559Z"
   },
   {
    "duration": 20,
    "start_time": "2022-04-18T11:42:29.574Z"
   },
   {
    "duration": 17,
    "start_time": "2022-04-18T11:42:29.595Z"
   },
   {
    "duration": 38,
    "start_time": "2022-04-18T11:42:29.613Z"
   },
   {
    "duration": 31,
    "start_time": "2022-04-18T11:42:29.652Z"
   },
   {
    "duration": 126,
    "start_time": "2022-04-18T11:42:29.685Z"
   },
   {
    "duration": 61,
    "start_time": "2022-04-18T11:42:29.813Z"
   },
   {
    "duration": 6,
    "start_time": "2022-04-18T11:42:29.876Z"
   },
   {
    "duration": 29,
    "start_time": "2022-04-18T11:42:29.883Z"
   },
   {
    "duration": 13,
    "start_time": "2022-04-18T11:42:29.914Z"
   },
   {
    "duration": 253,
    "start_time": "2022-04-18T11:42:29.947Z"
   },
   {
    "duration": 229,
    "start_time": "2022-04-18T11:42:30.201Z"
   },
   {
    "duration": 241,
    "start_time": "2022-04-18T11:42:30.432Z"
   },
   {
    "duration": 12,
    "start_time": "2022-04-18T11:42:30.675Z"
   },
   {
    "duration": 12,
    "start_time": "2022-04-18T11:42:30.690Z"
   },
   {
    "duration": 13,
    "start_time": "2022-04-18T11:42:30.703Z"
   },
   {
    "duration": 7,
    "start_time": "2022-04-18T11:42:30.717Z"
   },
   {
    "duration": 127,
    "start_time": "2022-04-18T11:43:46.631Z"
   },
   {
    "duration": 137,
    "start_time": "2022-04-18T11:43:52.638Z"
   },
   {
    "duration": 119,
    "start_time": "2022-04-18T11:44:35.887Z"
   },
   {
    "duration": 129,
    "start_time": "2022-04-18T11:44:44.144Z"
   },
   {
    "duration": 121,
    "start_time": "2022-04-18T11:45:20.711Z"
   },
   {
    "duration": 143,
    "start_time": "2022-04-18T11:45:42.201Z"
   },
   {
    "duration": 118,
    "start_time": "2022-04-18T11:46:39.067Z"
   },
   {
    "duration": 14,
    "start_time": "2022-04-18T11:50:42.598Z"
   },
   {
    "duration": 14,
    "start_time": "2022-04-18T11:50:49.193Z"
   },
   {
    "duration": 3,
    "start_time": "2022-04-18T11:51:06.121Z"
   },
   {
    "duration": 203,
    "start_time": "2022-04-18T11:51:06.126Z"
   },
   {
    "duration": 13,
    "start_time": "2022-04-18T11:51:06.351Z"
   },
   {
    "duration": 44,
    "start_time": "2022-04-18T11:51:06.366Z"
   },
   {
    "duration": 29,
    "start_time": "2022-04-18T11:51:06.412Z"
   },
   {
    "duration": 34,
    "start_time": "2022-04-18T11:51:06.448Z"
   },
   {
    "duration": 148,
    "start_time": "2022-04-18T11:51:06.484Z"
   },
   {
    "duration": 16,
    "start_time": "2022-04-18T11:51:06.634Z"
   },
   {
    "duration": 34,
    "start_time": "2022-04-18T11:51:06.651Z"
   },
   {
    "duration": 114,
    "start_time": "2022-04-18T11:51:06.687Z"
   },
   {
    "duration": 20,
    "start_time": "2022-04-18T11:51:06.803Z"
   },
   {
    "duration": 39,
    "start_time": "2022-04-18T11:51:06.824Z"
   },
   {
    "duration": 20,
    "start_time": "2022-04-18T11:51:06.870Z"
   },
   {
    "duration": 8,
    "start_time": "2022-04-18T11:51:06.892Z"
   },
   {
    "duration": 54,
    "start_time": "2022-04-18T11:51:06.901Z"
   },
   {
    "duration": 15,
    "start_time": "2022-04-18T11:51:06.958Z"
   },
   {
    "duration": 10,
    "start_time": "2022-04-18T11:51:06.975Z"
   },
   {
    "duration": 11,
    "start_time": "2022-04-18T11:51:06.987Z"
   },
   {
    "duration": 22,
    "start_time": "2022-04-18T11:51:07.000Z"
   },
   {
    "duration": 29,
    "start_time": "2022-04-18T11:51:07.023Z"
   },
   {
    "duration": 18,
    "start_time": "2022-04-18T11:51:07.056Z"
   },
   {
    "duration": 7,
    "start_time": "2022-04-18T11:51:07.076Z"
   },
   {
    "duration": 12,
    "start_time": "2022-04-18T11:51:07.085Z"
   },
   {
    "duration": 30,
    "start_time": "2022-04-18T11:51:07.099Z"
   },
   {
    "duration": 46,
    "start_time": "2022-04-18T11:51:07.130Z"
   },
   {
    "duration": 29,
    "start_time": "2022-04-18T11:51:07.179Z"
   },
   {
    "duration": 8,
    "start_time": "2022-04-18T11:51:07.210Z"
   },
   {
    "duration": 58,
    "start_time": "2022-04-18T11:51:07.219Z"
   },
   {
    "duration": 27,
    "start_time": "2022-04-18T11:51:07.281Z"
   },
   {
    "duration": 53,
    "start_time": "2022-04-18T11:51:07.309Z"
   },
   {
    "duration": 18,
    "start_time": "2022-04-18T11:51:07.364Z"
   },
   {
    "duration": 30,
    "start_time": "2022-04-18T11:51:07.384Z"
   },
   {
    "duration": 43,
    "start_time": "2022-04-18T11:51:07.416Z"
   },
   {
    "duration": 38,
    "start_time": "2022-04-18T11:51:07.462Z"
   },
   {
    "duration": 10,
    "start_time": "2022-04-18T11:51:07.502Z"
   },
   {
    "duration": 16,
    "start_time": "2022-04-18T11:51:07.514Z"
   },
   {
    "duration": 22,
    "start_time": "2022-04-18T11:51:07.548Z"
   },
   {
    "duration": 23,
    "start_time": "2022-04-18T11:51:07.571Z"
   },
   {
    "duration": 21,
    "start_time": "2022-04-18T11:51:07.596Z"
   },
   {
    "duration": 37,
    "start_time": "2022-04-18T11:51:07.619Z"
   },
   {
    "duration": 0,
    "start_time": "2022-04-18T11:51:07.658Z"
   },
   {
    "duration": 0,
    "start_time": "2022-04-18T11:51:07.659Z"
   },
   {
    "duration": 0,
    "start_time": "2022-04-18T11:51:07.660Z"
   },
   {
    "duration": 0,
    "start_time": "2022-04-18T11:51:07.661Z"
   },
   {
    "duration": 0,
    "start_time": "2022-04-18T11:51:07.662Z"
   },
   {
    "duration": 0,
    "start_time": "2022-04-18T11:51:07.663Z"
   },
   {
    "duration": 0,
    "start_time": "2022-04-18T11:51:07.665Z"
   },
   {
    "duration": 0,
    "start_time": "2022-04-18T11:51:07.666Z"
   },
   {
    "duration": 0,
    "start_time": "2022-04-18T11:51:07.667Z"
   },
   {
    "duration": 0,
    "start_time": "2022-04-18T11:51:07.667Z"
   },
   {
    "duration": 0,
    "start_time": "2022-04-18T11:51:07.668Z"
   },
   {
    "duration": 24,
    "start_time": "2022-04-18T11:52:25.338Z"
   },
   {
    "duration": 27,
    "start_time": "2022-04-18T11:52:36.133Z"
   },
   {
    "duration": 61,
    "start_time": "2022-04-18T11:52:57.661Z"
   },
   {
    "duration": 110,
    "start_time": "2022-04-18T11:53:42.050Z"
   },
   {
    "duration": 1431,
    "start_time": "2022-04-18T11:57:26.263Z"
   },
   {
    "duration": 121,
    "start_time": "2022-04-18T11:57:39.836Z"
   },
   {
    "duration": 3,
    "start_time": "2022-04-18T11:57:49.107Z"
   },
   {
    "duration": 200,
    "start_time": "2022-04-18T11:57:49.111Z"
   },
   {
    "duration": 7,
    "start_time": "2022-04-18T11:57:49.313Z"
   },
   {
    "duration": 51,
    "start_time": "2022-04-18T11:57:49.321Z"
   },
   {
    "duration": 28,
    "start_time": "2022-04-18T11:57:49.375Z"
   },
   {
    "duration": 22,
    "start_time": "2022-04-18T11:57:49.405Z"
   },
   {
    "duration": 158,
    "start_time": "2022-04-18T11:57:49.428Z"
   },
   {
    "duration": 8,
    "start_time": "2022-04-18T11:57:49.588Z"
   },
   {
    "duration": 26,
    "start_time": "2022-04-18T11:57:49.598Z"
   },
   {
    "duration": 118,
    "start_time": "2022-04-18T11:57:49.625Z"
   },
   {
    "duration": 28,
    "start_time": "2022-04-18T11:57:49.746Z"
   },
   {
    "duration": 19,
    "start_time": "2022-04-18T11:57:49.776Z"
   },
   {
    "duration": 17,
    "start_time": "2022-04-18T11:57:49.797Z"
   },
   {
    "duration": 6,
    "start_time": "2022-04-18T11:57:49.816Z"
   },
   {
    "duration": 52,
    "start_time": "2022-04-18T11:57:49.849Z"
   },
   {
    "duration": 9,
    "start_time": "2022-04-18T11:57:49.903Z"
   },
   {
    "duration": 7,
    "start_time": "2022-04-18T11:57:49.914Z"
   },
   {
    "duration": 7,
    "start_time": "2022-04-18T11:57:49.923Z"
   },
   {
    "duration": 12,
    "start_time": "2022-04-18T11:57:49.931Z"
   },
   {
    "duration": 22,
    "start_time": "2022-04-18T11:57:49.944Z"
   },
   {
    "duration": 6,
    "start_time": "2022-04-18T11:57:49.968Z"
   },
   {
    "duration": 7,
    "start_time": "2022-04-18T11:57:49.975Z"
   },
   {
    "duration": 12,
    "start_time": "2022-04-18T11:57:49.984Z"
   },
   {
    "duration": 31,
    "start_time": "2022-04-18T11:57:49.998Z"
   },
   {
    "duration": 38,
    "start_time": "2022-04-18T11:57:50.030Z"
   },
   {
    "duration": 20,
    "start_time": "2022-04-18T11:57:50.069Z"
   },
   {
    "duration": 8,
    "start_time": "2022-04-18T11:57:50.091Z"
   },
   {
    "duration": 48,
    "start_time": "2022-04-18T11:57:50.101Z"
   },
   {
    "duration": 28,
    "start_time": "2022-04-18T11:57:50.156Z"
   },
   {
    "duration": 39,
    "start_time": "2022-04-18T11:57:50.185Z"
   },
   {
    "duration": 33,
    "start_time": "2022-04-18T11:57:50.225Z"
   },
   {
    "duration": 29,
    "start_time": "2022-04-18T11:57:50.260Z"
   },
   {
    "duration": 16,
    "start_time": "2022-04-18T11:57:50.291Z"
   },
   {
    "duration": 69,
    "start_time": "2022-04-18T11:57:50.308Z"
   },
   {
    "duration": 10,
    "start_time": "2022-04-18T11:57:50.378Z"
   },
   {
    "duration": 15,
    "start_time": "2022-04-18T11:57:50.389Z"
   },
   {
    "duration": 15,
    "start_time": "2022-04-18T11:57:50.406Z"
   },
   {
    "duration": 16,
    "start_time": "2022-04-18T11:57:50.423Z"
   },
   {
    "duration": 29,
    "start_time": "2022-04-18T11:57:50.440Z"
   },
   {
    "duration": 118,
    "start_time": "2022-04-18T11:57:50.470Z"
   },
   {
    "duration": 39,
    "start_time": "2022-04-18T11:57:50.589Z"
   },
   {
    "duration": 5,
    "start_time": "2022-04-18T11:57:50.630Z"
   },
   {
    "duration": 30,
    "start_time": "2022-04-18T11:57:50.637Z"
   },
   {
    "duration": 13,
    "start_time": "2022-04-18T11:57:50.669Z"
   },
   {
    "duration": 223,
    "start_time": "2022-04-18T11:57:50.683Z"
   },
   {
    "duration": 339,
    "start_time": "2022-04-18T11:57:50.908Z"
   },
   {
    "duration": 246,
    "start_time": "2022-04-18T11:57:51.249Z"
   },
   {
    "duration": 7,
    "start_time": "2022-04-18T11:57:51.497Z"
   },
   {
    "duration": 7,
    "start_time": "2022-04-18T11:57:51.506Z"
   },
   {
    "duration": 36,
    "start_time": "2022-04-18T11:57:51.515Z"
   },
   {
    "duration": 14,
    "start_time": "2022-04-18T11:57:51.554Z"
   },
   {
    "duration": 123,
    "start_time": "2022-04-18T11:59:33.789Z"
   },
   {
    "duration": 7,
    "start_time": "2022-04-18T12:00:52.414Z"
   },
   {
    "duration": 11,
    "start_time": "2022-04-18T12:01:29.109Z"
   },
   {
    "duration": 7,
    "start_time": "2022-04-18T12:01:48.092Z"
   },
   {
    "duration": 6,
    "start_time": "2022-04-18T12:02:04.918Z"
   },
   {
    "duration": 6,
    "start_time": "2022-04-18T12:02:27.565Z"
   },
   {
    "duration": 7,
    "start_time": "2022-04-18T12:11:07.784Z"
   },
   {
    "duration": 8,
    "start_time": "2022-04-18T12:14:02.202Z"
   },
   {
    "duration": 12,
    "start_time": "2022-04-18T12:14:17.261Z"
   },
   {
    "duration": 7,
    "start_time": "2022-04-18T12:14:44.477Z"
   },
   {
    "duration": 10,
    "start_time": "2022-04-18T12:15:09.060Z"
   },
   {
    "duration": 10,
    "start_time": "2022-04-18T12:16:32.115Z"
   },
   {
    "duration": 9,
    "start_time": "2022-04-18T12:18:36.967Z"
   },
   {
    "duration": 9,
    "start_time": "2022-04-18T12:18:46.694Z"
   },
   {
    "duration": 8,
    "start_time": "2022-04-18T12:19:00.182Z"
   },
   {
    "duration": 8,
    "start_time": "2022-04-18T12:19:01.357Z"
   },
   {
    "duration": 35,
    "start_time": "2022-04-18T12:19:24.532Z"
   },
   {
    "duration": 38,
    "start_time": "2022-04-18T12:19:32.133Z"
   },
   {
    "duration": 7,
    "start_time": "2022-04-18T12:23:06.672Z"
   },
   {
    "duration": 1499,
    "start_time": "2022-04-18T12:23:13.505Z"
   },
   {
    "duration": 1545,
    "start_time": "2022-04-18T12:23:48.659Z"
   },
   {
    "duration": 4,
    "start_time": "2022-04-18T12:24:22.649Z"
   },
   {
    "duration": 193,
    "start_time": "2022-04-18T12:24:22.659Z"
   },
   {
    "duration": 9,
    "start_time": "2022-04-18T12:24:22.855Z"
   },
   {
    "duration": 29,
    "start_time": "2022-04-18T12:24:22.866Z"
   },
   {
    "duration": 52,
    "start_time": "2022-04-18T12:24:22.897Z"
   },
   {
    "duration": 29,
    "start_time": "2022-04-18T12:24:22.951Z"
   },
   {
    "duration": 141,
    "start_time": "2022-04-18T12:24:22.982Z"
   },
   {
    "duration": 8,
    "start_time": "2022-04-18T12:24:23.125Z"
   },
   {
    "duration": 29,
    "start_time": "2022-04-18T12:24:23.135Z"
   },
   {
    "duration": 108,
    "start_time": "2022-04-18T12:24:23.167Z"
   },
   {
    "duration": 20,
    "start_time": "2022-04-18T12:24:23.276Z"
   },
   {
    "duration": 20,
    "start_time": "2022-04-18T12:24:23.297Z"
   },
   {
    "duration": 35,
    "start_time": "2022-04-18T12:24:23.319Z"
   },
   {
    "duration": 10,
    "start_time": "2022-04-18T12:24:23.356Z"
   },
   {
    "duration": 31,
    "start_time": "2022-04-18T12:24:23.370Z"
   },
   {
    "duration": 9,
    "start_time": "2022-04-18T12:24:23.403Z"
   },
   {
    "duration": 8,
    "start_time": "2022-04-18T12:24:23.414Z"
   },
   {
    "duration": 27,
    "start_time": "2022-04-18T12:24:23.423Z"
   },
   {
    "duration": 19,
    "start_time": "2022-04-18T12:24:23.452Z"
   },
   {
    "duration": 7,
    "start_time": "2022-04-18T12:24:23.473Z"
   },
   {
    "duration": 4,
    "start_time": "2022-04-18T12:24:23.481Z"
   },
   {
    "duration": 5,
    "start_time": "2022-04-18T12:24:23.486Z"
   },
   {
    "duration": 13,
    "start_time": "2022-04-18T12:24:23.492Z"
   },
   {
    "duration": 47,
    "start_time": "2022-04-18T12:24:23.507Z"
   },
   {
    "duration": 26,
    "start_time": "2022-04-18T12:24:23.556Z"
   },
   {
    "duration": 22,
    "start_time": "2022-04-18T12:24:23.584Z"
   },
   {
    "duration": 10,
    "start_time": "2022-04-18T12:24:23.609Z"
   },
   {
    "duration": 56,
    "start_time": "2022-04-18T12:24:23.623Z"
   },
   {
    "duration": 26,
    "start_time": "2022-04-18T12:24:23.680Z"
   },
   {
    "duration": 60,
    "start_time": "2022-04-18T12:24:23.708Z"
   },
   {
    "duration": 14,
    "start_time": "2022-04-18T12:24:23.770Z"
   },
   {
    "duration": 29,
    "start_time": "2022-04-18T12:24:23.786Z"
   },
   {
    "duration": 41,
    "start_time": "2022-04-18T12:24:23.817Z"
   },
   {
    "duration": 30,
    "start_time": "2022-04-18T12:24:23.860Z"
   },
   {
    "duration": 9,
    "start_time": "2022-04-18T12:24:23.892Z"
   },
   {
    "duration": 13,
    "start_time": "2022-04-18T12:24:23.903Z"
   },
   {
    "duration": 49,
    "start_time": "2022-04-18T12:24:23.918Z"
   },
   {
    "duration": 17,
    "start_time": "2022-04-18T12:24:23.969Z"
   },
   {
    "duration": 22,
    "start_time": "2022-04-18T12:24:23.988Z"
   },
   {
    "duration": 139,
    "start_time": "2022-04-18T12:24:24.012Z"
   },
   {
    "duration": 41,
    "start_time": "2022-04-18T12:24:24.157Z"
   },
   {
    "duration": 6,
    "start_time": "2022-04-18T12:24:24.202Z"
   },
   {
    "duration": 41,
    "start_time": "2022-04-18T12:24:24.209Z"
   },
   {
    "duration": 17,
    "start_time": "2022-04-18T12:24:24.252Z"
   },
   {
    "duration": 220,
    "start_time": "2022-04-18T12:24:24.270Z"
   },
   {
    "duration": 298,
    "start_time": "2022-04-18T12:24:24.492Z"
   },
   {
    "duration": 219,
    "start_time": "2022-04-18T12:24:24.792Z"
   },
   {
    "duration": 8,
    "start_time": "2022-04-18T12:24:25.013Z"
   },
   {
    "duration": 11,
    "start_time": "2022-04-18T12:24:25.022Z"
   },
   {
    "duration": 17,
    "start_time": "2022-04-18T12:24:25.051Z"
   },
   {
    "duration": 8,
    "start_time": "2022-04-18T12:24:25.069Z"
   },
   {
    "duration": 12,
    "start_time": "2022-04-18T12:24:25.078Z"
   },
   {
    "duration": 6,
    "start_time": "2022-04-18T12:24:25.092Z"
   },
   {
    "duration": 9,
    "start_time": "2022-04-18T12:24:25.100Z"
   },
   {
    "duration": 1337,
    "start_time": "2022-04-18T12:25:25.903Z"
   },
   {
    "duration": 5257,
    "start_time": "2022-04-18T12:25:37.560Z"
   },
   {
    "duration": 1329,
    "start_time": "2022-04-18T12:25:51.064Z"
   },
   {
    "duration": 7,
    "start_time": "2022-04-18T12:26:09.130Z"
   },
   {
    "duration": 5,
    "start_time": "2022-04-18T12:27:07.728Z"
   },
   {
    "duration": 22,
    "start_time": "2022-04-18T12:27:27.536Z"
   },
   {
    "duration": 4,
    "start_time": "2022-04-18T12:30:08.234Z"
   },
   {
    "duration": 14,
    "start_time": "2022-04-18T12:30:14.593Z"
   },
   {
    "duration": 15,
    "start_time": "2022-04-18T12:30:23.274Z"
   },
   {
    "duration": 13,
    "start_time": "2022-04-18T12:31:03.979Z"
   },
   {
    "duration": 14,
    "start_time": "2022-04-18T12:31:14.258Z"
   },
   {
    "duration": 22,
    "start_time": "2022-04-18T12:32:27.044Z"
   },
   {
    "duration": 976,
    "start_time": "2022-04-18T12:33:21.588Z"
   },
   {
    "duration": 165,
    "start_time": "2022-04-18T12:33:22.566Z"
   },
   {
    "duration": 21,
    "start_time": "2022-04-18T12:33:22.733Z"
   },
   {
    "duration": 29,
    "start_time": "2022-04-18T12:33:22.756Z"
   },
   {
    "duration": 29,
    "start_time": "2022-04-18T12:33:22.786Z"
   },
   {
    "duration": 50,
    "start_time": "2022-04-18T12:33:22.817Z"
   },
   {
    "duration": 145,
    "start_time": "2022-04-18T12:33:22.868Z"
   },
   {
    "duration": 8,
    "start_time": "2022-04-18T12:33:23.015Z"
   },
   {
    "duration": 36,
    "start_time": "2022-04-18T12:33:23.024Z"
   },
   {
    "duration": 97,
    "start_time": "2022-04-18T12:33:23.063Z"
   },
   {
    "duration": 19,
    "start_time": "2022-04-18T12:33:23.161Z"
   },
   {
    "duration": 22,
    "start_time": "2022-04-18T12:33:23.182Z"
   },
   {
    "duration": 15,
    "start_time": "2022-04-18T12:33:23.206Z"
   },
   {
    "duration": 26,
    "start_time": "2022-04-18T12:33:23.223Z"
   },
   {
    "duration": 37,
    "start_time": "2022-04-18T12:33:23.251Z"
   },
   {
    "duration": 9,
    "start_time": "2022-04-18T12:33:23.290Z"
   },
   {
    "duration": 8,
    "start_time": "2022-04-18T12:33:23.301Z"
   },
   {
    "duration": 7,
    "start_time": "2022-04-18T12:33:23.311Z"
   },
   {
    "duration": 13,
    "start_time": "2022-04-18T12:33:23.319Z"
   },
   {
    "duration": 15,
    "start_time": "2022-04-18T12:33:23.334Z"
   },
   {
    "duration": 4,
    "start_time": "2022-04-18T12:33:23.351Z"
   },
   {
    "duration": 5,
    "start_time": "2022-04-18T12:33:23.357Z"
   },
   {
    "duration": 17,
    "start_time": "2022-04-18T12:33:23.364Z"
   },
   {
    "duration": 37,
    "start_time": "2022-04-18T12:33:23.383Z"
   },
   {
    "duration": 47,
    "start_time": "2022-04-18T12:33:23.421Z"
   },
   {
    "duration": 20,
    "start_time": "2022-04-18T12:33:23.470Z"
   },
   {
    "duration": 8,
    "start_time": "2022-04-18T12:33:23.491Z"
   },
   {
    "duration": 54,
    "start_time": "2022-04-18T12:33:23.502Z"
   },
   {
    "duration": 27,
    "start_time": "2022-04-18T12:33:23.558Z"
   },
   {
    "duration": 42,
    "start_time": "2022-04-18T12:33:23.587Z"
   },
   {
    "duration": 13,
    "start_time": "2022-04-18T12:33:23.648Z"
   },
   {
    "duration": 28,
    "start_time": "2022-04-18T12:33:23.663Z"
   },
   {
    "duration": 15,
    "start_time": "2022-04-18T12:33:23.693Z"
   },
   {
    "duration": 50,
    "start_time": "2022-04-18T12:33:23.710Z"
   },
   {
    "duration": 9,
    "start_time": "2022-04-18T12:33:23.761Z"
   },
   {
    "duration": 15,
    "start_time": "2022-04-18T12:33:23.772Z"
   },
   {
    "duration": 16,
    "start_time": "2022-04-18T12:33:23.789Z"
   },
   {
    "duration": 42,
    "start_time": "2022-04-18T12:33:23.806Z"
   },
   {
    "duration": 21,
    "start_time": "2022-04-18T12:33:23.850Z"
   },
   {
    "duration": 130,
    "start_time": "2022-04-18T12:33:23.873Z"
   },
   {
    "duration": 49,
    "start_time": "2022-04-18T12:33:24.004Z"
   },
   {
    "duration": 7,
    "start_time": "2022-04-18T12:33:24.054Z"
   },
   {
    "duration": 25,
    "start_time": "2022-04-18T12:33:24.062Z"
   },
   {
    "duration": 12,
    "start_time": "2022-04-18T12:33:24.088Z"
   },
   {
    "duration": 238,
    "start_time": "2022-04-18T12:33:24.102Z"
   },
   {
    "duration": 210,
    "start_time": "2022-04-18T12:33:24.341Z"
   },
   {
    "duration": 214,
    "start_time": "2022-04-18T12:33:24.552Z"
   },
   {
    "duration": 7,
    "start_time": "2022-04-18T12:33:24.767Z"
   },
   {
    "duration": 7,
    "start_time": "2022-04-18T12:33:24.776Z"
   },
   {
    "duration": 13,
    "start_time": "2022-04-18T12:33:24.784Z"
   },
   {
    "duration": 6,
    "start_time": "2022-04-18T12:33:24.798Z"
   },
   {
    "duration": 9,
    "start_time": "2022-04-18T12:33:24.806Z"
   },
   {
    "duration": 22,
    "start_time": "2022-04-18T12:33:24.847Z"
   },
   {
    "duration": 7,
    "start_time": "2022-04-18T12:33:24.871Z"
   },
   {
    "duration": 28,
    "start_time": "2022-04-18T12:33:24.879Z"
   },
   {
    "duration": 115,
    "start_time": "2022-04-18T12:33:24.909Z"
   },
   {
    "duration": 19,
    "start_time": "2022-04-18T12:37:17.110Z"
   },
   {
    "duration": 11,
    "start_time": "2022-04-18T12:40:35.368Z"
   },
   {
    "duration": 3,
    "start_time": "2022-04-18T12:41:03.705Z"
   },
   {
    "duration": 179,
    "start_time": "2022-04-18T12:41:03.712Z"
   },
   {
    "duration": 9,
    "start_time": "2022-04-18T12:41:03.892Z"
   },
   {
    "duration": 46,
    "start_time": "2022-04-18T12:41:03.902Z"
   },
   {
    "duration": 30,
    "start_time": "2022-04-18T12:41:03.950Z"
   },
   {
    "duration": 25,
    "start_time": "2022-04-18T12:41:03.982Z"
   },
   {
    "duration": 153,
    "start_time": "2022-04-18T12:41:04.009Z"
   },
   {
    "duration": 8,
    "start_time": "2022-04-18T12:41:04.164Z"
   },
   {
    "duration": 24,
    "start_time": "2022-04-18T12:41:04.174Z"
   },
   {
    "duration": 108,
    "start_time": "2022-04-18T12:41:04.200Z"
   },
   {
    "duration": 19,
    "start_time": "2022-04-18T12:41:04.311Z"
   },
   {
    "duration": 20,
    "start_time": "2022-04-18T12:41:04.347Z"
   },
   {
    "duration": 19,
    "start_time": "2022-04-18T12:41:04.369Z"
   },
   {
    "duration": 7,
    "start_time": "2022-04-18T12:41:04.389Z"
   },
   {
    "duration": 34,
    "start_time": "2022-04-18T12:41:04.398Z"
   },
   {
    "duration": 10,
    "start_time": "2022-04-18T12:41:04.434Z"
   },
   {
    "duration": 7,
    "start_time": "2022-04-18T12:41:04.447Z"
   },
   {
    "duration": 8,
    "start_time": "2022-04-18T12:41:04.456Z"
   },
   {
    "duration": 14,
    "start_time": "2022-04-18T12:41:04.465Z"
   },
   {
    "duration": 9,
    "start_time": "2022-04-18T12:41:04.481Z"
   },
   {
    "duration": 5,
    "start_time": "2022-04-18T12:41:04.491Z"
   },
   {
    "duration": 6,
    "start_time": "2022-04-18T12:41:04.497Z"
   },
   {
    "duration": 49,
    "start_time": "2022-04-18T12:41:04.505Z"
   },
   {
    "duration": 30,
    "start_time": "2022-04-18T12:41:04.556Z"
   },
   {
    "duration": 24,
    "start_time": "2022-04-18T12:41:04.587Z"
   },
   {
    "duration": 42,
    "start_time": "2022-04-18T12:41:04.612Z"
   },
   {
    "duration": 9,
    "start_time": "2022-04-18T12:41:04.655Z"
   },
   {
    "duration": 35,
    "start_time": "2022-04-18T12:41:04.666Z"
   },
   {
    "duration": 48,
    "start_time": "2022-04-18T12:41:04.705Z"
   },
   {
    "duration": 42,
    "start_time": "2022-04-18T12:41:04.755Z"
   },
   {
    "duration": 15,
    "start_time": "2022-04-18T12:41:04.799Z"
   },
   {
    "duration": 55,
    "start_time": "2022-04-18T12:41:04.816Z"
   },
   {
    "duration": 17,
    "start_time": "2022-04-18T12:41:04.873Z"
   },
   {
    "duration": 33,
    "start_time": "2022-04-18T12:41:04.892Z"
   },
   {
    "duration": 11,
    "start_time": "2022-04-18T12:41:36.798Z"
   },
   {
    "duration": 10,
    "start_time": "2022-04-18T12:41:43.943Z"
   },
   {
    "duration": 11,
    "start_time": "2022-04-18T12:41:46.341Z"
   },
   {
    "duration": 16,
    "start_time": "2022-04-18T12:41:55.710Z"
   },
   {
    "duration": 11,
    "start_time": "2022-04-18T12:42:05.807Z"
   },
   {
    "duration": 109,
    "start_time": "2022-04-18T12:44:35.336Z"
   },
   {
    "duration": 90,
    "start_time": "2022-04-18T12:44:42.815Z"
   },
   {
    "duration": 4,
    "start_time": "2022-04-18T12:44:48.440Z"
   },
   {
    "duration": 4,
    "start_time": "2022-04-18T12:44:58.648Z"
   },
   {
    "duration": 4,
    "start_time": "2022-04-18T12:45:08.769Z"
   },
   {
    "duration": 5,
    "start_time": "2022-04-18T12:45:14.184Z"
   },
   {
    "duration": 7,
    "start_time": "2022-04-18T12:45:17.864Z"
   },
   {
    "duration": 5,
    "start_time": "2022-04-18T12:45:22.199Z"
   },
   {
    "duration": 6,
    "start_time": "2022-04-18T12:45:28.776Z"
   },
   {
    "duration": 10,
    "start_time": "2022-04-18T12:45:36.816Z"
   },
   {
    "duration": 5,
    "start_time": "2022-04-18T12:48:39.506Z"
   },
   {
    "duration": 5,
    "start_time": "2022-04-18T12:48:59.050Z"
   },
   {
    "duration": 4,
    "start_time": "2022-04-18T12:49:04.338Z"
   },
   {
    "duration": 1881,
    "start_time": "2022-04-18T12:49:08.852Z"
   },
   {
    "duration": 1664,
    "start_time": "2022-04-18T12:49:27.419Z"
   },
   {
    "duration": 1720,
    "start_time": "2022-04-18T12:49:52.157Z"
   },
   {
    "duration": 5,
    "start_time": "2022-04-18T12:50:00.475Z"
   },
   {
    "duration": 1793,
    "start_time": "2022-04-18T12:50:07.373Z"
   },
   {
    "duration": 11,
    "start_time": "2022-04-18T12:50:17.034Z"
   },
   {
    "duration": 16,
    "start_time": "2022-04-18T12:50:20.651Z"
   },
   {
    "duration": 18,
    "start_time": "2022-04-18T12:50:22.873Z"
   },
   {
    "duration": 5,
    "start_time": "2022-04-18T12:50:24.952Z"
   },
   {
    "duration": 6,
    "start_time": "2022-04-18T12:50:28.978Z"
   },
   {
    "duration": 5,
    "start_time": "2022-04-18T12:50:30.721Z"
   },
   {
    "duration": 5,
    "start_time": "2022-04-18T12:50:40.011Z"
   },
   {
    "duration": 27,
    "start_time": "2022-04-18T12:50:56.187Z"
   },
   {
    "duration": 15,
    "start_time": "2022-04-18T12:54:17.494Z"
   },
   {
    "duration": 14,
    "start_time": "2022-04-18T12:54:39.457Z"
   },
   {
    "duration": 16,
    "start_time": "2022-04-18T12:54:54.573Z"
   },
   {
    "duration": 4,
    "start_time": "2022-04-18T12:55:33.032Z"
   },
   {
    "duration": 283,
    "start_time": "2022-04-18T12:55:33.038Z"
   },
   {
    "duration": 28,
    "start_time": "2022-04-18T12:55:33.324Z"
   },
   {
    "duration": 50,
    "start_time": "2022-04-18T12:55:33.354Z"
   },
   {
    "duration": 72,
    "start_time": "2022-04-18T12:55:33.407Z"
   },
   {
    "duration": 33,
    "start_time": "2022-04-18T12:55:33.480Z"
   },
   {
    "duration": 225,
    "start_time": "2022-04-18T12:55:33.515Z"
   },
   {
    "duration": 10,
    "start_time": "2022-04-18T12:55:33.747Z"
   },
   {
    "duration": 31,
    "start_time": "2022-04-18T12:55:33.759Z"
   },
   {
    "duration": 157,
    "start_time": "2022-04-18T12:55:33.792Z"
   },
   {
    "duration": 31,
    "start_time": "2022-04-18T12:55:33.952Z"
   },
   {
    "duration": 20,
    "start_time": "2022-04-18T12:55:33.985Z"
   },
   {
    "duration": 16,
    "start_time": "2022-04-18T12:55:34.007Z"
   },
   {
    "duration": 29,
    "start_time": "2022-04-18T12:55:34.025Z"
   },
   {
    "duration": 29,
    "start_time": "2022-04-18T12:55:34.055Z"
   },
   {
    "duration": 10,
    "start_time": "2022-04-18T12:55:34.086Z"
   },
   {
    "duration": 7,
    "start_time": "2022-04-18T12:55:34.097Z"
   },
   {
    "duration": 9,
    "start_time": "2022-04-18T12:55:34.106Z"
   },
   {
    "duration": 16,
    "start_time": "2022-04-18T12:55:34.117Z"
   },
   {
    "duration": 7,
    "start_time": "2022-04-18T12:55:34.148Z"
   },
   {
    "duration": 5,
    "start_time": "2022-04-18T12:55:34.157Z"
   },
   {
    "duration": 6,
    "start_time": "2022-04-18T12:55:34.163Z"
   },
   {
    "duration": 12,
    "start_time": "2022-04-18T12:55:34.170Z"
   },
   {
    "duration": 32,
    "start_time": "2022-04-18T12:55:34.184Z"
   },
   {
    "duration": 47,
    "start_time": "2022-04-18T12:55:34.218Z"
   },
   {
    "duration": 19,
    "start_time": "2022-04-18T12:55:34.267Z"
   },
   {
    "duration": 8,
    "start_time": "2022-04-18T12:55:34.287Z"
   },
   {
    "duration": 52,
    "start_time": "2022-04-18T12:55:34.297Z"
   },
   {
    "duration": 26,
    "start_time": "2022-04-18T12:55:34.353Z"
   },
   {
    "duration": 39,
    "start_time": "2022-04-18T12:55:34.381Z"
   },
   {
    "duration": 30,
    "start_time": "2022-04-18T12:55:34.422Z"
   },
   {
    "duration": 28,
    "start_time": "2022-04-18T12:55:34.453Z"
   },
   {
    "duration": 16,
    "start_time": "2022-04-18T12:55:34.483Z"
   },
   {
    "duration": 51,
    "start_time": "2022-04-18T12:55:34.501Z"
   },
   {
    "duration": 10,
    "start_time": "2022-04-18T12:55:34.553Z"
   },
   {
    "duration": 10,
    "start_time": "2022-04-18T12:55:34.564Z"
   },
   {
    "duration": 15,
    "start_time": "2022-04-18T12:55:34.576Z"
   },
   {
    "duration": 10,
    "start_time": "2022-04-18T12:55:34.593Z"
   },
   {
    "duration": 45,
    "start_time": "2022-04-18T12:55:34.605Z"
   },
   {
    "duration": 18,
    "start_time": "2022-04-18T12:55:34.652Z"
   },
   {
    "duration": 5,
    "start_time": "2022-04-18T12:55:34.672Z"
   },
   {
    "duration": 17,
    "start_time": "2022-04-18T12:55:34.679Z"
   },
   {
    "duration": 5,
    "start_time": "2022-04-18T12:55:34.698Z"
   },
   {
    "duration": 5,
    "start_time": "2022-04-18T12:55:34.705Z"
   },
   {
    "duration": 44,
    "start_time": "2022-04-18T12:55:34.712Z"
   },
   {
    "duration": 15,
    "start_time": "2022-04-18T12:55:34.757Z"
   },
   {
    "duration": 22,
    "start_time": "2022-04-18T12:55:34.773Z"
   },
   {
    "duration": 15,
    "start_time": "2022-04-18T12:55:34.797Z"
   },
   {
    "duration": 141,
    "start_time": "2022-04-18T12:55:34.814Z"
   },
   {
    "duration": 39,
    "start_time": "2022-04-18T12:55:34.957Z"
   },
   {
    "duration": 5,
    "start_time": "2022-04-18T12:55:34.998Z"
   },
   {
    "duration": 50,
    "start_time": "2022-04-18T12:55:35.005Z"
   },
   {
    "duration": 13,
    "start_time": "2022-04-18T12:55:35.057Z"
   },
   {
    "duration": 297,
    "start_time": "2022-04-18T12:55:35.072Z"
   },
   {
    "duration": 198,
    "start_time": "2022-04-18T12:55:35.371Z"
   },
   {
    "duration": 208,
    "start_time": "2022-04-18T12:55:35.571Z"
   },
   {
    "duration": 8,
    "start_time": "2022-04-18T12:55:35.780Z"
   },
   {
    "duration": 9,
    "start_time": "2022-04-18T12:55:35.789Z"
   },
   {
    "duration": 11,
    "start_time": "2022-04-18T12:55:35.799Z"
   },
   {
    "duration": 6,
    "start_time": "2022-04-18T12:55:35.812Z"
   },
   {
    "duration": 34,
    "start_time": "2022-04-18T12:55:35.819Z"
   },
   {
    "duration": 21,
    "start_time": "2022-04-18T12:55:35.854Z"
   },
   {
    "duration": 9,
    "start_time": "2022-04-18T12:55:35.876Z"
   },
   {
    "duration": 30,
    "start_time": "2022-04-18T12:55:35.886Z"
   },
   {
    "duration": 31,
    "start_time": "2022-04-18T12:55:35.918Z"
   },
   {
    "duration": 30,
    "start_time": "2022-04-18T12:59:49.468Z"
   },
   {
    "duration": 24,
    "start_time": "2022-04-18T13:00:12.257Z"
   },
   {
    "duration": 11,
    "start_time": "2022-04-18T13:02:59.972Z"
   },
   {
    "duration": 3,
    "start_time": "2022-04-18T13:03:15.839Z"
   },
   {
    "duration": 204,
    "start_time": "2022-04-18T13:03:15.844Z"
   },
   {
    "duration": 9,
    "start_time": "2022-04-18T13:03:16.051Z"
   },
   {
    "duration": 34,
    "start_time": "2022-04-18T13:03:16.062Z"
   },
   {
    "duration": 63,
    "start_time": "2022-04-18T13:03:16.099Z"
   },
   {
    "duration": 25,
    "start_time": "2022-04-18T13:03:16.164Z"
   },
   {
    "duration": 1034,
    "start_time": "2022-04-18T13:03:16.191Z"
   },
   {
    "duration": 8,
    "start_time": "2022-04-18T13:03:17.227Z"
   },
   {
    "duration": 23,
    "start_time": "2022-04-18T13:03:17.248Z"
   },
   {
    "duration": 101,
    "start_time": "2022-04-18T13:03:17.273Z"
   },
   {
    "duration": 19,
    "start_time": "2022-04-18T13:03:17.377Z"
   },
   {
    "duration": 21,
    "start_time": "2022-04-18T13:03:17.397Z"
   },
   {
    "duration": 27,
    "start_time": "2022-04-18T13:03:17.420Z"
   },
   {
    "duration": 10,
    "start_time": "2022-04-18T13:03:17.449Z"
   },
   {
    "duration": 59,
    "start_time": "2022-04-18T13:03:17.461Z"
   },
   {
    "duration": 10,
    "start_time": "2022-04-18T13:03:17.522Z"
   },
   {
    "duration": 7,
    "start_time": "2022-04-18T13:03:17.533Z"
   },
   {
    "duration": 7,
    "start_time": "2022-04-18T13:03:17.541Z"
   },
   {
    "duration": 14,
    "start_time": "2022-04-18T13:03:17.549Z"
   },
   {
    "duration": 5,
    "start_time": "2022-04-18T13:03:17.565Z"
   },
   {
    "duration": 4,
    "start_time": "2022-04-18T13:03:17.572Z"
   },
   {
    "duration": 6,
    "start_time": "2022-04-18T13:03:17.577Z"
   },
   {
    "duration": 13,
    "start_time": "2022-04-18T13:03:17.584Z"
   },
   {
    "duration": 57,
    "start_time": "2022-04-18T13:03:17.598Z"
   },
   {
    "duration": 20,
    "start_time": "2022-04-18T13:03:17.657Z"
   },
   {
    "duration": 28,
    "start_time": "2022-04-18T13:03:17.679Z"
   },
   {
    "duration": 11,
    "start_time": "2022-04-18T13:03:17.708Z"
   },
   {
    "duration": 53,
    "start_time": "2022-04-18T13:03:17.721Z"
   },
   {
    "duration": 26,
    "start_time": "2022-04-18T13:03:17.778Z"
   },
   {
    "duration": 54,
    "start_time": "2022-04-18T13:03:17.805Z"
   },
   {
    "duration": 14,
    "start_time": "2022-04-18T13:03:17.860Z"
   },
   {
    "duration": 28,
    "start_time": "2022-04-18T13:03:17.875Z"
   },
   {
    "duration": 17,
    "start_time": "2022-04-18T13:03:17.904Z"
   },
   {
    "duration": 29,
    "start_time": "2022-04-18T13:03:17.947Z"
   },
   {
    "duration": 10,
    "start_time": "2022-04-18T13:03:17.977Z"
   },
   {
    "duration": 10,
    "start_time": "2022-04-18T13:03:17.989Z"
   },
   {
    "duration": 9,
    "start_time": "2022-04-18T13:03:18.001Z"
   },
   {
    "duration": 46,
    "start_time": "2022-04-18T13:03:18.012Z"
   },
   {
    "duration": 11,
    "start_time": "2022-04-18T13:03:18.060Z"
   },
   {
    "duration": 17,
    "start_time": "2022-04-18T13:03:18.072Z"
   },
   {
    "duration": 17,
    "start_time": "2022-04-18T13:03:18.090Z"
   },
   {
    "duration": 4,
    "start_time": "2022-04-18T13:03:18.108Z"
   },
   {
    "duration": 42,
    "start_time": "2022-04-18T13:03:18.114Z"
   },
   {
    "duration": 5,
    "start_time": "2022-04-18T13:03:18.158Z"
   },
   {
    "duration": 7,
    "start_time": "2022-04-18T13:03:18.164Z"
   },
   {
    "duration": 15,
    "start_time": "2022-04-18T13:03:18.172Z"
   },
   {
    "duration": 15,
    "start_time": "2022-04-18T13:03:18.189Z"
   },
   {
    "duration": 15,
    "start_time": "2022-04-18T13:03:18.206Z"
   },
   {
    "duration": 21,
    "start_time": "2022-04-18T13:03:18.247Z"
   },
   {
    "duration": 15,
    "start_time": "2022-04-18T13:03:18.269Z"
   },
   {
    "duration": 130,
    "start_time": "2022-04-18T13:03:18.285Z"
   },
   {
    "duration": 46,
    "start_time": "2022-04-18T13:03:18.417Z"
   },
   {
    "duration": 5,
    "start_time": "2022-04-18T13:03:18.465Z"
   },
   {
    "duration": 24,
    "start_time": "2022-04-18T13:03:18.471Z"
   },
   {
    "duration": 12,
    "start_time": "2022-04-18T13:03:18.497Z"
   },
   {
    "duration": 225,
    "start_time": "2022-04-18T13:03:18.511Z"
   },
   {
    "duration": 192,
    "start_time": "2022-04-18T13:03:18.738Z"
   },
   {
    "duration": 298,
    "start_time": "2022-04-18T13:03:18.931Z"
   },
   {
    "duration": 17,
    "start_time": "2022-04-18T13:03:19.230Z"
   },
   {
    "duration": 9,
    "start_time": "2022-04-18T13:03:19.249Z"
   },
   {
    "duration": 12,
    "start_time": "2022-04-18T13:03:19.260Z"
   },
   {
    "duration": 7,
    "start_time": "2022-04-18T13:03:19.274Z"
   },
   {
    "duration": 10,
    "start_time": "2022-04-18T13:03:19.283Z"
   },
   {
    "duration": 58,
    "start_time": "2022-04-18T13:03:19.295Z"
   },
   {
    "duration": 9,
    "start_time": "2022-04-18T13:03:19.355Z"
   },
   {
    "duration": 29,
    "start_time": "2022-04-18T13:03:19.365Z"
   },
   {
    "duration": 6,
    "start_time": "2022-04-18T13:03:19.395Z"
   },
   {
    "duration": 4,
    "start_time": "2022-04-18T13:04:43.763Z"
   },
   {
    "duration": 157,
    "start_time": "2022-04-18T13:04:43.769Z"
   },
   {
    "duration": 21,
    "start_time": "2022-04-18T13:04:43.927Z"
   },
   {
    "duration": 31,
    "start_time": "2022-04-18T13:04:43.950Z"
   },
   {
    "duration": 31,
    "start_time": "2022-04-18T13:04:43.983Z"
   },
   {
    "duration": 53,
    "start_time": "2022-04-18T13:04:44.016Z"
   },
   {
    "duration": 140,
    "start_time": "2022-04-18T13:04:44.071Z"
   },
   {
    "duration": 8,
    "start_time": "2022-04-18T13:04:44.212Z"
   },
   {
    "duration": 32,
    "start_time": "2022-04-18T13:04:44.221Z"
   },
   {
    "duration": 97,
    "start_time": "2022-04-18T13:04:44.255Z"
   },
   {
    "duration": 19,
    "start_time": "2022-04-18T13:04:44.354Z"
   },
   {
    "duration": 21,
    "start_time": "2022-04-18T13:04:44.375Z"
   },
   {
    "duration": 16,
    "start_time": "2022-04-18T13:04:44.398Z"
   },
   {
    "duration": 7,
    "start_time": "2022-04-18T13:04:44.415Z"
   },
   {
    "duration": 36,
    "start_time": "2022-04-18T13:04:44.423Z"
   },
   {
    "duration": 9,
    "start_time": "2022-04-18T13:04:44.460Z"
   },
   {
    "duration": 15,
    "start_time": "2022-04-18T13:04:44.471Z"
   },
   {
    "duration": 8,
    "start_time": "2022-04-18T13:04:44.487Z"
   },
   {
    "duration": 13,
    "start_time": "2022-04-18T13:04:44.497Z"
   },
   {
    "duration": 6,
    "start_time": "2022-04-18T13:04:44.512Z"
   },
   {
    "duration": 28,
    "start_time": "2022-04-18T13:04:44.519Z"
   },
   {
    "duration": 4,
    "start_time": "2022-04-18T13:04:44.549Z"
   },
   {
    "duration": 12,
    "start_time": "2022-04-18T13:04:44.555Z"
   },
   {
    "duration": 29,
    "start_time": "2022-04-18T13:04:44.568Z"
   },
   {
    "duration": 21,
    "start_time": "2022-04-18T13:04:44.599Z"
   },
   {
    "duration": 34,
    "start_time": "2022-04-18T13:04:44.622Z"
   },
   {
    "duration": 8,
    "start_time": "2022-04-18T13:04:44.658Z"
   },
   {
    "duration": 32,
    "start_time": "2022-04-18T13:04:44.667Z"
   },
   {
    "duration": 47,
    "start_time": "2022-04-18T13:04:44.702Z"
   },
   {
    "duration": 35,
    "start_time": "2022-04-18T13:04:44.750Z"
   },
   {
    "duration": 14,
    "start_time": "2022-04-18T13:04:44.787Z"
   },
   {
    "duration": 51,
    "start_time": "2022-04-18T13:04:44.802Z"
   },
   {
    "duration": 16,
    "start_time": "2022-04-18T13:04:44.854Z"
   },
   {
    "duration": 29,
    "start_time": "2022-04-18T13:04:44.871Z"
   },
   {
    "duration": 9,
    "start_time": "2022-04-18T13:04:44.901Z"
   },
   {
    "duration": 11,
    "start_time": "2022-04-18T13:04:44.912Z"
   },
   {
    "duration": 10,
    "start_time": "2022-04-18T13:04:44.948Z"
   },
   {
    "duration": 15,
    "start_time": "2022-04-18T13:04:44.959Z"
   },
   {
    "duration": 0,
    "start_time": "2022-04-18T13:04:44.975Z"
   },
   {
    "duration": 0,
    "start_time": "2022-04-18T13:04:44.977Z"
   },
   {
    "duration": 0,
    "start_time": "2022-04-18T13:04:44.978Z"
   },
   {
    "duration": 0,
    "start_time": "2022-04-18T13:04:44.978Z"
   },
   {
    "duration": 0,
    "start_time": "2022-04-18T13:04:44.980Z"
   },
   {
    "duration": 0,
    "start_time": "2022-04-18T13:04:44.981Z"
   },
   {
    "duration": 0,
    "start_time": "2022-04-18T13:04:44.982Z"
   },
   {
    "duration": 0,
    "start_time": "2022-04-18T13:04:44.983Z"
   },
   {
    "duration": 0,
    "start_time": "2022-04-18T13:04:44.983Z"
   },
   {
    "duration": 0,
    "start_time": "2022-04-18T13:04:44.985Z"
   },
   {
    "duration": 0,
    "start_time": "2022-04-18T13:04:44.985Z"
   },
   {
    "duration": 0,
    "start_time": "2022-04-18T13:04:44.986Z"
   },
   {
    "duration": 0,
    "start_time": "2022-04-18T13:04:44.987Z"
   },
   {
    "duration": 0,
    "start_time": "2022-04-18T13:04:44.989Z"
   },
   {
    "duration": 0,
    "start_time": "2022-04-18T13:04:44.990Z"
   },
   {
    "duration": 0,
    "start_time": "2022-04-18T13:04:44.991Z"
   },
   {
    "duration": 0,
    "start_time": "2022-04-18T13:04:44.992Z"
   },
   {
    "duration": 0,
    "start_time": "2022-04-18T13:04:44.993Z"
   },
   {
    "duration": 0,
    "start_time": "2022-04-18T13:04:44.994Z"
   },
   {
    "duration": 0,
    "start_time": "2022-04-18T13:04:44.995Z"
   },
   {
    "duration": 0,
    "start_time": "2022-04-18T13:04:44.996Z"
   },
   {
    "duration": 0,
    "start_time": "2022-04-18T13:04:44.997Z"
   },
   {
    "duration": 0,
    "start_time": "2022-04-18T13:04:44.998Z"
   },
   {
    "duration": 0,
    "start_time": "2022-04-18T13:04:45.048Z"
   },
   {
    "duration": 0,
    "start_time": "2022-04-18T13:04:45.049Z"
   },
   {
    "duration": 0,
    "start_time": "2022-04-18T13:04:45.050Z"
   },
   {
    "duration": 0,
    "start_time": "2022-04-18T13:04:45.051Z"
   },
   {
    "duration": 0,
    "start_time": "2022-04-18T13:04:45.052Z"
   },
   {
    "duration": 14,
    "start_time": "2022-04-18T13:06:06.948Z"
   },
   {
    "duration": 1121,
    "start_time": "2022-04-18T13:06:56.769Z"
   },
   {
    "duration": 171,
    "start_time": "2022-04-18T13:06:57.893Z"
   },
   {
    "duration": 12,
    "start_time": "2022-04-18T13:06:58.066Z"
   },
   {
    "duration": 29,
    "start_time": "2022-04-18T13:06:58.080Z"
   },
   {
    "duration": 49,
    "start_time": "2022-04-18T13:06:58.111Z"
   },
   {
    "duration": 26,
    "start_time": "2022-04-18T13:06:58.161Z"
   },
   {
    "duration": 159,
    "start_time": "2022-04-18T13:06:58.189Z"
   },
   {
    "duration": 8,
    "start_time": "2022-04-18T13:06:58.349Z"
   },
   {
    "duration": 24,
    "start_time": "2022-04-18T13:06:58.359Z"
   },
   {
    "duration": 103,
    "start_time": "2022-04-18T13:06:58.385Z"
   },
   {
    "duration": 19,
    "start_time": "2022-04-18T13:06:58.490Z"
   },
   {
    "duration": 24,
    "start_time": "2022-04-18T13:06:58.511Z"
   },
   {
    "duration": 16,
    "start_time": "2022-04-18T13:06:58.548Z"
   },
   {
    "duration": 8,
    "start_time": "2022-04-18T13:06:58.566Z"
   },
   {
    "duration": 30,
    "start_time": "2022-04-18T13:06:58.575Z"
   },
   {
    "duration": 10,
    "start_time": "2022-04-18T13:06:58.607Z"
   },
   {
    "duration": 8,
    "start_time": "2022-04-18T13:06:58.619Z"
   },
   {
    "duration": 21,
    "start_time": "2022-04-18T13:06:58.628Z"
   },
   {
    "duration": 19,
    "start_time": "2022-04-18T13:06:58.650Z"
   },
   {
    "duration": 6,
    "start_time": "2022-04-18T13:06:58.671Z"
   },
   {
    "duration": 4,
    "start_time": "2022-04-18T13:06:58.679Z"
   },
   {
    "duration": 6,
    "start_time": "2022-04-18T13:06:58.684Z"
   },
   {
    "duration": 11,
    "start_time": "2022-04-18T13:06:58.692Z"
   },
   {
    "duration": 62,
    "start_time": "2022-04-18T13:06:58.704Z"
   },
   {
    "duration": 23,
    "start_time": "2022-04-18T13:06:58.768Z"
   },
   {
    "duration": 21,
    "start_time": "2022-04-18T13:06:58.792Z"
   },
   {
    "duration": 8,
    "start_time": "2022-04-18T13:06:58.814Z"
   },
   {
    "duration": 32,
    "start_time": "2022-04-18T13:06:58.851Z"
   },
   {
    "duration": 27,
    "start_time": "2022-04-18T13:06:58.885Z"
   },
   {
    "duration": 65,
    "start_time": "2022-04-18T13:06:58.913Z"
   },
   {
    "duration": 14,
    "start_time": "2022-04-18T13:06:58.980Z"
   },
   {
    "duration": 35,
    "start_time": "2022-04-18T13:06:58.996Z"
   },
   {
    "duration": 16,
    "start_time": "2022-04-18T13:06:59.047Z"
   },
   {
    "duration": 36,
    "start_time": "2022-04-18T13:06:59.065Z"
   },
   {
    "duration": 10,
    "start_time": "2022-04-18T13:06:59.103Z"
   },
   {
    "duration": 35,
    "start_time": "2022-04-18T13:06:59.114Z"
   },
   {
    "duration": 12,
    "start_time": "2022-04-18T13:06:59.150Z"
   },
   {
    "duration": 103,
    "start_time": "2022-04-18T13:06:59.164Z"
   },
   {
    "duration": 0,
    "start_time": "2022-04-18T13:06:59.269Z"
   },
   {
    "duration": 0,
    "start_time": "2022-04-18T13:06:59.270Z"
   },
   {
    "duration": 0,
    "start_time": "2022-04-18T13:06:59.271Z"
   },
   {
    "duration": 0,
    "start_time": "2022-04-18T13:06:59.272Z"
   },
   {
    "duration": 0,
    "start_time": "2022-04-18T13:06:59.273Z"
   },
   {
    "duration": 0,
    "start_time": "2022-04-18T13:06:59.274Z"
   },
   {
    "duration": 0,
    "start_time": "2022-04-18T13:06:59.275Z"
   },
   {
    "duration": 0,
    "start_time": "2022-04-18T13:06:59.276Z"
   },
   {
    "duration": 0,
    "start_time": "2022-04-18T13:06:59.277Z"
   },
   {
    "duration": 0,
    "start_time": "2022-04-18T13:06:59.278Z"
   },
   {
    "duration": 0,
    "start_time": "2022-04-18T13:06:59.279Z"
   },
   {
    "duration": 0,
    "start_time": "2022-04-18T13:06:59.280Z"
   },
   {
    "duration": 0,
    "start_time": "2022-04-18T13:06:59.281Z"
   },
   {
    "duration": 0,
    "start_time": "2022-04-18T13:06:59.282Z"
   },
   {
    "duration": 0,
    "start_time": "2022-04-18T13:06:59.283Z"
   },
   {
    "duration": 0,
    "start_time": "2022-04-18T13:06:59.284Z"
   },
   {
    "duration": 0,
    "start_time": "2022-04-18T13:06:59.285Z"
   },
   {
    "duration": 0,
    "start_time": "2022-04-18T13:06:59.286Z"
   },
   {
    "duration": 0,
    "start_time": "2022-04-18T13:06:59.287Z"
   },
   {
    "duration": 0,
    "start_time": "2022-04-18T13:06:59.288Z"
   },
   {
    "duration": 0,
    "start_time": "2022-04-18T13:06:59.289Z"
   },
   {
    "duration": 0,
    "start_time": "2022-04-18T13:06:59.291Z"
   },
   {
    "duration": 0,
    "start_time": "2022-04-18T13:06:59.291Z"
   },
   {
    "duration": 0,
    "start_time": "2022-04-18T13:06:59.293Z"
   },
   {
    "duration": 0,
    "start_time": "2022-04-18T13:06:59.294Z"
   },
   {
    "duration": 0,
    "start_time": "2022-04-18T13:06:59.295Z"
   },
   {
    "duration": 0,
    "start_time": "2022-04-18T13:06:59.296Z"
   },
   {
    "duration": 0,
    "start_time": "2022-04-18T13:06:59.297Z"
   },
   {
    "duration": 14,
    "start_time": "2022-04-18T13:08:14.565Z"
   },
   {
    "duration": 11,
    "start_time": "2022-04-18T13:08:32.236Z"
   },
   {
    "duration": 12,
    "start_time": "2022-04-18T13:14:13.735Z"
   },
   {
    "duration": 11,
    "start_time": "2022-04-18T13:14:59.978Z"
   },
   {
    "duration": 9,
    "start_time": "2022-04-18T13:15:24.049Z"
   },
   {
    "duration": 8,
    "start_time": "2022-04-18T13:15:51.929Z"
   },
   {
    "duration": 16,
    "start_time": "2022-04-18T13:15:59.904Z"
   },
   {
    "duration": 9,
    "start_time": "2022-04-18T13:16:45.019Z"
   },
   {
    "duration": 16,
    "start_time": "2022-04-18T13:16:49.101Z"
   },
   {
    "duration": 12,
    "start_time": "2022-04-18T13:17:05.520Z"
   },
   {
    "duration": 3,
    "start_time": "2022-04-18T13:17:27.518Z"
   },
   {
    "duration": 173,
    "start_time": "2022-04-18T13:17:27.522Z"
   },
   {
    "duration": 7,
    "start_time": "2022-04-18T13:17:27.697Z"
   },
   {
    "duration": 43,
    "start_time": "2022-04-18T13:17:27.705Z"
   },
   {
    "duration": 29,
    "start_time": "2022-04-18T13:17:27.750Z"
   },
   {
    "duration": 23,
    "start_time": "2022-04-18T13:17:27.780Z"
   },
   {
    "duration": 147,
    "start_time": "2022-04-18T13:17:27.805Z"
   },
   {
    "duration": 8,
    "start_time": "2022-04-18T13:17:27.954Z"
   },
   {
    "duration": 25,
    "start_time": "2022-04-18T13:17:27.963Z"
   },
   {
    "duration": 111,
    "start_time": "2022-04-18T13:17:27.989Z"
   },
   {
    "duration": 19,
    "start_time": "2022-04-18T13:17:28.103Z"
   },
   {
    "duration": 33,
    "start_time": "2022-04-18T13:17:28.123Z"
   },
   {
    "duration": 16,
    "start_time": "2022-04-18T13:17:28.157Z"
   },
   {
    "duration": 7,
    "start_time": "2022-04-18T13:17:28.174Z"
   },
   {
    "duration": 28,
    "start_time": "2022-04-18T13:17:28.183Z"
   },
   {
    "duration": 9,
    "start_time": "2022-04-18T13:17:28.213Z"
   },
   {
    "duration": 10,
    "start_time": "2022-04-18T13:17:28.224Z"
   },
   {
    "duration": 17,
    "start_time": "2022-04-18T13:17:28.235Z"
   },
   {
    "duration": 14,
    "start_time": "2022-04-18T13:17:28.254Z"
   },
   {
    "duration": 7,
    "start_time": "2022-04-18T13:17:28.269Z"
   },
   {
    "duration": 4,
    "start_time": "2022-04-18T13:17:28.277Z"
   },
   {
    "duration": 5,
    "start_time": "2022-04-18T13:17:28.283Z"
   },
   {
    "duration": 12,
    "start_time": "2022-04-18T13:17:28.289Z"
   },
   {
    "duration": 58,
    "start_time": "2022-04-18T13:17:28.303Z"
   },
   {
    "duration": 21,
    "start_time": "2022-04-18T13:17:28.363Z"
   },
   {
    "duration": 19,
    "start_time": "2022-04-18T13:17:28.386Z"
   },
   {
    "duration": 8,
    "start_time": "2022-04-18T13:17:28.406Z"
   },
   {
    "duration": 53,
    "start_time": "2022-04-18T13:17:28.416Z"
   },
   {
    "duration": 27,
    "start_time": "2022-04-18T13:17:28.472Z"
   },
   {
    "duration": 57,
    "start_time": "2022-04-18T13:17:28.500Z"
   },
   {
    "duration": 13,
    "start_time": "2022-04-18T13:17:28.559Z"
   },
   {
    "duration": 28,
    "start_time": "2022-04-18T13:17:28.574Z"
   },
   {
    "duration": 16,
    "start_time": "2022-04-18T13:17:28.604Z"
   },
   {
    "duration": 47,
    "start_time": "2022-04-18T13:17:28.621Z"
   },
   {
    "duration": 8,
    "start_time": "2022-04-18T13:17:28.734Z"
   },
   {
    "duration": 18,
    "start_time": "2022-04-18T13:17:28.744Z"
   },
   {
    "duration": 8,
    "start_time": "2022-04-18T13:17:28.763Z"
   },
   {
    "duration": 16,
    "start_time": "2022-04-18T13:17:28.773Z"
   },
   {
    "duration": 15,
    "start_time": "2022-04-18T13:17:28.790Z"
   },
   {
    "duration": 12,
    "start_time": "2022-04-18T13:17:28.807Z"
   },
   {
    "duration": 0,
    "start_time": "2022-04-18T13:17:28.848Z"
   },
   {
    "duration": 0,
    "start_time": "2022-04-18T13:17:28.849Z"
   },
   {
    "duration": 0,
    "start_time": "2022-04-18T13:17:28.850Z"
   },
   {
    "duration": 0,
    "start_time": "2022-04-18T13:17:28.851Z"
   },
   {
    "duration": 0,
    "start_time": "2022-04-18T13:17:28.851Z"
   },
   {
    "duration": 0,
    "start_time": "2022-04-18T13:17:28.852Z"
   },
   {
    "duration": 0,
    "start_time": "2022-04-18T13:17:28.853Z"
   },
   {
    "duration": 1,
    "start_time": "2022-04-18T13:17:28.853Z"
   },
   {
    "duration": 0,
    "start_time": "2022-04-18T13:17:28.854Z"
   },
   {
    "duration": 0,
    "start_time": "2022-04-18T13:17:28.855Z"
   },
   {
    "duration": 0,
    "start_time": "2022-04-18T13:17:28.856Z"
   },
   {
    "duration": 0,
    "start_time": "2022-04-18T13:17:28.857Z"
   },
   {
    "duration": 0,
    "start_time": "2022-04-18T13:17:28.857Z"
   },
   {
    "duration": 0,
    "start_time": "2022-04-18T13:17:28.858Z"
   },
   {
    "duration": 0,
    "start_time": "2022-04-18T13:17:28.859Z"
   },
   {
    "duration": 0,
    "start_time": "2022-04-18T13:17:28.860Z"
   },
   {
    "duration": 0,
    "start_time": "2022-04-18T13:17:28.861Z"
   },
   {
    "duration": 0,
    "start_time": "2022-04-18T13:17:28.861Z"
   },
   {
    "duration": 13,
    "start_time": "2022-04-18T13:19:19.876Z"
   },
   {
    "duration": 12,
    "start_time": "2022-04-18T13:19:34.187Z"
   },
   {
    "duration": 12,
    "start_time": "2022-04-18T13:19:40.512Z"
   },
   {
    "duration": 23,
    "start_time": "2022-04-18T13:22:06.686Z"
   },
   {
    "duration": 9,
    "start_time": "2022-04-18T13:22:21.483Z"
   },
   {
    "duration": 12,
    "start_time": "2022-04-18T13:22:26.803Z"
   },
   {
    "duration": 19,
    "start_time": "2022-04-18T13:22:57.059Z"
   },
   {
    "duration": 5,
    "start_time": "2022-04-18T13:23:59.261Z"
   },
   {
    "duration": 3,
    "start_time": "2022-04-18T13:24:02.060Z"
   },
   {
    "duration": 163,
    "start_time": "2022-04-18T13:24:02.065Z"
   },
   {
    "duration": 20,
    "start_time": "2022-04-18T13:24:02.230Z"
   },
   {
    "duration": 30,
    "start_time": "2022-04-18T13:24:02.252Z"
   },
   {
    "duration": 30,
    "start_time": "2022-04-18T13:24:02.284Z"
   },
   {
    "duration": 51,
    "start_time": "2022-04-18T13:24:02.315Z"
   },
   {
    "duration": 146,
    "start_time": "2022-04-18T13:24:02.368Z"
   },
   {
    "duration": 8,
    "start_time": "2022-04-18T13:24:02.516Z"
   },
   {
    "duration": 35,
    "start_time": "2022-04-18T13:24:02.526Z"
   },
   {
    "duration": 96,
    "start_time": "2022-04-18T13:24:02.563Z"
   },
   {
    "duration": 18,
    "start_time": "2022-04-18T13:24:02.662Z"
   },
   {
    "duration": 21,
    "start_time": "2022-04-18T13:24:02.682Z"
   },
   {
    "duration": 16,
    "start_time": "2022-04-18T13:24:02.705Z"
   },
   {
    "duration": 26,
    "start_time": "2022-04-18T13:24:02.722Z"
   },
   {
    "duration": 25,
    "start_time": "2022-04-18T13:24:02.750Z"
   },
   {
    "duration": 9,
    "start_time": "2022-04-18T13:24:02.777Z"
   },
   {
    "duration": 11,
    "start_time": "2022-04-18T13:24:02.787Z"
   },
   {
    "duration": 10,
    "start_time": "2022-04-18T13:24:02.799Z"
   },
   {
    "duration": 16,
    "start_time": "2022-04-18T13:24:02.810Z"
   },
   {
    "duration": 22,
    "start_time": "2022-04-18T13:24:02.827Z"
   },
   {
    "duration": 5,
    "start_time": "2022-04-18T13:24:02.850Z"
   },
   {
    "duration": 6,
    "start_time": "2022-04-18T13:24:02.856Z"
   },
   {
    "duration": 12,
    "start_time": "2022-04-18T13:24:02.864Z"
   },
   {
    "duration": 30,
    "start_time": "2022-04-18T13:24:02.877Z"
   },
   {
    "duration": 45,
    "start_time": "2022-04-18T13:24:02.909Z"
   },
   {
    "duration": 20,
    "start_time": "2022-04-18T13:24:02.956Z"
   },
   {
    "duration": 8,
    "start_time": "2022-04-18T13:24:02.978Z"
   },
   {
    "duration": 32,
    "start_time": "2022-04-18T13:24:02.988Z"
   },
   {
    "duration": 46,
    "start_time": "2022-04-18T13:24:03.024Z"
   },
   {
    "duration": 41,
    "start_time": "2022-04-18T13:24:03.071Z"
   },
   {
    "duration": 14,
    "start_time": "2022-04-18T13:24:03.113Z"
   },
   {
    "duration": 28,
    "start_time": "2022-04-18T13:24:03.148Z"
   },
   {
    "duration": 15,
    "start_time": "2022-04-18T13:24:03.178Z"
   },
   {
    "duration": 29,
    "start_time": "2022-04-18T13:24:03.195Z"
   },
   {
    "duration": 29,
    "start_time": "2022-04-18T13:24:03.226Z"
   },
   {
    "duration": 14,
    "start_time": "2022-04-18T13:24:03.256Z"
   },
   {
    "duration": 7,
    "start_time": "2022-04-18T13:24:03.271Z"
   },
   {
    "duration": 16,
    "start_time": "2022-04-18T13:24:03.280Z"
   },
   {
    "duration": 17,
    "start_time": "2022-04-18T13:24:03.298Z"
   },
   {
    "duration": 50,
    "start_time": "2022-04-18T13:24:03.317Z"
   },
   {
    "duration": 12,
    "start_time": "2022-04-18T13:24:03.369Z"
   },
   {
    "duration": 17,
    "start_time": "2022-04-18T13:24:03.382Z"
   },
   {
    "duration": 5,
    "start_time": "2022-04-18T13:24:03.401Z"
   },
   {
    "duration": 140,
    "start_time": "2022-04-18T13:24:03.407Z"
   },
   {
    "duration": 40,
    "start_time": "2022-04-18T13:24:03.549Z"
   },
   {
    "duration": 5,
    "start_time": "2022-04-18T13:24:03.591Z"
   },
   {
    "duration": 25,
    "start_time": "2022-04-18T13:24:03.597Z"
   },
   {
    "duration": 35,
    "start_time": "2022-04-18T13:24:03.624Z"
   },
   {
    "duration": 237,
    "start_time": "2022-04-18T13:24:03.661Z"
   },
   {
    "duration": 204,
    "start_time": "2022-04-18T13:24:03.900Z"
   },
   {
    "duration": 216,
    "start_time": "2022-04-18T13:24:04.105Z"
   },
   {
    "duration": 7,
    "start_time": "2022-04-18T13:24:04.322Z"
   },
   {
    "duration": 17,
    "start_time": "2022-04-18T13:24:04.331Z"
   },
   {
    "duration": 10,
    "start_time": "2022-04-18T13:24:04.350Z"
   },
   {
    "duration": 10,
    "start_time": "2022-04-18T13:24:04.361Z"
   },
   {
    "duration": 10,
    "start_time": "2022-04-18T13:24:04.372Z"
   },
   {
    "duration": 11,
    "start_time": "2022-04-18T13:24:04.384Z"
   },
   {
    "duration": 12,
    "start_time": "2022-04-18T13:24:04.396Z"
   },
   {
    "duration": 54,
    "start_time": "2022-04-18T13:24:04.409Z"
   },
   {
    "duration": 7,
    "start_time": "2022-04-18T13:24:04.464Z"
   },
   {
    "duration": 28,
    "start_time": "2022-04-18T13:26:31.654Z"
   },
   {
    "duration": 4,
    "start_time": "2022-04-18T13:29:37.000Z"
   },
   {
    "duration": 11,
    "start_time": "2022-04-18T13:30:00.880Z"
   },
   {
    "duration": 23,
    "start_time": "2022-04-18T13:30:26.396Z"
   },
   {
    "duration": 3,
    "start_time": "2022-04-18T13:30:55.160Z"
   },
   {
    "duration": 3,
    "start_time": "2022-04-18T13:31:27.842Z"
   },
   {
    "duration": 3,
    "start_time": "2022-04-18T13:31:32.938Z"
   },
   {
    "duration": 170,
    "start_time": "2022-04-18T13:31:32.942Z"
   },
   {
    "duration": 7,
    "start_time": "2022-04-18T13:31:33.114Z"
   },
   {
    "duration": 51,
    "start_time": "2022-04-18T13:31:33.123Z"
   },
   {
    "duration": 29,
    "start_time": "2022-04-18T13:31:33.176Z"
   },
   {
    "duration": 49,
    "start_time": "2022-04-18T13:31:33.206Z"
   },
   {
    "duration": 138,
    "start_time": "2022-04-18T13:31:33.256Z"
   },
   {
    "duration": 8,
    "start_time": "2022-04-18T13:31:33.396Z"
   },
   {
    "duration": 23,
    "start_time": "2022-04-18T13:31:33.406Z"
   },
   {
    "duration": 111,
    "start_time": "2022-04-18T13:31:33.431Z"
   },
   {
    "duration": 20,
    "start_time": "2022-04-18T13:31:33.544Z"
   },
   {
    "duration": 20,
    "start_time": "2022-04-18T13:31:33.566Z"
   },
   {
    "duration": 17,
    "start_time": "2022-04-18T13:31:33.587Z"
   },
   {
    "duration": 7,
    "start_time": "2022-04-18T13:31:33.606Z"
   },
   {
    "duration": 33,
    "start_time": "2022-04-18T13:31:33.614Z"
   },
   {
    "duration": 9,
    "start_time": "2022-04-18T13:31:33.649Z"
   },
   {
    "duration": 7,
    "start_time": "2022-04-18T13:31:33.660Z"
   },
   {
    "duration": 6,
    "start_time": "2022-04-18T13:31:33.669Z"
   },
   {
    "duration": 17,
    "start_time": "2022-04-18T13:31:33.676Z"
   },
   {
    "duration": 6,
    "start_time": "2022-04-18T13:31:33.695Z"
   },
   {
    "duration": 4,
    "start_time": "2022-04-18T13:31:33.703Z"
   },
   {
    "duration": 11,
    "start_time": "2022-04-18T13:31:33.708Z"
   },
   {
    "duration": 32,
    "start_time": "2022-04-18T13:31:33.720Z"
   },
   {
    "duration": 28,
    "start_time": "2022-04-18T13:31:33.754Z"
   },
   {
    "duration": 21,
    "start_time": "2022-04-18T13:31:33.784Z"
   },
   {
    "duration": 43,
    "start_time": "2022-04-18T13:31:33.807Z"
   },
   {
    "duration": 8,
    "start_time": "2022-04-18T13:31:33.852Z"
   },
   {
    "duration": 30,
    "start_time": "2022-04-18T13:31:33.861Z"
   },
   {
    "duration": 26,
    "start_time": "2022-04-18T13:31:33.895Z"
   },
   {
    "duration": 58,
    "start_time": "2022-04-18T13:31:33.923Z"
   },
   {
    "duration": 14,
    "start_time": "2022-04-18T13:31:33.983Z"
   },
   {
    "duration": 48,
    "start_time": "2022-04-18T13:31:33.999Z"
   },
   {
    "duration": 16,
    "start_time": "2022-04-18T13:31:34.050Z"
   },
   {
    "duration": 32,
    "start_time": "2022-04-18T13:31:34.068Z"
   },
   {
    "duration": 9,
    "start_time": "2022-04-18T13:31:34.102Z"
   },
   {
    "duration": 45,
    "start_time": "2022-04-18T13:31:34.113Z"
   },
   {
    "duration": 9,
    "start_time": "2022-04-18T13:31:34.160Z"
   },
   {
    "duration": 15,
    "start_time": "2022-04-18T13:31:34.170Z"
   },
   {
    "duration": 13,
    "start_time": "2022-04-18T13:31:34.187Z"
   },
   {
    "duration": 47,
    "start_time": "2022-04-18T13:31:34.202Z"
   },
   {
    "duration": 14,
    "start_time": "2022-04-18T13:31:34.251Z"
   },
   {
    "duration": 18,
    "start_time": "2022-04-18T13:31:34.267Z"
   },
   {
    "duration": 6,
    "start_time": "2022-04-18T13:31:34.287Z"
   },
   {
    "duration": 55,
    "start_time": "2022-04-18T13:31:34.294Z"
   },
   {
    "duration": 4,
    "start_time": "2022-04-18T13:31:34.350Z"
   },
   {
    "duration": 23,
    "start_time": "2022-04-18T13:31:34.355Z"
   },
   {
    "duration": 4,
    "start_time": "2022-04-18T13:31:34.380Z"
   },
   {
    "duration": 5,
    "start_time": "2022-04-18T13:31:34.385Z"
   },
   {
    "duration": 138,
    "start_time": "2022-04-18T13:31:34.391Z"
   },
   {
    "duration": 50,
    "start_time": "2022-04-18T13:31:34.531Z"
   },
   {
    "duration": 6,
    "start_time": "2022-04-18T13:31:34.583Z"
   },
   {
    "duration": 24,
    "start_time": "2022-04-18T13:31:34.591Z"
   },
   {
    "duration": 40,
    "start_time": "2022-04-18T13:31:34.617Z"
   },
   {
    "duration": 309,
    "start_time": "2022-04-18T13:31:34.659Z"
   },
   {
    "duration": 218,
    "start_time": "2022-04-18T13:31:34.970Z"
   },
   {
    "duration": 218,
    "start_time": "2022-04-18T13:31:35.190Z"
   },
   {
    "duration": 9,
    "start_time": "2022-04-18T13:31:35.410Z"
   },
   {
    "duration": 27,
    "start_time": "2022-04-18T13:31:35.420Z"
   },
   {
    "duration": 13,
    "start_time": "2022-04-18T13:31:35.449Z"
   },
   {
    "duration": 15,
    "start_time": "2022-04-18T13:31:35.464Z"
   },
   {
    "duration": 27,
    "start_time": "2022-04-18T13:31:35.481Z"
   },
   {
    "duration": 67,
    "start_time": "2022-04-18T13:31:35.510Z"
   },
   {
    "duration": 15,
    "start_time": "2022-04-18T13:31:35.579Z"
   },
   {
    "duration": 45,
    "start_time": "2022-04-18T13:31:35.595Z"
   },
   {
    "duration": 17,
    "start_time": "2022-04-18T13:31:35.642Z"
   },
   {
    "duration": 1332,
    "start_time": "2022-04-18T13:33:39.025Z"
   },
   {
    "duration": 3,
    "start_time": "2022-04-18T13:34:04.118Z"
   },
   {
    "duration": 188,
    "start_time": "2022-04-18T13:34:04.123Z"
   },
   {
    "duration": 7,
    "start_time": "2022-04-18T13:34:04.313Z"
   },
   {
    "duration": 50,
    "start_time": "2022-04-18T13:34:04.322Z"
   },
   {
    "duration": 31,
    "start_time": "2022-04-18T13:34:04.374Z"
   },
   {
    "duration": 54,
    "start_time": "2022-04-18T13:34:04.406Z"
   },
   {
    "duration": 139,
    "start_time": "2022-04-18T13:34:04.461Z"
   },
   {
    "duration": 8,
    "start_time": "2022-04-18T13:34:04.602Z"
   },
   {
    "duration": 24,
    "start_time": "2022-04-18T13:34:04.611Z"
   },
   {
    "duration": 103,
    "start_time": "2022-04-18T13:34:04.647Z"
   },
   {
    "duration": 22,
    "start_time": "2022-04-18T13:34:04.753Z"
   },
   {
    "duration": 21,
    "start_time": "2022-04-18T13:34:04.777Z"
   },
   {
    "duration": 17,
    "start_time": "2022-04-18T13:34:04.800Z"
   },
   {
    "duration": 30,
    "start_time": "2022-04-18T13:34:04.819Z"
   },
   {
    "duration": 27,
    "start_time": "2022-04-18T13:34:04.851Z"
   },
   {
    "duration": 10,
    "start_time": "2022-04-18T13:34:04.880Z"
   },
   {
    "duration": 7,
    "start_time": "2022-04-18T13:34:04.892Z"
   },
   {
    "duration": 8,
    "start_time": "2022-04-18T13:34:04.901Z"
   },
   {
    "duration": 14,
    "start_time": "2022-04-18T13:34:04.910Z"
   },
   {
    "duration": 7,
    "start_time": "2022-04-18T13:34:04.948Z"
   },
   {
    "duration": 5,
    "start_time": "2022-04-18T13:34:04.956Z"
   },
   {
    "duration": 6,
    "start_time": "2022-04-18T13:34:04.963Z"
   },
   {
    "duration": 10,
    "start_time": "2022-04-18T13:34:04.971Z"
   },
   {
    "duration": 28,
    "start_time": "2022-04-18T13:34:04.983Z"
   },
   {
    "duration": 47,
    "start_time": "2022-04-18T13:34:05.013Z"
   },
   {
    "duration": 19,
    "start_time": "2022-04-18T13:34:05.062Z"
   },
   {
    "duration": 8,
    "start_time": "2022-04-18T13:34:05.083Z"
   },
   {
    "duration": 29,
    "start_time": "2022-04-18T13:34:05.093Z"
   },
   {
    "duration": 27,
    "start_time": "2022-04-18T13:34:05.147Z"
   },
   {
    "duration": 39,
    "start_time": "2022-04-18T13:34:05.176Z"
   },
   {
    "duration": 35,
    "start_time": "2022-04-18T13:34:05.217Z"
   },
   {
    "duration": 28,
    "start_time": "2022-04-18T13:34:05.253Z"
   },
   {
    "duration": 17,
    "start_time": "2022-04-18T13:34:05.283Z"
   },
   {
    "duration": 57,
    "start_time": "2022-04-18T13:34:05.302Z"
   },
   {
    "duration": 9,
    "start_time": "2022-04-18T13:34:05.361Z"
   },
   {
    "duration": 15,
    "start_time": "2022-04-18T13:34:05.371Z"
   },
   {
    "duration": 8,
    "start_time": "2022-04-18T13:34:05.388Z"
   },
   {
    "duration": 13,
    "start_time": "2022-04-18T13:34:05.398Z"
   },
   {
    "duration": 43,
    "start_time": "2022-04-18T13:34:05.413Z"
   },
   {
    "duration": 23,
    "start_time": "2022-04-18T13:34:05.458Z"
   },
   {
    "duration": 13,
    "start_time": "2022-04-18T13:34:05.483Z"
   },
   {
    "duration": 19,
    "start_time": "2022-04-18T13:34:05.498Z"
   },
   {
    "duration": 34,
    "start_time": "2022-04-18T13:34:05.519Z"
   },
   {
    "duration": 27,
    "start_time": "2022-04-18T13:34:05.555Z"
   },
   {
    "duration": 3,
    "start_time": "2022-04-18T13:34:05.584Z"
   },
   {
    "duration": 24,
    "start_time": "2022-04-18T13:34:05.589Z"
   },
   {
    "duration": 4,
    "start_time": "2022-04-18T13:34:05.615Z"
   },
   {
    "duration": 4,
    "start_time": "2022-04-18T13:34:05.648Z"
   },
   {
    "duration": 124,
    "start_time": "2022-04-18T13:34:05.654Z"
   },
   {
    "duration": 40,
    "start_time": "2022-04-18T13:34:05.780Z"
   },
   {
    "duration": 26,
    "start_time": "2022-04-18T13:34:05.822Z"
   },
   {
    "duration": 25,
    "start_time": "2022-04-18T13:34:05.849Z"
   },
   {
    "duration": 14,
    "start_time": "2022-04-18T13:34:05.876Z"
   },
   {
    "duration": 236,
    "start_time": "2022-04-18T13:34:05.892Z"
   },
   {
    "duration": 204,
    "start_time": "2022-04-18T13:34:06.130Z"
   },
   {
    "duration": 311,
    "start_time": "2022-04-18T13:34:06.336Z"
   },
   {
    "duration": 8,
    "start_time": "2022-04-18T13:34:06.649Z"
   },
   {
    "duration": 8,
    "start_time": "2022-04-18T13:34:06.659Z"
   },
   {
    "duration": 12,
    "start_time": "2022-04-18T13:34:06.668Z"
   },
   {
    "duration": 7,
    "start_time": "2022-04-18T13:34:06.681Z"
   },
   {
    "duration": 10,
    "start_time": "2022-04-18T13:34:06.690Z"
   },
   {
    "duration": 50,
    "start_time": "2022-04-18T13:34:06.702Z"
   },
   {
    "duration": 27,
    "start_time": "2022-04-18T13:34:06.754Z"
   },
   {
    "duration": 5,
    "start_time": "2022-04-18T13:34:06.783Z"
   },
   {
    "duration": 49,
    "start_time": "2022-04-19T11:48:08.702Z"
   },
   {
    "duration": 1346,
    "start_time": "2022-04-19T11:48:19.312Z"
   },
   {
    "duration": 177,
    "start_time": "2022-04-19T11:48:20.660Z"
   },
   {
    "duration": 14,
    "start_time": "2022-04-19T11:48:20.838Z"
   },
   {
    "duration": 32,
    "start_time": "2022-04-19T11:48:20.855Z"
   },
   {
    "duration": 54,
    "start_time": "2022-04-19T11:48:20.889Z"
   },
   {
    "duration": 28,
    "start_time": "2022-04-19T11:48:20.945Z"
   },
   {
    "duration": 123,
    "start_time": "2022-04-19T11:48:20.975Z"
   },
   {
    "duration": 3,
    "start_time": "2022-04-19T11:48:47.602Z"
   },
   {
    "duration": 236,
    "start_time": "2022-04-19T11:48:47.607Z"
   },
   {
    "duration": 9,
    "start_time": "2022-04-19T11:48:47.846Z"
   },
   {
    "duration": 40,
    "start_time": "2022-04-19T11:48:47.857Z"
   },
   {
    "duration": 68,
    "start_time": "2022-04-19T11:48:47.899Z"
   },
   {
    "duration": 29,
    "start_time": "2022-04-19T11:48:47.969Z"
   },
   {
    "duration": 136,
    "start_time": "2022-04-19T11:48:48.000Z"
   },
   {
    "duration": 153,
    "start_time": "2022-04-19T11:48:48.138Z"
   },
   {
    "duration": 9,
    "start_time": "2022-04-19T11:48:48.293Z"
   },
   {
    "duration": 41,
    "start_time": "2022-04-19T11:48:48.304Z"
   },
   {
    "duration": 70,
    "start_time": "2022-04-19T11:48:48.348Z"
   },
   {
    "duration": 108,
    "start_time": "2022-04-19T11:48:48.433Z"
   },
   {
    "duration": 23,
    "start_time": "2022-04-19T11:48:48.543Z"
   },
   {
    "duration": 25,
    "start_time": "2022-04-19T11:48:48.568Z"
   },
   {
    "duration": 24,
    "start_time": "2022-04-19T11:48:48.595Z"
   },
   {
    "duration": 19,
    "start_time": "2022-04-19T11:48:48.620Z"
   },
   {
    "duration": 38,
    "start_time": "2022-04-19T11:48:48.641Z"
   },
   {
    "duration": 11,
    "start_time": "2022-04-19T11:48:48.681Z"
   },
   {
    "duration": 13,
    "start_time": "2022-04-19T11:48:48.693Z"
   },
   {
    "duration": 17,
    "start_time": "2022-04-19T11:48:48.707Z"
   },
   {
    "duration": 20,
    "start_time": "2022-04-19T11:48:48.725Z"
   },
   {
    "duration": 15,
    "start_time": "2022-04-19T11:48:48.747Z"
   },
   {
    "duration": 12,
    "start_time": "2022-04-19T11:48:48.764Z"
   },
   {
    "duration": 10,
    "start_time": "2022-04-19T11:48:48.778Z"
   },
   {
    "duration": 18,
    "start_time": "2022-04-19T11:48:48.790Z"
   },
   {
    "duration": 43,
    "start_time": "2022-04-19T11:48:48.810Z"
   },
   {
    "duration": 25,
    "start_time": "2022-04-19T11:48:48.855Z"
   },
   {
    "duration": 22,
    "start_time": "2022-04-19T11:48:48.881Z"
   },
   {
    "duration": 27,
    "start_time": "2022-04-19T11:48:48.908Z"
   },
   {
    "duration": 44,
    "start_time": "2022-04-19T11:48:48.937Z"
   },
   {
    "duration": 30,
    "start_time": "2022-04-19T11:48:48.983Z"
   },
   {
    "duration": 60,
    "start_time": "2022-04-19T11:48:49.014Z"
   },
   {
    "duration": 17,
    "start_time": "2022-04-19T11:48:49.076Z"
   },
   {
    "duration": 57,
    "start_time": "2022-04-19T11:48:49.095Z"
   },
   {
    "duration": 19,
    "start_time": "2022-04-19T11:48:49.154Z"
   },
   {
    "duration": 34,
    "start_time": "2022-04-19T11:48:49.175Z"
   },
   {
    "duration": 29,
    "start_time": "2022-04-19T11:48:49.211Z"
   },
   {
    "duration": 22,
    "start_time": "2022-04-19T11:48:49.242Z"
   },
   {
    "duration": 9,
    "start_time": "2022-04-19T11:48:49.266Z"
   },
   {
    "duration": 20,
    "start_time": "2022-04-19T11:48:49.276Z"
   },
   {
    "duration": 37,
    "start_time": "2022-04-19T11:48:49.297Z"
   },
   {
    "duration": 37,
    "start_time": "2022-04-19T11:48:49.336Z"
   },
   {
    "duration": 20,
    "start_time": "2022-04-19T11:48:49.375Z"
   },
   {
    "duration": 52,
    "start_time": "2022-04-19T11:48:49.397Z"
   },
   {
    "duration": 6,
    "start_time": "2022-04-19T11:48:49.450Z"
   },
   {
    "duration": 35,
    "start_time": "2022-04-19T11:48:49.458Z"
   },
   {
    "duration": 4,
    "start_time": "2022-04-19T11:48:49.495Z"
   },
   {
    "duration": 54,
    "start_time": "2022-04-19T11:48:49.501Z"
   },
   {
    "duration": 3,
    "start_time": "2022-04-19T11:48:49.557Z"
   },
   {
    "duration": 7,
    "start_time": "2022-04-19T11:48:49.562Z"
   },
   {
    "duration": 149,
    "start_time": "2022-04-19T11:48:49.571Z"
   },
   {
    "duration": 56,
    "start_time": "2022-04-19T11:48:49.721Z"
   },
   {
    "duration": 6,
    "start_time": "2022-04-19T11:48:49.779Z"
   },
   {
    "duration": 48,
    "start_time": "2022-04-19T11:48:49.786Z"
   },
   {
    "duration": 16,
    "start_time": "2022-04-19T11:48:49.836Z"
   },
   {
    "duration": 306,
    "start_time": "2022-04-19T11:48:49.853Z"
   },
   {
    "duration": 288,
    "start_time": "2022-04-19T11:48:50.161Z"
   },
   {
    "duration": 271,
    "start_time": "2022-04-19T11:48:50.450Z"
   },
   {
    "duration": 15,
    "start_time": "2022-04-19T11:48:50.723Z"
   },
   {
    "duration": 12,
    "start_time": "2022-04-19T11:48:50.740Z"
   },
   {
    "duration": 23,
    "start_time": "2022-04-19T11:48:50.755Z"
   },
   {
    "duration": 6,
    "start_time": "2022-04-19T11:48:50.780Z"
   },
   {
    "duration": 24,
    "start_time": "2022-04-19T11:48:50.788Z"
   },
   {
    "duration": 31,
    "start_time": "2022-04-19T11:48:50.814Z"
   },
   {
    "duration": 41,
    "start_time": "2022-04-19T11:48:50.847Z"
   },
   {
    "duration": 6,
    "start_time": "2022-04-19T11:48:50.889Z"
   },
   {
    "duration": 43,
    "start_time": "2022-04-19T11:49:42.622Z"
   },
   {
    "duration": 7,
    "start_time": "2022-04-19T11:50:14.765Z"
   },
   {
    "duration": 62,
    "start_time": "2022-04-19T11:51:26.387Z"
   },
   {
    "duration": 3,
    "start_time": "2022-04-19T11:51:55.749Z"
   },
   {
    "duration": 8,
    "start_time": "2022-04-19T11:52:04.380Z"
   },
   {
    "duration": 4,
    "start_time": "2022-04-19T11:52:09.054Z"
   },
   {
    "duration": 4,
    "start_time": "2022-04-19T11:53:05.924Z"
   },
   {
    "duration": 5,
    "start_time": "2022-04-19T12:02:19.417Z"
   },
   {
    "duration": 26,
    "start_time": "2022-04-19T12:05:36.187Z"
   },
   {
    "duration": 52,
    "start_time": "2022-04-20T14:15:15.270Z"
   },
   {
    "duration": 1257,
    "start_time": "2022-04-20T14:15:21.255Z"
   },
   {
    "duration": 172,
    "start_time": "2022-04-20T14:15:22.515Z"
   },
   {
    "duration": 13,
    "start_time": "2022-04-20T14:15:22.689Z"
   },
   {
    "duration": 47,
    "start_time": "2022-04-20T14:15:22.703Z"
   },
   {
    "duration": 31,
    "start_time": "2022-04-20T14:15:22.752Z"
   },
   {
    "duration": 39,
    "start_time": "2022-04-20T14:15:22.785Z"
   },
   {
    "duration": 112,
    "start_time": "2022-04-20T14:15:22.826Z"
   },
   {
    "duration": 142,
    "start_time": "2022-04-20T14:15:22.939Z"
   },
   {
    "duration": 8,
    "start_time": "2022-04-20T14:15:23.083Z"
   },
   {
    "duration": 30,
    "start_time": "2022-04-20T14:15:23.092Z"
   },
   {
    "duration": 60,
    "start_time": "2022-04-20T14:15:23.124Z"
   },
   {
    "duration": 103,
    "start_time": "2022-04-20T14:15:23.185Z"
   },
   {
    "duration": 20,
    "start_time": "2022-04-20T14:15:23.290Z"
   },
   {
    "duration": 21,
    "start_time": "2022-04-20T14:15:23.322Z"
   },
   {
    "duration": 42,
    "start_time": "2022-04-20T14:15:23.344Z"
   },
   {
    "duration": 23,
    "start_time": "2022-04-20T14:15:23.387Z"
   },
   {
    "duration": 8,
    "start_time": "2022-04-20T14:15:23.422Z"
   },
   {
    "duration": 64,
    "start_time": "2022-04-20T14:15:23.432Z"
   },
   {
    "duration": 10,
    "start_time": "2022-04-20T14:15:23.498Z"
   },
   {
    "duration": 14,
    "start_time": "2022-04-20T14:15:23.510Z"
   },
   {
    "duration": 21,
    "start_time": "2022-04-20T14:15:23.526Z"
   },
   {
    "duration": 17,
    "start_time": "2022-04-20T14:15:23.548Z"
   },
   {
    "duration": 10,
    "start_time": "2022-04-20T14:15:23.566Z"
   },
   {
    "duration": 6,
    "start_time": "2022-04-20T14:15:23.577Z"
   },
   {
    "duration": 67,
    "start_time": "2022-04-20T14:15:23.584Z"
   },
   {
    "duration": 0,
    "start_time": "2022-04-20T14:15:23.655Z"
   },
   {
    "duration": 0,
    "start_time": "2022-04-20T14:15:23.657Z"
   },
   {
    "duration": 0,
    "start_time": "2022-04-20T14:15:23.657Z"
   },
   {
    "duration": 0,
    "start_time": "2022-04-20T14:15:23.658Z"
   },
   {
    "duration": 0,
    "start_time": "2022-04-20T14:15:23.659Z"
   },
   {
    "duration": 0,
    "start_time": "2022-04-20T14:15:23.660Z"
   },
   {
    "duration": 0,
    "start_time": "2022-04-20T14:15:23.661Z"
   },
   {
    "duration": 0,
    "start_time": "2022-04-20T14:15:23.662Z"
   },
   {
    "duration": 0,
    "start_time": "2022-04-20T14:15:23.663Z"
   },
   {
    "duration": 0,
    "start_time": "2022-04-20T14:15:23.664Z"
   },
   {
    "duration": 0,
    "start_time": "2022-04-20T14:15:23.666Z"
   },
   {
    "duration": 0,
    "start_time": "2022-04-20T14:15:23.667Z"
   },
   {
    "duration": 0,
    "start_time": "2022-04-20T14:15:23.668Z"
   },
   {
    "duration": 0,
    "start_time": "2022-04-20T14:15:23.669Z"
   },
   {
    "duration": 0,
    "start_time": "2022-04-20T14:15:23.670Z"
   },
   {
    "duration": 0,
    "start_time": "2022-04-20T14:15:23.671Z"
   },
   {
    "duration": 0,
    "start_time": "2022-04-20T14:15:23.672Z"
   },
   {
    "duration": 0,
    "start_time": "2022-04-20T14:15:23.674Z"
   },
   {
    "duration": 0,
    "start_time": "2022-04-20T14:15:23.675Z"
   },
   {
    "duration": 0,
    "start_time": "2022-04-20T14:15:23.677Z"
   },
   {
    "duration": 0,
    "start_time": "2022-04-20T14:15:23.678Z"
   },
   {
    "duration": 0,
    "start_time": "2022-04-20T14:15:23.679Z"
   },
   {
    "duration": 0,
    "start_time": "2022-04-20T14:15:23.680Z"
   },
   {
    "duration": 0,
    "start_time": "2022-04-20T14:15:23.681Z"
   },
   {
    "duration": 0,
    "start_time": "2022-04-20T14:15:23.682Z"
   },
   {
    "duration": 0,
    "start_time": "2022-04-20T14:15:23.723Z"
   },
   {
    "duration": 0,
    "start_time": "2022-04-20T14:15:23.724Z"
   },
   {
    "duration": 0,
    "start_time": "2022-04-20T14:15:23.725Z"
   },
   {
    "duration": 0,
    "start_time": "2022-04-20T14:15:23.726Z"
   },
   {
    "duration": 0,
    "start_time": "2022-04-20T14:15:23.727Z"
   },
   {
    "duration": 0,
    "start_time": "2022-04-20T14:15:23.728Z"
   },
   {
    "duration": 0,
    "start_time": "2022-04-20T14:15:23.729Z"
   },
   {
    "duration": 0,
    "start_time": "2022-04-20T14:15:23.730Z"
   },
   {
    "duration": 0,
    "start_time": "2022-04-20T14:15:23.730Z"
   },
   {
    "duration": 0,
    "start_time": "2022-04-20T14:15:23.731Z"
   },
   {
    "duration": 0,
    "start_time": "2022-04-20T14:15:23.732Z"
   },
   {
    "duration": 0,
    "start_time": "2022-04-20T14:15:23.733Z"
   },
   {
    "duration": 0,
    "start_time": "2022-04-20T14:15:23.734Z"
   },
   {
    "duration": 0,
    "start_time": "2022-04-20T14:15:23.735Z"
   },
   {
    "duration": 0,
    "start_time": "2022-04-20T14:15:23.736Z"
   },
   {
    "duration": 0,
    "start_time": "2022-04-20T14:15:23.737Z"
   },
   {
    "duration": 0,
    "start_time": "2022-04-20T14:15:23.738Z"
   },
   {
    "duration": 0,
    "start_time": "2022-04-20T14:15:23.739Z"
   },
   {
    "duration": 0,
    "start_time": "2022-04-20T14:15:23.739Z"
   },
   {
    "duration": 0,
    "start_time": "2022-04-20T14:15:23.740Z"
   },
   {
    "duration": 0,
    "start_time": "2022-04-20T14:15:23.741Z"
   },
   {
    "duration": 19,
    "start_time": "2022-04-20T14:15:48.655Z"
   },
   {
    "duration": 5,
    "start_time": "2022-04-20T14:16:42.901Z"
   },
   {
    "duration": 4,
    "start_time": "2022-04-20T14:16:46.883Z"
   },
   {
    "duration": 5,
    "start_time": "2022-04-20T14:16:48.811Z"
   },
   {
    "duration": 11,
    "start_time": "2022-04-20T14:16:53.118Z"
   },
   {
    "duration": 3,
    "start_time": "2022-04-20T15:16:23.902Z"
   },
   {
    "duration": 5,
    "start_time": "2022-04-20T15:16:24.542Z"
   },
   {
    "duration": 5,
    "start_time": "2022-04-20T15:16:25.058Z"
   },
   {
    "duration": 4,
    "start_time": "2022-04-20T15:16:25.520Z"
   },
   {
    "duration": 12,
    "start_time": "2022-04-20T15:16:25.795Z"
   },
   {
    "duration": 30,
    "start_time": "2022-04-20T15:16:26.547Z"
   },
   {
    "duration": 24,
    "start_time": "2022-04-20T15:16:27.272Z"
   },
   {
    "duration": 3,
    "start_time": "2022-04-20T15:16:36.249Z"
   },
   {
    "duration": 204,
    "start_time": "2022-04-20T15:16:36.254Z"
   },
   {
    "duration": 9,
    "start_time": "2022-04-20T15:16:36.460Z"
   },
   {
    "duration": 57,
    "start_time": "2022-04-20T15:16:36.470Z"
   },
   {
    "duration": 31,
    "start_time": "2022-04-20T15:16:36.529Z"
   },
   {
    "duration": 24,
    "start_time": "2022-04-20T15:16:36.562Z"
   },
   {
    "duration": 113,
    "start_time": "2022-04-20T15:16:36.588Z"
   },
   {
    "duration": 149,
    "start_time": "2022-04-20T15:16:36.703Z"
   },
   {
    "duration": 9,
    "start_time": "2022-04-20T15:16:36.854Z"
   },
   {
    "duration": 26,
    "start_time": "2022-04-20T15:16:36.865Z"
   },
   {
    "duration": 75,
    "start_time": "2022-04-20T15:16:36.893Z"
   },
   {
    "duration": 108,
    "start_time": "2022-04-20T15:16:36.970Z"
   },
   {
    "duration": 19,
    "start_time": "2022-04-20T15:16:37.080Z"
   },
   {
    "duration": 36,
    "start_time": "2022-04-20T15:16:37.101Z"
   },
   {
    "duration": 52,
    "start_time": "2022-04-20T15:16:37.139Z"
   },
   {
    "duration": 22,
    "start_time": "2022-04-20T15:16:37.192Z"
   },
   {
    "duration": 8,
    "start_time": "2022-04-20T15:16:37.221Z"
   },
   {
    "duration": 35,
    "start_time": "2022-04-20T15:16:37.231Z"
   },
   {
    "duration": 9,
    "start_time": "2022-04-20T15:16:37.268Z"
   },
   {
    "duration": 8,
    "start_time": "2022-04-20T15:16:37.279Z"
   },
   {
    "duration": 7,
    "start_time": "2022-04-20T15:16:37.289Z"
   },
   {
    "duration": 30,
    "start_time": "2022-04-20T15:16:37.298Z"
   },
   {
    "duration": 6,
    "start_time": "2022-04-20T15:16:37.329Z"
   },
   {
    "duration": 8,
    "start_time": "2022-04-20T15:16:37.336Z"
   },
   {
    "duration": 5,
    "start_time": "2022-04-20T15:16:37.345Z"
   },
   {
    "duration": 7,
    "start_time": "2022-04-20T15:16:37.352Z"
   },
   {
    "duration": 10,
    "start_time": "2022-04-20T15:16:37.360Z"
   },
   {
    "duration": 14,
    "start_time": "2022-04-20T15:16:37.372Z"
   },
   {
    "duration": 13,
    "start_time": "2022-04-20T15:16:37.390Z"
   },
   {
    "duration": 45,
    "start_time": "2022-04-20T15:16:37.405Z"
   },
   {
    "duration": 23,
    "start_time": "2022-04-20T15:16:37.452Z"
   },
   {
    "duration": 22,
    "start_time": "2022-04-20T15:16:37.476Z"
   },
   {
    "duration": 23,
    "start_time": "2022-04-20T15:16:37.500Z"
   },
   {
    "duration": 32,
    "start_time": "2022-04-20T15:16:37.525Z"
   },
   {
    "duration": 28,
    "start_time": "2022-04-20T15:16:37.559Z"
   },
   {
    "duration": 60,
    "start_time": "2022-04-20T15:16:37.589Z"
   },
   {
    "duration": 13,
    "start_time": "2022-04-20T15:16:37.651Z"
   },
   {
    "duration": 29,
    "start_time": "2022-04-20T15:16:37.666Z"
   },
   {
    "duration": 41,
    "start_time": "2022-04-20T15:16:37.697Z"
   },
   {
    "duration": 39,
    "start_time": "2022-04-20T15:16:37.740Z"
   },
   {
    "duration": 4,
    "start_time": "2022-04-20T15:16:37.781Z"
   },
   {
    "duration": 15,
    "start_time": "2022-04-20T15:16:37.787Z"
   },
   {
    "duration": 34,
    "start_time": "2022-04-20T15:16:37.804Z"
   },
   {
    "duration": 4,
    "start_time": "2022-04-20T15:16:37.840Z"
   },
   {
    "duration": 14,
    "start_time": "2022-04-20T15:16:37.846Z"
   },
   {
    "duration": 21,
    "start_time": "2022-04-20T15:16:37.862Z"
   },
   {
    "duration": 41,
    "start_time": "2022-04-20T15:16:37.885Z"
   },
   {
    "duration": 24,
    "start_time": "2022-04-20T15:16:37.928Z"
   },
   {
    "duration": 13,
    "start_time": "2022-04-20T15:16:37.954Z"
   },
   {
    "duration": 19,
    "start_time": "2022-04-20T15:16:37.969Z"
   },
   {
    "duration": 39,
    "start_time": "2022-04-20T15:16:37.990Z"
   },
   {
    "duration": 28,
    "start_time": "2022-04-20T15:16:38.031Z"
   },
   {
    "duration": 3,
    "start_time": "2022-04-20T15:16:38.060Z"
   },
   {
    "duration": 48,
    "start_time": "2022-04-20T15:16:38.065Z"
   },
   {
    "duration": 16,
    "start_time": "2022-04-20T15:16:38.115Z"
   },
   {
    "duration": 21,
    "start_time": "2022-04-20T15:16:38.133Z"
   },
   {
    "duration": 138,
    "start_time": "2022-04-20T15:16:38.156Z"
   },
   {
    "duration": 22,
    "start_time": "2022-04-20T15:16:38.295Z"
   },
   {
    "duration": 7,
    "start_time": "2022-04-20T15:16:38.318Z"
   },
   {
    "duration": 33,
    "start_time": "2022-04-20T15:16:38.326Z"
   },
   {
    "duration": 15,
    "start_time": "2022-04-20T15:16:38.360Z"
   },
   {
    "duration": 264,
    "start_time": "2022-04-20T15:16:38.377Z"
   },
   {
    "duration": 224,
    "start_time": "2022-04-20T15:16:38.643Z"
   },
   {
    "duration": 230,
    "start_time": "2022-04-20T15:16:38.869Z"
   },
   {
    "duration": 8,
    "start_time": "2022-04-20T15:16:39.101Z"
   },
   {
    "duration": 7,
    "start_time": "2022-04-20T15:16:39.123Z"
   },
   {
    "duration": 13,
    "start_time": "2022-04-20T15:16:39.132Z"
   },
   {
    "duration": 7,
    "start_time": "2022-04-20T15:16:39.147Z"
   },
   {
    "duration": 17,
    "start_time": "2022-04-20T15:16:39.156Z"
   },
   {
    "duration": 11,
    "start_time": "2022-04-20T15:16:39.175Z"
   },
   {
    "duration": 80,
    "start_time": "2022-04-20T15:16:39.188Z"
   },
   {
    "duration": 7,
    "start_time": "2022-04-20T15:16:39.270Z"
   },
   {
    "duration": 70,
    "start_time": "2022-04-21T06:54:36.718Z"
   },
   {
    "duration": 2612,
    "start_time": "2022-04-21T06:54:46.613Z"
   },
   {
    "duration": 387,
    "start_time": "2022-04-21T06:54:49.229Z"
   },
   {
    "duration": 18,
    "start_time": "2022-04-21T06:54:49.618Z"
   },
   {
    "duration": 38,
    "start_time": "2022-04-21T06:54:49.651Z"
   },
   {
    "duration": 39,
    "start_time": "2022-04-21T06:54:49.691Z"
   },
   {
    "duration": 35,
    "start_time": "2022-04-21T06:54:49.752Z"
   },
   {
    "duration": 176,
    "start_time": "2022-04-21T06:54:49.789Z"
   },
   {
    "duration": 211,
    "start_time": "2022-04-21T06:54:49.967Z"
   },
   {
    "duration": 13,
    "start_time": "2022-04-21T06:54:50.181Z"
   },
   {
    "duration": 54,
    "start_time": "2022-04-21T06:54:50.198Z"
   },
   {
    "duration": 128,
    "start_time": "2022-04-21T06:54:50.254Z"
   },
   {
    "duration": 139,
    "start_time": "2022-04-21T06:54:50.385Z"
   },
   {
    "duration": 37,
    "start_time": "2022-04-21T06:54:50.526Z"
   },
   {
    "duration": 29,
    "start_time": "2022-04-21T06:54:50.566Z"
   },
   {
    "duration": 103,
    "start_time": "2022-04-21T06:54:50.597Z"
   },
   {
    "duration": 22,
    "start_time": "2022-04-21T06:54:50.703Z"
   },
   {
    "duration": 32,
    "start_time": "2022-04-21T06:54:50.728Z"
   },
   {
    "duration": 38,
    "start_time": "2022-04-21T06:54:50.763Z"
   },
   {
    "duration": 16,
    "start_time": "2022-04-21T06:54:50.803Z"
   },
   {
    "duration": 15,
    "start_time": "2022-04-21T06:54:50.821Z"
   },
   {
    "duration": 19,
    "start_time": "2022-04-21T06:54:50.839Z"
   },
   {
    "duration": 31,
    "start_time": "2022-04-21T06:54:50.861Z"
   },
   {
    "duration": 22,
    "start_time": "2022-04-21T06:54:50.895Z"
   },
   {
    "duration": 14,
    "start_time": "2022-04-21T06:54:50.919Z"
   },
   {
    "duration": 30,
    "start_time": "2022-04-21T06:54:50.935Z"
   },
   {
    "duration": 15,
    "start_time": "2022-04-21T06:54:50.967Z"
   },
   {
    "duration": 20,
    "start_time": "2022-04-21T06:54:50.984Z"
   },
   {
    "duration": 23,
    "start_time": "2022-04-21T06:54:51.010Z"
   },
   {
    "duration": 25,
    "start_time": "2022-04-21T06:54:51.035Z"
   },
   {
    "duration": 66,
    "start_time": "2022-04-21T06:54:51.063Z"
   },
   {
    "duration": 39,
    "start_time": "2022-04-21T06:54:51.132Z"
   },
   {
    "duration": 31,
    "start_time": "2022-04-21T06:54:51.173Z"
   },
   {
    "duration": 13,
    "start_time": "2022-04-21T06:54:51.206Z"
   },
   {
    "duration": 73,
    "start_time": "2022-04-21T06:54:51.221Z"
   },
   {
    "duration": 64,
    "start_time": "2022-04-21T06:54:51.297Z"
   },
   {
    "duration": 98,
    "start_time": "2022-04-21T06:54:51.363Z"
   },
   {
    "duration": 27,
    "start_time": "2022-04-21T06:54:51.463Z"
   },
   {
    "duration": 77,
    "start_time": "2022-04-21T06:54:51.494Z"
   },
   {
    "duration": 30,
    "start_time": "2022-04-21T06:54:51.574Z"
   },
   {
    "duration": 81,
    "start_time": "2022-04-21T06:54:51.607Z"
   },
   {
    "duration": 8,
    "start_time": "2022-04-21T06:54:51.691Z"
   },
   {
    "duration": 23,
    "start_time": "2022-04-21T06:54:51.701Z"
   },
   {
    "duration": 38,
    "start_time": "2022-04-21T06:54:51.727Z"
   },
   {
    "duration": 6,
    "start_time": "2022-04-21T06:54:51.767Z"
   },
   {
    "duration": 25,
    "start_time": "2022-04-21T06:54:51.776Z"
   },
   {
    "duration": 26,
    "start_time": "2022-04-21T06:54:51.804Z"
   },
   {
    "duration": 21,
    "start_time": "2022-04-21T06:54:51.852Z"
   },
   {
    "duration": 74,
    "start_time": "2022-04-21T06:54:51.875Z"
   },
   {
    "duration": 21,
    "start_time": "2022-04-21T06:54:51.951Z"
   },
   {
    "duration": 30,
    "start_time": "2022-04-21T06:54:51.974Z"
   },
   {
    "duration": 8,
    "start_time": "2022-04-21T06:54:52.006Z"
   },
   {
    "duration": 77,
    "start_time": "2022-04-21T06:54:52.016Z"
   },
   {
    "duration": 5,
    "start_time": "2022-04-21T06:54:52.095Z"
   },
   {
    "duration": 57,
    "start_time": "2022-04-21T06:54:52.102Z"
   },
   {
    "duration": 4,
    "start_time": "2022-04-21T06:54:52.161Z"
   },
   {
    "duration": 43,
    "start_time": "2022-04-21T06:54:52.167Z"
   },
   {
    "duration": 259,
    "start_time": "2022-04-21T06:54:52.213Z"
   },
   {
    "duration": 34,
    "start_time": "2022-04-21T06:54:52.475Z"
   },
   {
    "duration": 7,
    "start_time": "2022-04-21T06:54:52.512Z"
   },
   {
    "duration": 65,
    "start_time": "2022-04-21T06:54:52.521Z"
   },
   {
    "duration": 19,
    "start_time": "2022-04-21T06:54:52.589Z"
   },
   {
    "duration": 487,
    "start_time": "2022-04-21T06:54:52.611Z"
   },
   {
    "duration": 400,
    "start_time": "2022-04-21T06:54:53.101Z"
   },
   {
    "duration": 403,
    "start_time": "2022-04-21T06:54:53.504Z"
   },
   {
    "duration": 12,
    "start_time": "2022-04-21T06:54:53.909Z"
   },
   {
    "duration": 35,
    "start_time": "2022-04-21T06:54:53.924Z"
   },
   {
    "duration": 19,
    "start_time": "2022-04-21T06:54:53.961Z"
   },
   {
    "duration": 8,
    "start_time": "2022-04-21T06:54:53.983Z"
   },
   {
    "duration": 16,
    "start_time": "2022-04-21T06:54:53.994Z"
   },
   {
    "duration": 13,
    "start_time": "2022-04-21T06:54:54.051Z"
   },
   {
    "duration": 47,
    "start_time": "2022-04-21T06:54:54.066Z"
   },
   {
    "duration": 8,
    "start_time": "2022-04-21T06:54:54.115Z"
   },
   {
    "duration": 454,
    "start_time": "2022-04-21T06:56:08.537Z"
   },
   {
    "duration": 528,
    "start_time": "2022-04-21T06:56:27.109Z"
   },
   {
    "duration": 463,
    "start_time": "2022-04-21T06:56:33.938Z"
   },
   {
    "duration": 442,
    "start_time": "2022-04-21T06:57:24.865Z"
   },
   {
    "duration": 457,
    "start_time": "2022-04-21T06:57:27.636Z"
   },
   {
    "duration": 362,
    "start_time": "2022-04-21T06:57:42.350Z"
   },
   {
    "duration": 319,
    "start_time": "2022-04-21T06:57:57.850Z"
   },
   {
    "duration": 369,
    "start_time": "2022-04-21T06:58:04.428Z"
   },
   {
    "duration": 356,
    "start_time": "2022-04-21T06:58:19.054Z"
   },
   {
    "duration": 726,
    "start_time": "2022-04-21T06:58:23.405Z"
   },
   {
    "duration": 393,
    "start_time": "2022-04-21T06:58:58.803Z"
   },
   {
    "duration": 354,
    "start_time": "2022-04-21T06:59:05.477Z"
   },
   {
    "duration": 98,
    "start_time": "2022-04-21T07:02:49.423Z"
   },
   {
    "duration": 22,
    "start_time": "2022-04-21T07:03:02.430Z"
   },
   {
    "duration": 11,
    "start_time": "2022-04-21T07:03:33.589Z"
   },
   {
    "duration": 21,
    "start_time": "2022-04-21T07:03:43.279Z"
   },
   {
    "duration": 16,
    "start_time": "2022-04-21T07:04:12.536Z"
   },
   {
    "duration": 15,
    "start_time": "2022-04-21T07:04:17.479Z"
   },
   {
    "duration": 23,
    "start_time": "2022-04-21T07:04:34.176Z"
   },
   {
    "duration": 20,
    "start_time": "2022-04-21T07:08:18.818Z"
   },
   {
    "duration": 21,
    "start_time": "2022-04-21T07:08:35.352Z"
   },
   {
    "duration": 37,
    "start_time": "2022-04-21T07:08:42.056Z"
   },
   {
    "duration": 22,
    "start_time": "2022-04-21T07:09:24.491Z"
   },
   {
    "duration": 34,
    "start_time": "2022-04-21T07:09:58.563Z"
   },
   {
    "duration": 19,
    "start_time": "2022-04-21T07:10:39.419Z"
   },
   {
    "duration": 38,
    "start_time": "2022-04-21T07:12:58.119Z"
   },
   {
    "duration": 38,
    "start_time": "2022-04-21T07:13:17.420Z"
   },
   {
    "duration": 31,
    "start_time": "2022-04-21T07:14:46.237Z"
   },
   {
    "duration": 19,
    "start_time": "2022-04-21T07:14:59.821Z"
   },
   {
    "duration": 14,
    "start_time": "2022-04-21T07:16:05.159Z"
   },
   {
    "duration": 21,
    "start_time": "2022-04-21T07:16:07.557Z"
   },
   {
    "duration": 4,
    "start_time": "2022-04-21T07:16:16.645Z"
   },
   {
    "duration": 258,
    "start_time": "2022-04-21T07:16:16.652Z"
   },
   {
    "duration": 39,
    "start_time": "2022-04-21T07:16:16.913Z"
   },
   {
    "duration": 39,
    "start_time": "2022-04-21T07:16:16.954Z"
   },
   {
    "duration": 61,
    "start_time": "2022-04-21T07:16:16.997Z"
   },
   {
    "duration": 32,
    "start_time": "2022-04-21T07:16:17.061Z"
   },
   {
    "duration": 148,
    "start_time": "2022-04-21T07:16:17.096Z"
   },
   {
    "duration": 194,
    "start_time": "2022-04-21T07:16:17.246Z"
   },
   {
    "duration": 11,
    "start_time": "2022-04-21T07:16:17.442Z"
   },
   {
    "duration": 32,
    "start_time": "2022-04-21T07:16:17.455Z"
   },
   {
    "duration": 128,
    "start_time": "2022-04-21T07:16:17.491Z"
   },
   {
    "duration": 130,
    "start_time": "2022-04-21T07:16:17.621Z"
   },
   {
    "duration": 26,
    "start_time": "2022-04-21T07:16:17.754Z"
   },
   {
    "duration": 27,
    "start_time": "2022-04-21T07:16:17.782Z"
   },
   {
    "duration": 98,
    "start_time": "2022-04-21T07:16:17.811Z"
   },
   {
    "duration": 22,
    "start_time": "2022-04-21T07:16:17.911Z"
   },
   {
    "duration": 26,
    "start_time": "2022-04-21T07:16:17.935Z"
   },
   {
    "duration": 46,
    "start_time": "2022-04-21T07:16:17.963Z"
   },
   {
    "duration": 15,
    "start_time": "2022-04-21T07:16:18.011Z"
   },
   {
    "duration": 13,
    "start_time": "2022-04-21T07:16:18.028Z"
   },
   {
    "duration": 15,
    "start_time": "2022-04-21T07:16:18.043Z"
   },
   {
    "duration": 20,
    "start_time": "2022-04-21T07:16:18.061Z"
   },
   {
    "duration": 8,
    "start_time": "2022-04-21T07:16:18.083Z"
   },
   {
    "duration": 8,
    "start_time": "2022-04-21T07:16:18.093Z"
   },
   {
    "duration": 10,
    "start_time": "2022-04-21T07:16:18.103Z"
   },
   {
    "duration": 6,
    "start_time": "2022-04-21T07:16:18.151Z"
   },
   {
    "duration": 10,
    "start_time": "2022-04-21T07:16:18.159Z"
   },
   {
    "duration": 8,
    "start_time": "2022-04-21T07:16:18.171Z"
   },
   {
    "duration": 17,
    "start_time": "2022-04-21T07:16:18.185Z"
   },
   {
    "duration": 75,
    "start_time": "2022-04-21T07:16:18.204Z"
   },
   {
    "duration": 35,
    "start_time": "2022-04-21T07:16:18.282Z"
   },
   {
    "duration": 50,
    "start_time": "2022-04-21T07:16:18.319Z"
   },
   {
    "duration": 13,
    "start_time": "2022-04-21T07:16:18.372Z"
   },
   {
    "duration": 41,
    "start_time": "2022-04-21T07:16:18.387Z"
   },
   {
    "duration": 61,
    "start_time": "2022-04-21T07:16:18.431Z"
   },
   {
    "duration": 86,
    "start_time": "2022-04-21T07:16:18.494Z"
   },
   {
    "duration": 28,
    "start_time": "2022-04-21T07:16:18.583Z"
   },
   {
    "duration": 82,
    "start_time": "2022-04-21T07:16:18.613Z"
   },
   {
    "duration": 30,
    "start_time": "2022-04-21T07:16:18.698Z"
   },
   {
    "duration": 58,
    "start_time": "2022-04-21T07:16:18.731Z"
   },
   {
    "duration": 5,
    "start_time": "2022-04-21T07:16:18.791Z"
   },
   {
    "duration": 13,
    "start_time": "2022-04-21T07:16:18.798Z"
   },
   {
    "duration": 51,
    "start_time": "2022-04-21T07:16:18.813Z"
   },
   {
    "duration": 6,
    "start_time": "2022-04-21T07:16:18.866Z"
   },
   {
    "duration": 18,
    "start_time": "2022-04-21T07:16:18.874Z"
   },
   {
    "duration": 25,
    "start_time": "2022-04-21T07:16:18.894Z"
   },
   {
    "duration": 49,
    "start_time": "2022-04-21T07:16:18.921Z"
   },
   {
    "duration": 41,
    "start_time": "2022-04-21T07:16:18.972Z"
   },
   {
    "duration": 48,
    "start_time": "2022-04-21T07:16:19.015Z"
   },
   {
    "duration": 31,
    "start_time": "2022-04-21T07:16:19.065Z"
   },
   {
    "duration": 9,
    "start_time": "2022-04-21T07:16:19.099Z"
   },
   {
    "duration": 78,
    "start_time": "2022-04-21T07:16:19.110Z"
   },
   {
    "duration": 4,
    "start_time": "2022-04-21T07:16:19.191Z"
   },
   {
    "duration": 56,
    "start_time": "2022-04-21T07:16:19.197Z"
   },
   {
    "duration": 6,
    "start_time": "2022-04-21T07:16:19.255Z"
   },
   {
    "duration": 5,
    "start_time": "2022-04-21T07:16:19.263Z"
   },
   {
    "duration": 424,
    "start_time": "2022-04-21T07:16:19.270Z"
   },
   {
    "duration": 63,
    "start_time": "2022-04-21T07:16:19.697Z"
   },
   {
    "duration": 12,
    "start_time": "2022-04-21T07:16:19.763Z"
   },
   {
    "duration": 1726,
    "start_time": "2022-04-21T07:16:19.778Z"
   },
   {
    "duration": 0,
    "start_time": "2022-04-21T07:16:21.507Z"
   },
   {
    "duration": 0,
    "start_time": "2022-04-21T07:16:21.508Z"
   },
   {
    "duration": 0,
    "start_time": "2022-04-21T07:16:21.510Z"
   },
   {
    "duration": 0,
    "start_time": "2022-04-21T07:16:21.511Z"
   },
   {
    "duration": 0,
    "start_time": "2022-04-21T07:16:21.513Z"
   },
   {
    "duration": 0,
    "start_time": "2022-04-21T07:16:21.514Z"
   },
   {
    "duration": 0,
    "start_time": "2022-04-21T07:16:21.516Z"
   },
   {
    "duration": 0,
    "start_time": "2022-04-21T07:16:21.518Z"
   },
   {
    "duration": 0,
    "start_time": "2022-04-21T07:16:21.519Z"
   },
   {
    "duration": 0,
    "start_time": "2022-04-21T07:16:21.521Z"
   },
   {
    "duration": 0,
    "start_time": "2022-04-21T07:16:21.522Z"
   },
   {
    "duration": 0,
    "start_time": "2022-04-21T07:16:21.523Z"
   },
   {
    "duration": 0,
    "start_time": "2022-04-21T07:16:21.525Z"
   },
   {
    "duration": 14,
    "start_time": "2022-04-21T07:16:43.339Z"
   },
   {
    "duration": 360,
    "start_time": "2022-04-21T07:18:25.759Z"
   },
   {
    "duration": 469,
    "start_time": "2022-04-21T07:18:36.216Z"
   },
   {
    "duration": 367,
    "start_time": "2022-04-21T07:18:54.657Z"
   },
   {
    "duration": 10,
    "start_time": "2022-04-21T07:19:05.480Z"
   },
   {
    "duration": 5,
    "start_time": "2022-04-21T07:19:10.833Z"
   },
   {
    "duration": 94,
    "start_time": "2022-04-21T07:21:27.349Z"
   },
   {
    "duration": 16,
    "start_time": "2022-04-21T07:21:32.585Z"
   },
   {
    "duration": 5,
    "start_time": "2022-04-21T07:21:41.277Z"
   },
   {
    "duration": 246,
    "start_time": "2022-04-21T07:21:41.288Z"
   },
   {
    "duration": 15,
    "start_time": "2022-04-21T07:21:41.537Z"
   },
   {
    "duration": 39,
    "start_time": "2022-04-21T07:21:41.554Z"
   },
   {
    "duration": 40,
    "start_time": "2022-04-21T07:21:41.595Z"
   },
   {
    "duration": 42,
    "start_time": "2022-04-21T07:21:41.638Z"
   },
   {
    "duration": 140,
    "start_time": "2022-04-21T07:21:41.682Z"
   },
   {
    "duration": 234,
    "start_time": "2022-04-21T07:21:41.824Z"
   },
   {
    "duration": 11,
    "start_time": "2022-04-21T07:21:42.061Z"
   },
   {
    "duration": 89,
    "start_time": "2022-04-21T07:21:42.074Z"
   },
   {
    "duration": 161,
    "start_time": "2022-04-21T07:21:42.654Z"
   },
   {
    "duration": 143,
    "start_time": "2022-04-21T07:21:42.818Z"
   },
   {
    "duration": 27,
    "start_time": "2022-04-21T07:21:42.964Z"
   },
   {
    "duration": 27,
    "start_time": "2022-04-21T07:21:42.994Z"
   },
   {
    "duration": 64,
    "start_time": "2022-04-21T07:21:43.051Z"
   },
   {
    "duration": 35,
    "start_time": "2022-04-21T07:21:43.118Z"
   },
   {
    "duration": 12,
    "start_time": "2022-04-21T07:21:43.155Z"
   },
   {
    "duration": 32,
    "start_time": "2022-04-21T07:21:43.169Z"
   },
   {
    "duration": 16,
    "start_time": "2022-04-21T07:21:43.203Z"
   },
   {
    "duration": 32,
    "start_time": "2022-04-21T07:21:43.223Z"
   },
   {
    "duration": 12,
    "start_time": "2022-04-21T07:21:43.257Z"
   },
   {
    "duration": 22,
    "start_time": "2022-04-21T07:21:43.271Z"
   },
   {
    "duration": 14,
    "start_time": "2022-04-21T07:21:43.295Z"
   },
   {
    "duration": 42,
    "start_time": "2022-04-21T07:21:43.311Z"
   },
   {
    "duration": 5,
    "start_time": "2022-04-21T07:21:43.356Z"
   },
   {
    "duration": 9,
    "start_time": "2022-04-21T07:21:43.364Z"
   },
   {
    "duration": 9,
    "start_time": "2022-04-21T07:21:43.375Z"
   },
   {
    "duration": 9,
    "start_time": "2022-04-21T07:21:43.386Z"
   },
   {
    "duration": 20,
    "start_time": "2022-04-21T07:21:43.397Z"
   },
   {
    "duration": 75,
    "start_time": "2022-04-21T07:21:43.419Z"
   },
   {
    "duration": 34,
    "start_time": "2022-04-21T07:21:43.496Z"
   },
   {
    "duration": 46,
    "start_time": "2022-04-21T07:21:43.532Z"
   },
   {
    "duration": 11,
    "start_time": "2022-04-21T07:21:43.580Z"
   },
   {
    "duration": 65,
    "start_time": "2022-04-21T07:21:43.593Z"
   },
   {
    "duration": 39,
    "start_time": "2022-04-21T07:21:43.660Z"
   },
   {
    "duration": 72,
    "start_time": "2022-04-21T07:21:43.702Z"
   },
   {
    "duration": 20,
    "start_time": "2022-04-21T07:21:43.777Z"
   },
   {
    "duration": 56,
    "start_time": "2022-04-21T07:21:43.803Z"
   },
   {
    "duration": 23,
    "start_time": "2022-04-21T07:21:43.862Z"
   },
   {
    "duration": 67,
    "start_time": "2022-04-21T07:21:43.888Z"
   },
   {
    "duration": 7,
    "start_time": "2022-04-21T07:21:43.958Z"
   },
   {
    "duration": 13,
    "start_time": "2022-04-21T07:21:43.967Z"
   },
   {
    "duration": 22,
    "start_time": "2022-04-21T07:21:43.982Z"
   },
   {
    "duration": 5,
    "start_time": "2022-04-21T07:21:44.005Z"
   },
   {
    "duration": 51,
    "start_time": "2022-04-21T07:21:44.012Z"
   },
   {
    "duration": 26,
    "start_time": "2022-04-21T07:21:44.066Z"
   },
   {
    "duration": 23,
    "start_time": "2022-04-21T07:21:44.095Z"
   },
   {
    "duration": 68,
    "start_time": "2022-04-21T07:21:44.120Z"
   },
   {
    "duration": 20,
    "start_time": "2022-04-21T07:21:44.190Z"
   },
   {
    "duration": 61,
    "start_time": "2022-04-21T07:21:44.212Z"
   },
   {
    "duration": 8,
    "start_time": "2022-04-21T07:21:44.275Z"
   },
   {
    "duration": 48,
    "start_time": "2022-04-21T07:21:44.285Z"
   },
   {
    "duration": 19,
    "start_time": "2022-04-21T07:21:44.335Z"
   },
   {
    "duration": 39,
    "start_time": "2022-04-21T07:21:44.356Z"
   },
   {
    "duration": 4,
    "start_time": "2022-04-21T07:21:44.397Z"
   },
   {
    "duration": 9,
    "start_time": "2022-04-21T07:21:44.403Z"
   },
   {
    "duration": 269,
    "start_time": "2022-04-21T07:21:44.414Z"
   },
   {
    "duration": 31,
    "start_time": "2022-04-21T07:21:44.685Z"
   },
   {
    "duration": 5,
    "start_time": "2022-04-21T07:21:44.718Z"
   },
   {
    "duration": 423,
    "start_time": "2022-04-21T07:21:44.751Z"
   },
   {
    "duration": 0,
    "start_time": "2022-04-21T07:21:45.176Z"
   },
   {
    "duration": 0,
    "start_time": "2022-04-21T07:21:45.178Z"
   },
   {
    "duration": 0,
    "start_time": "2022-04-21T07:21:45.179Z"
   },
   {
    "duration": 0,
    "start_time": "2022-04-21T07:21:45.181Z"
   },
   {
    "duration": 0,
    "start_time": "2022-04-21T07:21:45.183Z"
   },
   {
    "duration": 0,
    "start_time": "2022-04-21T07:21:45.184Z"
   },
   {
    "duration": 0,
    "start_time": "2022-04-21T07:21:45.186Z"
   },
   {
    "duration": 0,
    "start_time": "2022-04-21T07:21:45.188Z"
   },
   {
    "duration": 0,
    "start_time": "2022-04-21T07:21:45.189Z"
   },
   {
    "duration": 0,
    "start_time": "2022-04-21T07:21:45.191Z"
   },
   {
    "duration": 0,
    "start_time": "2022-04-21T07:21:45.192Z"
   },
   {
    "duration": 0,
    "start_time": "2022-04-21T07:21:45.194Z"
   },
   {
    "duration": 0,
    "start_time": "2022-04-21T07:21:45.195Z"
   },
   {
    "duration": 0,
    "start_time": "2022-04-21T07:21:45.197Z"
   },
   {
    "duration": 0,
    "start_time": "2022-04-21T07:21:45.198Z"
   },
   {
    "duration": 4,
    "start_time": "2022-04-21T07:22:13.562Z"
   },
   {
    "duration": 21,
    "start_time": "2022-04-21T07:22:16.523Z"
   },
   {
    "duration": 1771,
    "start_time": "2022-04-21T07:22:39.923Z"
   },
   {
    "duration": 0,
    "start_time": "2022-04-21T07:22:41.697Z"
   },
   {
    "duration": 16,
    "start_time": "2022-04-21T07:22:57.490Z"
   },
   {
    "duration": 14,
    "start_time": "2022-04-21T07:23:27.198Z"
   },
   {
    "duration": 15,
    "start_time": "2022-04-21T07:23:36.041Z"
   },
   {
    "duration": 4,
    "start_time": "2022-04-21T07:23:47.522Z"
   },
   {
    "duration": 259,
    "start_time": "2022-04-21T07:23:47.529Z"
   },
   {
    "duration": 12,
    "start_time": "2022-04-21T07:23:47.791Z"
   },
   {
    "duration": 71,
    "start_time": "2022-04-21T07:23:47.805Z"
   },
   {
    "duration": 38,
    "start_time": "2022-04-21T07:23:47.879Z"
   },
   {
    "duration": 53,
    "start_time": "2022-04-21T07:23:47.919Z"
   },
   {
    "duration": 154,
    "start_time": "2022-04-21T07:23:47.974Z"
   },
   {
    "duration": 191,
    "start_time": "2022-04-21T07:23:48.131Z"
   },
   {
    "duration": 12,
    "start_time": "2022-04-21T07:23:48.324Z"
   },
   {
    "duration": 41,
    "start_time": "2022-04-21T07:23:48.338Z"
   },
   {
    "duration": 122,
    "start_time": "2022-04-21T07:23:48.382Z"
   },
   {
    "duration": 132,
    "start_time": "2022-04-21T07:23:48.506Z"
   },
   {
    "duration": 35,
    "start_time": "2022-04-21T07:23:48.640Z"
   },
   {
    "duration": 27,
    "start_time": "2022-04-21T07:23:48.677Z"
   },
   {
    "duration": 89,
    "start_time": "2022-04-21T07:23:48.706Z"
   },
   {
    "duration": 23,
    "start_time": "2022-04-21T07:23:48.798Z"
   },
   {
    "duration": 11,
    "start_time": "2022-04-21T07:23:48.823Z"
   },
   {
    "duration": 29,
    "start_time": "2022-04-21T07:23:48.852Z"
   },
   {
    "duration": 15,
    "start_time": "2022-04-21T07:23:48.883Z"
   },
   {
    "duration": 11,
    "start_time": "2022-04-21T07:23:48.900Z"
   },
   {
    "duration": 15,
    "start_time": "2022-04-21T07:23:48.913Z"
   },
   {
    "duration": 22,
    "start_time": "2022-04-21T07:23:48.951Z"
   },
   {
    "duration": 10,
    "start_time": "2022-04-21T07:23:48.976Z"
   },
   {
    "duration": 10,
    "start_time": "2022-04-21T07:23:48.988Z"
   },
   {
    "duration": 54,
    "start_time": "2022-04-21T07:23:49.001Z"
   },
   {
    "duration": 8,
    "start_time": "2022-04-21T07:23:49.057Z"
   },
   {
    "duration": 9,
    "start_time": "2022-04-21T07:23:49.067Z"
   },
   {
    "duration": 8,
    "start_time": "2022-04-21T07:23:49.078Z"
   },
   {
    "duration": 129,
    "start_time": "2022-04-21T07:23:49.093Z"
   },
   {
    "duration": 68,
    "start_time": "2022-04-21T07:23:49.224Z"
   },
   {
    "duration": 35,
    "start_time": "2022-04-21T07:23:49.294Z"
   },
   {
    "duration": 44,
    "start_time": "2022-04-21T07:23:49.332Z"
   },
   {
    "duration": 14,
    "start_time": "2022-04-21T07:23:49.378Z"
   },
   {
    "duration": 71,
    "start_time": "2022-04-21T07:23:49.394Z"
   },
   {
    "duration": 41,
    "start_time": "2022-04-21T07:23:49.468Z"
   },
   {
    "duration": 85,
    "start_time": "2022-04-21T07:23:49.511Z"
   },
   {
    "duration": 22,
    "start_time": "2022-04-21T07:23:49.599Z"
   },
   {
    "duration": 61,
    "start_time": "2022-04-21T07:23:49.623Z"
   },
   {
    "duration": 24,
    "start_time": "2022-04-21T07:23:49.687Z"
   },
   {
    "duration": 62,
    "start_time": "2022-04-21T07:23:49.713Z"
   },
   {
    "duration": 6,
    "start_time": "2022-04-21T07:23:49.777Z"
   },
   {
    "duration": 18,
    "start_time": "2022-04-21T07:23:49.785Z"
   },
   {
    "duration": 46,
    "start_time": "2022-04-21T07:23:49.805Z"
   },
   {
    "duration": 5,
    "start_time": "2022-04-21T07:23:49.854Z"
   },
   {
    "duration": 16,
    "start_time": "2022-04-21T07:23:49.862Z"
   },
   {
    "duration": 24,
    "start_time": "2022-04-21T07:23:49.881Z"
   },
   {
    "duration": 59,
    "start_time": "2022-04-21T07:23:49.907Z"
   },
   {
    "duration": 40,
    "start_time": "2022-04-21T07:23:49.969Z"
   },
   {
    "duration": 56,
    "start_time": "2022-04-21T07:23:50.012Z"
   },
   {
    "duration": 31,
    "start_time": "2022-04-21T07:23:50.071Z"
   },
   {
    "duration": 8,
    "start_time": "2022-04-21T07:23:50.104Z"
   },
   {
    "duration": 77,
    "start_time": "2022-04-21T07:23:50.114Z"
   },
   {
    "duration": 4,
    "start_time": "2022-04-21T07:23:50.193Z"
   },
   {
    "duration": 59,
    "start_time": "2022-04-21T07:23:50.200Z"
   },
   {
    "duration": 7,
    "start_time": "2022-04-21T07:23:50.261Z"
   },
   {
    "duration": 6,
    "start_time": "2022-04-21T07:23:50.271Z"
   },
   {
    "duration": 250,
    "start_time": "2022-04-21T07:23:50.279Z"
   },
   {
    "duration": 37,
    "start_time": "2022-04-21T07:23:50.531Z"
   },
   {
    "duration": 6,
    "start_time": "2022-04-21T07:23:50.570Z"
   },
   {
    "duration": 5,
    "start_time": "2022-04-21T07:23:50.578Z"
   },
   {
    "duration": 26,
    "start_time": "2022-04-21T07:23:50.585Z"
   },
   {
    "duration": 70,
    "start_time": "2022-04-21T07:23:50.613Z"
   },
   {
    "duration": 23,
    "start_time": "2022-04-21T07:23:50.685Z"
   },
   {
    "duration": 478,
    "start_time": "2022-04-21T07:23:50.710Z"
   },
   {
    "duration": 463,
    "start_time": "2022-04-21T07:23:51.191Z"
   },
   {
    "duration": 371,
    "start_time": "2022-04-21T07:23:51.657Z"
   },
   {
    "duration": 1499,
    "start_time": "2022-04-21T07:23:52.031Z"
   },
   {
    "duration": 0,
    "start_time": "2022-04-21T07:23:53.532Z"
   },
   {
    "duration": 0,
    "start_time": "2022-04-21T07:23:53.534Z"
   },
   {
    "duration": 0,
    "start_time": "2022-04-21T07:23:53.535Z"
   },
   {
    "duration": 0,
    "start_time": "2022-04-21T07:23:53.536Z"
   },
   {
    "duration": 0,
    "start_time": "2022-04-21T07:23:53.537Z"
   },
   {
    "duration": 1,
    "start_time": "2022-04-21T07:23:53.538Z"
   },
   {
    "duration": 0,
    "start_time": "2022-04-21T07:23:53.540Z"
   },
   {
    "duration": 18,
    "start_time": "2022-04-21T07:25:12.468Z"
   },
   {
    "duration": 36,
    "start_time": "2022-04-21T07:25:23.354Z"
   },
   {
    "duration": 5,
    "start_time": "2022-04-21T07:25:42.853Z"
   },
   {
    "duration": 264,
    "start_time": "2022-04-21T07:25:42.861Z"
   },
   {
    "duration": 32,
    "start_time": "2022-04-21T07:25:43.128Z"
   },
   {
    "duration": 50,
    "start_time": "2022-04-21T07:25:43.162Z"
   },
   {
    "duration": 76,
    "start_time": "2022-04-21T07:25:43.216Z"
   },
   {
    "duration": 35,
    "start_time": "2022-04-21T07:25:43.294Z"
   },
   {
    "duration": 157,
    "start_time": "2022-04-21T07:25:43.332Z"
   },
   {
    "duration": 193,
    "start_time": "2022-04-21T07:25:43.491Z"
   },
   {
    "duration": 14,
    "start_time": "2022-04-21T07:25:43.686Z"
   },
   {
    "duration": 53,
    "start_time": "2022-04-21T07:25:43.703Z"
   },
   {
    "duration": 122,
    "start_time": "2022-04-21T07:25:43.762Z"
   },
   {
    "duration": 136,
    "start_time": "2022-04-21T07:25:43.887Z"
   },
   {
    "duration": 29,
    "start_time": "2022-04-21T07:25:44.025Z"
   },
   {
    "duration": 49,
    "start_time": "2022-04-21T07:25:44.056Z"
   },
   {
    "duration": 67,
    "start_time": "2022-04-21T07:25:44.107Z"
   },
   {
    "duration": 22,
    "start_time": "2022-04-21T07:25:44.176Z"
   },
   {
    "duration": 11,
    "start_time": "2022-04-21T07:25:44.200Z"
   },
   {
    "duration": 40,
    "start_time": "2022-04-21T07:25:44.213Z"
   },
   {
    "duration": 16,
    "start_time": "2022-04-21T07:25:44.255Z"
   },
   {
    "duration": 18,
    "start_time": "2022-04-21T07:25:44.273Z"
   },
   {
    "duration": 25,
    "start_time": "2022-04-21T07:25:44.293Z"
   },
   {
    "duration": 42,
    "start_time": "2022-04-21T07:25:44.320Z"
   },
   {
    "duration": 13,
    "start_time": "2022-04-21T07:25:44.364Z"
   },
   {
    "duration": 12,
    "start_time": "2022-04-21T07:25:44.379Z"
   },
   {
    "duration": 7,
    "start_time": "2022-04-21T07:25:44.393Z"
   },
   {
    "duration": 13,
    "start_time": "2022-04-21T07:25:44.402Z"
   },
   {
    "duration": 13,
    "start_time": "2022-04-21T07:25:44.417Z"
   },
   {
    "duration": 20,
    "start_time": "2022-04-21T07:25:44.432Z"
   },
   {
    "duration": 17,
    "start_time": "2022-04-21T07:25:44.459Z"
   },
   {
    "duration": 46,
    "start_time": "2022-04-21T07:25:44.478Z"
   },
   {
    "duration": 54,
    "start_time": "2022-04-21T07:25:44.527Z"
   },
   {
    "duration": 30,
    "start_time": "2022-04-21T07:25:44.583Z"
   },
   {
    "duration": 12,
    "start_time": "2022-04-21T07:25:44.615Z"
   },
   {
    "duration": 40,
    "start_time": "2022-04-21T07:25:44.652Z"
   },
   {
    "duration": 61,
    "start_time": "2022-04-21T07:25:44.694Z"
   },
   {
    "duration": 57,
    "start_time": "2022-04-21T07:25:44.757Z"
   },
   {
    "duration": 37,
    "start_time": "2022-04-21T07:25:44.816Z"
   },
   {
    "duration": 39,
    "start_time": "2022-04-21T07:25:44.855Z"
   },
   {
    "duration": 24,
    "start_time": "2022-04-21T07:25:44.896Z"
   },
   {
    "duration": 68,
    "start_time": "2022-04-21T07:25:44.922Z"
   },
   {
    "duration": 6,
    "start_time": "2022-04-21T07:25:44.992Z"
   },
   {
    "duration": 23,
    "start_time": "2022-04-21T07:25:45.000Z"
   },
   {
    "duration": 45,
    "start_time": "2022-04-21T07:25:45.025Z"
   },
   {
    "duration": 5,
    "start_time": "2022-04-21T07:25:45.072Z"
   },
   {
    "duration": 15,
    "start_time": "2022-04-21T07:25:45.079Z"
   },
   {
    "duration": 25,
    "start_time": "2022-04-21T07:25:45.096Z"
   },
   {
    "duration": 47,
    "start_time": "2022-04-21T07:25:45.123Z"
   },
   {
    "duration": 46,
    "start_time": "2022-04-21T07:25:45.172Z"
   },
   {
    "duration": 41,
    "start_time": "2022-04-21T07:25:45.220Z"
   },
   {
    "duration": 30,
    "start_time": "2022-04-21T07:25:45.263Z"
   },
   {
    "duration": 8,
    "start_time": "2022-04-21T07:25:45.295Z"
   },
   {
    "duration": 76,
    "start_time": "2022-04-21T07:25:45.305Z"
   },
   {
    "duration": 5,
    "start_time": "2022-04-21T07:25:45.383Z"
   },
   {
    "duration": 39,
    "start_time": "2022-04-21T07:25:45.390Z"
   },
   {
    "duration": 4,
    "start_time": "2022-04-21T07:25:45.452Z"
   },
   {
    "duration": 7,
    "start_time": "2022-04-21T07:25:45.458Z"
   },
   {
    "duration": 246,
    "start_time": "2022-04-21T07:25:45.467Z"
   },
   {
    "duration": 43,
    "start_time": "2022-04-21T07:25:45.715Z"
   },
   {
    "duration": 5,
    "start_time": "2022-04-21T07:25:45.760Z"
   },
   {
    "duration": 6,
    "start_time": "2022-04-21T07:25:45.767Z"
   },
   {
    "duration": 42,
    "start_time": "2022-04-21T07:25:45.775Z"
   },
   {
    "duration": 42,
    "start_time": "2022-04-21T07:25:45.819Z"
   },
   {
    "duration": 577,
    "start_time": "2022-04-21T07:25:45.863Z"
   },
   {
    "duration": 565,
    "start_time": "2022-04-21T07:25:46.442Z"
   },
   {
    "duration": 390,
    "start_time": "2022-04-21T07:25:47.009Z"
   },
   {
    "duration": 1428,
    "start_time": "2022-04-21T07:25:47.402Z"
   },
   {
    "duration": 0,
    "start_time": "2022-04-21T07:25:48.832Z"
   },
   {
    "duration": 0,
    "start_time": "2022-04-21T07:25:48.834Z"
   },
   {
    "duration": 0,
    "start_time": "2022-04-21T07:25:48.835Z"
   },
   {
    "duration": 0,
    "start_time": "2022-04-21T07:25:48.837Z"
   },
   {
    "duration": 0,
    "start_time": "2022-04-21T07:25:48.839Z"
   },
   {
    "duration": 0,
    "start_time": "2022-04-21T07:25:48.840Z"
   },
   {
    "duration": 0,
    "start_time": "2022-04-21T07:25:48.842Z"
   },
   {
    "duration": 53,
    "start_time": "2022-04-21T07:26:59.527Z"
   },
   {
    "duration": 16,
    "start_time": "2022-04-21T07:27:03.259Z"
   },
   {
    "duration": 469,
    "start_time": "2022-04-21T07:27:05.083Z"
   },
   {
    "duration": 5,
    "start_time": "2022-04-21T07:27:17.687Z"
   },
   {
    "duration": 258,
    "start_time": "2022-04-21T07:27:17.694Z"
   },
   {
    "duration": 13,
    "start_time": "2022-04-21T07:27:17.955Z"
   },
   {
    "duration": 42,
    "start_time": "2022-04-21T07:27:17.970Z"
   },
   {
    "duration": 75,
    "start_time": "2022-04-21T07:27:18.015Z"
   },
   {
    "duration": 33,
    "start_time": "2022-04-21T07:27:18.092Z"
   },
   {
    "duration": 165,
    "start_time": "2022-04-21T07:27:18.128Z"
   },
   {
    "duration": 185,
    "start_time": "2022-04-21T07:27:18.296Z"
   },
   {
    "duration": 12,
    "start_time": "2022-04-21T07:27:18.484Z"
   },
   {
    "duration": 54,
    "start_time": "2022-04-21T07:27:18.498Z"
   },
   {
    "duration": 114,
    "start_time": "2022-04-21T07:27:18.556Z"
   },
   {
    "duration": 141,
    "start_time": "2022-04-21T07:27:18.672Z"
   },
   {
    "duration": 39,
    "start_time": "2022-04-21T07:27:18.815Z"
   },
   {
    "duration": 29,
    "start_time": "2022-04-21T07:27:18.856Z"
   },
   {
    "duration": 87,
    "start_time": "2022-04-21T07:27:18.887Z"
   },
   {
    "duration": 23,
    "start_time": "2022-04-21T07:27:18.976Z"
   },
   {
    "duration": 13,
    "start_time": "2022-04-21T07:27:19.001Z"
   },
   {
    "duration": 45,
    "start_time": "2022-04-21T07:27:19.016Z"
   },
   {
    "duration": 14,
    "start_time": "2022-04-21T07:27:19.063Z"
   },
   {
    "duration": 16,
    "start_time": "2022-04-21T07:27:19.080Z"
   },
   {
    "duration": 25,
    "start_time": "2022-04-21T07:27:19.098Z"
   },
   {
    "duration": 41,
    "start_time": "2022-04-21T07:27:19.125Z"
   },
   {
    "duration": 22,
    "start_time": "2022-04-21T07:27:19.168Z"
   },
   {
    "duration": 32,
    "start_time": "2022-04-21T07:27:19.192Z"
   },
   {
    "duration": 30,
    "start_time": "2022-04-21T07:27:19.226Z"
   },
   {
    "duration": 25,
    "start_time": "2022-04-21T07:27:19.258Z"
   },
   {
    "duration": 26,
    "start_time": "2022-04-21T07:27:19.285Z"
   },
   {
    "duration": 23,
    "start_time": "2022-04-21T07:27:19.313Z"
   },
   {
    "duration": 19,
    "start_time": "2022-04-21T07:27:19.342Z"
   },
   {
    "duration": 58,
    "start_time": "2022-04-21T07:27:19.363Z"
   },
   {
    "duration": 37,
    "start_time": "2022-04-21T07:27:19.423Z"
   },
   {
    "duration": 29,
    "start_time": "2022-04-21T07:27:19.462Z"
   },
   {
    "duration": 12,
    "start_time": "2022-04-21T07:27:19.494Z"
   },
   {
    "duration": 67,
    "start_time": "2022-04-21T07:27:19.509Z"
   },
   {
    "duration": 42,
    "start_time": "2022-04-21T07:27:19.579Z"
   },
   {
    "duration": 78,
    "start_time": "2022-04-21T07:27:19.623Z"
   },
   {
    "duration": 20,
    "start_time": "2022-04-21T07:27:19.704Z"
   },
   {
    "duration": 56,
    "start_time": "2022-04-21T07:27:19.726Z"
   },
   {
    "duration": 24,
    "start_time": "2022-04-21T07:27:19.784Z"
   },
   {
    "duration": 69,
    "start_time": "2022-04-21T07:27:19.810Z"
   },
   {
    "duration": 7,
    "start_time": "2022-04-21T07:27:19.881Z"
   },
   {
    "duration": 16,
    "start_time": "2022-04-21T07:27:19.890Z"
   },
   {
    "duration": 51,
    "start_time": "2022-04-21T07:27:19.908Z"
   },
   {
    "duration": 6,
    "start_time": "2022-04-21T07:27:19.961Z"
   },
   {
    "duration": 20,
    "start_time": "2022-04-21T07:27:19.969Z"
   },
   {
    "duration": 25,
    "start_time": "2022-04-21T07:27:19.991Z"
   },
   {
    "duration": 48,
    "start_time": "2022-04-21T07:27:20.018Z"
   },
   {
    "duration": 39,
    "start_time": "2022-04-21T07:27:20.068Z"
   },
   {
    "duration": 48,
    "start_time": "2022-04-21T07:27:20.109Z"
   },
   {
    "duration": 29,
    "start_time": "2022-04-21T07:27:20.159Z"
   },
   {
    "duration": 8,
    "start_time": "2022-04-21T07:27:20.191Z"
   },
   {
    "duration": 72,
    "start_time": "2022-04-21T07:27:20.201Z"
   },
   {
    "duration": 5,
    "start_time": "2022-04-21T07:27:20.275Z"
   },
   {
    "duration": 40,
    "start_time": "2022-04-21T07:27:20.282Z"
   },
   {
    "duration": 28,
    "start_time": "2022-04-21T07:27:20.324Z"
   },
   {
    "duration": 6,
    "start_time": "2022-04-21T07:27:20.355Z"
   },
   {
    "duration": 260,
    "start_time": "2022-04-21T07:27:20.363Z"
   },
   {
    "duration": 53,
    "start_time": "2022-04-21T07:27:20.626Z"
   },
   {
    "duration": 22,
    "start_time": "2022-04-21T07:27:20.682Z"
   },
   {
    "duration": 507,
    "start_time": "2022-04-21T07:27:20.707Z"
   },
   {
    "duration": 479,
    "start_time": "2022-04-21T07:27:21.216Z"
   },
   {
    "duration": 497,
    "start_time": "2022-04-21T07:27:21.697Z"
   },
   {
    "duration": 13,
    "start_time": "2022-04-21T07:27:22.197Z"
   },
   {
    "duration": 14,
    "start_time": "2022-04-21T07:27:22.213Z"
   },
   {
    "duration": 40,
    "start_time": "2022-04-21T07:27:22.229Z"
   },
   {
    "duration": 11,
    "start_time": "2022-04-21T07:27:22.272Z"
   },
   {
    "duration": 27,
    "start_time": "2022-04-21T07:27:22.286Z"
   },
   {
    "duration": 42,
    "start_time": "2022-04-21T07:27:22.316Z"
   },
   {
    "duration": 64,
    "start_time": "2022-04-21T07:27:22.360Z"
   },
   {
    "duration": 8,
    "start_time": "2022-04-21T07:27:22.427Z"
   },
   {
    "duration": 70,
    "start_time": "2022-04-21T07:35:04.322Z"
   },
   {
    "duration": 1377,
    "start_time": "2022-04-21T07:35:10.164Z"
   },
   {
    "duration": 232,
    "start_time": "2022-04-21T07:35:11.544Z"
   },
   {
    "duration": 18,
    "start_time": "2022-04-21T07:35:11.779Z"
   },
   {
    "duration": 57,
    "start_time": "2022-04-21T07:35:11.800Z"
   },
   {
    "duration": 39,
    "start_time": "2022-04-21T07:35:11.859Z"
   },
   {
    "duration": 58,
    "start_time": "2022-04-21T07:35:11.900Z"
   },
   {
    "duration": 151,
    "start_time": "2022-04-21T07:35:11.961Z"
   },
   {
    "duration": 196,
    "start_time": "2022-04-21T07:35:12.114Z"
   },
   {
    "duration": 13,
    "start_time": "2022-04-21T07:35:12.313Z"
   },
   {
    "duration": 50,
    "start_time": "2022-04-21T07:35:12.332Z"
   },
   {
    "duration": 142,
    "start_time": "2022-04-21T07:35:12.384Z"
   },
   {
    "duration": 135,
    "start_time": "2022-04-21T07:35:12.529Z"
   },
   {
    "duration": 29,
    "start_time": "2022-04-21T07:35:12.667Z"
   },
   {
    "duration": 55,
    "start_time": "2022-04-21T07:35:12.698Z"
   },
   {
    "duration": 68,
    "start_time": "2022-04-21T07:35:12.756Z"
   },
   {
    "duration": 38,
    "start_time": "2022-04-21T07:35:12.827Z"
   },
   {
    "duration": 15,
    "start_time": "2022-04-21T07:35:12.868Z"
   },
   {
    "duration": 29,
    "start_time": "2022-04-21T07:35:12.885Z"
   },
   {
    "duration": 40,
    "start_time": "2022-04-21T07:35:12.917Z"
   },
   {
    "duration": 11,
    "start_time": "2022-04-21T07:35:12.959Z"
   },
   {
    "duration": 12,
    "start_time": "2022-04-21T07:35:12.972Z"
   },
   {
    "duration": 20,
    "start_time": "2022-04-21T07:35:12.986Z"
   },
   {
    "duration": 45,
    "start_time": "2022-04-21T07:35:13.008Z"
   },
   {
    "duration": 8,
    "start_time": "2022-04-21T07:35:13.055Z"
   },
   {
    "duration": 5,
    "start_time": "2022-04-21T07:35:13.066Z"
   },
   {
    "duration": 6,
    "start_time": "2022-04-21T07:35:13.074Z"
   },
   {
    "duration": 9,
    "start_time": "2022-04-21T07:35:13.082Z"
   },
   {
    "duration": 5,
    "start_time": "2022-04-21T07:35:13.097Z"
   },
   {
    "duration": 60,
    "start_time": "2022-04-21T07:35:13.105Z"
   },
   {
    "duration": 46,
    "start_time": "2022-04-21T07:35:13.168Z"
   },
   {
    "duration": 53,
    "start_time": "2022-04-21T07:35:13.216Z"
   },
   {
    "duration": 29,
    "start_time": "2022-04-21T07:35:13.272Z"
   },
   {
    "duration": 12,
    "start_time": "2022-04-21T07:35:13.304Z"
   },
   {
    "duration": 67,
    "start_time": "2022-04-21T07:35:13.318Z"
   },
   {
    "duration": 40,
    "start_time": "2022-04-21T07:35:13.387Z"
   },
   {
    "duration": 77,
    "start_time": "2022-04-21T07:35:13.429Z"
   },
   {
    "duration": 20,
    "start_time": "2022-04-21T07:35:13.508Z"
   },
   {
    "duration": 57,
    "start_time": "2022-04-21T07:35:13.530Z"
   },
   {
    "duration": 23,
    "start_time": "2022-04-21T07:35:13.590Z"
   },
   {
    "duration": 73,
    "start_time": "2022-04-21T07:35:13.615Z"
   },
   {
    "duration": 6,
    "start_time": "2022-04-21T07:35:13.691Z"
   },
   {
    "duration": 12,
    "start_time": "2022-04-21T07:35:13.699Z"
   },
   {
    "duration": 50,
    "start_time": "2022-04-21T07:35:13.713Z"
   },
   {
    "duration": 5,
    "start_time": "2022-04-21T07:35:13.765Z"
   },
   {
    "duration": 13,
    "start_time": "2022-04-21T07:35:13.772Z"
   },
   {
    "duration": 24,
    "start_time": "2022-04-21T07:35:13.787Z"
   },
   {
    "duration": 52,
    "start_time": "2022-04-21T07:35:13.813Z"
   },
   {
    "duration": 39,
    "start_time": "2022-04-21T07:35:13.867Z"
   },
   {
    "duration": 49,
    "start_time": "2022-04-21T07:35:13.908Z"
   },
   {
    "duration": 29,
    "start_time": "2022-04-21T07:35:13.960Z"
   },
   {
    "duration": 8,
    "start_time": "2022-04-21T07:35:13.991Z"
   },
   {
    "duration": 72,
    "start_time": "2022-04-21T07:35:14.001Z"
   },
   {
    "duration": 4,
    "start_time": "2022-04-21T07:35:14.075Z"
   },
   {
    "duration": 41,
    "start_time": "2022-04-21T07:35:14.081Z"
   },
   {
    "duration": 4,
    "start_time": "2022-04-21T07:35:14.124Z"
   },
   {
    "duration": 24,
    "start_time": "2022-04-21T07:35:14.130Z"
   },
   {
    "duration": 247,
    "start_time": "2022-04-21T07:35:14.156Z"
   },
   {
    "duration": 15,
    "start_time": "2022-04-21T07:35:14.405Z"
   },
   {
    "duration": 21,
    "start_time": "2022-04-21T07:35:24.888Z"
   },
   {
    "duration": 32,
    "start_time": "2022-04-21T07:35:47.650Z"
   },
   {
    "duration": 31,
    "start_time": "2022-04-21T07:36:06.783Z"
   },
   {
    "duration": 30,
    "start_time": "2022-04-21T07:36:33.425Z"
   },
   {
    "duration": 40,
    "start_time": "2022-04-21T07:37:17.673Z"
   },
   {
    "duration": 47,
    "start_time": "2022-04-21T07:52:00.627Z"
   },
   {
    "duration": 13,
    "start_time": "2022-04-21T07:53:02.391Z"
   },
   {
    "duration": 25,
    "start_time": "2022-04-21T07:53:04.417Z"
   },
   {
    "duration": 90,
    "start_time": "2022-04-21T09:45:04.546Z"
   },
   {
    "duration": 12,
    "start_time": "2022-04-21T09:45:08.376Z"
   },
   {
    "duration": 6,
    "start_time": "2022-04-21T09:47:30.473Z"
   },
   {
    "duration": 4,
    "start_time": "2022-04-21T10:04:30.222Z"
   },
   {
    "duration": 279,
    "start_time": "2022-04-21T10:04:30.228Z"
   },
   {
    "duration": 12,
    "start_time": "2022-04-21T10:04:30.509Z"
   },
   {
    "duration": 61,
    "start_time": "2022-04-21T10:04:30.524Z"
   },
   {
    "duration": 39,
    "start_time": "2022-04-21T10:04:30.588Z"
   },
   {
    "duration": 54,
    "start_time": "2022-04-21T10:04:30.630Z"
   },
   {
    "duration": 172,
    "start_time": "2022-04-21T10:04:30.687Z"
   },
   {
    "duration": 201,
    "start_time": "2022-04-21T10:04:30.861Z"
   },
   {
    "duration": 14,
    "start_time": "2022-04-21T10:04:31.064Z"
   },
   {
    "duration": 38,
    "start_time": "2022-04-21T10:04:31.082Z"
   },
   {
    "duration": 155,
    "start_time": "2022-04-21T10:04:31.152Z"
   },
   {
    "duration": 225,
    "start_time": "2022-04-21T10:04:31.310Z"
   },
   {
    "duration": 31,
    "start_time": "2022-04-21T10:04:31.538Z"
   },
   {
    "duration": 30,
    "start_time": "2022-04-21T10:04:31.572Z"
   },
   {
    "duration": 104,
    "start_time": "2022-04-21T10:04:31.605Z"
   },
   {
    "duration": 35,
    "start_time": "2022-04-21T10:04:31.712Z"
   },
   {
    "duration": 16,
    "start_time": "2022-04-21T10:04:31.749Z"
   },
   {
    "duration": 49,
    "start_time": "2022-04-21T10:04:31.767Z"
   },
   {
    "duration": 15,
    "start_time": "2022-04-21T10:04:31.819Z"
   },
   {
    "duration": 54,
    "start_time": "2022-04-21T10:04:31.836Z"
   },
   {
    "duration": 47,
    "start_time": "2022-04-21T10:04:31.892Z"
   },
   {
    "duration": 44,
    "start_time": "2022-04-21T10:04:31.942Z"
   },
   {
    "duration": 19,
    "start_time": "2022-04-21T10:04:31.989Z"
   },
   {
    "duration": 31,
    "start_time": "2022-04-21T10:04:32.011Z"
   },
   {
    "duration": 17,
    "start_time": "2022-04-21T10:04:32.045Z"
   },
   {
    "duration": 28,
    "start_time": "2022-04-21T10:04:32.064Z"
   },
   {
    "duration": 33,
    "start_time": "2022-04-21T10:04:32.095Z"
   },
   {
    "duration": 19,
    "start_time": "2022-04-21T10:04:32.130Z"
   },
   {
    "duration": 43,
    "start_time": "2022-04-21T10:04:32.154Z"
   },
   {
    "duration": 60,
    "start_time": "2022-04-21T10:04:32.200Z"
   },
   {
    "duration": 33,
    "start_time": "2022-04-21T10:04:32.263Z"
   },
   {
    "duration": 53,
    "start_time": "2022-04-21T10:04:32.299Z"
   },
   {
    "duration": 13,
    "start_time": "2022-04-21T10:04:32.354Z"
   },
   {
    "duration": 49,
    "start_time": "2022-04-21T10:04:32.370Z"
   },
   {
    "duration": 60,
    "start_time": "2022-04-21T10:04:32.421Z"
   },
   {
    "duration": 87,
    "start_time": "2022-04-21T10:04:32.484Z"
   },
   {
    "duration": 20,
    "start_time": "2022-04-21T10:04:32.573Z"
   },
   {
    "duration": 61,
    "start_time": "2022-04-21T10:04:32.595Z"
   },
   {
    "duration": 32,
    "start_time": "2022-04-21T10:04:32.658Z"
   },
   {
    "duration": 67,
    "start_time": "2022-04-21T10:04:32.692Z"
   },
   {
    "duration": 8,
    "start_time": "2022-04-21T10:04:32.763Z"
   },
   {
    "duration": 15,
    "start_time": "2022-04-21T10:04:32.775Z"
   },
   {
    "duration": 113,
    "start_time": "2022-04-21T10:04:48.794Z"
   },
   {
    "duration": 14,
    "start_time": "2022-04-21T10:04:54.623Z"
   },
   {
    "duration": 20,
    "start_time": "2022-04-21T10:08:19.250Z"
   },
   {
    "duration": 11,
    "start_time": "2022-04-21T10:13:27.084Z"
   },
   {
    "duration": 4,
    "start_time": "2022-04-21T10:13:45.531Z"
   },
   {
    "duration": 24,
    "start_time": "2022-04-21T10:13:55.691Z"
   },
   {
    "duration": 19,
    "start_time": "2022-04-21T10:14:45.803Z"
   },
   {
    "duration": 14,
    "start_time": "2022-04-21T10:15:11.939Z"
   },
   {
    "duration": 7,
    "start_time": "2022-04-21T10:15:34.131Z"
   },
   {
    "duration": 6,
    "start_time": "2022-04-21T10:17:41.616Z"
   },
   {
    "duration": 8,
    "start_time": "2022-04-21T10:17:58.862Z"
   },
   {
    "duration": 7,
    "start_time": "2022-04-21T10:18:00.799Z"
   },
   {
    "duration": 31,
    "start_time": "2022-04-21T10:26:10.530Z"
   },
   {
    "duration": 92,
    "start_time": "2022-04-21T10:31:23.428Z"
   },
   {
    "duration": 22,
    "start_time": "2022-04-21T10:31:59.076Z"
   },
   {
    "duration": 31,
    "start_time": "2022-04-21T10:32:27.115Z"
   },
   {
    "duration": 22,
    "start_time": "2022-04-21T10:32:43.278Z"
   },
   {
    "duration": 23,
    "start_time": "2022-04-21T10:34:23.285Z"
   },
   {
    "duration": 4,
    "start_time": "2022-04-21T10:57:30.807Z"
   },
   {
    "duration": 273,
    "start_time": "2022-04-21T10:57:30.814Z"
   },
   {
    "duration": 11,
    "start_time": "2022-04-21T10:57:31.089Z"
   },
   {
    "duration": 61,
    "start_time": "2022-04-21T10:57:31.105Z"
   },
   {
    "duration": 41,
    "start_time": "2022-04-21T10:57:31.169Z"
   },
   {
    "duration": 69,
    "start_time": "2022-04-21T10:57:31.212Z"
   },
   {
    "duration": 199,
    "start_time": "2022-04-21T10:57:31.284Z"
   },
   {
    "duration": 289,
    "start_time": "2022-04-21T10:57:31.485Z"
   },
   {
    "duration": 15,
    "start_time": "2022-04-21T10:57:31.779Z"
   },
   {
    "duration": 56,
    "start_time": "2022-04-21T10:57:31.796Z"
   },
   {
    "duration": 139,
    "start_time": "2022-04-21T10:57:31.855Z"
   },
   {
    "duration": 188,
    "start_time": "2022-04-21T10:57:31.997Z"
   },
   {
    "duration": 43,
    "start_time": "2022-04-21T10:57:32.187Z"
   },
   {
    "duration": 43,
    "start_time": "2022-04-21T10:57:32.233Z"
   },
   {
    "duration": 87,
    "start_time": "2022-04-21T10:57:32.278Z"
   },
   {
    "duration": 21,
    "start_time": "2022-04-21T10:57:32.367Z"
   },
   {
    "duration": 11,
    "start_time": "2022-04-21T10:57:32.391Z"
   },
   {
    "duration": 48,
    "start_time": "2022-04-21T10:57:32.404Z"
   },
   {
    "duration": 14,
    "start_time": "2022-04-21T10:57:32.454Z"
   },
   {
    "duration": 11,
    "start_time": "2022-04-21T10:57:32.470Z"
   },
   {
    "duration": 10,
    "start_time": "2022-04-21T10:57:32.483Z"
   },
   {
    "duration": 60,
    "start_time": "2022-04-21T10:57:32.496Z"
   },
   {
    "duration": 8,
    "start_time": "2022-04-21T10:57:32.558Z"
   },
   {
    "duration": 9,
    "start_time": "2022-04-21T10:57:32.572Z"
   },
   {
    "duration": 5,
    "start_time": "2022-04-21T10:57:32.583Z"
   },
   {
    "duration": 8,
    "start_time": "2022-04-21T10:57:32.590Z"
   },
   {
    "duration": 8,
    "start_time": "2022-04-21T10:57:32.600Z"
   },
   {
    "duration": 43,
    "start_time": "2022-04-21T10:57:32.610Z"
   },
   {
    "duration": 19,
    "start_time": "2022-04-21T10:57:32.656Z"
   },
   {
    "duration": 43,
    "start_time": "2022-04-21T10:57:32.677Z"
   },
   {
    "duration": 54,
    "start_time": "2022-04-21T10:57:32.723Z"
   },
   {
    "duration": 29,
    "start_time": "2022-04-21T10:57:32.779Z"
   },
   {
    "duration": 12,
    "start_time": "2022-04-21T10:57:32.810Z"
   },
   {
    "duration": 61,
    "start_time": "2022-04-21T10:57:32.824Z"
   },
   {
    "duration": 66,
    "start_time": "2022-04-21T10:57:32.887Z"
   },
   {
    "duration": 50,
    "start_time": "2022-04-21T10:57:32.955Z"
   },
   {
    "duration": 45,
    "start_time": "2022-04-21T10:57:33.007Z"
   },
   {
    "duration": 42,
    "start_time": "2022-04-21T10:57:33.054Z"
   },
   {
    "duration": 24,
    "start_time": "2022-04-21T10:57:33.098Z"
   },
   {
    "duration": 68,
    "start_time": "2022-04-21T10:57:33.124Z"
   },
   {
    "duration": 5,
    "start_time": "2022-04-21T10:57:33.194Z"
   },
   {
    "duration": 52,
    "start_time": "2022-04-21T10:57:33.201Z"
   },
   {
    "duration": 0,
    "start_time": "2022-04-21T10:57:33.256Z"
   },
   {
    "duration": 0,
    "start_time": "2022-04-21T10:57:33.257Z"
   },
   {
    "duration": 0,
    "start_time": "2022-04-21T10:57:33.259Z"
   },
   {
    "duration": 0,
    "start_time": "2022-04-21T10:57:33.261Z"
   },
   {
    "duration": 0,
    "start_time": "2022-04-21T10:57:33.262Z"
   },
   {
    "duration": 0,
    "start_time": "2022-04-21T10:57:33.263Z"
   },
   {
    "duration": 0,
    "start_time": "2022-04-21T10:57:33.265Z"
   },
   {
    "duration": 0,
    "start_time": "2022-04-21T10:57:33.266Z"
   },
   {
    "duration": 0,
    "start_time": "2022-04-21T10:57:33.267Z"
   },
   {
    "duration": 0,
    "start_time": "2022-04-21T10:57:33.269Z"
   },
   {
    "duration": 0,
    "start_time": "2022-04-21T10:57:33.270Z"
   },
   {
    "duration": 0,
    "start_time": "2022-04-21T10:57:33.272Z"
   },
   {
    "duration": 0,
    "start_time": "2022-04-21T10:57:33.273Z"
   },
   {
    "duration": 0,
    "start_time": "2022-04-21T10:57:33.274Z"
   },
   {
    "duration": 0,
    "start_time": "2022-04-21T10:57:33.275Z"
   },
   {
    "duration": 0,
    "start_time": "2022-04-21T10:57:33.277Z"
   },
   {
    "duration": 0,
    "start_time": "2022-04-21T10:57:33.278Z"
   },
   {
    "duration": 0,
    "start_time": "2022-04-21T10:57:33.280Z"
   },
   {
    "duration": 0,
    "start_time": "2022-04-21T10:57:33.281Z"
   },
   {
    "duration": 0,
    "start_time": "2022-04-21T10:57:33.282Z"
   },
   {
    "duration": 0,
    "start_time": "2022-04-21T10:57:33.284Z"
   },
   {
    "duration": 0,
    "start_time": "2022-04-21T10:57:33.285Z"
   },
   {
    "duration": 0,
    "start_time": "2022-04-21T10:57:33.287Z"
   },
   {
    "duration": 0,
    "start_time": "2022-04-21T10:57:33.288Z"
   },
   {
    "duration": 0,
    "start_time": "2022-04-21T10:57:33.290Z"
   },
   {
    "duration": 0,
    "start_time": "2022-04-21T10:57:33.291Z"
   },
   {
    "duration": 0,
    "start_time": "2022-04-21T10:57:33.292Z"
   },
   {
    "duration": 0,
    "start_time": "2022-04-21T10:57:33.352Z"
   },
   {
    "duration": 0,
    "start_time": "2022-04-21T10:57:33.354Z"
   },
   {
    "duration": 0,
    "start_time": "2022-04-21T10:57:33.355Z"
   },
   {
    "duration": 0,
    "start_time": "2022-04-21T10:57:33.357Z"
   },
   {
    "duration": 0,
    "start_time": "2022-04-21T10:57:33.358Z"
   },
   {
    "duration": 103,
    "start_time": "2022-04-21T10:58:28.373Z"
   },
   {
    "duration": 141,
    "start_time": "2022-04-21T10:58:34.461Z"
   },
   {
    "duration": 15,
    "start_time": "2022-04-21T10:58:40.947Z"
   },
   {
    "duration": 27,
    "start_time": "2022-04-21T10:58:55.560Z"
   },
   {
    "duration": 9,
    "start_time": "2022-04-21T10:59:18.138Z"
   },
   {
    "duration": 17,
    "start_time": "2022-04-21T10:59:40.076Z"
   },
   {
    "duration": 33,
    "start_time": "2022-04-21T10:59:42.756Z"
   },
   {
    "duration": 25,
    "start_time": "2022-04-21T10:59:46.078Z"
   },
   {
    "duration": 7,
    "start_time": "2022-04-21T10:59:58.790Z"
   },
   {
    "duration": 18,
    "start_time": "2022-04-21T11:00:08.533Z"
   },
   {
    "duration": 53,
    "start_time": "2022-04-21T11:00:10.470Z"
   },
   {
    "duration": 8,
    "start_time": "2022-04-21T11:00:13.611Z"
   },
   {
    "duration": 29,
    "start_time": "2022-04-21T11:00:16.051Z"
   },
   {
    "duration": 24,
    "start_time": "2022-04-21T11:00:25.910Z"
   },
   {
    "duration": 5,
    "start_time": "2022-04-21T11:00:45.522Z"
   },
   {
    "duration": 357,
    "start_time": "2022-04-21T11:00:45.530Z"
   },
   {
    "duration": 15,
    "start_time": "2022-04-21T11:00:45.890Z"
   },
   {
    "duration": 84,
    "start_time": "2022-04-21T11:00:45.908Z"
   },
   {
    "duration": 77,
    "start_time": "2022-04-21T11:00:45.994Z"
   },
   {
    "duration": 44,
    "start_time": "2022-04-21T11:00:46.073Z"
   },
   {
    "duration": 200,
    "start_time": "2022-04-21T11:00:46.119Z"
   },
   {
    "duration": 274,
    "start_time": "2022-04-21T11:00:46.321Z"
   },
   {
    "duration": 15,
    "start_time": "2022-04-21T11:00:46.599Z"
   },
   {
    "duration": 62,
    "start_time": "2022-04-21T11:00:46.616Z"
   },
   {
    "duration": 139,
    "start_time": "2022-04-21T11:00:46.680Z"
   },
   {
    "duration": 195,
    "start_time": "2022-04-21T11:00:46.821Z"
   },
   {
    "duration": 52,
    "start_time": "2022-04-21T11:00:47.019Z"
   },
   {
    "duration": 43,
    "start_time": "2022-04-21T11:00:47.073Z"
   },
   {
    "duration": 105,
    "start_time": "2022-04-21T11:00:47.118Z"
   },
   {
    "duration": 38,
    "start_time": "2022-04-21T11:00:47.225Z"
   },
   {
    "duration": 14,
    "start_time": "2022-04-21T11:00:47.266Z"
   },
   {
    "duration": 32,
    "start_time": "2022-04-21T11:00:47.283Z"
   },
   {
    "duration": 14,
    "start_time": "2022-04-21T11:00:47.318Z"
   },
   {
    "duration": 25,
    "start_time": "2022-04-21T11:00:47.334Z"
   },
   {
    "duration": 8,
    "start_time": "2022-04-21T11:00:47.361Z"
   },
   {
    "duration": 24,
    "start_time": "2022-04-21T11:00:47.371Z"
   },
   {
    "duration": 10,
    "start_time": "2022-04-21T11:00:47.397Z"
   },
   {
    "duration": 8,
    "start_time": "2022-04-21T11:00:47.453Z"
   },
   {
    "duration": 7,
    "start_time": "2022-04-21T11:00:47.463Z"
   },
   {
    "duration": 13,
    "start_time": "2022-04-21T11:00:47.472Z"
   },
   {
    "duration": 14,
    "start_time": "2022-04-21T11:00:47.488Z"
   },
   {
    "duration": 9,
    "start_time": "2022-04-21T11:00:47.505Z"
   },
   {
    "duration": 41,
    "start_time": "2022-04-21T11:00:47.517Z"
   },
   {
    "duration": 66,
    "start_time": "2022-04-21T11:00:47.561Z"
   },
   {
    "duration": 53,
    "start_time": "2022-04-21T11:00:47.630Z"
   },
   {
    "duration": 30,
    "start_time": "2022-04-21T11:00:47.685Z"
   },
   {
    "duration": 35,
    "start_time": "2022-04-21T11:00:47.717Z"
   },
   {
    "duration": 43,
    "start_time": "2022-04-21T11:00:47.754Z"
   },
   {
    "duration": 65,
    "start_time": "2022-04-21T11:00:47.799Z"
   },
   {
    "duration": 56,
    "start_time": "2022-04-21T11:00:47.866Z"
   },
   {
    "duration": 41,
    "start_time": "2022-04-21T11:00:47.924Z"
   },
   {
    "duration": 54,
    "start_time": "2022-04-21T11:00:47.967Z"
   },
   {
    "duration": 46,
    "start_time": "2022-04-21T11:00:48.024Z"
   },
   {
    "duration": 60,
    "start_time": "2022-04-21T11:00:48.073Z"
   },
   {
    "duration": 7,
    "start_time": "2022-04-21T11:00:48.151Z"
   },
   {
    "duration": 20,
    "start_time": "2022-04-21T11:00:48.160Z"
   },
   {
    "duration": 27,
    "start_time": "2022-04-21T11:00:48.182Z"
   },
   {
    "duration": 8,
    "start_time": "2022-04-21T11:00:48.211Z"
   },
   {
    "duration": 30,
    "start_time": "2022-04-21T11:00:48.253Z"
   },
   {
    "duration": 15,
    "start_time": "2022-04-21T11:00:48.285Z"
   },
   {
    "duration": 61,
    "start_time": "2022-04-21T11:00:48.303Z"
   },
   {
    "duration": 7,
    "start_time": "2022-04-21T11:00:48.366Z"
   },
   {
    "duration": 20,
    "start_time": "2022-04-21T11:00:48.375Z"
   },
   {
    "duration": 68,
    "start_time": "2022-04-21T11:00:48.397Z"
   },
   {
    "duration": 21,
    "start_time": "2022-04-21T11:00:57.191Z"
   },
   {
    "duration": 29,
    "start_time": "2022-04-21T11:01:01.316Z"
   },
   {
    "duration": 7,
    "start_time": "2022-04-21T11:01:23.124Z"
   },
   {
    "duration": 47,
    "start_time": "2022-04-21T11:01:23.758Z"
   },
   {
    "duration": 6,
    "start_time": "2022-04-21T11:01:25.228Z"
   },
   {
    "duration": 58,
    "start_time": "2022-04-21T11:01:25.837Z"
   },
   {
    "duration": 4,
    "start_time": "2022-04-21T11:01:31.321Z"
   },
   {
    "duration": 5,
    "start_time": "2022-04-21T11:01:32.098Z"
   },
   {
    "duration": 229,
    "start_time": "2022-04-21T11:01:34.592Z"
   },
   {
    "duration": 7,
    "start_time": "2022-04-21T11:01:39.237Z"
   },
   {
    "duration": 29,
    "start_time": "2022-04-21T11:01:47.050Z"
   },
   {
    "duration": 40,
    "start_time": "2022-04-21T11:01:55.502Z"
   },
   {
    "duration": 20,
    "start_time": "2022-04-21T11:01:56.767Z"
   },
   {
    "duration": 494,
    "start_time": "2022-04-21T11:02:02.097Z"
   },
   {
    "duration": 457,
    "start_time": "2022-04-21T11:02:02.901Z"
   },
   {
    "duration": 355,
    "start_time": "2022-04-21T11:02:11.936Z"
   },
   {
    "duration": 11,
    "start_time": "2022-04-21T11:02:16.121Z"
   },
   {
    "duration": 10,
    "start_time": "2022-04-21T11:02:17.395Z"
   },
   {
    "duration": 22,
    "start_time": "2022-04-21T11:02:24.718Z"
   },
   {
    "duration": 6,
    "start_time": "2022-04-21T11:02:26.134Z"
   },
   {
    "duration": 13,
    "start_time": "2022-04-21T11:02:26.933Z"
   },
   {
    "duration": 11,
    "start_time": "2022-04-21T11:02:27.566Z"
   },
   {
    "duration": 45,
    "start_time": "2022-04-21T11:02:28.356Z"
   },
   {
    "duration": 8,
    "start_time": "2022-04-21T11:02:39.340Z"
   },
   {
    "duration": 38,
    "start_time": "2022-04-21T11:19:45.037Z"
   },
   {
    "duration": 67,
    "start_time": "2022-04-21T11:20:03.136Z"
   },
   {
    "duration": 29,
    "start_time": "2022-04-21T11:21:08.431Z"
   },
   {
    "duration": 718,
    "start_time": "2022-04-21T11:21:13.565Z"
   },
   {
    "duration": 659,
    "start_time": "2022-04-21T11:21:23.112Z"
   },
   {
    "duration": 535,
    "start_time": "2022-04-21T11:21:28.232Z"
   },
   {
    "duration": 109,
    "start_time": "2022-04-21T11:22:34.224Z"
   },
   {
    "duration": 358,
    "start_time": "2022-04-21T11:23:06.833Z"
   },
   {
    "duration": 2839,
    "start_time": "2022-04-21T11:24:29.713Z"
   },
   {
    "duration": 15,
    "start_time": "2022-04-21T11:24:45.793Z"
   },
   {
    "duration": 16,
    "start_time": "2022-04-21T11:26:19.424Z"
   },
   {
    "duration": 12,
    "start_time": "2022-04-21T11:26:43.914Z"
   },
   {
    "duration": 5,
    "start_time": "2022-04-21T11:27:25.301Z"
   },
   {
    "duration": 92,
    "start_time": "2022-04-21T11:27:29.862Z"
   },
   {
    "duration": 113,
    "start_time": "2022-04-21T11:27:38.323Z"
   },
   {
    "duration": 96,
    "start_time": "2022-04-21T11:27:43.363Z"
   },
   {
    "duration": 13,
    "start_time": "2022-04-21T11:27:55.682Z"
   },
   {
    "duration": 13,
    "start_time": "2022-04-21T11:29:04.636Z"
   },
   {
    "duration": 15,
    "start_time": "2022-04-21T11:29:44.754Z"
   },
   {
    "duration": 16,
    "start_time": "2022-04-21T11:29:50.795Z"
   },
   {
    "duration": 163,
    "start_time": "2022-04-21T11:30:30.211Z"
   },
   {
    "duration": 13,
    "start_time": "2022-04-21T11:30:38.813Z"
   },
   {
    "duration": 90,
    "start_time": "2022-04-21T11:30:58.037Z"
   },
   {
    "duration": 11,
    "start_time": "2022-04-21T11:31:23.437Z"
   },
   {
    "duration": 16,
    "start_time": "2022-04-21T11:31:30.820Z"
   },
   {
    "duration": 1130,
    "start_time": "2022-04-23T08:29:07.480Z"
   },
   {
    "duration": 137,
    "start_time": "2022-04-23T08:29:08.611Z"
   },
   {
    "duration": 12,
    "start_time": "2022-04-23T08:29:08.750Z"
   },
   {
    "duration": 23,
    "start_time": "2022-04-23T08:29:08.763Z"
   },
   {
    "duration": 43,
    "start_time": "2022-04-23T08:29:08.788Z"
   },
   {
    "duration": 22,
    "start_time": "2022-04-23T08:29:08.833Z"
   },
   {
    "duration": 98,
    "start_time": "2022-04-23T08:29:08.856Z"
   },
   {
    "duration": 118,
    "start_time": "2022-04-23T08:29:08.955Z"
   },
   {
    "duration": 8,
    "start_time": "2022-04-23T08:29:09.075Z"
   },
   {
    "duration": 25,
    "start_time": "2022-04-23T08:29:09.085Z"
   },
   {
    "duration": 60,
    "start_time": "2022-04-23T08:29:09.111Z"
   },
   {
    "duration": 86,
    "start_time": "2022-04-23T08:29:09.172Z"
   },
   {
    "duration": 17,
    "start_time": "2022-04-23T08:29:09.259Z"
   },
   {
    "duration": 16,
    "start_time": "2022-04-23T08:29:09.277Z"
   },
   {
    "duration": 55,
    "start_time": "2022-04-23T08:29:09.294Z"
   },
   {
    "duration": 15,
    "start_time": "2022-04-23T08:29:09.351Z"
   },
   {
    "duration": 7,
    "start_time": "2022-04-23T08:29:09.367Z"
   },
   {
    "duration": 21,
    "start_time": "2022-04-23T08:29:09.376Z"
   },
   {
    "duration": 8,
    "start_time": "2022-04-23T08:29:09.399Z"
   },
   {
    "duration": 17,
    "start_time": "2022-04-23T08:29:09.408Z"
   },
   {
    "duration": 7,
    "start_time": "2022-04-23T08:29:09.426Z"
   },
   {
    "duration": 14,
    "start_time": "2022-04-23T08:29:09.434Z"
   },
   {
    "duration": 5,
    "start_time": "2022-04-23T08:29:09.449Z"
   },
   {
    "duration": 5,
    "start_time": "2022-04-23T08:29:09.455Z"
   },
   {
    "duration": 5,
    "start_time": "2022-04-23T08:29:09.461Z"
   },
   {
    "duration": 6,
    "start_time": "2022-04-23T08:29:09.468Z"
   },
   {
    "duration": 6,
    "start_time": "2022-04-23T08:29:09.476Z"
   },
   {
    "duration": 6,
    "start_time": "2022-04-23T08:29:09.486Z"
   },
   {
    "duration": 37,
    "start_time": "2022-04-23T08:29:09.493Z"
   },
   {
    "duration": 27,
    "start_time": "2022-04-23T08:29:09.532Z"
   },
   {
    "duration": 20,
    "start_time": "2022-04-23T08:29:09.560Z"
   },
   {
    "duration": 19,
    "start_time": "2022-04-23T08:29:09.582Z"
   },
   {
    "duration": 26,
    "start_time": "2022-04-23T08:29:09.603Z"
   },
   {
    "duration": 33,
    "start_time": "2022-04-23T08:29:09.631Z"
   },
   {
    "duration": 25,
    "start_time": "2022-04-23T08:29:09.665Z"
   },
   {
    "duration": 62,
    "start_time": "2022-04-23T08:29:09.692Z"
   },
   {
    "duration": 13,
    "start_time": "2022-04-23T08:29:09.756Z"
   },
   {
    "duration": 27,
    "start_time": "2022-04-23T08:29:09.770Z"
   },
   {
    "duration": 32,
    "start_time": "2022-04-23T08:29:09.799Z"
   },
   {
    "duration": 28,
    "start_time": "2022-04-23T08:29:09.832Z"
   },
   {
    "duration": 3,
    "start_time": "2022-04-23T08:29:09.862Z"
   },
   {
    "duration": 8,
    "start_time": "2022-04-23T08:29:09.866Z"
   },
   {
    "duration": 14,
    "start_time": "2022-04-23T08:29:09.875Z"
   },
   {
    "duration": 4,
    "start_time": "2022-04-23T08:29:09.890Z"
   },
   {
    "duration": 38,
    "start_time": "2022-04-23T08:29:09.896Z"
   },
   {
    "duration": 7,
    "start_time": "2022-04-23T08:29:09.936Z"
   },
   {
    "duration": 13,
    "start_time": "2022-04-23T08:29:09.944Z"
   },
   {
    "duration": 5,
    "start_time": "2022-04-23T08:29:09.959Z"
   },
   {
    "duration": 11,
    "start_time": "2022-04-23T08:29:09.966Z"
   },
   {
    "duration": 46,
    "start_time": "2022-04-23T08:29:09.978Z"
   },
   {
    "duration": 11,
    "start_time": "2022-04-23T08:29:10.026Z"
   },
   {
    "duration": 19,
    "start_time": "2022-04-23T08:29:10.039Z"
   },
   {
    "duration": 5,
    "start_time": "2022-04-23T08:29:10.059Z"
   },
   {
    "duration": 25,
    "start_time": "2022-04-23T08:29:10.065Z"
   },
   {
    "duration": 3,
    "start_time": "2022-04-23T08:29:10.091Z"
   },
   {
    "duration": 22,
    "start_time": "2022-04-23T08:29:10.123Z"
   },
   {
    "duration": 5,
    "start_time": "2022-04-23T08:29:10.146Z"
   },
   {
    "duration": 6,
    "start_time": "2022-04-23T08:29:10.152Z"
   },
   {
    "duration": 141,
    "start_time": "2022-04-23T08:29:10.159Z"
   },
   {
    "duration": 26,
    "start_time": "2022-04-23T08:29:10.302Z"
   },
   {
    "duration": 22,
    "start_time": "2022-04-23T08:29:10.329Z"
   },
   {
    "duration": 16,
    "start_time": "2022-04-23T08:29:10.353Z"
   },
   {
    "duration": 212,
    "start_time": "2022-04-23T08:29:10.370Z"
   },
   {
    "duration": 9,
    "start_time": "2022-04-23T08:29:10.584Z"
   },
   {
    "duration": 256,
    "start_time": "2022-04-23T08:29:10.594Z"
   },
   {
    "duration": 9,
    "start_time": "2022-04-23T08:29:10.851Z"
   },
   {
    "duration": 198,
    "start_time": "2022-04-23T08:29:10.861Z"
   },
   {
    "duration": 9,
    "start_time": "2022-04-23T08:29:11.061Z"
   },
   {
    "duration": 2150,
    "start_time": "2022-04-23T08:29:11.071Z"
   },
   {
    "duration": 0,
    "start_time": "2022-04-23T08:29:13.224Z"
   },
   {
    "duration": 0,
    "start_time": "2022-04-23T08:29:13.225Z"
   },
   {
    "duration": 0,
    "start_time": "2022-04-23T08:29:13.226Z"
   },
   {
    "duration": 0,
    "start_time": "2022-04-23T08:29:13.228Z"
   },
   {
    "duration": 0,
    "start_time": "2022-04-23T08:29:13.229Z"
   },
   {
    "duration": 0,
    "start_time": "2022-04-23T08:29:13.230Z"
   },
   {
    "duration": 0,
    "start_time": "2022-04-23T08:29:13.232Z"
   },
   {
    "duration": 3,
    "start_time": "2022-04-23T08:31:22.555Z"
   },
   {
    "duration": 167,
    "start_time": "2022-04-23T08:31:22.563Z"
   },
   {
    "duration": 9,
    "start_time": "2022-04-23T08:31:22.732Z"
   },
   {
    "duration": 28,
    "start_time": "2022-04-23T08:31:22.743Z"
   },
   {
    "duration": 55,
    "start_time": "2022-04-23T08:31:22.774Z"
   },
   {
    "duration": 23,
    "start_time": "2022-04-23T08:31:22.831Z"
   },
   {
    "duration": 105,
    "start_time": "2022-04-23T08:31:22.856Z"
   },
   {
    "duration": 117,
    "start_time": "2022-04-23T08:31:22.963Z"
   },
   {
    "duration": 8,
    "start_time": "2022-04-23T08:31:23.081Z"
   },
   {
    "duration": 22,
    "start_time": "2022-04-23T08:31:23.091Z"
   },
   {
    "duration": 50,
    "start_time": "2022-04-23T08:31:23.125Z"
   },
   {
    "duration": 90,
    "start_time": "2022-04-23T08:31:23.177Z"
   },
   {
    "duration": 17,
    "start_time": "2022-04-23T08:31:23.269Z"
   },
   {
    "duration": 17,
    "start_time": "2022-04-23T08:31:23.288Z"
   },
   {
    "duration": 51,
    "start_time": "2022-04-23T08:31:23.307Z"
   },
   {
    "duration": 15,
    "start_time": "2022-04-23T08:31:23.360Z"
   },
   {
    "duration": 7,
    "start_time": "2022-04-23T08:31:23.377Z"
   },
   {
    "duration": 21,
    "start_time": "2022-04-23T08:31:23.386Z"
   },
   {
    "duration": 9,
    "start_time": "2022-04-23T08:31:23.423Z"
   },
   {
    "duration": 9,
    "start_time": "2022-04-23T08:31:23.434Z"
   },
   {
    "duration": 7,
    "start_time": "2022-04-23T08:31:23.445Z"
   },
   {
    "duration": 12,
    "start_time": "2022-04-23T08:31:23.454Z"
   },
   {
    "duration": 6,
    "start_time": "2022-04-23T08:31:23.468Z"
   },
   {
    "duration": 5,
    "start_time": "2022-04-23T08:31:23.476Z"
   },
   {
    "duration": 3,
    "start_time": "2022-04-23T08:31:23.483Z"
   },
   {
    "duration": 4,
    "start_time": "2022-04-23T08:31:23.523Z"
   },
   {
    "duration": 6,
    "start_time": "2022-04-23T08:31:23.528Z"
   },
   {
    "duration": 5,
    "start_time": "2022-04-23T08:31:23.536Z"
   },
   {
    "duration": 10,
    "start_time": "2022-04-23T08:31:23.545Z"
   },
   {
    "duration": 27,
    "start_time": "2022-04-23T08:31:23.557Z"
   },
   {
    "duration": 46,
    "start_time": "2022-04-23T08:31:23.585Z"
   },
   {
    "duration": 19,
    "start_time": "2022-04-23T08:31:23.632Z"
   },
   {
    "duration": 8,
    "start_time": "2022-04-23T08:31:23.652Z"
   },
   {
    "duration": 29,
    "start_time": "2022-04-23T08:31:23.661Z"
   },
   {
    "duration": 45,
    "start_time": "2022-04-23T08:31:23.691Z"
   },
   {
    "duration": 33,
    "start_time": "2022-04-23T08:31:23.738Z"
   },
   {
    "duration": 13,
    "start_time": "2022-04-23T08:31:23.772Z"
   },
   {
    "duration": 42,
    "start_time": "2022-04-23T08:31:23.787Z"
   },
   {
    "duration": 16,
    "start_time": "2022-04-23T08:31:23.830Z"
   },
   {
    "duration": 26,
    "start_time": "2022-04-23T08:31:23.847Z"
   },
   {
    "duration": 3,
    "start_time": "2022-04-23T08:31:23.875Z"
   },
   {
    "duration": 14,
    "start_time": "2022-04-23T08:31:23.880Z"
   },
   {
    "duration": 29,
    "start_time": "2022-04-23T08:31:23.895Z"
   },
   {
    "duration": 4,
    "start_time": "2022-04-23T08:31:23.926Z"
   },
   {
    "duration": 22,
    "start_time": "2022-04-23T08:31:23.931Z"
   },
   {
    "duration": 8,
    "start_time": "2022-04-23T08:31:23.954Z"
   },
   {
    "duration": 13,
    "start_time": "2022-04-23T08:31:23.964Z"
   },
   {
    "duration": 14,
    "start_time": "2022-04-23T08:31:23.978Z"
   },
   {
    "duration": 12,
    "start_time": "2022-04-23T08:31:23.993Z"
   },
   {
    "duration": 32,
    "start_time": "2022-04-23T08:31:24.006Z"
   },
   {
    "duration": 12,
    "start_time": "2022-04-23T08:31:24.039Z"
   },
   {
    "duration": 16,
    "start_time": "2022-04-23T08:31:24.052Z"
   },
   {
    "duration": 4,
    "start_time": "2022-04-23T08:31:24.070Z"
   },
   {
    "duration": 26,
    "start_time": "2022-04-23T08:31:24.075Z"
   },
   {
    "duration": 3,
    "start_time": "2022-04-23T08:31:24.123Z"
   },
   {
    "duration": 24,
    "start_time": "2022-04-23T08:31:24.127Z"
   },
   {
    "duration": 2,
    "start_time": "2022-04-23T08:31:24.153Z"
   },
   {
    "duration": 6,
    "start_time": "2022-04-23T08:31:24.157Z"
   },
   {
    "duration": 138,
    "start_time": "2022-04-23T08:31:24.165Z"
   },
   {
    "duration": 26,
    "start_time": "2022-04-23T08:31:24.304Z"
   },
   {
    "duration": 24,
    "start_time": "2022-04-23T08:31:24.332Z"
   },
   {
    "duration": 18,
    "start_time": "2022-04-23T08:31:24.357Z"
   },
   {
    "duration": 209,
    "start_time": "2022-04-23T08:31:24.377Z"
   },
   {
    "duration": 10,
    "start_time": "2022-04-23T08:31:24.588Z"
   },
   {
    "duration": 321,
    "start_time": "2022-04-23T08:31:24.599Z"
   },
   {
    "duration": 10,
    "start_time": "2022-04-23T08:31:24.922Z"
   },
   {
    "duration": 211,
    "start_time": "2022-04-23T08:31:24.934Z"
   },
   {
    "duration": 10,
    "start_time": "2022-04-23T08:31:25.146Z"
   },
   {
    "duration": 2033,
    "start_time": "2022-04-23T08:31:25.158Z"
   },
   {
    "duration": 0,
    "start_time": "2022-04-23T08:31:27.193Z"
   },
   {
    "duration": 0,
    "start_time": "2022-04-23T08:31:27.195Z"
   },
   {
    "duration": 0,
    "start_time": "2022-04-23T08:31:27.196Z"
   },
   {
    "duration": 0,
    "start_time": "2022-04-23T08:31:27.197Z"
   },
   {
    "duration": 0,
    "start_time": "2022-04-23T08:31:27.199Z"
   },
   {
    "duration": 0,
    "start_time": "2022-04-23T08:31:27.201Z"
   },
   {
    "duration": 0,
    "start_time": "2022-04-23T08:31:27.202Z"
   },
   {
    "duration": 9,
    "start_time": "2022-04-23T08:33:09.735Z"
   },
   {
    "duration": 17,
    "start_time": "2022-04-23T08:34:13.562Z"
   },
   {
    "duration": 2,
    "start_time": "2022-04-23T08:34:30.896Z"
   },
   {
    "duration": 174,
    "start_time": "2022-04-23T08:34:30.901Z"
   },
   {
    "duration": 8,
    "start_time": "2022-04-23T08:34:31.076Z"
   },
   {
    "duration": 50,
    "start_time": "2022-04-23T08:34:31.085Z"
   },
   {
    "duration": 24,
    "start_time": "2022-04-23T08:34:31.137Z"
   },
   {
    "duration": 22,
    "start_time": "2022-04-23T08:34:31.163Z"
   },
   {
    "duration": 114,
    "start_time": "2022-04-23T08:34:31.187Z"
   },
   {
    "duration": 128,
    "start_time": "2022-04-23T08:34:31.303Z"
   },
   {
    "duration": 8,
    "start_time": "2022-04-23T08:34:31.433Z"
   },
   {
    "duration": 62,
    "start_time": "2022-04-23T08:34:31.443Z"
   },
   {
    "duration": 53,
    "start_time": "2022-04-23T08:34:31.509Z"
   },
   {
    "duration": 92,
    "start_time": "2022-04-23T08:34:31.564Z"
   },
   {
    "duration": 18,
    "start_time": "2022-04-23T08:34:31.658Z"
   },
   {
    "duration": 20,
    "start_time": "2022-04-23T08:34:31.678Z"
   },
   {
    "duration": 56,
    "start_time": "2022-04-23T08:34:31.700Z"
   },
   {
    "duration": 16,
    "start_time": "2022-04-23T08:34:31.758Z"
   },
   {
    "duration": 7,
    "start_time": "2022-04-23T08:34:31.776Z"
   },
   {
    "duration": 22,
    "start_time": "2022-04-23T08:34:31.785Z"
   },
   {
    "duration": 18,
    "start_time": "2022-04-23T08:34:31.809Z"
   },
   {
    "duration": 7,
    "start_time": "2022-04-23T08:34:31.828Z"
   },
   {
    "duration": 13,
    "start_time": "2022-04-23T08:34:31.836Z"
   },
   {
    "duration": 12,
    "start_time": "2022-04-23T08:34:31.851Z"
   },
   {
    "duration": 9,
    "start_time": "2022-04-23T08:34:31.864Z"
   },
   {
    "duration": 6,
    "start_time": "2022-04-23T08:34:31.874Z"
   },
   {
    "duration": 5,
    "start_time": "2022-04-23T08:34:31.882Z"
   },
   {
    "duration": 7,
    "start_time": "2022-04-23T08:34:31.888Z"
   },
   {
    "duration": 14,
    "start_time": "2022-04-23T08:34:31.897Z"
   },
   {
    "duration": 12,
    "start_time": "2022-04-23T08:34:31.922Z"
   },
   {
    "duration": 13,
    "start_time": "2022-04-23T08:34:31.938Z"
   },
   {
    "duration": 32,
    "start_time": "2022-04-23T08:34:31.952Z"
   },
   {
    "duration": 20,
    "start_time": "2022-04-23T08:34:31.985Z"
   },
   {
    "duration": 26,
    "start_time": "2022-04-23T08:34:32.007Z"
   },
   {
    "duration": 7,
    "start_time": "2022-04-23T08:34:32.035Z"
   },
   {
    "duration": 29,
    "start_time": "2022-04-23T08:34:32.043Z"
   },
   {
    "duration": 26,
    "start_time": "2022-04-23T08:34:32.073Z"
   },
   {
    "duration": 52,
    "start_time": "2022-04-23T08:34:32.100Z"
   },
   {
    "duration": 13,
    "start_time": "2022-04-23T08:34:32.154Z"
   },
   {
    "duration": 26,
    "start_time": "2022-04-23T08:34:32.169Z"
   },
   {
    "duration": 36,
    "start_time": "2022-04-23T08:34:32.197Z"
   },
   {
    "duration": 26,
    "start_time": "2022-04-23T08:34:32.235Z"
   },
   {
    "duration": 4,
    "start_time": "2022-04-23T08:34:32.262Z"
   },
   {
    "duration": 13,
    "start_time": "2022-04-23T08:34:32.267Z"
   },
   {
    "duration": 17,
    "start_time": "2022-04-23T08:34:32.281Z"
   },
   {
    "duration": 4,
    "start_time": "2022-04-23T08:34:32.299Z"
   },
   {
    "duration": 13,
    "start_time": "2022-04-23T08:34:32.324Z"
   },
   {
    "duration": 7,
    "start_time": "2022-04-23T08:34:32.339Z"
   },
   {
    "duration": 14,
    "start_time": "2022-04-23T08:34:32.348Z"
   },
   {
    "duration": 5,
    "start_time": "2022-04-23T08:34:32.363Z"
   },
   {
    "duration": 11,
    "start_time": "2022-04-23T08:34:32.370Z"
   },
   {
    "duration": 49,
    "start_time": "2022-04-23T08:34:32.383Z"
   },
   {
    "duration": 12,
    "start_time": "2022-04-23T08:34:32.434Z"
   },
   {
    "duration": 17,
    "start_time": "2022-04-23T08:34:32.447Z"
   },
   {
    "duration": 5,
    "start_time": "2022-04-23T08:34:32.466Z"
   },
   {
    "duration": 27,
    "start_time": "2022-04-23T08:34:32.472Z"
   },
   {
    "duration": 24,
    "start_time": "2022-04-23T08:34:32.500Z"
   },
   {
    "duration": 25,
    "start_time": "2022-04-23T08:34:32.526Z"
   },
   {
    "duration": 9,
    "start_time": "2022-04-23T08:34:32.552Z"
   },
   {
    "duration": 7,
    "start_time": "2022-04-23T08:34:32.563Z"
   },
   {
    "duration": 139,
    "start_time": "2022-04-23T08:34:32.572Z"
   },
   {
    "duration": 22,
    "start_time": "2022-04-23T08:34:32.712Z"
   },
   {
    "duration": 22,
    "start_time": "2022-04-23T08:34:32.736Z"
   },
   {
    "duration": 18,
    "start_time": "2022-04-23T08:34:32.759Z"
   },
   {
    "duration": 213,
    "start_time": "2022-04-23T08:34:32.778Z"
   },
   {
    "duration": 9,
    "start_time": "2022-04-23T08:34:32.992Z"
   },
   {
    "duration": 257,
    "start_time": "2022-04-23T08:34:33.002Z"
   },
   {
    "duration": 9,
    "start_time": "2022-04-23T08:34:33.260Z"
   },
   {
    "duration": 198,
    "start_time": "2022-04-23T08:34:33.270Z"
   },
   {
    "duration": 9,
    "start_time": "2022-04-23T08:34:33.469Z"
   },
   {
    "duration": 8,
    "start_time": "2022-04-23T08:34:33.480Z"
   },
   {
    "duration": 7,
    "start_time": "2022-04-23T08:34:33.489Z"
   },
   {
    "duration": 33,
    "start_time": "2022-04-23T08:34:33.497Z"
   },
   {
    "duration": 4,
    "start_time": "2022-04-23T08:34:33.532Z"
   },
   {
    "duration": 17,
    "start_time": "2022-04-23T08:34:33.537Z"
   },
   {
    "duration": 13,
    "start_time": "2022-04-23T08:34:33.556Z"
   },
   {
    "duration": 29,
    "start_time": "2022-04-23T08:34:33.571Z"
   },
   {
    "duration": 4,
    "start_time": "2022-04-23T08:34:33.602Z"
   },
   {
    "duration": 279,
    "start_time": "2022-04-23T08:42:13.325Z"
   },
   {
    "duration": 216,
    "start_time": "2022-04-23T08:44:00.809Z"
   },
   {
    "duration": 133,
    "start_time": "2022-04-23T08:44:12.104Z"
   },
   {
    "duration": 204,
    "start_time": "2022-04-23T08:44:26.680Z"
   },
   {
    "duration": 1759,
    "start_time": "2022-04-23T16:14:52.335Z"
   },
   {
    "duration": 231,
    "start_time": "2022-04-23T16:14:54.097Z"
   },
   {
    "duration": 20,
    "start_time": "2022-04-23T16:14:54.330Z"
   },
   {
    "duration": 68,
    "start_time": "2022-04-23T16:14:54.354Z"
   },
   {
    "duration": 41,
    "start_time": "2022-04-23T16:14:54.425Z"
   },
   {
    "duration": 54,
    "start_time": "2022-04-23T16:14:54.469Z"
   },
   {
    "duration": 160,
    "start_time": "2022-04-23T16:14:54.525Z"
   },
   {
    "duration": 196,
    "start_time": "2022-04-23T16:14:54.687Z"
   },
   {
    "duration": 12,
    "start_time": "2022-04-23T16:14:54.892Z"
   },
   {
    "duration": 32,
    "start_time": "2022-04-23T16:14:54.908Z"
   },
   {
    "duration": 132,
    "start_time": "2022-04-23T16:14:54.942Z"
   },
   {
    "duration": 130,
    "start_time": "2022-04-23T16:14:55.077Z"
   },
   {
    "duration": 27,
    "start_time": "2022-04-23T16:14:55.209Z"
   },
   {
    "duration": 55,
    "start_time": "2022-04-23T16:14:55.239Z"
   },
   {
    "duration": 69,
    "start_time": "2022-04-23T16:14:55.297Z"
   },
   {
    "duration": 44,
    "start_time": "2022-04-23T16:14:55.369Z"
   },
   {
    "duration": 12,
    "start_time": "2022-04-23T16:14:55.415Z"
   },
   {
    "duration": 57,
    "start_time": "2022-04-23T16:14:55.430Z"
   },
   {
    "duration": 18,
    "start_time": "2022-04-23T16:14:55.489Z"
   },
   {
    "duration": 14,
    "start_time": "2022-04-23T16:14:55.509Z"
   },
   {
    "duration": 20,
    "start_time": "2022-04-23T16:14:55.525Z"
   },
   {
    "duration": 45,
    "start_time": "2022-04-23T16:14:55.547Z"
   },
   {
    "duration": 8,
    "start_time": "2022-04-23T16:14:55.594Z"
   },
   {
    "duration": 16,
    "start_time": "2022-04-23T16:14:55.604Z"
   },
   {
    "duration": 7,
    "start_time": "2022-04-23T16:14:55.622Z"
   },
   {
    "duration": 7,
    "start_time": "2022-04-23T16:14:55.631Z"
   },
   {
    "duration": 10,
    "start_time": "2022-04-23T16:14:55.640Z"
   },
   {
    "duration": 6,
    "start_time": "2022-04-23T16:14:55.694Z"
   },
   {
    "duration": 21,
    "start_time": "2022-04-23T16:14:55.702Z"
   },
   {
    "duration": 73,
    "start_time": "2022-04-23T16:14:55.725Z"
   },
   {
    "duration": 33,
    "start_time": "2022-04-23T16:14:55.801Z"
   },
   {
    "duration": 29,
    "start_time": "2022-04-23T16:14:55.836Z"
   },
   {
    "duration": 33,
    "start_time": "2022-04-23T16:14:55.868Z"
   },
   {
    "duration": 49,
    "start_time": "2022-04-23T16:14:55.903Z"
   },
   {
    "duration": 60,
    "start_time": "2022-04-23T16:14:55.955Z"
   },
   {
    "duration": 58,
    "start_time": "2022-04-23T16:14:56.017Z"
   },
   {
    "duration": 21,
    "start_time": "2022-04-23T16:14:56.092Z"
   },
   {
    "duration": 41,
    "start_time": "2022-04-23T16:14:56.116Z"
   },
   {
    "duration": 46,
    "start_time": "2022-04-23T16:14:56.159Z"
   },
   {
    "duration": 43,
    "start_time": "2022-04-23T16:14:56.208Z"
   },
   {
    "duration": 6,
    "start_time": "2022-04-23T16:14:56.253Z"
   },
   {
    "duration": 12,
    "start_time": "2022-04-23T16:14:56.293Z"
   },
   {
    "duration": 21,
    "start_time": "2022-04-23T16:14:56.307Z"
   },
   {
    "duration": 7,
    "start_time": "2022-04-23T16:14:56.330Z"
   },
   {
    "duration": 57,
    "start_time": "2022-04-23T16:14:56.339Z"
   },
   {
    "duration": 13,
    "start_time": "2022-04-23T16:14:56.398Z"
   },
   {
    "duration": 24,
    "start_time": "2022-04-23T16:14:56.413Z"
   },
   {
    "duration": 6,
    "start_time": "2022-04-23T16:14:56.440Z"
   },
   {
    "duration": 57,
    "start_time": "2022-04-23T16:14:56.449Z"
   },
   {
    "duration": 42,
    "start_time": "2022-04-23T16:14:56.508Z"
   },
   {
    "duration": 50,
    "start_time": "2022-04-23T16:14:56.552Z"
   },
   {
    "duration": 30,
    "start_time": "2022-04-23T16:14:56.605Z"
   },
   {
    "duration": 8,
    "start_time": "2022-04-23T16:14:56.637Z"
   },
   {
    "duration": 73,
    "start_time": "2022-04-23T16:14:56.647Z"
   },
   {
    "duration": 4,
    "start_time": "2022-04-23T16:14:56.723Z"
   },
   {
    "duration": 37,
    "start_time": "2022-04-23T16:14:56.730Z"
   },
   {
    "duration": 5,
    "start_time": "2022-04-23T16:14:56.793Z"
   },
   {
    "duration": 7,
    "start_time": "2022-04-23T16:14:56.801Z"
   },
   {
    "duration": 245,
    "start_time": "2022-04-23T16:14:56.810Z"
   },
   {
    "duration": 44,
    "start_time": "2022-04-23T16:14:57.057Z"
   },
   {
    "duration": 38,
    "start_time": "2022-04-23T16:14:57.104Z"
   },
   {
    "duration": 50,
    "start_time": "2022-04-23T16:14:57.145Z"
   },
   {
    "duration": 381,
    "start_time": "2022-04-23T16:14:57.197Z"
   },
   {
    "duration": 22,
    "start_time": "2022-04-23T16:14:57.580Z"
   },
   {
    "duration": 462,
    "start_time": "2022-04-23T16:14:57.604Z"
   },
   {
    "duration": 26,
    "start_time": "2022-04-23T16:14:58.068Z"
   },
   {
    "duration": 387,
    "start_time": "2022-04-23T16:14:58.096Z"
   },
   {
    "duration": 13,
    "start_time": "2022-04-23T16:14:58.485Z"
   },
   {
    "duration": 14,
    "start_time": "2022-04-23T16:14:58.500Z"
   },
   {
    "duration": 11,
    "start_time": "2022-04-23T16:14:58.517Z"
   },
   {
    "duration": 17,
    "start_time": "2022-04-23T16:14:58.531Z"
   },
   {
    "duration": 47,
    "start_time": "2022-04-23T16:14:58.550Z"
   },
   {
    "duration": 25,
    "start_time": "2022-04-23T16:14:58.599Z"
   },
   {
    "duration": 12,
    "start_time": "2022-04-23T16:14:58.627Z"
   },
   {
    "duration": 78,
    "start_time": "2022-04-23T16:14:58.641Z"
   },
   {
    "duration": 8,
    "start_time": "2022-04-23T16:14:58.721Z"
   },
   {
    "duration": 425,
    "start_time": "2022-04-23T16:15:52.850Z"
   },
   {
    "duration": 20,
    "start_time": "2022-04-23T16:15:53.278Z"
   },
   {
    "duration": 604,
    "start_time": "2022-04-23T16:16:32.734Z"
   },
   {
    "duration": 366,
    "start_time": "2022-04-23T16:16:50.516Z"
   },
   {
    "duration": 638,
    "start_time": "2022-04-23T16:19:09.394Z"
   },
   {
    "duration": 461,
    "start_time": "2022-04-23T16:19:19.554Z"
   },
   {
    "duration": 405,
    "start_time": "2022-04-23T16:21:12.669Z"
   },
   {
    "duration": 251,
    "start_time": "2022-04-23T16:21:47.254Z"
   },
   {
    "duration": 415,
    "start_time": "2022-04-23T16:21:55.262Z"
   },
   {
    "duration": 255,
    "start_time": "2022-04-23T16:22:00.941Z"
   },
   {
    "duration": 584,
    "start_time": "2022-04-23T16:22:17.509Z"
   },
   {
    "duration": 15,
    "start_time": "2022-04-23T16:31:44.999Z"
   },
   {
    "duration": 43,
    "start_time": "2022-04-23T16:31:59.265Z"
   },
   {
    "duration": 12,
    "start_time": "2022-04-23T16:32:06.353Z"
   },
   {
    "duration": 17,
    "start_time": "2022-04-23T16:32:12.451Z"
   },
   {
    "duration": 26,
    "start_time": "2022-04-23T16:35:54.195Z"
   },
   {
    "duration": 37,
    "start_time": "2022-04-23T16:52:48.453Z"
   },
   {
    "duration": 29,
    "start_time": "2022-04-23T16:53:00.070Z"
   },
   {
    "duration": 246,
    "start_time": "2022-04-23T16:55:58.042Z"
   },
   {
    "duration": 232,
    "start_time": "2022-04-23T16:56:23.873Z"
   },
   {
    "duration": 285,
    "start_time": "2022-04-23T16:56:40.226Z"
   },
   {
    "duration": 4,
    "start_time": "2022-04-23T16:57:05.821Z"
   },
   {
    "duration": 272,
    "start_time": "2022-04-23T16:57:05.828Z"
   },
   {
    "duration": 12,
    "start_time": "2022-04-23T16:57:06.103Z"
   },
   {
    "duration": 300,
    "start_time": "2022-04-23T16:57:06.118Z"
   },
   {
    "duration": 38,
    "start_time": "2022-04-23T16:57:06.421Z"
   },
   {
    "duration": 58,
    "start_time": "2022-04-23T16:57:06.462Z"
   },
   {
    "duration": 33,
    "start_time": "2022-04-23T16:57:06.523Z"
   },
   {
    "duration": 158,
    "start_time": "2022-04-23T16:57:06.558Z"
   },
   {
    "duration": 196,
    "start_time": "2022-04-23T16:57:06.718Z"
   },
   {
    "duration": 12,
    "start_time": "2022-04-23T16:57:06.917Z"
   },
   {
    "duration": 61,
    "start_time": "2022-04-23T16:57:06.932Z"
   },
   {
    "duration": 128,
    "start_time": "2022-04-23T16:57:06.995Z"
   },
   {
    "duration": 32,
    "start_time": "2022-04-23T16:57:07.125Z"
   },
   {
    "duration": 151,
    "start_time": "2022-04-23T16:57:07.160Z"
   },
   {
    "duration": 27,
    "start_time": "2022-04-23T16:57:07.313Z"
   },
   {
    "duration": 67,
    "start_time": "2022-04-23T16:57:07.342Z"
   },
   {
    "duration": 88,
    "start_time": "2022-04-23T16:57:07.412Z"
   },
   {
    "duration": 28,
    "start_time": "2022-04-23T16:57:07.502Z"
   },
   {
    "duration": 11,
    "start_time": "2022-04-23T16:57:07.533Z"
   },
   {
    "duration": 53,
    "start_time": "2022-04-23T16:57:07.547Z"
   },
   {
    "duration": 16,
    "start_time": "2022-04-23T16:57:07.602Z"
   },
   {
    "duration": 22,
    "start_time": "2022-04-23T16:57:07.620Z"
   },
   {
    "duration": 65,
    "start_time": "2022-04-23T16:57:07.645Z"
   },
   {
    "duration": 11,
    "start_time": "2022-04-23T16:57:07.713Z"
   },
   {
    "duration": 9,
    "start_time": "2022-04-23T16:57:07.727Z"
   },
   {
    "duration": 7,
    "start_time": "2022-04-23T16:57:07.738Z"
   },
   {
    "duration": 7,
    "start_time": "2022-04-23T16:57:07.747Z"
   },
   {
    "duration": 41,
    "start_time": "2022-04-23T16:57:07.756Z"
   },
   {
    "duration": 7,
    "start_time": "2022-04-23T16:57:07.804Z"
   },
   {
    "duration": 19,
    "start_time": "2022-04-23T16:57:07.814Z"
   },
   {
    "duration": 80,
    "start_time": "2022-04-23T16:57:07.835Z"
   },
   {
    "duration": 35,
    "start_time": "2022-04-23T16:57:07.918Z"
   },
   {
    "duration": 47,
    "start_time": "2022-04-23T16:57:07.955Z"
   },
   {
    "duration": 13,
    "start_time": "2022-04-23T16:57:08.004Z"
   },
   {
    "duration": 74,
    "start_time": "2022-04-23T16:57:08.020Z"
   },
   {
    "duration": 44,
    "start_time": "2022-04-23T16:57:08.097Z"
   },
   {
    "duration": 81,
    "start_time": "2022-04-23T16:57:08.143Z"
   },
   {
    "duration": 21,
    "start_time": "2022-04-23T16:57:08.227Z"
   },
   {
    "duration": 64,
    "start_time": "2022-04-23T16:57:08.250Z"
   },
   {
    "duration": 24,
    "start_time": "2022-04-23T16:57:08.316Z"
   },
   {
    "duration": 70,
    "start_time": "2022-04-23T16:57:08.342Z"
   },
   {
    "duration": 7,
    "start_time": "2022-04-23T16:57:08.414Z"
   },
   {
    "duration": 25,
    "start_time": "2022-04-23T16:57:08.422Z"
   },
   {
    "duration": 35,
    "start_time": "2022-04-23T16:57:08.452Z"
   },
   {
    "duration": 8,
    "start_time": "2022-04-23T16:57:08.493Z"
   },
   {
    "duration": 32,
    "start_time": "2022-04-23T16:57:08.503Z"
   },
   {
    "duration": 16,
    "start_time": "2022-04-23T16:57:08.538Z"
   },
   {
    "duration": 69,
    "start_time": "2022-04-23T16:57:08.557Z"
   },
   {
    "duration": 10,
    "start_time": "2022-04-23T16:57:08.628Z"
   },
   {
    "duration": 26,
    "start_time": "2022-04-23T16:57:08.640Z"
   },
   {
    "duration": 54,
    "start_time": "2022-04-23T16:57:08.668Z"
   },
   {
    "duration": 22,
    "start_time": "2022-04-23T16:57:08.724Z"
   },
   {
    "duration": 75,
    "start_time": "2022-04-23T16:57:08.749Z"
   },
   {
    "duration": 11,
    "start_time": "2022-04-23T16:57:08.826Z"
   },
   {
    "duration": 67,
    "start_time": "2022-04-23T16:57:08.841Z"
   },
   {
    "duration": 5,
    "start_time": "2022-04-23T16:57:08.911Z"
   },
   {
    "duration": 46,
    "start_time": "2022-04-23T16:57:08.918Z"
   },
   {
    "duration": 6,
    "start_time": "2022-04-23T16:57:08.966Z"
   },
   {
    "duration": 5,
    "start_time": "2022-04-23T16:57:08.994Z"
   },
   {
    "duration": 249,
    "start_time": "2022-04-23T16:57:09.001Z"
   },
   {
    "duration": 47,
    "start_time": "2022-04-23T16:57:09.252Z"
   },
   {
    "duration": 42,
    "start_time": "2022-04-23T16:57:09.302Z"
   },
   {
    "duration": 60,
    "start_time": "2022-04-23T16:57:09.346Z"
   },
   {
    "duration": 530,
    "start_time": "2022-04-23T16:57:09.409Z"
   },
   {
    "duration": 537,
    "start_time": "2022-04-23T16:57:09.942Z"
   },
   {
    "duration": 20,
    "start_time": "2022-04-23T16:57:10.481Z"
   },
   {
    "duration": 564,
    "start_time": "2022-04-23T16:57:10.504Z"
   },
   {
    "duration": 25,
    "start_time": "2022-04-23T16:57:11.070Z"
   },
   {
    "duration": 403,
    "start_time": "2022-04-23T16:57:11.097Z"
   },
   {
    "duration": 13,
    "start_time": "2022-04-23T16:57:11.503Z"
   },
   {
    "duration": 18,
    "start_time": "2022-04-23T16:57:11.519Z"
   },
   {
    "duration": 12,
    "start_time": "2022-04-23T16:57:11.539Z"
   },
   {
    "duration": 51,
    "start_time": "2022-04-23T16:57:11.553Z"
   },
   {
    "duration": 7,
    "start_time": "2022-04-23T16:57:11.607Z"
   },
   {
    "duration": 23,
    "start_time": "2022-04-23T16:57:11.616Z"
   },
   {
    "duration": 13,
    "start_time": "2022-04-23T16:57:11.642Z"
   },
   {
    "duration": 77,
    "start_time": "2022-04-23T16:57:11.657Z"
   },
   {
    "duration": 8,
    "start_time": "2022-04-23T16:57:11.737Z"
   },
   {
    "duration": 138,
    "start_time": "2022-04-23T17:00:17.059Z"
   },
   {
    "duration": 51,
    "start_time": "2022-04-23T17:07:08.737Z"
   },
   {
    "duration": 52,
    "start_time": "2022-04-23T17:07:38.463Z"
   },
   {
    "duration": 206,
    "start_time": "2022-04-23T17:11:38.575Z"
   },
   {
    "duration": 20,
    "start_time": "2022-04-23T17:11:56.843Z"
   },
   {
    "duration": 27,
    "start_time": "2022-04-23T17:12:06.881Z"
   },
   {
    "duration": 25,
    "start_time": "2022-04-23T17:12:16.790Z"
   },
   {
    "duration": 18,
    "start_time": "2022-04-23T17:15:17.381Z"
   },
   {
    "duration": 19,
    "start_time": "2022-04-23T17:17:25.124Z"
   },
   {
    "duration": 18,
    "start_time": "2022-04-23T17:18:51.214Z"
   },
   {
    "duration": 1176,
    "start_time": "2022-04-24T14:56:09.312Z"
   },
   {
    "duration": 178,
    "start_time": "2022-04-24T14:56:10.490Z"
   },
   {
    "duration": 16,
    "start_time": "2022-04-24T14:56:10.670Z"
   },
   {
    "duration": 285,
    "start_time": "2022-04-24T14:56:10.688Z"
   },
   {
    "duration": 39,
    "start_time": "2022-04-24T14:56:10.977Z"
   },
   {
    "duration": 31,
    "start_time": "2022-04-24T14:56:11.017Z"
   },
   {
    "duration": 146,
    "start_time": "2022-04-24T14:56:11.049Z"
   },
   {
    "duration": 153,
    "start_time": "2022-04-24T14:56:11.197Z"
   },
   {
    "duration": 9,
    "start_time": "2022-04-24T14:56:11.352Z"
   },
   {
    "duration": 42,
    "start_time": "2022-04-24T14:56:11.364Z"
   },
   {
    "duration": 167,
    "start_time": "2022-04-24T14:56:11.408Z"
   },
   {
    "duration": 78,
    "start_time": "2022-04-24T14:56:11.580Z"
   },
   {
    "duration": 30,
    "start_time": "2022-04-24T14:56:11.660Z"
   },
   {
    "duration": 111,
    "start_time": "2022-04-24T14:56:11.692Z"
   },
   {
    "duration": 22,
    "start_time": "2022-04-24T14:56:11.805Z"
   },
   {
    "duration": 22,
    "start_time": "2022-04-24T14:56:11.829Z"
   },
   {
    "duration": 72,
    "start_time": "2022-04-24T14:56:11.853Z"
   },
   {
    "duration": 18,
    "start_time": "2022-04-24T14:56:11.927Z"
   },
   {
    "duration": 9,
    "start_time": "2022-04-24T14:56:11.946Z"
   },
   {
    "duration": 49,
    "start_time": "2022-04-24T14:56:11.956Z"
   },
   {
    "duration": 11,
    "start_time": "2022-04-24T14:56:12.006Z"
   },
   {
    "duration": 20,
    "start_time": "2022-04-24T14:56:12.018Z"
   },
   {
    "duration": 24,
    "start_time": "2022-04-24T14:56:12.040Z"
   },
   {
    "duration": 13,
    "start_time": "2022-04-24T14:56:12.066Z"
   },
   {
    "duration": 15,
    "start_time": "2022-04-24T14:56:12.082Z"
   },
   {
    "duration": 5,
    "start_time": "2022-04-24T14:56:12.099Z"
   },
   {
    "duration": 8,
    "start_time": "2022-04-24T14:56:12.105Z"
   },
   {
    "duration": 5,
    "start_time": "2022-04-24T14:56:12.117Z"
   },
   {
    "duration": 9,
    "start_time": "2022-04-24T14:56:12.124Z"
   },
   {
    "duration": 15,
    "start_time": "2022-04-24T14:56:12.135Z"
   },
   {
    "duration": 50,
    "start_time": "2022-04-24T14:56:12.151Z"
   },
   {
    "duration": 23,
    "start_time": "2022-04-24T14:56:12.202Z"
   },
   {
    "duration": 20,
    "start_time": "2022-04-24T14:56:12.226Z"
   },
   {
    "duration": 29,
    "start_time": "2022-04-24T14:56:12.248Z"
   },
   {
    "duration": 40,
    "start_time": "2022-04-24T14:56:12.279Z"
   },
   {
    "duration": 22,
    "start_time": "2022-04-24T14:56:12.320Z"
   },
   {
    "duration": 54,
    "start_time": "2022-04-24T14:56:12.343Z"
   },
   {
    "duration": 15,
    "start_time": "2022-04-24T14:56:12.399Z"
   },
   {
    "duration": 33,
    "start_time": "2022-04-24T14:56:12.416Z"
   },
   {
    "duration": 44,
    "start_time": "2022-04-24T14:56:12.451Z"
   },
   {
    "duration": 34,
    "start_time": "2022-04-24T14:56:12.497Z"
   },
   {
    "duration": 5,
    "start_time": "2022-04-24T14:56:12.533Z"
   },
   {
    "duration": 35,
    "start_time": "2022-04-24T14:56:12.540Z"
   },
   {
    "duration": 19,
    "start_time": "2022-04-24T14:56:12.578Z"
   },
   {
    "duration": 5,
    "start_time": "2022-04-24T14:56:12.599Z"
   },
   {
    "duration": 20,
    "start_time": "2022-04-24T14:56:12.605Z"
   },
   {
    "duration": 8,
    "start_time": "2022-04-24T14:56:12.627Z"
   },
   {
    "duration": 49,
    "start_time": "2022-04-24T14:56:12.637Z"
   },
   {
    "duration": 9,
    "start_time": "2022-04-24T14:56:12.688Z"
   },
   {
    "duration": 14,
    "start_time": "2022-04-24T14:56:12.699Z"
   },
   {
    "duration": 27,
    "start_time": "2022-04-24T14:56:12.715Z"
   },
   {
    "duration": 46,
    "start_time": "2022-04-24T14:56:12.745Z"
   },
   {
    "duration": 23,
    "start_time": "2022-04-24T14:56:12.793Z"
   },
   {
    "duration": 7,
    "start_time": "2022-04-24T14:56:12.817Z"
   },
   {
    "duration": 54,
    "start_time": "2022-04-24T14:56:12.825Z"
   },
   {
    "duration": 4,
    "start_time": "2022-04-24T14:56:12.882Z"
   },
   {
    "duration": 36,
    "start_time": "2022-04-24T14:56:12.888Z"
   },
   {
    "duration": 3,
    "start_time": "2022-04-24T14:56:12.926Z"
   },
   {
    "duration": 7,
    "start_time": "2022-04-24T14:56:12.931Z"
   },
   {
    "duration": 156,
    "start_time": "2022-04-24T14:56:12.940Z"
   },
   {
    "duration": 21,
    "start_time": "2022-04-24T14:56:13.098Z"
   },
   {
    "duration": 27,
    "start_time": "2022-04-24T14:56:13.120Z"
   },
   {
    "duration": 53,
    "start_time": "2022-04-24T14:56:13.149Z"
   },
   {
    "duration": 261,
    "start_time": "2022-04-24T14:56:13.204Z"
   },
   {
    "duration": 324,
    "start_time": "2022-04-24T14:56:13.467Z"
   },
   {
    "duration": 15,
    "start_time": "2022-04-24T14:56:13.794Z"
   },
   {
    "duration": 319,
    "start_time": "2022-04-24T14:56:13.810Z"
   },
   {
    "duration": 14,
    "start_time": "2022-04-24T14:56:14.131Z"
   },
   {
    "duration": 262,
    "start_time": "2022-04-24T14:56:14.147Z"
   },
   {
    "duration": 15,
    "start_time": "2022-04-24T14:56:14.411Z"
   },
   {
    "duration": 13,
    "start_time": "2022-04-24T14:56:14.427Z"
   },
   {
    "duration": 37,
    "start_time": "2022-04-24T14:56:14.442Z"
   },
   {
    "duration": 9,
    "start_time": "2022-04-24T14:56:14.480Z"
   },
   {
    "duration": 21,
    "start_time": "2022-04-24T14:56:14.491Z"
   },
   {
    "duration": 13,
    "start_time": "2022-04-24T14:56:14.514Z"
   },
   {
    "duration": 30,
    "start_time": "2022-04-24T14:56:14.529Z"
   },
   {
    "duration": 20,
    "start_time": "2022-04-24T14:56:14.561Z"
   },
   {
    "duration": 70,
    "start_time": "2022-04-25T10:52:40.179Z"
   },
   {
    "duration": 1736,
    "start_time": "2022-04-25T10:52:47.024Z"
   },
   {
    "duration": 251,
    "start_time": "2022-04-25T10:52:48.763Z"
   },
   {
    "duration": 19,
    "start_time": "2022-04-25T10:52:49.016Z"
   },
   {
    "duration": 358,
    "start_time": "2022-04-25T10:52:49.038Z"
   },
   {
    "duration": 38,
    "start_time": "2022-04-25T10:52:49.399Z"
   },
   {
    "duration": 39,
    "start_time": "2022-04-25T10:52:49.451Z"
   },
   {
    "duration": 175,
    "start_time": "2022-04-25T10:52:49.493Z"
   },
   {
    "duration": 214,
    "start_time": "2022-04-25T10:52:49.670Z"
   },
   {
    "duration": 13,
    "start_time": "2022-04-25T10:52:49.887Z"
   },
   {
    "duration": 65,
    "start_time": "2022-04-25T10:52:49.906Z"
   },
   {
    "duration": 326,
    "start_time": "2022-04-25T10:52:49.974Z"
   },
   {
    "duration": 146,
    "start_time": "2022-04-25T10:52:50.303Z"
   },
   {
    "duration": 25,
    "start_time": "2022-04-25T10:52:50.452Z"
   },
   {
    "duration": 155,
    "start_time": "2022-04-25T10:52:50.479Z"
   },
   {
    "duration": 37,
    "start_time": "2022-04-25T10:52:50.636Z"
   },
   {
    "duration": 28,
    "start_time": "2022-04-25T10:52:50.676Z"
   },
   {
    "duration": 105,
    "start_time": "2022-04-25T10:52:50.706Z"
   },
   {
    "duration": 23,
    "start_time": "2022-04-25T10:52:50.813Z"
   },
   {
    "duration": 31,
    "start_time": "2022-04-25T10:52:50.838Z"
   },
   {
    "duration": 45,
    "start_time": "2022-04-25T10:52:50.872Z"
   },
   {
    "duration": 15,
    "start_time": "2022-04-25T10:52:50.919Z"
   },
   {
    "duration": 72,
    "start_time": "2022-04-25T10:52:50.937Z"
   },
   {
    "duration": 37,
    "start_time": "2022-04-25T10:52:51.011Z"
   },
   {
    "duration": 37,
    "start_time": "2022-04-25T10:52:51.050Z"
   },
   {
    "duration": 12,
    "start_time": "2022-04-25T10:52:51.089Z"
   },
   {
    "duration": 13,
    "start_time": "2022-04-25T10:52:51.104Z"
   },
   {
    "duration": 16,
    "start_time": "2022-04-25T10:52:51.119Z"
   },
   {
    "duration": 29,
    "start_time": "2022-04-25T10:52:51.141Z"
   },
   {
    "duration": 14,
    "start_time": "2022-04-25T10:52:51.173Z"
   },
   {
    "duration": 37,
    "start_time": "2022-04-25T10:52:51.189Z"
   },
   {
    "duration": 66,
    "start_time": "2022-04-25T10:52:51.228Z"
   },
   {
    "duration": 37,
    "start_time": "2022-04-25T10:52:51.296Z"
   },
   {
    "duration": 40,
    "start_time": "2022-04-25T10:52:51.335Z"
   },
   {
    "duration": 12,
    "start_time": "2022-04-25T10:52:51.377Z"
   },
   {
    "duration": 70,
    "start_time": "2022-04-25T10:52:51.392Z"
   },
   {
    "duration": 32,
    "start_time": "2022-04-25T10:52:51.464Z"
   },
   {
    "duration": 76,
    "start_time": "2022-04-25T10:52:51.498Z"
   },
   {
    "duration": 21,
    "start_time": "2022-04-25T10:52:51.580Z"
   },
   {
    "duration": 59,
    "start_time": "2022-04-25T10:52:51.603Z"
   },
   {
    "duration": 24,
    "start_time": "2022-04-25T10:52:51.668Z"
   },
   {
    "duration": 67,
    "start_time": "2022-04-25T10:52:51.695Z"
   },
   {
    "duration": 9,
    "start_time": "2022-04-25T10:52:51.765Z"
   },
   {
    "duration": 25,
    "start_time": "2022-04-25T10:52:51.776Z"
   },
   {
    "duration": 26,
    "start_time": "2022-04-25T10:52:51.803Z"
   },
   {
    "duration": 6,
    "start_time": "2022-04-25T10:52:51.831Z"
   },
   {
    "duration": 55,
    "start_time": "2022-04-25T10:52:51.839Z"
   },
   {
    "duration": 13,
    "start_time": "2022-04-25T10:52:51.896Z"
   },
   {
    "duration": 25,
    "start_time": "2022-04-25T10:52:51.911Z"
   },
   {
    "duration": 48,
    "start_time": "2022-04-25T10:52:51.939Z"
   },
   {
    "duration": 27,
    "start_time": "2022-04-25T10:52:51.989Z"
   },
   {
    "duration": 59,
    "start_time": "2022-04-25T10:52:52.018Z"
   },
   {
    "duration": 21,
    "start_time": "2022-04-25T10:52:52.080Z"
   },
   {
    "duration": 61,
    "start_time": "2022-04-25T10:52:52.104Z"
   },
   {
    "duration": 10,
    "start_time": "2022-04-25T10:52:52.168Z"
   },
   {
    "duration": 77,
    "start_time": "2022-04-25T10:52:52.180Z"
   },
   {
    "duration": 6,
    "start_time": "2022-04-25T10:52:52.259Z"
   },
   {
    "duration": 124,
    "start_time": "2022-04-25T10:52:52.268Z"
   },
   {
    "duration": 4,
    "start_time": "2022-04-25T10:52:52.395Z"
   },
   {
    "duration": 30,
    "start_time": "2022-04-25T10:52:52.402Z"
   },
   {
    "duration": 262,
    "start_time": "2022-04-25T10:52:52.435Z"
   },
   {
    "duration": 35,
    "start_time": "2022-04-25T10:52:52.700Z"
   },
   {
    "duration": 54,
    "start_time": "2022-04-25T10:52:52.753Z"
   },
   {
    "duration": 61,
    "start_time": "2022-04-25T10:52:52.809Z"
   },
   {
    "duration": 422,
    "start_time": "2022-04-25T10:52:52.873Z"
   },
   {
    "duration": 18,
    "start_time": "2022-04-25T10:52:53.298Z"
   },
   {
    "duration": 511,
    "start_time": "2022-04-25T10:52:53.318Z"
   },
   {
    "duration": 101,
    "start_time": "2022-04-25T10:52:53.831Z"
   },
   {
    "duration": 0,
    "start_time": "2022-04-25T10:52:53.935Z"
   },
   {
    "duration": 19,
    "start_time": "2022-04-25T10:53:18.692Z"
   },
   {
    "duration": 89,
    "start_time": "2022-04-25T10:54:20.965Z"
   },
   {
    "duration": 8,
    "start_time": "2022-04-25T10:54:35.330Z"
   },
   {
    "duration": 11,
    "start_time": "2022-04-25T10:54:41.916Z"
   },
   {
    "duration": 903,
    "start_time": "2022-04-25T10:55:07.423Z"
   },
   {
    "duration": 891,
    "start_time": "2022-04-25T10:55:11.813Z"
   },
   {
    "duration": 1173,
    "start_time": "2022-04-25T10:55:21.447Z"
   },
   {
    "duration": 7,
    "start_time": "2022-04-25T10:56:12.421Z"
   },
   {
    "duration": 217,
    "start_time": "2022-04-25T11:00:04.908Z"
   },
   {
    "duration": 103,
    "start_time": "2022-04-25T11:00:27.165Z"
   },
   {
    "duration": 93,
    "start_time": "2022-04-25T11:01:35.433Z"
   },
   {
    "duration": 7,
    "start_time": "2022-04-25T11:02:39.873Z"
   },
   {
    "duration": 149,
    "start_time": "2022-04-25T11:03:22.566Z"
   },
   {
    "duration": 146,
    "start_time": "2022-04-25T11:03:45.069Z"
   },
   {
    "duration": 116,
    "start_time": "2022-04-25T11:04:15.905Z"
   },
   {
    "duration": 208,
    "start_time": "2022-04-25T11:04:28.737Z"
   },
   {
    "duration": 98,
    "start_time": "2022-04-25T11:07:44.748Z"
   },
   {
    "duration": 18,
    "start_time": "2022-04-25T11:08:03.765Z"
   },
   {
    "duration": 17,
    "start_time": "2022-04-25T11:11:09.017Z"
   },
   {
    "duration": 402,
    "start_time": "2022-04-25T11:14:34.246Z"
   },
   {
    "duration": 489,
    "start_time": "2022-04-25T11:15:55.087Z"
   },
   {
    "duration": 514,
    "start_time": "2022-04-25T11:16:19.797Z"
   },
   {
    "duration": 516,
    "start_time": "2022-04-25T11:17:16.825Z"
   },
   {
    "duration": 511,
    "start_time": "2022-04-25T11:17:54.459Z"
   },
   {
    "duration": 1329,
    "start_time": "2022-04-25T11:18:09.330Z"
   },
   {
    "duration": 683,
    "start_time": "2022-04-25T11:18:18.705Z"
   },
   {
    "duration": 95,
    "start_time": "2022-04-25T11:47:52.565Z"
   },
   {
    "duration": 1299,
    "start_time": "2022-05-01T08:53:22.977Z"
   },
   {
    "duration": 206,
    "start_time": "2022-05-01T08:53:24.279Z"
   },
   {
    "duration": 15,
    "start_time": "2022-05-01T08:53:24.487Z"
   },
   {
    "duration": 289,
    "start_time": "2022-05-01T08:53:24.505Z"
   },
   {
    "duration": 58,
    "start_time": "2022-05-01T08:53:24.798Z"
   },
   {
    "duration": 28,
    "start_time": "2022-05-01T08:53:24.858Z"
   },
   {
    "duration": 156,
    "start_time": "2022-05-01T08:53:24.888Z"
   },
   {
    "duration": 159,
    "start_time": "2022-05-01T08:53:25.046Z"
   },
   {
    "duration": 16,
    "start_time": "2022-05-01T08:53:25.207Z"
   },
   {
    "duration": 28,
    "start_time": "2022-05-01T08:53:25.225Z"
   },
   {
    "duration": 176,
    "start_time": "2022-05-01T08:53:25.255Z"
   },
   {
    "duration": 98,
    "start_time": "2022-05-01T08:53:25.433Z"
   },
   {
    "duration": 20,
    "start_time": "2022-05-01T08:53:25.532Z"
   },
   {
    "duration": 120,
    "start_time": "2022-05-01T08:53:25.555Z"
   },
   {
    "duration": 24,
    "start_time": "2022-05-01T08:53:25.677Z"
   },
   {
    "duration": 40,
    "start_time": "2022-05-01T08:53:25.703Z"
   },
   {
    "duration": 87,
    "start_time": "2022-05-01T08:53:25.745Z"
   },
   {
    "duration": 22,
    "start_time": "2022-05-01T08:53:25.835Z"
   },
   {
    "duration": 9,
    "start_time": "2022-05-01T08:53:25.859Z"
   },
   {
    "duration": 40,
    "start_time": "2022-05-01T08:53:25.871Z"
   },
   {
    "duration": 12,
    "start_time": "2022-05-01T08:53:25.913Z"
   },
   {
    "duration": 22,
    "start_time": "2022-05-01T08:53:25.927Z"
   },
   {
    "duration": 24,
    "start_time": "2022-05-01T08:53:25.951Z"
   },
   {
    "duration": 8,
    "start_time": "2022-05-01T08:53:25.976Z"
   },
   {
    "duration": 40,
    "start_time": "2022-05-01T08:53:25.986Z"
   },
   {
    "duration": 7,
    "start_time": "2022-05-01T08:53:26.028Z"
   },
   {
    "duration": 7,
    "start_time": "2022-05-01T08:53:26.036Z"
   },
   {
    "duration": 6,
    "start_time": "2022-05-01T08:53:26.045Z"
   },
   {
    "duration": 7,
    "start_time": "2022-05-01T08:53:26.053Z"
   },
   {
    "duration": 14,
    "start_time": "2022-05-01T08:53:26.062Z"
   },
   {
    "duration": 81,
    "start_time": "2022-05-01T08:53:26.078Z"
   },
   {
    "duration": 26,
    "start_time": "2022-05-01T08:53:26.161Z"
   },
   {
    "duration": 47,
    "start_time": "2022-05-01T08:53:26.189Z"
   },
   {
    "duration": 10,
    "start_time": "2022-05-01T08:53:26.238Z"
   },
   {
    "duration": 38,
    "start_time": "2022-05-01T08:53:26.250Z"
   },
   {
    "duration": 54,
    "start_time": "2022-05-01T08:53:26.290Z"
   },
   {
    "duration": 53,
    "start_time": "2022-05-01T08:53:26.346Z"
   },
   {
    "duration": 29,
    "start_time": "2022-05-01T08:53:26.401Z"
   },
   {
    "duration": 45,
    "start_time": "2022-05-01T08:53:26.432Z"
   },
   {
    "duration": 48,
    "start_time": "2022-05-01T08:53:26.479Z"
   },
   {
    "duration": 51,
    "start_time": "2022-05-01T08:53:26.534Z"
   },
   {
    "duration": 6,
    "start_time": "2022-05-01T08:53:26.587Z"
   },
   {
    "duration": 35,
    "start_time": "2022-05-01T08:53:26.595Z"
   },
   {
    "duration": 18,
    "start_time": "2022-05-01T08:53:26.632Z"
   },
   {
    "duration": 8,
    "start_time": "2022-05-01T08:53:26.652Z"
   },
   {
    "duration": 62,
    "start_time": "2022-05-01T08:53:26.662Z"
   },
   {
    "duration": 14,
    "start_time": "2022-05-01T08:53:26.727Z"
   },
   {
    "duration": 19,
    "start_time": "2022-05-01T08:53:26.746Z"
   },
   {
    "duration": 7,
    "start_time": "2022-05-01T08:53:26.767Z"
   },
   {
    "duration": 51,
    "start_time": "2022-05-01T08:53:26.777Z"
   },
   {
    "duration": 43,
    "start_time": "2022-05-01T08:53:26.829Z"
   },
   {
    "duration": 23,
    "start_time": "2022-05-01T08:53:26.874Z"
   },
   {
    "duration": 37,
    "start_time": "2022-05-01T08:53:26.932Z"
   },
   {
    "duration": 9,
    "start_time": "2022-05-01T08:53:26.971Z"
   },
   {
    "duration": 67,
    "start_time": "2022-05-01T08:53:26.982Z"
   },
   {
    "duration": 5,
    "start_time": "2022-05-01T08:53:27.051Z"
   },
   {
    "duration": 25,
    "start_time": "2022-05-01T08:53:27.058Z"
   },
   {
    "duration": 3,
    "start_time": "2022-05-01T08:53:27.085Z"
   },
   {
    "duration": 7,
    "start_time": "2022-05-01T08:53:27.090Z"
   },
   {
    "duration": 209,
    "start_time": "2022-05-01T08:53:27.099Z"
   },
   {
    "duration": 37,
    "start_time": "2022-05-01T08:53:27.309Z"
   },
   {
    "duration": 39,
    "start_time": "2022-05-01T08:53:27.348Z"
   },
   {
    "duration": 49,
    "start_time": "2022-05-01T08:53:27.389Z"
   },
   {
    "duration": 398,
    "start_time": "2022-05-01T08:53:27.442Z"
   },
   {
    "duration": 15,
    "start_time": "2022-05-01T08:53:27.842Z"
   },
   {
    "duration": 470,
    "start_time": "2022-05-01T08:53:27.858Z"
   },
   {
    "duration": 19,
    "start_time": "2022-05-01T08:53:28.331Z"
   },
   {
    "duration": 17,
    "start_time": "2022-05-01T08:53:28.352Z"
   },
   {
    "duration": 403,
    "start_time": "2022-05-01T08:53:28.372Z"
   },
   {
    "duration": 19,
    "start_time": "2022-05-01T08:53:28.778Z"
   },
   {
    "duration": 36,
    "start_time": "2022-05-01T08:53:28.799Z"
   },
   {
    "duration": 19,
    "start_time": "2022-05-01T08:53:28.837Z"
   },
   {
    "duration": 9,
    "start_time": "2022-05-01T08:53:28.858Z"
   },
   {
    "duration": 15,
    "start_time": "2022-05-01T08:53:28.871Z"
   },
   {
    "duration": 40,
    "start_time": "2022-05-01T08:53:28.888Z"
   },
   {
    "duration": 31,
    "start_time": "2022-05-01T08:53:28.930Z"
   },
   {
    "duration": 5,
    "start_time": "2022-05-01T08:53:28.963Z"
   },
   {
    "duration": 15,
    "start_time": "2022-05-01T08:55:30.611Z"
   },
   {
    "duration": 43,
    "start_time": "2022-05-01T08:57:12.731Z"
   },
   {
    "duration": 49,
    "start_time": "2022-05-03T08:43:40.985Z"
   },
   {
    "duration": 1329,
    "start_time": "2022-05-03T08:43:45.868Z"
   },
   {
    "duration": 172,
    "start_time": "2022-05-03T08:43:47.201Z"
   },
   {
    "duration": 28,
    "start_time": "2022-05-03T08:43:47.375Z"
   },
   {
    "duration": 214,
    "start_time": "2022-05-03T08:43:47.406Z"
   },
   {
    "duration": 44,
    "start_time": "2022-05-03T08:43:47.622Z"
   },
   {
    "duration": 48,
    "start_time": "2022-05-03T08:43:47.668Z"
   },
   {
    "duration": 121,
    "start_time": "2022-05-03T08:43:47.722Z"
   },
   {
    "duration": 173,
    "start_time": "2022-05-03T08:43:47.845Z"
   },
   {
    "duration": 8,
    "start_time": "2022-05-03T08:44:03.618Z"
   },
   {
    "duration": 88,
    "start_time": "2022-05-03T08:45:12.549Z"
   },
   {
    "duration": 3,
    "start_time": "2022-05-03T08:45:21.245Z"
   },
   {
    "duration": 204,
    "start_time": "2022-05-03T08:45:21.251Z"
   },
   {
    "duration": 8,
    "start_time": "2022-05-03T08:45:21.457Z"
   },
   {
    "duration": 275,
    "start_time": "2022-05-03T08:45:21.466Z"
   },
   {
    "duration": 29,
    "start_time": "2022-05-03T08:45:21.743Z"
   },
   {
    "duration": 53,
    "start_time": "2022-05-03T08:45:21.773Z"
   },
   {
    "duration": 105,
    "start_time": "2022-05-03T08:45:21.827Z"
   },
   {
    "duration": 156,
    "start_time": "2022-05-03T08:45:21.933Z"
   },
   {
    "duration": 11,
    "start_time": "2022-05-03T08:45:22.091Z"
   },
   {
    "duration": 32,
    "start_time": "2022-05-03T08:45:22.104Z"
   },
   {
    "duration": 123,
    "start_time": "2022-05-03T08:45:22.139Z"
   },
   {
    "duration": 62,
    "start_time": "2022-05-03T08:45:22.263Z"
   },
   {
    "duration": 14,
    "start_time": "2022-05-03T08:45:22.327Z"
   },
   {
    "duration": 0,
    "start_time": "2022-05-03T08:45:22.342Z"
   },
   {
    "duration": 0,
    "start_time": "2022-05-03T08:45:22.343Z"
   },
   {
    "duration": 0,
    "start_time": "2022-05-03T08:45:22.344Z"
   },
   {
    "duration": 0,
    "start_time": "2022-05-03T08:45:22.346Z"
   },
   {
    "duration": 0,
    "start_time": "2022-05-03T08:45:22.347Z"
   },
   {
    "duration": 0,
    "start_time": "2022-05-03T08:45:22.348Z"
   },
   {
    "duration": 0,
    "start_time": "2022-05-03T08:45:22.349Z"
   },
   {
    "duration": 0,
    "start_time": "2022-05-03T08:45:22.351Z"
   },
   {
    "duration": 0,
    "start_time": "2022-05-03T08:45:22.351Z"
   },
   {
    "duration": 0,
    "start_time": "2022-05-03T08:45:22.352Z"
   },
   {
    "duration": 0,
    "start_time": "2022-05-03T08:45:22.353Z"
   },
   {
    "duration": 0,
    "start_time": "2022-05-03T08:45:22.354Z"
   },
   {
    "duration": 0,
    "start_time": "2022-05-03T08:45:22.355Z"
   },
   {
    "duration": 0,
    "start_time": "2022-05-03T08:45:22.355Z"
   },
   {
    "duration": 0,
    "start_time": "2022-05-03T08:45:22.356Z"
   },
   {
    "duration": 0,
    "start_time": "2022-05-03T08:45:22.357Z"
   },
   {
    "duration": 0,
    "start_time": "2022-05-03T08:45:22.358Z"
   },
   {
    "duration": 0,
    "start_time": "2022-05-03T08:45:22.359Z"
   },
   {
    "duration": 0,
    "start_time": "2022-05-03T08:45:22.360Z"
   },
   {
    "duration": 0,
    "start_time": "2022-05-03T08:45:22.361Z"
   },
   {
    "duration": 0,
    "start_time": "2022-05-03T08:45:22.362Z"
   },
   {
    "duration": 3,
    "start_time": "2022-05-03T08:45:36.776Z"
   },
   {
    "duration": 188,
    "start_time": "2022-05-03T08:45:36.780Z"
   },
   {
    "duration": 7,
    "start_time": "2022-05-03T08:45:36.970Z"
   },
   {
    "duration": 241,
    "start_time": "2022-05-03T08:45:36.978Z"
   },
   {
    "duration": 30,
    "start_time": "2022-05-03T08:45:37.221Z"
   },
   {
    "duration": 23,
    "start_time": "2022-05-03T08:45:37.252Z"
   },
   {
    "duration": 106,
    "start_time": "2022-05-03T08:45:37.277Z"
   },
   {
    "duration": 158,
    "start_time": "2022-05-03T08:45:37.385Z"
   },
   {
    "duration": 7,
    "start_time": "2022-05-03T08:45:37.545Z"
   },
   {
    "duration": 18,
    "start_time": "2022-05-03T08:45:37.554Z"
   },
   {
    "duration": 142,
    "start_time": "2022-05-03T08:45:37.575Z"
   },
   {
    "duration": 40,
    "start_time": "2022-05-03T08:45:37.718Z"
   },
   {
    "duration": 11,
    "start_time": "2022-05-03T08:45:37.760Z"
   },
   {
    "duration": 0,
    "start_time": "2022-05-03T08:45:37.773Z"
   },
   {
    "duration": 0,
    "start_time": "2022-05-03T08:45:37.774Z"
   },
   {
    "duration": 0,
    "start_time": "2022-05-03T08:45:37.775Z"
   },
   {
    "duration": 0,
    "start_time": "2022-05-03T08:45:37.776Z"
   },
   {
    "duration": 0,
    "start_time": "2022-05-03T08:45:37.800Z"
   },
   {
    "duration": 0,
    "start_time": "2022-05-03T08:45:37.802Z"
   },
   {
    "duration": 0,
    "start_time": "2022-05-03T08:45:37.803Z"
   },
   {
    "duration": 0,
    "start_time": "2022-05-03T08:45:37.805Z"
   },
   {
    "duration": 0,
    "start_time": "2022-05-03T08:45:37.806Z"
   },
   {
    "duration": 0,
    "start_time": "2022-05-03T08:45:37.807Z"
   },
   {
    "duration": 0,
    "start_time": "2022-05-03T08:45:37.809Z"
   },
   {
    "duration": 0,
    "start_time": "2022-05-03T08:45:37.809Z"
   },
   {
    "duration": 0,
    "start_time": "2022-05-03T08:45:37.811Z"
   },
   {
    "duration": 0,
    "start_time": "2022-05-03T08:45:37.812Z"
   },
   {
    "duration": 0,
    "start_time": "2022-05-03T08:45:37.813Z"
   },
   {
    "duration": 0,
    "start_time": "2022-05-03T08:45:37.815Z"
   },
   {
    "duration": 0,
    "start_time": "2022-05-03T08:45:37.816Z"
   },
   {
    "duration": 0,
    "start_time": "2022-05-03T08:45:37.817Z"
   },
   {
    "duration": 0,
    "start_time": "2022-05-03T08:45:37.818Z"
   },
   {
    "duration": 0,
    "start_time": "2022-05-03T08:45:37.819Z"
   },
   {
    "duration": 0,
    "start_time": "2022-05-03T08:45:37.820Z"
   },
   {
    "duration": 3,
    "start_time": "2022-05-03T08:45:59.216Z"
   },
   {
    "duration": 163,
    "start_time": "2022-05-03T08:45:59.220Z"
   },
   {
    "duration": 18,
    "start_time": "2022-05-03T08:45:59.384Z"
   },
   {
    "duration": 319,
    "start_time": "2022-05-03T08:45:59.404Z"
   },
   {
    "duration": 29,
    "start_time": "2022-05-03T08:45:59.724Z"
   },
   {
    "duration": 23,
    "start_time": "2022-05-03T08:45:59.754Z"
   },
   {
    "duration": 114,
    "start_time": "2022-05-03T08:45:59.779Z"
   },
   {
    "duration": 151,
    "start_time": "2022-05-03T08:45:59.900Z"
   },
   {
    "duration": 8,
    "start_time": "2022-05-03T08:46:00.054Z"
   },
   {
    "duration": 21,
    "start_time": "2022-05-03T08:46:00.064Z"
   },
   {
    "duration": 147,
    "start_time": "2022-05-03T08:46:00.086Z"
   },
   {
    "duration": 42,
    "start_time": "2022-05-03T08:46:00.234Z"
   },
   {
    "duration": 97,
    "start_time": "2022-05-03T08:46:00.277Z"
   },
   {
    "duration": 28,
    "start_time": "2022-05-03T08:46:00.376Z"
   },
   {
    "duration": 38,
    "start_time": "2022-05-03T08:46:00.406Z"
   },
   {
    "duration": 43,
    "start_time": "2022-05-03T08:46:00.446Z"
   },
   {
    "duration": 26,
    "start_time": "2022-05-03T08:46:00.491Z"
   },
   {
    "duration": 8,
    "start_time": "2022-05-03T08:46:00.518Z"
   },
   {
    "duration": 87,
    "start_time": "2022-05-03T08:46:00.528Z"
   },
   {
    "duration": 9,
    "start_time": "2022-05-03T08:46:00.617Z"
   },
   {
    "duration": 27,
    "start_time": "2022-05-03T08:46:00.628Z"
   },
   {
    "duration": 24,
    "start_time": "2022-05-03T08:46:00.657Z"
   },
   {
    "duration": 14,
    "start_time": "2022-05-03T08:46:00.682Z"
   },
   {
    "duration": 21,
    "start_time": "2022-05-03T08:46:00.699Z"
   },
   {
    "duration": 15,
    "start_time": "2022-05-03T08:46:00.722Z"
   },
   {
    "duration": 18,
    "start_time": "2022-05-03T08:46:00.739Z"
   },
   {
    "duration": 20,
    "start_time": "2022-05-03T08:46:00.758Z"
   },
   {
    "duration": 17,
    "start_time": "2022-05-03T08:46:00.780Z"
   },
   {
    "duration": 29,
    "start_time": "2022-05-03T08:46:00.799Z"
   },
   {
    "duration": 35,
    "start_time": "2022-05-03T08:46:00.830Z"
   },
   {
    "duration": 32,
    "start_time": "2022-05-03T08:46:00.867Z"
   },
   {
    "duration": 26,
    "start_time": "2022-05-03T08:46:00.904Z"
   },
   {
    "duration": 17,
    "start_time": "2022-05-03T08:46:00.931Z"
   },
   {
    "duration": 9,
    "start_time": "2022-05-03T08:46:08.813Z"
   },
   {
    "duration": 15,
    "start_time": "2022-05-03T08:46:24.053Z"
   },
   {
    "duration": 3,
    "start_time": "2022-05-03T08:51:55.780Z"
   },
   {
    "duration": 189,
    "start_time": "2022-05-03T08:51:55.787Z"
   },
   {
    "duration": 31,
    "start_time": "2022-05-03T08:51:55.978Z"
   },
   {
    "duration": 250,
    "start_time": "2022-05-03T08:51:56.011Z"
   },
   {
    "duration": 37,
    "start_time": "2022-05-03T08:51:56.264Z"
   },
   {
    "duration": 33,
    "start_time": "2022-05-03T08:51:56.304Z"
   },
   {
    "duration": 127,
    "start_time": "2022-05-03T08:51:56.339Z"
   },
   {
    "duration": 165,
    "start_time": "2022-05-03T08:51:56.467Z"
   },
   {
    "duration": 7,
    "start_time": "2022-05-03T08:51:56.633Z"
   },
   {
    "duration": 22,
    "start_time": "2022-05-03T08:51:56.642Z"
   },
   {
    "duration": 126,
    "start_time": "2022-05-03T08:51:56.667Z"
   },
   {
    "duration": 51,
    "start_time": "2022-05-03T08:51:56.799Z"
   },
   {
    "duration": 107,
    "start_time": "2022-05-03T08:51:56.852Z"
   },
   {
    "duration": 19,
    "start_time": "2022-05-03T08:51:56.960Z"
   },
   {
    "duration": 44,
    "start_time": "2022-05-03T08:51:56.980Z"
   },
   {
    "duration": 37,
    "start_time": "2022-05-03T08:51:57.025Z"
   },
   {
    "duration": 21,
    "start_time": "2022-05-03T08:51:57.064Z"
   },
   {
    "duration": 15,
    "start_time": "2022-05-03T08:51:57.086Z"
   },
   {
    "duration": 48,
    "start_time": "2022-05-03T08:51:57.102Z"
   },
   {
    "duration": 8,
    "start_time": "2022-05-03T08:51:57.152Z"
   },
   {
    "duration": 13,
    "start_time": "2022-05-03T08:51:57.163Z"
   },
   {
    "duration": 18,
    "start_time": "2022-05-03T08:51:57.178Z"
   },
   {
    "duration": 20,
    "start_time": "2022-05-03T08:51:57.198Z"
   },
   {
    "duration": 6,
    "start_time": "2022-05-03T08:51:57.220Z"
   },
   {
    "duration": 5,
    "start_time": "2022-05-03T08:51:57.228Z"
   },
   {
    "duration": 6,
    "start_time": "2022-05-03T08:51:57.234Z"
   },
   {
    "duration": 7,
    "start_time": "2022-05-03T08:51:57.241Z"
   },
   {
    "duration": 6,
    "start_time": "2022-05-03T08:51:57.249Z"
   },
   {
    "duration": 11,
    "start_time": "2022-05-03T08:51:57.259Z"
   },
   {
    "duration": 37,
    "start_time": "2022-05-03T08:51:57.271Z"
   },
   {
    "duration": 26,
    "start_time": "2022-05-03T08:51:57.311Z"
   },
   {
    "duration": 18,
    "start_time": "2022-05-03T08:51:57.339Z"
   },
   {
    "duration": 7,
    "start_time": "2022-05-03T08:51:57.358Z"
   },
   {
    "duration": 34,
    "start_time": "2022-05-03T08:51:57.367Z"
   },
   {
    "duration": 26,
    "start_time": "2022-05-03T08:51:57.402Z"
   },
   {
    "duration": 37,
    "start_time": "2022-05-03T08:51:57.430Z"
   },
   {
    "duration": 35,
    "start_time": "2022-05-03T08:51:57.469Z"
   },
   {
    "duration": 31,
    "start_time": "2022-05-03T08:51:57.506Z"
   },
   {
    "duration": 16,
    "start_time": "2022-05-03T08:51:57.538Z"
   },
   {
    "duration": 46,
    "start_time": "2022-05-03T08:51:57.555Z"
   },
   {
    "duration": 4,
    "start_time": "2022-05-03T08:51:57.603Z"
   },
   {
    "duration": 22,
    "start_time": "2022-05-03T08:51:57.609Z"
   },
   {
    "duration": 15,
    "start_time": "2022-05-03T08:51:57.633Z"
   },
   {
    "duration": 5,
    "start_time": "2022-05-03T08:51:57.649Z"
   },
   {
    "duration": 14,
    "start_time": "2022-05-03T08:51:57.656Z"
   },
   {
    "duration": 28,
    "start_time": "2022-05-03T08:51:57.672Z"
   },
   {
    "duration": 19,
    "start_time": "2022-05-03T08:51:57.702Z"
   },
   {
    "duration": 9,
    "start_time": "2022-05-03T08:51:57.723Z"
   },
   {
    "duration": 13,
    "start_time": "2022-05-03T08:51:57.734Z"
   },
   {
    "duration": 23,
    "start_time": "2022-05-03T08:51:57.749Z"
   },
   {
    "duration": 39,
    "start_time": "2022-05-03T08:51:57.774Z"
   },
   {
    "duration": 22,
    "start_time": "2022-05-03T08:51:57.815Z"
   },
   {
    "duration": 5,
    "start_time": "2022-05-03T08:51:57.838Z"
   },
   {
    "duration": 26,
    "start_time": "2022-05-03T08:51:57.845Z"
   },
   {
    "duration": 3,
    "start_time": "2022-05-03T08:51:57.872Z"
   },
   {
    "duration": 28,
    "start_time": "2022-05-03T08:51:57.900Z"
   },
   {
    "duration": 3,
    "start_time": "2022-05-03T08:51:57.929Z"
   },
   {
    "duration": 4,
    "start_time": "2022-05-03T08:51:57.934Z"
   },
   {
    "duration": 148,
    "start_time": "2022-05-03T08:51:57.940Z"
   },
   {
    "duration": 34,
    "start_time": "2022-05-03T08:51:58.090Z"
   },
   {
    "duration": 24,
    "start_time": "2022-05-03T08:51:58.125Z"
   },
   {
    "duration": 19,
    "start_time": "2022-05-03T08:51:58.151Z"
   },
   {
    "duration": 270,
    "start_time": "2022-05-03T08:51:58.172Z"
   },
   {
    "duration": 11,
    "start_time": "2022-05-03T08:51:58.443Z"
   },
   {
    "duration": 286,
    "start_time": "2022-05-03T08:51:58.456Z"
   },
   {
    "duration": 11,
    "start_time": "2022-05-03T08:51:58.743Z"
   },
   {
    "duration": 12,
    "start_time": "2022-05-03T08:51:58.756Z"
   },
   {
    "duration": 230,
    "start_time": "2022-05-03T08:51:58.770Z"
   },
   {
    "duration": 17,
    "start_time": "2022-05-03T08:51:59.002Z"
   },
   {
    "duration": 15,
    "start_time": "2022-05-03T08:51:59.020Z"
   },
   {
    "duration": 10,
    "start_time": "2022-05-03T08:51:59.037Z"
   },
   {
    "duration": 6,
    "start_time": "2022-05-03T08:51:59.048Z"
   },
   {
    "duration": 13,
    "start_time": "2022-05-03T08:51:59.056Z"
   },
   {
    "duration": 33,
    "start_time": "2022-05-03T08:51:59.070Z"
   },
   {
    "duration": 33,
    "start_time": "2022-05-03T08:51:59.104Z"
   },
   {
    "duration": 5,
    "start_time": "2022-05-03T08:51:59.139Z"
   },
   {
    "duration": 4,
    "start_time": "2022-05-03T08:55:23.290Z"
   },
   {
    "duration": 5,
    "start_time": "2022-05-03T08:55:31.682Z"
   },
   {
    "duration": 238,
    "start_time": "2022-05-03T08:55:42.095Z"
   },
   {
    "duration": 179,
    "start_time": "2022-05-03T08:56:04.449Z"
   },
   {
    "duration": 129,
    "start_time": "2022-05-03T08:56:12.168Z"
   },
   {
    "duration": 3,
    "start_time": "2022-05-03T08:56:16.960Z"
   },
   {
    "duration": 265,
    "start_time": "2022-05-03T08:56:23.959Z"
   },
   {
    "duration": 217,
    "start_time": "2022-05-03T08:57:38.121Z"
   },
   {
    "duration": 295,
    "start_time": "2022-05-03T08:58:34.917Z"
   },
   {
    "duration": 494,
    "start_time": "2022-05-03T09:02:02.924Z"
   },
   {
    "duration": 466,
    "start_time": "2022-05-03T09:02:13.260Z"
   },
   {
    "duration": 170,
    "start_time": "2022-05-03T09:02:24.823Z"
   },
   {
    "duration": 404,
    "start_time": "2022-05-03T09:02:54.998Z"
   },
   {
    "duration": 249,
    "start_time": "2022-05-03T09:03:28.117Z"
   },
   {
    "duration": 235,
    "start_time": "2022-05-03T09:03:37.565Z"
   },
   {
    "duration": 205,
    "start_time": "2022-05-03T09:03:54.926Z"
   },
   {
    "duration": 441,
    "start_time": "2022-05-03T09:04:54.415Z"
   },
   {
    "duration": 185,
    "start_time": "2022-05-03T09:05:56.268Z"
   },
   {
    "duration": 1258,
    "start_time": "2022-10-23T15:49:10.036Z"
   },
   {
    "duration": 908,
    "start_time": "2022-10-23T15:49:11.296Z"
   },
   {
    "duration": 12,
    "start_time": "2022-10-23T15:49:12.206Z"
   },
   {
    "duration": 235,
    "start_time": "2022-10-23T15:49:12.220Z"
   },
   {
    "duration": 26,
    "start_time": "2022-10-23T15:49:12.456Z"
   },
   {
    "duration": 26,
    "start_time": "2022-10-23T15:49:12.494Z"
   },
   {
    "duration": 117,
    "start_time": "2022-10-23T15:49:12.522Z"
   },
   {
    "duration": 749,
    "start_time": "2022-10-23T15:49:12.641Z"
   },
   {
    "duration": 8,
    "start_time": "2022-10-23T15:49:13.392Z"
   },
   {
    "duration": 21,
    "start_time": "2022-10-23T15:49:13.403Z"
   },
   {
    "duration": 138,
    "start_time": "2022-10-23T15:49:13.426Z"
   },
   {
    "duration": 52,
    "start_time": "2022-10-23T15:49:13.566Z"
   },
   {
    "duration": 328,
    "start_time": "2022-10-23T15:49:13.620Z"
   },
   {
    "duration": 18,
    "start_time": "2022-10-23T15:49:13.950Z"
   },
   {
    "duration": 21,
    "start_time": "2022-10-23T15:49:13.969Z"
   },
   {
    "duration": 46,
    "start_time": "2022-10-23T15:49:13.992Z"
   },
   {
    "duration": 87,
    "start_time": "2022-10-23T15:49:14.040Z"
   },
   {
    "duration": 9,
    "start_time": "2022-10-23T15:49:14.129Z"
   },
   {
    "duration": 78,
    "start_time": "2022-10-23T15:49:14.140Z"
   },
   {
    "duration": 10,
    "start_time": "2022-10-23T15:49:14.220Z"
   },
   {
    "duration": 16,
    "start_time": "2022-10-23T15:49:14.231Z"
   },
   {
    "duration": 22,
    "start_time": "2022-10-23T15:49:14.248Z"
   },
   {
    "duration": 7,
    "start_time": "2022-10-23T15:49:14.271Z"
   },
   {
    "duration": 19,
    "start_time": "2022-10-23T15:49:14.280Z"
   },
   {
    "duration": 7,
    "start_time": "2022-10-23T15:49:14.300Z"
   },
   {
    "duration": 14,
    "start_time": "2022-10-23T15:49:14.308Z"
   },
   {
    "duration": 14,
    "start_time": "2022-10-23T15:49:14.323Z"
   },
   {
    "duration": 21,
    "start_time": "2022-10-23T15:49:14.340Z"
   },
   {
    "duration": 52,
    "start_time": "2022-10-23T15:49:14.363Z"
   },
   {
    "duration": 42,
    "start_time": "2022-10-23T15:49:14.417Z"
   },
   {
    "duration": 28,
    "start_time": "2022-10-23T15:49:14.461Z"
   },
   {
    "duration": 33,
    "start_time": "2022-10-23T15:49:14.491Z"
   },
   {
    "duration": 10,
    "start_time": "2022-10-23T15:49:14.526Z"
   },
   {
    "duration": 32,
    "start_time": "2022-10-23T15:49:14.538Z"
   },
   {
    "duration": 50,
    "start_time": "2022-10-23T15:49:14.573Z"
   },
   {
    "duration": 45,
    "start_time": "2022-10-23T15:49:14.625Z"
   },
   {
    "duration": 15,
    "start_time": "2022-10-23T15:49:14.671Z"
   },
   {
    "duration": 41,
    "start_time": "2022-10-23T15:49:14.688Z"
   },
   {
    "duration": 17,
    "start_time": "2022-10-23T15:49:14.730Z"
   },
   {
    "duration": 30,
    "start_time": "2022-10-23T15:49:14.749Z"
   },
   {
    "duration": 5,
    "start_time": "2022-10-23T15:49:14.795Z"
   },
   {
    "duration": 35,
    "start_time": "2022-10-23T15:49:14.802Z"
   },
   {
    "duration": 32,
    "start_time": "2022-10-23T15:49:14.839Z"
   },
   {
    "duration": 5,
    "start_time": "2022-10-23T15:49:14.873Z"
   },
   {
    "duration": 44,
    "start_time": "2022-10-23T15:49:14.880Z"
   },
   {
    "duration": 11,
    "start_time": "2022-10-23T15:49:14.926Z"
   },
   {
    "duration": 29,
    "start_time": "2022-10-23T15:49:14.939Z"
   },
   {
    "duration": 24,
    "start_time": "2022-10-23T15:49:14.970Z"
   },
   {
    "duration": 19,
    "start_time": "2022-10-23T15:49:14.995Z"
   },
   {
    "duration": 47,
    "start_time": "2022-10-23T15:49:15.016Z"
   },
   {
    "duration": 16,
    "start_time": "2022-10-23T15:49:15.065Z"
   },
   {
    "duration": 25,
    "start_time": "2022-10-23T15:49:15.083Z"
   },
   {
    "duration": 6,
    "start_time": "2022-10-23T15:49:15.110Z"
   },
   {
    "duration": 32,
    "start_time": "2022-10-23T15:49:15.117Z"
   },
   {
    "duration": 3,
    "start_time": "2022-10-23T15:49:15.150Z"
   },
   {
    "duration": 54,
    "start_time": "2022-10-23T15:49:15.155Z"
   },
   {
    "duration": 20,
    "start_time": "2022-10-23T15:49:15.210Z"
   },
   {
    "duration": 14,
    "start_time": "2022-10-23T15:49:15.232Z"
   },
   {
    "duration": 145,
    "start_time": "2022-10-23T15:49:15.248Z"
   },
   {
    "duration": 20,
    "start_time": "2022-10-23T15:49:15.395Z"
   },
   {
    "duration": 26,
    "start_time": "2022-10-23T15:49:15.417Z"
   },
   {
    "duration": 20,
    "start_time": "2022-10-23T15:49:15.444Z"
   },
   {
    "duration": 270,
    "start_time": "2022-10-23T15:49:15.466Z"
   },
   {
    "duration": 15,
    "start_time": "2022-10-23T15:49:15.738Z"
   },
   {
    "duration": 346,
    "start_time": "2022-10-23T15:49:15.754Z"
   },
   {
    "duration": 16,
    "start_time": "2022-10-23T15:49:16.102Z"
   },
   {
    "duration": 24,
    "start_time": "2022-10-23T15:49:16.119Z"
   },
   {
    "duration": 264,
    "start_time": "2022-10-23T15:49:16.145Z"
   },
   {
    "duration": 15,
    "start_time": "2022-10-23T15:49:16.411Z"
   },
   {
    "duration": 22,
    "start_time": "2022-10-23T15:49:16.427Z"
   },
   {
    "duration": 335,
    "start_time": "2022-10-23T15:49:16.450Z"
   },
   {
    "duration": 23,
    "start_time": "2022-10-23T15:49:16.787Z"
   },
   {
    "duration": 19,
    "start_time": "2022-10-23T15:49:16.812Z"
   },
   {
    "duration": 51,
    "start_time": "2022-10-23T15:49:16.833Z"
   },
   {
    "duration": 16,
    "start_time": "2022-10-23T15:49:16.886Z"
   },
   {
    "duration": 50,
    "start_time": "2022-10-23T15:49:16.904Z"
   },
   {
    "duration": 5,
    "start_time": "2022-10-23T15:49:16.956Z"
   }
  ],
  "celltoolbar": "Отсутствует",
  "kernelspec": {
   "display_name": "Python 3 (ipykernel)",
   "language": "python",
   "name": "python3"
  },
  "language_info": {
   "codemirror_mode": {
    "name": "ipython",
    "version": 3
   },
   "file_extension": ".py",
   "mimetype": "text/x-python",
   "name": "python",
   "nbconvert_exporter": "python",
   "pygments_lexer": "ipython3",
   "version": "3.9.5"
  },
  "toc": {
   "base_numbering": 1,
   "nav_menu": {
    "height": "214px",
    "width": "347px"
   },
   "number_sections": true,
   "sideBar": true,
   "skip_h1_title": true,
   "title_cell": "Содержание",
   "title_sidebar": "Contents",
   "toc_cell": true,
   "toc_position": {
    "height": "calc(100% - 180px)",
    "left": "10px",
    "top": "150px",
    "width": "302.391px"
   },
   "toc_section_display": true,
   "toc_window_display": true
  }
 },
 "nbformat": 4,
 "nbformat_minor": 5
}
