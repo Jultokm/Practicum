{
 "cells": [
  {
   "cell_type": "markdown",
   "metadata": {
    "toc": true
   },
   "source": [
    "<h1>Содержание<span class=\"tocSkip\"></span></h1>\n",
    "<div class=\"toc\"><ul class=\"toc-item\"><li><span><a href=\"#Обзор-данных\" data-toc-modified-id=\"Обзор-данных-1\"><span class=\"toc-item-num\">1&nbsp;&nbsp;</span>Обзор данных</a></span></li><li><span><a href=\"#Приоритизация-гипотез\" data-toc-modified-id=\"Приоритизация-гипотез-2\"><span class=\"toc-item-num\">2&nbsp;&nbsp;</span>Приоритизация гипотез</a></span></li><li><span><a href=\"#Анализ-A/B-теста\" data-toc-modified-id=\"Анализ-A/B-теста-3\"><span class=\"toc-item-num\">3&nbsp;&nbsp;</span>Анализ A/B-теста</a></span><ul class=\"toc-item\"><li><span><a href=\"#Построение-графика-кумулятивной-выручки-по-группам.\" data-toc-modified-id=\"Построение-графика-кумулятивной-выручки-по-группам.-3.1\"><span class=\"toc-item-num\">3.1&nbsp;&nbsp;</span>Построение графика кумулятивной выручки по группам.</a></span></li><li><span><a href=\"#Построение-графика-кумулятивного-среднего-чека-по-группам.\" data-toc-modified-id=\"Построение-графика-кумулятивного-среднего-чека-по-группам.-3.2\"><span class=\"toc-item-num\">3.2&nbsp;&nbsp;</span>Построение графика кумулятивного среднего чека по группам.</a></span></li><li><span><a href=\"#Построение-графика-относительного-изменения-кумулятивного-среднего-чека-группы-B-к-группе-A.\" data-toc-modified-id=\"Построение-графика-относительного-изменения-кумулятивного-среднего-чека-группы-B-к-группе-A.-3.3\"><span class=\"toc-item-num\">3.3&nbsp;&nbsp;</span>Построение графика относительного изменения кумулятивного среднего чека группы B к группе A.</a></span></li><li><span><a href=\"#Построение-графика-кумулятивной-конверсии-по-группам.\" data-toc-modified-id=\"Построение-графика-кумулятивной-конверсии-по-группам.-3.4\"><span class=\"toc-item-num\">3.4&nbsp;&nbsp;</span>Построение графика кумулятивной конверсии по группам.</a></span></li><li><span><a href=\"#Построение-графика-относительного-изменения-кумулятивной-конверсии-группы-B-к-группе-A.\" data-toc-modified-id=\"Построение-графика-относительного-изменения-кумулятивной-конверсии-группы-B-к-группе-A.-3.5\"><span class=\"toc-item-num\">3.5&nbsp;&nbsp;</span>Построение графика относительного изменения кумулятивной конверсии группы B к группе A.</a></span></li><li><span><a href=\"#Построение-графика-количества-заказов-по-пользователям.\" data-toc-modified-id=\"Построение-графика-количества-заказов-по-пользователям.-3.6\"><span class=\"toc-item-num\">3.6&nbsp;&nbsp;</span>Построение графика количества заказов по пользователям.</a></span></li><li><span><a href=\"#Выбор-границы-для-определения-аномальных-пользователей.\" data-toc-modified-id=\"Выбор-границы-для-определения-аномальных-пользователей.-3.7\"><span class=\"toc-item-num\">3.7&nbsp;&nbsp;</span>Выбор границы для определения аномальных пользователей.</a></span></li><li><span><a href=\"#Построение-графика-стоимостей-заказов.\" data-toc-modified-id=\"Построение-графика-стоимостей-заказов.-3.8\"><span class=\"toc-item-num\">3.8&nbsp;&nbsp;</span>Построение графика стоимостей заказов.</a></span></li><li><span><a href=\"#Определение-аномальных-заказов.\" data-toc-modified-id=\"Определение-аномальных-заказов.-3.9\"><span class=\"toc-item-num\">3.9&nbsp;&nbsp;</span>Определение аномальных заказов.</a></span></li><li><span><a href=\"#Проверка-статистической-значимости-различий-в-конверсии-между-группами-по-«сырым»-данным.\" data-toc-modified-id=\"Проверка-статистической-значимости-различий-в-конверсии-между-группами-по-«сырым»-данным.-3.10\"><span class=\"toc-item-num\">3.10&nbsp;&nbsp;</span>Проверка статистической значимости различий в конверсии между группами по «сырым» данным.</a></span></li><li><span><a href=\"#Проверка-статистической-значимости-различий-в-среднем-чеке-заказа-между-группами-по-«сырым»-данным.\" data-toc-modified-id=\"Проверка-статистической-значимости-различий-в-среднем-чеке-заказа-между-группами-по-«сырым»-данным.-3.11\"><span class=\"toc-item-num\">3.11&nbsp;&nbsp;</span>Проверка статистической значимости различий в среднем чеке заказа между группами по «сырым» данным.</a></span></li><li><span><a href=\"#Проверка-статистической-значимости-различий--в-конверсии-между-группами-по-«очищенным»-данным.-Сделайте-выводы-и-предположения.\" data-toc-modified-id=\"Проверка-статистической-значимости-различий--в-конверсии-между-группами-по-«очищенным»-данным.-Сделайте-выводы-и-предположения.-3.12\"><span class=\"toc-item-num\">3.12&nbsp;&nbsp;</span>Проверка статистической значимости различий  в конверсии между группами по «очищенным» данным. Сделайте выводы и предположения.</a></span></li><li><span><a href=\"#Принятие-решения-по-результатам-теста.\" data-toc-modified-id=\"Принятие-решения-по-результатам-теста.-3.13\"><span class=\"toc-item-num\">3.13&nbsp;&nbsp;</span>Принятие решения по результатам теста.</a></span></li></ul></li></ul></div>"
   ]
  },
  {
   "cell_type": "markdown",
   "metadata": {},
   "source": [
    "Приоретизировать список гипотез для увеличиения выручки интернет-магазина.\n",
    "Провести и проанализировать А/В тест, принять решение по его результатам."
   ]
  },
  {
   "cell_type": "markdown",
   "metadata": {},
   "source": [
    "Импорт библиотек- pandas,datetime,numpy, matplotlib, scipy, seaborn."
   ]
  },
  {
   "cell_type": "markdown",
   "metadata": {},
   "source": [
    "### Обзор данных"
   ]
  },
  {
   "cell_type": "markdown",
   "metadata": {},
   "source": [
    "•\tHypothesis — краткое описание гипотезы;\n",
    "•\tReach — охват пользователей по 10-балльной шкале;\n",
    "•\tImpact — влияние на пользователей по 10-балльной шкале;\n",
    "•\tConfidence — уверенность в гипотезе по 10-балльной шкале;\n",
    "•\tEfforts — затраты ресурсов на проверку гипотезы по 10-балльной шкале. Чем больше значение Efforts, тем дороже проверка гипотезы.\n"
   ]
  },
  {
   "cell_type": "markdown",
   "metadata": {},
   "source": [
    "•\ttransactionId — идентификатор заказа;  \n",
    "•\tvisitorId — идентификатор пользователя, совершившего заказ;  \n",
    "•\tdate — дата, когда был совершён заказ;  \n",
    "•\trevenue — выручка заказа;  \n",
    "•\tgroup — группа A/B-теста, в которую попал заказ.  "
   ]
  },
  {
   "cell_type": "markdown",
   "metadata": {},
   "source": [
    "•\tdate — дата;  \n",
    "•\tgroup — группа A/B-теста;  \n",
    "•\tvisitors — количество пользователей в указанную дату в указанной группе A/B-теста  "
   ]
  },
  {
   "cell_type": "markdown",
   "metadata": {},
   "source": [
    "### Приоритизация гипотез"
   ]
  },
  {
   "cell_type": "markdown",
   "metadata": {},
   "source": [
    "Применила фреймворк ICE для приоритизации гипотез. Отсортировала по убыванию приоритета."
   ]
  },
  {
   "cell_type": "markdown",
   "metadata": {},
   "source": [
    "Применила фреймворк RICE для приоритизации гипотез. Отсортировала по убыванию приоритета."
   ]
  },
  {
   "cell_type": "markdown",
   "metadata": {},
   "source": [
    "**Вывод**  При приоритизации фреймворков ICE первые три места занимают гипотезы 0, 8, 7.  При применениии фреймворка RICE - гипотезы 7, 2 0, что связано с более высоким значением RICE у этих гипотез, т.к. фреймворк RICE учитывает еще и охват предполагаемой целевой аудитории."
   ]
  },
  {
   "cell_type": "markdown",
   "metadata": {},
   "source": [
    "### Анализ A/B-теста"
   ]
  },
  {
   "cell_type": "markdown",
   "metadata": {},
   "source": [
    "#### Построение графика кумулятивной выручки по группам."
   ]
  },
  {
   "cell_type": "code",
   "execution_count": 11,
   "metadata": {},
   "outputs": [
    {
     "data": {
      "text/html": [
       "<div>\n",
       "<style scoped>\n",
       "    .dataframe tbody tr th:only-of-type {\n",
       "        vertical-align: middle;\n",
       "    }\n",
       "\n",
       "    .dataframe tbody tr th {\n",
       "        vertical-align: top;\n",
       "    }\n",
       "\n",
       "    .dataframe thead th {\n",
       "        text-align: right;\n",
       "    }\n",
       "</style>\n",
       "<table border=\"1\" class=\"dataframe\">\n",
       "  <thead>\n",
       "    <tr style=\"text-align: right;\">\n",
       "      <th></th>\n",
       "      <th>date</th>\n",
       "      <th>group</th>\n",
       "      <th>transactionId</th>\n",
       "      <th>visitorId</th>\n",
       "      <th>revenue</th>\n",
       "    </tr>\n",
       "  </thead>\n",
       "  <tbody>\n",
       "    <tr>\n",
       "      <th>55</th>\n",
       "      <td>2019-08-01</td>\n",
       "      <td>A</td>\n",
       "      <td>24</td>\n",
       "      <td>20</td>\n",
       "      <td>148579</td>\n",
       "    </tr>\n",
       "    <tr>\n",
       "      <th>66</th>\n",
       "      <td>2019-08-01</td>\n",
       "      <td>B</td>\n",
       "      <td>21</td>\n",
       "      <td>20</td>\n",
       "      <td>101217</td>\n",
       "    </tr>\n",
       "    <tr>\n",
       "      <th>175</th>\n",
       "      <td>2019-08-02</td>\n",
       "      <td>A</td>\n",
       "      <td>44</td>\n",
       "      <td>38</td>\n",
       "      <td>242401</td>\n",
       "    </tr>\n",
       "    <tr>\n",
       "      <th>173</th>\n",
       "      <td>2019-08-02</td>\n",
       "      <td>B</td>\n",
       "      <td>45</td>\n",
       "      <td>43</td>\n",
       "      <td>266748</td>\n",
       "    </tr>\n",
       "    <tr>\n",
       "      <th>291</th>\n",
       "      <td>2019-08-03</td>\n",
       "      <td>A</td>\n",
       "      <td>68</td>\n",
       "      <td>62</td>\n",
       "      <td>354874</td>\n",
       "    </tr>\n",
       "  </tbody>\n",
       "</table>\n",
       "</div>"
      ],
      "text/plain": [
       "           date group  transactionId  visitorId  revenue\n",
       "55   2019-08-01     A             24         20   148579\n",
       "66   2019-08-01     B             21         20   101217\n",
       "175  2019-08-02     A             44         38   242401\n",
       "173  2019-08-02     B             45         43   266748\n",
       "291  2019-08-03     A             68         62   354874"
      ]
     },
     "execution_count": 11,
     "metadata": {},
     "output_type": "execute_result"
    }
   ],
   "source": [
    "ordersAggregated.head()"
   ]
  },
  {
   "cell_type": "code",
   "execution_count": 15,
   "metadata": {
    "scrolled": true
   },
   "outputs": [
    {
     "data": {
      "text/html": [
       "<div>\n",
       "<style scoped>\n",
       "    .dataframe tbody tr th:only-of-type {\n",
       "        vertical-align: middle;\n",
       "    }\n",
       "\n",
       "    .dataframe tbody tr th {\n",
       "        vertical-align: top;\n",
       "    }\n",
       "\n",
       "    .dataframe thead th {\n",
       "        text-align: right;\n",
       "    }\n",
       "</style>\n",
       "<table border=\"1\" class=\"dataframe\">\n",
       "  <thead>\n",
       "    <tr style=\"text-align: right;\">\n",
       "      <th></th>\n",
       "      <th>date</th>\n",
       "      <th>group</th>\n",
       "      <th>orders</th>\n",
       "      <th>buyers</th>\n",
       "      <th>revenue</th>\n",
       "      <th>visitors</th>\n",
       "    </tr>\n",
       "  </thead>\n",
       "  <tbody>\n",
       "    <tr>\n",
       "      <th>0</th>\n",
       "      <td>2019-08-01</td>\n",
       "      <td>A</td>\n",
       "      <td>24</td>\n",
       "      <td>20</td>\n",
       "      <td>148579</td>\n",
       "      <td>719</td>\n",
       "    </tr>\n",
       "    <tr>\n",
       "      <th>1</th>\n",
       "      <td>2019-08-01</td>\n",
       "      <td>B</td>\n",
       "      <td>21</td>\n",
       "      <td>20</td>\n",
       "      <td>101217</td>\n",
       "      <td>713</td>\n",
       "    </tr>\n",
       "    <tr>\n",
       "      <th>2</th>\n",
       "      <td>2019-08-02</td>\n",
       "      <td>A</td>\n",
       "      <td>44</td>\n",
       "      <td>38</td>\n",
       "      <td>242401</td>\n",
       "      <td>1338</td>\n",
       "    </tr>\n",
       "    <tr>\n",
       "      <th>3</th>\n",
       "      <td>2019-08-02</td>\n",
       "      <td>B</td>\n",
       "      <td>45</td>\n",
       "      <td>43</td>\n",
       "      <td>266748</td>\n",
       "      <td>1294</td>\n",
       "    </tr>\n",
       "    <tr>\n",
       "      <th>4</th>\n",
       "      <td>2019-08-03</td>\n",
       "      <td>A</td>\n",
       "      <td>68</td>\n",
       "      <td>62</td>\n",
       "      <td>354874</td>\n",
       "      <td>1845</td>\n",
       "    </tr>\n",
       "  </tbody>\n",
       "</table>\n",
       "</div>"
      ],
      "text/plain": [
       "         date group  orders  buyers  revenue  visitors\n",
       "0  2019-08-01     A      24      20   148579       719\n",
       "1  2019-08-01     B      21      20   101217       713\n",
       "2  2019-08-02     A      44      38   242401      1338\n",
       "3  2019-08-02     B      45      43   266748      1294\n",
       "4  2019-08-03     A      68      62   354874      1845"
      ]
     },
     "execution_count": 15,
     "metadata": {},
     "output_type": "execute_result"
    }
   ],
   "source": [
    "cumulativeData.head()"
   ]
  },
  {
   "cell_type": "code",
   "execution_count": 18,
   "metadata": {
    "scrolled": false
   },
   "outputs": [
    {
     "data": {
      "image/png": "[encoded data removed]",
      "text/plain": [
       "<Figure size 1008x720 with 1 Axes>"
      ]
     },
     "metadata": {
      "needs_background": "light"
     },
     "output_type": "display_data"
    }
   ],
   "source": [
    "# Строим график выручки группы А\n",
    "plt.figure(figsize=(14, 10))\n",
    "plt.xticks(rotation = 45)\n",
    "plt.title('Кумулятивная выручка по группам') \n",
    "plt.xlabel(\"Дата\")\n",
    "plt.ylabel(\"Выручка\")\n",
    "plt.plot(cumulativeRevenueA['date'], cumulativeRevenueA['revenue'], label='A')\n",
    "# Строим график выручки группы B\n",
    "plt.plot(cumulativeRevenueB['date'], cumulativeRevenueB['revenue'], label='B')\n",
    "plt.legend(); "
   ]
  },
  {
   "cell_type": "markdown",
   "metadata": {},
   "source": [
    "**Вывод**  \n",
    "Выручка растет на протяжении всего теста, есть резкий рост в группе В, возможно, это связано с всплеском числа заказов или с болшьшими суммами заказов в выборке."
   ]
  },
  {
   "cell_type": "markdown",
   "metadata": {},
   "source": [
    "#### Построение графика кумулятивного среднего чека по группам."
   ]
  },
  {
   "cell_type": "code",
   "execution_count": 19,
   "metadata": {
    "scrolled": false
   },
   "outputs": [
    {
     "data": {
      "image/png": "[encoded data removed]",
      "text/plain": [
       "<Figure size 1008x720 with 1 Axes>"
      ]
     },
     "metadata": {
      "needs_background": "light"
     },
     "output_type": "display_data"
    }
   ],
   "source": []
  },
  {
   "cell_type": "markdown",
   "metadata": {},
   "source": [
    "**Вывод** \n",
    "Средний чек не становится равномерным к концу теста, виден небольшой рост группы А,  резкий рост и потом падение группы В, скорей всего, связанное с крупным чеком."
   ]
  },
  {
   "cell_type": "markdown",
   "metadata": {},
   "source": [
    "#### Построение графика относительного изменения кумулятивного среднего чека группы B к группе A. "
   ]
  },
  {
   "cell_type": "code",
   "execution_count": 21,
   "metadata": {
    "collapsed": true
   },
   "outputs": [
    {
     "data": {
      "image/png": "[encoded data removed]",
      "text/plain": [
       "<Figure size 1008x720 with 1 Axes>"
      ]
     },
     "metadata": {
      "needs_background": "light"
     },
     "output_type": "display_data"
    }
   ],
   "source": [
    "\n",
    "plt.axhline(y=0, color='black', linestyle='--'); "
   ]
  },
  {
   "cell_type": "markdown",
   "metadata": {},
   "source": [
    "**Вывод**  \n",
    "График изменения кумулятивного среднего чека резко меняется в несколько дат, что, вероятно, связано с аномально крупными заказами."
   ]
  },
  {
   "cell_type": "markdown",
   "metadata": {},
   "source": [
    "#### Построение графика кумулятивной конверсии по группам. "
   ]
  },
  {
   "cell_type": "code",
   "execution_count": 22,
   "metadata": {},
   "outputs": [
    {
     "data": {
      "image/png": "[encoded data removed]",
      "text/plain": [
       "<Figure size 1008x720 with 1 Axes>"
      ]
     },
     "metadata": {
      "needs_background": "light"
     },
     "output_type": "display_data"
    }
   ],
   "source": []
  },
  {
   "cell_type": "markdown",
   "metadata": {},
   "source": [
    "**Вывод**  \n",
    "Сперва конверсия группы А была больше, но затем конверсия группы В резко выросла (с 3/08 по 9/08), после чего расти перестала. В то же время упала конверсия группы В."
   ]
  },
  {
   "cell_type": "markdown",
   "metadata": {},
   "source": [
    "#### Построение графика относительного изменения кумулятивной конверсии группы B к группе A. "
   ]
  },
  {
   "cell_type": "code",
   "execution_count": 23,
   "metadata": {
    "scrolled": false
   },
   "outputs": [
    {
     "data": {
      "image/png": "[encoded data removed]",
      "text/plain": [
       "<Figure size 1008x720 with 1 Axes>"
      ]
     },
     "metadata": {
      "needs_background": "light"
     },
     "output_type": "display_data"
    }
   ],
   "source": []
  },
  {
   "cell_type": "markdown",
   "metadata": {},
   "source": [
    "**Вывод**  \n",
    "Конверсия группы В колеблется, в начале был довольно резкий рост, потом спад."
   ]
  },
  {
   "cell_type": "markdown",
   "metadata": {},
   "source": [
    "Посмотрю данные по прибыли, как и ожидалось, есть крупная покупка (1294500) в группе В 19/08/19, что и показал график выручки и график среднего чека."
   ]
  },
  {
   "cell_type": "markdown",
   "metadata": {},
   "source": [
    "#### Построение графика количества заказов по пользователям."
   ]
  },
  {
   "cell_type": "code",
   "execution_count": 26,
   "metadata": {
    "scrolled": false
   },
   "outputs": [
    {
     "data": {
      "image/png": "[encoded data removed]",
      "text/plain": [
       "<Figure size 576x432 with 1 Axes>"
      ]
     },
     "metadata": {
      "needs_background": "light"
     },
     "output_type": "display_data"
    }
   ],
   "source": []
  },
  {
   "cell_type": "markdown",
   "metadata": {},
   "source": [
    "**Вывод**  \n",
    "Практически все пользователи совершают 1-2 покупки."
   ]
  },
  {
   "cell_type": "markdown",
   "metadata": {},
   "source": [
    "#### Выбор границы для определения аномальных пользователей."
   ]
  },
  {
   "cell_type": "code",
   "execution_count": 27,
   "metadata": {},
   "outputs": [
    {
     "name": "stdout",
     "output_type": "stream",
     "text": [
      "[1. 2. 4.]\n"
     ]
    }
   ],
   "source": [
    "print(np.percentile(ordersByUsers['orders'], [90, 95, 99]))"
   ]
  },
  {
   "cell_type": "code",
   "execution_count": 28,
   "metadata": {},
   "outputs": [
    {
     "data": {
      "image/png": "[encoded data removed]",
      "text/plain": [
       "<Figure size 576x432 with 1 Axes>"
      ]
     },
     "metadata": {
      "needs_background": "light"
     },
     "output_type": "display_data"
    }
   ],
   "source": [
    "plt.figure(figsize=(8, 6))\n",
    "plt.title('Распределение количества заказов')\n",
    "sns.boxplot(y = 'orders', data = ordersByUsers);"
   ]
  },
  {
   "cell_type": "markdown",
   "metadata": {},
   "source": [
    "**Вывод** Не более 5% пользователей совершают более двух заказов, не более 1% пользователей - 4 заказа. Выберу 2 заказа как границу для определения аномальных пользователей."
   ]
  },
  {
   "cell_type": "markdown",
   "metadata": {},
   "source": [
    "#### Построение графика стоимостей заказов."
   ]
  },
  {
   "cell_type": "code",
   "execution_count": 44,
   "metadata": {
    "scrolled": false
   },
   "outputs": [
    {
     "data": {
      "image/png": "[encoded data removed]",
      "text/plain": [
       "<Figure size 576x432 with 1 Axes>"
      ]
     },
     "metadata": {
      "needs_background": "light"
     },
     "output_type": "display_data"
    }
   ],
   "source": []
  },
  {
   "cell_type": "markdown",
   "metadata": {},
   "source": [
    "Практически все заказы лежат в пределах 20 т.р."
   ]
  },
  {
   "cell_type": "markdown",
   "metadata": {},
   "source": [
    "#### Определение аномальных заказов."
   ]
  },
  {
   "cell_type": "code",
   "execution_count": 30,
   "metadata": {},
   "outputs": [
    {
     "name": "stdout",
     "output_type": "stream",
     "text": [
      "[18168.  28000.  58233.2]\n"
     ]
    }
   ],
   "source": [
    "print(np.percentile(orders['revenue'], [90, 95, 99])) "
   ]
  },
  {
   "cell_type": "code",
   "execution_count": 45,
   "metadata": {
    "scrolled": false
   },
   "outputs": [
    {
     "data": {
      "image/png": "[encoded data removed]",
      "text/plain": [
       "<Figure size 1008x720 with 1 Axes>"
      ]
     },
     "metadata": {
      "needs_background": "light"
     },
     "output_type": "display_data"
    }
   ],
   "source": []
  },
  {
   "cell_type": "markdown",
   "metadata": {},
   "source": [
    "**Вывод**  \n",
    "У 5% заказов чек больше 28000 руб, у 1% заказов больше 58223,2.  \n",
    "Как границу аномальных пользователей выбрала 50000 руб."
   ]
  },
  {
   "cell_type": "markdown",
   "metadata": {},
   "source": [
    "#### Проверка статистической значимости различий в конверсии между группами по «сырым» данным. "
   ]
  },
  {
   "cell_type": "markdown",
   "metadata": {},
   "source": [
    "Сформулируем гипотезы.  \n",
    "Нулевая: различий в конверсии между группами нет.  \n",
    "Альтернативная: различия в конверсии между группами есть.  "
   ]
  },
  {
   "cell_type": "markdown",
   "metadata": {},
   "source": [
    "Применяю критерий критерий Манна-Уитни, так как распределение не нормальное."
   ]
  },
  {
   "cell_type": "markdown",
   "metadata": {},
   "source": [
    "p-value меньше 0,05, следовательно, мы не можем подтвердить нулевую гипотезу. Есть статистически значимое различие по конверсии между группами."
   ]
  },
  {
   "cell_type": "markdown",
   "metadata": {},
   "source": [
    "#### Проверка статистической значимости различий в среднем чеке заказа между группами по «сырым» данным."
   ]
  },
  {
   "cell_type": "markdown",
   "metadata": {},
   "source": [
    "проверим статистическую значимость различий в среднем чеке между сегментами.  \n",
    "Нулевая гипотеза: различий в среднем чеке между группами нет.  \n",
    "Альтернативная гипотеза: различия в среднем чеке между группами есть."
   ]
  },
  {
   "cell_type": "code",
   "execution_count": 37,
   "metadata": {},
   "outputs": [
    {
     "name": "stdout",
     "output_type": "stream",
     "text": [
      "p-value 0.729\n",
      "относительный прирост среднего чека 0.259\n"
     ]
    }
   ],
   "source": [
    "print('p-value ''{0:.3f}'.format(stats.mannwhitneyu(orders[orders['group']=='A']['revenue'], orders[orders['group']=='B']['revenue'])[1]))\n",
    "print('относительный прирост среднего чека ''{0:.3f}'.format(orders[orders['group']=='B']['revenue'].mean()/orders[orders['group']=='A']['revenue'].mean()-1))"
   ]
  },
  {
   "cell_type": "markdown",
   "metadata": {},
   "source": [
    "**Вывод** P-value значительно больше 0.05. Значит, причин отвергать нулевую гипотезу и считать, что в среднем чеке есть различия, нет."
   ]
  },
  {
   "cell_type": "markdown",
   "metadata": {},
   "source": [
    "####  Проверка статистической значимости различий  в конверсии между группами по «очищенным» данным. Сделайте выводы и предположения."
   ]
  },
  {
   "cell_type": "markdown",
   "metadata": {},
   "source": [
    "Уберем пользователей с 2 и более заказами и суммы заказов более 50000 руб."
   ]
  },
  {
   "cell_type": "markdown",
   "metadata": {},
   "source": [
    "37 аномальных пользователей. Посчитаем статистическую значимость различий в конверсии между группами теста по очищенным данным."
   ]
  },
  {
   "cell_type": "markdown",
   "metadata": {},
   "source": [
    "Нулевая гипотеза: различий в конверсии между группами нет.  \n",
    "Альтернативная гипотеза: различия в конверсии между группами есть."
   ]
  },
  {
   "cell_type": "code",
   "execution_count": 42,
   "metadata": {
    "scrolled": true
   },
   "outputs": [
    {
     "name": "stdout",
     "output_type": "stream",
     "text": [
      "p-value 0.008\n",
      "относительный прирост конверсии 0.182\n"
     ]
    }
   ],
   "source": [
    "# Применим статистический критерий Манна-Уитни к полученной выборке:\n",
    "print('p-value ''{0:.3f}'\n",
    "                         .format(stats.mannwhitneyu(sampleAFiltered, sampleBFiltered)[1]))\n",
    "print('относительный прирост конверсии ''{0:.3f}'\n",
    "               .format(sampleBFiltered.mean()/sampleAFiltered.mean()-1)) "
   ]
  },
  {
   "cell_type": "markdown",
   "metadata": {},
   "source": [
    "**Вывод** \n",
    "p-value меньше 0,05, что показывает статистическую значимость различия конверсий между группами.\n",
    "Относительный прирост конверсии 18,2%.  "
   ]
  },
  {
   "cell_type": "markdown",
   "metadata": {},
   "source": [
    "Проверим результаты по среднему чеку"
   ]
  },
  {
   "cell_type": "code",
   "execution_count": 43,
   "metadata": {},
   "outputs": [
    {
     "name": "stdout",
     "output_type": "stream",
     "text": [
      "p-value 0.940\n",
      "относительный прирост среднего чека 0.019\n"
     ]
    }
   ],
   "source": []
  },
  {
   "cell_type": "markdown",
   "metadata": {},
   "source": [
    "p-value увеличился, относительный прирост среднего чека уменьшился с 0.259 до 0,019, что доказывает влияние аномальных пользователей."
   ]
  },
  {
   "cell_type": "markdown",
   "metadata": {},
   "source": [
    "#### Принятие решения по результатам теста."
   ]
  },
  {
   "cell_type": "markdown",
   "metadata": {},
   "source": [
    "Тест показал статистическую значимость в приросте конверсии группы В по отношению к группе А (p-value 0.008, прирост конверсии 18,2%).  \n",
    "По среднему чеку нет статистически значимого различия между группами как по сырым, так по очищенным данным.  \n",
    "\n",
    "**ВЫВОД**  \n",
    "Поскольку конверсия показала статистически значимый рост 18,2%, считаю, что тест можно завершить."
   ]
  }
 ],
 "metadata": {
  "ExecuteTimeLog": [
   {
    "duration": 333,
    "start_time": "2022-06-16T05:54:00.124Z"
   },
   {
    "duration": 71,
    "start_time": "2022-06-16T05:56:33.444Z"
   },
   {
    "duration": 15,
    "start_time": "2022-06-16T05:56:45.971Z"
   },
   {
    "duration": 87,
    "start_time": "2022-06-16T05:58:18.438Z"
   },
   {
    "duration": 75,
    "start_time": "2022-06-16T05:59:23.697Z"
   },
   {
    "duration": 31,
    "start_time": "2022-06-16T05:59:34.864Z"
   },
   {
    "duration": 72,
    "start_time": "2022-06-16T05:59:43.530Z"
   },
   {
    "duration": 4,
    "start_time": "2022-06-16T06:04:24.060Z"
   },
   {
    "duration": 37,
    "start_time": "2022-06-16T06:06:39.273Z"
   },
   {
    "duration": 12,
    "start_time": "2022-06-16T06:06:53.368Z"
   },
   {
    "duration": 11,
    "start_time": "2022-06-16T06:07:05.326Z"
   },
   {
    "duration": 3,
    "start_time": "2022-06-16T06:07:33.548Z"
   },
   {
    "duration": 11,
    "start_time": "2022-06-16T06:09:01.006Z"
   },
   {
    "duration": 14,
    "start_time": "2022-06-16T06:09:52.615Z"
   },
   {
    "duration": 5,
    "start_time": "2022-06-16T06:19:06.011Z"
   },
   {
    "duration": 8,
    "start_time": "2022-06-16T06:19:08.766Z"
   },
   {
    "duration": 7,
    "start_time": "2022-06-16T06:19:17.611Z"
   },
   {
    "duration": 15,
    "start_time": "2022-06-16T06:20:14.580Z"
   },
   {
    "duration": 35,
    "start_time": "2022-06-16T06:20:49.136Z"
   },
   {
    "duration": 3,
    "start_time": "2022-06-16T06:21:13.992Z"
   },
   {
    "duration": 19,
    "start_time": "2022-06-16T06:21:18.995Z"
   },
   {
    "duration": 176,
    "start_time": "2022-06-16T06:25:23.022Z"
   },
   {
    "duration": 8,
    "start_time": "2022-06-16T06:25:35.807Z"
   },
   {
    "duration": 9,
    "start_time": "2022-06-16T06:26:14.479Z"
   },
   {
    "duration": 141,
    "start_time": "2022-06-16T06:26:43.814Z"
   },
   {
    "duration": 6,
    "start_time": "2022-06-16T06:26:44.972Z"
   },
   {
    "duration": 16,
    "start_time": "2022-06-16T06:26:48.838Z"
   },
   {
    "duration": 2,
    "start_time": "2022-06-16T06:27:12.324Z"
   },
   {
    "duration": 11,
    "start_time": "2022-06-16T06:27:18.919Z"
   },
   {
    "duration": 4,
    "start_time": "2022-06-16T06:27:59.441Z"
   },
   {
    "duration": 5,
    "start_time": "2022-06-16T06:28:09.202Z"
   },
   {
    "duration": 8,
    "start_time": "2022-06-16T06:28:22.498Z"
   },
   {
    "duration": 365,
    "start_time": "2022-06-16T06:28:45.233Z"
   },
   {
    "duration": 217,
    "start_time": "2022-06-16T06:28:50.492Z"
   },
   {
    "duration": 208,
    "start_time": "2022-06-16T06:28:56.480Z"
   },
   {
    "duration": 234,
    "start_time": "2022-06-16T06:30:10.838Z"
   },
   {
    "duration": 286,
    "start_time": "2022-06-16T06:30:21.062Z"
   },
   {
    "duration": 2,
    "start_time": "2022-06-16T06:31:56.266Z"
   },
   {
    "duration": 219,
    "start_time": "2022-06-16T06:32:40.558Z"
   },
   {
    "duration": 216,
    "start_time": "2022-06-16T06:32:54.310Z"
   },
   {
    "duration": 307,
    "start_time": "2022-06-16T06:32:57.539Z"
   },
   {
    "duration": 239,
    "start_time": "2022-06-16T06:33:09.843Z"
   },
   {
    "duration": 221,
    "start_time": "2022-06-16T06:33:15.647Z"
   },
   {
    "duration": 346,
    "start_time": "2022-06-16T06:34:18.307Z"
   },
   {
    "duration": 328,
    "start_time": "2022-06-16T06:34:31.734Z"
   },
   {
    "duration": 257,
    "start_time": "2022-06-16T06:35:29.690Z"
   },
   {
    "duration": 4,
    "start_time": "2022-06-16T06:37:00.304Z"
   },
   {
    "duration": 4,
    "start_time": "2022-06-16T06:37:10.149Z"
   },
   {
    "duration": 5,
    "start_time": "2022-06-16T06:37:18.713Z"
   },
   {
    "duration": 4,
    "start_time": "2022-06-16T06:37:27.457Z"
   },
   {
    "duration": 246,
    "start_time": "2022-06-16T06:38:02.564Z"
   },
   {
    "duration": 234,
    "start_time": "2022-06-16T06:38:16.741Z"
   },
   {
    "duration": 329,
    "start_time": "2022-06-16T06:38:28.102Z"
   },
   {
    "duration": 317,
    "start_time": "2022-06-16T06:41:49.429Z"
   },
   {
    "duration": 301,
    "start_time": "2022-06-16T06:42:15.026Z"
   },
   {
    "duration": 374,
    "start_time": "2022-06-16T06:43:00.459Z"
   },
   {
    "duration": 6,
    "start_time": "2022-06-16T07:02:06.593Z"
   },
   {
    "duration": 34,
    "start_time": "2022-06-16T07:03:17.772Z"
   },
   {
    "duration": 10,
    "start_time": "2022-06-16T07:03:55.963Z"
   },
   {
    "duration": 11,
    "start_time": "2022-06-16T07:04:34.430Z"
   },
   {
    "duration": 7,
    "start_time": "2022-06-16T07:05:08.264Z"
   },
   {
    "duration": 485,
    "start_time": "2022-06-16T07:05:13.041Z"
   },
   {
    "duration": 11,
    "start_time": "2022-06-16T07:05:40.782Z"
   },
   {
    "duration": 9,
    "start_time": "2022-06-16T07:06:05.432Z"
   },
   {
    "duration": 103,
    "start_time": "2022-06-16T07:06:08.131Z"
   },
   {
    "duration": 3,
    "start_time": "2022-06-16T07:07:26.637Z"
   },
   {
    "duration": 112,
    "start_time": "2022-06-16T07:10:57.244Z"
   },
   {
    "duration": 132,
    "start_time": "2022-06-16T07:11:11.542Z"
   },
   {
    "duration": 29,
    "start_time": "2022-06-16T07:12:03.297Z"
   },
   {
    "duration": 4,
    "start_time": "2022-06-16T07:12:10.586Z"
   },
   {
    "duration": 7,
    "start_time": "2022-06-16T07:12:40.699Z"
   },
   {
    "duration": 7,
    "start_time": "2022-06-16T07:12:47.846Z"
   },
   {
    "duration": 7,
    "start_time": "2022-06-16T07:12:52.585Z"
   },
   {
    "duration": 5,
    "start_time": "2022-06-16T07:12:57.735Z"
   },
   {
    "duration": 12,
    "start_time": "2022-06-16T07:20:29.461Z"
   },
   {
    "duration": 129,
    "start_time": "2022-06-16T07:21:12.136Z"
   },
   {
    "duration": 9,
    "start_time": "2022-06-16T07:21:18.706Z"
   },
   {
    "duration": 7,
    "start_time": "2022-06-16T07:21:41.273Z"
   },
   {
    "duration": 51,
    "start_time": "2022-06-16T07:22:05.250Z"
   },
   {
    "duration": 6,
    "start_time": "2022-06-16T07:22:15.889Z"
   },
   {
    "duration": 53,
    "start_time": "2022-06-16T07:22:38.070Z"
   },
   {
    "duration": 3,
    "start_time": "2022-06-16T07:22:46.601Z"
   },
   {
    "duration": 30,
    "start_time": "2022-06-16T07:22:46.607Z"
   },
   {
    "duration": 7,
    "start_time": "2022-06-16T07:22:46.639Z"
   },
   {
    "duration": 42,
    "start_time": "2022-06-16T07:22:46.740Z"
   },
   {
    "duration": 19,
    "start_time": "2022-06-16T07:22:46.784Z"
   },
   {
    "duration": 9,
    "start_time": "2022-06-16T07:22:46.823Z"
   },
   {
    "duration": 10,
    "start_time": "2022-06-16T07:22:46.896Z"
   },
   {
    "duration": 9,
    "start_time": "2022-06-16T07:22:46.908Z"
   },
   {
    "duration": 7,
    "start_time": "2022-06-16T07:22:46.918Z"
   },
   {
    "duration": 135,
    "start_time": "2022-06-16T07:22:46.926Z"
   },
   {
    "duration": 17,
    "start_time": "2022-06-16T07:22:47.062Z"
   },
   {
    "duration": 103,
    "start_time": "2022-06-16T07:22:47.080Z"
   },
   {
    "duration": 5,
    "start_time": "2022-06-16T07:22:47.185Z"
   },
   {
    "duration": 12,
    "start_time": "2022-06-16T07:22:47.191Z"
   },
   {
    "duration": 6,
    "start_time": "2022-06-16T07:22:47.204Z"
   },
   {
    "duration": 10,
    "start_time": "2022-06-16T07:22:47.211Z"
   },
   {
    "duration": 6,
    "start_time": "2022-06-16T07:22:47.223Z"
   },
   {
    "duration": 5,
    "start_time": "2022-06-16T07:22:47.231Z"
   },
   {
    "duration": 246,
    "start_time": "2022-06-16T07:22:47.237Z"
   },
   {
    "duration": 257,
    "start_time": "2022-06-16T07:22:47.485Z"
   },
   {
    "duration": 5,
    "start_time": "2022-06-16T07:22:47.744Z"
   },
   {
    "duration": 378,
    "start_time": "2022-06-16T07:22:47.750Z"
   },
   {
    "duration": 323,
    "start_time": "2022-06-16T07:22:48.129Z"
   },
   {
    "duration": 361,
    "start_time": "2022-06-16T07:22:48.453Z"
   },
   {
    "duration": 9,
    "start_time": "2022-06-16T07:22:48.816Z"
   },
   {
    "duration": 118,
    "start_time": "2022-06-16T07:22:48.826Z"
   },
   {
    "duration": 3,
    "start_time": "2022-06-16T07:22:48.946Z"
   },
   {
    "duration": 117,
    "start_time": "2022-06-16T07:22:48.951Z"
   },
   {
    "duration": 10,
    "start_time": "2022-06-16T07:22:49.070Z"
   },
   {
    "duration": 169,
    "start_time": "2022-06-16T07:22:49.082Z"
   },
   {
    "duration": 26,
    "start_time": "2022-06-16T07:22:49.253Z"
   },
   {
    "duration": 428,
    "start_time": "2022-06-16T07:22:49.281Z"
   },
   {
    "duration": 49,
    "start_time": "2022-06-16T09:23:08.869Z"
   },
   {
    "duration": 737,
    "start_time": "2022-06-16T09:23:16.042Z"
   },
   {
    "duration": 62,
    "start_time": "2022-06-16T09:23:16.781Z"
   },
   {
    "duration": 11,
    "start_time": "2022-06-16T09:23:16.845Z"
   },
   {
    "duration": 113,
    "start_time": "2022-06-16T09:23:16.858Z"
   },
   {
    "duration": 0,
    "start_time": "2022-06-16T09:23:16.973Z"
   },
   {
    "duration": 0,
    "start_time": "2022-06-16T09:23:16.974Z"
   },
   {
    "duration": 0,
    "start_time": "2022-06-16T09:23:16.976Z"
   },
   {
    "duration": 0,
    "start_time": "2022-06-16T09:23:16.977Z"
   },
   {
    "duration": 0,
    "start_time": "2022-06-16T09:23:16.977Z"
   },
   {
    "duration": 0,
    "start_time": "2022-06-16T09:23:16.979Z"
   },
   {
    "duration": 0,
    "start_time": "2022-06-16T09:23:16.980Z"
   },
   {
    "duration": 0,
    "start_time": "2022-06-16T09:23:16.981Z"
   },
   {
    "duration": 0,
    "start_time": "2022-06-16T09:23:16.982Z"
   },
   {
    "duration": 0,
    "start_time": "2022-06-16T09:23:16.983Z"
   },
   {
    "duration": 0,
    "start_time": "2022-06-16T09:23:16.984Z"
   },
   {
    "duration": 0,
    "start_time": "2022-06-16T09:23:16.985Z"
   },
   {
    "duration": 0,
    "start_time": "2022-06-16T09:23:16.986Z"
   },
   {
    "duration": 0,
    "start_time": "2022-06-16T09:23:16.987Z"
   },
   {
    "duration": 0,
    "start_time": "2022-06-16T09:23:16.988Z"
   },
   {
    "duration": 0,
    "start_time": "2022-06-16T09:23:16.989Z"
   },
   {
    "duration": 0,
    "start_time": "2022-06-16T09:23:16.990Z"
   },
   {
    "duration": 0,
    "start_time": "2022-06-16T09:23:16.991Z"
   },
   {
    "duration": 0,
    "start_time": "2022-06-16T09:23:16.992Z"
   },
   {
    "duration": 0,
    "start_time": "2022-06-16T09:23:16.993Z"
   },
   {
    "duration": 0,
    "start_time": "2022-06-16T09:23:16.994Z"
   },
   {
    "duration": 0,
    "start_time": "2022-06-16T09:23:16.995Z"
   },
   {
    "duration": 0,
    "start_time": "2022-06-16T09:23:16.996Z"
   },
   {
    "duration": 0,
    "start_time": "2022-06-16T09:23:16.997Z"
   },
   {
    "duration": 0,
    "start_time": "2022-06-16T09:23:16.998Z"
   },
   {
    "duration": 0,
    "start_time": "2022-06-16T09:23:16.999Z"
   },
   {
    "duration": 0,
    "start_time": "2022-06-16T09:23:17.023Z"
   },
   {
    "duration": 0,
    "start_time": "2022-06-16T09:23:17.024Z"
   },
   {
    "duration": 51,
    "start_time": "2022-06-16T09:23:33.261Z"
   },
   {
    "duration": 65,
    "start_time": "2022-06-16T09:23:35.149Z"
   },
   {
    "duration": 10,
    "start_time": "2022-06-16T09:23:38.050Z"
   },
   {
    "duration": 12,
    "start_time": "2022-06-16T09:23:38.867Z"
   },
   {
    "duration": 5,
    "start_time": "2022-06-16T09:23:40.840Z"
   },
   {
    "duration": 7,
    "start_time": "2022-06-16T09:23:41.640Z"
   },
   {
    "duration": 21,
    "start_time": "2022-06-16T09:23:42.751Z"
   },
   {
    "duration": 149,
    "start_time": "2022-06-16T09:23:57.832Z"
   },
   {
    "duration": 7,
    "start_time": "2022-06-16T09:23:59.852Z"
   },
   {
    "duration": 117,
    "start_time": "2022-06-16T09:24:01.009Z"
   },
   {
    "duration": 6,
    "start_time": "2022-06-16T09:24:01.863Z"
   },
   {
    "duration": 17,
    "start_time": "2022-06-16T09:24:02.599Z"
   },
   {
    "duration": 2,
    "start_time": "2022-06-16T09:24:03.619Z"
   },
   {
    "duration": 8,
    "start_time": "2022-06-16T09:24:04.758Z"
   },
   {
    "duration": 5,
    "start_time": "2022-06-16T09:24:05.636Z"
   },
   {
    "duration": 5,
    "start_time": "2022-06-16T09:24:06.308Z"
   },
   {
    "duration": 260,
    "start_time": "2022-06-16T09:24:06.887Z"
   },
   {
    "duration": 230,
    "start_time": "2022-06-16T09:24:08.266Z"
   },
   {
    "duration": 5,
    "start_time": "2022-06-16T09:24:09.353Z"
   },
   {
    "duration": 372,
    "start_time": "2022-06-16T09:24:09.954Z"
   },
   {
    "duration": 272,
    "start_time": "2022-06-16T09:24:11.357Z"
   },
   {
    "duration": 441,
    "start_time": "2022-06-16T09:24:18.984Z"
   },
   {
    "duration": 9,
    "start_time": "2022-06-16T09:24:20.875Z"
   },
   {
    "duration": 7,
    "start_time": "2022-06-16T09:24:21.554Z"
   },
   {
    "duration": 12,
    "start_time": "2022-06-16T09:24:34.031Z"
   },
   {
    "duration": 107,
    "start_time": "2022-06-16T09:24:36.888Z"
   },
   {
    "duration": 4,
    "start_time": "2022-06-16T09:24:38.572Z"
   },
   {
    "duration": 9,
    "start_time": "2022-06-16T09:24:40.719Z"
   },
   {
    "duration": 7,
    "start_time": "2022-06-16T09:24:44.893Z"
   },
   {
    "duration": 114,
    "start_time": "2022-06-16T09:24:50.000Z"
   },
   {
    "duration": 5,
    "start_time": "2022-06-16T09:24:55.682Z"
   },
   {
    "duration": 9,
    "start_time": "2022-06-16T09:25:01.232Z"
   },
   {
    "duration": 121,
    "start_time": "2022-06-16T09:25:11.270Z"
   },
   {
    "duration": 8,
    "start_time": "2022-06-16T09:25:13.560Z"
   },
   {
    "duration": 317,
    "start_time": "2022-06-16T09:25:17.731Z"
   },
   {
    "duration": 536,
    "start_time": "2022-06-16T09:25:22.376Z"
   },
   {
    "duration": 8,
    "start_time": "2022-06-16T09:26:21.643Z"
   },
   {
    "duration": 566,
    "start_time": "2022-06-16T09:28:54.871Z"
   },
   {
    "duration": 26,
    "start_time": "2022-06-16T09:28:55.439Z"
   },
   {
    "duration": 10,
    "start_time": "2022-06-16T09:28:55.467Z"
   },
   {
    "duration": 39,
    "start_time": "2022-06-16T09:28:55.480Z"
   },
   {
    "duration": 17,
    "start_time": "2022-06-16T09:28:55.520Z"
   },
   {
    "duration": 10,
    "start_time": "2022-06-16T09:28:55.539Z"
   },
   {
    "duration": 10,
    "start_time": "2022-06-16T09:28:55.551Z"
   },
   {
    "duration": 108,
    "start_time": "2022-06-16T09:28:55.562Z"
   },
   {
    "duration": 0,
    "start_time": "2022-06-16T09:28:55.672Z"
   },
   {
    "duration": 0,
    "start_time": "2022-06-16T09:28:55.673Z"
   },
   {
    "duration": 0,
    "start_time": "2022-06-16T09:28:55.674Z"
   },
   {
    "duration": 0,
    "start_time": "2022-06-16T09:28:55.675Z"
   },
   {
    "duration": 0,
    "start_time": "2022-06-16T09:28:55.676Z"
   },
   {
    "duration": 0,
    "start_time": "2022-06-16T09:28:55.677Z"
   },
   {
    "duration": 0,
    "start_time": "2022-06-16T09:28:55.678Z"
   },
   {
    "duration": 0,
    "start_time": "2022-06-16T09:28:55.679Z"
   },
   {
    "duration": 0,
    "start_time": "2022-06-16T09:28:55.680Z"
   },
   {
    "duration": 0,
    "start_time": "2022-06-16T09:28:55.681Z"
   },
   {
    "duration": 0,
    "start_time": "2022-06-16T09:28:55.682Z"
   },
   {
    "duration": 0,
    "start_time": "2022-06-16T09:28:55.683Z"
   },
   {
    "duration": 0,
    "start_time": "2022-06-16T09:28:55.684Z"
   },
   {
    "duration": 0,
    "start_time": "2022-06-16T09:28:55.685Z"
   },
   {
    "duration": 0,
    "start_time": "2022-06-16T09:28:55.686Z"
   },
   {
    "duration": 0,
    "start_time": "2022-06-16T09:28:55.687Z"
   },
   {
    "duration": 0,
    "start_time": "2022-06-16T09:28:55.687Z"
   },
   {
    "duration": 0,
    "start_time": "2022-06-16T09:28:55.688Z"
   },
   {
    "duration": 0,
    "start_time": "2022-06-16T09:28:55.689Z"
   },
   {
    "duration": 0,
    "start_time": "2022-06-16T09:28:55.690Z"
   },
   {
    "duration": 0,
    "start_time": "2022-06-16T09:28:55.723Z"
   },
   {
    "duration": 0,
    "start_time": "2022-06-16T09:28:55.724Z"
   },
   {
    "duration": 0,
    "start_time": "2022-06-16T09:28:55.725Z"
   },
   {
    "duration": 1,
    "start_time": "2022-06-16T09:28:55.725Z"
   },
   {
    "duration": 0,
    "start_time": "2022-06-16T09:28:55.726Z"
   },
   {
    "duration": 3,
    "start_time": "2022-06-16T09:29:25.627Z"
   },
   {
    "duration": 47,
    "start_time": "2022-06-16T09:29:25.632Z"
   },
   {
    "duration": 8,
    "start_time": "2022-06-16T09:29:25.680Z"
   },
   {
    "duration": 45,
    "start_time": "2022-06-16T09:29:25.689Z"
   },
   {
    "duration": 18,
    "start_time": "2022-06-16T09:29:25.736Z"
   },
   {
    "duration": 10,
    "start_time": "2022-06-16T09:29:25.756Z"
   },
   {
    "duration": 15,
    "start_time": "2022-06-16T09:29:25.768Z"
   },
   {
    "duration": 8,
    "start_time": "2022-06-16T09:29:25.785Z"
   },
   {
    "duration": 8,
    "start_time": "2022-06-16T09:29:25.795Z"
   },
   {
    "duration": 35,
    "start_time": "2022-06-16T09:29:25.805Z"
   },
   {
    "duration": 0,
    "start_time": "2022-06-16T09:29:25.842Z"
   },
   {
    "duration": 0,
    "start_time": "2022-06-16T09:29:25.843Z"
   },
   {
    "duration": 0,
    "start_time": "2022-06-16T09:29:25.844Z"
   },
   {
    "duration": 0,
    "start_time": "2022-06-16T09:29:25.845Z"
   },
   {
    "duration": 0,
    "start_time": "2022-06-16T09:29:25.847Z"
   },
   {
    "duration": 0,
    "start_time": "2022-06-16T09:29:25.848Z"
   },
   {
    "duration": 0,
    "start_time": "2022-06-16T09:29:25.849Z"
   },
   {
    "duration": 1,
    "start_time": "2022-06-16T09:29:25.849Z"
   },
   {
    "duration": 0,
    "start_time": "2022-06-16T09:29:25.850Z"
   },
   {
    "duration": 0,
    "start_time": "2022-06-16T09:29:25.851Z"
   },
   {
    "duration": 0,
    "start_time": "2022-06-16T09:29:25.852Z"
   },
   {
    "duration": 0,
    "start_time": "2022-06-16T09:29:25.853Z"
   },
   {
    "duration": 0,
    "start_time": "2022-06-16T09:29:25.854Z"
   },
   {
    "duration": 0,
    "start_time": "2022-06-16T09:29:25.855Z"
   },
   {
    "duration": 0,
    "start_time": "2022-06-16T09:29:25.856Z"
   },
   {
    "duration": 0,
    "start_time": "2022-06-16T09:29:25.857Z"
   },
   {
    "duration": 0,
    "start_time": "2022-06-16T09:29:25.858Z"
   },
   {
    "duration": 0,
    "start_time": "2022-06-16T09:29:25.860Z"
   },
   {
    "duration": 0,
    "start_time": "2022-06-16T09:29:25.861Z"
   },
   {
    "duration": 0,
    "start_time": "2022-06-16T09:29:25.862Z"
   },
   {
    "duration": 0,
    "start_time": "2022-06-16T09:29:25.863Z"
   },
   {
    "duration": 0,
    "start_time": "2022-06-16T09:29:25.864Z"
   },
   {
    "duration": 0,
    "start_time": "2022-06-16T09:29:25.865Z"
   },
   {
    "duration": 3,
    "start_time": "2022-06-16T09:29:42.264Z"
   },
   {
    "duration": 50,
    "start_time": "2022-06-16T09:29:42.268Z"
   },
   {
    "duration": 8,
    "start_time": "2022-06-16T09:29:42.319Z"
   },
   {
    "duration": 43,
    "start_time": "2022-06-16T09:29:42.328Z"
   },
   {
    "duration": 18,
    "start_time": "2022-06-16T09:29:42.373Z"
   },
   {
    "duration": 10,
    "start_time": "2022-06-16T09:29:42.393Z"
   },
   {
    "duration": 12,
    "start_time": "2022-06-16T09:29:42.404Z"
   },
   {
    "duration": 8,
    "start_time": "2022-06-16T09:29:42.418Z"
   },
   {
    "duration": 8,
    "start_time": "2022-06-16T09:29:42.427Z"
   },
   {
    "duration": 182,
    "start_time": "2022-06-16T09:29:42.436Z"
   },
   {
    "duration": 9,
    "start_time": "2022-06-16T09:29:42.621Z"
   },
   {
    "duration": 147,
    "start_time": "2022-06-16T09:29:42.631Z"
   },
   {
    "duration": 23,
    "start_time": "2022-06-16T09:29:42.780Z"
   },
   {
    "duration": 17,
    "start_time": "2022-06-16T09:29:42.804Z"
   },
   {
    "duration": 11,
    "start_time": "2022-06-16T09:29:42.825Z"
   },
   {
    "duration": 12,
    "start_time": "2022-06-16T09:29:42.837Z"
   },
   {
    "duration": 8,
    "start_time": "2022-06-16T09:29:42.851Z"
   },
   {
    "duration": 6,
    "start_time": "2022-06-16T09:29:42.860Z"
   },
   {
    "duration": 238,
    "start_time": "2022-06-16T09:29:42.867Z"
   },
   {
    "duration": 229,
    "start_time": "2022-06-16T09:29:43.107Z"
   },
   {
    "duration": 3,
    "start_time": "2022-06-16T09:29:43.338Z"
   },
   {
    "duration": 320,
    "start_time": "2022-06-16T09:29:43.342Z"
   },
   {
    "duration": 303,
    "start_time": "2022-06-16T09:29:43.663Z"
   },
   {
    "duration": 347,
    "start_time": "2022-06-16T09:29:43.968Z"
   },
   {
    "duration": 15,
    "start_time": "2022-06-16T09:29:44.316Z"
   },
   {
    "duration": 111,
    "start_time": "2022-06-16T09:29:44.332Z"
   },
   {
    "duration": 4,
    "start_time": "2022-06-16T09:29:44.445Z"
   },
   {
    "duration": 124,
    "start_time": "2022-06-16T09:29:44.451Z"
   },
   {
    "duration": 4,
    "start_time": "2022-06-16T09:29:44.579Z"
   },
   {
    "duration": 139,
    "start_time": "2022-06-16T09:29:44.585Z"
   },
   {
    "duration": 9,
    "start_time": "2022-06-16T09:29:44.726Z"
   },
   {
    "duration": 12,
    "start_time": "2022-06-16T09:29:44.737Z"
   },
   {
    "duration": 10,
    "start_time": "2022-06-16T09:29:44.750Z"
   },
   {
    "duration": 100,
    "start_time": "2022-06-16T09:31:19.604Z"
   },
   {
    "duration": 198,
    "start_time": "2022-06-16T09:35:03.631Z"
   },
   {
    "duration": 336,
    "start_time": "2022-06-16T09:35:10.644Z"
   },
   {
    "duration": 124,
    "start_time": "2022-06-16T09:35:23.573Z"
   },
   {
    "duration": 9,
    "start_time": "2022-06-16T09:35:24.597Z"
   },
   {
    "duration": 9,
    "start_time": "2022-06-16T09:35:30.784Z"
   },
   {
    "duration": 8,
    "start_time": "2022-06-16T09:36:19.113Z"
   },
   {
    "duration": 27,
    "start_time": "2022-06-16T09:36:50.977Z"
   },
   {
    "duration": 23,
    "start_time": "2022-06-16T09:36:57.309Z"
   },
   {
    "duration": 7,
    "start_time": "2022-06-16T09:37:12.574Z"
   },
   {
    "duration": 11,
    "start_time": "2022-06-16T09:37:29.185Z"
   },
   {
    "duration": 8,
    "start_time": "2022-06-16T09:37:54.254Z"
   },
   {
    "duration": 16,
    "start_time": "2022-06-16T09:38:16.814Z"
   },
   {
    "duration": 15,
    "start_time": "2022-06-16T09:39:57.871Z"
   },
   {
    "duration": 148,
    "start_time": "2022-06-16T09:40:18.924Z"
   },
   {
    "duration": 410,
    "start_time": "2022-06-16T09:40:41.137Z"
   },
   {
    "duration": 157,
    "start_time": "2022-06-16T09:40:45.881Z"
   },
   {
    "duration": 141,
    "start_time": "2022-06-16T09:41:26.427Z"
   },
   {
    "duration": 136,
    "start_time": "2022-06-16T09:41:31.256Z"
   },
   {
    "duration": 157,
    "start_time": "2022-06-16T09:41:41.794Z"
   },
   {
    "duration": 143,
    "start_time": "2022-06-16T09:42:27.354Z"
   },
   {
    "duration": 170,
    "start_time": "2022-06-16T09:42:55.047Z"
   },
   {
    "duration": 5,
    "start_time": "2022-06-16T09:44:48.538Z"
   },
   {
    "duration": 4,
    "start_time": "2022-06-16T09:44:56.191Z"
   },
   {
    "duration": 11,
    "start_time": "2022-06-16T09:49:21.736Z"
   },
   {
    "duration": 12,
    "start_time": "2022-06-16T09:49:57.718Z"
   },
   {
    "duration": 170,
    "start_time": "2022-06-16T09:50:39.178Z"
   },
   {
    "duration": 12,
    "start_time": "2022-06-16T09:50:49.544Z"
   },
   {
    "duration": 13,
    "start_time": "2022-06-16T09:50:57.996Z"
   },
   {
    "duration": 31,
    "start_time": "2022-06-16T09:51:29.565Z"
   },
   {
    "duration": 366,
    "start_time": "2022-06-16T09:56:49.816Z"
   },
   {
    "duration": 31,
    "start_time": "2022-06-16T09:58:11.136Z"
   },
   {
    "duration": 366,
    "start_time": "2022-06-16T09:58:38.753Z"
   },
   {
    "duration": 10,
    "start_time": "2022-06-16T09:58:54.838Z"
   },
   {
    "duration": 9,
    "start_time": "2022-06-16T09:59:45.262Z"
   },
   {
    "duration": 10,
    "start_time": "2022-06-16T10:00:41.733Z"
   },
   {
    "duration": 8,
    "start_time": "2022-06-16T10:00:46.608Z"
   },
   {
    "duration": 23,
    "start_time": "2022-06-16T10:01:18.181Z"
   },
   {
    "duration": 472,
    "start_time": "2022-06-16T10:02:02.392Z"
   },
   {
    "duration": 334,
    "start_time": "2022-06-16T10:02:50.103Z"
   },
   {
    "duration": 320,
    "start_time": "2022-06-16T10:03:13.555Z"
   },
   {
    "duration": 12,
    "start_time": "2022-06-16T10:03:36.135Z"
   },
   {
    "duration": 10,
    "start_time": "2022-06-16T10:03:44.169Z"
   },
   {
    "duration": 4,
    "start_time": "2022-06-16T10:03:51.452Z"
   },
   {
    "duration": 14,
    "start_time": "2022-06-16T10:04:03.879Z"
   },
   {
    "duration": 10,
    "start_time": "2022-06-16T10:45:54.807Z"
   },
   {
    "duration": 9,
    "start_time": "2022-06-16T10:46:02.960Z"
   },
   {
    "duration": 135,
    "start_time": "2022-06-16T11:24:59.024Z"
   },
   {
    "duration": 27,
    "start_time": "2022-06-16T11:25:04.086Z"
   },
   {
    "duration": 8,
    "start_time": "2022-06-16T12:22:27.588Z"
   },
   {
    "duration": 10,
    "start_time": "2022-06-16T12:23:00.895Z"
   },
   {
    "duration": 12,
    "start_time": "2022-06-16T12:23:04.870Z"
   },
   {
    "duration": 15,
    "start_time": "2022-06-16T12:23:11.056Z"
   },
   {
    "duration": 10,
    "start_time": "2022-06-16T12:24:18.097Z"
   },
   {
    "duration": 6,
    "start_time": "2022-06-16T12:24:37.411Z"
   },
   {
    "duration": 6,
    "start_time": "2022-06-16T12:24:54.776Z"
   },
   {
    "duration": 28,
    "start_time": "2022-06-16T12:26:56.417Z"
   },
   {
    "duration": 6,
    "start_time": "2022-06-16T12:27:02.095Z"
   },
   {
    "duration": 7,
    "start_time": "2022-06-16T12:27:14.535Z"
   },
   {
    "duration": 7,
    "start_time": "2022-06-16T12:27:19.897Z"
   },
   {
    "duration": 3,
    "start_time": "2022-06-16T12:33:23.266Z"
   },
   {
    "duration": 20,
    "start_time": "2022-06-16T12:33:37.670Z"
   },
   {
    "duration": 13,
    "start_time": "2022-06-16T12:34:05.584Z"
   },
   {
    "duration": 6,
    "start_time": "2022-06-16T12:34:31.498Z"
   },
   {
    "duration": 8,
    "start_time": "2022-06-16T12:39:17.663Z"
   },
   {
    "duration": 7,
    "start_time": "2022-06-16T12:39:28.492Z"
   },
   {
    "duration": 9,
    "start_time": "2022-06-16T12:40:57.922Z"
   },
   {
    "duration": 9,
    "start_time": "2022-06-16T12:41:08.169Z"
   },
   {
    "duration": 10,
    "start_time": "2022-06-16T12:41:15.271Z"
   },
   {
    "duration": 9,
    "start_time": "2022-06-16T12:41:22.267Z"
   },
   {
    "duration": 10,
    "start_time": "2022-06-16T12:41:34.579Z"
   },
   {
    "duration": 12,
    "start_time": "2022-06-16T12:41:37.745Z"
   },
   {
    "duration": 15,
    "start_time": "2022-06-16T12:43:17.595Z"
   },
   {
    "duration": 17,
    "start_time": "2022-06-16T12:43:29.967Z"
   },
   {
    "duration": 25,
    "start_time": "2022-06-16T12:43:33.671Z"
   },
   {
    "duration": 18,
    "start_time": "2022-06-16T12:43:37.764Z"
   },
   {
    "duration": 22,
    "start_time": "2022-06-16T12:43:54.583Z"
   },
   {
    "duration": 13,
    "start_time": "2022-06-16T12:47:29.074Z"
   },
   {
    "duration": 6,
    "start_time": "2022-06-16T12:47:56.970Z"
   },
   {
    "duration": 11,
    "start_time": "2022-06-16T12:49:32.191Z"
   },
   {
    "duration": 16,
    "start_time": "2022-06-16T12:49:42.675Z"
   },
   {
    "duration": 11,
    "start_time": "2022-06-16T12:53:56.001Z"
   },
   {
    "duration": 14,
    "start_time": "2022-06-16T12:54:36.147Z"
   },
   {
    "duration": 8,
    "start_time": "2022-06-16T12:54:58.247Z"
   },
   {
    "duration": 6,
    "start_time": "2022-06-16T12:55:35.590Z"
   },
   {
    "duration": 11,
    "start_time": "2022-06-16T12:55:46.262Z"
   },
   {
    "duration": 12,
    "start_time": "2022-06-16T12:56:03.648Z"
   },
   {
    "duration": 11,
    "start_time": "2022-06-16T12:57:11.463Z"
   },
   {
    "duration": 8,
    "start_time": "2022-06-16T12:57:13.044Z"
   },
   {
    "duration": 410,
    "start_time": "2022-06-16T12:57:14.185Z"
   },
   {
    "duration": 6,
    "start_time": "2022-06-16T12:57:35.480Z"
   },
   {
    "duration": 10,
    "start_time": "2022-06-16T12:57:49.139Z"
   },
   {
    "duration": 9,
    "start_time": "2022-06-16T12:58:22.155Z"
   },
   {
    "duration": 14,
    "start_time": "2022-06-16T12:59:57.748Z"
   },
   {
    "duration": 9,
    "start_time": "2022-06-16T12:59:59.372Z"
   },
   {
    "duration": 13,
    "start_time": "2022-06-16T13:00:07.132Z"
   },
   {
    "duration": 5,
    "start_time": "2022-06-16T13:00:27.140Z"
   },
   {
    "duration": 9,
    "start_time": "2022-06-16T13:01:34.484Z"
   },
   {
    "duration": 69,
    "start_time": "2022-06-16T15:25:57.265Z"
   },
   {
    "duration": 1203,
    "start_time": "2022-06-16T15:26:10.013Z"
   },
   {
    "duration": 4,
    "start_time": "2022-06-16T15:26:13.341Z"
   },
   {
    "duration": 73,
    "start_time": "2022-06-16T15:26:13.347Z"
   },
   {
    "duration": 11,
    "start_time": "2022-06-16T15:26:13.422Z"
   },
   {
    "duration": 74,
    "start_time": "2022-06-16T15:26:13.435Z"
   },
   {
    "duration": 57,
    "start_time": "2022-06-16T15:26:13.511Z"
   },
   {
    "duration": 11,
    "start_time": "2022-06-16T15:26:13.569Z"
   },
   {
    "duration": 10,
    "start_time": "2022-06-16T15:26:13.582Z"
   },
   {
    "duration": 7,
    "start_time": "2022-06-16T15:26:13.594Z"
   },
   {
    "duration": 176,
    "start_time": "2022-06-16T15:26:13.603Z"
   },
   {
    "duration": 20,
    "start_time": "2022-06-16T15:26:13.781Z"
   },
   {
    "duration": 134,
    "start_time": "2022-06-16T15:26:13.804Z"
   },
   {
    "duration": 5,
    "start_time": "2022-06-16T15:26:13.940Z"
   },
   {
    "duration": 5,
    "start_time": "2022-06-16T15:26:13.947Z"
   },
   {
    "duration": 12,
    "start_time": "2022-06-16T15:26:13.954Z"
   },
   {
    "duration": 27,
    "start_time": "2022-06-16T15:26:13.968Z"
   },
   {
    "duration": 11,
    "start_time": "2022-06-16T15:26:13.997Z"
   },
   {
    "duration": 261,
    "start_time": "2022-06-16T15:26:14.010Z"
   },
   {
    "duration": 234,
    "start_time": "2022-06-16T15:26:14.272Z"
   },
   {
    "duration": 4,
    "start_time": "2022-06-16T15:26:14.508Z"
   },
   {
    "duration": 419,
    "start_time": "2022-06-16T15:26:14.513Z"
   },
   {
    "duration": 253,
    "start_time": "2022-06-16T15:26:14.933Z"
   },
   {
    "duration": 370,
    "start_time": "2022-06-16T15:26:15.188Z"
   },
   {
    "duration": 12,
    "start_time": "2022-06-16T15:26:15.560Z"
   },
   {
    "duration": 123,
    "start_time": "2022-06-16T15:26:15.573Z"
   },
   {
    "duration": 4,
    "start_time": "2022-06-16T15:26:15.698Z"
   },
   {
    "duration": 130,
    "start_time": "2022-06-16T15:26:15.704Z"
   },
   {
    "duration": 4,
    "start_time": "2022-06-16T15:26:15.835Z"
   },
   {
    "duration": 197,
    "start_time": "2022-06-16T15:26:15.840Z"
   },
   {
    "duration": 125,
    "start_time": "2022-06-16T15:26:16.042Z"
   },
   {
    "duration": 6,
    "start_time": "2022-06-16T15:26:16.168Z"
   },
   {
    "duration": 139,
    "start_time": "2022-06-16T15:26:16.176Z"
   },
   {
    "duration": 20,
    "start_time": "2022-06-16T15:26:16.316Z"
   },
   {
    "duration": 11,
    "start_time": "2022-06-16T15:26:16.338Z"
   },
   {
    "duration": 8,
    "start_time": "2022-06-16T15:26:16.351Z"
   },
   {
    "duration": 7,
    "start_time": "2022-06-16T15:26:16.361Z"
   },
   {
    "duration": 25,
    "start_time": "2022-06-16T15:26:16.369Z"
   },
   {
    "duration": 11,
    "start_time": "2022-06-16T15:26:16.396Z"
   },
   {
    "duration": 10,
    "start_time": "2022-06-16T15:26:16.409Z"
   },
   {
    "duration": 14,
    "start_time": "2022-06-16T15:26:16.421Z"
   },
   {
    "duration": 10,
    "start_time": "2022-06-16T15:26:16.437Z"
   },
   {
    "duration": 10,
    "start_time": "2022-06-16T15:26:16.448Z"
   },
   {
    "duration": 34,
    "start_time": "2022-06-16T15:26:16.460Z"
   },
   {
    "duration": 9,
    "start_time": "2022-06-16T15:26:16.497Z"
   },
   {
    "duration": 10,
    "start_time": "2022-06-16T15:26:16.508Z"
   },
   {
    "duration": 20,
    "start_time": "2022-06-16T15:26:16.520Z"
   },
   {
    "duration": 4,
    "start_time": "2022-06-16T15:26:16.543Z"
   },
   {
    "duration": 48,
    "start_time": "2022-06-16T15:26:16.549Z"
   },
   {
    "duration": 10,
    "start_time": "2022-06-16T15:26:16.599Z"
   },
   {
    "duration": 12,
    "start_time": "2022-06-16T15:27:45.545Z"
   },
   {
    "duration": 38,
    "start_time": "2022-06-16T15:27:50.464Z"
   },
   {
    "duration": 46,
    "start_time": "2022-06-16T15:28:05.010Z"
   },
   {
    "duration": 9,
    "start_time": "2022-06-16T15:28:09.029Z"
   },
   {
    "duration": 12,
    "start_time": "2022-06-16T15:29:21.918Z"
   },
   {
    "duration": 112,
    "start_time": "2022-06-16T15:32:39.486Z"
   },
   {
    "duration": 151,
    "start_time": "2022-06-16T15:37:03.605Z"
   },
   {
    "duration": 168,
    "start_time": "2022-06-16T15:37:41.129Z"
   },
   {
    "duration": 112,
    "start_time": "2022-06-16T15:37:54.587Z"
   },
   {
    "duration": 108,
    "start_time": "2022-06-16T15:38:07.674Z"
   },
   {
    "duration": 106,
    "start_time": "2022-06-16T15:38:16.611Z"
   },
   {
    "duration": 91,
    "start_time": "2022-06-19T12:57:55.510Z"
   },
   {
    "duration": 1511,
    "start_time": "2022-06-19T12:58:00.252Z"
   },
   {
    "duration": 89,
    "start_time": "2022-06-19T12:58:01.776Z"
   },
   {
    "duration": 14,
    "start_time": "2022-06-19T12:58:01.867Z"
   },
   {
    "duration": 158,
    "start_time": "2022-06-19T12:58:01.883Z"
   },
   {
    "duration": 74,
    "start_time": "2022-06-19T12:58:02.043Z"
   },
   {
    "duration": 23,
    "start_time": "2022-06-19T12:58:02.121Z"
   },
   {
    "duration": 68,
    "start_time": "2022-06-19T12:58:02.147Z"
   },
   {
    "duration": 68,
    "start_time": "2022-06-19T12:58:02.218Z"
   },
   {
    "duration": 276,
    "start_time": "2022-06-19T12:58:02.289Z"
   },
   {
    "duration": 14,
    "start_time": "2022-06-19T12:58:02.572Z"
   },
   {
    "duration": 166,
    "start_time": "2022-06-19T12:58:02.588Z"
   },
   {
    "duration": 7,
    "start_time": "2022-06-19T12:58:02.756Z"
   },
   {
    "duration": 56,
    "start_time": "2022-06-19T12:58:02.764Z"
   },
   {
    "duration": 77,
    "start_time": "2022-06-19T12:58:02.825Z"
   },
   {
    "duration": 11,
    "start_time": "2022-06-19T12:58:02.903Z"
   },
   {
    "duration": 62,
    "start_time": "2022-06-19T12:58:02.916Z"
   },
   {
    "duration": 436,
    "start_time": "2022-06-19T12:58:02.980Z"
   },
   {
    "duration": 259,
    "start_time": "2022-06-19T12:58:03.425Z"
   },
   {
    "duration": 5,
    "start_time": "2022-06-19T12:58:03.686Z"
   },
   {
    "duration": 471,
    "start_time": "2022-06-19T12:58:03.693Z"
   },
   {
    "duration": 270,
    "start_time": "2022-06-19T12:58:04.165Z"
   },
   {
    "duration": 420,
    "start_time": "2022-06-19T12:58:04.437Z"
   },
   {
    "duration": 14,
    "start_time": "2022-06-19T12:58:04.863Z"
   },
   {
    "duration": 136,
    "start_time": "2022-06-19T12:58:04.879Z"
   },
   {
    "duration": 5,
    "start_time": "2022-06-19T12:58:05.017Z"
   },
   {
    "duration": 218,
    "start_time": "2022-06-19T12:58:05.024Z"
   },
   {
    "duration": 9,
    "start_time": "2022-06-19T12:58:05.244Z"
   },
   {
    "duration": 271,
    "start_time": "2022-06-19T12:58:05.255Z"
   },
   {
    "duration": 189,
    "start_time": "2022-06-19T12:58:05.528Z"
   },
   {
    "duration": 8,
    "start_time": "2022-06-19T12:58:05.720Z"
   },
   {
    "duration": 209,
    "start_time": "2022-06-19T12:58:05.730Z"
   },
   {
    "duration": 34,
    "start_time": "2022-06-19T12:58:05.941Z"
   },
   {
    "duration": 28,
    "start_time": "2022-06-19T12:58:05.978Z"
   },
   {
    "duration": 10,
    "start_time": "2022-06-19T12:58:06.009Z"
   },
   {
    "duration": 66,
    "start_time": "2022-06-19T12:58:06.021Z"
   },
   {
    "duration": 10,
    "start_time": "2022-06-19T12:58:06.090Z"
   },
   {
    "duration": 15,
    "start_time": "2022-06-19T12:58:06.102Z"
   },
   {
    "duration": 15,
    "start_time": "2022-06-19T12:58:06.119Z"
   },
   {
    "duration": 50,
    "start_time": "2022-06-19T12:58:06.136Z"
   },
   {
    "duration": 9,
    "start_time": "2022-06-19T12:58:06.188Z"
   },
   {
    "duration": 19,
    "start_time": "2022-06-19T12:58:06.200Z"
   },
   {
    "duration": 5,
    "start_time": "2022-06-19T12:58:06.222Z"
   },
   {
    "duration": 56,
    "start_time": "2022-06-19T12:58:06.229Z"
   },
   {
    "duration": 0,
    "start_time": "2022-06-19T12:58:06.288Z"
   },
   {
    "duration": 0,
    "start_time": "2022-06-19T12:58:06.289Z"
   },
   {
    "duration": 0,
    "start_time": "2022-06-19T12:58:06.291Z"
   },
   {
    "duration": 0,
    "start_time": "2022-06-19T12:58:06.294Z"
   },
   {
    "duration": 0,
    "start_time": "2022-06-19T12:58:06.294Z"
   },
   {
    "duration": 0,
    "start_time": "2022-06-19T12:58:06.296Z"
   },
   {
    "duration": 0,
    "start_time": "2022-06-19T12:58:06.298Z"
   },
   {
    "duration": 5,
    "start_time": "2022-06-19T12:58:37.331Z"
   },
   {
    "duration": 45,
    "start_time": "2022-06-19T12:58:37.348Z"
   },
   {
    "duration": 8,
    "start_time": "2022-06-19T12:58:37.396Z"
   },
   {
    "duration": 78,
    "start_time": "2022-06-19T12:58:37.406Z"
   },
   {
    "duration": 20,
    "start_time": "2022-06-19T12:58:37.486Z"
   },
   {
    "duration": 9,
    "start_time": "2022-06-19T12:58:37.508Z"
   },
   {
    "duration": 23,
    "start_time": "2022-06-19T12:58:37.518Z"
   },
   {
    "duration": 28,
    "start_time": "2022-06-19T12:58:37.543Z"
   },
   {
    "duration": 192,
    "start_time": "2022-06-19T12:58:37.573Z"
   },
   {
    "duration": 8,
    "start_time": "2022-06-19T12:58:37.767Z"
   },
   {
    "duration": 138,
    "start_time": "2022-06-19T12:58:37.777Z"
   },
   {
    "duration": 6,
    "start_time": "2022-06-19T12:58:37.917Z"
   },
   {
    "duration": 27,
    "start_time": "2022-06-19T12:58:37.932Z"
   },
   {
    "duration": 24,
    "start_time": "2022-06-19T12:58:37.961Z"
   },
   {
    "duration": 5,
    "start_time": "2022-06-19T12:58:37.989Z"
   },
   {
    "duration": 11,
    "start_time": "2022-06-19T12:58:37.995Z"
   },
   {
    "duration": 310,
    "start_time": "2022-06-19T12:58:38.008Z"
   },
   {
    "duration": 427,
    "start_time": "2022-06-19T12:58:38.328Z"
   },
   {
    "duration": 10,
    "start_time": "2022-06-19T12:58:38.757Z"
   },
   {
    "duration": 364,
    "start_time": "2022-06-19T12:58:38.770Z"
   },
   {
    "duration": 270,
    "start_time": "2022-06-19T12:58:39.145Z"
   },
   {
    "duration": 414,
    "start_time": "2022-06-19T12:58:39.417Z"
   },
   {
    "duration": 12,
    "start_time": "2022-06-19T12:58:39.838Z"
   },
   {
    "duration": 136,
    "start_time": "2022-06-19T12:58:39.851Z"
   },
   {
    "duration": 4,
    "start_time": "2022-06-19T12:58:39.989Z"
   },
   {
    "duration": 171,
    "start_time": "2022-06-19T12:58:39.995Z"
   },
   {
    "duration": 5,
    "start_time": "2022-06-19T12:58:40.168Z"
   },
   {
    "duration": 222,
    "start_time": "2022-06-19T12:58:40.175Z"
   },
   {
    "duration": 158,
    "start_time": "2022-06-19T12:58:40.399Z"
   },
   {
    "duration": 8,
    "start_time": "2022-06-19T12:58:40.559Z"
   },
   {
    "duration": 180,
    "start_time": "2022-06-19T12:58:40.570Z"
   },
   {
    "duration": 40,
    "start_time": "2022-06-19T12:58:40.752Z"
   },
   {
    "duration": 15,
    "start_time": "2022-06-19T12:58:40.795Z"
   },
   {
    "duration": 93,
    "start_time": "2022-06-19T12:58:40.814Z"
   },
   {
    "duration": 14,
    "start_time": "2022-06-19T12:58:40.909Z"
   },
   {
    "duration": 57,
    "start_time": "2022-06-19T12:58:40.924Z"
   },
   {
    "duration": 18,
    "start_time": "2022-06-19T12:58:40.984Z"
   },
   {
    "duration": 8,
    "start_time": "2022-06-19T12:58:41.004Z"
   },
   {
    "duration": 33,
    "start_time": "2022-06-19T12:58:41.014Z"
   },
   {
    "duration": 19,
    "start_time": "2022-06-19T12:58:41.052Z"
   },
   {
    "duration": 16,
    "start_time": "2022-06-19T12:58:41.073Z"
   },
   {
    "duration": 5,
    "start_time": "2022-06-19T12:58:41.092Z"
   },
   {
    "duration": 11,
    "start_time": "2022-06-19T12:58:41.099Z"
   },
   {
    "duration": 10,
    "start_time": "2022-06-19T12:58:41.111Z"
   },
   {
    "duration": 26,
    "start_time": "2022-06-19T12:58:41.123Z"
   },
   {
    "duration": 51,
    "start_time": "2022-06-19T12:58:41.151Z"
   },
   {
    "duration": 4,
    "start_time": "2022-06-19T12:58:41.204Z"
   },
   {
    "duration": 25,
    "start_time": "2022-06-19T12:58:41.210Z"
   },
   {
    "duration": 15,
    "start_time": "2022-06-19T12:58:41.238Z"
   },
   {
    "duration": 340,
    "start_time": "2022-06-19T12:59:06.863Z"
   },
   {
    "duration": 370,
    "start_time": "2022-06-19T12:59:11.763Z"
   },
   {
    "duration": 370,
    "start_time": "2022-06-19T12:59:23.948Z"
   },
   {
    "duration": 316,
    "start_time": "2022-06-19T13:03:50.169Z"
   },
   {
    "duration": 407,
    "start_time": "2022-06-19T13:05:41.597Z"
   },
   {
    "duration": 324,
    "start_time": "2022-06-19T13:06:20.503Z"
   },
   {
    "duration": 408,
    "start_time": "2022-06-19T13:18:57.708Z"
   },
   {
    "duration": 368,
    "start_time": "2022-06-19T13:19:29.474Z"
   },
   {
    "duration": 344,
    "start_time": "2022-06-19T13:19:49.503Z"
   },
   {
    "duration": 48,
    "start_time": "2022-06-19T13:24:54.156Z"
   },
   {
    "duration": 58,
    "start_time": "2022-06-19T13:25:15.597Z"
   },
   {
    "duration": 429,
    "start_time": "2022-06-19T13:25:38.986Z"
   },
   {
    "duration": 509,
    "start_time": "2022-06-19T13:26:02.187Z"
   },
   {
    "duration": 492,
    "start_time": "2022-06-19T13:26:09.589Z"
   },
   {
    "duration": 21,
    "start_time": "2022-06-19T14:11:01.116Z"
   },
   {
    "duration": 117,
    "start_time": "2022-06-19T14:18:44.646Z"
   },
   {
    "duration": 75,
    "start_time": "2022-06-19T14:23:01.007Z"
   },
   {
    "duration": 6,
    "start_time": "2022-06-19T14:23:41.586Z"
   },
   {
    "duration": 13,
    "start_time": "2022-06-19T14:25:01.009Z"
   },
   {
    "duration": 75,
    "start_time": "2022-06-19T14:26:21.376Z"
   },
   {
    "duration": 16,
    "start_time": "2022-06-19T14:26:46.930Z"
   },
   {
    "duration": 14,
    "start_time": "2022-06-19T14:27:10.813Z"
   },
   {
    "duration": 7,
    "start_time": "2022-06-19T14:27:12.673Z"
   },
   {
    "duration": 13,
    "start_time": "2022-06-19T14:28:44.450Z"
   },
   {
    "duration": 7,
    "start_time": "2022-06-19T14:28:47.917Z"
   },
   {
    "duration": 116,
    "start_time": "2022-06-19T14:28:48.861Z"
   },
   {
    "duration": 16,
    "start_time": "2022-06-19T14:30:03.155Z"
   },
   {
    "duration": 15,
    "start_time": "2022-06-19T14:30:21.757Z"
   },
   {
    "duration": 12,
    "start_time": "2022-06-19T14:30:34.767Z"
   },
   {
    "duration": 134,
    "start_time": "2022-06-19T14:37:29.443Z"
   },
   {
    "duration": 61,
    "start_time": "2022-06-25T12:28:05.829Z"
   },
   {
    "duration": 1358,
    "start_time": "2022-06-25T12:28:11.892Z"
   },
   {
    "duration": 85,
    "start_time": "2022-06-25T12:28:13.253Z"
   },
   {
    "duration": 3,
    "start_time": "2022-06-25T12:28:13.339Z"
   },
   {
    "duration": 21,
    "start_time": "2022-06-25T12:28:13.344Z"
   },
   {
    "duration": 169,
    "start_time": "2022-06-25T12:28:13.367Z"
   },
   {
    "duration": 81,
    "start_time": "2022-06-25T12:28:13.538Z"
   },
   {
    "duration": 11,
    "start_time": "2022-06-25T12:28:13.621Z"
   },
   {
    "duration": 10,
    "start_time": "2022-06-25T12:28:13.633Z"
   },
   {
    "duration": 13,
    "start_time": "2022-06-25T12:28:13.645Z"
   },
   {
    "duration": 184,
    "start_time": "2022-06-25T12:28:13.662Z"
   },
   {
    "duration": 7,
    "start_time": "2022-06-25T12:28:13.848Z"
   },
   {
    "duration": 145,
    "start_time": "2022-06-25T12:28:13.856Z"
   },
   {
    "duration": 8,
    "start_time": "2022-06-25T12:28:14.002Z"
   },
   {
    "duration": 5,
    "start_time": "2022-06-25T12:28:14.012Z"
   },
   {
    "duration": 14,
    "start_time": "2022-06-25T12:28:14.018Z"
   },
   {
    "duration": 6,
    "start_time": "2022-06-25T12:28:14.033Z"
   },
   {
    "duration": 52,
    "start_time": "2022-06-25T12:28:14.041Z"
   },
   {
    "duration": 277,
    "start_time": "2022-06-25T12:28:14.095Z"
   },
   {
    "duration": 270,
    "start_time": "2022-06-25T12:28:14.375Z"
   },
   {
    "duration": 22,
    "start_time": "2022-06-25T12:28:14.647Z"
   },
   {
    "duration": 405,
    "start_time": "2022-06-25T12:28:14.674Z"
   },
   {
    "duration": 298,
    "start_time": "2022-06-25T12:28:15.081Z"
   },
   {
    "duration": 389,
    "start_time": "2022-06-25T12:28:15.383Z"
   },
   {
    "duration": 14,
    "start_time": "2022-06-25T12:28:15.774Z"
   },
   {
    "duration": 12,
    "start_time": "2022-06-25T12:28:15.791Z"
   },
   {
    "duration": 120,
    "start_time": "2022-06-25T12:28:15.805Z"
   },
   {
    "duration": 4,
    "start_time": "2022-06-25T12:28:15.926Z"
   },
   {
    "duration": 143,
    "start_time": "2022-06-25T12:28:15.933Z"
   },
   {
    "duration": 13,
    "start_time": "2022-06-25T12:28:16.077Z"
   },
   {
    "duration": 9,
    "start_time": "2022-06-25T12:28:16.092Z"
   },
   {
    "duration": 6,
    "start_time": "2022-06-25T12:28:16.102Z"
   },
   {
    "duration": 11,
    "start_time": "2022-06-25T12:28:16.109Z"
   },
   {
    "duration": 8,
    "start_time": "2022-06-25T12:28:16.122Z"
   },
   {
    "duration": 36,
    "start_time": "2022-06-25T12:28:16.131Z"
   },
   {
    "duration": 5,
    "start_time": "2022-06-25T12:28:16.168Z"
   },
   {
    "duration": 27,
    "start_time": "2022-06-25T12:28:16.175Z"
   },
   {
    "duration": 12,
    "start_time": "2022-06-25T12:28:16.204Z"
   },
   {
    "duration": 63,
    "start_time": "2022-06-25T12:28:16.218Z"
   },
   {
    "duration": 0,
    "start_time": "2022-06-25T12:28:16.283Z"
   },
   {
    "duration": 0,
    "start_time": "2022-06-25T12:28:16.284Z"
   },
   {
    "duration": 0,
    "start_time": "2022-06-25T12:28:16.285Z"
   },
   {
    "duration": 0,
    "start_time": "2022-06-25T12:28:16.286Z"
   },
   {
    "duration": 1063,
    "start_time": "2022-06-25T12:29:12.887Z"
   },
   {
    "duration": 39,
    "start_time": "2022-06-25T12:29:13.952Z"
   },
   {
    "duration": 3,
    "start_time": "2022-06-25T12:29:13.992Z"
   },
   {
    "duration": 21,
    "start_time": "2022-06-25T12:29:13.996Z"
   },
   {
    "duration": 76,
    "start_time": "2022-06-25T12:29:14.020Z"
   },
   {
    "duration": 21,
    "start_time": "2022-06-25T12:29:14.098Z"
   },
   {
    "duration": 11,
    "start_time": "2022-06-25T12:29:14.121Z"
   },
   {
    "duration": 18,
    "start_time": "2022-06-25T12:29:14.133Z"
   },
   {
    "duration": 44,
    "start_time": "2022-06-25T12:29:14.153Z"
   },
   {
    "duration": 164,
    "start_time": "2022-06-25T12:29:14.198Z"
   },
   {
    "duration": 9,
    "start_time": "2022-06-25T12:29:14.371Z"
   },
   {
    "duration": 138,
    "start_time": "2022-06-25T12:29:14.382Z"
   },
   {
    "duration": 18,
    "start_time": "2022-06-25T12:29:14.522Z"
   },
   {
    "duration": 12,
    "start_time": "2022-06-25T12:29:14.543Z"
   },
   {
    "duration": 52,
    "start_time": "2022-06-25T12:29:14.556Z"
   },
   {
    "duration": 12,
    "start_time": "2022-06-25T12:29:14.609Z"
   },
   {
    "duration": 23,
    "start_time": "2022-06-25T12:29:14.623Z"
   },
   {
    "duration": 343,
    "start_time": "2022-06-25T12:29:14.648Z"
   },
   {
    "duration": 289,
    "start_time": "2022-06-25T12:29:14.993Z"
   },
   {
    "duration": 5,
    "start_time": "2022-06-25T12:29:15.284Z"
   },
   {
    "duration": 364,
    "start_time": "2022-06-25T12:29:15.290Z"
   },
   {
    "duration": 316,
    "start_time": "2022-06-25T12:29:15.658Z"
   },
   {
    "duration": 396,
    "start_time": "2022-06-25T12:29:15.976Z"
   },
   {
    "duration": 12,
    "start_time": "2022-06-25T12:29:16.382Z"
   },
   {
    "duration": 17,
    "start_time": "2022-06-25T12:29:16.397Z"
   },
   {
    "duration": 113,
    "start_time": "2022-06-25T12:29:16.415Z"
   },
   {
    "duration": 4,
    "start_time": "2022-06-25T12:29:16.530Z"
   },
   {
    "duration": 151,
    "start_time": "2022-06-25T12:29:16.536Z"
   },
   {
    "duration": 5,
    "start_time": "2022-06-25T12:29:16.691Z"
   },
   {
    "duration": 9,
    "start_time": "2022-06-25T12:29:16.698Z"
   },
   {
    "duration": 10,
    "start_time": "2022-06-25T12:29:16.709Z"
   },
   {
    "duration": 16,
    "start_time": "2022-06-25T12:29:16.721Z"
   },
   {
    "duration": 33,
    "start_time": "2022-06-25T12:29:16.739Z"
   },
   {
    "duration": 34,
    "start_time": "2022-06-25T12:29:16.774Z"
   },
   {
    "duration": 5,
    "start_time": "2022-06-25T12:29:16.810Z"
   },
   {
    "duration": 13,
    "start_time": "2022-06-25T12:29:16.817Z"
   },
   {
    "duration": 10,
    "start_time": "2022-06-25T12:29:16.832Z"
   },
   {
    "duration": 144,
    "start_time": "2022-06-25T12:29:16.844Z"
   },
   {
    "duration": 0,
    "start_time": "2022-06-25T12:29:16.993Z"
   },
   {
    "duration": 0,
    "start_time": "2022-06-25T12:29:16.995Z"
   },
   {
    "duration": 0,
    "start_time": "2022-06-25T12:29:16.996Z"
   },
   {
    "duration": 0,
    "start_time": "2022-06-25T12:29:16.997Z"
   },
   {
    "duration": 20,
    "start_time": "2022-06-25T12:36:39.092Z"
   },
   {
    "duration": 10,
    "start_time": "2022-06-25T12:40:41.689Z"
   },
   {
    "duration": 64,
    "start_time": "2022-06-25T12:43:15.718Z"
   },
   {
    "duration": 14,
    "start_time": "2022-06-25T12:43:22.004Z"
   },
   {
    "duration": 20,
    "start_time": "2022-06-25T12:43:53.642Z"
   },
   {
    "duration": 128,
    "start_time": "2022-06-25T12:45:25.194Z"
   },
   {
    "duration": 161,
    "start_time": "2022-06-25T12:46:05.397Z"
   },
   {
    "duration": 383,
    "start_time": "2022-06-25T12:48:56.605Z"
   },
   {
    "duration": 327,
    "start_time": "2022-06-25T12:49:18.088Z"
   },
   {
    "duration": 380,
    "start_time": "2022-06-25T12:49:36.686Z"
   },
   {
    "duration": 522,
    "start_time": "2022-06-25T12:50:09.724Z"
   },
   {
    "duration": 484,
    "start_time": "2022-06-25T12:50:18.233Z"
   },
   {
    "duration": 470,
    "start_time": "2022-06-25T12:51:15.807Z"
   },
   {
    "duration": 418,
    "start_time": "2022-06-25T12:51:42.195Z"
   },
   {
    "duration": 377,
    "start_time": "2022-06-25T12:52:19.403Z"
   },
   {
    "duration": 474,
    "start_time": "2022-06-25T12:54:11.926Z"
   },
   {
    "duration": 550,
    "start_time": "2022-06-25T12:54:37.782Z"
   },
   {
    "duration": 531,
    "start_time": "2022-06-25T12:55:13.924Z"
   },
   {
    "duration": 1041,
    "start_time": "2022-06-25T12:56:41.993Z"
   },
   {
    "duration": 15,
    "start_time": "2022-06-25T12:57:26.185Z"
   },
   {
    "duration": 8,
    "start_time": "2022-06-25T12:58:45.303Z"
   },
   {
    "duration": 16,
    "start_time": "2022-06-25T12:59:01.082Z"
   },
   {
    "duration": 7,
    "start_time": "2022-06-25T12:59:28.208Z"
   },
   {
    "duration": 6,
    "start_time": "2022-06-25T12:59:29.408Z"
   },
   {
    "duration": 6,
    "start_time": "2022-06-25T12:59:33.841Z"
   },
   {
    "duration": 3,
    "start_time": "2022-06-25T12:59:50.331Z"
   },
   {
    "duration": 64,
    "start_time": "2022-06-25T12:59:50.338Z"
   },
   {
    "duration": 5,
    "start_time": "2022-06-25T12:59:50.405Z"
   },
   {
    "duration": 19,
    "start_time": "2022-06-25T12:59:50.412Z"
   },
   {
    "duration": 85,
    "start_time": "2022-06-25T12:59:50.433Z"
   },
   {
    "duration": 21,
    "start_time": "2022-06-25T12:59:50.520Z"
   },
   {
    "duration": 11,
    "start_time": "2022-06-25T12:59:50.543Z"
   },
   {
    "duration": 30,
    "start_time": "2022-06-25T12:59:50.556Z"
   },
   {
    "duration": 27,
    "start_time": "2022-06-25T12:59:50.589Z"
   },
   {
    "duration": 208,
    "start_time": "2022-06-25T12:59:50.618Z"
   },
   {
    "duration": 10,
    "start_time": "2022-06-25T12:59:50.829Z"
   },
   {
    "duration": 150,
    "start_time": "2022-06-25T12:59:50.840Z"
   },
   {
    "duration": 33,
    "start_time": "2022-06-25T12:59:50.992Z"
   },
   {
    "duration": 7,
    "start_time": "2022-06-25T12:59:51.027Z"
   },
   {
    "duration": 16,
    "start_time": "2022-06-25T12:59:51.036Z"
   },
   {
    "duration": 56,
    "start_time": "2022-06-25T12:59:51.054Z"
   },
   {
    "duration": 17,
    "start_time": "2022-06-25T12:59:51.112Z"
   },
   {
    "duration": 507,
    "start_time": "2022-06-25T12:59:51.131Z"
   },
   {
    "duration": 405,
    "start_time": "2022-06-25T12:59:51.640Z"
   },
   {
    "duration": 4,
    "start_time": "2022-06-25T12:59:52.048Z"
   },
   {
    "duration": 500,
    "start_time": "2022-06-25T12:59:52.063Z"
   },
   {
    "duration": 406,
    "start_time": "2022-06-25T12:59:52.565Z"
   },
   {
    "duration": 555,
    "start_time": "2022-06-25T12:59:52.973Z"
   },
   {
    "duration": 13,
    "start_time": "2022-06-25T12:59:53.531Z"
   },
   {
    "duration": 15,
    "start_time": "2022-06-25T12:59:53.561Z"
   },
   {
    "duration": 218,
    "start_time": "2022-06-25T12:59:53.579Z"
   },
   {
    "duration": 9,
    "start_time": "2022-06-25T12:59:53.802Z"
   },
   {
    "duration": 204,
    "start_time": "2022-06-25T12:59:53.815Z"
   },
   {
    "duration": 4,
    "start_time": "2022-06-25T12:59:54.023Z"
   },
   {
    "duration": 8,
    "start_time": "2022-06-25T12:59:54.029Z"
   },
   {
    "duration": 8,
    "start_time": "2022-06-25T12:59:54.039Z"
   },
   {
    "duration": 31,
    "start_time": "2022-06-25T12:59:54.063Z"
   },
   {
    "duration": 34,
    "start_time": "2022-06-25T12:59:54.096Z"
   },
   {
    "duration": 18,
    "start_time": "2022-06-25T12:59:54.132Z"
   },
   {
    "duration": 5,
    "start_time": "2022-06-25T12:59:54.151Z"
   },
   {
    "duration": 65,
    "start_time": "2022-06-25T12:59:54.157Z"
   },
   {
    "duration": 21,
    "start_time": "2022-06-25T12:59:54.224Z"
   },
   {
    "duration": 6,
    "start_time": "2022-06-25T12:59:54.247Z"
   },
   {
    "duration": 56,
    "start_time": "2022-06-25T12:59:54.255Z"
   },
   {
    "duration": 20,
    "start_time": "2022-06-25T12:59:54.312Z"
   },
   {
    "duration": 8,
    "start_time": "2022-06-25T12:59:54.334Z"
   },
   {
    "duration": 26,
    "start_time": "2022-06-25T12:59:54.344Z"
   },
   {
    "duration": 54,
    "start_time": "2022-06-25T12:59:54.372Z"
   },
   {
    "duration": 169,
    "start_time": "2022-06-25T13:03:43.974Z"
   },
   {
    "duration": 170,
    "start_time": "2022-06-25T13:04:30.136Z"
   },
   {
    "duration": 314,
    "start_time": "2022-06-25T13:05:09.583Z"
   },
   {
    "duration": 56,
    "start_time": "2022-06-25T13:05:44.188Z"
   },
   {
    "duration": 387,
    "start_time": "2022-06-25T13:05:52.055Z"
   },
   {
    "duration": 49,
    "start_time": "2022-06-25T13:14:41.414Z"
   },
   {
    "duration": 16,
    "start_time": "2022-06-25T13:17:24.462Z"
   },
   {
    "duration": 8,
    "start_time": "2022-06-25T13:17:33.503Z"
   },
   {
    "duration": 17,
    "start_time": "2022-06-25T13:17:45.759Z"
   },
   {
    "duration": 11,
    "start_time": "2022-06-25T13:18:43.656Z"
   },
   {
    "duration": 24,
    "start_time": "2022-06-25T13:22:21.280Z"
   },
   {
    "duration": 10,
    "start_time": "2022-06-25T13:22:57.206Z"
   },
   {
    "duration": 17,
    "start_time": "2022-06-25T13:28:53.821Z"
   },
   {
    "duration": 19,
    "start_time": "2022-06-25T13:28:59.895Z"
   },
   {
    "duration": 12,
    "start_time": "2022-06-25T13:37:57.030Z"
   },
   {
    "duration": 13,
    "start_time": "2022-06-25T13:38:13.815Z"
   },
   {
    "duration": 12,
    "start_time": "2022-06-25T13:38:21.491Z"
   },
   {
    "duration": 12,
    "start_time": "2022-06-25T13:38:27.613Z"
   },
   {
    "duration": 23,
    "start_time": "2022-06-25T13:38:33.907Z"
   },
   {
    "duration": 80,
    "start_time": "2022-06-25T13:38:51.142Z"
   },
   {
    "duration": 152,
    "start_time": "2022-06-25T13:38:56.701Z"
   },
   {
    "duration": 937,
    "start_time": "2022-06-25T13:40:00.398Z"
   },
   {
    "duration": 6,
    "start_time": "2022-06-25T13:40:01.786Z"
   },
   {
    "duration": 1027,
    "start_time": "2022-06-25T13:40:19.923Z"
   },
   {
    "duration": 128,
    "start_time": "2022-06-25T13:40:44.887Z"
   },
   {
    "duration": 7,
    "start_time": "2022-06-25T13:40:47.093Z"
   },
   {
    "duration": 6,
    "start_time": "2022-06-25T13:40:49.622Z"
   },
   {
    "duration": 13,
    "start_time": "2022-06-25T13:40:52.099Z"
   },
   {
    "duration": 10,
    "start_time": "2022-06-25T13:40:52.881Z"
   },
   {
    "duration": 49,
    "start_time": "2022-06-25T13:40:58.385Z"
   },
   {
    "duration": 13,
    "start_time": "2022-06-25T13:41:19.692Z"
   },
   {
    "duration": 18,
    "start_time": "2022-06-25T13:41:33.728Z"
   },
   {
    "duration": 83,
    "start_time": "2022-06-25T13:49:15.323Z"
   },
   {
    "duration": 109,
    "start_time": "2022-06-25T13:52:37.681Z"
   },
   {
    "duration": 86,
    "start_time": "2022-06-25T13:52:51.826Z"
   },
   {
    "duration": 94,
    "start_time": "2022-06-25T13:54:36.491Z"
   },
   {
    "duration": 116,
    "start_time": "2022-06-25T13:54:50.179Z"
   },
   {
    "duration": 122,
    "start_time": "2022-06-25T13:57:50.023Z"
   },
   {
    "duration": 108,
    "start_time": "2022-06-25T13:58:14.291Z"
   },
   {
    "duration": 5,
    "start_time": "2022-06-25T14:01:23.586Z"
   },
   {
    "duration": 5,
    "start_time": "2022-06-25T14:01:26.618Z"
   },
   {
    "duration": 6,
    "start_time": "2022-06-25T14:01:29.997Z"
   },
   {
    "duration": 13,
    "start_time": "2022-06-25T14:01:32.272Z"
   },
   {
    "duration": 9,
    "start_time": "2022-06-25T14:01:33.005Z"
   },
   {
    "duration": 12,
    "start_time": "2022-06-25T14:01:34.570Z"
   },
   {
    "duration": 17,
    "start_time": "2022-06-25T14:01:47.387Z"
   },
   {
    "duration": 6,
    "start_time": "2022-06-25T14:02:49.469Z"
   },
   {
    "duration": 5,
    "start_time": "2022-06-25T14:02:50.632Z"
   },
   {
    "duration": 20,
    "start_time": "2022-06-25T14:02:52.852Z"
   },
   {
    "duration": 8,
    "start_time": "2022-06-25T14:02:54.177Z"
   },
   {
    "duration": 10,
    "start_time": "2022-06-25T14:02:55.597Z"
   },
   {
    "duration": 13,
    "start_time": "2022-06-25T14:03:14.539Z"
   },
   {
    "duration": 3,
    "start_time": "2022-06-25T14:03:34.472Z"
   },
   {
    "duration": 25,
    "start_time": "2022-06-25T14:03:34.488Z"
   },
   {
    "duration": 3,
    "start_time": "2022-06-25T14:03:34.514Z"
   },
   {
    "duration": 12,
    "start_time": "2022-06-25T14:03:34.518Z"
   },
   {
    "duration": 54,
    "start_time": "2022-06-25T14:03:34.532Z"
   },
   {
    "duration": 17,
    "start_time": "2022-06-25T14:03:34.588Z"
   },
   {
    "duration": 10,
    "start_time": "2022-06-25T14:03:34.606Z"
   },
   {
    "duration": 12,
    "start_time": "2022-06-25T14:03:34.618Z"
   },
   {
    "duration": 7,
    "start_time": "2022-06-25T14:03:34.632Z"
   },
   {
    "duration": 155,
    "start_time": "2022-06-25T14:03:34.640Z"
   },
   {
    "duration": 7,
    "start_time": "2022-06-25T14:03:34.797Z"
   },
   {
    "duration": 121,
    "start_time": "2022-06-25T14:03:34.805Z"
   },
   {
    "duration": 5,
    "start_time": "2022-06-25T14:03:34.928Z"
   },
   {
    "duration": 6,
    "start_time": "2022-06-25T14:03:34.934Z"
   },
   {
    "duration": 27,
    "start_time": "2022-06-25T14:03:34.942Z"
   },
   {
    "duration": 7,
    "start_time": "2022-06-25T14:03:34.971Z"
   },
   {
    "duration": 8,
    "start_time": "2022-06-25T14:03:34.979Z"
   },
   {
    "duration": 319,
    "start_time": "2022-06-25T14:03:34.989Z"
   },
   {
    "duration": 388,
    "start_time": "2022-06-25T14:03:35.310Z"
   },
   {
    "duration": 4,
    "start_time": "2022-06-25T14:03:35.699Z"
   },
   {
    "duration": 416,
    "start_time": "2022-06-25T14:03:35.706Z"
   },
   {
    "duration": 347,
    "start_time": "2022-06-25T14:03:36.124Z"
   },
   {
    "duration": 424,
    "start_time": "2022-06-25T14:03:36.473Z"
   },
   {
    "duration": 9,
    "start_time": "2022-06-25T14:03:36.898Z"
   },
   {
    "duration": 11,
    "start_time": "2022-06-25T14:03:36.909Z"
   },
   {
    "duration": 130,
    "start_time": "2022-06-25T14:03:36.922Z"
   },
   {
    "duration": 20,
    "start_time": "2022-06-25T14:03:37.053Z"
   },
   {
    "duration": 128,
    "start_time": "2022-06-25T14:03:37.074Z"
   },
   {
    "duration": 159,
    "start_time": "2022-06-25T14:03:37.204Z"
   },
   {
    "duration": 12,
    "start_time": "2022-06-25T14:03:37.365Z"
   },
   {
    "duration": 140,
    "start_time": "2022-06-25T14:03:37.381Z"
   },
   {
    "duration": 7,
    "start_time": "2022-06-25T14:03:37.523Z"
   },
   {
    "duration": 9,
    "start_time": "2022-06-25T14:03:37.531Z"
   },
   {
    "duration": 30,
    "start_time": "2022-06-25T14:03:37.542Z"
   },
   {
    "duration": 10,
    "start_time": "2022-06-25T14:03:37.577Z"
   },
   {
    "duration": 27,
    "start_time": "2022-06-25T14:03:37.589Z"
   },
   {
    "duration": 6,
    "start_time": "2022-06-25T14:03:37.617Z"
   },
   {
    "duration": 13,
    "start_time": "2022-06-25T14:03:37.625Z"
   },
   {
    "duration": 24,
    "start_time": "2022-06-25T14:03:37.640Z"
   },
   {
    "duration": 137,
    "start_time": "2022-06-25T14:03:37.666Z"
   },
   {
    "duration": 6,
    "start_time": "2022-06-25T14:03:37.805Z"
   },
   {
    "duration": 7,
    "start_time": "2022-06-25T14:03:37.813Z"
   },
   {
    "duration": 14,
    "start_time": "2022-06-25T14:03:37.821Z"
   },
   {
    "duration": 34,
    "start_time": "2022-06-25T14:03:37.836Z"
   },
   {
    "duration": 10,
    "start_time": "2022-06-25T14:03:37.872Z"
   },
   {
    "duration": 15,
    "start_time": "2022-06-25T14:03:37.883Z"
   },
   {
    "duration": 65,
    "start_time": "2022-06-25T14:08:32.803Z"
   },
   {
    "duration": 73,
    "start_time": "2022-06-25T14:09:36.732Z"
   },
   {
    "duration": 96,
    "start_time": "2022-06-25T14:09:52.584Z"
   },
   {
    "duration": 77,
    "start_time": "2022-06-25T14:10:04.079Z"
   },
   {
    "duration": 170,
    "start_time": "2022-06-25T14:10:19.232Z"
   },
   {
    "duration": 116,
    "start_time": "2022-06-25T14:10:57.202Z"
   },
   {
    "duration": 78,
    "start_time": "2022-06-25T14:16:56.403Z"
   },
   {
    "duration": 11,
    "start_time": "2022-06-25T14:17:02.133Z"
   },
   {
    "duration": 93,
    "start_time": "2022-06-25T14:17:15.500Z"
   },
   {
    "duration": 110,
    "start_time": "2022-06-25T14:17:41.133Z"
   },
   {
    "duration": 93,
    "start_time": "2022-06-25T14:18:39.763Z"
   },
   {
    "duration": 109,
    "start_time": "2022-06-25T14:18:47.128Z"
   },
   {
    "duration": 109,
    "start_time": "2022-06-25T14:19:25.495Z"
   },
   {
    "duration": 99,
    "start_time": "2022-06-25T14:19:34.192Z"
   },
   {
    "duration": 99,
    "start_time": "2022-06-25T14:19:46.491Z"
   },
   {
    "duration": 102,
    "start_time": "2022-06-25T14:34:14.082Z"
   },
   {
    "duration": 354,
    "start_time": "2022-06-25T14:35:13.028Z"
   },
   {
    "duration": 139,
    "start_time": "2022-06-25T14:35:24.406Z"
   },
   {
    "duration": 123,
    "start_time": "2022-06-25T14:36:21.607Z"
   },
   {
    "duration": 142,
    "start_time": "2022-06-25T14:37:32.600Z"
   },
   {
    "duration": 236,
    "start_time": "2022-06-25T14:37:59.113Z"
   },
   {
    "duration": 138,
    "start_time": "2022-06-25T14:38:51.639Z"
   },
   {
    "duration": 128,
    "start_time": "2022-06-25T14:39:13.697Z"
   },
   {
    "duration": 104,
    "start_time": "2022-06-25T14:40:55.485Z"
   },
   {
    "duration": 145,
    "start_time": "2022-06-25T14:41:00.556Z"
   },
   {
    "duration": 150,
    "start_time": "2022-06-25T14:41:31.526Z"
   },
   {
    "duration": 178,
    "start_time": "2022-06-25T14:44:16.487Z"
   },
   {
    "duration": 163,
    "start_time": "2022-06-25T14:44:33.485Z"
   },
   {
    "duration": 130,
    "start_time": "2022-06-25T14:44:43.187Z"
   },
   {
    "duration": 133,
    "start_time": "2022-06-25T14:45:20.905Z"
   },
   {
    "duration": 165,
    "start_time": "2022-06-25T14:45:30.294Z"
   },
   {
    "duration": 130,
    "start_time": "2022-06-25T14:45:52.171Z"
   },
   {
    "duration": 128,
    "start_time": "2022-06-25T14:48:14.582Z"
   },
   {
    "duration": 147,
    "start_time": "2022-06-25T14:48:26.591Z"
   },
   {
    "duration": 147,
    "start_time": "2022-06-25T14:48:39.282Z"
   },
   {
    "duration": 233,
    "start_time": "2022-06-25T14:48:52.592Z"
   },
   {
    "duration": 6,
    "start_time": "2022-06-25T14:49:36.741Z"
   },
   {
    "duration": 20,
    "start_time": "2022-06-25T14:49:37.453Z"
   },
   {
    "duration": 17,
    "start_time": "2022-06-25T14:49:38.193Z"
   },
   {
    "duration": 17,
    "start_time": "2022-06-25T14:49:39.052Z"
   },
   {
    "duration": 17,
    "start_time": "2022-06-25T14:49:39.878Z"
   },
   {
    "duration": 5,
    "start_time": "2022-06-25T14:49:42.941Z"
   },
   {
    "duration": 11,
    "start_time": "2022-06-25T14:49:46.801Z"
   },
   {
    "duration": 13,
    "start_time": "2022-06-25T14:50:14.387Z"
   },
   {
    "duration": 3,
    "start_time": "2022-06-25T14:50:37.939Z"
   },
   {
    "duration": 49,
    "start_time": "2022-06-25T14:50:37.977Z"
   },
   {
    "duration": 3,
    "start_time": "2022-06-25T14:50:38.028Z"
   },
   {
    "duration": 69,
    "start_time": "2022-06-25T14:50:38.033Z"
   },
   {
    "duration": 47,
    "start_time": "2022-06-25T14:50:38.104Z"
   },
   {
    "duration": 24,
    "start_time": "2022-06-25T14:50:38.153Z"
   },
   {
    "duration": 39,
    "start_time": "2022-06-25T14:50:38.179Z"
   },
   {
    "duration": 19,
    "start_time": "2022-06-25T14:50:38.220Z"
   },
   {
    "duration": 45,
    "start_time": "2022-06-25T14:50:38.241Z"
   },
   {
    "duration": 226,
    "start_time": "2022-06-25T14:50:38.288Z"
   },
   {
    "duration": 10,
    "start_time": "2022-06-25T14:50:38.518Z"
   },
   {
    "duration": 138,
    "start_time": "2022-06-25T14:50:38.530Z"
   },
   {
    "duration": 14,
    "start_time": "2022-06-25T14:50:38.670Z"
   },
   {
    "duration": 67,
    "start_time": "2022-06-25T14:50:38.686Z"
   },
   {
    "duration": 29,
    "start_time": "2022-06-25T14:50:38.757Z"
   },
   {
    "duration": 34,
    "start_time": "2022-06-25T14:50:38.790Z"
   },
   {
    "duration": 14,
    "start_time": "2022-06-25T14:50:38.827Z"
   },
   {
    "duration": 181,
    "start_time": "2022-06-25T14:50:38.843Z"
   },
   {
    "duration": 0,
    "start_time": "2022-06-25T14:50:39.026Z"
   },
   {
    "duration": 0,
    "start_time": "2022-06-25T14:50:39.027Z"
   },
   {
    "duration": 0,
    "start_time": "2022-06-25T14:50:39.029Z"
   },
   {
    "duration": 0,
    "start_time": "2022-06-25T14:50:39.030Z"
   },
   {
    "duration": 0,
    "start_time": "2022-06-25T14:50:39.032Z"
   },
   {
    "duration": 0,
    "start_time": "2022-06-25T14:50:39.033Z"
   },
   {
    "duration": 0,
    "start_time": "2022-06-25T14:50:39.034Z"
   },
   {
    "duration": 0,
    "start_time": "2022-06-25T14:50:39.035Z"
   },
   {
    "duration": 0,
    "start_time": "2022-06-25T14:50:39.037Z"
   },
   {
    "duration": 0,
    "start_time": "2022-06-25T14:50:39.038Z"
   },
   {
    "duration": 0,
    "start_time": "2022-06-25T14:50:39.059Z"
   },
   {
    "duration": 0,
    "start_time": "2022-06-25T14:50:39.062Z"
   },
   {
    "duration": 0,
    "start_time": "2022-06-25T14:50:39.063Z"
   },
   {
    "duration": 0,
    "start_time": "2022-06-25T14:50:39.063Z"
   },
   {
    "duration": 0,
    "start_time": "2022-06-25T14:50:39.064Z"
   },
   {
    "duration": 0,
    "start_time": "2022-06-25T14:50:39.067Z"
   },
   {
    "duration": 0,
    "start_time": "2022-06-25T14:50:39.069Z"
   },
   {
    "duration": 0,
    "start_time": "2022-06-25T14:50:39.071Z"
   },
   {
    "duration": 0,
    "start_time": "2022-06-25T14:50:39.072Z"
   },
   {
    "duration": 0,
    "start_time": "2022-06-25T14:50:39.073Z"
   },
   {
    "duration": 0,
    "start_time": "2022-06-25T14:50:39.075Z"
   },
   {
    "duration": 0,
    "start_time": "2022-06-25T14:50:39.076Z"
   },
   {
    "duration": 0,
    "start_time": "2022-06-25T14:50:39.078Z"
   },
   {
    "duration": 0,
    "start_time": "2022-06-25T14:50:39.080Z"
   },
   {
    "duration": 0,
    "start_time": "2022-06-25T14:50:39.081Z"
   },
   {
    "duration": 0,
    "start_time": "2022-06-25T14:50:39.082Z"
   },
   {
    "duration": 0,
    "start_time": "2022-06-25T14:50:39.083Z"
   },
   {
    "duration": 0,
    "start_time": "2022-06-25T14:50:39.084Z"
   },
   {
    "duration": 205,
    "start_time": "2022-06-25T14:51:26.887Z"
   },
   {
    "duration": 1237,
    "start_time": "2022-06-25T14:52:14.201Z"
   },
   {
    "duration": 58,
    "start_time": "2022-06-25T14:52:15.440Z"
   },
   {
    "duration": 3,
    "start_time": "2022-06-25T14:52:15.504Z"
   },
   {
    "duration": 14,
    "start_time": "2022-06-25T14:52:15.508Z"
   },
   {
    "duration": 46,
    "start_time": "2022-06-25T14:52:15.524Z"
   },
   {
    "duration": 36,
    "start_time": "2022-06-25T14:52:15.572Z"
   },
   {
    "duration": 17,
    "start_time": "2022-06-25T14:52:15.609Z"
   },
   {
    "duration": 12,
    "start_time": "2022-06-25T14:52:15.627Z"
   },
   {
    "duration": 28,
    "start_time": "2022-06-25T14:52:15.640Z"
   },
   {
    "duration": 174,
    "start_time": "2022-06-25T14:52:15.676Z"
   },
   {
    "duration": 8,
    "start_time": "2022-06-25T14:52:15.851Z"
   },
   {
    "duration": 174,
    "start_time": "2022-06-25T14:52:15.860Z"
   },
   {
    "duration": 6,
    "start_time": "2022-06-25T14:52:16.036Z"
   },
   {
    "duration": 17,
    "start_time": "2022-06-25T14:52:16.045Z"
   },
   {
    "duration": 49,
    "start_time": "2022-06-25T14:52:16.064Z"
   },
   {
    "duration": 10,
    "start_time": "2022-06-25T14:52:16.115Z"
   },
   {
    "duration": 11,
    "start_time": "2022-06-25T14:52:16.126Z"
   },
   {
    "duration": 378,
    "start_time": "2022-06-25T14:52:16.138Z"
   },
   {
    "duration": 395,
    "start_time": "2022-06-25T14:52:16.518Z"
   },
   {
    "duration": 5,
    "start_time": "2022-06-25T14:52:16.915Z"
   },
   {
    "duration": 538,
    "start_time": "2022-06-25T14:52:16.922Z"
   },
   {
    "duration": 549,
    "start_time": "2022-06-25T14:52:17.461Z"
   },
   {
    "duration": 470,
    "start_time": "2022-06-25T14:52:18.012Z"
   },
   {
    "duration": 18,
    "start_time": "2022-06-25T14:52:18.484Z"
   },
   {
    "duration": 30,
    "start_time": "2022-06-25T14:52:18.504Z"
   },
   {
    "duration": 189,
    "start_time": "2022-06-25T14:52:18.535Z"
   },
   {
    "duration": 4,
    "start_time": "2022-06-25T14:52:18.726Z"
   },
   {
    "duration": 144,
    "start_time": "2022-06-25T14:52:18.732Z"
   },
   {
    "duration": 164,
    "start_time": "2022-06-25T14:52:18.886Z"
   },
   {
    "duration": 22,
    "start_time": "2022-06-25T14:52:19.052Z"
   },
   {
    "duration": 288,
    "start_time": "2022-06-25T14:52:19.094Z"
   },
   {
    "duration": 7,
    "start_time": "2022-06-25T14:52:19.398Z"
   },
   {
    "duration": 14,
    "start_time": "2022-06-25T14:52:19.410Z"
   },
   {
    "duration": 21,
    "start_time": "2022-06-25T14:52:19.426Z"
   },
   {
    "duration": 65,
    "start_time": "2022-06-25T14:52:19.449Z"
   },
   {
    "duration": 23,
    "start_time": "2022-06-25T14:52:19.516Z"
   },
   {
    "duration": 11,
    "start_time": "2022-06-25T14:52:19.541Z"
   },
   {
    "duration": 51,
    "start_time": "2022-06-25T14:52:19.554Z"
   },
   {
    "duration": 13,
    "start_time": "2022-06-25T14:52:19.609Z"
   },
   {
    "duration": 177,
    "start_time": "2022-06-25T14:52:19.624Z"
   },
   {
    "duration": 10,
    "start_time": "2022-06-25T14:52:19.805Z"
   },
   {
    "duration": 11,
    "start_time": "2022-06-25T14:52:19.817Z"
   },
   {
    "duration": 16,
    "start_time": "2022-06-25T14:52:19.829Z"
   },
   {
    "duration": 32,
    "start_time": "2022-06-25T14:52:19.847Z"
   },
   {
    "duration": 37,
    "start_time": "2022-06-25T14:52:19.881Z"
   },
   {
    "duration": 17,
    "start_time": "2022-06-25T14:52:19.920Z"
   },
   {
    "duration": 8,
    "start_time": "2022-06-25T14:57:26.027Z"
   },
   {
    "duration": 8,
    "start_time": "2022-06-25T14:57:27.055Z"
   },
   {
    "duration": 14,
    "start_time": "2022-06-25T14:57:29.893Z"
   },
   {
    "duration": 8,
    "start_time": "2022-06-25T14:57:33.393Z"
   },
   {
    "duration": 14,
    "start_time": "2022-06-25T14:57:49.074Z"
   },
   {
    "duration": 8,
    "start_time": "2022-06-25T14:57:49.677Z"
   },
   {
    "duration": 10,
    "start_time": "2022-06-25T14:57:52.245Z"
   },
   {
    "duration": 13,
    "start_time": "2022-06-25T14:58:26.011Z"
   },
   {
    "duration": 48,
    "start_time": "2022-06-25T15:02:45.573Z"
   },
   {
    "duration": 9,
    "start_time": "2022-06-25T15:06:17.816Z"
   },
   {
    "duration": 1168,
    "start_time": "2022-06-25T15:08:14.767Z"
   },
   {
    "duration": 34,
    "start_time": "2022-06-25T15:08:15.937Z"
   },
   {
    "duration": 3,
    "start_time": "2022-06-25T15:08:15.973Z"
   },
   {
    "duration": 13,
    "start_time": "2022-06-25T15:08:15.978Z"
   },
   {
    "duration": 39,
    "start_time": "2022-06-25T15:08:15.993Z"
   },
   {
    "duration": 19,
    "start_time": "2022-06-25T15:08:16.033Z"
   },
   {
    "duration": 22,
    "start_time": "2022-06-25T15:08:16.053Z"
   },
   {
    "duration": 17,
    "start_time": "2022-06-25T15:08:16.077Z"
   },
   {
    "duration": 9,
    "start_time": "2022-06-25T15:08:16.095Z"
   },
   {
    "duration": 158,
    "start_time": "2022-06-25T15:08:16.106Z"
   },
   {
    "duration": 8,
    "start_time": "2022-06-25T15:08:16.273Z"
   },
   {
    "duration": 114,
    "start_time": "2022-06-25T15:08:16.283Z"
   },
   {
    "duration": 8,
    "start_time": "2022-06-25T15:08:16.398Z"
   },
   {
    "duration": 8,
    "start_time": "2022-06-25T15:08:16.408Z"
   },
   {
    "duration": 13,
    "start_time": "2022-06-25T15:08:16.418Z"
   },
   {
    "duration": 5,
    "start_time": "2022-06-25T15:08:16.432Z"
   },
   {
    "duration": 6,
    "start_time": "2022-06-25T15:08:16.439Z"
   },
   {
    "duration": 332,
    "start_time": "2022-06-25T15:08:16.447Z"
   },
   {
    "duration": 315,
    "start_time": "2022-06-25T15:08:16.781Z"
   },
   {
    "duration": 5,
    "start_time": "2022-06-25T15:08:17.097Z"
   },
   {
    "duration": 477,
    "start_time": "2022-06-25T15:08:17.103Z"
   },
   {
    "duration": 359,
    "start_time": "2022-06-25T15:08:17.581Z"
   },
   {
    "duration": 442,
    "start_time": "2022-06-25T15:08:17.942Z"
   },
   {
    "duration": 9,
    "start_time": "2022-06-25T15:08:18.387Z"
   },
   {
    "duration": 10,
    "start_time": "2022-06-25T15:08:18.397Z"
   },
   {
    "duration": 142,
    "start_time": "2022-06-25T15:08:18.409Z"
   },
   {
    "duration": 10,
    "start_time": "2022-06-25T15:08:18.553Z"
   },
   {
    "duration": 106,
    "start_time": "2022-06-25T15:08:18.567Z"
   },
   {
    "duration": 142,
    "start_time": "2022-06-25T15:08:18.675Z"
   },
   {
    "duration": 3,
    "start_time": "2022-06-25T15:08:18.819Z"
   },
   {
    "duration": 209,
    "start_time": "2022-06-25T15:08:18.824Z"
   },
   {
    "duration": 6,
    "start_time": "2022-06-25T15:08:19.035Z"
   },
   {
    "duration": 20,
    "start_time": "2022-06-25T15:08:19.042Z"
   },
   {
    "duration": 22,
    "start_time": "2022-06-25T15:08:19.063Z"
   },
   {
    "duration": 8,
    "start_time": "2022-06-25T15:08:19.087Z"
   },
   {
    "duration": 13,
    "start_time": "2022-06-25T15:08:19.097Z"
   },
   {
    "duration": 6,
    "start_time": "2022-06-25T15:08:19.111Z"
   },
   {
    "duration": 11,
    "start_time": "2022-06-25T15:08:19.118Z"
   },
   {
    "duration": 10,
    "start_time": "2022-06-25T15:08:19.130Z"
   },
   {
    "duration": 30,
    "start_time": "2022-06-25T15:08:19.141Z"
   },
   {
    "duration": 145,
    "start_time": "2022-06-25T15:08:19.172Z"
   },
   {
    "duration": 6,
    "start_time": "2022-06-25T15:08:19.319Z"
   },
   {
    "duration": 11,
    "start_time": "2022-06-25T15:08:19.327Z"
   },
   {
    "duration": 13,
    "start_time": "2022-06-25T15:08:19.340Z"
   },
   {
    "duration": 14,
    "start_time": "2022-06-25T15:08:19.355Z"
   },
   {
    "duration": 12,
    "start_time": "2022-06-25T15:08:19.370Z"
   },
   {
    "duration": 14,
    "start_time": "2022-06-25T15:08:19.384Z"
   },
   {
    "duration": 3,
    "start_time": "2022-06-25T15:09:05.683Z"
   },
   {
    "duration": 28,
    "start_time": "2022-06-25T15:09:05.690Z"
   },
   {
    "duration": 2,
    "start_time": "2022-06-25T15:09:05.720Z"
   },
   {
    "duration": 14,
    "start_time": "2022-06-25T15:09:05.724Z"
   },
   {
    "duration": 49,
    "start_time": "2022-06-25T15:09:05.740Z"
   },
   {
    "duration": 17,
    "start_time": "2022-06-25T15:09:05.791Z"
   },
   {
    "duration": 10,
    "start_time": "2022-06-25T15:09:05.810Z"
   },
   {
    "duration": 12,
    "start_time": "2022-06-25T15:09:05.822Z"
   },
   {
    "duration": 9,
    "start_time": "2022-06-25T15:09:05.836Z"
   },
   {
    "duration": 164,
    "start_time": "2022-06-25T15:09:05.847Z"
   },
   {
    "duration": 8,
    "start_time": "2022-06-25T15:09:06.013Z"
   },
   {
    "duration": 143,
    "start_time": "2022-06-25T15:09:06.023Z"
   },
   {
    "duration": 15,
    "start_time": "2022-06-25T15:09:06.168Z"
   },
   {
    "duration": 6,
    "start_time": "2022-06-25T15:09:06.185Z"
   },
   {
    "duration": 14,
    "start_time": "2022-06-25T15:09:06.192Z"
   },
   {
    "duration": 9,
    "start_time": "2022-06-25T15:09:06.209Z"
   },
   {
    "duration": 10,
    "start_time": "2022-06-25T15:09:06.219Z"
   },
   {
    "duration": 319,
    "start_time": "2022-06-25T15:09:06.231Z"
   },
   {
    "duration": 325,
    "start_time": "2022-06-25T15:09:06.560Z"
   },
   {
    "duration": 4,
    "start_time": "2022-06-25T15:09:06.887Z"
   },
   {
    "duration": 421,
    "start_time": "2022-06-25T15:09:06.892Z"
   },
   {
    "duration": 391,
    "start_time": "2022-06-25T15:09:07.316Z"
   },
   {
    "duration": 426,
    "start_time": "2022-06-25T15:09:07.709Z"
   },
   {
    "duration": 8,
    "start_time": "2022-06-25T15:09:08.137Z"
   },
   {
    "duration": 12,
    "start_time": "2022-06-25T15:09:08.163Z"
   },
   {
    "duration": 122,
    "start_time": "2022-06-25T15:09:08.177Z"
   },
   {
    "duration": 4,
    "start_time": "2022-06-25T15:09:08.300Z"
   },
   {
    "duration": 104,
    "start_time": "2022-06-25T15:09:08.306Z"
   },
   {
    "duration": 155,
    "start_time": "2022-06-25T15:09:08.412Z"
   },
   {
    "duration": 6,
    "start_time": "2022-06-25T15:09:08.569Z"
   },
   {
    "duration": 141,
    "start_time": "2022-06-25T15:09:08.577Z"
   },
   {
    "duration": 5,
    "start_time": "2022-06-25T15:09:08.720Z"
   },
   {
    "duration": 12,
    "start_time": "2022-06-25T15:09:08.727Z"
   },
   {
    "duration": 34,
    "start_time": "2022-06-25T15:09:08.740Z"
   },
   {
    "duration": 7,
    "start_time": "2022-06-25T15:09:08.776Z"
   },
   {
    "duration": 13,
    "start_time": "2022-06-25T15:09:08.784Z"
   },
   {
    "duration": 6,
    "start_time": "2022-06-25T15:09:08.799Z"
   },
   {
    "duration": 10,
    "start_time": "2022-06-25T15:09:08.806Z"
   },
   {
    "duration": 10,
    "start_time": "2022-06-25T15:09:08.818Z"
   },
   {
    "duration": 8,
    "start_time": "2022-06-25T15:09:08.831Z"
   },
   {
    "duration": 171,
    "start_time": "2022-06-25T15:09:08.841Z"
   },
   {
    "duration": 6,
    "start_time": "2022-06-25T15:09:09.014Z"
   },
   {
    "duration": 10,
    "start_time": "2022-06-25T15:09:09.021Z"
   },
   {
    "duration": 34,
    "start_time": "2022-06-25T15:09:09.033Z"
   },
   {
    "duration": 12,
    "start_time": "2022-06-25T15:09:09.069Z"
   },
   {
    "duration": 10,
    "start_time": "2022-06-25T15:09:09.083Z"
   },
   {
    "duration": 14,
    "start_time": "2022-06-25T15:09:09.094Z"
   },
   {
    "duration": 6,
    "start_time": "2022-06-25T15:10:44.716Z"
   },
   {
    "duration": 1115,
    "start_time": "2022-06-25T15:10:51.739Z"
   },
   {
    "duration": 37,
    "start_time": "2022-06-25T15:10:52.856Z"
   },
   {
    "duration": 3,
    "start_time": "2022-06-25T15:10:52.894Z"
   },
   {
    "duration": 12,
    "start_time": "2022-06-25T15:10:52.899Z"
   },
   {
    "duration": 39,
    "start_time": "2022-06-25T15:10:52.913Z"
   },
   {
    "duration": 26,
    "start_time": "2022-06-25T15:10:52.954Z"
   },
   {
    "duration": 15,
    "start_time": "2022-06-25T15:10:52.982Z"
   },
   {
    "duration": 28,
    "start_time": "2022-06-25T15:10:52.999Z"
   },
   {
    "duration": 13,
    "start_time": "2022-06-25T15:10:53.029Z"
   },
   {
    "duration": 157,
    "start_time": "2022-06-25T15:10:53.045Z"
   },
   {
    "duration": 8,
    "start_time": "2022-06-25T15:10:53.203Z"
   },
   {
    "duration": 118,
    "start_time": "2022-06-25T15:10:53.213Z"
   },
   {
    "duration": 8,
    "start_time": "2022-06-25T15:10:53.333Z"
   },
   {
    "duration": 6,
    "start_time": "2022-06-25T15:10:53.343Z"
   },
   {
    "duration": 22,
    "start_time": "2022-06-25T15:10:53.351Z"
   },
   {
    "duration": 5,
    "start_time": "2022-06-25T15:10:53.375Z"
   },
   {
    "duration": 9,
    "start_time": "2022-06-25T15:10:53.381Z"
   },
   {
    "duration": 330,
    "start_time": "2022-06-25T15:10:53.392Z"
   },
   {
    "duration": 1371,
    "start_time": "2022-06-26T15:29:50.406Z"
   },
   {
    "duration": 69,
    "start_time": "2022-06-26T15:29:51.779Z"
   },
   {
    "duration": 3,
    "start_time": "2022-06-26T15:29:51.850Z"
   },
   {
    "duration": 17,
    "start_time": "2022-06-26T15:29:51.855Z"
   },
   {
    "duration": 72,
    "start_time": "2022-06-26T15:29:51.873Z"
   },
   {
    "duration": 58,
    "start_time": "2022-06-26T15:29:51.947Z"
   },
   {
    "duration": 11,
    "start_time": "2022-06-26T15:29:52.007Z"
   },
   {
    "duration": 11,
    "start_time": "2022-06-26T15:29:52.019Z"
   },
   {
    "duration": 7,
    "start_time": "2022-06-26T15:29:52.031Z"
   },
   {
    "duration": 149,
    "start_time": "2022-06-26T15:29:52.040Z"
   },
   {
    "duration": 7,
    "start_time": "2022-06-26T15:29:52.190Z"
   },
   {
    "duration": 108,
    "start_time": "2022-06-26T15:29:52.198Z"
   },
   {
    "duration": 17,
    "start_time": "2022-06-26T15:29:52.308Z"
   },
   {
    "duration": 5,
    "start_time": "2022-06-26T15:29:52.327Z"
   },
   {
    "duration": 10,
    "start_time": "2022-06-26T15:29:52.333Z"
   },
   {
    "duration": 8,
    "start_time": "2022-06-26T15:29:52.344Z"
   },
   {
    "duration": 8,
    "start_time": "2022-06-26T15:29:52.353Z"
   },
   {
    "duration": 295,
    "start_time": "2022-06-26T15:29:52.363Z"
   },
   {
    "duration": 304,
    "start_time": "2022-06-26T15:29:52.659Z"
   },
   {
    "duration": 4,
    "start_time": "2022-06-26T15:29:52.964Z"
   },
   {
    "duration": 448,
    "start_time": "2022-06-26T15:29:52.970Z"
   },
   {
    "duration": 298,
    "start_time": "2022-06-26T15:29:53.420Z"
   },
   {
    "duration": 421,
    "start_time": "2022-06-26T15:29:53.720Z"
   },
   {
    "duration": 9,
    "start_time": "2022-06-26T15:29:54.142Z"
   },
   {
    "duration": 15,
    "start_time": "2022-06-26T15:29:54.153Z"
   },
   {
    "duration": 138,
    "start_time": "2022-06-26T15:29:54.170Z"
   },
   {
    "duration": 4,
    "start_time": "2022-06-26T15:29:54.310Z"
   },
   {
    "duration": 97,
    "start_time": "2022-06-26T15:29:54.316Z"
   },
   {
    "duration": 144,
    "start_time": "2022-06-26T15:29:54.415Z"
   },
   {
    "duration": 4,
    "start_time": "2022-06-26T15:29:54.560Z"
   },
   {
    "duration": 199,
    "start_time": "2022-06-26T15:29:54.566Z"
   },
   {
    "duration": 6,
    "start_time": "2022-06-26T15:29:54.766Z"
   },
   {
    "duration": 13,
    "start_time": "2022-06-26T15:29:54.773Z"
   },
   {
    "duration": 23,
    "start_time": "2022-06-26T15:29:54.787Z"
   },
   {
    "duration": 13,
    "start_time": "2022-06-26T15:29:54.812Z"
   },
   {
    "duration": 10,
    "start_time": "2022-06-26T15:29:54.826Z"
   },
   {
    "duration": 4,
    "start_time": "2022-06-26T15:29:54.838Z"
   },
   {
    "duration": 12,
    "start_time": "2022-06-26T15:29:54.843Z"
   },
   {
    "duration": 9,
    "start_time": "2022-06-26T15:29:54.856Z"
   },
   {
    "duration": 11,
    "start_time": "2022-06-26T15:29:54.867Z"
   },
   {
    "duration": 156,
    "start_time": "2022-06-26T15:29:54.880Z"
   },
   {
    "duration": 6,
    "start_time": "2022-06-26T15:29:55.038Z"
   },
   {
    "duration": 14,
    "start_time": "2022-06-26T15:29:55.046Z"
   },
   {
    "duration": 15,
    "start_time": "2022-06-26T15:29:55.062Z"
   },
   {
    "duration": 7,
    "start_time": "2022-06-26T15:29:55.079Z"
   },
   {
    "duration": 16,
    "start_time": "2022-06-26T15:29:55.087Z"
   },
   {
    "duration": 25,
    "start_time": "2022-06-26T15:29:55.105Z"
   },
   {
    "duration": 125,
    "start_time": "2022-06-26T15:33:45.203Z"
   },
   {
    "duration": 145,
    "start_time": "2022-06-26T15:33:58.618Z"
   },
   {
    "duration": 71,
    "start_time": "2022-07-02T13:46:11.532Z"
   },
   {
    "duration": 1506,
    "start_time": "2022-07-02T13:46:17.299Z"
   },
   {
    "duration": 38,
    "start_time": "2022-07-02T13:46:18.808Z"
   },
   {
    "duration": 3,
    "start_time": "2022-07-02T13:46:18.848Z"
   },
   {
    "duration": 55,
    "start_time": "2022-07-02T13:46:18.853Z"
   },
   {
    "duration": 64,
    "start_time": "2022-07-02T13:46:18.910Z"
   },
   {
    "duration": 62,
    "start_time": "2022-07-02T13:46:18.977Z"
   },
   {
    "duration": 13,
    "start_time": "2022-07-02T13:46:19.041Z"
   },
   {
    "duration": 31,
    "start_time": "2022-07-02T13:46:19.055Z"
   },
   {
    "duration": 27,
    "start_time": "2022-07-02T13:46:19.092Z"
   },
   {
    "duration": 209,
    "start_time": "2022-07-02T13:46:19.122Z"
   },
   {
    "duration": 9,
    "start_time": "2022-07-02T13:46:19.333Z"
   },
   {
    "duration": 146,
    "start_time": "2022-07-02T13:46:19.344Z"
   },
   {
    "duration": 9,
    "start_time": "2022-07-02T13:46:19.491Z"
   },
   {
    "duration": 8,
    "start_time": "2022-07-02T13:46:19.502Z"
   },
   {
    "duration": 10,
    "start_time": "2022-07-02T13:46:19.512Z"
   },
   {
    "duration": 8,
    "start_time": "2022-07-02T13:46:19.524Z"
   },
   {
    "duration": 7,
    "start_time": "2022-07-02T13:46:19.533Z"
   },
   {
    "duration": 364,
    "start_time": "2022-07-02T13:46:19.541Z"
   },
   {
    "duration": 343,
    "start_time": "2022-07-02T13:46:19.907Z"
   },
   {
    "duration": 5,
    "start_time": "2022-07-02T13:46:20.251Z"
   },
   {
    "duration": 456,
    "start_time": "2022-07-02T13:46:20.273Z"
   },
   {
    "duration": 378,
    "start_time": "2022-07-02T13:46:20.731Z"
   },
   {
    "duration": 435,
    "start_time": "2022-07-02T13:46:21.111Z"
   },
   {
    "duration": 9,
    "start_time": "2022-07-02T13:46:21.547Z"
   },
   {
    "duration": 27,
    "start_time": "2022-07-02T13:46:21.557Z"
   },
   {
    "duration": 142,
    "start_time": "2022-07-02T13:46:21.595Z"
   },
   {
    "duration": 4,
    "start_time": "2022-07-02T13:46:21.738Z"
   },
   {
    "duration": 115,
    "start_time": "2022-07-02T13:46:21.745Z"
   },
   {
    "duration": 241,
    "start_time": "2022-07-02T13:46:21.861Z"
   },
   {
    "duration": 5,
    "start_time": "2022-07-02T13:46:22.104Z"
   },
   {
    "duration": 146,
    "start_time": "2022-07-02T13:46:22.111Z"
   },
   {
    "duration": 218,
    "start_time": "2022-07-02T13:46:22.258Z"
   },
   {
    "duration": 73,
    "start_time": "2022-07-02T13:46:22.479Z"
   },
   {
    "duration": 0,
    "start_time": "2022-07-02T13:46:22.554Z"
   },
   {
    "duration": 0,
    "start_time": "2022-07-02T13:46:22.555Z"
   },
   {
    "duration": 0,
    "start_time": "2022-07-02T13:46:22.556Z"
   },
   {
    "duration": 0,
    "start_time": "2022-07-02T13:46:22.558Z"
   },
   {
    "duration": 0,
    "start_time": "2022-07-02T13:46:22.560Z"
   },
   {
    "duration": 0,
    "start_time": "2022-07-02T13:46:22.561Z"
   },
   {
    "duration": 0,
    "start_time": "2022-07-02T13:46:22.567Z"
   },
   {
    "duration": 0,
    "start_time": "2022-07-02T13:46:22.567Z"
   },
   {
    "duration": 210,
    "start_time": "2022-07-02T13:47:44.929Z"
   },
   {
    "duration": 11,
    "start_time": "2022-07-02T13:49:15.300Z"
   },
   {
    "duration": 9,
    "start_time": "2022-07-02T13:49:32.593Z"
   },
   {
    "duration": 16,
    "start_time": "2022-07-02T13:50:37.903Z"
   },
   {
    "duration": 192,
    "start_time": "2022-07-02T13:51:16.734Z"
   },
   {
    "duration": 192,
    "start_time": "2022-07-02T13:51:22.347Z"
   },
   {
    "duration": 12,
    "start_time": "2022-07-02T13:53:01.449Z"
   },
   {
    "duration": 5,
    "start_time": "2022-07-02T13:53:09.850Z"
   },
   {
    "duration": 67,
    "start_time": "2022-07-02T13:53:09.863Z"
   },
   {
    "duration": 4,
    "start_time": "2022-07-02T13:53:09.933Z"
   },
   {
    "duration": 19,
    "start_time": "2022-07-02T13:53:09.939Z"
   },
   {
    "duration": 57,
    "start_time": "2022-07-02T13:53:09.962Z"
   },
   {
    "duration": 15,
    "start_time": "2022-07-02T13:53:10.021Z"
   },
   {
    "duration": 17,
    "start_time": "2022-07-02T13:53:10.038Z"
   },
   {
    "duration": 72,
    "start_time": "2022-07-02T13:53:10.057Z"
   },
   {
    "duration": 12,
    "start_time": "2022-07-02T13:53:10.132Z"
   },
   {
    "duration": 233,
    "start_time": "2022-07-02T13:53:10.147Z"
   },
   {
    "duration": 13,
    "start_time": "2022-07-02T13:53:10.383Z"
   },
   {
    "duration": 156,
    "start_time": "2022-07-02T13:53:10.400Z"
   },
   {
    "duration": 10,
    "start_time": "2022-07-02T13:53:10.559Z"
   },
   {
    "duration": 43,
    "start_time": "2022-07-02T13:53:10.571Z"
   },
   {
    "duration": 14,
    "start_time": "2022-07-02T13:53:10.616Z"
   },
   {
    "duration": 15,
    "start_time": "2022-07-02T13:53:10.633Z"
   },
   {
    "duration": 9,
    "start_time": "2022-07-02T13:53:10.650Z"
   },
   {
    "duration": 405,
    "start_time": "2022-07-02T13:53:10.661Z"
   },
   {
    "duration": 430,
    "start_time": "2022-07-02T13:53:11.072Z"
   },
   {
    "duration": 7,
    "start_time": "2022-07-02T13:53:11.505Z"
   },
   {
    "duration": 496,
    "start_time": "2022-07-02T13:53:11.514Z"
   },
   {
    "duration": 440,
    "start_time": "2022-07-02T13:53:12.012Z"
   },
   {
    "duration": 645,
    "start_time": "2022-07-02T13:53:12.454Z"
   },
   {
    "duration": 15,
    "start_time": "2022-07-02T13:53:13.101Z"
   },
   {
    "duration": 21,
    "start_time": "2022-07-02T13:53:13.118Z"
   },
   {
    "duration": 177,
    "start_time": "2022-07-02T13:53:13.141Z"
   },
   {
    "duration": 5,
    "start_time": "2022-07-02T13:53:13.321Z"
   },
   {
    "duration": 159,
    "start_time": "2022-07-02T13:53:13.329Z"
   },
   {
    "duration": 213,
    "start_time": "2022-07-02T13:53:13.492Z"
   },
   {
    "duration": 6,
    "start_time": "2022-07-02T13:53:13.708Z"
   },
   {
    "duration": 281,
    "start_time": "2022-07-02T13:53:13.716Z"
   },
   {
    "duration": 290,
    "start_time": "2022-07-02T13:53:14.003Z"
   },
   {
    "duration": 210,
    "start_time": "2022-07-02T13:53:14.295Z"
   },
   {
    "duration": 11,
    "start_time": "2022-07-02T13:53:14.506Z"
   },
   {
    "duration": 10,
    "start_time": "2022-07-02T13:53:14.520Z"
   },
   {
    "duration": 275,
    "start_time": "2022-07-02T13:53:14.533Z"
   },
   {
    "duration": 17,
    "start_time": "2022-07-02T13:53:14.813Z"
   },
   {
    "duration": 215,
    "start_time": "2022-07-02T13:53:14.832Z"
   },
   {
    "duration": 32,
    "start_time": "2022-07-02T13:53:15.050Z"
   },
   {
    "duration": 25,
    "start_time": "2022-07-02T13:53:15.092Z"
   },
   {
    "duration": 1287,
    "start_time": "2022-07-02T13:53:15.119Z"
   },
   {
    "duration": 1145,
    "start_time": "2022-07-02T13:53:20.660Z"
   },
   {
    "duration": 14,
    "start_time": "2022-07-02T13:54:03.465Z"
   },
   {
    "duration": 13,
    "start_time": "2022-07-02T13:54:11.506Z"
   },
   {
    "duration": 37,
    "start_time": "2022-07-02T13:54:41.506Z"
   },
   {
    "duration": 18,
    "start_time": "2022-07-02T13:55:23.830Z"
   },
   {
    "duration": 227,
    "start_time": "2022-07-02T14:04:54.828Z"
   },
   {
    "duration": 171,
    "start_time": "2022-07-02T14:05:01.658Z"
   },
   {
    "duration": 153,
    "start_time": "2022-07-02T14:05:24.202Z"
   },
   {
    "duration": 164,
    "start_time": "2022-07-02T14:05:39.753Z"
   },
   {
    "duration": 179,
    "start_time": "2022-07-02T14:06:17.950Z"
   },
   {
    "duration": 164,
    "start_time": "2022-07-02T14:06:43.495Z"
   },
   {
    "duration": 64,
    "start_time": "2022-07-02T14:07:39.028Z"
   },
   {
    "duration": 1466,
    "start_time": "2022-07-02T14:35:54.813Z"
   },
   {
    "duration": 85,
    "start_time": "2022-07-02T14:35:56.282Z"
   },
   {
    "duration": 4,
    "start_time": "2022-07-02T14:35:56.369Z"
   },
   {
    "duration": 15,
    "start_time": "2022-07-02T14:35:56.376Z"
   },
   {
    "duration": 101,
    "start_time": "2022-07-02T14:35:56.393Z"
   },
   {
    "duration": 75,
    "start_time": "2022-07-02T14:35:56.496Z"
   },
   {
    "duration": 13,
    "start_time": "2022-07-02T14:35:56.573Z"
   },
   {
    "duration": 14,
    "start_time": "2022-07-02T14:35:56.588Z"
   },
   {
    "duration": 8,
    "start_time": "2022-07-02T14:35:56.604Z"
   },
   {
    "duration": 175,
    "start_time": "2022-07-02T14:35:56.616Z"
   },
   {
    "duration": 13,
    "start_time": "2022-07-02T14:35:56.794Z"
   },
   {
    "duration": 158,
    "start_time": "2022-07-02T14:35:56.809Z"
   },
   {
    "duration": 8,
    "start_time": "2022-07-02T14:35:56.970Z"
   },
   {
    "duration": 14,
    "start_time": "2022-07-02T14:35:56.981Z"
   },
   {
    "duration": 21,
    "start_time": "2022-07-02T14:35:56.998Z"
   },
   {
    "duration": 8,
    "start_time": "2022-07-02T14:35:57.022Z"
   },
   {
    "duration": 30,
    "start_time": "2022-07-02T14:35:57.032Z"
   },
   {
    "duration": 462,
    "start_time": "2022-07-02T14:35:57.064Z"
   },
   {
    "duration": 356,
    "start_time": "2022-07-02T14:35:57.528Z"
   },
   {
    "duration": 5,
    "start_time": "2022-07-02T14:35:57.886Z"
   },
   {
    "duration": 541,
    "start_time": "2022-07-02T14:35:57.893Z"
   },
   {
    "duration": 379,
    "start_time": "2022-07-02T14:35:58.436Z"
   },
   {
    "duration": 511,
    "start_time": "2022-07-02T14:35:58.817Z"
   },
   {
    "duration": 18,
    "start_time": "2022-07-02T14:35:59.331Z"
   },
   {
    "duration": 15,
    "start_time": "2022-07-02T14:35:59.351Z"
   },
   {
    "duration": 178,
    "start_time": "2022-07-02T14:35:59.368Z"
   },
   {
    "duration": 5,
    "start_time": "2022-07-02T14:35:59.547Z"
   },
   {
    "duration": 119,
    "start_time": "2022-07-02T14:35:59.556Z"
   },
   {
    "duration": 170,
    "start_time": "2022-07-02T14:35:59.677Z"
   },
   {
    "duration": 5,
    "start_time": "2022-07-02T14:35:59.849Z"
   },
   {
    "duration": 278,
    "start_time": "2022-07-02T14:35:59.856Z"
   },
   {
    "duration": 261,
    "start_time": "2022-07-02T14:36:00.136Z"
   },
   {
    "duration": 181,
    "start_time": "2022-07-02T14:36:00.399Z"
   },
   {
    "duration": 9,
    "start_time": "2022-07-02T14:36:00.582Z"
   },
   {
    "duration": 18,
    "start_time": "2022-07-02T14:36:00.593Z"
   },
   {
    "duration": 195,
    "start_time": "2022-07-02T14:36:00.613Z"
   },
   {
    "duration": 12,
    "start_time": "2022-07-02T14:36:00.810Z"
   },
   {
    "duration": 180,
    "start_time": "2022-07-02T14:36:00.823Z"
   },
   {
    "duration": 8,
    "start_time": "2022-07-02T14:36:01.005Z"
   },
   {
    "duration": 19,
    "start_time": "2022-07-02T14:36:01.014Z"
   },
   {
    "duration": 23,
    "start_time": "2022-07-02T14:36:01.035Z"
   },
   {
    "duration": 25,
    "start_time": "2022-07-02T14:36:01.060Z"
   },
   {
    "duration": 20,
    "start_time": "2022-07-02T14:36:01.088Z"
   },
   {
    "duration": 1128,
    "start_time": "2022-10-30T11:35:56.074Z"
   },
   {
    "duration": 64,
    "start_time": "2022-10-30T11:35:57.204Z"
   },
   {
    "duration": 3,
    "start_time": "2022-10-30T11:35:57.270Z"
   },
   {
    "duration": 20,
    "start_time": "2022-10-30T11:35:57.275Z"
   },
   {
    "duration": 99,
    "start_time": "2022-10-30T11:35:57.296Z"
   },
   {
    "duration": 57,
    "start_time": "2022-10-30T11:35:57.396Z"
   },
   {
    "duration": 12,
    "start_time": "2022-10-30T11:35:57.454Z"
   },
   {
    "duration": 11,
    "start_time": "2022-10-30T11:35:57.467Z"
   },
   {
    "duration": 7,
    "start_time": "2022-10-30T11:35:57.480Z"
   },
   {
    "duration": 152,
    "start_time": "2022-10-30T11:35:57.489Z"
   },
   {
    "duration": 7,
    "start_time": "2022-10-30T11:35:57.642Z"
   },
   {
    "duration": 115,
    "start_time": "2022-10-30T11:35:57.651Z"
   },
   {
    "duration": 5,
    "start_time": "2022-10-30T11:35:57.768Z"
   },
   {
    "duration": 5,
    "start_time": "2022-10-30T11:35:57.774Z"
   },
   {
    "duration": 10,
    "start_time": "2022-10-30T11:35:57.780Z"
   },
   {
    "duration": 5,
    "start_time": "2022-10-30T11:35:57.808Z"
   },
   {
    "duration": 6,
    "start_time": "2022-10-30T11:35:57.814Z"
   },
   {
    "duration": 322,
    "start_time": "2022-10-30T11:35:57.821Z"
   },
   {
    "duration": 313,
    "start_time": "2022-10-30T11:35:58.145Z"
   },
   {
    "duration": 4,
    "start_time": "2022-10-30T11:35:58.460Z"
   },
   {
    "duration": 460,
    "start_time": "2022-10-30T11:35:58.466Z"
   },
   {
    "duration": 339,
    "start_time": "2022-10-30T11:35:58.927Z"
   },
   {
    "duration": 454,
    "start_time": "2022-10-30T11:35:59.268Z"
   },
   {
    "duration": 10,
    "start_time": "2022-10-30T11:35:59.724Z"
   },
   {
    "duration": 10,
    "start_time": "2022-10-30T11:35:59.736Z"
   },
   {
    "duration": 156,
    "start_time": "2022-10-30T11:35:59.748Z"
   },
   {
    "duration": 5,
    "start_time": "2022-10-30T11:35:59.909Z"
   },
   {
    "duration": 106,
    "start_time": "2022-10-30T11:35:59.918Z"
   },
   {
    "duration": 219,
    "start_time": "2022-10-30T11:36:00.027Z"
   },
   {
    "duration": 5,
    "start_time": "2022-10-30T11:36:00.248Z"
   },
   {
    "duration": 163,
    "start_time": "2022-10-30T11:36:00.255Z"
   },
   {
    "duration": 202,
    "start_time": "2022-10-30T11:36:00.420Z"
   },
   {
    "duration": 133,
    "start_time": "2022-10-30T11:36:00.624Z"
   },
   {
    "duration": 7,
    "start_time": "2022-10-30T11:36:00.759Z"
   },
   {
    "duration": 10,
    "start_time": "2022-10-30T11:36:00.768Z"
   },
   {
    "duration": 170,
    "start_time": "2022-10-30T11:36:00.779Z"
   },
   {
    "duration": 10,
    "start_time": "2022-10-30T11:36:00.951Z"
   },
   {
    "duration": 164,
    "start_time": "2022-10-30T11:36:00.962Z"
   },
   {
    "duration": 6,
    "start_time": "2022-10-30T11:36:01.128Z"
   },
   {
    "duration": 10,
    "start_time": "2022-10-30T11:36:01.136Z"
   },
   {
    "duration": 24,
    "start_time": "2022-10-30T11:36:01.147Z"
   },
   {
    "duration": 45,
    "start_time": "2022-10-30T11:36:01.172Z"
   },
   {
    "duration": 21,
    "start_time": "2022-10-30T11:36:01.219Z"
   },
   {
    "duration": 137,
    "start_time": "2022-10-30T11:46:38.428Z"
   },
   {
    "duration": 155,
    "start_time": "2022-10-30T11:51:42.051Z"
   }
  ],
  "kernelspec": {
   "display_name": "Python 3 (ipykernel)",
   "language": "python",
   "name": "python3"
  },
  "language_info": {
   "codemirror_mode": {
    "name": "ipython",
    "version": 3
   },
   "file_extension": ".py",
   "mimetype": "text/x-python",
   "name": "python",
   "nbconvert_exporter": "python",
   "pygments_lexer": "ipython3",
   "version": "3.9.5"
  },
  "toc": {
   "base_numbering": 1,
   "nav_menu": {},
   "number_sections": true,
   "sideBar": true,
   "skip_h1_title": true,
   "title_cell": "Содержание",
   "title_sidebar": "Contents",
   "toc_cell": true,
   "toc_position": {
    "height": "calc(100% - 180px)",
    "left": "10px",
    "top": "150px",
    "width": "329.097px"
   },
   "toc_section_display": true,
   "toc_window_display": true
  }
 },
 "nbformat": 4,
 "nbformat_minor": 2
}
