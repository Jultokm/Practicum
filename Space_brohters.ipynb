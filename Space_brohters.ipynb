{
 "cells": [
  {
   "cell_type": "markdown",
   "metadata": {},
   "source": [
    "### Обзор и предобработка данных"
   ]
  },
  {
   "cell_type": "code",
   "execution_count": 160,
   "metadata": {},
   "outputs": [],
   "source": [
    "import pandas as pd\n",
    "import datetime\n",
    "import seaborn as sns\n",
    "from matplotlib import pyplot as plt"
   ]
  },
  {
   "cell_type": "markdown",
   "metadata": {},
   "source": [
    "#### Обзор данных"
   ]
  },
  {
   "cell_type": "code",
   "execution_count": 162,
   "metadata": {},
   "outputs": [
    {
     "data": {
      "text/html": [
       "<div>\n",
       "<style scoped>\n",
       "    .dataframe tbody tr th:only-of-type {\n",
       "        vertical-align: middle;\n",
       "    }\n",
       "\n",
       "    .dataframe tbody tr th {\n",
       "        vertical-align: top;\n",
       "    }\n",
       "\n",
       "    .dataframe thead th {\n",
       "        text-align: right;\n",
       "    }\n",
       "</style>\n",
       "<table border=\"1\" class=\"dataframe\">\n",
       "  <thead>\n",
       "    <tr style=\"text-align: right;\">\n",
       "      <th></th>\n",
       "      <th>event_datetime</th>\n",
       "      <th>event</th>\n",
       "      <th>building_type</th>\n",
       "      <th>user_id</th>\n",
       "      <th>project_type</th>\n",
       "    </tr>\n",
       "  </thead>\n",
       "  <tbody>\n",
       "    <tr>\n",
       "      <th>0</th>\n",
       "      <td>2020-05-04 00:00:01</td>\n",
       "      <td>building</td>\n",
       "      <td>assembly_shop</td>\n",
       "      <td>55e92310-cb8e-4754-b622-597e124b03de</td>\n",
       "      <td>NaN</td>\n",
       "    </tr>\n",
       "    <tr>\n",
       "      <th>1</th>\n",
       "      <td>2020-05-04 00:00:03</td>\n",
       "      <td>building</td>\n",
       "      <td>assembly_shop</td>\n",
       "      <td>c07b1c10-f477-44dc-81dc-ec82254b1347</td>\n",
       "      <td>NaN</td>\n",
       "    </tr>\n",
       "    <tr>\n",
       "      <th>2</th>\n",
       "      <td>2020-05-04 00:00:16</td>\n",
       "      <td>building</td>\n",
       "      <td>assembly_shop</td>\n",
       "      <td>6edd42cc-e753-4ff6-a947-2107cd560710</td>\n",
       "      <td>NaN</td>\n",
       "    </tr>\n",
       "    <tr>\n",
       "      <th>3</th>\n",
       "      <td>2020-05-04 00:00:16</td>\n",
       "      <td>building</td>\n",
       "      <td>assembly_shop</td>\n",
       "      <td>92c69003-d60a-444a-827f-8cc51bf6bf4c</td>\n",
       "      <td>NaN</td>\n",
       "    </tr>\n",
       "    <tr>\n",
       "      <th>4</th>\n",
       "      <td>2020-05-04 00:00:35</td>\n",
       "      <td>building</td>\n",
       "      <td>assembly_shop</td>\n",
       "      <td>cdc6bb92-0ccb-4490-9866-ef142f09139d</td>\n",
       "      <td>NaN</td>\n",
       "    </tr>\n",
       "  </tbody>\n",
       "</table>\n",
       "</div>"
      ],
      "text/plain": [
       "        event_datetime     event  building_type  \\\n",
       "0  2020-05-04 00:00:01  building  assembly_shop   \n",
       "1  2020-05-04 00:00:03  building  assembly_shop   \n",
       "2  2020-05-04 00:00:16  building  assembly_shop   \n",
       "3  2020-05-04 00:00:16  building  assembly_shop   \n",
       "4  2020-05-04 00:00:35  building  assembly_shop   \n",
       "\n",
       "                                user_id project_type  \n",
       "0  55e92310-cb8e-4754-b622-597e124b03de          NaN  \n",
       "1  c07b1c10-f477-44dc-81dc-ec82254b1347          NaN  \n",
       "2  6edd42cc-e753-4ff6-a947-2107cd560710          NaN  \n",
       "3  92c69003-d60a-444a-827f-8cc51bf6bf4c          NaN  \n",
       "4  cdc6bb92-0ccb-4490-9866-ef142f09139d          NaN  "
      ]
     },
     "execution_count": 162,
     "metadata": {},
     "output_type": "execute_result"
    }
   ],
   "source": [
    "data_act.head()"
   ]
  },
  {
   "cell_type": "code",
   "execution_count": 163,
   "metadata": {
    "scrolled": true
   },
   "outputs": [
    {
     "name": "stdout",
     "output_type": "stream",
     "text": [
      "<class 'pandas.core.frame.DataFrame'>\n",
      "RangeIndex: 135640 entries, 0 to 135639\n",
      "Data columns (total 5 columns):\n",
      " #   Column          Non-Null Count   Dtype \n",
      "---  ------          --------------   ----- \n",
      " 0   event_datetime  135640 non-null  object\n",
      " 1   event           135640 non-null  object\n",
      " 2   building_type   127957 non-null  object\n",
      " 3   user_id         135640 non-null  object\n",
      " 4   project_type    1866 non-null    object\n",
      "dtypes: object(5)\n",
      "memory usage: 5.2+ MB\n"
     ]
    }
   ],
   "source": [
    "data_act.info()"
   ]
  },
  {
   "cell_type": "code",
   "execution_count": 170,
   "metadata": {},
   "outputs": [
    {
     "data": {
      "text/html": [
       "<div>\n",
       "<style scoped>\n",
       "    .dataframe tbody tr th:only-of-type {\n",
       "        vertical-align: middle;\n",
       "    }\n",
       "\n",
       "    .dataframe tbody tr th {\n",
       "        vertical-align: top;\n",
       "    }\n",
       "\n",
       "    .dataframe thead th {\n",
       "        text-align: right;\n",
       "    }\n",
       "</style>\n",
       "<table border=\"1\" class=\"dataframe\">\n",
       "  <thead>\n",
       "    <tr style=\"text-align: right;\">\n",
       "      <th></th>\n",
       "      <th>user_id</th>\n",
       "      <th>source</th>\n",
       "    </tr>\n",
       "  </thead>\n",
       "  <tbody>\n",
       "    <tr>\n",
       "      <th>0</th>\n",
       "      <td>0001f83c-c6ac-4621-b7f0-8a28b283ac30</td>\n",
       "      <td>facebook_ads</td>\n",
       "    </tr>\n",
       "    <tr>\n",
       "      <th>1</th>\n",
       "      <td>00151b4f-ba38-44a8-a650-d7cf130a0105</td>\n",
       "      <td>yandex_direct</td>\n",
       "    </tr>\n",
       "    <tr>\n",
       "      <th>2</th>\n",
       "      <td>001aaea6-3d14-43f1-8ca8-7f48820f17aa</td>\n",
       "      <td>youtube_channel_reklama</td>\n",
       "    </tr>\n",
       "    <tr>\n",
       "      <th>3</th>\n",
       "      <td>001d39dc-366c-4021-9604-6a3b9ff01e25</td>\n",
       "      <td>instagram_new_adverts</td>\n",
       "    </tr>\n",
       "    <tr>\n",
       "      <th>4</th>\n",
       "      <td>002f508f-67b6-479f-814b-b05f00d4e995</td>\n",
       "      <td>facebook_ads</td>\n",
       "    </tr>\n",
       "  </tbody>\n",
       "</table>\n",
       "</div>"
      ],
      "text/plain": [
       "                                user_id                   source\n",
       "0  0001f83c-c6ac-4621-b7f0-8a28b283ac30             facebook_ads\n",
       "1  00151b4f-ba38-44a8-a650-d7cf130a0105            yandex_direct\n",
       "2  001aaea6-3d14-43f1-8ca8-7f48820f17aa  youtube_channel_reklama\n",
       "3  001d39dc-366c-4021-9604-6a3b9ff01e25    instagram_new_adverts\n",
       "4  002f508f-67b6-479f-814b-b05f00d4e995             facebook_ads"
      ]
     },
     "execution_count": 170,
     "metadata": {},
     "output_type": "execute_result"
    }
   ],
   "source": [
    "data_source.head()"
   ]
  },
  {
   "cell_type": "code",
   "execution_count": 171,
   "metadata": {
    "scrolled": true
   },
   "outputs": [
    {
     "name": "stdout",
     "output_type": "stream",
     "text": [
      "<class 'pandas.core.frame.DataFrame'>\n",
      "RangeIndex: 13576 entries, 0 to 13575\n",
      "Data columns (total 2 columns):\n",
      " #   Column   Non-Null Count  Dtype \n",
      "---  ------   --------------  ----- \n",
      " 0   user_id  13576 non-null  object\n",
      " 1   source   13576 non-null  object\n",
      "dtypes: object(2)\n",
      "memory usage: 212.2+ KB\n"
     ]
    }
   ],
   "source": [
    "data_source.info()"
   ]
  },
  {
   "cell_type": "markdown",
   "metadata": {},
   "source": [
    "**ВЫВОД**  \n",
    "- В каждой строке таблицы data_act - информация о действии пользователя (дата, идентификатор пользователя, действие)\n",
    "Есть пропуски в столбцах, в дальнейшем надо проверить, нуждаются ли они в заполнении. Столбец event_datetime нужно преобразовать в дату, возможно, добавить еще отдельный столбец только с датой события (чтобы подсчитать стоимость клика).\n",
    "\n",
    "В таблице 135640 строк, 13576 уникальных пользователей.\n",
    "\n",
    "- В таблице data_source информация о том, из какого рекламного источника пришел пользователь. Пропусков нет.\n",
    "\n"
   ]
  },
  {
   "cell_type": "markdown",
   "metadata": {},
   "source": [
    "#### Предобработка данных"
   ]
  },
  {
   "cell_type": "code",
   "execution_count": 189,
   "metadata": {},
   "outputs": [
    {
     "name": "stdout",
     "output_type": "stream",
     "text": [
      "<class 'pandas.core.frame.DataFrame'>\n",
      "RangeIndex: 135640 entries, 0 to 135639\n",
      "Data columns (total 6 columns):\n",
      " #   Column          Non-Null Count   Dtype         \n",
      "---  ------          --------------   -----         \n",
      " 0   event_datetime  135640 non-null  datetime64[ns]\n",
      " 1   event           135640 non-null  object        \n",
      " 2   building_type   135640 non-null  object        \n",
      " 3   user_id         135640 non-null  object        \n",
      " 4   project_type    135640 non-null  object        \n",
      " 5   event_date      135640 non-null  object        \n",
      "dtypes: datetime64[ns](1), object(5)\n",
      "memory usage: 6.2+ MB\n"
     ]
    }
   ],
   "source": [
    "data_act.info()"
   ]
  },
  {
   "cell_type": "code",
   "execution_count": 190,
   "metadata": {
    "scrolled": false
   },
   "outputs": [
    {
     "name": "stdout",
     "output_type": "stream",
     "text": [
      "Минимальная дата в датафрейме 2020-05-04\n",
      "Максимальная дата в датафрейме 2020-06-05\n"
     ]
    }
   ],
   "source": [
    "print(f'Минимальная дата в датафрейме',data_act['event_date'].min())\n",
    "print(f'Максимальная дата в датафрейме', data_act['event_date'].max())"
   ]
  },
  {
   "cell_type": "markdown",
   "metadata": {},
   "source": [
    "#### Проверка дубликатов"
   ]
  },
  {
   "cell_type": "code",
   "execution_count": 192,
   "metadata": {},
   "outputs": [
    {
     "data": {
      "text/plain": [
       "1"
      ]
     },
     "execution_count": 192,
     "metadata": {},
     "output_type": "execute_result"
    }
   ],
   "source": [
    "data_act.duplicated().sum()"
   ]
  },
  {
   "cell_type": "markdown",
   "metadata": {},
   "source": [
    "Дубликат один, можно удалить."
   ]
  },
  {
   "cell_type": "markdown",
   "metadata": {},
   "source": [
    "### Исследовательский анализ данных"
   ]
  },
  {
   "cell_type": "markdown",
   "metadata": {},
   "source": [
    "#### Проанализировать источники перехода"
   ]
  },
  {
   "cell_type": "markdown",
   "metadata": {},
   "source": [
    "Объединю таблицу data_act и data_source."
   ]
  },
  {
   "cell_type": "code",
   "execution_count": 194,
   "metadata": {},
   "outputs": [
    {
     "data": {
      "text/html": [
       "<div>\n",
       "<style scoped>\n",
       "    .dataframe tbody tr th:only-of-type {\n",
       "        vertical-align: middle;\n",
       "    }\n",
       "\n",
       "    .dataframe tbody tr th {\n",
       "        vertical-align: top;\n",
       "    }\n",
       "\n",
       "    .dataframe thead th {\n",
       "        text-align: right;\n",
       "    }\n",
       "</style>\n",
       "<table border=\"1\" class=\"dataframe\">\n",
       "  <thead>\n",
       "    <tr style=\"text-align: right;\">\n",
       "      <th></th>\n",
       "      <th>event_datetime</th>\n",
       "      <th>event</th>\n",
       "      <th>building_type</th>\n",
       "      <th>user_id</th>\n",
       "      <th>project_type</th>\n",
       "      <th>event_date</th>\n",
       "      <th>source</th>\n",
       "    </tr>\n",
       "  </thead>\n",
       "  <tbody>\n",
       "    <tr>\n",
       "      <th>0</th>\n",
       "      <td>2020-05-04 00:00:01</td>\n",
       "      <td>building</td>\n",
       "      <td>assembly_shop</td>\n",
       "      <td>55e92310-cb8e-4754-b622-597e124b03de</td>\n",
       "      <td></td>\n",
       "      <td>2020-05-04</td>\n",
       "      <td>youtube_channel_reklama</td>\n",
       "    </tr>\n",
       "    <tr>\n",
       "      <th>1</th>\n",
       "      <td>2020-05-04 00:00:03</td>\n",
       "      <td>building</td>\n",
       "      <td>assembly_shop</td>\n",
       "      <td>c07b1c10-f477-44dc-81dc-ec82254b1347</td>\n",
       "      <td></td>\n",
       "      <td>2020-05-04</td>\n",
       "      <td>facebook_ads</td>\n",
       "    </tr>\n",
       "    <tr>\n",
       "      <th>2</th>\n",
       "      <td>2020-05-04 00:00:16</td>\n",
       "      <td>building</td>\n",
       "      <td>assembly_shop</td>\n",
       "      <td>6edd42cc-e753-4ff6-a947-2107cd560710</td>\n",
       "      <td></td>\n",
       "      <td>2020-05-04</td>\n",
       "      <td>instagram_new_adverts</td>\n",
       "    </tr>\n",
       "    <tr>\n",
       "      <th>3</th>\n",
       "      <td>2020-05-04 00:00:16</td>\n",
       "      <td>building</td>\n",
       "      <td>assembly_shop</td>\n",
       "      <td>92c69003-d60a-444a-827f-8cc51bf6bf4c</td>\n",
       "      <td></td>\n",
       "      <td>2020-05-04</td>\n",
       "      <td>facebook_ads</td>\n",
       "    </tr>\n",
       "    <tr>\n",
       "      <th>4</th>\n",
       "      <td>2020-05-04 00:00:35</td>\n",
       "      <td>building</td>\n",
       "      <td>assembly_shop</td>\n",
       "      <td>cdc6bb92-0ccb-4490-9866-ef142f09139d</td>\n",
       "      <td></td>\n",
       "      <td>2020-05-04</td>\n",
       "      <td>yandex_direct</td>\n",
       "    </tr>\n",
       "  </tbody>\n",
       "</table>\n",
       "</div>"
      ],
      "text/plain": [
       "       event_datetime     event  building_type  \\\n",
       "0 2020-05-04 00:00:01  building  assembly_shop   \n",
       "1 2020-05-04 00:00:03  building  assembly_shop   \n",
       "2 2020-05-04 00:00:16  building  assembly_shop   \n",
       "3 2020-05-04 00:00:16  building  assembly_shop   \n",
       "4 2020-05-04 00:00:35  building  assembly_shop   \n",
       "\n",
       "                                user_id project_type  event_date  \\\n",
       "0  55e92310-cb8e-4754-b622-597e124b03de               2020-05-04   \n",
       "1  c07b1c10-f477-44dc-81dc-ec82254b1347               2020-05-04   \n",
       "2  6edd42cc-e753-4ff6-a947-2107cd560710               2020-05-04   \n",
       "3  92c69003-d60a-444a-827f-8cc51bf6bf4c               2020-05-04   \n",
       "4  cdc6bb92-0ccb-4490-9866-ef142f09139d               2020-05-04   \n",
       "\n",
       "                    source  \n",
       "0  youtube_channel_reklama  \n",
       "1             facebook_ads  \n",
       "2    instagram_new_adverts  \n",
       "3             facebook_ads  \n",
       "4            yandex_direct  "
      ]
     },
     "execution_count": 194,
     "metadata": {},
     "output_type": "execute_result"
    }
   ],
   "source": [
    "data_act = data_act.merge(data_source, on='user_id', how='left')\n",
    "data_act.head()"
   ]
  },
  {
   "cell_type": "code",
   "execution_count": 257,
   "metadata": {
    "scrolled": true
   },
   "outputs": [
    {
     "data": {
      "text/html": [
       "<div>\n",
       "<style scoped>\n",
       "    .dataframe tbody tr th:only-of-type {\n",
       "        vertical-align: middle;\n",
       "    }\n",
       "\n",
       "    .dataframe tbody tr th {\n",
       "        vertical-align: top;\n",
       "    }\n",
       "\n",
       "    .dataframe thead th {\n",
       "        text-align: right;\n",
       "    }\n",
       "</style>\n",
       "<table border=\"1\" class=\"dataframe\">\n",
       "  <thead>\n",
       "    <tr style=\"text-align: right;\">\n",
       "      <th></th>\n",
       "      <th>source</th>\n",
       "      <th>user_id</th>\n",
       "    </tr>\n",
       "  </thead>\n",
       "  <tbody>\n",
       "    <tr>\n",
       "      <th>0</th>\n",
       "      <td>youtube_channel_reklama</td>\n",
       "      <td>2686</td>\n",
       "    </tr>\n",
       "    <tr>\n",
       "      <th>1</th>\n",
       "      <td>facebook_ads</td>\n",
       "      <td>2726</td>\n",
       "    </tr>\n",
       "    <tr>\n",
       "      <th>2</th>\n",
       "      <td>instagram_new_adverts</td>\n",
       "      <td>3347</td>\n",
       "    </tr>\n",
       "    <tr>\n",
       "      <th>3</th>\n",
       "      <td>yandex_direct</td>\n",
       "      <td>4817</td>\n",
       "    </tr>\n",
       "  </tbody>\n",
       "</table>\n",
       "</div>"
      ],
      "text/plain": [
       "                    source  user_id\n",
       "0  youtube_channel_reklama     2686\n",
       "1             facebook_ads     2726\n",
       "2    instagram_new_adverts     3347\n",
       "3            yandex_direct     4817"
      ]
     },
     "execution_count": 257,
     "metadata": {},
     "output_type": "execute_result"
    }
   ],
   "source": [
    "# Подсчитаю количество уникальных пользователей, пришедших из каждого источника\n",
    "users_count_by_source = (data_act\n",
    "                                .pivot_table(index = 'source', \n",
    "                                             values = 'user_id', \n",
    "                                             aggfunc= 'nunique')\n",
    "                                 .sort_values(by = 'user_id')\n",
    "                                 .reset_index())\n",
    "users_count_by_source.head()"
   ]
  },
  {
   "cell_type": "code",
   "execution_count": 272,
   "metadata": {
    "scrolled": true
   },
   "outputs": [
    {
     "data": {
      "image/png": "[encoded data removed]",
      "text/plain": [
       "<Figure size 576x432 with 1 Axes>"
      ]
     },
     "metadata": {
      "needs_background": "light"
     },
     "output_type": "display_data"
    }
   ],
   "source": [
    "plt.figure(figsize=(8, 6))\n",
    "sns.barplot(x = 'user_id', y = 'source' , data = users_count_by_source.sort_values(by = 'user_id', ascending=False))\n",
    "#plt.title('Распределение пользователей по источникам перехода')\n",
    "plt.xlabel('Количество пользователей')\n",
    "plt.ylabel('Источники перехода');"
   ]
  },
  {
   "cell_type": "markdown",
   "metadata": {},
   "source": [
    "Больше всех пользователей приходит из Яндекс_Директ."
   ]
  },
  {
   "cell_type": "markdown",
   "metadata": {},
   "source": [
    "#### Проверить, есть ли связь между источником перехода и выбором стратегии игры (постройка проекта или война)\n"
   ]
  },
  {
   "cell_type": "code",
   "execution_count": 196,
   "metadata": {},
   "outputs": [
    {
     "data": {
      "text/html": [
       "<div>\n",
       "<style scoped>\n",
       "    .dataframe tbody tr th:only-of-type {\n",
       "        vertical-align: middle;\n",
       "    }\n",
       "\n",
       "    .dataframe tbody tr th {\n",
       "        vertical-align: top;\n",
       "    }\n",
       "\n",
       "    .dataframe thead tr th {\n",
       "        text-align: left;\n",
       "    }\n",
       "</style>\n",
       "<table border=\"1\" class=\"dataframe\">\n",
       "  <thead>\n",
       "    <tr>\n",
       "      <th>event</th>\n",
       "      <th>source</th>\n",
       "      <th>building</th>\n",
       "      <th>finished_stage_1</th>\n",
       "      <th>project</th>\n",
       "    </tr>\n",
       "    <tr>\n",
       "      <th>project_type</th>\n",
       "      <th></th>\n",
       "      <th></th>\n",
       "      <th></th>\n",
       "      <th>satellite_orbital_assembly</th>\n",
       "    </tr>\n",
       "  </thead>\n",
       "  <tbody>\n",
       "    <tr>\n",
       "      <th>0</th>\n",
       "      <td>facebook_ads</td>\n",
       "      <td>2726</td>\n",
       "      <td>1150</td>\n",
       "      <td>391</td>\n",
       "    </tr>\n",
       "    <tr>\n",
       "      <th>1</th>\n",
       "      <td>instagram_new_adverts</td>\n",
       "      <td>3347</td>\n",
       "      <td>1466</td>\n",
       "      <td>476</td>\n",
       "    </tr>\n",
       "    <tr>\n",
       "      <th>2</th>\n",
       "      <td>yandex_direct</td>\n",
       "      <td>4817</td>\n",
       "      <td>2042</td>\n",
       "      <td>620</td>\n",
       "    </tr>\n",
       "    <tr>\n",
       "      <th>3</th>\n",
       "      <td>youtube_channel_reklama</td>\n",
       "      <td>2686</td>\n",
       "      <td>1159</td>\n",
       "      <td>379</td>\n",
       "    </tr>\n",
       "  </tbody>\n",
       "</table>\n",
       "</div>"
      ],
      "text/plain": [
       "event                          source building finished_stage_1  \\\n",
       "project_type                                                      \n",
       "0                        facebook_ads     2726             1150   \n",
       "1               instagram_new_adverts     3347             1466   \n",
       "2                       yandex_direct     4817             2042   \n",
       "3             youtube_channel_reklama     2686             1159   \n",
       "\n",
       "event                           project  \n",
       "project_type satellite_orbital_assembly  \n",
       "0                                   391  \n",
       "1                                   476  \n",
       "2                                   620  \n",
       "3                                   379  "
      ]
     },
     "execution_count": 196,
     "metadata": {},
     "output_type": "execute_result"
    }
   ],
   "source": [
    "users_by_events = (data_act\n",
    "            .pivot_table(index = 'source', \n",
    "                         values = 'user_id', \n",
    "                         columns = ['event','project_type'], \n",
    "                         aggfunc='nunique')\n",
    "             .reset_index())\n",
    "users_by_events"
   ]
  },
  {
   "cell_type": "code",
   "execution_count": 200,
   "metadata": {
    "scrolled": true
   },
   "outputs": [
    {
     "data": {
      "text/html": [
       "<div>\n",
       "<style scoped>\n",
       "    .dataframe tbody tr th:only-of-type {\n",
       "        vertical-align: middle;\n",
       "    }\n",
       "\n",
       "    .dataframe tbody tr th {\n",
       "        vertical-align: top;\n",
       "    }\n",
       "\n",
       "    .dataframe thead tr th {\n",
       "        text-align: left;\n",
       "    }\n",
       "</style>\n",
       "<table border=\"1\" class=\"dataframe\">\n",
       "  <thead>\n",
       "    <tr>\n",
       "      <th>event</th>\n",
       "      <th>source</th>\n",
       "      <th>building</th>\n",
       "      <th>finished_stage_1</th>\n",
       "      <th>project</th>\n",
       "      <th>share_finshed</th>\n",
       "      <th>share_project</th>\n",
       "    </tr>\n",
       "    <tr>\n",
       "      <th>project_type</th>\n",
       "      <th></th>\n",
       "      <th></th>\n",
       "      <th></th>\n",
       "      <th>satellite_orbital_assembly</th>\n",
       "      <th></th>\n",
       "      <th></th>\n",
       "    </tr>\n",
       "  </thead>\n",
       "  <tbody>\n",
       "    <tr>\n",
       "      <th>0</th>\n",
       "      <td>facebook_ads</td>\n",
       "      <td>2726</td>\n",
       "      <td>1150</td>\n",
       "      <td>391</td>\n",
       "      <td>42.0</td>\n",
       "      <td>34.0</td>\n",
       "    </tr>\n",
       "    <tr>\n",
       "      <th>1</th>\n",
       "      <td>instagram_new_adverts</td>\n",
       "      <td>3347</td>\n",
       "      <td>1466</td>\n",
       "      <td>476</td>\n",
       "      <td>44.0</td>\n",
       "      <td>32.0</td>\n",
       "    </tr>\n",
       "    <tr>\n",
       "      <th>2</th>\n",
       "      <td>yandex_direct</td>\n",
       "      <td>4817</td>\n",
       "      <td>2042</td>\n",
       "      <td>620</td>\n",
       "      <td>42.0</td>\n",
       "      <td>30.0</td>\n",
       "    </tr>\n",
       "    <tr>\n",
       "      <th>3</th>\n",
       "      <td>youtube_channel_reklama</td>\n",
       "      <td>2686</td>\n",
       "      <td>1159</td>\n",
       "      <td>379</td>\n",
       "      <td>43.0</td>\n",
       "      <td>33.0</td>\n",
       "    </tr>\n",
       "  </tbody>\n",
       "</table>\n",
       "</div>"
      ],
      "text/plain": [
       "event                          source building finished_stage_1  \\\n",
       "project_type                                                      \n",
       "0                        facebook_ads     2726             1150   \n",
       "1               instagram_new_adverts     3347             1466   \n",
       "2                       yandex_direct     4817             2042   \n",
       "3             youtube_channel_reklama     2686             1159   \n",
       "\n",
       "event                           project share_finshed share_project  \n",
       "project_type satellite_orbital_assembly                              \n",
       "0                                   391          42.0          34.0  \n",
       "1                                   476          44.0          32.0  \n",
       "2                                   620          42.0          30.0  \n",
       "3                                   379          43.0          33.0  "
      ]
     },
     "execution_count": 200,
     "metadata": {},
     "output_type": "execute_result"
    }
   ],
   "source": [
    "users_by_events"
   ]
  },
  {
   "cell_type": "code",
   "execution_count": 273,
   "metadata": {},
   "outputs": [
    {
     "data": {
      "image/png": "[encoded data removed]",
      "text/plain": [
       "<Figure size 576x432 with 1 Axes>"
      ]
     },
     "metadata": {
      "needs_background": "light"
     },
     "output_type": "display_data"
    }
   ],
   "source": [
    "plt.figure(figsize=(8, 6))\n",
    "sns.barplot(x = 'share_project', y = 'source' , data = users_by_events.sort_values(by = 'share_project', ascending=False))\n",
    "#}plt.title('Зависимость стратегии игры от источника перехода')\n",
    "plt.xlabel('Доля пользователей, выбравших проект')\n",
    "plt.ylabel('Источники перехода');"
   ]
  },
  {
   "cell_type": "markdown",
   "metadata": {},
   "source": [
    "Отношение пользователей, закончивших уровень, построив проект, к количеству пользователей, прошедших первый уровень, почти одинаков у пользователей из разных источников - от 30 до 34 процентов.  \n",
    "Самый маленький у yandex_direct - 30%.\n",
    "Делаю вывод, что связи между источником перехода и выбором стратегии игры нет."
   ]
  },
  {
   "cell_type": "markdown",
   "metadata": {},
   "source": [
    "#### Проверить, есть ли связь между источником перехода и временем завершения уровня"
   ]
  },
  {
   "cell_type": "markdown",
   "metadata": {},
   "source": [
    "Создам три датафрейма - пользователи, закончившие уровень (чтобы получить дату завершения уровня), пользователи, закончившие проект и пользователи, закончившие уровень победой над врагом."
   ]
  },
  {
   "cell_type": "code",
   "execution_count": 207,
   "metadata": {},
   "outputs": [],
   "source": [
    "profiles = profiles.merge(project_data, on = 'user_id', how = 'outer')"
   ]
  },
  {
   "cell_type": "code",
   "execution_count": 208,
   "metadata": {
    "scrolled": false
   },
   "outputs": [
    {
     "data": {
      "text/html": [
       "<div>\n",
       "<style scoped>\n",
       "    .dataframe tbody tr th:only-of-type {\n",
       "        vertical-align: middle;\n",
       "    }\n",
       "\n",
       "    .dataframe tbody tr th {\n",
       "        vertical-align: top;\n",
       "    }\n",
       "\n",
       "    .dataframe thead th {\n",
       "        text-align: right;\n",
       "    }\n",
       "</style>\n",
       "<table border=\"1\" class=\"dataframe\">\n",
       "  <thead>\n",
       "    <tr style=\"text-align: right;\">\n",
       "      <th></th>\n",
       "      <th>user_id</th>\n",
       "      <th>start_date</th>\n",
       "      <th>source_x</th>\n",
       "      <th>event</th>\n",
       "      <th>project_type</th>\n",
       "      <th>source_y</th>\n",
       "      <th>way</th>\n",
       "    </tr>\n",
       "  </thead>\n",
       "  <tbody>\n",
       "    <tr>\n",
       "      <th>0</th>\n",
       "      <td>0001f83c-c6ac-4621-b7f0-8a28b283ac30</td>\n",
       "      <td>2020-05-06 01:07:37</td>\n",
       "      <td>facebook_ads</td>\n",
       "      <td>building</td>\n",
       "      <td></td>\n",
       "      <td>NaN</td>\n",
       "      <td>NaN</td>\n",
       "    </tr>\n",
       "    <tr>\n",
       "      <th>1</th>\n",
       "      <td>00151b4f-ba38-44a8-a650-d7cf130a0105</td>\n",
       "      <td>2020-05-06 03:09:12</td>\n",
       "      <td>yandex_direct</td>\n",
       "      <td>building</td>\n",
       "      <td></td>\n",
       "      <td>NaN</td>\n",
       "      <td>NaN</td>\n",
       "    </tr>\n",
       "    <tr>\n",
       "      <th>2</th>\n",
       "      <td>001aaea6-3d14-43f1-8ca8-7f48820f17aa</td>\n",
       "      <td>2020-05-05 18:08:52</td>\n",
       "      <td>youtube_channel_reklama</td>\n",
       "      <td>building</td>\n",
       "      <td></td>\n",
       "      <td>NaN</td>\n",
       "      <td>NaN</td>\n",
       "    </tr>\n",
       "    <tr>\n",
       "      <th>3</th>\n",
       "      <td>001d39dc-366c-4021-9604-6a3b9ff01e25</td>\n",
       "      <td>2020-05-05 21:02:05</td>\n",
       "      <td>instagram_new_adverts</td>\n",
       "      <td>finished_stage_1</td>\n",
       "      <td></td>\n",
       "      <td>NaN</td>\n",
       "      <td>NaN</td>\n",
       "    </tr>\n",
       "    <tr>\n",
       "      <th>4</th>\n",
       "      <td>002f508f-67b6-479f-814b-b05f00d4e995</td>\n",
       "      <td>2020-05-05 13:49:58</td>\n",
       "      <td>facebook_ads</td>\n",
       "      <td>building</td>\n",
       "      <td></td>\n",
       "      <td>NaN</td>\n",
       "      <td>NaN</td>\n",
       "    </tr>\n",
       "  </tbody>\n",
       "</table>\n",
       "</div>"
      ],
      "text/plain": [
       "                                user_id          start_date  \\\n",
       "0  0001f83c-c6ac-4621-b7f0-8a28b283ac30 2020-05-06 01:07:37   \n",
       "1  00151b4f-ba38-44a8-a650-d7cf130a0105 2020-05-06 03:09:12   \n",
       "2  001aaea6-3d14-43f1-8ca8-7f48820f17aa 2020-05-05 18:08:52   \n",
       "3  001d39dc-366c-4021-9604-6a3b9ff01e25 2020-05-05 21:02:05   \n",
       "4  002f508f-67b6-479f-814b-b05f00d4e995 2020-05-05 13:49:58   \n",
       "\n",
       "                  source_x             event project_type source_y  way  \n",
       "0             facebook_ads          building                   NaN  NaN  \n",
       "1            yandex_direct          building                   NaN  NaN  \n",
       "2  youtube_channel_reklama          building                   NaN  NaN  \n",
       "3    instagram_new_adverts  finished_stage_1                   NaN  NaN  \n",
       "4             facebook_ads          building                   NaN  NaN  "
      ]
     },
     "execution_count": 208,
     "metadata": {},
     "output_type": "execute_result"
    }
   ],
   "source": [
    "profiles.head()"
   ]
  },
  {
   "cell_type": "code",
   "execution_count": 221,
   "metadata": {},
   "outputs": [],
   "source": [
    "profiles['time'] = (profiles['finish_date'] - profiles['start_date']).dt.total_seconds()/360"
   ]
  },
  {
   "cell_type": "code",
   "execution_count": 223,
   "metadata": {
    "scrolled": true
   },
   "outputs": [
    {
     "data": {
      "text/html": [
       "<div>\n",
       "<style scoped>\n",
       "    .dataframe tbody tr th:only-of-type {\n",
       "        vertical-align: middle;\n",
       "    }\n",
       "\n",
       "    .dataframe tbody tr th {\n",
       "        vertical-align: top;\n",
       "    }\n",
       "\n",
       "    .dataframe thead th {\n",
       "        text-align: right;\n",
       "    }\n",
       "</style>\n",
       "<table border=\"1\" class=\"dataframe\">\n",
       "  <thead>\n",
       "    <tr style=\"text-align: right;\">\n",
       "      <th></th>\n",
       "      <th>user_id</th>\n",
       "      <th>start_date</th>\n",
       "      <th>source_x</th>\n",
       "      <th>event</th>\n",
       "      <th>project_type</th>\n",
       "      <th>finish_date</th>\n",
       "      <th>way</th>\n",
       "      <th>time</th>\n",
       "    </tr>\n",
       "  </thead>\n",
       "  <tbody>\n",
       "    <tr>\n",
       "      <th>0</th>\n",
       "      <td>0001f83c-c6ac-4621-b7f0-8a28b283ac30</td>\n",
       "      <td>2020-05-06 01:07:37</td>\n",
       "      <td>facebook_ads</td>\n",
       "      <td>building</td>\n",
       "      <td></td>\n",
       "      <td>NaT</td>\n",
       "      <td></td>\n",
       "      <td>0</td>\n",
       "    </tr>\n",
       "    <tr>\n",
       "      <th>1</th>\n",
       "      <td>00151b4f-ba38-44a8-a650-d7cf130a0105</td>\n",
       "      <td>2020-05-06 03:09:12</td>\n",
       "      <td>yandex_direct</td>\n",
       "      <td>building</td>\n",
       "      <td></td>\n",
       "      <td>NaT</td>\n",
       "      <td></td>\n",
       "      <td>0</td>\n",
       "    </tr>\n",
       "    <tr>\n",
       "      <th>2</th>\n",
       "      <td>001aaea6-3d14-43f1-8ca8-7f48820f17aa</td>\n",
       "      <td>2020-05-05 18:08:52</td>\n",
       "      <td>youtube_channel_reklama</td>\n",
       "      <td>building</td>\n",
       "      <td></td>\n",
       "      <td>NaT</td>\n",
       "      <td></td>\n",
       "      <td>0</td>\n",
       "    </tr>\n",
       "    <tr>\n",
       "      <th>3</th>\n",
       "      <td>001d39dc-366c-4021-9604-6a3b9ff01e25</td>\n",
       "      <td>2020-05-05 21:02:05</td>\n",
       "      <td>instagram_new_adverts</td>\n",
       "      <td>finished_stage_1</td>\n",
       "      <td></td>\n",
       "      <td>2020-05-12 07:40:47</td>\n",
       "      <td>win</td>\n",
       "      <td>1546.45</td>\n",
       "    </tr>\n",
       "    <tr>\n",
       "      <th>4</th>\n",
       "      <td>002f508f-67b6-479f-814b-b05f00d4e995</td>\n",
       "      <td>2020-05-05 13:49:58</td>\n",
       "      <td>facebook_ads</td>\n",
       "      <td>building</td>\n",
       "      <td></td>\n",
       "      <td>NaT</td>\n",
       "      <td></td>\n",
       "      <td>0</td>\n",
       "    </tr>\n",
       "  </tbody>\n",
       "</table>\n",
       "</div>"
      ],
      "text/plain": [
       "                                user_id          start_date  \\\n",
       "0  0001f83c-c6ac-4621-b7f0-8a28b283ac30 2020-05-06 01:07:37   \n",
       "1  00151b4f-ba38-44a8-a650-d7cf130a0105 2020-05-06 03:09:12   \n",
       "2  001aaea6-3d14-43f1-8ca8-7f48820f17aa 2020-05-05 18:08:52   \n",
       "3  001d39dc-366c-4021-9604-6a3b9ff01e25 2020-05-05 21:02:05   \n",
       "4  002f508f-67b6-479f-814b-b05f00d4e995 2020-05-05 13:49:58   \n",
       "\n",
       "                  source_x             event project_type         finish_date  \\\n",
       "0             facebook_ads          building                              NaT   \n",
       "1            yandex_direct          building                              NaT   \n",
       "2  youtube_channel_reklama          building                              NaT   \n",
       "3    instagram_new_adverts  finished_stage_1              2020-05-12 07:40:47   \n",
       "4             facebook_ads          building                              NaT   \n",
       "\n",
       "   way     time  \n",
       "0             0  \n",
       "1             0  \n",
       "2             0  \n",
       "3  win  1546.45  \n",
       "4             0  "
      ]
     },
     "execution_count": 223,
     "metadata": {},
     "output_type": "execute_result"
    }
   ],
   "source": [
    "profiles.head()"
   ]
  },
  {
   "cell_type": "code",
   "execution_count": 275,
   "metadata": {
    "scrolled": true
   },
   "outputs": [
    {
     "data": {
      "image/png": "[encoded data removed]",
      "text/plain": [
       "<Figure size 1152x576 with 1 Axes>"
      ]
     },
     "metadata": {
      "needs_background": "light"
     },
     "output_type": "display_data"
    }
   ],
   "source": [
    "plt.figure(figsize=(16, 8))\n",
    "sns.boxplot(x='source_x', y='time', hue = 'way', data=profiles)\n",
    "plt.xlabel('Источник')\n",
    "plt.ylabel('Время прохождения уровня');\n",
    "#plt.title(\"Зависимость времени прохождения уровня от источника перехода\"); "
   ]
  },
  {
   "cell_type": "markdown",
   "metadata": {},
   "source": [
    "Не вижу разницы между пользователями, пришедшими из разных источников."
   ]
  },
  {
   "cell_type": "markdown",
   "metadata": {},
   "source": [
    "**ВЫВОД**  \n",
    "Нет связи между источником и поведениеми пользователя."
   ]
  },
  {
   "cell_type": "markdown",
   "metadata": {},
   "source": [
    "### Проверка гипотез"
   ]
  },
  {
   "cell_type": "markdown",
   "metadata": {},
   "source": [
    "#### Первая гипотеза - время завершения уровня различается в зависимости от способа прохождения"
   ]
  },
  {
   "cell_type": "markdown",
   "metadata": {},
   "source": [
    "Поделю пользователей на тех, кто закончил уровень победой и тех, кто закончил уровень завершением проекта."
   ]
  },
  {
   "cell_type": "code",
   "execution_count": 228,
   "metadata": {
    "scrolled": true
   },
   "outputs": [
    {
     "data": {
      "text/plain": [
       "count    1866.000000\n",
       "mean     3230.136486\n",
       "std       841.838825\n",
       "min      1233.741667\n",
       "25%      2628.329861\n",
       "50%      3127.613889\n",
       "75%      3737.899306\n",
       "max      6992.286111\n",
       "Name: time, dtype: float64"
      ]
     },
     "execution_count": 228,
     "metadata": {},
     "output_type": "execute_result"
    }
   ],
   "source": [
    "projecter = profiles.query('way==\"project\"')\n",
    "projecter['time'].describe()"
   ]
  },
  {
   "cell_type": "code",
   "execution_count": 229,
   "metadata": {},
   "outputs": [
    {
     "data": {
      "text/plain": [
       "count    3951.000000\n",
       "mean     2665.066878\n",
       "std       982.984132\n",
       "min        96.502778\n",
       "25%      1990.220833\n",
       "50%      2590.269444\n",
       "75%      3225.548611\n",
       "max      7419.813889\n",
       "Name: time, dtype: float64"
      ]
     },
     "execution_count": 229,
     "metadata": {},
     "output_type": "execute_result"
    }
   ],
   "source": [
    "winner = profiles.query('way==\"win\"')\n",
    "winner['time'].describe()"
   ]
  },
  {
   "cell_type": "code",
   "execution_count": 230,
   "metadata": {
    "scrolled": false
   },
   "outputs": [
    {
     "data": {
      "image/png": "[encoded data removed]",
      "text/plain": [
       "<Figure size 432x288 with 1 Axes>"
      ]
     },
     "metadata": {
      "needs_background": "light"
     },
     "output_type": "display_data"
    }
   ],
   "source": [
    "sns.histplot(winner['time'])\n",
    "plt.xlabel('Время прохождения уровня')\n",
    "plt.ylabel('Количество пользователей');"
   ]
  },
  {
   "cell_type": "code",
   "execution_count": 231,
   "metadata": {},
   "outputs": [
    {
     "data": {
      "image/png": "[encoded data removed]",
      "text/plain": [
       "<Figure size 360x360 with 1 Axes>"
      ]
     },
     "metadata": {
      "needs_background": "light"
     },
     "output_type": "display_data"
    }
   ],
   "source": [
    "sns.displot(projecter['time'])\n",
    "plt.xlabel('Время прохождения уровня')\n",
    "plt.ylabel('Количество пользователей');"
   ]
  },
  {
   "cell_type": "code",
   "execution_count": 276,
   "metadata": {},
   "outputs": [
    {
     "data": {
      "image/png": "[encoded data removed]",
      "text/plain": [
       "<Figure size 576x432 with 1 Axes>"
      ]
     },
     "metadata": {
      "needs_background": "light"
     },
     "output_type": "display_data"
    }
   ],
   "source": [
    "plt.figure(figsize=(8, 6))\n",
    "winner['time'].hist(alpha=0.5, bins=20, label = 'Победа')\n",
    "plt.legend()\n",
    "projecter['time'].hist(alpha=0.5, bins=10, label='Проект')\n",
    "plt.legend()\n",
    "plt.xlabel(\"Время прохождения уровня, час\")\n",
    "#plt.title('Зависимость времени прохождения уровня от стратегии игры')\n",
    "plt.show()"
   ]
  },
  {
   "cell_type": "code",
   "execution_count": 233,
   "metadata": {},
   "outputs": [
    {
     "data": {
      "image/png": "[encoded data removed]",
      "text/plain": [
       "<Figure size 1152x360 with 2 Axes>"
      ]
     },
     "metadata": {
      "needs_background": "light"
     },
     "output_type": "display_data"
    }
   ],
   "source": [
    "fig, axes = plt.subplots(1, 2, figsize=(16, 5))\n",
    "sns.boxplot(y ='time', data=projecter, ax=axes[0])\n",
    "sns.boxplot(y ='time', data=winner, ax=axes[1]);"
   ]
  },
  {
   "cell_type": "markdown",
   "metadata": {},
   "source": [
    "Формулируем гипотезы  \n",
    "H0 - среднее время завершения уровня равно у тех, кто победил врага и кто завершил проект.  \n",
    "Н1 - среднее время различается."
   ]
  },
  {
   "cell_type": "markdown",
   "metadata": {},
   "source": [
    "Для проверки гипотез использую  t-тест.  \n",
    "Поскольку выборки различаются по размеру, указываю параметр equal_var = False"
   ]
  },
  {
   "cell_type": "code",
   "execution_count": 234,
   "metadata": {},
   "outputs": [],
   "source": [
    "from scipy import stats as st\n",
    "import numpy as np"
   ]
  },
  {
   "cell_type": "code",
   "execution_count": 235,
   "metadata": {},
   "outputs": [],
   "source": [
    "gamer_1 = projecter['time']\n",
    "gamer_2 = winner['time']\n",
    "alpha = .05 "
   ]
  },
  {
   "cell_type": "code",
   "execution_count": 237,
   "metadata": {},
   "outputs": [
    {
     "name": "stdout",
     "output_type": "stream",
     "text": [
      "p-значение: 5.708058235070037e-107\n",
      "Отвергаем нулевую гипотезу\n"
     ]
    }
   ],
   "source": [
    "results = st.ttest_ind(\n",
    "    gamer_1, \n",
    "    gamer_2,\n",
    "    equal_var = False)\n",
    "\n",
    "print('p-значение:', results.pvalue)\n",
    "\n",
    "if results.pvalue < alpha:\n",
    "    print(\"Отвергаем нулевую гипотезу\")\n",
    "else:\n",
    "    print(\"Не получилось отвергнуть нулевую гипотезу\") "
   ]
  },
  {
   "cell_type": "markdown",
   "metadata": {},
   "source": [
    "Полученные данные дают основания отвергнуть нулевую гипотезу, то есть, можем предополагать, что время прохождения уровня зависит от выбора стратегии прохождения."
   ]
  },
  {
   "cell_type": "markdown",
   "metadata": {},
   "source": [
    "#### Вторая гипотеза - количество построенных объектов зависит от способа прохождения\n"
   ]
  },
  {
   "cell_type": "markdown",
   "metadata": {},
   "source": [
    "Посчитаю количество зданий на пользователя."
   ]
  },
  {
   "cell_type": "markdown",
   "metadata": {},
   "source": [
    "Добавлю количество построенных объектов в таблицы с данными."
   ]
  },
  {
   "cell_type": "code",
   "execution_count": 242,
   "metadata": {},
   "outputs": [
    {
     "data": {
      "text/html": [
       "<div>\n",
       "<style scoped>\n",
       "    .dataframe tbody tr th:only-of-type {\n",
       "        vertical-align: middle;\n",
       "    }\n",
       "\n",
       "    .dataframe tbody tr th {\n",
       "        vertical-align: top;\n",
       "    }\n",
       "\n",
       "    .dataframe thead th {\n",
       "        text-align: right;\n",
       "    }\n",
       "</style>\n",
       "<table border=\"1\" class=\"dataframe\">\n",
       "  <thead>\n",
       "    <tr style=\"text-align: right;\">\n",
       "      <th></th>\n",
       "      <th>user_id</th>\n",
       "      <th>start_date</th>\n",
       "      <th>source_x</th>\n",
       "      <th>event</th>\n",
       "      <th>project_type</th>\n",
       "      <th>finish_date</th>\n",
       "      <th>way</th>\n",
       "      <th>time</th>\n",
       "      <th>object_count</th>\n",
       "    </tr>\n",
       "  </thead>\n",
       "  <tbody>\n",
       "    <tr>\n",
       "      <th>0</th>\n",
       "      <td>001d39dc-366c-4021-9604-6a3b9ff01e25</td>\n",
       "      <td>2020-05-05 21:02:05</td>\n",
       "      <td>instagram_new_adverts</td>\n",
       "      <td>finished_stage_1</td>\n",
       "      <td></td>\n",
       "      <td>2020-05-12 07:40:47</td>\n",
       "      <td>win</td>\n",
       "      <td>1546.450000</td>\n",
       "      <td>8</td>\n",
       "    </tr>\n",
       "    <tr>\n",
       "      <th>1</th>\n",
       "      <td>003ee7e8-6356-4286-a715-62f22a18d2a1</td>\n",
       "      <td>2020-05-05 08:31:04</td>\n",
       "      <td>instagram_new_adverts</td>\n",
       "      <td>finished_stage_1</td>\n",
       "      <td></td>\n",
       "      <td>2020-05-17 21:47:49</td>\n",
       "      <td>win</td>\n",
       "      <td>3012.791667</td>\n",
       "      <td>8</td>\n",
       "    </tr>\n",
       "    <tr>\n",
       "      <th>2</th>\n",
       "      <td>004074f8-251a-4776-922c-8348dca1a2f6</td>\n",
       "      <td>2020-05-04 01:07:35</td>\n",
       "      <td>facebook_ads</td>\n",
       "      <td>finished_stage_1</td>\n",
       "      <td></td>\n",
       "      <td>2020-05-16 19:57:40</td>\n",
       "      <td>win</td>\n",
       "      <td>3068.347222</td>\n",
       "      <td>12</td>\n",
       "    </tr>\n",
       "    <tr>\n",
       "      <th>3</th>\n",
       "      <td>00464e5e-28ed-4be6-bf44-517ef7b3937b</td>\n",
       "      <td>2020-05-04 08:35:29</td>\n",
       "      <td>yandex_direct</td>\n",
       "      <td>finished_stage_1</td>\n",
       "      <td></td>\n",
       "      <td>2020-05-15 16:02:01</td>\n",
       "      <td>win</td>\n",
       "      <td>2714.422222</td>\n",
       "      <td>8</td>\n",
       "    </tr>\n",
       "    <tr>\n",
       "      <th>4</th>\n",
       "      <td>0056c007-c082-43cc-bdef-afc49bca4cb9</td>\n",
       "      <td>2020-05-10 11:49:47</td>\n",
       "      <td>instagram_new_adverts</td>\n",
       "      <td>finished_stage_1</td>\n",
       "      <td></td>\n",
       "      <td>2020-05-16 13:48:39</td>\n",
       "      <td>win</td>\n",
       "      <td>1459.811111</td>\n",
       "      <td>3</td>\n",
       "    </tr>\n",
       "  </tbody>\n",
       "</table>\n",
       "</div>"
      ],
      "text/plain": [
       "                                user_id          start_date  \\\n",
       "0  001d39dc-366c-4021-9604-6a3b9ff01e25 2020-05-05 21:02:05   \n",
       "1  003ee7e8-6356-4286-a715-62f22a18d2a1 2020-05-05 08:31:04   \n",
       "2  004074f8-251a-4776-922c-8348dca1a2f6 2020-05-04 01:07:35   \n",
       "3  00464e5e-28ed-4be6-bf44-517ef7b3937b 2020-05-04 08:35:29   \n",
       "4  0056c007-c082-43cc-bdef-afc49bca4cb9 2020-05-10 11:49:47   \n",
       "\n",
       "                source_x             event project_type         finish_date  \\\n",
       "0  instagram_new_adverts  finished_stage_1              2020-05-12 07:40:47   \n",
       "1  instagram_new_adverts  finished_stage_1              2020-05-17 21:47:49   \n",
       "2           facebook_ads  finished_stage_1              2020-05-16 19:57:40   \n",
       "3          yandex_direct  finished_stage_1              2020-05-15 16:02:01   \n",
       "4  instagram_new_adverts  finished_stage_1              2020-05-16 13:48:39   \n",
       "\n",
       "   way         time  object_count  \n",
       "0  win  1546.450000             8  \n",
       "1  win  3012.791667             8  \n",
       "2  win  3068.347222            12  \n",
       "3  win  2714.422222             8  \n",
       "4  win  1459.811111             3  "
      ]
     },
     "execution_count": 242,
     "metadata": {},
     "output_type": "execute_result"
    }
   ],
   "source": [
    "winner = pd.merge(winner, users_building[['user_id','object_count']], on = 'user_id', how = 'left')\n",
    "winner.head()"
   ]
  },
  {
   "cell_type": "code",
   "execution_count": 244,
   "metadata": {
    "scrolled": false
   },
   "outputs": [
    {
     "data": {
      "image/png": "[encoded data removed]",
      "text/plain": [
       "<Figure size 576x432 with 1 Axes>"
      ]
     },
     "metadata": {
      "needs_background": "light"
     },
     "output_type": "display_data"
    }
   ],
   "source": [
    "plt.figure(figsize=(8, 6))\n",
    "winner['object_count'].hist(alpha=0.5, bins=20, label = 'Победа')\n",
    "plt.legend()\n",
    "projecter['object_count'].hist(alpha=0.5, bins=10, label='Проект')\n",
    "plt.legend()\n",
    "plt.xlabel(\"Количество построенных объектов\")\n",
    "plt.show()"
   ]
  },
  {
   "cell_type": "markdown",
   "metadata": {},
   "source": [
    "H0 Среднее количество объектов, построенних игроками, закончившими проект, равно количеству объектов, построенных победившими игроки.  \n",
    "Н1 Среднее количество объектов в группах различается."
   ]
  },
  {
   "cell_type": "code",
   "execution_count": 245,
   "metadata": {},
   "outputs": [
    {
     "name": "stdout",
     "output_type": "stream",
     "text": [
      "p-значение: 0.0\n",
      "Отвергаем нулевую гипотезу\n"
     ]
    }
   ],
   "source": [
    "gamer_p = projecter['object_count']\n",
    "gamer_w = winner['object_count']\n",
    "alpha = .05\n",
    "results = st.ttest_ind(\n",
    "    gamer_p, \n",
    "    gamer_w,\n",
    "    equal_var = False)\n",
    "\n",
    "print('p-значение:', results.pvalue)\n",
    "\n",
    "if results.pvalue < alpha:\n",
    "    print(\"Отвергаем нулевую гипотезу\")\n",
    "else:\n",
    "    print(\"Не получилось отвергнуть нулевую гипотезу\") "
   ]
  },
  {
   "cell_type": "markdown",
   "metadata": {},
   "source": [
    "Полученные данные дают основания отвергнуть нулевую гипотезу, то есть, можем предополагать, что количество построенных объектов зависит от выбора стратегии прохождения."
   ]
  },
  {
   "cell_type": "markdown",
   "metadata": {},
   "source": [
    "### Вывод"
   ]
  },
  {
   "cell_type": "markdown",
   "metadata": {},
   "source": [
    "Исследуемый датафрейм состоит из 135640 строк. Пропуски заменены на пустое значение, удалена 1 продублированная строка.\n",
    "В датасете 13576 уникальных пользователей, пришедших из четырех источников. Больше всего пользователей приходит из Яндекс.Директ.  \n",
    "При исследовании данных не выявлено связи между источниками перехода и выбором стратегии игры, а так же между источником перехода и временем завершения уровня.  \n",
    "Было рассмотрено две гипотезы.  \n",
    "Первая гипотеза - есть основания предполагать, что время прохождения уровня зависит от выбора стратегии прохождения (победа или заврешение проекта).  \n",
    "Вторая гипотеза - есть основания предполагать, что количество построенных объектов зависит от \n",
    "выбора стратегии прохождения."
   ]
  }
 ],
 "metadata": {
  "ExecuteTimeLog": [
   {
    "duration": 467,
    "start_time": "2022-08-22T14:51:31.327Z"
   },
   {
    "duration": 806,
    "start_time": "2022-08-22T14:51:31.796Z"
   },
   {
    "duration": 221,
    "start_time": "2022-08-22T14:52:35.987Z"
   },
   {
    "duration": 22,
    "start_time": "2022-08-22T14:52:37.276Z"
   },
   {
    "duration": 33,
    "start_time": "2022-08-22T14:52:55.872Z"
   },
   {
    "duration": 63,
    "start_time": "2022-08-22T14:56:32.857Z"
   },
   {
    "duration": 48,
    "start_time": "2022-08-22T14:56:38.698Z"
   },
   {
    "duration": 18,
    "start_time": "2022-08-22T14:56:44.268Z"
   },
   {
    "duration": 9,
    "start_time": "2022-08-22T14:57:05.273Z"
   },
   {
    "duration": 10,
    "start_time": "2022-08-22T14:57:47.172Z"
   },
   {
    "duration": 20,
    "start_time": "2022-08-22T14:58:20.419Z"
   },
   {
    "duration": 35,
    "start_time": "2022-08-22T14:58:26.501Z"
   },
   {
    "duration": 79,
    "start_time": "2022-08-22T14:59:09.939Z"
   },
   {
    "duration": 161,
    "start_time": "2022-08-22T15:04:44.814Z"
   },
   {
    "duration": 177,
    "start_time": "2022-08-22T15:05:35.977Z"
   },
   {
    "duration": 81,
    "start_time": "2022-08-22T15:07:35.462Z"
   },
   {
    "duration": 8,
    "start_time": "2022-08-22T15:08:15.479Z"
   },
   {
    "duration": 10,
    "start_time": "2022-08-22T15:08:31.117Z"
   },
   {
    "duration": 7,
    "start_time": "2022-08-22T15:08:54.256Z"
   },
   {
    "duration": 16,
    "start_time": "2022-08-22T15:09:22.782Z"
   },
   {
    "duration": 108,
    "start_time": "2022-08-22T15:11:23.443Z"
   },
   {
    "duration": 45,
    "start_time": "2022-08-22T15:11:30.856Z"
   },
   {
    "duration": 71,
    "start_time": "2022-08-22T15:13:12.595Z"
   },
   {
    "duration": 8,
    "start_time": "2022-08-22T15:13:31.032Z"
   },
   {
    "duration": 13,
    "start_time": "2022-08-22T15:13:45.226Z"
   },
   {
    "duration": 10,
    "start_time": "2022-08-22T15:25:12.207Z"
   },
   {
    "duration": 75,
    "start_time": "2022-08-22T15:25:46.375Z"
   },
   {
    "duration": 13,
    "start_time": "2022-08-22T15:52:43.949Z"
   },
   {
    "duration": 49,
    "start_time": "2022-08-22T16:20:01.886Z"
   },
   {
    "duration": 49,
    "start_time": "2022-08-22T16:20:35.415Z"
   },
   {
    "duration": 44,
    "start_time": "2022-08-22T16:20:51.247Z"
   },
   {
    "duration": 68,
    "start_time": "2022-08-22T16:24:10.771Z"
   },
   {
    "duration": 45,
    "start_time": "2022-08-22T16:24:47.469Z"
   },
   {
    "duration": 26,
    "start_time": "2022-08-22T16:25:10.149Z"
   },
   {
    "duration": 47,
    "start_time": "2022-08-22T16:26:52.442Z"
   },
   {
    "duration": 7,
    "start_time": "2022-08-22T16:50:20.010Z"
   },
   {
    "duration": 4,
    "start_time": "2022-08-22T16:50:35.440Z"
   },
   {
    "duration": 37,
    "start_time": "2022-08-22T16:50:40.890Z"
   },
   {
    "duration": 23,
    "start_time": "2022-08-22T16:53:00.656Z"
   },
   {
    "duration": 10,
    "start_time": "2022-08-22T16:56:42.575Z"
   },
   {
    "duration": 6,
    "start_time": "2022-08-22T16:56:53.711Z"
   },
   {
    "duration": 11,
    "start_time": "2022-08-22T16:57:03.580Z"
   },
   {
    "duration": 7,
    "start_time": "2022-08-22T16:57:09.225Z"
   },
   {
    "duration": 846,
    "start_time": "2022-08-22T16:58:35.384Z"
   },
   {
    "duration": 567,
    "start_time": "2022-08-22T16:59:02.487Z"
   },
   {
    "duration": 6,
    "start_time": "2022-08-22T17:01:02.873Z"
   },
   {
    "duration": 575,
    "start_time": "2022-08-22T17:01:44.811Z"
   },
   {
    "duration": 10,
    "start_time": "2022-08-22T17:02:12.849Z"
   },
   {
    "duration": 5,
    "start_time": "2022-08-22T17:03:45.373Z"
   },
   {
    "duration": 47,
    "start_time": "2022-08-22T17:04:32.577Z"
   },
   {
    "duration": 29,
    "start_time": "2022-08-22T17:04:36.091Z"
   },
   {
    "duration": 8,
    "start_time": "2022-08-22T17:04:44.403Z"
   },
   {
    "duration": 7,
    "start_time": "2022-08-22T17:05:30.541Z"
   },
   {
    "duration": 35,
    "start_time": "2022-08-22T17:15:06.562Z"
   },
   {
    "duration": 66,
    "start_time": "2022-08-22T17:15:13.073Z"
   },
   {
    "duration": 38,
    "start_time": "2022-08-22T17:16:35.636Z"
   },
   {
    "duration": 32,
    "start_time": "2022-08-22T17:17:00.208Z"
   },
   {
    "duration": 27,
    "start_time": "2022-08-22T17:17:49.203Z"
   },
   {
    "duration": 12,
    "start_time": "2022-08-22T17:19:08.418Z"
   },
   {
    "duration": 2,
    "start_time": "2022-08-22T17:21:14.933Z"
   },
   {
    "duration": 199,
    "start_time": "2022-08-22T17:21:14.939Z"
   },
   {
    "duration": 8,
    "start_time": "2022-08-22T17:21:15.140Z"
   },
   {
    "duration": 64,
    "start_time": "2022-08-22T17:21:15.149Z"
   },
   {
    "duration": 16,
    "start_time": "2022-08-22T17:21:15.216Z"
   },
   {
    "duration": 27,
    "start_time": "2022-08-22T17:21:15.234Z"
   },
   {
    "duration": 30,
    "start_time": "2022-08-22T17:21:15.263Z"
   },
   {
    "duration": 46,
    "start_time": "2022-08-22T17:21:15.295Z"
   },
   {
    "duration": 158,
    "start_time": "2022-08-22T17:21:15.342Z"
   },
   {
    "duration": 26,
    "start_time": "2022-08-22T17:21:15.502Z"
   },
   {
    "duration": 7,
    "start_time": "2022-08-22T17:21:15.530Z"
   },
   {
    "duration": 10,
    "start_time": "2022-08-22T17:21:15.538Z"
   },
   {
    "duration": 25,
    "start_time": "2022-08-22T17:21:15.550Z"
   },
   {
    "duration": 24,
    "start_time": "2022-08-22T17:21:15.577Z"
   },
   {
    "duration": 9,
    "start_time": "2022-08-22T17:21:15.603Z"
   },
   {
    "duration": 15,
    "start_time": "2022-08-22T17:21:15.614Z"
   },
   {
    "duration": 15,
    "start_time": "2022-08-22T17:21:15.631Z"
   },
   {
    "duration": 12,
    "start_time": "2022-08-22T17:21:15.648Z"
   },
   {
    "duration": 37,
    "start_time": "2022-08-22T17:21:15.662Z"
   },
   {
    "duration": 44,
    "start_time": "2022-08-22T17:21:15.701Z"
   },
   {
    "duration": 32,
    "start_time": "2022-08-22T17:21:15.747Z"
   },
   {
    "duration": 6,
    "start_time": "2022-08-22T17:21:15.798Z"
   },
   {
    "duration": 27,
    "start_time": "2022-08-22T17:21:15.806Z"
   },
   {
    "duration": 8,
    "start_time": "2022-08-22T17:21:15.835Z"
   },
   {
    "duration": 28,
    "start_time": "2022-08-22T17:21:15.844Z"
   },
   {
    "duration": 83,
    "start_time": "2022-08-22T17:21:15.874Z"
   },
   {
    "duration": 12,
    "start_time": "2022-08-22T17:21:15.959Z"
   },
   {
    "duration": 54,
    "start_time": "2022-08-23T14:42:52.492Z"
   },
   {
    "duration": 339,
    "start_time": "2022-08-23T14:42:58.564Z"
   },
   {
    "duration": 471,
    "start_time": "2022-08-23T14:42:58.905Z"
   },
   {
    "duration": 13,
    "start_time": "2022-08-23T14:42:59.378Z"
   },
   {
    "duration": 28,
    "start_time": "2022-08-23T14:42:59.392Z"
   },
   {
    "duration": 20,
    "start_time": "2022-08-23T14:42:59.423Z"
   },
   {
    "duration": 15,
    "start_time": "2022-08-23T14:42:59.446Z"
   },
   {
    "duration": 18,
    "start_time": "2022-08-23T14:42:59.462Z"
   },
   {
    "duration": 30,
    "start_time": "2022-08-23T14:42:59.481Z"
   },
   {
    "duration": 152,
    "start_time": "2022-08-23T14:42:59.513Z"
   },
   {
    "duration": 68,
    "start_time": "2022-08-23T14:42:59.666Z"
   },
   {
    "duration": 6,
    "start_time": "2022-08-23T14:42:59.736Z"
   },
   {
    "duration": 12,
    "start_time": "2022-08-23T14:42:59.743Z"
   },
   {
    "duration": 22,
    "start_time": "2022-08-23T14:42:59.756Z"
   },
   {
    "duration": 50,
    "start_time": "2022-08-23T14:42:59.780Z"
   },
   {
    "duration": 8,
    "start_time": "2022-08-23T14:42:59.831Z"
   },
   {
    "duration": 23,
    "start_time": "2022-08-23T14:42:59.840Z"
   },
   {
    "duration": 14,
    "start_time": "2022-08-23T14:42:59.864Z"
   },
   {
    "duration": 11,
    "start_time": "2022-08-23T14:42:59.880Z"
   },
   {
    "duration": 13,
    "start_time": "2022-08-23T14:42:59.892Z"
   },
   {
    "duration": 45,
    "start_time": "2022-08-23T14:42:59.906Z"
   },
   {
    "duration": 32,
    "start_time": "2022-08-23T14:42:59.952Z"
   },
   {
    "duration": 6,
    "start_time": "2022-08-23T14:42:59.985Z"
   },
   {
    "duration": 43,
    "start_time": "2022-08-23T14:42:59.992Z"
   },
   {
    "duration": 8,
    "start_time": "2022-08-23T14:43:00.036Z"
   },
   {
    "duration": 39,
    "start_time": "2022-08-23T14:43:00.045Z"
   },
   {
    "duration": 80,
    "start_time": "2022-08-23T14:43:00.085Z"
   },
   {
    "duration": 11,
    "start_time": "2022-08-23T14:43:00.166Z"
   },
   {
    "duration": 37,
    "start_time": "2022-08-23T14:43:00.179Z"
   },
   {
    "duration": 3,
    "start_time": "2022-08-23T14:43:19.069Z"
   },
   {
    "duration": 8,
    "start_time": "2022-08-23T14:43:31.554Z"
   },
   {
    "duration": 29,
    "start_time": "2022-08-23T14:43:40.036Z"
   },
   {
    "duration": 35,
    "start_time": "2022-08-23T14:43:42.627Z"
   },
   {
    "duration": 1496,
    "start_time": "2022-08-23T14:45:09.629Z"
   },
   {
    "duration": 40,
    "start_time": "2022-08-23T14:45:19.015Z"
   },
   {
    "duration": 28,
    "start_time": "2022-08-23T14:45:21.554Z"
   },
   {
    "duration": 8,
    "start_time": "2022-08-23T14:45:46.645Z"
   },
   {
    "duration": 30,
    "start_time": "2022-08-23T14:46:18.494Z"
   },
   {
    "duration": 77,
    "start_time": "2022-08-23T14:53:12.513Z"
   },
   {
    "duration": 96,
    "start_time": "2022-08-23T14:53:19.658Z"
   },
   {
    "duration": 64,
    "start_time": "2022-08-23T14:54:30.532Z"
   },
   {
    "duration": 72,
    "start_time": "2022-08-23T14:54:38.322Z"
   },
   {
    "duration": 94,
    "start_time": "2022-08-23T14:54:48.762Z"
   },
   {
    "duration": 15,
    "start_time": "2022-08-23T14:57:33.525Z"
   },
   {
    "duration": 17,
    "start_time": "2022-08-23T14:59:05.775Z"
   },
   {
    "duration": 93,
    "start_time": "2022-08-23T14:59:20.336Z"
   },
   {
    "duration": 60,
    "start_time": "2022-08-23T15:03:48.694Z"
   },
   {
    "duration": 60,
    "start_time": "2022-08-23T15:04:50.380Z"
   },
   {
    "duration": 78,
    "start_time": "2022-08-23T15:06:12.558Z"
   },
   {
    "duration": 16,
    "start_time": "2022-08-23T15:11:16.204Z"
   },
   {
    "duration": 281,
    "start_time": "2022-08-23T15:12:27.655Z"
   },
   {
    "duration": 2,
    "start_time": "2022-08-23T15:13:41.764Z"
   },
   {
    "duration": 196,
    "start_time": "2022-08-23T15:13:41.772Z"
   },
   {
    "duration": 8,
    "start_time": "2022-08-23T15:13:41.970Z"
   },
   {
    "duration": 51,
    "start_time": "2022-08-23T15:13:41.979Z"
   },
   {
    "duration": 10,
    "start_time": "2022-08-23T15:13:42.032Z"
   },
   {
    "duration": 9,
    "start_time": "2022-08-23T15:13:42.043Z"
   },
   {
    "duration": 12,
    "start_time": "2022-08-23T15:13:42.054Z"
   },
   {
    "duration": 25,
    "start_time": "2022-08-23T15:13:42.068Z"
   },
   {
    "duration": 157,
    "start_time": "2022-08-23T15:13:42.094Z"
   },
   {
    "duration": 25,
    "start_time": "2022-08-23T15:13:42.253Z"
   },
   {
    "duration": 6,
    "start_time": "2022-08-23T15:13:42.280Z"
   },
   {
    "duration": 10,
    "start_time": "2022-08-23T15:13:42.288Z"
   },
   {
    "duration": 31,
    "start_time": "2022-08-23T15:13:42.300Z"
   },
   {
    "duration": 15,
    "start_time": "2022-08-23T15:13:42.332Z"
   },
   {
    "duration": 6,
    "start_time": "2022-08-23T15:13:42.348Z"
   },
   {
    "duration": 9,
    "start_time": "2022-08-23T15:13:42.355Z"
   },
   {
    "duration": 9,
    "start_time": "2022-08-23T15:13:42.365Z"
   },
   {
    "duration": 24,
    "start_time": "2022-08-23T15:13:42.376Z"
   },
   {
    "duration": 24,
    "start_time": "2022-08-23T15:13:42.401Z"
   },
   {
    "duration": 41,
    "start_time": "2022-08-23T15:13:42.427Z"
   },
   {
    "duration": 57,
    "start_time": "2022-08-23T15:13:42.470Z"
   },
   {
    "duration": 7,
    "start_time": "2022-08-23T15:13:42.531Z"
   },
   {
    "duration": 30,
    "start_time": "2022-08-23T15:13:42.540Z"
   },
   {
    "duration": 9,
    "start_time": "2022-08-23T15:13:42.572Z"
   },
   {
    "duration": 51,
    "start_time": "2022-08-23T15:13:42.582Z"
   },
   {
    "duration": 62,
    "start_time": "2022-08-23T15:13:42.635Z"
   },
   {
    "duration": 24,
    "start_time": "2022-08-23T15:13:42.699Z"
   },
   {
    "duration": 80,
    "start_time": "2022-08-23T15:13:42.725Z"
   },
   {
    "duration": 21,
    "start_time": "2022-08-23T15:13:42.808Z"
   },
   {
    "duration": 43,
    "start_time": "2022-08-23T15:13:42.831Z"
   },
   {
    "duration": 17,
    "start_time": "2022-08-23T15:13:42.876Z"
   },
   {
    "duration": 92,
    "start_time": "2022-08-23T15:13:42.894Z"
   },
   {
    "duration": 61,
    "start_time": "2022-08-23T15:13:42.987Z"
   },
   {
    "duration": 73,
    "start_time": "2022-08-23T15:13:43.049Z"
   },
   {
    "duration": 36,
    "start_time": "2022-08-23T15:13:43.124Z"
   },
   {
    "duration": 76,
    "start_time": "2022-08-23T15:17:00.455Z"
   },
   {
    "duration": 68,
    "start_time": "2022-08-23T15:17:09.754Z"
   },
   {
    "duration": 59,
    "start_time": "2022-08-23T15:17:24.394Z"
   },
   {
    "duration": 57,
    "start_time": "2022-08-23T15:18:06.590Z"
   },
   {
    "duration": 69,
    "start_time": "2022-08-23T15:26:45.975Z"
   },
   {
    "duration": 56,
    "start_time": "2022-08-23T15:27:22.041Z"
   },
   {
    "duration": 68,
    "start_time": "2022-08-23T15:28:07.125Z"
   },
   {
    "duration": 81,
    "start_time": "2022-08-23T15:30:41.654Z"
   },
   {
    "duration": 89,
    "start_time": "2022-08-23T15:53:05.595Z"
   },
   {
    "duration": 78,
    "start_time": "2022-08-23T15:59:45.205Z"
   },
   {
    "duration": 61,
    "start_time": "2022-08-23T16:00:21.082Z"
   },
   {
    "duration": 42,
    "start_time": "2022-08-23T16:00:30.209Z"
   },
   {
    "duration": 45,
    "start_time": "2022-08-23T16:02:42.222Z"
   },
   {
    "duration": 40,
    "start_time": "2022-08-23T16:03:04.424Z"
   },
   {
    "duration": 35,
    "start_time": "2022-08-23T16:03:40.490Z"
   },
   {
    "duration": 40,
    "start_time": "2022-08-23T16:03:49.732Z"
   },
   {
    "duration": 44,
    "start_time": "2022-08-23T16:04:01.857Z"
   },
   {
    "duration": 108,
    "start_time": "2022-08-23T16:18:09.089Z"
   },
   {
    "duration": 116,
    "start_time": "2022-08-23T16:18:13.558Z"
   },
   {
    "duration": 114,
    "start_time": "2022-08-23T16:21:22.085Z"
   },
   {
    "duration": 73,
    "start_time": "2022-08-23T16:24:25.177Z"
   },
   {
    "duration": 17,
    "start_time": "2022-08-23T16:24:45.364Z"
   },
   {
    "duration": 14,
    "start_time": "2022-08-23T16:27:04.583Z"
   },
   {
    "duration": 109,
    "start_time": "2022-08-23T16:27:35.632Z"
   },
   {
    "duration": 16,
    "start_time": "2022-08-23T16:31:05.646Z"
   },
   {
    "duration": 16,
    "start_time": "2022-08-23T16:31:40.683Z"
   },
   {
    "duration": 17,
    "start_time": "2022-08-23T16:32:58.923Z"
   },
   {
    "duration": 14,
    "start_time": "2022-08-23T16:33:03.174Z"
   },
   {
    "duration": 36,
    "start_time": "2022-08-23T16:33:32.683Z"
   },
   {
    "duration": 14,
    "start_time": "2022-08-23T16:33:42.440Z"
   },
   {
    "duration": 11,
    "start_time": "2022-08-23T16:33:57.027Z"
   },
   {
    "duration": 429,
    "start_time": "2022-08-25T14:37:08.457Z"
   },
   {
    "duration": 624,
    "start_time": "2022-08-25T14:37:08.889Z"
   },
   {
    "duration": 13,
    "start_time": "2022-08-25T14:37:09.515Z"
   },
   {
    "duration": 31,
    "start_time": "2022-08-25T14:37:09.530Z"
   },
   {
    "duration": 9,
    "start_time": "2022-08-25T14:37:09.563Z"
   },
   {
    "duration": 12,
    "start_time": "2022-08-25T14:37:09.574Z"
   },
   {
    "duration": 11,
    "start_time": "2022-08-25T14:37:09.587Z"
   },
   {
    "duration": 26,
    "start_time": "2022-08-25T14:37:09.600Z"
   },
   {
    "duration": 162,
    "start_time": "2022-08-25T14:37:09.628Z"
   },
   {
    "duration": 68,
    "start_time": "2022-08-25T14:37:09.792Z"
   },
   {
    "duration": 6,
    "start_time": "2022-08-25T14:37:09.862Z"
   },
   {
    "duration": 12,
    "start_time": "2022-08-25T14:37:09.869Z"
   },
   {
    "duration": 19,
    "start_time": "2022-08-25T14:37:09.883Z"
   },
   {
    "duration": 46,
    "start_time": "2022-08-25T14:37:09.903Z"
   },
   {
    "duration": 7,
    "start_time": "2022-08-25T14:37:09.951Z"
   },
   {
    "duration": 11,
    "start_time": "2022-08-25T14:37:09.960Z"
   },
   {
    "duration": 11,
    "start_time": "2022-08-25T14:37:09.972Z"
   },
   {
    "duration": 12,
    "start_time": "2022-08-25T14:37:09.985Z"
   },
   {
    "duration": 18,
    "start_time": "2022-08-25T14:37:09.998Z"
   },
   {
    "duration": 45,
    "start_time": "2022-08-25T14:37:10.017Z"
   },
   {
    "duration": 43,
    "start_time": "2022-08-25T14:37:10.063Z"
   },
   {
    "duration": 4,
    "start_time": "2022-08-25T14:37:10.108Z"
   },
   {
    "duration": 43,
    "start_time": "2022-08-25T14:37:10.114Z"
   },
   {
    "duration": 8,
    "start_time": "2022-08-25T14:37:10.159Z"
   },
   {
    "duration": 44,
    "start_time": "2022-08-25T14:37:10.168Z"
   },
   {
    "duration": 64,
    "start_time": "2022-08-25T14:37:10.213Z"
   },
   {
    "duration": 14,
    "start_time": "2022-08-25T14:37:10.284Z"
   },
   {
    "duration": 69,
    "start_time": "2022-08-25T14:37:10.300Z"
   },
   {
    "duration": 22,
    "start_time": "2022-08-25T14:37:10.371Z"
   },
   {
    "duration": 35,
    "start_time": "2022-08-25T14:37:10.395Z"
   },
   {
    "duration": 17,
    "start_time": "2022-08-25T14:37:10.432Z"
   },
   {
    "duration": 135,
    "start_time": "2022-08-25T14:37:10.450Z"
   },
   {
    "duration": 60,
    "start_time": "2022-08-25T14:37:10.587Z"
   },
   {
    "duration": 67,
    "start_time": "2022-08-25T14:37:10.648Z"
   },
   {
    "duration": 40,
    "start_time": "2022-08-25T14:37:10.717Z"
   },
   {
    "duration": 76,
    "start_time": "2022-08-25T14:37:10.758Z"
   },
   {
    "duration": 80,
    "start_time": "2022-08-25T14:37:10.836Z"
   },
   {
    "duration": 17,
    "start_time": "2022-08-25T14:37:10.918Z"
   },
   {
    "duration": 125,
    "start_time": "2022-08-25T14:37:10.937Z"
   },
   {
    "duration": 22,
    "start_time": "2022-08-25T14:37:11.063Z"
   },
   {
    "duration": 122,
    "start_time": "2022-08-25T14:38:34.950Z"
   },
   {
    "duration": 132,
    "start_time": "2022-08-25T14:39:00.469Z"
   },
   {
    "duration": 14,
    "start_time": "2022-08-25T14:39:07.288Z"
   },
   {
    "duration": 16,
    "start_time": "2022-08-25T14:42:20.484Z"
   },
   {
    "duration": 4,
    "start_time": "2022-08-25T14:45:31.012Z"
   },
   {
    "duration": 3,
    "start_time": "2022-08-25T14:46:43.915Z"
   },
   {
    "duration": 10,
    "start_time": "2022-08-25T14:46:55.346Z"
   },
   {
    "duration": 12,
    "start_time": "2022-08-25T14:48:25.377Z"
   },
   {
    "duration": 22,
    "start_time": "2022-08-25T14:49:09.539Z"
   },
   {
    "duration": 2,
    "start_time": "2022-08-25T14:49:52.932Z"
   },
   {
    "duration": 256,
    "start_time": "2022-08-25T14:49:52.938Z"
   },
   {
    "duration": 9,
    "start_time": "2022-08-25T14:49:53.197Z"
   },
   {
    "duration": 37,
    "start_time": "2022-08-25T14:49:53.208Z"
   },
   {
    "duration": 11,
    "start_time": "2022-08-25T14:49:53.247Z"
   },
   {
    "duration": 31,
    "start_time": "2022-08-25T14:49:53.260Z"
   },
   {
    "duration": 14,
    "start_time": "2022-08-25T14:49:53.293Z"
   },
   {
    "duration": 40,
    "start_time": "2022-08-25T14:49:53.308Z"
   },
   {
    "duration": 226,
    "start_time": "2022-08-25T14:49:53.350Z"
   },
   {
    "duration": 28,
    "start_time": "2022-08-25T14:49:53.578Z"
   },
   {
    "duration": 7,
    "start_time": "2022-08-25T14:49:53.609Z"
   },
   {
    "duration": 21,
    "start_time": "2022-08-25T14:49:53.617Z"
   },
   {
    "duration": 22,
    "start_time": "2022-08-25T14:49:53.640Z"
   },
   {
    "duration": 15,
    "start_time": "2022-08-25T14:49:53.663Z"
   },
   {
    "duration": 10,
    "start_time": "2022-08-25T14:49:53.680Z"
   },
   {
    "duration": 28,
    "start_time": "2022-08-25T14:49:53.692Z"
   },
   {
    "duration": 15,
    "start_time": "2022-08-25T14:49:53.722Z"
   },
   {
    "duration": 17,
    "start_time": "2022-08-25T14:49:53.739Z"
   },
   {
    "duration": 15,
    "start_time": "2022-08-25T14:49:53.757Z"
   },
   {
    "duration": 52,
    "start_time": "2022-08-25T14:49:53.784Z"
   },
   {
    "duration": 31,
    "start_time": "2022-08-25T14:49:53.838Z"
   },
   {
    "duration": 5,
    "start_time": "2022-08-25T14:49:53.886Z"
   },
   {
    "duration": 50,
    "start_time": "2022-08-25T14:49:53.893Z"
   },
   {
    "duration": 14,
    "start_time": "2022-08-25T14:49:53.945Z"
   },
   {
    "duration": 31,
    "start_time": "2022-08-25T14:49:53.960Z"
   },
   {
    "duration": 81,
    "start_time": "2022-08-25T14:49:53.992Z"
   },
   {
    "duration": 13,
    "start_time": "2022-08-25T14:49:54.075Z"
   },
   {
    "duration": 99,
    "start_time": "2022-08-25T14:49:54.090Z"
   },
   {
    "duration": 15,
    "start_time": "2022-08-25T14:49:54.193Z"
   },
   {
    "duration": 43,
    "start_time": "2022-08-25T14:49:54.210Z"
   },
   {
    "duration": 32,
    "start_time": "2022-08-25T14:49:54.255Z"
   },
   {
    "duration": 157,
    "start_time": "2022-08-25T14:49:54.289Z"
   },
   {
    "duration": 98,
    "start_time": "2022-08-25T14:49:54.448Z"
   },
   {
    "duration": 91,
    "start_time": "2022-08-25T14:49:54.548Z"
   },
   {
    "duration": 70,
    "start_time": "2022-08-25T14:49:54.641Z"
   },
   {
    "duration": 98,
    "start_time": "2022-08-25T14:49:54.713Z"
   },
   {
    "duration": 103,
    "start_time": "2022-08-25T14:49:54.813Z"
   },
   {
    "duration": 24,
    "start_time": "2022-08-25T14:49:54.918Z"
   },
   {
    "duration": 4,
    "start_time": "2022-08-25T14:49:54.943Z"
   },
   {
    "duration": 17,
    "start_time": "2022-08-25T14:50:21.886Z"
   },
   {
    "duration": 25,
    "start_time": "2022-08-25T14:50:26.549Z"
   },
   {
    "duration": 3,
    "start_time": "2022-08-25T14:51:11.717Z"
   },
   {
    "duration": 232,
    "start_time": "2022-08-25T14:51:11.723Z"
   },
   {
    "duration": 8,
    "start_time": "2022-08-25T14:51:11.957Z"
   },
   {
    "duration": 31,
    "start_time": "2022-08-25T14:51:11.984Z"
   },
   {
    "duration": 19,
    "start_time": "2022-08-25T14:51:12.017Z"
   },
   {
    "duration": 20,
    "start_time": "2022-08-25T14:51:12.037Z"
   },
   {
    "duration": 25,
    "start_time": "2022-08-25T14:51:12.058Z"
   },
   {
    "duration": 46,
    "start_time": "2022-08-25T14:51:12.085Z"
   },
   {
    "duration": 146,
    "start_time": "2022-08-25T14:51:12.133Z"
   },
   {
    "duration": 30,
    "start_time": "2022-08-25T14:51:12.284Z"
   },
   {
    "duration": 9,
    "start_time": "2022-08-25T14:51:12.318Z"
   },
   {
    "duration": 31,
    "start_time": "2022-08-25T14:51:12.328Z"
   },
   {
    "duration": 28,
    "start_time": "2022-08-25T14:51:12.361Z"
   },
   {
    "duration": 15,
    "start_time": "2022-08-25T14:51:12.391Z"
   },
   {
    "duration": 7,
    "start_time": "2022-08-25T14:51:12.408Z"
   },
   {
    "duration": 15,
    "start_time": "2022-08-25T14:51:12.417Z"
   },
   {
    "duration": 18,
    "start_time": "2022-08-25T14:51:12.434Z"
   },
   {
    "duration": 18,
    "start_time": "2022-08-25T14:51:12.454Z"
   },
   {
    "duration": 34,
    "start_time": "2022-08-25T14:51:12.474Z"
   },
   {
    "duration": 52,
    "start_time": "2022-08-25T14:51:12.510Z"
   },
   {
    "duration": 30,
    "start_time": "2022-08-25T14:51:12.564Z"
   },
   {
    "duration": 6,
    "start_time": "2022-08-25T14:51:12.596Z"
   },
   {
    "duration": 36,
    "start_time": "2022-08-25T14:51:12.603Z"
   },
   {
    "duration": 12,
    "start_time": "2022-08-25T14:51:12.641Z"
   },
   {
    "duration": 49,
    "start_time": "2022-08-25T14:51:12.654Z"
   },
   {
    "duration": 77,
    "start_time": "2022-08-25T14:51:12.705Z"
   },
   {
    "duration": 18,
    "start_time": "2022-08-25T14:51:12.783Z"
   },
   {
    "duration": 82,
    "start_time": "2022-08-25T14:51:12.803Z"
   },
   {
    "duration": 11,
    "start_time": "2022-08-25T14:51:12.888Z"
   },
   {
    "duration": 67,
    "start_time": "2022-08-25T14:51:12.902Z"
   },
   {
    "duration": 15,
    "start_time": "2022-08-25T14:51:12.970Z"
   },
   {
    "duration": 140,
    "start_time": "2022-08-25T14:51:12.986Z"
   },
   {
    "duration": 69,
    "start_time": "2022-08-25T14:51:13.128Z"
   },
   {
    "duration": 64,
    "start_time": "2022-08-25T14:51:13.199Z"
   },
   {
    "duration": 54,
    "start_time": "2022-08-25T14:51:13.264Z"
   },
   {
    "duration": 87,
    "start_time": "2022-08-25T14:51:13.319Z"
   },
   {
    "duration": 93,
    "start_time": "2022-08-25T14:51:13.408Z"
   },
   {
    "duration": 18,
    "start_time": "2022-08-25T14:51:13.503Z"
   },
   {
    "duration": 27,
    "start_time": "2022-08-25T14:51:13.523Z"
   },
   {
    "duration": 30,
    "start_time": "2022-08-25T14:51:13.552Z"
   },
   {
    "duration": 154,
    "start_time": "2022-08-25T14:51:13.585Z"
   },
   {
    "duration": 15,
    "start_time": "2022-08-25T14:51:13.740Z"
   },
   {
    "duration": 64,
    "start_time": "2022-08-25T14:51:13.756Z"
   },
   {
    "duration": 11,
    "start_time": "2022-08-25T14:51:49.655Z"
   },
   {
    "duration": 32,
    "start_time": "2022-08-25T14:51:52.015Z"
   },
   {
    "duration": 13,
    "start_time": "2022-08-25T14:51:57.521Z"
   },
   {
    "duration": 28,
    "start_time": "2022-08-25T14:51:59.297Z"
   },
   {
    "duration": 12,
    "start_time": "2022-08-25T14:52:08.887Z"
   },
   {
    "duration": 26,
    "start_time": "2022-08-25T14:52:12.920Z"
   },
   {
    "duration": 13,
    "start_time": "2022-08-25T14:52:46.176Z"
   },
   {
    "duration": 29,
    "start_time": "2022-08-25T14:52:47.512Z"
   },
   {
    "duration": 15,
    "start_time": "2022-08-25T14:53:19.197Z"
   },
   {
    "duration": 26,
    "start_time": "2022-08-25T14:53:20.883Z"
   },
   {
    "duration": 24,
    "start_time": "2022-08-25T14:53:23.689Z"
   },
   {
    "duration": 19,
    "start_time": "2022-08-25T14:54:19.113Z"
   },
   {
    "duration": 10,
    "start_time": "2022-08-25T14:54:36.995Z"
   },
   {
    "duration": 9,
    "start_time": "2022-08-25T14:55:06.180Z"
   },
   {
    "duration": 423,
    "start_time": "2022-08-25T14:56:15.363Z"
   },
   {
    "duration": 198,
    "start_time": "2022-08-25T14:56:15.788Z"
   },
   {
    "duration": 16,
    "start_time": "2022-08-25T14:56:15.987Z"
   },
   {
    "duration": 29,
    "start_time": "2022-08-25T14:56:16.005Z"
   },
   {
    "duration": 10,
    "start_time": "2022-08-25T14:56:16.036Z"
   },
   {
    "duration": 8,
    "start_time": "2022-08-25T14:56:16.047Z"
   },
   {
    "duration": 34,
    "start_time": "2022-08-25T14:56:16.057Z"
   },
   {
    "duration": 34,
    "start_time": "2022-08-25T14:56:16.092Z"
   },
   {
    "duration": 192,
    "start_time": "2022-08-25T14:56:16.128Z"
   },
   {
    "duration": 28,
    "start_time": "2022-08-25T14:56:16.324Z"
   },
   {
    "duration": 6,
    "start_time": "2022-08-25T14:56:16.354Z"
   },
   {
    "duration": 13,
    "start_time": "2022-08-25T14:56:16.362Z"
   },
   {
    "duration": 20,
    "start_time": "2022-08-25T14:56:16.384Z"
   },
   {
    "duration": 16,
    "start_time": "2022-08-25T14:56:16.406Z"
   },
   {
    "duration": 11,
    "start_time": "2022-08-25T14:56:16.424Z"
   },
   {
    "duration": 14,
    "start_time": "2022-08-25T14:56:16.437Z"
   },
   {
    "duration": 12,
    "start_time": "2022-08-25T14:56:16.453Z"
   },
   {
    "duration": 31,
    "start_time": "2022-08-25T14:56:16.467Z"
   },
   {
    "duration": 18,
    "start_time": "2022-08-25T14:56:16.499Z"
   },
   {
    "duration": 69,
    "start_time": "2022-08-25T14:56:16.519Z"
   },
   {
    "duration": 51,
    "start_time": "2022-08-25T14:56:16.590Z"
   },
   {
    "duration": 5,
    "start_time": "2022-08-25T14:56:16.643Z"
   },
   {
    "duration": 45,
    "start_time": "2022-08-25T14:56:16.650Z"
   },
   {
    "duration": 8,
    "start_time": "2022-08-25T14:56:16.697Z"
   },
   {
    "duration": 50,
    "start_time": "2022-08-25T14:56:16.707Z"
   },
   {
    "duration": 101,
    "start_time": "2022-08-25T14:56:16.758Z"
   },
   {
    "duration": 24,
    "start_time": "2022-08-25T14:56:16.861Z"
   },
   {
    "duration": 61,
    "start_time": "2022-08-25T14:56:16.889Z"
   },
   {
    "duration": 9,
    "start_time": "2022-08-25T14:56:16.952Z"
   },
   {
    "duration": 55,
    "start_time": "2022-08-25T14:56:16.962Z"
   },
   {
    "duration": 13,
    "start_time": "2022-08-25T14:56:17.019Z"
   },
   {
    "duration": 115,
    "start_time": "2022-08-25T14:56:17.034Z"
   },
   {
    "duration": 70,
    "start_time": "2022-08-25T14:56:17.151Z"
   },
   {
    "duration": 65,
    "start_time": "2022-08-25T14:56:17.223Z"
   },
   {
    "duration": 52,
    "start_time": "2022-08-25T14:56:17.290Z"
   },
   {
    "duration": 76,
    "start_time": "2022-08-25T14:56:17.343Z"
   },
   {
    "duration": 96,
    "start_time": "2022-08-25T14:56:17.421Z"
   },
   {
    "duration": 17,
    "start_time": "2022-08-25T14:56:17.518Z"
   },
   {
    "duration": 13,
    "start_time": "2022-08-25T14:56:17.536Z"
   },
   {
    "duration": 18,
    "start_time": "2022-08-25T14:56:17.550Z"
   },
   {
    "duration": 25,
    "start_time": "2022-08-25T14:56:17.570Z"
   },
   {
    "duration": 22,
    "start_time": "2022-08-25T14:56:17.596Z"
   },
   {
    "duration": 148,
    "start_time": "2022-08-25T14:56:17.619Z"
   },
   {
    "duration": 21,
    "start_time": "2022-08-25T14:56:17.769Z"
   },
   {
    "duration": 50,
    "start_time": "2022-08-25T14:56:17.791Z"
   },
   {
    "duration": 21,
    "start_time": "2022-08-25T15:06:26.330Z"
   },
   {
    "duration": 21,
    "start_time": "2022-08-25T15:07:42.206Z"
   },
   {
    "duration": 3,
    "start_time": "2022-08-25T15:08:01.567Z"
   },
   {
    "duration": 13,
    "start_time": "2022-08-25T15:08:08.731Z"
   },
   {
    "duration": 6,
    "start_time": "2022-08-25T15:09:07.399Z"
   },
   {
    "duration": 9,
    "start_time": "2022-08-25T15:09:15.227Z"
   },
   {
    "duration": 2,
    "start_time": "2022-08-25T15:09:28.294Z"
   },
   {
    "duration": 216,
    "start_time": "2022-08-25T15:09:28.300Z"
   },
   {
    "duration": 8,
    "start_time": "2022-08-25T15:09:28.518Z"
   },
   {
    "duration": 29,
    "start_time": "2022-08-25T15:09:28.528Z"
   },
   {
    "duration": 27,
    "start_time": "2022-08-25T15:09:28.559Z"
   },
   {
    "duration": 9,
    "start_time": "2022-08-25T15:09:28.587Z"
   },
   {
    "duration": 16,
    "start_time": "2022-08-25T15:09:28.598Z"
   },
   {
    "duration": 31,
    "start_time": "2022-08-25T15:09:28.615Z"
   },
   {
    "duration": 154,
    "start_time": "2022-08-25T15:09:28.648Z"
   },
   {
    "duration": 24,
    "start_time": "2022-08-25T15:09:28.804Z"
   },
   {
    "duration": 6,
    "start_time": "2022-08-25T15:09:28.830Z"
   },
   {
    "duration": 18,
    "start_time": "2022-08-25T15:09:28.837Z"
   },
   {
    "duration": 18,
    "start_time": "2022-08-25T15:09:28.856Z"
   },
   {
    "duration": 23,
    "start_time": "2022-08-25T15:09:28.875Z"
   },
   {
    "duration": 14,
    "start_time": "2022-08-25T15:09:28.899Z"
   },
   {
    "duration": 19,
    "start_time": "2022-08-25T15:09:28.915Z"
   },
   {
    "duration": 34,
    "start_time": "2022-08-25T15:09:28.935Z"
   },
   {
    "duration": 12,
    "start_time": "2022-08-25T15:09:28.971Z"
   },
   {
    "duration": 15,
    "start_time": "2022-08-25T15:09:28.984Z"
   },
   {
    "duration": 40,
    "start_time": "2022-08-25T15:09:29.001Z"
   },
   {
    "duration": 46,
    "start_time": "2022-08-25T15:09:29.042Z"
   },
   {
    "duration": 5,
    "start_time": "2022-08-25T15:09:29.089Z"
   },
   {
    "duration": 25,
    "start_time": "2022-08-25T15:09:29.095Z"
   },
   {
    "duration": 8,
    "start_time": "2022-08-25T15:09:29.122Z"
   },
   {
    "duration": 30,
    "start_time": "2022-08-25T15:09:29.131Z"
   },
   {
    "duration": 82,
    "start_time": "2022-08-25T15:09:29.162Z"
   },
   {
    "duration": 15,
    "start_time": "2022-08-25T15:09:29.246Z"
   },
   {
    "duration": 73,
    "start_time": "2022-08-25T15:09:29.262Z"
   },
   {
    "duration": 9,
    "start_time": "2022-08-25T15:09:29.338Z"
   },
   {
    "duration": 42,
    "start_time": "2022-08-25T15:09:29.348Z"
   },
   {
    "duration": 17,
    "start_time": "2022-08-25T15:09:29.391Z"
   },
   {
    "duration": 136,
    "start_time": "2022-08-25T15:09:29.409Z"
   },
   {
    "duration": 70,
    "start_time": "2022-08-25T15:09:29.547Z"
   },
   {
    "duration": 66,
    "start_time": "2022-08-25T15:09:29.619Z"
   },
   {
    "duration": 44,
    "start_time": "2022-08-25T15:09:29.687Z"
   },
   {
    "duration": 82,
    "start_time": "2022-08-25T15:09:29.733Z"
   },
   {
    "duration": 83,
    "start_time": "2022-08-25T15:09:29.817Z"
   },
   {
    "duration": 19,
    "start_time": "2022-08-25T15:09:29.901Z"
   },
   {
    "duration": 18,
    "start_time": "2022-08-25T15:09:29.923Z"
   },
   {
    "duration": 150,
    "start_time": "2022-08-25T15:09:29.943Z"
   },
   {
    "duration": 7,
    "start_time": "2022-08-25T15:09:30.094Z"
   },
   {
    "duration": 1794,
    "start_time": "2022-08-25T15:09:30.102Z"
   },
   {
    "duration": 0,
    "start_time": "2022-08-25T15:09:31.898Z"
   },
   {
    "duration": 1253,
    "start_time": "2022-08-25T15:09:39.626Z"
   },
   {
    "duration": 3,
    "start_time": "2022-08-25T15:10:35.750Z"
   },
   {
    "duration": 129,
    "start_time": "2022-08-25T15:10:37.059Z"
   },
   {
    "duration": 7,
    "start_time": "2022-08-25T15:10:39.753Z"
   },
   {
    "duration": 6,
    "start_time": "2022-08-25T15:10:41.428Z"
   },
   {
    "duration": 10,
    "start_time": "2022-08-25T15:10:43.576Z"
   },
   {
    "duration": 57,
    "start_time": "2022-08-25T15:11:20.016Z"
   },
   {
    "duration": 11,
    "start_time": "2022-08-25T15:11:25.149Z"
   },
   {
    "duration": 51,
    "start_time": "2022-08-25T15:12:08.773Z"
   },
   {
    "duration": 16,
    "start_time": "2022-08-25T15:19:55.246Z"
   },
   {
    "duration": 17,
    "start_time": "2022-08-25T15:20:02.118Z"
   },
   {
    "duration": 15,
    "start_time": "2022-08-25T15:20:31.432Z"
   },
   {
    "duration": 3,
    "start_time": "2022-08-25T15:22:09.960Z"
   },
   {
    "duration": 125,
    "start_time": "2022-08-25T15:23:53.192Z"
   },
   {
    "duration": 133,
    "start_time": "2022-08-25T15:24:16.106Z"
   },
   {
    "duration": 124,
    "start_time": "2022-08-25T15:24:21.283Z"
   },
   {
    "duration": 131,
    "start_time": "2022-08-25T15:24:26.797Z"
   },
   {
    "duration": 130,
    "start_time": "2022-08-25T15:24:33.443Z"
   },
   {
    "duration": 122,
    "start_time": "2022-08-25T15:24:38.850Z"
   },
   {
    "duration": 135,
    "start_time": "2022-08-25T15:24:53.011Z"
   },
   {
    "duration": 110,
    "start_time": "2022-08-25T15:24:58.754Z"
   },
   {
    "duration": 135,
    "start_time": "2022-08-25T15:25:05.980Z"
   },
   {
    "duration": 128,
    "start_time": "2022-08-25T15:26:33.822Z"
   },
   {
    "duration": 47,
    "start_time": "2022-08-25T15:26:53.638Z"
   },
   {
    "duration": 77,
    "start_time": "2022-08-25T15:27:00.766Z"
   },
   {
    "duration": 122,
    "start_time": "2022-08-25T15:27:06.987Z"
   },
   {
    "duration": 132,
    "start_time": "2022-08-25T15:27:55.005Z"
   },
   {
    "duration": 121,
    "start_time": "2022-08-25T15:29:50.916Z"
   },
   {
    "duration": 126,
    "start_time": "2022-08-25T15:29:56.740Z"
   },
   {
    "duration": 12,
    "start_time": "2022-08-25T15:30:20.776Z"
   },
   {
    "duration": 10,
    "start_time": "2022-08-25T15:30:32.780Z"
   },
   {
    "duration": 31,
    "start_time": "2022-08-25T15:30:57.064Z"
   },
   {
    "duration": 3,
    "start_time": "2022-08-25T15:31:21.384Z"
   },
   {
    "duration": 134,
    "start_time": "2022-08-25T15:31:22.223Z"
   },
   {
    "duration": 12,
    "start_time": "2022-08-25T15:31:25.100Z"
   },
   {
    "duration": 9,
    "start_time": "2022-08-25T15:31:25.850Z"
   },
   {
    "duration": 31,
    "start_time": "2022-08-25T15:31:27.876Z"
   },
   {
    "duration": 13,
    "start_time": "2022-08-25T15:35:39.443Z"
   },
   {
    "duration": 13,
    "start_time": "2022-08-25T15:35:44.509Z"
   },
   {
    "duration": 952,
    "start_time": "2022-08-25T15:37:26.000Z"
   },
   {
    "duration": 13,
    "start_time": "2022-08-25T15:37:41.490Z"
   },
   {
    "duration": 16,
    "start_time": "2022-08-25T15:37:47.980Z"
   },
   {
    "duration": 3,
    "start_time": "2022-08-25T15:37:47.998Z"
   },
   {
    "duration": 159,
    "start_time": "2022-08-25T15:37:48.003Z"
   },
   {
    "duration": 12,
    "start_time": "2022-08-25T15:37:48.164Z"
   },
   {
    "duration": 10,
    "start_time": "2022-08-25T15:37:48.185Z"
   },
   {
    "duration": 31,
    "start_time": "2022-08-25T15:37:48.197Z"
   },
   {
    "duration": 13,
    "start_time": "2022-08-25T15:37:48.229Z"
   },
   {
    "duration": 10,
    "start_time": "2022-08-25T15:37:48.244Z"
   },
   {
    "duration": 374,
    "start_time": "2022-08-25T15:38:07.824Z"
   },
   {
    "duration": 212,
    "start_time": "2022-08-25T15:38:08.201Z"
   },
   {
    "duration": 15,
    "start_time": "2022-08-25T15:38:08.415Z"
   },
   {
    "duration": 31,
    "start_time": "2022-08-25T15:38:08.432Z"
   },
   {
    "duration": 28,
    "start_time": "2022-08-25T15:38:08.464Z"
   },
   {
    "duration": 8,
    "start_time": "2022-08-25T15:38:08.494Z"
   },
   {
    "duration": 11,
    "start_time": "2022-08-25T15:38:08.503Z"
   },
   {
    "duration": 27,
    "start_time": "2022-08-25T15:38:08.515Z"
   },
   {
    "duration": 171,
    "start_time": "2022-08-25T15:38:08.544Z"
   },
   {
    "duration": 30,
    "start_time": "2022-08-25T15:38:08.717Z"
   },
   {
    "duration": 6,
    "start_time": "2022-08-25T15:38:08.748Z"
   },
   {
    "duration": 10,
    "start_time": "2022-08-25T15:38:08.756Z"
   },
   {
    "duration": 20,
    "start_time": "2022-08-25T15:38:08.767Z"
   },
   {
    "duration": 14,
    "start_time": "2022-08-25T15:38:08.789Z"
   },
   {
    "duration": 7,
    "start_time": "2022-08-25T15:38:08.805Z"
   },
   {
    "duration": 12,
    "start_time": "2022-08-25T15:38:08.813Z"
   },
   {
    "duration": 10,
    "start_time": "2022-08-25T15:38:08.826Z"
   },
   {
    "duration": 10,
    "start_time": "2022-08-25T15:38:08.838Z"
   },
   {
    "duration": 13,
    "start_time": "2022-08-25T15:38:08.850Z"
   },
   {
    "duration": 58,
    "start_time": "2022-08-25T15:38:08.864Z"
   },
   {
    "duration": 33,
    "start_time": "2022-08-25T15:38:08.924Z"
   },
   {
    "duration": 5,
    "start_time": "2022-08-25T15:38:08.958Z"
   },
   {
    "duration": 42,
    "start_time": "2022-08-25T15:38:08.964Z"
   },
   {
    "duration": 8,
    "start_time": "2022-08-25T15:38:09.007Z"
   },
   {
    "duration": 36,
    "start_time": "2022-08-25T15:38:09.016Z"
   },
   {
    "duration": 87,
    "start_time": "2022-08-25T15:38:09.054Z"
   },
   {
    "duration": 14,
    "start_time": "2022-08-25T15:38:09.143Z"
   },
   {
    "duration": 78,
    "start_time": "2022-08-25T15:38:09.161Z"
   },
   {
    "duration": 10,
    "start_time": "2022-08-25T15:38:09.241Z"
   },
   {
    "duration": 44,
    "start_time": "2022-08-25T15:38:09.253Z"
   },
   {
    "duration": 17,
    "start_time": "2022-08-25T15:38:09.299Z"
   },
   {
    "duration": 119,
    "start_time": "2022-08-25T15:38:09.318Z"
   },
   {
    "duration": 66,
    "start_time": "2022-08-25T15:38:09.439Z"
   },
   {
    "duration": 60,
    "start_time": "2022-08-25T15:38:09.507Z"
   },
   {
    "duration": 50,
    "start_time": "2022-08-25T15:38:09.569Z"
   },
   {
    "duration": 75,
    "start_time": "2022-08-25T15:38:09.620Z"
   },
   {
    "duration": 78,
    "start_time": "2022-08-25T15:38:09.696Z"
   },
   {
    "duration": 13,
    "start_time": "2022-08-25T15:38:09.784Z"
   },
   {
    "duration": 11,
    "start_time": "2022-08-25T15:38:09.799Z"
   },
   {
    "duration": 3,
    "start_time": "2022-08-25T15:38:09.811Z"
   },
   {
    "duration": 145,
    "start_time": "2022-08-25T15:38:09.815Z"
   },
   {
    "duration": 10,
    "start_time": "2022-08-25T15:38:09.961Z"
   },
   {
    "duration": 18,
    "start_time": "2022-08-25T15:38:09.972Z"
   },
   {
    "duration": 31,
    "start_time": "2022-08-25T15:38:09.991Z"
   },
   {
    "duration": 12,
    "start_time": "2022-08-25T15:38:10.023Z"
   },
   {
    "duration": 11,
    "start_time": "2022-08-25T15:38:10.036Z"
   },
   {
    "duration": 10,
    "start_time": "2022-08-25T15:39:03.856Z"
   },
   {
    "duration": 6,
    "start_time": "2022-08-25T15:39:10.889Z"
   },
   {
    "duration": 138,
    "start_time": "2022-08-25T15:39:16.468Z"
   },
   {
    "duration": 9,
    "start_time": "2022-08-25T15:39:20.144Z"
   },
   {
    "duration": 27,
    "start_time": "2022-08-25T15:39:24.824Z"
   },
   {
    "duration": 12,
    "start_time": "2022-08-25T15:39:27.422Z"
   },
   {
    "duration": 9,
    "start_time": "2022-08-25T15:39:28.503Z"
   },
   {
    "duration": 2,
    "start_time": "2022-08-25T15:39:51.118Z"
   },
   {
    "duration": 221,
    "start_time": "2022-08-25T15:39:51.125Z"
   },
   {
    "duration": 9,
    "start_time": "2022-08-25T15:39:51.348Z"
   },
   {
    "duration": 48,
    "start_time": "2022-08-25T15:39:51.359Z"
   },
   {
    "duration": 11,
    "start_time": "2022-08-25T15:39:51.409Z"
   },
   {
    "duration": 11,
    "start_time": "2022-08-25T15:39:51.422Z"
   },
   {
    "duration": 11,
    "start_time": "2022-08-25T15:39:51.435Z"
   },
   {
    "duration": 51,
    "start_time": "2022-08-25T15:39:51.447Z"
   },
   {
    "duration": 148,
    "start_time": "2022-08-25T15:39:51.500Z"
   },
   {
    "duration": 25,
    "start_time": "2022-08-25T15:39:51.650Z"
   },
   {
    "duration": 8,
    "start_time": "2022-08-25T15:39:51.677Z"
   },
   {
    "duration": 10,
    "start_time": "2022-08-25T15:39:51.687Z"
   },
   {
    "duration": 17,
    "start_time": "2022-08-25T15:39:51.699Z"
   },
   {
    "duration": 14,
    "start_time": "2022-08-25T15:39:51.718Z"
   },
   {
    "duration": 7,
    "start_time": "2022-08-25T15:39:51.735Z"
   },
   {
    "duration": 11,
    "start_time": "2022-08-25T15:39:51.743Z"
   },
   {
    "duration": 29,
    "start_time": "2022-08-25T15:39:51.756Z"
   },
   {
    "duration": 10,
    "start_time": "2022-08-25T15:39:51.787Z"
   },
   {
    "duration": 13,
    "start_time": "2022-08-25T15:39:51.799Z"
   },
   {
    "duration": 40,
    "start_time": "2022-08-25T15:39:51.813Z"
   },
   {
    "duration": 49,
    "start_time": "2022-08-25T15:39:51.855Z"
   },
   {
    "duration": 5,
    "start_time": "2022-08-25T15:39:51.905Z"
   },
   {
    "duration": 33,
    "start_time": "2022-08-25T15:39:51.911Z"
   },
   {
    "duration": 8,
    "start_time": "2022-08-25T15:39:51.946Z"
   },
   {
    "duration": 45,
    "start_time": "2022-08-25T15:39:51.955Z"
   },
   {
    "duration": 63,
    "start_time": "2022-08-25T15:39:52.001Z"
   },
   {
    "duration": 25,
    "start_time": "2022-08-25T15:39:52.065Z"
   },
   {
    "duration": 56,
    "start_time": "2022-08-25T15:39:52.092Z"
   },
   {
    "duration": 9,
    "start_time": "2022-08-25T15:39:52.149Z"
   },
   {
    "duration": 47,
    "start_time": "2022-08-25T15:39:52.160Z"
   },
   {
    "duration": 14,
    "start_time": "2022-08-25T15:39:52.209Z"
   },
   {
    "duration": 113,
    "start_time": "2022-08-25T15:39:52.224Z"
   },
   {
    "duration": 59,
    "start_time": "2022-08-25T15:39:52.339Z"
   },
   {
    "duration": 60,
    "start_time": "2022-08-25T15:39:52.399Z"
   },
   {
    "duration": 50,
    "start_time": "2022-08-25T15:39:52.461Z"
   },
   {
    "duration": 85,
    "start_time": "2022-08-25T15:39:52.513Z"
   },
   {
    "duration": 75,
    "start_time": "2022-08-25T15:39:52.600Z"
   },
   {
    "duration": 13,
    "start_time": "2022-08-25T15:39:52.685Z"
   },
   {
    "duration": 8,
    "start_time": "2022-08-25T15:39:52.699Z"
   },
   {
    "duration": 5,
    "start_time": "2022-08-25T15:39:52.708Z"
   },
   {
    "duration": 170,
    "start_time": "2022-08-25T15:39:52.715Z"
   },
   {
    "duration": 16,
    "start_time": "2022-08-25T15:39:52.889Z"
   },
   {
    "duration": 11,
    "start_time": "2022-08-25T15:39:52.906Z"
   },
   {
    "duration": 35,
    "start_time": "2022-08-25T15:39:52.919Z"
   },
   {
    "duration": 30,
    "start_time": "2022-08-25T15:39:52.955Z"
   },
   {
    "duration": 9,
    "start_time": "2022-08-25T15:39:52.986Z"
   },
   {
    "duration": 6,
    "start_time": "2022-08-25T15:40:15.656Z"
   },
   {
    "duration": 5,
    "start_time": "2022-08-25T15:41:26.984Z"
   },
   {
    "duration": 5,
    "start_time": "2022-08-25T15:41:31.235Z"
   },
   {
    "duration": 5,
    "start_time": "2022-08-25T15:41:42.731Z"
   },
   {
    "duration": 14,
    "start_time": "2022-08-25T15:42:38.175Z"
   },
   {
    "duration": 8,
    "start_time": "2022-08-25T15:42:39.607Z"
   },
   {
    "duration": 132,
    "start_time": "2022-08-25T15:42:42.025Z"
   },
   {
    "duration": 9,
    "start_time": "2022-08-25T15:42:46.626Z"
   },
   {
    "duration": 25,
    "start_time": "2022-08-25T15:42:50.453Z"
   },
   {
    "duration": 14,
    "start_time": "2022-08-25T15:42:52.854Z"
   },
   {
    "duration": 9,
    "start_time": "2022-08-25T15:42:55.871Z"
   },
   {
    "duration": 13,
    "start_time": "2022-08-25T15:43:23.158Z"
   },
   {
    "duration": 11,
    "start_time": "2022-08-25T15:43:24.693Z"
   },
   {
    "duration": 32,
    "start_time": "2022-08-25T15:43:29.097Z"
   },
   {
    "duration": 15,
    "start_time": "2022-08-25T15:47:29.548Z"
   },
   {
    "duration": 12,
    "start_time": "2022-08-25T15:47:30.333Z"
   },
   {
    "duration": 404,
    "start_time": "2022-08-25T15:47:54.513Z"
   },
   {
    "duration": 211,
    "start_time": "2022-08-25T15:47:54.920Z"
   },
   {
    "duration": 17,
    "start_time": "2022-08-25T15:47:55.133Z"
   },
   {
    "duration": 41,
    "start_time": "2022-08-25T15:47:55.151Z"
   },
   {
    "duration": 10,
    "start_time": "2022-08-25T15:47:55.194Z"
   },
   {
    "duration": 7,
    "start_time": "2022-08-25T15:47:55.206Z"
   },
   {
    "duration": 11,
    "start_time": "2022-08-25T15:47:55.214Z"
   },
   {
    "duration": 27,
    "start_time": "2022-08-25T15:47:55.226Z"
   },
   {
    "duration": 192,
    "start_time": "2022-08-25T15:47:55.254Z"
   },
   {
    "duration": 28,
    "start_time": "2022-08-25T15:47:55.448Z"
   },
   {
    "duration": 9,
    "start_time": "2022-08-25T15:47:55.477Z"
   },
   {
    "duration": 15,
    "start_time": "2022-08-25T15:47:55.488Z"
   },
   {
    "duration": 23,
    "start_time": "2022-08-25T15:47:55.505Z"
   },
   {
    "duration": 15,
    "start_time": "2022-08-25T15:47:55.532Z"
   },
   {
    "duration": 10,
    "start_time": "2022-08-25T15:47:55.549Z"
   },
   {
    "duration": 24,
    "start_time": "2022-08-25T15:47:55.561Z"
   },
   {
    "duration": 17,
    "start_time": "2022-08-25T15:47:55.587Z"
   },
   {
    "duration": 15,
    "start_time": "2022-08-25T15:47:55.606Z"
   },
   {
    "duration": 15,
    "start_time": "2022-08-25T15:47:55.623Z"
   },
   {
    "duration": 79,
    "start_time": "2022-08-25T15:47:55.639Z"
   },
   {
    "duration": 39,
    "start_time": "2022-08-25T15:47:55.720Z"
   },
   {
    "duration": 6,
    "start_time": "2022-08-25T15:47:55.760Z"
   },
   {
    "duration": 39,
    "start_time": "2022-08-25T15:47:55.785Z"
   },
   {
    "duration": 10,
    "start_time": "2022-08-25T15:47:55.826Z"
   },
   {
    "duration": 48,
    "start_time": "2022-08-25T15:47:55.837Z"
   },
   {
    "duration": 79,
    "start_time": "2022-08-25T15:47:55.887Z"
   },
   {
    "duration": 25,
    "start_time": "2022-08-25T15:47:55.968Z"
   },
   {
    "duration": 68,
    "start_time": "2022-08-25T15:47:55.995Z"
   },
   {
    "duration": 26,
    "start_time": "2022-08-25T15:47:56.064Z"
   },
   {
    "duration": 41,
    "start_time": "2022-08-25T15:47:56.091Z"
   },
   {
    "duration": 17,
    "start_time": "2022-08-25T15:47:56.136Z"
   },
   {
    "duration": 120,
    "start_time": "2022-08-25T15:47:56.155Z"
   },
   {
    "duration": 66,
    "start_time": "2022-08-25T15:47:56.276Z"
   },
   {
    "duration": 71,
    "start_time": "2022-08-25T15:47:56.344Z"
   },
   {
    "duration": 41,
    "start_time": "2022-08-25T15:47:56.417Z"
   },
   {
    "duration": 88,
    "start_time": "2022-08-25T15:47:56.459Z"
   },
   {
    "duration": 89,
    "start_time": "2022-08-25T15:47:56.549Z"
   },
   {
    "duration": 13,
    "start_time": "2022-08-25T15:47:56.639Z"
   },
   {
    "duration": 12,
    "start_time": "2022-08-25T15:47:56.654Z"
   },
   {
    "duration": 8,
    "start_time": "2022-08-25T15:47:56.684Z"
   },
   {
    "duration": 157,
    "start_time": "2022-08-25T15:47:56.695Z"
   },
   {
    "duration": 10,
    "start_time": "2022-08-25T15:47:56.854Z"
   },
   {
    "duration": 25,
    "start_time": "2022-08-25T15:47:56.865Z"
   },
   {
    "duration": 44,
    "start_time": "2022-08-25T15:47:56.891Z"
   },
   {
    "duration": 12,
    "start_time": "2022-08-25T15:47:56.937Z"
   },
   {
    "duration": 11,
    "start_time": "2022-08-25T15:47:56.951Z"
   },
   {
    "duration": 19,
    "start_time": "2022-08-25T15:49:37.184Z"
   },
   {
    "duration": 56,
    "start_time": "2022-08-25T15:49:46.939Z"
   },
   {
    "duration": 17,
    "start_time": "2022-08-25T15:49:51.446Z"
   },
   {
    "duration": 18,
    "start_time": "2022-08-25T15:50:30.763Z"
   },
   {
    "duration": 8,
    "start_time": "2022-08-25T15:50:43.786Z"
   },
   {
    "duration": 49,
    "start_time": "2022-08-25T16:35:49.420Z"
   },
   {
    "duration": 403,
    "start_time": "2022-08-25T16:35:53.841Z"
   },
   {
    "duration": 623,
    "start_time": "2022-08-25T16:35:54.246Z"
   },
   {
    "duration": 18,
    "start_time": "2022-08-25T16:35:54.871Z"
   },
   {
    "duration": 53,
    "start_time": "2022-08-25T16:35:54.895Z"
   },
   {
    "duration": 11,
    "start_time": "2022-08-25T16:35:54.950Z"
   },
   {
    "duration": 10,
    "start_time": "2022-08-25T16:35:54.962Z"
   },
   {
    "duration": 17,
    "start_time": "2022-08-25T16:35:54.973Z"
   },
   {
    "duration": 43,
    "start_time": "2022-08-25T16:35:54.993Z"
   },
   {
    "duration": 205,
    "start_time": "2022-08-25T16:35:55.038Z"
   },
   {
    "duration": 85,
    "start_time": "2022-08-25T16:35:55.247Z"
   },
   {
    "duration": 7,
    "start_time": "2022-08-25T16:35:55.333Z"
   },
   {
    "duration": 16,
    "start_time": "2022-08-25T16:35:55.341Z"
   },
   {
    "duration": 19,
    "start_time": "2022-08-25T16:35:55.360Z"
   },
   {
    "duration": 75,
    "start_time": "2022-08-25T16:35:55.381Z"
   },
   {
    "duration": 9,
    "start_time": "2022-08-25T16:35:55.458Z"
   },
   {
    "duration": 12,
    "start_time": "2022-08-25T16:35:55.469Z"
   },
   {
    "duration": 45,
    "start_time": "2022-08-25T16:35:55.482Z"
   },
   {
    "duration": 13,
    "start_time": "2022-08-25T16:35:55.529Z"
   },
   {
    "duration": 25,
    "start_time": "2022-08-25T16:35:55.545Z"
   },
   {
    "duration": 73,
    "start_time": "2022-08-25T16:35:55.572Z"
   },
   {
    "duration": 51,
    "start_time": "2022-08-25T16:35:55.647Z"
   },
   {
    "duration": 7,
    "start_time": "2022-08-25T16:35:55.700Z"
   },
   {
    "duration": 33,
    "start_time": "2022-08-25T16:35:55.709Z"
   },
   {
    "duration": 8,
    "start_time": "2022-08-25T16:35:55.744Z"
   },
   {
    "duration": 61,
    "start_time": "2022-08-25T16:35:55.753Z"
   },
   {
    "duration": 84,
    "start_time": "2022-08-25T16:35:55.816Z"
   },
   {
    "duration": 23,
    "start_time": "2022-08-25T16:35:55.903Z"
   },
   {
    "duration": 98,
    "start_time": "2022-08-25T16:35:55.929Z"
   },
   {
    "duration": 11,
    "start_time": "2022-08-25T16:35:56.029Z"
   },
   {
    "duration": 48,
    "start_time": "2022-08-25T16:35:56.041Z"
   },
   {
    "duration": 24,
    "start_time": "2022-08-25T16:35:56.091Z"
   },
   {
    "duration": 150,
    "start_time": "2022-08-25T16:35:56.116Z"
   },
   {
    "duration": 102,
    "start_time": "2022-08-25T16:35:56.268Z"
   },
   {
    "duration": 84,
    "start_time": "2022-08-25T16:35:56.373Z"
   },
   {
    "duration": 73,
    "start_time": "2022-08-25T16:35:56.459Z"
   },
   {
    "duration": 104,
    "start_time": "2022-08-25T16:35:56.534Z"
   },
   {
    "duration": 108,
    "start_time": "2022-08-25T16:35:56.639Z"
   },
   {
    "duration": 16,
    "start_time": "2022-08-25T16:35:56.749Z"
   },
   {
    "duration": 37,
    "start_time": "2022-08-25T16:35:56.766Z"
   },
   {
    "duration": 11,
    "start_time": "2022-08-25T16:35:56.805Z"
   },
   {
    "duration": 160,
    "start_time": "2022-08-25T16:35:56.819Z"
   },
   {
    "duration": 28,
    "start_time": "2022-08-25T16:35:56.980Z"
   },
   {
    "duration": 10,
    "start_time": "2022-08-25T16:35:57.010Z"
   },
   {
    "duration": 47,
    "start_time": "2022-08-25T16:35:57.022Z"
   },
   {
    "duration": 105,
    "start_time": "2022-08-25T16:35:57.071Z"
   },
   {
    "duration": 26,
    "start_time": "2022-08-25T16:35:57.177Z"
   },
   {
    "duration": 13,
    "start_time": "2022-08-25T16:35:57.205Z"
   },
   {
    "duration": 17,
    "start_time": "2022-08-25T16:36:14.221Z"
   },
   {
    "duration": 18,
    "start_time": "2022-08-25T16:36:23.061Z"
   },
   {
    "duration": 45,
    "start_time": "2022-08-25T16:37:49.930Z"
   },
   {
    "duration": 17,
    "start_time": "2022-08-25T16:37:57.317Z"
   },
   {
    "duration": 28,
    "start_time": "2022-08-25T16:38:01.637Z"
   },
   {
    "duration": 21,
    "start_time": "2022-08-25T16:40:46.974Z"
   },
   {
    "duration": 25,
    "start_time": "2022-08-25T16:41:42.311Z"
   },
   {
    "duration": 23,
    "start_time": "2022-08-25T16:44:31.911Z"
   },
   {
    "duration": 33,
    "start_time": "2022-08-25T16:44:43.958Z"
   },
   {
    "duration": 19,
    "start_time": "2022-08-25T16:45:08.407Z"
   },
   {
    "duration": 22,
    "start_time": "2022-08-25T16:45:28.403Z"
   },
   {
    "duration": 19,
    "start_time": "2022-08-25T16:45:34.632Z"
   },
   {
    "duration": 26,
    "start_time": "2022-08-25T16:45:51.808Z"
   },
   {
    "duration": 20,
    "start_time": "2022-08-25T16:46:12.423Z"
   },
   {
    "duration": 23,
    "start_time": "2022-08-25T16:47:02.344Z"
   },
   {
    "duration": 22,
    "start_time": "2022-08-25T16:47:09.658Z"
   },
   {
    "duration": 29,
    "start_time": "2022-08-25T16:47:30.227Z"
   },
   {
    "duration": 29,
    "start_time": "2022-08-25T16:48:22.727Z"
   },
   {
    "duration": 27,
    "start_time": "2022-08-25T16:49:42.628Z"
   },
   {
    "duration": 28,
    "start_time": "2022-08-25T16:50:01.971Z"
   },
   {
    "duration": 21,
    "start_time": "2022-08-25T16:50:12.321Z"
   },
   {
    "duration": 27,
    "start_time": "2022-08-25T16:50:28.178Z"
   },
   {
    "duration": 50,
    "start_time": "2022-08-25T16:56:09.848Z"
   },
   {
    "duration": 61,
    "start_time": "2022-08-25T16:56:54.883Z"
   },
   {
    "duration": 40,
    "start_time": "2022-08-25T16:57:30.279Z"
   },
   {
    "duration": 37,
    "start_time": "2022-08-25T16:58:06.304Z"
   },
   {
    "duration": 8,
    "start_time": "2022-08-25T16:58:41.914Z"
   },
   {
    "duration": 11,
    "start_time": "2022-08-25T16:58:49.402Z"
   },
   {
    "duration": 7,
    "start_time": "2022-08-25T16:59:20.521Z"
   },
   {
    "duration": 6,
    "start_time": "2022-08-25T16:59:22.008Z"
   },
   {
    "duration": 45,
    "start_time": "2022-08-25T16:59:37.810Z"
   },
   {
    "duration": 62,
    "start_time": "2022-08-25T16:59:51.277Z"
   },
   {
    "duration": 8,
    "start_time": "2022-08-25T17:00:37.768Z"
   },
   {
    "duration": 5,
    "start_time": "2022-08-25T17:00:39.647Z"
   },
   {
    "duration": 24,
    "start_time": "2022-08-25T17:01:23.602Z"
   },
   {
    "duration": 12,
    "start_time": "2022-08-25T17:01:24.645Z"
   },
   {
    "duration": 11,
    "start_time": "2022-08-25T17:02:08.220Z"
   },
   {
    "duration": 9,
    "start_time": "2022-08-25T17:02:09.155Z"
   },
   {
    "duration": 4,
    "start_time": "2022-08-25T17:02:46.698Z"
   },
   {
    "duration": 32,
    "start_time": "2022-08-25T17:03:21.126Z"
   },
   {
    "duration": 31,
    "start_time": "2022-08-25T17:03:25.715Z"
   },
   {
    "duration": 3,
    "start_time": "2022-08-25T17:03:48.191Z"
   },
   {
    "duration": 231,
    "start_time": "2022-08-25T17:03:48.200Z"
   },
   {
    "duration": 9,
    "start_time": "2022-08-25T17:03:48.433Z"
   },
   {
    "duration": 57,
    "start_time": "2022-08-25T17:03:48.444Z"
   },
   {
    "duration": 10,
    "start_time": "2022-08-25T17:03:48.504Z"
   },
   {
    "duration": 9,
    "start_time": "2022-08-25T17:03:48.516Z"
   },
   {
    "duration": 18,
    "start_time": "2022-08-25T17:03:48.526Z"
   },
   {
    "duration": 59,
    "start_time": "2022-08-25T17:03:48.546Z"
   },
   {
    "duration": 194,
    "start_time": "2022-08-25T17:03:48.607Z"
   },
   {
    "duration": 26,
    "start_time": "2022-08-25T17:03:48.803Z"
   },
   {
    "duration": 7,
    "start_time": "2022-08-25T17:03:48.832Z"
   },
   {
    "duration": 14,
    "start_time": "2022-08-25T17:03:48.840Z"
   },
   {
    "duration": 41,
    "start_time": "2022-08-25T17:03:48.855Z"
   },
   {
    "duration": 14,
    "start_time": "2022-08-25T17:03:48.898Z"
   },
   {
    "duration": 8,
    "start_time": "2022-08-25T17:03:48.914Z"
   },
   {
    "duration": 17,
    "start_time": "2022-08-25T17:03:48.925Z"
   },
   {
    "duration": 20,
    "start_time": "2022-08-25T17:03:48.944Z"
   },
   {
    "duration": 33,
    "start_time": "2022-08-25T17:03:48.966Z"
   },
   {
    "duration": 19,
    "start_time": "2022-08-25T17:03:49.001Z"
   },
   {
    "duration": 46,
    "start_time": "2022-08-25T17:03:49.021Z"
   },
   {
    "duration": 39,
    "start_time": "2022-08-25T17:03:49.086Z"
   },
   {
    "duration": 6,
    "start_time": "2022-08-25T17:03:49.127Z"
   },
   {
    "duration": 62,
    "start_time": "2022-08-25T17:03:49.135Z"
   },
   {
    "duration": 11,
    "start_time": "2022-08-25T17:03:49.199Z"
   },
   {
    "duration": 64,
    "start_time": "2022-08-25T17:03:49.212Z"
   },
   {
    "duration": 73,
    "start_time": "2022-08-25T17:03:49.278Z"
   },
   {
    "duration": 36,
    "start_time": "2022-08-25T17:03:49.352Z"
   },
   {
    "duration": 83,
    "start_time": "2022-08-25T17:03:49.390Z"
   },
   {
    "duration": 10,
    "start_time": "2022-08-25T17:03:49.489Z"
   },
   {
    "duration": 74,
    "start_time": "2022-08-25T17:03:49.501Z"
   },
   {
    "duration": 21,
    "start_time": "2022-08-25T17:03:49.587Z"
   },
   {
    "duration": 133,
    "start_time": "2022-08-25T17:03:49.610Z"
   },
   {
    "duration": 73,
    "start_time": "2022-08-25T17:03:49.745Z"
   },
   {
    "duration": 72,
    "start_time": "2022-08-25T17:03:49.819Z"
   },
   {
    "duration": 43,
    "start_time": "2022-08-25T17:03:49.893Z"
   },
   {
    "duration": 93,
    "start_time": "2022-08-25T17:03:49.938Z"
   },
   {
    "duration": 100,
    "start_time": "2022-08-25T17:03:50.033Z"
   },
   {
    "duration": 22,
    "start_time": "2022-08-25T17:03:50.135Z"
   },
   {
    "duration": 37,
    "start_time": "2022-08-25T17:03:50.159Z"
   },
   {
    "duration": 8,
    "start_time": "2022-08-25T17:03:50.198Z"
   },
   {
    "duration": 27,
    "start_time": "2022-08-25T17:03:50.207Z"
   },
   {
    "duration": 52,
    "start_time": "2022-08-25T17:03:50.236Z"
   },
   {
    "duration": 172,
    "start_time": "2022-08-25T17:03:50.289Z"
   },
   {
    "duration": 30,
    "start_time": "2022-08-25T17:03:50.462Z"
   },
   {
    "duration": 12,
    "start_time": "2022-08-25T17:03:50.494Z"
   },
   {
    "duration": 38,
    "start_time": "2022-08-25T17:03:50.508Z"
   },
   {
    "duration": 62,
    "start_time": "2022-08-25T17:03:50.548Z"
   },
   {
    "duration": 11,
    "start_time": "2022-08-25T17:03:50.612Z"
   },
   {
    "duration": 14,
    "start_time": "2022-08-25T17:03:50.624Z"
   },
   {
    "duration": 10,
    "start_time": "2022-08-25T17:03:50.640Z"
   },
   {
    "duration": 11,
    "start_time": "2022-08-25T17:03:50.652Z"
   },
   {
    "duration": 39,
    "start_time": "2022-08-25T17:03:50.665Z"
   },
   {
    "duration": 3,
    "start_time": "2022-08-25T17:04:38.478Z"
   },
   {
    "duration": 260,
    "start_time": "2022-08-25T17:04:38.579Z"
   },
   {
    "duration": 10,
    "start_time": "2022-08-25T17:04:38.841Z"
   },
   {
    "duration": 73,
    "start_time": "2022-08-25T17:04:38.853Z"
   },
   {
    "duration": 11,
    "start_time": "2022-08-25T17:04:38.927Z"
   },
   {
    "duration": 9,
    "start_time": "2022-08-25T17:04:38.940Z"
   },
   {
    "duration": 37,
    "start_time": "2022-08-25T17:04:38.951Z"
   },
   {
    "duration": 29,
    "start_time": "2022-08-25T17:04:38.990Z"
   },
   {
    "duration": 190,
    "start_time": "2022-08-25T17:04:39.021Z"
   },
   {
    "duration": 28,
    "start_time": "2022-08-25T17:04:39.212Z"
   },
   {
    "duration": 7,
    "start_time": "2022-08-25T17:04:39.242Z"
   },
   {
    "duration": 13,
    "start_time": "2022-08-25T17:04:39.250Z"
   },
   {
    "duration": 36,
    "start_time": "2022-08-25T17:04:39.265Z"
   },
   {
    "duration": 17,
    "start_time": "2022-08-25T17:04:39.302Z"
   },
   {
    "duration": 10,
    "start_time": "2022-08-25T17:04:39.323Z"
   },
   {
    "duration": 18,
    "start_time": "2022-08-25T17:04:39.335Z"
   },
   {
    "duration": 33,
    "start_time": "2022-08-25T17:04:39.355Z"
   },
   {
    "duration": 16,
    "start_time": "2022-08-25T17:04:39.390Z"
   },
   {
    "duration": 20,
    "start_time": "2022-08-25T17:04:39.408Z"
   },
   {
    "duration": 65,
    "start_time": "2022-08-25T17:04:39.430Z"
   },
   {
    "duration": 36,
    "start_time": "2022-08-25T17:04:39.497Z"
   },
   {
    "duration": 5,
    "start_time": "2022-08-25T17:04:39.535Z"
   },
   {
    "duration": 56,
    "start_time": "2022-08-25T17:04:39.541Z"
   },
   {
    "duration": 11,
    "start_time": "2022-08-25T17:04:39.599Z"
   },
   {
    "duration": 51,
    "start_time": "2022-08-25T17:04:39.612Z"
   },
   {
    "duration": 83,
    "start_time": "2022-08-25T17:04:39.665Z"
   },
   {
    "duration": 16,
    "start_time": "2022-08-25T17:04:39.750Z"
   },
   {
    "duration": 76,
    "start_time": "2022-08-25T17:04:39.767Z"
   },
   {
    "duration": 9,
    "start_time": "2022-08-25T17:04:39.845Z"
   },
   {
    "duration": 61,
    "start_time": "2022-08-25T17:04:39.856Z"
   },
   {
    "duration": 19,
    "start_time": "2022-08-25T17:04:39.919Z"
   },
   {
    "duration": 127,
    "start_time": "2022-08-25T17:04:39.940Z"
   },
   {
    "duration": 79,
    "start_time": "2022-08-25T17:04:40.069Z"
   },
   {
    "duration": 81,
    "start_time": "2022-08-25T17:04:40.150Z"
   },
   {
    "duration": 66,
    "start_time": "2022-08-25T17:04:40.233Z"
   },
   {
    "duration": 92,
    "start_time": "2022-08-25T17:04:40.301Z"
   },
   {
    "duration": 108,
    "start_time": "2022-08-25T17:04:40.395Z"
   },
   {
    "duration": 25,
    "start_time": "2022-08-25T17:04:40.504Z"
   },
   {
    "duration": 28,
    "start_time": "2022-08-25T17:04:40.531Z"
   },
   {
    "duration": 38,
    "start_time": "2022-08-25T17:04:40.560Z"
   },
   {
    "duration": 28,
    "start_time": "2022-08-25T17:04:40.600Z"
   },
   {
    "duration": 27,
    "start_time": "2022-08-25T17:04:40.632Z"
   },
   {
    "duration": 171,
    "start_time": "2022-08-25T17:04:40.661Z"
   },
   {
    "duration": 12,
    "start_time": "2022-08-25T17:04:40.833Z"
   },
   {
    "duration": 12,
    "start_time": "2022-08-25T17:04:40.846Z"
   },
   {
    "duration": 52,
    "start_time": "2022-08-25T17:04:40.860Z"
   },
   {
    "duration": 46,
    "start_time": "2022-08-25T17:04:40.913Z"
   },
   {
    "duration": 28,
    "start_time": "2022-08-25T17:04:40.960Z"
   },
   {
    "duration": 15,
    "start_time": "2022-08-25T17:04:40.990Z"
   },
   {
    "duration": 13,
    "start_time": "2022-08-25T17:04:41.007Z"
   },
   {
    "duration": 6,
    "start_time": "2022-08-25T17:04:41.022Z"
   },
   {
    "duration": 71,
    "start_time": "2022-08-25T17:04:41.030Z"
   },
   {
    "duration": 48,
    "start_time": "2022-08-25T17:04:52.663Z"
   },
   {
    "duration": 37,
    "start_time": "2022-08-25T17:05:10.453Z"
   },
   {
    "duration": 6,
    "start_time": "2022-08-25T17:05:46.972Z"
   },
   {
    "duration": 14,
    "start_time": "2022-08-25T17:05:55.118Z"
   },
   {
    "duration": 9,
    "start_time": "2022-08-25T17:07:21.093Z"
   },
   {
    "duration": 7,
    "start_time": "2022-08-25T17:07:34.781Z"
   },
   {
    "duration": 9,
    "start_time": "2022-08-25T17:08:01.081Z"
   },
   {
    "duration": 7,
    "start_time": "2022-08-25T17:08:12.052Z"
   },
   {
    "duration": 10,
    "start_time": "2022-08-25T17:08:24.694Z"
   },
   {
    "duration": 446,
    "start_time": "2022-08-26T17:54:50.424Z"
   },
   {
    "duration": 535,
    "start_time": "2022-08-26T17:54:50.873Z"
   },
   {
    "duration": 18,
    "start_time": "2022-08-26T17:54:51.410Z"
   },
   {
    "duration": 58,
    "start_time": "2022-08-26T17:54:51.431Z"
   },
   {
    "duration": 12,
    "start_time": "2022-08-26T17:54:51.508Z"
   },
   {
    "duration": 11,
    "start_time": "2022-08-26T17:54:51.521Z"
   },
   {
    "duration": 14,
    "start_time": "2022-08-26T17:54:51.533Z"
   },
   {
    "duration": 69,
    "start_time": "2022-08-26T17:54:51.549Z"
   },
   {
    "duration": 243,
    "start_time": "2022-08-26T17:54:51.620Z"
   },
   {
    "duration": 68,
    "start_time": "2022-08-26T17:54:51.867Z"
   },
   {
    "duration": 8,
    "start_time": "2022-08-26T17:54:51.937Z"
   },
   {
    "duration": 13,
    "start_time": "2022-08-26T17:54:51.946Z"
   },
   {
    "duration": 22,
    "start_time": "2022-08-26T17:54:51.961Z"
   },
   {
    "duration": 58,
    "start_time": "2022-08-26T17:54:51.985Z"
   },
   {
    "duration": 9,
    "start_time": "2022-08-26T17:54:52.045Z"
   },
   {
    "duration": 24,
    "start_time": "2022-08-26T17:54:52.056Z"
   },
   {
    "duration": 17,
    "start_time": "2022-08-26T17:54:52.082Z"
   },
   {
    "duration": 21,
    "start_time": "2022-08-26T17:54:52.101Z"
   },
   {
    "duration": 24,
    "start_time": "2022-08-26T17:54:52.124Z"
   },
   {
    "duration": 84,
    "start_time": "2022-08-26T17:54:52.149Z"
   },
   {
    "duration": 41,
    "start_time": "2022-08-26T17:54:52.235Z"
   },
   {
    "duration": 5,
    "start_time": "2022-08-26T17:54:52.278Z"
   },
   {
    "duration": 50,
    "start_time": "2022-08-26T17:54:52.285Z"
   },
   {
    "duration": 9,
    "start_time": "2022-08-26T17:54:52.336Z"
   },
   {
    "duration": 65,
    "start_time": "2022-08-26T17:54:52.347Z"
   },
   {
    "duration": 79,
    "start_time": "2022-08-26T17:54:52.414Z"
   },
   {
    "duration": 29,
    "start_time": "2022-08-26T17:54:52.495Z"
   },
   {
    "duration": 85,
    "start_time": "2022-08-26T17:54:52.528Z"
   },
   {
    "duration": 10,
    "start_time": "2022-08-26T17:54:52.615Z"
   },
   {
    "duration": 49,
    "start_time": "2022-08-26T17:54:52.626Z"
   },
   {
    "duration": 52,
    "start_time": "2022-08-26T17:54:52.677Z"
   },
   {
    "duration": 138,
    "start_time": "2022-08-26T17:54:52.731Z"
   },
   {
    "duration": 74,
    "start_time": "2022-08-26T17:54:52.871Z"
   },
   {
    "duration": 80,
    "start_time": "2022-08-26T17:54:52.947Z"
   },
   {
    "duration": 52,
    "start_time": "2022-08-26T17:54:53.029Z"
   },
   {
    "duration": 94,
    "start_time": "2022-08-26T17:54:53.083Z"
   },
   {
    "duration": 102,
    "start_time": "2022-08-26T17:54:53.180Z"
   },
   {
    "duration": 38,
    "start_time": "2022-08-26T17:54:53.285Z"
   },
   {
    "duration": 19,
    "start_time": "2022-08-26T17:54:53.325Z"
   },
   {
    "duration": 8,
    "start_time": "2022-08-26T17:54:53.346Z"
   },
   {
    "duration": 54,
    "start_time": "2022-08-26T17:54:53.356Z"
   },
   {
    "duration": 28,
    "start_time": "2022-08-26T17:54:53.412Z"
   },
   {
    "duration": 172,
    "start_time": "2022-08-26T17:54:53.442Z"
   },
   {
    "duration": 13,
    "start_time": "2022-08-26T17:54:53.616Z"
   },
   {
    "duration": 16,
    "start_time": "2022-08-26T17:54:53.631Z"
   },
   {
    "duration": 42,
    "start_time": "2022-08-26T17:54:53.649Z"
   },
   {
    "duration": 99,
    "start_time": "2022-08-26T17:54:53.710Z"
   },
   {
    "duration": 12,
    "start_time": "2022-08-26T17:54:53.811Z"
   },
   {
    "duration": 17,
    "start_time": "2022-08-26T17:54:53.825Z"
   },
   {
    "duration": 11,
    "start_time": "2022-08-26T17:54:53.844Z"
   },
   {
    "duration": 7,
    "start_time": "2022-08-26T17:54:53.857Z"
   },
   {
    "duration": 54,
    "start_time": "2022-08-26T17:54:53.865Z"
   },
   {
    "duration": 5,
    "start_time": "2022-08-26T17:54:53.921Z"
   },
   {
    "duration": 21,
    "start_time": "2022-08-26T17:54:53.928Z"
   },
   {
    "duration": 12,
    "start_time": "2022-08-26T17:54:53.951Z"
   },
   {
    "duration": 19,
    "start_time": "2022-08-26T17:54:53.965Z"
   },
   {
    "duration": 142,
    "start_time": "2022-08-26T17:57:18.052Z"
   },
   {
    "duration": 93,
    "start_time": "2022-08-26T17:58:09.681Z"
   },
   {
    "duration": 487,
    "start_time": "2022-08-27T06:58:30.467Z"
   },
   {
    "duration": 722,
    "start_time": "2022-08-27T06:58:30.956Z"
   },
   {
    "duration": 16,
    "start_time": "2022-08-27T06:58:31.680Z"
   },
   {
    "duration": 37,
    "start_time": "2022-08-27T06:58:31.699Z"
   },
   {
    "duration": 11,
    "start_time": "2022-08-27T06:58:31.738Z"
   },
   {
    "duration": 10,
    "start_time": "2022-08-27T06:58:31.751Z"
   },
   {
    "duration": 38,
    "start_time": "2022-08-27T06:58:31.763Z"
   },
   {
    "duration": 45,
    "start_time": "2022-08-27T06:58:31.805Z"
   },
   {
    "duration": 300,
    "start_time": "2022-08-27T06:58:31.852Z"
   },
   {
    "duration": 171,
    "start_time": "2022-08-27T06:58:32.155Z"
   },
   {
    "duration": 7,
    "start_time": "2022-08-27T06:58:32.328Z"
   },
   {
    "duration": 14,
    "start_time": "2022-08-27T06:58:32.337Z"
   },
   {
    "duration": 23,
    "start_time": "2022-08-27T06:58:32.353Z"
   },
   {
    "duration": 65,
    "start_time": "2022-08-27T06:58:32.378Z"
   },
   {
    "duration": 9,
    "start_time": "2022-08-27T06:58:32.444Z"
   },
   {
    "duration": 13,
    "start_time": "2022-08-27T06:58:32.454Z"
   },
   {
    "duration": 21,
    "start_time": "2022-08-27T06:58:32.469Z"
   },
   {
    "duration": 24,
    "start_time": "2022-08-27T06:58:32.491Z"
   },
   {
    "duration": 20,
    "start_time": "2022-08-27T06:58:32.516Z"
   },
   {
    "duration": 63,
    "start_time": "2022-08-27T06:58:32.538Z"
   },
   {
    "duration": 41,
    "start_time": "2022-08-27T06:58:32.603Z"
   },
   {
    "duration": 6,
    "start_time": "2022-08-27T06:58:32.646Z"
   },
   {
    "duration": 54,
    "start_time": "2022-08-27T06:58:32.653Z"
   },
   {
    "duration": 9,
    "start_time": "2022-08-27T06:58:32.708Z"
   },
   {
    "duration": 45,
    "start_time": "2022-08-27T06:58:32.719Z"
   },
   {
    "duration": 96,
    "start_time": "2022-08-27T06:58:32.766Z"
   },
   {
    "duration": 31,
    "start_time": "2022-08-27T06:58:32.864Z"
   },
   {
    "duration": 77,
    "start_time": "2022-08-27T06:58:32.899Z"
   },
   {
    "duration": 22,
    "start_time": "2022-08-27T06:58:32.978Z"
   },
   {
    "duration": 42,
    "start_time": "2022-08-27T06:58:33.002Z"
   },
   {
    "duration": 19,
    "start_time": "2022-08-27T06:58:33.046Z"
   },
   {
    "duration": 128,
    "start_time": "2022-08-27T06:58:33.093Z"
   },
   {
    "duration": 79,
    "start_time": "2022-08-27T06:58:33.222Z"
   },
   {
    "duration": 75,
    "start_time": "2022-08-27T06:58:33.303Z"
   },
   {
    "duration": 60,
    "start_time": "2022-08-27T06:58:33.380Z"
   },
   {
    "duration": 165,
    "start_time": "2022-08-27T06:58:33.442Z"
   },
   {
    "duration": 0,
    "start_time": "2022-08-27T06:58:33.609Z"
   },
   {
    "duration": 0,
    "start_time": "2022-08-27T06:58:33.610Z"
   },
   {
    "duration": 0,
    "start_time": "2022-08-27T06:58:33.611Z"
   },
   {
    "duration": 0,
    "start_time": "2022-08-27T06:58:33.612Z"
   },
   {
    "duration": 0,
    "start_time": "2022-08-27T06:58:33.613Z"
   },
   {
    "duration": 0,
    "start_time": "2022-08-27T06:58:33.614Z"
   },
   {
    "duration": 0,
    "start_time": "2022-08-27T06:58:33.615Z"
   },
   {
    "duration": 0,
    "start_time": "2022-08-27T06:58:33.615Z"
   },
   {
    "duration": 0,
    "start_time": "2022-08-27T06:58:33.616Z"
   },
   {
    "duration": 0,
    "start_time": "2022-08-27T06:58:33.617Z"
   },
   {
    "duration": 0,
    "start_time": "2022-08-27T06:58:33.619Z"
   },
   {
    "duration": 0,
    "start_time": "2022-08-27T06:58:33.619Z"
   },
   {
    "duration": 0,
    "start_time": "2022-08-27T06:58:33.620Z"
   },
   {
    "duration": 0,
    "start_time": "2022-08-27T06:58:33.621Z"
   },
   {
    "duration": 0,
    "start_time": "2022-08-27T06:58:33.622Z"
   },
   {
    "duration": 0,
    "start_time": "2022-08-27T06:58:33.623Z"
   },
   {
    "duration": 0,
    "start_time": "2022-08-27T06:58:33.624Z"
   },
   {
    "duration": 0,
    "start_time": "2022-08-27T06:58:33.625Z"
   },
   {
    "duration": 0,
    "start_time": "2022-08-27T06:58:33.626Z"
   },
   {
    "duration": 0,
    "start_time": "2022-08-27T06:58:33.627Z"
   },
   {
    "duration": 0,
    "start_time": "2022-08-27T06:58:33.628Z"
   },
   {
    "duration": 3,
    "start_time": "2022-08-27T07:00:15.745Z"
   },
   {
    "duration": 285,
    "start_time": "2022-08-27T07:00:15.751Z"
   },
   {
    "duration": 9,
    "start_time": "2022-08-27T07:00:16.038Z"
   },
   {
    "duration": 53,
    "start_time": "2022-08-27T07:00:16.049Z"
   },
   {
    "duration": 34,
    "start_time": "2022-08-27T07:00:16.104Z"
   },
   {
    "duration": 30,
    "start_time": "2022-08-27T07:00:16.140Z"
   },
   {
    "duration": 14,
    "start_time": "2022-08-27T07:00:16.172Z"
   },
   {
    "duration": 40,
    "start_time": "2022-08-27T07:00:16.188Z"
   },
   {
    "duration": 192,
    "start_time": "2022-08-27T07:00:16.230Z"
   },
   {
    "duration": 28,
    "start_time": "2022-08-27T07:00:16.423Z"
   },
   {
    "duration": 8,
    "start_time": "2022-08-27T07:00:16.454Z"
   },
   {
    "duration": 33,
    "start_time": "2022-08-27T07:00:16.463Z"
   },
   {
    "duration": 27,
    "start_time": "2022-08-27T07:00:16.498Z"
   },
   {
    "duration": 30,
    "start_time": "2022-08-27T07:00:16.527Z"
   },
   {
    "duration": 10,
    "start_time": "2022-08-27T07:00:16.559Z"
   },
   {
    "duration": 20,
    "start_time": "2022-08-27T07:00:16.571Z"
   },
   {
    "duration": 28,
    "start_time": "2022-08-27T07:00:16.593Z"
   },
   {
    "duration": 14,
    "start_time": "2022-08-27T07:00:16.622Z"
   },
   {
    "duration": 22,
    "start_time": "2022-08-27T07:00:16.638Z"
   },
   {
    "duration": 50,
    "start_time": "2022-08-27T07:00:16.661Z"
   },
   {
    "duration": 45,
    "start_time": "2022-08-27T07:00:16.712Z"
   },
   {
    "duration": 6,
    "start_time": "2022-08-27T07:00:16.759Z"
   },
   {
    "duration": 53,
    "start_time": "2022-08-27T07:00:16.767Z"
   },
   {
    "duration": 9,
    "start_time": "2022-08-27T07:00:16.822Z"
   },
   {
    "duration": 63,
    "start_time": "2022-08-27T07:00:16.833Z"
   },
   {
    "duration": 75,
    "start_time": "2022-08-27T07:00:16.899Z"
   },
   {
    "duration": 20,
    "start_time": "2022-08-27T07:00:16.976Z"
   },
   {
    "duration": 68,
    "start_time": "2022-08-27T07:00:16.998Z"
   },
   {
    "duration": 23,
    "start_time": "2022-08-27T07:00:17.070Z"
   },
   {
    "duration": 44,
    "start_time": "2022-08-27T07:00:17.095Z"
   },
   {
    "duration": 27,
    "start_time": "2022-08-27T07:00:17.140Z"
   },
   {
    "duration": 136,
    "start_time": "2022-08-27T07:00:17.169Z"
   },
   {
    "duration": 69,
    "start_time": "2022-08-27T07:00:17.307Z"
   },
   {
    "duration": 73,
    "start_time": "2022-08-27T07:00:17.391Z"
   },
   {
    "duration": 57,
    "start_time": "2022-08-27T07:00:17.465Z"
   },
   {
    "duration": 99,
    "start_time": "2022-08-27T07:00:17.524Z"
   },
   {
    "duration": 101,
    "start_time": "2022-08-27T07:00:17.624Z"
   },
   {
    "duration": 22,
    "start_time": "2022-08-27T07:00:17.727Z"
   },
   {
    "duration": 18,
    "start_time": "2022-08-27T07:00:17.751Z"
   },
   {
    "duration": 9,
    "start_time": "2022-08-27T07:00:17.791Z"
   },
   {
    "duration": 46,
    "start_time": "2022-08-27T07:00:17.802Z"
   },
   {
    "duration": 44,
    "start_time": "2022-08-27T07:00:17.850Z"
   },
   {
    "duration": 175,
    "start_time": "2022-08-27T07:00:17.896Z"
   },
   {
    "duration": 24,
    "start_time": "2022-08-27T07:00:18.072Z"
   },
   {
    "duration": 44,
    "start_time": "2022-08-27T07:00:18.097Z"
   },
   {
    "duration": 68,
    "start_time": "2022-08-27T07:00:18.142Z"
   },
   {
    "duration": 96,
    "start_time": "2022-08-27T07:00:18.212Z"
   },
   {
    "duration": 13,
    "start_time": "2022-08-27T07:00:18.310Z"
   },
   {
    "duration": 27,
    "start_time": "2022-08-27T07:00:18.324Z"
   },
   {
    "duration": 24,
    "start_time": "2022-08-27T07:00:18.353Z"
   },
   {
    "duration": 27,
    "start_time": "2022-08-27T07:00:18.379Z"
   },
   {
    "duration": 45,
    "start_time": "2022-08-27T07:00:18.408Z"
   },
   {
    "duration": 5,
    "start_time": "2022-08-27T07:00:18.454Z"
   },
   {
    "duration": 32,
    "start_time": "2022-08-27T07:00:18.461Z"
   },
   {
    "duration": 12,
    "start_time": "2022-08-27T07:00:18.495Z"
   },
   {
    "duration": 46,
    "start_time": "2022-08-27T07:00:18.508Z"
   },
   {
    "duration": 19,
    "start_time": "2022-08-27T07:01:12.037Z"
   },
   {
    "duration": 15,
    "start_time": "2022-08-27T07:02:06.613Z"
   },
   {
    "duration": 21,
    "start_time": "2022-08-27T07:02:39.228Z"
   },
   {
    "duration": 13,
    "start_time": "2022-08-27T07:02:41.005Z"
   },
   {
    "duration": 3,
    "start_time": "2022-08-27T07:03:03.179Z"
   },
   {
    "duration": 281,
    "start_time": "2022-08-27T07:03:03.186Z"
   },
   {
    "duration": 29,
    "start_time": "2022-08-27T07:03:03.470Z"
   },
   {
    "duration": 78,
    "start_time": "2022-08-27T07:03:03.502Z"
   },
   {
    "duration": 13,
    "start_time": "2022-08-27T07:03:03.591Z"
   },
   {
    "duration": 12,
    "start_time": "2022-08-27T07:03:03.606Z"
   },
   {
    "duration": 17,
    "start_time": "2022-08-27T07:03:03.620Z"
   },
   {
    "duration": 61,
    "start_time": "2022-08-27T07:03:03.639Z"
   },
   {
    "duration": 219,
    "start_time": "2022-08-27T07:03:03.703Z"
   },
   {
    "duration": 28,
    "start_time": "2022-08-27T07:03:03.924Z"
   },
   {
    "duration": 9,
    "start_time": "2022-08-27T07:03:03.955Z"
   },
   {
    "duration": 27,
    "start_time": "2022-08-27T07:03:03.966Z"
   },
   {
    "duration": 32,
    "start_time": "2022-08-27T07:03:03.997Z"
   },
   {
    "duration": 18,
    "start_time": "2022-08-27T07:03:04.031Z"
   },
   {
    "duration": 9,
    "start_time": "2022-08-27T07:03:04.051Z"
   },
   {
    "duration": 31,
    "start_time": "2022-08-27T07:03:04.062Z"
   },
   {
    "duration": 16,
    "start_time": "2022-08-27T07:03:04.095Z"
   },
   {
    "duration": 18,
    "start_time": "2022-08-27T07:03:04.113Z"
   },
   {
    "duration": 21,
    "start_time": "2022-08-27T07:03:04.134Z"
   },
   {
    "duration": 81,
    "start_time": "2022-08-27T07:03:04.158Z"
   },
   {
    "duration": 60,
    "start_time": "2022-08-27T07:03:04.241Z"
   },
   {
    "duration": 6,
    "start_time": "2022-08-27T07:03:04.303Z"
   },
   {
    "duration": 35,
    "start_time": "2022-08-27T07:03:04.311Z"
   },
   {
    "duration": 10,
    "start_time": "2022-08-27T07:03:04.348Z"
   },
   {
    "duration": 65,
    "start_time": "2022-08-27T07:03:04.359Z"
   },
   {
    "duration": 86,
    "start_time": "2022-08-27T07:03:04.426Z"
   },
   {
    "duration": 16,
    "start_time": "2022-08-27T07:03:04.513Z"
   },
   {
    "duration": 82,
    "start_time": "2022-08-27T07:03:04.531Z"
   },
   {
    "duration": 11,
    "start_time": "2022-08-27T07:03:04.617Z"
   },
   {
    "duration": 41,
    "start_time": "2022-08-27T07:03:04.630Z"
   },
   {
    "duration": 37,
    "start_time": "2022-08-27T07:03:04.673Z"
   },
   {
    "duration": 139,
    "start_time": "2022-08-27T07:03:04.713Z"
   },
   {
    "duration": 78,
    "start_time": "2022-08-27T07:03:04.854Z"
   },
   {
    "duration": 86,
    "start_time": "2022-08-27T07:03:04.934Z"
   },
   {
    "duration": 54,
    "start_time": "2022-08-27T07:03:05.022Z"
   },
   {
    "duration": 94,
    "start_time": "2022-08-27T07:03:05.078Z"
   },
   {
    "duration": 107,
    "start_time": "2022-08-27T07:03:05.174Z"
   },
   {
    "duration": 31,
    "start_time": "2022-08-27T07:03:05.283Z"
   },
   {
    "duration": 22,
    "start_time": "2022-08-27T07:03:05.316Z"
   },
   {
    "duration": 11,
    "start_time": "2022-08-27T07:03:05.340Z"
   },
   {
    "duration": 60,
    "start_time": "2022-08-27T07:03:05.353Z"
   },
   {
    "duration": 28,
    "start_time": "2022-08-27T07:03:05.415Z"
   },
   {
    "duration": 187,
    "start_time": "2022-08-27T07:03:05.445Z"
   },
   {
    "duration": 15,
    "start_time": "2022-08-27T07:03:05.633Z"
   },
   {
    "duration": 12,
    "start_time": "2022-08-27T07:03:05.650Z"
   },
   {
    "duration": 58,
    "start_time": "2022-08-27T07:03:05.663Z"
   },
   {
    "duration": 45,
    "start_time": "2022-08-27T07:03:05.723Z"
   },
   {
    "duration": 25,
    "start_time": "2022-08-27T07:03:05.770Z"
   },
   {
    "duration": 13,
    "start_time": "2022-08-27T07:03:05.798Z"
   },
   {
    "duration": 10,
    "start_time": "2022-08-27T07:03:05.813Z"
   },
   {
    "duration": 5,
    "start_time": "2022-08-27T07:03:05.825Z"
   },
   {
    "duration": 29,
    "start_time": "2022-08-27T07:03:05.832Z"
   },
   {
    "duration": 32,
    "start_time": "2022-08-27T07:03:05.862Z"
   },
   {
    "duration": 15,
    "start_time": "2022-08-27T07:03:05.897Z"
   },
   {
    "duration": 8,
    "start_time": "2022-08-27T07:03:05.914Z"
   },
   {
    "duration": 12,
    "start_time": "2022-08-27T07:03:05.924Z"
   },
   {
    "duration": 25,
    "start_time": "2022-08-27T07:03:05.937Z"
   },
   {
    "duration": 45,
    "start_time": "2022-08-27T07:03:05.964Z"
   },
   {
    "duration": 14,
    "start_time": "2022-08-27T07:05:34.227Z"
   },
   {
    "duration": 18,
    "start_time": "2022-08-27T07:05:46.681Z"
   },
   {
    "duration": 4,
    "start_time": "2022-08-27T07:06:16.458Z"
   },
   {
    "duration": 16,
    "start_time": "2022-08-27T07:06:21.791Z"
   },
   {
    "duration": 3,
    "start_time": "2022-08-27T07:06:48.616Z"
   },
   {
    "duration": 246,
    "start_time": "2022-08-27T07:06:48.623Z"
   },
   {
    "duration": 22,
    "start_time": "2022-08-27T07:06:48.871Z"
   },
   {
    "duration": 57,
    "start_time": "2022-08-27T07:06:48.895Z"
   },
   {
    "duration": 16,
    "start_time": "2022-08-27T07:06:48.954Z"
   },
   {
    "duration": 28,
    "start_time": "2022-08-27T07:06:48.972Z"
   },
   {
    "duration": 21,
    "start_time": "2022-08-27T07:06:49.002Z"
   },
   {
    "duration": 46,
    "start_time": "2022-08-27T07:06:49.025Z"
   },
   {
    "duration": 195,
    "start_time": "2022-08-27T07:06:49.072Z"
   },
   {
    "duration": 29,
    "start_time": "2022-08-27T07:06:49.268Z"
   },
   {
    "duration": 8,
    "start_time": "2022-08-27T07:06:49.300Z"
   },
   {
    "duration": 36,
    "start_time": "2022-08-27T07:06:49.310Z"
   },
   {
    "duration": 56,
    "start_time": "2022-08-27T07:06:49.348Z"
   },
   {
    "duration": 19,
    "start_time": "2022-08-27T07:06:49.407Z"
   },
   {
    "duration": 11,
    "start_time": "2022-08-27T07:06:49.428Z"
   },
   {
    "duration": 42,
    "start_time": "2022-08-27T07:06:49.442Z"
   },
   {
    "duration": 25,
    "start_time": "2022-08-27T07:06:49.485Z"
   },
   {
    "duration": 17,
    "start_time": "2022-08-27T07:06:49.512Z"
   },
   {
    "duration": 36,
    "start_time": "2022-08-27T07:06:49.531Z"
   },
   {
    "duration": 54,
    "start_time": "2022-08-27T07:06:49.569Z"
   },
   {
    "duration": 46,
    "start_time": "2022-08-27T07:06:49.626Z"
   },
   {
    "duration": 18,
    "start_time": "2022-08-27T07:06:49.674Z"
   },
   {
    "duration": 33,
    "start_time": "2022-08-27T07:06:49.694Z"
   },
   {
    "duration": 9,
    "start_time": "2022-08-27T07:06:49.730Z"
   },
   {
    "duration": 61,
    "start_time": "2022-08-27T07:06:49.741Z"
   },
   {
    "duration": 82,
    "start_time": "2022-08-27T07:06:49.804Z"
   },
   {
    "duration": 15,
    "start_time": "2022-08-27T07:06:49.888Z"
   },
   {
    "duration": 85,
    "start_time": "2022-08-27T07:06:49.905Z"
   },
   {
    "duration": 12,
    "start_time": "2022-08-27T07:06:49.994Z"
   },
   {
    "duration": 53,
    "start_time": "2022-08-27T07:06:50.008Z"
   },
   {
    "duration": 29,
    "start_time": "2022-08-27T07:06:50.063Z"
   },
   {
    "duration": 125,
    "start_time": "2022-08-27T07:06:50.094Z"
   },
   {
    "duration": 78,
    "start_time": "2022-08-27T07:06:50.221Z"
   },
   {
    "duration": 73,
    "start_time": "2022-08-27T07:06:50.301Z"
   },
   {
    "duration": 61,
    "start_time": "2022-08-27T07:06:50.376Z"
   },
   {
    "duration": 101,
    "start_time": "2022-08-27T07:06:50.439Z"
   },
   {
    "duration": 98,
    "start_time": "2022-08-27T07:06:50.542Z"
   },
   {
    "duration": 21,
    "start_time": "2022-08-27T07:06:50.642Z"
   },
   {
    "duration": 37,
    "start_time": "2022-08-27T07:06:50.665Z"
   },
   {
    "duration": 9,
    "start_time": "2022-08-27T07:06:50.704Z"
   },
   {
    "duration": 33,
    "start_time": "2022-08-27T07:06:50.715Z"
   },
   {
    "duration": 46,
    "start_time": "2022-08-27T07:06:50.750Z"
   },
   {
    "duration": 168,
    "start_time": "2022-08-27T07:06:50.797Z"
   },
   {
    "duration": 14,
    "start_time": "2022-08-27T07:06:50.966Z"
   },
   {
    "duration": 36,
    "start_time": "2022-08-27T07:06:50.982Z"
   },
   {
    "duration": 58,
    "start_time": "2022-08-27T07:06:51.020Z"
   },
   {
    "duration": 23,
    "start_time": "2022-08-27T07:06:51.080Z"
   },
   {
    "duration": 13,
    "start_time": "2022-08-27T07:06:51.104Z"
   },
   {
    "duration": 22,
    "start_time": "2022-08-27T07:06:51.119Z"
   },
   {
    "duration": 12,
    "start_time": "2022-08-27T07:06:51.143Z"
   },
   {
    "duration": 16,
    "start_time": "2022-08-27T07:06:51.156Z"
   },
   {
    "duration": 54,
    "start_time": "2022-08-27T07:06:51.174Z"
   },
   {
    "duration": 5,
    "start_time": "2022-08-27T07:06:51.229Z"
   },
   {
    "duration": 19,
    "start_time": "2022-08-27T07:06:51.236Z"
   },
   {
    "duration": 27,
    "start_time": "2022-08-27T07:06:51.257Z"
   },
   {
    "duration": 19,
    "start_time": "2022-08-27T07:06:51.286Z"
   },
   {
    "duration": 27,
    "start_time": "2022-08-27T07:06:51.307Z"
   },
   {
    "duration": 13,
    "start_time": "2022-08-27T07:06:51.336Z"
   },
   {
    "duration": 12,
    "start_time": "2022-08-27T07:06:51.351Z"
   },
   {
    "duration": 21,
    "start_time": "2022-08-27T07:06:51.365Z"
   },
   {
    "duration": 3,
    "start_time": "2022-08-27T07:07:04.692Z"
   },
   {
    "duration": 253,
    "start_time": "2022-08-27T07:07:04.699Z"
   },
   {
    "duration": 9,
    "start_time": "2022-08-27T07:07:04.955Z"
   },
   {
    "duration": 55,
    "start_time": "2022-08-27T07:07:04.965Z"
   },
   {
    "duration": 11,
    "start_time": "2022-08-27T07:07:05.022Z"
   },
   {
    "duration": 10,
    "start_time": "2022-08-27T07:07:05.035Z"
   },
   {
    "duration": 51,
    "start_time": "2022-08-27T07:07:05.047Z"
   },
   {
    "duration": 33,
    "start_time": "2022-08-27T07:07:05.099Z"
   },
   {
    "duration": 214,
    "start_time": "2022-08-27T07:07:05.133Z"
   },
   {
    "duration": 30,
    "start_time": "2022-08-27T07:07:05.349Z"
   },
   {
    "duration": 9,
    "start_time": "2022-08-27T07:07:05.382Z"
   },
   {
    "duration": 29,
    "start_time": "2022-08-27T07:07:05.393Z"
   },
   {
    "duration": 40,
    "start_time": "2022-08-27T07:07:05.423Z"
   },
   {
    "duration": 17,
    "start_time": "2022-08-27T07:07:05.465Z"
   },
   {
    "duration": 9,
    "start_time": "2022-08-27T07:07:05.484Z"
   },
   {
    "duration": 19,
    "start_time": "2022-08-27T07:07:05.495Z"
   },
   {
    "duration": 34,
    "start_time": "2022-08-27T07:07:05.516Z"
   },
   {
    "duration": 34,
    "start_time": "2022-08-27T07:07:05.552Z"
   },
   {
    "duration": 33,
    "start_time": "2022-08-27T07:07:05.589Z"
   },
   {
    "duration": 50,
    "start_time": "2022-08-27T07:07:05.625Z"
   },
   {
    "duration": 40,
    "start_time": "2022-08-27T07:07:05.677Z"
   },
   {
    "duration": 6,
    "start_time": "2022-08-27T07:07:05.718Z"
   },
   {
    "duration": 57,
    "start_time": "2022-08-27T07:07:05.725Z"
   },
   {
    "duration": 10,
    "start_time": "2022-08-27T07:07:05.783Z"
   },
   {
    "duration": 49,
    "start_time": "2022-08-27T07:07:05.794Z"
   },
   {
    "duration": 92,
    "start_time": "2022-08-27T07:07:05.845Z"
   },
   {
    "duration": 18,
    "start_time": "2022-08-27T07:07:05.938Z"
   },
   {
    "duration": 81,
    "start_time": "2022-08-27T07:07:05.958Z"
   },
   {
    "duration": 11,
    "start_time": "2022-08-27T07:07:06.043Z"
   },
   {
    "duration": 62,
    "start_time": "2022-08-27T07:07:06.056Z"
   },
   {
    "duration": 20,
    "start_time": "2022-08-27T07:07:06.120Z"
   },
   {
    "duration": 128,
    "start_time": "2022-08-27T07:07:06.142Z"
   },
   {
    "duration": 73,
    "start_time": "2022-08-27T07:07:06.272Z"
   },
   {
    "duration": 81,
    "start_time": "2022-08-27T07:07:06.347Z"
   },
   {
    "duration": 66,
    "start_time": "2022-08-27T07:07:06.431Z"
   },
   {
    "duration": 78,
    "start_time": "2022-08-27T07:07:06.499Z"
   },
   {
    "duration": 99,
    "start_time": "2022-08-27T07:07:06.578Z"
   },
   {
    "duration": 33,
    "start_time": "2022-08-27T07:07:06.679Z"
   },
   {
    "duration": 18,
    "start_time": "2022-08-27T07:07:06.714Z"
   },
   {
    "duration": 8,
    "start_time": "2022-08-27T07:07:06.734Z"
   },
   {
    "duration": 58,
    "start_time": "2022-08-27T07:07:06.744Z"
   },
   {
    "duration": 30,
    "start_time": "2022-08-27T07:07:06.804Z"
   },
   {
    "duration": 179,
    "start_time": "2022-08-27T07:07:06.835Z"
   },
   {
    "duration": 13,
    "start_time": "2022-08-27T07:07:07.016Z"
   },
   {
    "duration": 14,
    "start_time": "2022-08-27T07:07:07.031Z"
   },
   {
    "duration": 53,
    "start_time": "2022-08-27T07:07:07.047Z"
   },
   {
    "duration": 18,
    "start_time": "2022-08-27T07:07:07.102Z"
   },
   {
    "duration": 12,
    "start_time": "2022-08-27T07:07:07.122Z"
   },
   {
    "duration": 10,
    "start_time": "2022-08-27T07:07:07.136Z"
   },
   {
    "duration": 11,
    "start_time": "2022-08-27T07:07:07.150Z"
   },
   {
    "duration": 3,
    "start_time": "2022-08-27T07:07:07.192Z"
   },
   {
    "duration": 28,
    "start_time": "2022-08-27T07:07:07.197Z"
   },
   {
    "duration": 4,
    "start_time": "2022-08-27T07:07:07.227Z"
   },
   {
    "duration": 15,
    "start_time": "2022-08-27T07:07:07.233Z"
   },
   {
    "duration": 8,
    "start_time": "2022-08-27T07:07:07.250Z"
   },
   {
    "duration": 39,
    "start_time": "2022-08-27T07:07:07.260Z"
   },
   {
    "duration": 11,
    "start_time": "2022-08-27T07:07:07.301Z"
   },
   {
    "duration": 12,
    "start_time": "2022-08-27T07:07:07.313Z"
   },
   {
    "duration": 4,
    "start_time": "2022-08-27T07:07:07.327Z"
   },
   {
    "duration": 14,
    "start_time": "2022-08-27T07:07:07.332Z"
   },
   {
    "duration": 2,
    "start_time": "2022-08-27T07:07:24.013Z"
   },
   {
    "duration": 290,
    "start_time": "2022-08-27T07:07:24.019Z"
   },
   {
    "duration": 10,
    "start_time": "2022-08-27T07:07:24.311Z"
   },
   {
    "duration": 69,
    "start_time": "2022-08-27T07:07:24.323Z"
   },
   {
    "duration": 12,
    "start_time": "2022-08-27T07:07:24.394Z"
   },
   {
    "duration": 21,
    "start_time": "2022-08-27T07:07:24.408Z"
   },
   {
    "duration": 21,
    "start_time": "2022-08-27T07:07:24.431Z"
   },
   {
    "duration": 50,
    "start_time": "2022-08-27T07:07:24.453Z"
   },
   {
    "duration": 209,
    "start_time": "2022-08-27T07:07:24.505Z"
   },
   {
    "duration": 30,
    "start_time": "2022-08-27T07:07:24.715Z"
   },
   {
    "duration": 7,
    "start_time": "2022-08-27T07:07:24.748Z"
   },
   {
    "duration": 13,
    "start_time": "2022-08-27T07:07:24.757Z"
   },
   {
    "duration": 38,
    "start_time": "2022-08-27T07:07:24.771Z"
   },
   {
    "duration": 16,
    "start_time": "2022-08-27T07:07:24.811Z"
   },
   {
    "duration": 9,
    "start_time": "2022-08-27T07:07:24.829Z"
   },
   {
    "duration": 16,
    "start_time": "2022-08-27T07:07:24.840Z"
   },
   {
    "duration": 38,
    "start_time": "2022-08-27T07:07:24.858Z"
   },
   {
    "duration": 18,
    "start_time": "2022-08-27T07:07:24.899Z"
   },
   {
    "duration": 22,
    "start_time": "2022-08-27T07:07:24.920Z"
   },
   {
    "duration": 97,
    "start_time": "2022-08-27T07:07:24.944Z"
   },
   {
    "duration": 50,
    "start_time": "2022-08-27T07:07:25.043Z"
   },
   {
    "duration": 6,
    "start_time": "2022-08-27T07:07:25.095Z"
   },
   {
    "duration": 35,
    "start_time": "2022-08-27T07:07:25.103Z"
   },
   {
    "duration": 10,
    "start_time": "2022-08-27T07:07:25.140Z"
   },
   {
    "duration": 59,
    "start_time": "2022-08-27T07:07:25.152Z"
   },
   {
    "duration": 92,
    "start_time": "2022-08-27T07:07:25.212Z"
   },
   {
    "duration": 17,
    "start_time": "2022-08-27T07:07:25.306Z"
   },
   {
    "duration": 108,
    "start_time": "2022-08-27T07:07:25.325Z"
   },
   {
    "duration": 11,
    "start_time": "2022-08-27T07:07:25.440Z"
   },
   {
    "duration": 56,
    "start_time": "2022-08-27T07:07:25.454Z"
   },
   {
    "duration": 28,
    "start_time": "2022-08-27T07:07:25.512Z"
   },
   {
    "duration": 136,
    "start_time": "2022-08-27T07:07:25.542Z"
   },
   {
    "duration": 74,
    "start_time": "2022-08-27T07:07:25.680Z"
   },
   {
    "duration": 92,
    "start_time": "2022-08-27T07:07:25.755Z"
   },
   {
    "duration": 51,
    "start_time": "2022-08-27T07:07:25.849Z"
   },
   {
    "duration": 101,
    "start_time": "2022-08-27T07:07:25.902Z"
   },
   {
    "duration": 96,
    "start_time": "2022-08-27T07:07:26.004Z"
   },
   {
    "duration": 21,
    "start_time": "2022-08-27T07:07:26.102Z"
   },
   {
    "duration": 17,
    "start_time": "2022-08-27T07:07:26.125Z"
   },
   {
    "duration": 8,
    "start_time": "2022-08-27T07:07:26.144Z"
   },
   {
    "duration": 65,
    "start_time": "2022-08-27T07:07:26.154Z"
   },
   {
    "duration": 27,
    "start_time": "2022-08-27T07:07:26.221Z"
   },
   {
    "duration": 186,
    "start_time": "2022-08-27T07:07:26.249Z"
   },
   {
    "duration": 15,
    "start_time": "2022-08-27T07:07:26.436Z"
   },
   {
    "duration": 13,
    "start_time": "2022-08-27T07:07:26.453Z"
   },
   {
    "duration": 55,
    "start_time": "2022-08-27T07:07:26.468Z"
   },
   {
    "duration": 18,
    "start_time": "2022-08-27T07:07:26.525Z"
   },
   {
    "duration": 11,
    "start_time": "2022-08-27T07:07:26.545Z"
   },
   {
    "duration": 36,
    "start_time": "2022-08-27T07:07:26.558Z"
   },
   {
    "duration": 19,
    "start_time": "2022-08-27T07:07:26.596Z"
   },
   {
    "duration": 9,
    "start_time": "2022-08-27T07:07:26.617Z"
   },
   {
    "duration": 38,
    "start_time": "2022-08-27T07:07:26.628Z"
   },
   {
    "duration": 4,
    "start_time": "2022-08-27T07:07:26.669Z"
   },
   {
    "duration": 22,
    "start_time": "2022-08-27T07:07:26.675Z"
   },
   {
    "duration": 7,
    "start_time": "2022-08-27T07:07:26.700Z"
   },
   {
    "duration": 11,
    "start_time": "2022-08-27T07:07:26.710Z"
   },
   {
    "duration": 6,
    "start_time": "2022-08-27T07:07:26.723Z"
   },
   {
    "duration": 13,
    "start_time": "2022-08-27T07:07:26.731Z"
   },
   {
    "duration": 6,
    "start_time": "2022-08-27T07:07:26.746Z"
   },
   {
    "duration": 46,
    "start_time": "2022-08-27T07:07:26.754Z"
   },
   {
    "duration": 16,
    "start_time": "2022-08-27T07:10:07.906Z"
   },
   {
    "duration": 21,
    "start_time": "2022-08-27T07:10:51.869Z"
   },
   {
    "duration": 964,
    "start_time": "2022-08-27T07:34:09.945Z"
   },
   {
    "duration": 89,
    "start_time": "2022-08-27T07:37:12.891Z"
   },
   {
    "duration": 13,
    "start_time": "2022-08-27T07:39:36.456Z"
   },
   {
    "duration": 14,
    "start_time": "2022-08-27T07:39:43.479Z"
   },
   {
    "duration": 13,
    "start_time": "2022-08-27T07:40:11.632Z"
   },
   {
    "duration": 18,
    "start_time": "2022-08-27T07:40:16.883Z"
   },
   {
    "duration": 1809,
    "start_time": "2022-08-27T07:41:04.189Z"
   },
   {
    "duration": 0,
    "start_time": "2022-08-27T07:41:06.000Z"
   },
   {
    "duration": 3,
    "start_time": "2022-08-27T07:41:12.743Z"
   },
   {
    "duration": 269,
    "start_time": "2022-08-27T07:41:12.750Z"
   },
   {
    "duration": 10,
    "start_time": "2022-08-27T07:41:13.021Z"
   },
   {
    "duration": 67,
    "start_time": "2022-08-27T07:41:13.033Z"
   },
   {
    "duration": 12,
    "start_time": "2022-08-27T07:41:13.103Z"
   },
   {
    "duration": 11,
    "start_time": "2022-08-27T07:41:13.117Z"
   },
   {
    "duration": 13,
    "start_time": "2022-08-27T07:41:13.130Z"
   },
   {
    "duration": 65,
    "start_time": "2022-08-27T07:41:13.145Z"
   },
   {
    "duration": 205,
    "start_time": "2022-08-27T07:41:13.212Z"
   },
   {
    "duration": 28,
    "start_time": "2022-08-27T07:41:13.419Z"
   },
   {
    "duration": 10,
    "start_time": "2022-08-27T07:41:13.450Z"
   },
   {
    "duration": 17,
    "start_time": "2022-08-27T07:41:13.462Z"
   },
   {
    "duration": 27,
    "start_time": "2022-08-27T07:41:13.481Z"
   },
   {
    "duration": 18,
    "start_time": "2022-08-27T07:41:13.510Z"
   },
   {
    "duration": 8,
    "start_time": "2022-08-27T07:41:13.530Z"
   },
   {
    "duration": 11,
    "start_time": "2022-08-27T07:41:13.540Z"
   },
   {
    "duration": 13,
    "start_time": "2022-08-27T07:41:13.553Z"
   },
   {
    "duration": 31,
    "start_time": "2022-08-27T07:41:13.569Z"
   },
   {
    "duration": 15,
    "start_time": "2022-08-27T07:41:13.601Z"
   },
   {
    "duration": 47,
    "start_time": "2022-08-27T07:41:13.618Z"
   },
   {
    "duration": 60,
    "start_time": "2022-08-27T07:41:13.667Z"
   },
   {
    "duration": 5,
    "start_time": "2022-08-27T07:41:13.729Z"
   },
   {
    "duration": 31,
    "start_time": "2022-08-27T07:41:13.736Z"
   },
   {
    "duration": 30,
    "start_time": "2022-08-27T07:41:13.769Z"
   },
   {
    "duration": 37,
    "start_time": "2022-08-27T07:41:13.801Z"
   },
   {
    "duration": 84,
    "start_time": "2022-08-27T07:41:13.840Z"
   },
   {
    "duration": 16,
    "start_time": "2022-08-27T07:41:13.925Z"
   },
   {
    "duration": 86,
    "start_time": "2022-08-27T07:41:13.942Z"
   },
   {
    "duration": 10,
    "start_time": "2022-08-27T07:41:14.032Z"
   },
   {
    "duration": 53,
    "start_time": "2022-08-27T07:41:14.044Z"
   },
   {
    "duration": 23,
    "start_time": "2022-08-27T07:41:14.099Z"
   },
   {
    "duration": 135,
    "start_time": "2022-08-27T07:41:14.124Z"
   },
   {
    "duration": 73,
    "start_time": "2022-08-27T07:41:14.261Z"
   },
   {
    "duration": 80,
    "start_time": "2022-08-27T07:41:14.336Z"
   },
   {
    "duration": 45,
    "start_time": "2022-08-27T07:41:14.418Z"
   },
   {
    "duration": 97,
    "start_time": "2022-08-27T07:41:14.465Z"
   },
   {
    "duration": 96,
    "start_time": "2022-08-27T07:41:14.563Z"
   },
   {
    "duration": 32,
    "start_time": "2022-08-27T07:41:14.661Z"
   },
   {
    "duration": 20,
    "start_time": "2022-08-27T07:41:14.694Z"
   },
   {
    "duration": 8,
    "start_time": "2022-08-27T07:41:14.716Z"
   },
   {
    "duration": 27,
    "start_time": "2022-08-27T07:41:14.725Z"
   },
   {
    "duration": 53,
    "start_time": "2022-08-27T07:41:14.754Z"
   },
   {
    "duration": 171,
    "start_time": "2022-08-27T07:41:14.808Z"
   },
   {
    "duration": 15,
    "start_time": "2022-08-27T07:41:14.981Z"
   },
   {
    "duration": 16,
    "start_time": "2022-08-27T07:41:14.998Z"
   },
   {
    "duration": 49,
    "start_time": "2022-08-27T07:41:15.015Z"
   },
   {
    "duration": 25,
    "start_time": "2022-08-27T07:41:15.066Z"
   },
   {
    "duration": 12,
    "start_time": "2022-08-27T07:41:15.093Z"
   },
   {
    "duration": 14,
    "start_time": "2022-08-27T07:41:15.106Z"
   },
   {
    "duration": 8,
    "start_time": "2022-08-27T07:41:15.122Z"
   },
   {
    "duration": 8,
    "start_time": "2022-08-27T07:41:15.132Z"
   },
   {
    "duration": 50,
    "start_time": "2022-08-27T07:41:15.142Z"
   },
   {
    "duration": 8,
    "start_time": "2022-08-27T07:41:15.195Z"
   },
   {
    "duration": 16,
    "start_time": "2022-08-27T07:41:15.206Z"
   },
   {
    "duration": 10,
    "start_time": "2022-08-27T07:41:15.225Z"
   },
   {
    "duration": 13,
    "start_time": "2022-08-27T07:41:15.237Z"
   },
   {
    "duration": 41,
    "start_time": "2022-08-27T07:41:15.252Z"
   },
   {
    "duration": 9,
    "start_time": "2022-08-27T07:41:15.295Z"
   },
   {
    "duration": 16,
    "start_time": "2022-08-27T07:41:15.306Z"
   },
   {
    "duration": 16,
    "start_time": "2022-08-27T07:41:15.324Z"
   },
   {
    "duration": 0,
    "start_time": "2022-08-27T07:41:15.342Z"
   },
   {
    "duration": 0,
    "start_time": "2022-08-27T07:41:15.344Z"
   },
   {
    "duration": 0,
    "start_time": "2022-08-27T07:41:15.346Z"
   },
   {
    "duration": 0,
    "start_time": "2022-08-27T07:41:15.347Z"
   },
   {
    "duration": 64,
    "start_time": "2022-08-27T07:42:02.755Z"
   },
   {
    "duration": 12,
    "start_time": "2022-08-27T07:42:04.183Z"
   },
   {
    "duration": 3,
    "start_time": "2022-08-27T07:42:08.215Z"
   },
   {
    "duration": 249,
    "start_time": "2022-08-27T07:42:08.222Z"
   },
   {
    "duration": 27,
    "start_time": "2022-08-27T07:42:08.473Z"
   },
   {
    "duration": 40,
    "start_time": "2022-08-27T07:42:08.501Z"
   },
   {
    "duration": 10,
    "start_time": "2022-08-27T07:42:08.543Z"
   },
   {
    "duration": 38,
    "start_time": "2022-08-27T07:42:08.555Z"
   },
   {
    "duration": 14,
    "start_time": "2022-08-27T07:42:08.595Z"
   },
   {
    "duration": 31,
    "start_time": "2022-08-27T07:42:08.611Z"
   },
   {
    "duration": 208,
    "start_time": "2022-08-27T07:42:08.644Z"
   },
   {
    "duration": 27,
    "start_time": "2022-08-27T07:42:08.854Z"
   },
   {
    "duration": 9,
    "start_time": "2022-08-27T07:42:08.883Z"
   },
   {
    "duration": 12,
    "start_time": "2022-08-27T07:42:08.894Z"
   },
   {
    "duration": 26,
    "start_time": "2022-08-27T07:42:08.907Z"
   },
   {
    "duration": 17,
    "start_time": "2022-08-27T07:42:08.935Z"
   },
   {
    "duration": 8,
    "start_time": "2022-08-27T07:42:08.956Z"
   },
   {
    "duration": 35,
    "start_time": "2022-08-27T07:42:08.965Z"
   },
   {
    "duration": 15,
    "start_time": "2022-08-27T07:42:09.002Z"
   },
   {
    "duration": 14,
    "start_time": "2022-08-27T07:42:09.019Z"
   },
   {
    "duration": 14,
    "start_time": "2022-08-27T07:42:09.035Z"
   },
   {
    "duration": 69,
    "start_time": "2022-08-27T07:42:09.051Z"
   },
   {
    "duration": 39,
    "start_time": "2022-08-27T07:42:09.122Z"
   },
   {
    "duration": 5,
    "start_time": "2022-08-27T07:42:09.163Z"
   },
   {
    "duration": 49,
    "start_time": "2022-08-27T07:42:09.170Z"
   },
   {
    "duration": 8,
    "start_time": "2022-08-27T07:42:09.221Z"
   },
   {
    "duration": 35,
    "start_time": "2022-08-27T07:42:09.231Z"
   },
   {
    "duration": 91,
    "start_time": "2022-08-27T07:42:09.268Z"
   },
   {
    "duration": 32,
    "start_time": "2022-08-27T07:42:09.361Z"
   },
   {
    "duration": 83,
    "start_time": "2022-08-27T07:42:09.395Z"
   },
   {
    "duration": 10,
    "start_time": "2022-08-27T07:42:09.491Z"
   },
   {
    "duration": 40,
    "start_time": "2022-08-27T07:42:09.503Z"
   },
   {
    "duration": 20,
    "start_time": "2022-08-27T07:42:09.545Z"
   },
   {
    "duration": 141,
    "start_time": "2022-08-27T07:42:09.567Z"
   },
   {
    "duration": 68,
    "start_time": "2022-08-27T07:42:09.710Z"
   },
   {
    "duration": 71,
    "start_time": "2022-08-27T07:42:09.791Z"
   },
   {
    "duration": 59,
    "start_time": "2022-08-27T07:42:09.864Z"
   },
   {
    "duration": 102,
    "start_time": "2022-08-27T07:42:09.925Z"
   },
   {
    "duration": 103,
    "start_time": "2022-08-27T07:42:10.029Z"
   },
   {
    "duration": 24,
    "start_time": "2022-08-27T07:42:10.134Z"
   },
   {
    "duration": 34,
    "start_time": "2022-08-27T07:42:10.159Z"
   },
   {
    "duration": 9,
    "start_time": "2022-08-27T07:42:10.194Z"
   },
   {
    "duration": 38,
    "start_time": "2022-08-27T07:42:10.205Z"
   },
   {
    "duration": 70,
    "start_time": "2022-08-27T07:42:10.248Z"
   },
   {
    "duration": 186,
    "start_time": "2022-08-27T07:42:10.320Z"
   },
   {
    "duration": 14,
    "start_time": "2022-08-27T07:42:10.507Z"
   },
   {
    "duration": 13,
    "start_time": "2022-08-27T07:42:10.523Z"
   },
   {
    "duration": 59,
    "start_time": "2022-08-27T07:42:10.537Z"
   },
   {
    "duration": 19,
    "start_time": "2022-08-27T07:42:10.598Z"
   },
   {
    "duration": 12,
    "start_time": "2022-08-27T07:42:10.619Z"
   },
   {
    "duration": 10,
    "start_time": "2022-08-27T07:42:10.633Z"
   },
   {
    "duration": 17,
    "start_time": "2022-08-27T07:42:10.645Z"
   },
   {
    "duration": 4,
    "start_time": "2022-08-27T07:42:10.692Z"
   },
   {
    "duration": 31,
    "start_time": "2022-08-27T07:42:10.698Z"
   },
   {
    "duration": 5,
    "start_time": "2022-08-27T07:42:10.731Z"
   },
   {
    "duration": 22,
    "start_time": "2022-08-27T07:42:10.737Z"
   },
   {
    "duration": 12,
    "start_time": "2022-08-27T07:42:10.760Z"
   },
   {
    "duration": 27,
    "start_time": "2022-08-27T07:42:10.774Z"
   },
   {
    "duration": 14,
    "start_time": "2022-08-27T07:42:10.803Z"
   },
   {
    "duration": 86,
    "start_time": "2022-08-27T07:42:10.819Z"
   },
   {
    "duration": 13,
    "start_time": "2022-08-27T07:42:10.906Z"
   },
   {
    "duration": 20,
    "start_time": "2022-08-27T07:42:10.921Z"
   },
   {
    "duration": 362,
    "start_time": "2022-08-27T07:42:10.943Z"
   },
   {
    "duration": 0,
    "start_time": "2022-08-27T07:42:11.306Z"
   },
   {
    "duration": 0,
    "start_time": "2022-08-27T07:42:11.307Z"
   },
   {
    "duration": 0,
    "start_time": "2022-08-27T07:42:11.308Z"
   },
   {
    "duration": 7,
    "start_time": "2022-08-27T07:42:36.003Z"
   },
   {
    "duration": 13,
    "start_time": "2022-08-27T07:42:38.580Z"
   },
   {
    "duration": 288,
    "start_time": "2022-08-27T07:42:45.627Z"
   },
   {
    "duration": 297,
    "start_time": "2022-08-27T07:42:58.349Z"
   },
   {
    "duration": 16,
    "start_time": "2022-08-27T07:44:30.412Z"
   },
   {
    "duration": 16,
    "start_time": "2022-08-27T07:44:59.696Z"
   },
   {
    "duration": 11,
    "start_time": "2022-08-27T07:59:58.352Z"
   },
   {
    "duration": 5,
    "start_time": "2022-08-27T08:00:20.523Z"
   },
   {
    "duration": 7,
    "start_time": "2022-08-27T08:00:22.794Z"
   },
   {
    "duration": 12,
    "start_time": "2022-08-27T08:00:23.813Z"
   },
   {
    "duration": 5,
    "start_time": "2022-08-27T08:00:30.359Z"
   },
   {
    "duration": 6,
    "start_time": "2022-08-27T08:00:31.204Z"
   },
   {
    "duration": 18,
    "start_time": "2022-08-27T08:00:31.884Z"
   },
   {
    "duration": 15,
    "start_time": "2022-08-27T08:00:33.289Z"
   },
   {
    "duration": 20,
    "start_time": "2022-08-27T08:00:36.452Z"
   },
   {
    "duration": 296,
    "start_time": "2022-08-27T08:00:44.503Z"
   },
   {
    "duration": 324,
    "start_time": "2022-08-27T08:00:48.507Z"
   },
   {
    "duration": 20,
    "start_time": "2022-08-27T08:01:10.180Z"
   },
   {
    "duration": 5,
    "start_time": "2022-08-27T08:02:42.656Z"
   },
   {
    "duration": 7,
    "start_time": "2022-08-27T08:09:18.366Z"
   },
   {
    "duration": 8,
    "start_time": "2022-08-27T08:09:19.748Z"
   },
   {
    "duration": 14,
    "start_time": "2022-08-27T08:09:20.445Z"
   },
   {
    "duration": 15,
    "start_time": "2022-08-27T08:10:04.331Z"
   },
   {
    "duration": 15,
    "start_time": "2022-08-27T08:11:31.717Z"
   },
   {
    "duration": 6,
    "start_time": "2022-08-27T08:14:49.031Z"
   },
   {
    "duration": 7,
    "start_time": "2022-08-27T08:14:50.257Z"
   },
   {
    "duration": 12,
    "start_time": "2022-08-27T08:14:51.010Z"
   },
   {
    "duration": 16,
    "start_time": "2022-08-27T08:14:54.179Z"
   },
   {
    "duration": 14,
    "start_time": "2022-08-27T08:14:56.522Z"
   },
   {
    "duration": 16,
    "start_time": "2022-08-27T08:15:04.362Z"
   },
   {
    "duration": 18,
    "start_time": "2022-08-27T08:15:25.301Z"
   },
   {
    "duration": 15,
    "start_time": "2022-08-27T08:15:43.351Z"
   },
   {
    "duration": 40,
    "start_time": "2022-08-27T08:15:59.360Z"
   },
   {
    "duration": 12,
    "start_time": "2022-08-27T08:17:10.846Z"
   },
   {
    "duration": 12,
    "start_time": "2022-08-27T08:17:22.977Z"
   },
   {
    "duration": 18,
    "start_time": "2022-08-27T08:17:53.058Z"
   },
   {
    "duration": 294,
    "start_time": "2022-08-27T08:18:40.161Z"
   },
   {
    "duration": 308,
    "start_time": "2022-08-27T08:18:47.979Z"
   },
   {
    "duration": 334,
    "start_time": "2022-08-27T08:53:49.819Z"
   },
   {
    "duration": 213,
    "start_time": "2022-08-27T08:54:22.248Z"
   },
   {
    "duration": 207,
    "start_time": "2022-08-27T08:54:46.105Z"
   },
   {
    "duration": 35,
    "start_time": "2022-08-27T08:55:02.057Z"
   },
   {
    "duration": 6,
    "start_time": "2022-08-27T08:55:20.536Z"
   },
   {
    "duration": 442,
    "start_time": "2022-08-27T08:55:35.253Z"
   },
   {
    "duration": 318,
    "start_time": "2022-08-27T08:56:02.485Z"
   },
   {
    "duration": 215,
    "start_time": "2022-08-27T08:57:11.391Z"
   },
   {
    "duration": 14,
    "start_time": "2022-08-27T08:59:12.800Z"
   },
   {
    "duration": 15,
    "start_time": "2022-08-27T08:59:32.093Z"
   },
   {
    "duration": 18,
    "start_time": "2022-08-27T08:59:36.885Z"
   },
   {
    "duration": 6,
    "start_time": "2022-08-27T09:01:08.063Z"
   },
   {
    "duration": 13,
    "start_time": "2022-08-27T09:01:09.075Z"
   },
   {
    "duration": 16,
    "start_time": "2022-08-27T09:01:10.548Z"
   },
   {
    "duration": 18,
    "start_time": "2022-08-27T09:01:12.752Z"
   },
   {
    "duration": 3,
    "start_time": "2022-08-27T09:01:22.917Z"
   },
   {
    "duration": 291,
    "start_time": "2022-08-27T09:01:22.963Z"
   },
   {
    "duration": 11,
    "start_time": "2022-08-27T09:01:23.256Z"
   },
   {
    "duration": 58,
    "start_time": "2022-08-27T09:01:23.270Z"
   },
   {
    "duration": 12,
    "start_time": "2022-08-27T09:01:23.330Z"
   },
   {
    "duration": 11,
    "start_time": "2022-08-27T09:01:23.344Z"
   },
   {
    "duration": 15,
    "start_time": "2022-08-27T09:01:23.393Z"
   },
   {
    "duration": 30,
    "start_time": "2022-08-27T09:01:23.410Z"
   },
   {
    "duration": 239,
    "start_time": "2022-08-27T09:01:23.443Z"
   },
   {
    "duration": 27,
    "start_time": "2022-08-27T09:01:23.684Z"
   },
   {
    "duration": 8,
    "start_time": "2022-08-27T09:01:23.714Z"
   },
   {
    "duration": 16,
    "start_time": "2022-08-27T09:01:23.724Z"
   },
   {
    "duration": 23,
    "start_time": "2022-08-27T09:01:23.742Z"
   },
   {
    "duration": 25,
    "start_time": "2022-08-27T09:01:23.767Z"
   },
   {
    "duration": 9,
    "start_time": "2022-08-27T09:01:23.794Z"
   },
   {
    "duration": 18,
    "start_time": "2022-08-27T09:01:23.806Z"
   },
   {
    "duration": 18,
    "start_time": "2022-08-27T09:01:23.826Z"
   },
   {
    "duration": 18,
    "start_time": "2022-08-27T09:01:23.847Z"
   },
   {
    "duration": 42,
    "start_time": "2022-08-27T09:01:23.867Z"
   },
   {
    "duration": 89,
    "start_time": "2022-08-27T09:01:23.910Z"
   },
   {
    "duration": 53,
    "start_time": "2022-08-27T09:01:24.001Z"
   },
   {
    "duration": 6,
    "start_time": "2022-08-27T09:01:24.056Z"
   },
   {
    "duration": 50,
    "start_time": "2022-08-27T09:01:24.064Z"
   },
   {
    "duration": 11,
    "start_time": "2022-08-27T09:01:24.117Z"
   },
   {
    "duration": 38,
    "start_time": "2022-08-27T09:01:24.132Z"
   },
   {
    "duration": 89,
    "start_time": "2022-08-27T09:01:24.172Z"
   },
   {
    "duration": 30,
    "start_time": "2022-08-27T09:01:24.264Z"
   },
   {
    "duration": 65,
    "start_time": "2022-08-27T09:01:24.296Z"
   },
   {
    "duration": 29,
    "start_time": "2022-08-27T09:01:24.365Z"
   },
   {
    "duration": 41,
    "start_time": "2022-08-27T09:01:24.396Z"
   },
   {
    "duration": 29,
    "start_time": "2022-08-27T09:01:24.439Z"
   },
   {
    "duration": 133,
    "start_time": "2022-08-27T09:01:24.491Z"
   },
   {
    "duration": 122,
    "start_time": "2022-08-27T09:01:24.626Z"
   },
   {
    "duration": 89,
    "start_time": "2022-08-27T09:01:24.751Z"
   },
   {
    "duration": 54,
    "start_time": "2022-08-27T09:01:24.842Z"
   },
   {
    "duration": 77,
    "start_time": "2022-08-27T09:01:24.897Z"
   },
   {
    "duration": 117,
    "start_time": "2022-08-27T09:01:24.976Z"
   },
   {
    "duration": 23,
    "start_time": "2022-08-27T09:01:25.095Z"
   },
   {
    "duration": 19,
    "start_time": "2022-08-27T09:01:25.120Z"
   },
   {
    "duration": 10,
    "start_time": "2022-08-27T09:01:25.140Z"
   },
   {
    "duration": 60,
    "start_time": "2022-08-27T09:01:25.152Z"
   },
   {
    "duration": 42,
    "start_time": "2022-08-27T09:01:25.215Z"
   },
   {
    "duration": 185,
    "start_time": "2022-08-27T09:01:25.259Z"
   },
   {
    "duration": 14,
    "start_time": "2022-08-27T09:01:25.447Z"
   },
   {
    "duration": 11,
    "start_time": "2022-08-27T09:01:25.463Z"
   },
   {
    "duration": 44,
    "start_time": "2022-08-27T09:01:25.492Z"
   },
   {
    "duration": 20,
    "start_time": "2022-08-27T09:01:25.538Z"
   },
   {
    "duration": 42,
    "start_time": "2022-08-27T09:01:25.560Z"
   },
   {
    "duration": 15,
    "start_time": "2022-08-27T09:01:25.604Z"
   },
   {
    "duration": 15,
    "start_time": "2022-08-27T09:01:25.622Z"
   },
   {
    "duration": 7,
    "start_time": "2022-08-27T09:01:25.639Z"
   },
   {
    "duration": 44,
    "start_time": "2022-08-27T09:01:25.648Z"
   },
   {
    "duration": 5,
    "start_time": "2022-08-27T09:01:25.694Z"
   },
   {
    "duration": 19,
    "start_time": "2022-08-27T09:01:25.701Z"
   },
   {
    "duration": 11,
    "start_time": "2022-08-27T09:01:25.722Z"
   },
   {
    "duration": 16,
    "start_time": "2022-08-27T09:01:25.735Z"
   },
   {
    "duration": 41,
    "start_time": "2022-08-27T09:01:25.753Z"
   },
   {
    "duration": 9,
    "start_time": "2022-08-27T09:01:25.796Z"
   },
   {
    "duration": 7,
    "start_time": "2022-08-27T09:01:25.807Z"
   },
   {
    "duration": 13,
    "start_time": "2022-08-27T09:01:25.815Z"
   },
   {
    "duration": 23,
    "start_time": "2022-08-27T09:01:25.830Z"
   },
   {
    "duration": 37,
    "start_time": "2022-08-27T09:01:25.855Z"
   },
   {
    "duration": 18,
    "start_time": "2022-08-27T09:01:25.894Z"
   },
   {
    "duration": 269,
    "start_time": "2022-08-27T09:01:25.914Z"
   },
   {
    "duration": 7,
    "start_time": "2022-08-27T09:01:26.184Z"
   },
   {
    "duration": 322,
    "start_time": "2022-08-27T09:01:26.195Z"
   },
   {
    "duration": 219,
    "start_time": "2022-08-27T09:01:26.519Z"
   },
   {
    "duration": 100,
    "start_time": "2022-08-27T09:01:47.723Z"
   },
   {
    "duration": 92,
    "start_time": "2022-08-27T09:02:38.368Z"
   },
   {
    "duration": 9,
    "start_time": "2022-08-27T09:02:48.376Z"
   },
   {
    "duration": 105,
    "start_time": "2022-08-27T09:03:02.288Z"
   },
   {
    "duration": 97,
    "start_time": "2022-08-27T09:04:03.077Z"
   },
   {
    "duration": 225,
    "start_time": "2022-08-27T09:08:55.611Z"
   },
   {
    "duration": 230,
    "start_time": "2022-08-27T09:09:03.667Z"
   },
   {
    "duration": 3,
    "start_time": "2022-08-27T09:09:51.069Z"
   },
   {
    "duration": 3,
    "start_time": "2022-08-27T09:43:34.576Z"
   },
   {
    "duration": 5,
    "start_time": "2022-08-27T10:04:43.271Z"
   },
   {
    "duration": 88,
    "start_time": "2022-08-27T10:07:10.338Z"
   },
   {
    "duration": 89,
    "start_time": "2022-08-27T10:07:21.506Z"
   },
   {
    "duration": 104,
    "start_time": "2022-08-27T10:07:31.452Z"
   },
   {
    "duration": 85,
    "start_time": "2022-08-27T10:07:40.375Z"
   },
   {
    "duration": 22,
    "start_time": "2022-08-27T10:07:47.990Z"
   },
   {
    "duration": 1258,
    "start_time": "2022-08-27T10:08:28.894Z"
   },
   {
    "duration": 6,
    "start_time": "2022-08-27T10:08:56.056Z"
   },
   {
    "duration": 9,
    "start_time": "2022-08-27T10:09:04.733Z"
   },
   {
    "duration": 7,
    "start_time": "2022-08-27T10:09:16.759Z"
   },
   {
    "duration": 10,
    "start_time": "2022-08-27T10:09:17.916Z"
   },
   {
    "duration": 7,
    "start_time": "2022-08-27T10:09:47.332Z"
   },
   {
    "duration": 10,
    "start_time": "2022-08-27T10:09:48.539Z"
   },
   {
    "duration": 6,
    "start_time": "2022-08-27T10:11:13.340Z"
   },
   {
    "duration": 10,
    "start_time": "2022-08-27T10:11:17.258Z"
   },
   {
    "duration": 6,
    "start_time": "2022-08-27T10:11:31.688Z"
   },
   {
    "duration": 11,
    "start_time": "2022-08-27T10:11:33.189Z"
   },
   {
    "duration": 5,
    "start_time": "2022-08-27T10:11:36.647Z"
   },
   {
    "duration": 13,
    "start_time": "2022-08-27T10:11:38.787Z"
   },
   {
    "duration": 75,
    "start_time": "2022-08-27T10:12:46.071Z"
   },
   {
    "duration": 7,
    "start_time": "2022-08-27T10:13:09.308Z"
   },
   {
    "duration": 7,
    "start_time": "2022-08-27T10:13:10.894Z"
   },
   {
    "duration": 15,
    "start_time": "2022-08-27T10:13:11.983Z"
   },
   {
    "duration": 5,
    "start_time": "2022-08-27T10:13:27.224Z"
   },
   {
    "duration": 15,
    "start_time": "2022-08-27T10:13:29.412Z"
   },
   {
    "duration": 3,
    "start_time": "2022-08-27T10:13:37.085Z"
   },
   {
    "duration": 268,
    "start_time": "2022-08-27T10:13:37.093Z"
   },
   {
    "duration": 10,
    "start_time": "2022-08-27T10:13:37.363Z"
   },
   {
    "duration": 38,
    "start_time": "2022-08-27T10:13:37.392Z"
   },
   {
    "duration": 12,
    "start_time": "2022-08-27T10:13:37.432Z"
   },
   {
    "duration": 10,
    "start_time": "2022-08-27T10:13:37.446Z"
   },
   {
    "duration": 45,
    "start_time": "2022-08-27T10:13:37.458Z"
   },
   {
    "duration": 34,
    "start_time": "2022-08-27T10:13:37.506Z"
   },
   {
    "duration": 256,
    "start_time": "2022-08-27T10:13:37.542Z"
   },
   {
    "duration": 29,
    "start_time": "2022-08-27T10:13:37.800Z"
   },
   {
    "duration": 8,
    "start_time": "2022-08-27T10:13:37.831Z"
   },
   {
    "duration": 16,
    "start_time": "2022-08-27T10:13:37.840Z"
   },
   {
    "duration": 43,
    "start_time": "2022-08-27T10:13:37.858Z"
   },
   {
    "duration": 17,
    "start_time": "2022-08-27T10:13:37.902Z"
   },
   {
    "duration": 8,
    "start_time": "2022-08-27T10:13:37.920Z"
   },
   {
    "duration": 13,
    "start_time": "2022-08-27T10:13:37.930Z"
   },
   {
    "duration": 16,
    "start_time": "2022-08-27T10:13:37.945Z"
   },
   {
    "duration": 40,
    "start_time": "2022-08-27T10:13:37.962Z"
   },
   {
    "duration": 16,
    "start_time": "2022-08-27T10:13:38.004Z"
   },
   {
    "duration": 49,
    "start_time": "2022-08-27T10:13:38.022Z"
   },
   {
    "duration": 41,
    "start_time": "2022-08-27T10:13:38.092Z"
   },
   {
    "duration": 6,
    "start_time": "2022-08-27T10:13:38.134Z"
   },
   {
    "duration": 48,
    "start_time": "2022-08-27T10:13:38.143Z"
   },
   {
    "duration": 9,
    "start_time": "2022-08-27T10:13:38.193Z"
   },
   {
    "duration": 35,
    "start_time": "2022-08-27T10:13:38.204Z"
   },
   {
    "duration": 84,
    "start_time": "2022-08-27T10:13:38.241Z"
   },
   {
    "duration": 16,
    "start_time": "2022-08-27T10:13:38.327Z"
   },
   {
    "duration": 84,
    "start_time": "2022-08-27T10:13:38.345Z"
   },
   {
    "duration": 11,
    "start_time": "2022-08-27T10:13:38.433Z"
   },
   {
    "duration": 53,
    "start_time": "2022-08-27T10:13:38.446Z"
   },
   {
    "duration": 22,
    "start_time": "2022-08-27T10:13:38.501Z"
   },
   {
    "duration": 134,
    "start_time": "2022-08-27T10:13:38.525Z"
   },
   {
    "duration": 81,
    "start_time": "2022-08-27T10:13:38.662Z"
   },
   {
    "duration": 82,
    "start_time": "2022-08-27T10:13:38.745Z"
   },
   {
    "duration": 47,
    "start_time": "2022-08-27T10:13:38.830Z"
   },
   {
    "duration": 96,
    "start_time": "2022-08-27T10:13:38.879Z"
   },
   {
    "duration": 116,
    "start_time": "2022-08-27T10:13:38.977Z"
   },
   {
    "duration": 5,
    "start_time": "2022-08-27T10:13:39.095Z"
   },
   {
    "duration": 21,
    "start_time": "2022-08-27T10:13:39.103Z"
   },
   {
    "duration": 6,
    "start_time": "2022-08-27T10:13:39.126Z"
   },
   {
    "duration": 27,
    "start_time": "2022-08-27T10:13:39.134Z"
   },
   {
    "duration": 30,
    "start_time": "2022-08-27T10:13:39.162Z"
   },
   {
    "duration": 20,
    "start_time": "2022-08-27T10:13:39.193Z"
   },
   {
    "duration": 8,
    "start_time": "2022-08-27T10:13:39.215Z"
   },
   {
    "duration": 32,
    "start_time": "2022-08-27T10:13:39.225Z"
   },
   {
    "duration": 51,
    "start_time": "2022-08-27T10:13:39.259Z"
   },
   {
    "duration": 199,
    "start_time": "2022-08-27T10:13:39.312Z"
   },
   {
    "duration": 14,
    "start_time": "2022-08-27T10:13:39.512Z"
   },
   {
    "duration": 12,
    "start_time": "2022-08-27T10:13:39.528Z"
   },
   {
    "duration": 56,
    "start_time": "2022-08-27T10:13:39.542Z"
   },
   {
    "duration": 18,
    "start_time": "2022-08-27T10:13:39.601Z"
   },
   {
    "duration": 15,
    "start_time": "2022-08-27T10:13:39.620Z"
   },
   {
    "duration": 15,
    "start_time": "2022-08-27T10:13:39.637Z"
   },
   {
    "duration": 10,
    "start_time": "2022-08-27T10:13:39.654Z"
   },
   {
    "duration": 5,
    "start_time": "2022-08-27T10:13:39.691Z"
   },
   {
    "duration": 32,
    "start_time": "2022-08-27T10:13:39.698Z"
   },
   {
    "duration": 5,
    "start_time": "2022-08-27T10:13:39.732Z"
   },
   {
    "duration": 17,
    "start_time": "2022-08-27T10:13:39.739Z"
   },
   {
    "duration": 34,
    "start_time": "2022-08-27T10:13:39.758Z"
   },
   {
    "duration": 13,
    "start_time": "2022-08-27T10:13:39.793Z"
   },
   {
    "duration": 15,
    "start_time": "2022-08-27T10:13:39.807Z"
   },
   {
    "duration": 10,
    "start_time": "2022-08-27T10:13:39.824Z"
   },
   {
    "duration": 9,
    "start_time": "2022-08-27T10:13:39.835Z"
   },
   {
    "duration": 13,
    "start_time": "2022-08-27T10:13:39.846Z"
   },
   {
    "duration": 45,
    "start_time": "2022-08-27T10:13:39.861Z"
   },
   {
    "duration": 6,
    "start_time": "2022-08-27T10:13:39.908Z"
   },
   {
    "duration": 14,
    "start_time": "2022-08-27T10:13:39.915Z"
   },
   {
    "duration": 260,
    "start_time": "2022-08-27T10:13:39.931Z"
   },
   {
    "duration": 8,
    "start_time": "2022-08-27T10:13:40.193Z"
   },
   {
    "duration": 345,
    "start_time": "2022-08-27T10:13:40.203Z"
   },
   {
    "duration": 127,
    "start_time": "2022-08-27T10:13:40.551Z"
   },
   {
    "duration": 117,
    "start_time": "2022-08-27T10:13:40.680Z"
   },
   {
    "duration": 8,
    "start_time": "2022-08-27T10:45:25.606Z"
   },
   {
    "duration": 11,
    "start_time": "2022-08-27T10:45:27.200Z"
   },
   {
    "duration": 163,
    "start_time": "2022-08-27T11:09:03.820Z"
   },
   {
    "duration": 261,
    "start_time": "2022-08-27T11:09:24.997Z"
   },
   {
    "duration": 12,
    "start_time": "2022-08-27T11:10:37.972Z"
   },
   {
    "duration": 14,
    "start_time": "2022-08-27T11:13:52.324Z"
   },
   {
    "duration": 11,
    "start_time": "2022-08-27T11:14:47.553Z"
   },
   {
    "duration": 5,
    "start_time": "2022-08-27T11:14:55.418Z"
   },
   {
    "duration": 7,
    "start_time": "2022-08-27T11:14:57.272Z"
   },
   {
    "duration": 12,
    "start_time": "2022-08-27T11:14:58.441Z"
   },
   {
    "duration": 29,
    "start_time": "2022-08-27T11:15:02.412Z"
   },
   {
    "duration": 7,
    "start_time": "2022-08-27T11:15:11.789Z"
   },
   {
    "duration": 11,
    "start_time": "2022-08-27T11:15:12.983Z"
   },
   {
    "duration": 165,
    "start_time": "2022-08-27T11:15:14.310Z"
   },
   {
    "duration": 15,
    "start_time": "2022-08-27T11:15:20.714Z"
   },
   {
    "duration": 204,
    "start_time": "2022-08-27T11:15:21.628Z"
   },
   {
    "duration": 7,
    "start_time": "2022-08-27T11:15:24.946Z"
   },
   {
    "duration": 388,
    "start_time": "2022-08-27T11:15:25.732Z"
   },
   {
    "duration": 99,
    "start_time": "2022-08-27T11:15:32.337Z"
   },
   {
    "duration": 466,
    "start_time": "2022-08-27T11:15:36.418Z"
   },
   {
    "duration": 430,
    "start_time": "2022-08-27T11:25:35.240Z"
   },
   {
    "duration": 10,
    "start_time": "2022-08-27T11:26:51.383Z"
   },
   {
    "duration": 10,
    "start_time": "2022-08-27T11:27:17.959Z"
   },
   {
    "duration": 10,
    "start_time": "2022-08-27T11:27:22.895Z"
   },
   {
    "duration": 3,
    "start_time": "2022-08-27T11:28:22.841Z"
   },
   {
    "duration": 324,
    "start_time": "2022-08-27T11:28:32.727Z"
   },
   {
    "duration": 337,
    "start_time": "2022-08-27T11:28:45.077Z"
   },
   {
    "duration": 360,
    "start_time": "2022-08-27T11:29:39.140Z"
   },
   {
    "duration": 332,
    "start_time": "2022-08-27T11:30:29.706Z"
   },
   {
    "duration": 367,
    "start_time": "2022-08-27T11:30:53.944Z"
   },
   {
    "duration": 188,
    "start_time": "2022-08-27T11:31:36.332Z"
   },
   {
    "duration": 77,
    "start_time": "2022-08-27T11:31:49.897Z"
   },
   {
    "duration": 329,
    "start_time": "2022-08-27T11:31:53.817Z"
   },
   {
    "duration": 13,
    "start_time": "2022-08-27T11:33:06.732Z"
   },
   {
    "duration": 4,
    "start_time": "2022-08-27T13:31:22.291Z"
   },
   {
    "duration": 2,
    "start_time": "2022-08-27T13:33:52.140Z"
   },
   {
    "duration": 2,
    "start_time": "2022-08-27T13:33:52.994Z"
   },
   {
    "duration": 5,
    "start_time": "2022-08-27T13:33:53.884Z"
   },
   {
    "duration": 6,
    "start_time": "2022-08-27T13:34:44.724Z"
   },
   {
    "duration": 69,
    "start_time": "2022-08-27T13:58:10.786Z"
   },
   {
    "duration": 72,
    "start_time": "2022-08-27T13:58:17.186Z"
   },
   {
    "duration": 18,
    "start_time": "2022-08-27T13:58:29.154Z"
   },
   {
    "duration": 18,
    "start_time": "2022-08-27T13:58:47.416Z"
   },
   {
    "duration": 21,
    "start_time": "2022-08-27T13:59:38.635Z"
   },
   {
    "duration": 75,
    "start_time": "2022-08-27T14:01:07.211Z"
   },
   {
    "duration": 26,
    "start_time": "2022-08-27T14:01:13.382Z"
   },
   {
    "duration": 29,
    "start_time": "2022-08-27T14:01:22.485Z"
   },
   {
    "duration": 14,
    "start_time": "2022-08-27T14:01:38.526Z"
   },
   {
    "duration": 93,
    "start_time": "2022-08-27T14:02:07.630Z"
   },
   {
    "duration": 75,
    "start_time": "2022-08-27T14:02:54.686Z"
   },
   {
    "duration": 87,
    "start_time": "2022-08-27T14:03:03.236Z"
   },
   {
    "duration": 79,
    "start_time": "2022-08-27T14:13:35.656Z"
   },
   {
    "duration": 76,
    "start_time": "2022-08-27T14:13:53.805Z"
   },
   {
    "duration": 4,
    "start_time": "2022-08-27T14:19:02.384Z"
   },
   {
    "duration": 14,
    "start_time": "2022-08-27T14:19:08.912Z"
   },
   {
    "duration": 4,
    "start_time": "2022-08-27T14:19:34.334Z"
   },
   {
    "duration": 16,
    "start_time": "2022-08-27T14:19:46.794Z"
   },
   {
    "duration": 14,
    "start_time": "2022-08-27T14:20:07.360Z"
   },
   {
    "duration": 12,
    "start_time": "2022-08-27T14:20:16.728Z"
   },
   {
    "duration": 25,
    "start_time": "2022-08-27T14:21:01.518Z"
   },
   {
    "duration": 12,
    "start_time": "2022-08-27T14:26:51.367Z"
   },
   {
    "duration": 8,
    "start_time": "2022-08-27T14:28:05.688Z"
   },
   {
    "duration": 5,
    "start_time": "2022-08-27T14:28:22.900Z"
   },
   {
    "duration": 7,
    "start_time": "2022-08-27T14:29:31.041Z"
   },
   {
    "duration": 68,
    "start_time": "2022-08-27T14:31:38.886Z"
   },
   {
    "duration": 4,
    "start_time": "2022-08-27T14:32:05.414Z"
   },
   {
    "duration": 289,
    "start_time": "2022-08-27T14:32:05.420Z"
   },
   {
    "duration": 10,
    "start_time": "2022-08-27T14:32:05.711Z"
   },
   {
    "duration": 57,
    "start_time": "2022-08-27T14:32:05.723Z"
   },
   {
    "duration": 18,
    "start_time": "2022-08-27T14:32:05.791Z"
   },
   {
    "duration": 22,
    "start_time": "2022-08-27T14:32:05.811Z"
   },
   {
    "duration": 27,
    "start_time": "2022-08-27T14:32:05.835Z"
   },
   {
    "duration": 70,
    "start_time": "2022-08-27T14:32:05.864Z"
   },
   {
    "duration": 252,
    "start_time": "2022-08-27T14:32:05.936Z"
   },
   {
    "duration": 28,
    "start_time": "2022-08-27T14:32:06.192Z"
   },
   {
    "duration": 8,
    "start_time": "2022-08-27T14:32:06.223Z"
   },
   {
    "duration": 39,
    "start_time": "2022-08-27T14:32:06.233Z"
   },
   {
    "duration": 31,
    "start_time": "2022-08-27T14:32:06.274Z"
   },
   {
    "duration": 29,
    "start_time": "2022-08-27T14:32:06.307Z"
   },
   {
    "duration": 21,
    "start_time": "2022-08-27T14:32:06.338Z"
   },
   {
    "duration": 29,
    "start_time": "2022-08-27T14:32:06.362Z"
   },
   {
    "duration": 31,
    "start_time": "2022-08-27T14:32:06.393Z"
   },
   {
    "duration": 18,
    "start_time": "2022-08-27T14:32:06.426Z"
   },
   {
    "duration": 28,
    "start_time": "2022-08-27T14:32:06.445Z"
   },
   {
    "duration": 51,
    "start_time": "2022-08-27T14:32:06.476Z"
   },
   {
    "duration": 65,
    "start_time": "2022-08-27T14:32:06.529Z"
   },
   {
    "duration": 7,
    "start_time": "2022-08-27T14:32:06.595Z"
   },
   {
    "duration": 65,
    "start_time": "2022-08-27T14:32:06.604Z"
   },
   {
    "duration": 9,
    "start_time": "2022-08-27T14:32:06.671Z"
   },
   {
    "duration": 58,
    "start_time": "2022-08-27T14:32:06.681Z"
   },
   {
    "duration": 81,
    "start_time": "2022-08-27T14:32:06.741Z"
   },
   {
    "duration": 24,
    "start_time": "2022-08-27T14:32:06.824Z"
   },
   {
    "duration": 93,
    "start_time": "2022-08-27T14:32:06.850Z"
   },
   {
    "duration": 11,
    "start_time": "2022-08-27T14:32:06.949Z"
   },
   {
    "duration": 53,
    "start_time": "2022-08-27T14:32:06.962Z"
   },
   {
    "duration": 31,
    "start_time": "2022-08-27T14:32:07.018Z"
   },
   {
    "duration": 143,
    "start_time": "2022-08-27T14:32:07.051Z"
   },
   {
    "duration": 74,
    "start_time": "2022-08-27T14:32:07.197Z"
   },
   {
    "duration": 106,
    "start_time": "2022-08-27T14:32:07.273Z"
   },
   {
    "duration": 53,
    "start_time": "2022-08-27T14:32:07.382Z"
   },
   {
    "duration": 103,
    "start_time": "2022-08-27T14:32:07.436Z"
   },
   {
    "duration": 115,
    "start_time": "2022-08-27T14:32:07.541Z"
   },
   {
    "duration": 5,
    "start_time": "2022-08-27T14:32:07.659Z"
   },
   {
    "duration": 14,
    "start_time": "2022-08-27T14:32:07.666Z"
   },
   {
    "duration": 13,
    "start_time": "2022-08-27T14:32:07.682Z"
   },
   {
    "duration": 21,
    "start_time": "2022-08-27T14:32:07.697Z"
   },
   {
    "duration": 33,
    "start_time": "2022-08-27T14:32:07.720Z"
   },
   {
    "duration": 19,
    "start_time": "2022-08-27T14:32:07.755Z"
   },
   {
    "duration": 14,
    "start_time": "2022-08-27T14:32:07.791Z"
   },
   {
    "duration": 27,
    "start_time": "2022-08-27T14:32:07.808Z"
   },
   {
    "duration": 28,
    "start_time": "2022-08-27T14:32:07.837Z"
   },
   {
    "duration": 219,
    "start_time": "2022-08-27T14:32:07.867Z"
   },
   {
    "duration": 14,
    "start_time": "2022-08-27T14:32:08.092Z"
   },
   {
    "duration": 17,
    "start_time": "2022-08-27T14:32:08.109Z"
   },
   {
    "duration": 69,
    "start_time": "2022-08-27T14:32:08.128Z"
   },
   {
    "duration": 19,
    "start_time": "2022-08-27T14:32:08.199Z"
   },
   {
    "duration": 21,
    "start_time": "2022-08-27T14:32:08.220Z"
   },
   {
    "duration": 40,
    "start_time": "2022-08-27T14:32:08.243Z"
   },
   {
    "duration": 33,
    "start_time": "2022-08-27T14:32:08.285Z"
   },
   {
    "duration": 8,
    "start_time": "2022-08-27T14:32:08.320Z"
   },
   {
    "duration": 42,
    "start_time": "2022-08-27T14:32:08.330Z"
   },
   {
    "duration": 5,
    "start_time": "2022-08-27T14:32:08.374Z"
   },
   {
    "duration": 20,
    "start_time": "2022-08-27T14:32:08.380Z"
   },
   {
    "duration": 10,
    "start_time": "2022-08-27T14:32:08.402Z"
   },
   {
    "duration": 15,
    "start_time": "2022-08-27T14:32:08.414Z"
   },
   {
    "duration": 17,
    "start_time": "2022-08-27T14:32:08.431Z"
   },
   {
    "duration": 8,
    "start_time": "2022-08-27T14:32:08.450Z"
   },
   {
    "duration": 12,
    "start_time": "2022-08-27T14:32:08.460Z"
   },
   {
    "duration": 31,
    "start_time": "2022-08-27T14:32:08.473Z"
   },
   {
    "duration": 26,
    "start_time": "2022-08-27T14:32:08.507Z"
   },
   {
    "duration": 5,
    "start_time": "2022-08-27T14:32:08.535Z"
   },
   {
    "duration": 14,
    "start_time": "2022-08-27T14:32:08.542Z"
   },
   {
    "duration": 402,
    "start_time": "2022-08-27T14:32:08.558Z"
   },
   {
    "duration": 28,
    "start_time": "2022-08-27T14:32:08.963Z"
   },
   {
    "duration": 212,
    "start_time": "2022-08-27T14:32:08.994Z"
   },
   {
    "duration": 16,
    "start_time": "2022-08-27T14:32:09.208Z"
   },
   {
    "duration": 412,
    "start_time": "2022-08-27T14:32:09.226Z"
   },
   {
    "duration": 150,
    "start_time": "2022-08-27T14:32:09.641Z"
   },
   {
    "duration": 101,
    "start_time": "2022-08-27T14:32:09.793Z"
   },
   {
    "duration": 3,
    "start_time": "2022-08-27T14:32:09.896Z"
   },
   {
    "duration": 15,
    "start_time": "2022-08-27T14:32:09.901Z"
   },
   {
    "duration": 19,
    "start_time": "2022-08-27T14:32:09.918Z"
   },
   {
    "duration": 17,
    "start_time": "2022-08-27T14:32:09.940Z"
   },
   {
    "duration": 86,
    "start_time": "2022-08-27T14:32:09.960Z"
   },
   {
    "duration": 15,
    "start_time": "2022-08-27T14:32:10.048Z"
   },
   {
    "duration": 28,
    "start_time": "2022-08-27T14:32:10.065Z"
   },
   {
    "duration": 33,
    "start_time": "2022-08-27T14:32:10.095Z"
   },
   {
    "duration": 11,
    "start_time": "2022-08-27T14:32:10.136Z"
   },
   {
    "duration": 19,
    "start_time": "2022-08-27T14:32:10.149Z"
   },
   {
    "duration": 9,
    "start_time": "2022-08-27T14:34:27.564Z"
   },
   {
    "duration": 5,
    "start_time": "2022-08-27T14:34:35.857Z"
   },
   {
    "duration": 6,
    "start_time": "2022-08-27T14:36:02.418Z"
   },
   {
    "duration": 6,
    "start_time": "2022-08-27T14:36:23.467Z"
   },
   {
    "duration": 1334,
    "start_time": "2022-08-27T14:37:27.137Z"
   },
   {
    "duration": 248,
    "start_time": "2022-08-27T14:37:28.473Z"
   },
   {
    "duration": 13,
    "start_time": "2022-08-27T14:37:28.723Z"
   },
   {
    "duration": 38,
    "start_time": "2022-08-27T14:37:28.739Z"
   },
   {
    "duration": 23,
    "start_time": "2022-08-27T14:37:28.778Z"
   },
   {
    "duration": 11,
    "start_time": "2022-08-27T14:37:28.803Z"
   },
   {
    "duration": 14,
    "start_time": "2022-08-27T14:37:28.815Z"
   },
   {
    "duration": 64,
    "start_time": "2022-08-27T14:37:28.831Z"
   },
   {
    "duration": 214,
    "start_time": "2022-08-27T14:37:28.897Z"
   },
   {
    "duration": 40,
    "start_time": "2022-08-27T14:37:29.115Z"
   },
   {
    "duration": 8,
    "start_time": "2022-08-27T14:37:29.157Z"
   },
   {
    "duration": 14,
    "start_time": "2022-08-27T14:37:29.167Z"
   },
   {
    "duration": 24,
    "start_time": "2022-08-27T14:37:29.183Z"
   },
   {
    "duration": 17,
    "start_time": "2022-08-27T14:37:29.208Z"
   },
   {
    "duration": 9,
    "start_time": "2022-08-27T14:37:29.226Z"
   },
   {
    "duration": 13,
    "start_time": "2022-08-27T14:37:29.237Z"
   },
   {
    "duration": 29,
    "start_time": "2022-08-27T14:37:29.251Z"
   },
   {
    "duration": 29,
    "start_time": "2022-08-27T14:37:29.282Z"
   },
   {
    "duration": 26,
    "start_time": "2022-08-27T14:37:29.313Z"
   },
   {
    "duration": 63,
    "start_time": "2022-08-27T14:37:29.341Z"
   },
   {
    "duration": 68,
    "start_time": "2022-08-27T14:37:29.406Z"
   },
   {
    "duration": 20,
    "start_time": "2022-08-27T14:37:29.475Z"
   },
   {
    "duration": 39,
    "start_time": "2022-08-27T14:37:29.497Z"
   },
   {
    "duration": 9,
    "start_time": "2022-08-27T14:37:29.538Z"
   },
   {
    "duration": 59,
    "start_time": "2022-08-27T14:37:29.549Z"
   },
   {
    "duration": 93,
    "start_time": "2022-08-27T14:37:29.610Z"
   },
   {
    "duration": 17,
    "start_time": "2022-08-27T14:37:29.705Z"
   },
   {
    "duration": 95,
    "start_time": "2022-08-27T14:37:29.728Z"
   },
   {
    "duration": 11,
    "start_time": "2022-08-27T14:37:29.824Z"
   },
   {
    "duration": 55,
    "start_time": "2022-08-27T14:37:29.837Z"
   },
   {
    "duration": 22,
    "start_time": "2022-08-27T14:37:29.893Z"
   },
   {
    "duration": 169,
    "start_time": "2022-08-27T14:37:29.917Z"
   },
   {
    "duration": 74,
    "start_time": "2022-08-27T14:37:30.088Z"
   },
   {
    "duration": 90,
    "start_time": "2022-08-27T14:37:30.163Z"
   },
   {
    "duration": 60,
    "start_time": "2022-08-27T14:37:30.255Z"
   },
   {
    "duration": 90,
    "start_time": "2022-08-27T14:37:30.317Z"
   },
   {
    "duration": 111,
    "start_time": "2022-08-27T14:37:30.409Z"
   },
   {
    "duration": 4,
    "start_time": "2022-08-27T14:37:30.523Z"
   },
   {
    "duration": 14,
    "start_time": "2022-08-27T14:37:30.529Z"
   },
   {
    "duration": 35,
    "start_time": "2022-08-27T14:37:30.545Z"
   },
   {
    "duration": 20,
    "start_time": "2022-08-27T14:37:30.582Z"
   },
   {
    "duration": 27,
    "start_time": "2022-08-27T14:37:30.604Z"
   },
   {
    "duration": 19,
    "start_time": "2022-08-27T14:37:30.633Z"
   },
   {
    "duration": 36,
    "start_time": "2022-08-27T14:37:30.654Z"
   },
   {
    "duration": 36,
    "start_time": "2022-08-27T14:37:30.693Z"
   },
   {
    "duration": 28,
    "start_time": "2022-08-27T14:37:30.731Z"
   },
   {
    "duration": 183,
    "start_time": "2022-08-27T14:37:30.762Z"
   },
   {
    "duration": 15,
    "start_time": "2022-08-27T14:37:30.947Z"
   },
   {
    "duration": 29,
    "start_time": "2022-08-27T14:37:30.964Z"
   },
   {
    "duration": 37,
    "start_time": "2022-08-27T14:37:30.994Z"
   },
   {
    "duration": 17,
    "start_time": "2022-08-27T14:37:31.033Z"
   },
   {
    "duration": 17,
    "start_time": "2022-08-27T14:37:31.052Z"
   },
   {
    "duration": 12,
    "start_time": "2022-08-27T14:37:31.091Z"
   },
   {
    "duration": 13,
    "start_time": "2022-08-27T14:37:31.104Z"
   },
   {
    "duration": 23,
    "start_time": "2022-08-27T14:37:31.118Z"
   },
   {
    "duration": 32,
    "start_time": "2022-08-27T14:37:31.143Z"
   },
   {
    "duration": 5,
    "start_time": "2022-08-27T14:37:31.177Z"
   },
   {
    "duration": 26,
    "start_time": "2022-08-27T14:37:31.184Z"
   },
   {
    "duration": 9,
    "start_time": "2022-08-27T14:37:31.212Z"
   },
   {
    "duration": 13,
    "start_time": "2022-08-27T14:37:31.223Z"
   },
   {
    "duration": 18,
    "start_time": "2022-08-27T14:37:31.238Z"
   },
   {
    "duration": 15,
    "start_time": "2022-08-27T14:37:31.258Z"
   },
   {
    "duration": 21,
    "start_time": "2022-08-27T14:37:31.275Z"
   },
   {
    "duration": 23,
    "start_time": "2022-08-27T14:37:31.298Z"
   },
   {
    "duration": 28,
    "start_time": "2022-08-27T14:37:31.323Z"
   },
   {
    "duration": 15,
    "start_time": "2022-08-27T14:37:31.352Z"
   },
   {
    "duration": 24,
    "start_time": "2022-08-27T14:37:31.369Z"
   },
   {
    "duration": 394,
    "start_time": "2022-08-27T14:37:31.395Z"
   },
   {
    "duration": 14,
    "start_time": "2022-08-27T14:37:31.792Z"
   },
   {
    "duration": 277,
    "start_time": "2022-08-27T14:37:31.809Z"
   },
   {
    "duration": 17,
    "start_time": "2022-08-27T14:37:32.088Z"
   },
   {
    "duration": 360,
    "start_time": "2022-08-27T14:37:32.108Z"
   },
   {
    "duration": 121,
    "start_time": "2022-08-27T14:37:32.470Z"
   },
   {
    "duration": 102,
    "start_time": "2022-08-27T14:37:32.593Z"
   },
   {
    "duration": 3,
    "start_time": "2022-08-27T14:37:32.696Z"
   },
   {
    "duration": 11,
    "start_time": "2022-08-27T14:37:32.701Z"
   },
   {
    "duration": 5,
    "start_time": "2022-08-27T14:37:32.714Z"
   },
   {
    "duration": 7,
    "start_time": "2022-08-27T14:37:32.721Z"
   },
   {
    "duration": 91,
    "start_time": "2022-08-27T14:37:32.732Z"
   },
   {
    "duration": 20,
    "start_time": "2022-08-27T14:37:32.825Z"
   },
   {
    "duration": 14,
    "start_time": "2022-08-27T14:37:32.848Z"
   },
   {
    "duration": 47,
    "start_time": "2022-08-27T14:37:32.867Z"
   },
   {
    "duration": 9,
    "start_time": "2022-08-27T14:37:32.916Z"
   },
   {
    "duration": 7,
    "start_time": "2022-08-27T14:37:32.926Z"
   },
   {
    "duration": 9,
    "start_time": "2022-08-27T14:37:32.935Z"
   },
   {
    "duration": 8,
    "start_time": "2022-08-27T14:38:22.425Z"
   },
   {
    "duration": 1221,
    "start_time": "2022-08-27T14:38:33.201Z"
   },
   {
    "duration": 1431,
    "start_time": "2022-08-27T14:38:50.638Z"
   },
   {
    "duration": 5,
    "start_time": "2022-08-27T14:39:31.546Z"
   },
   {
    "duration": 6,
    "start_time": "2022-08-27T14:39:32.550Z"
   },
   {
    "duration": 1247,
    "start_time": "2022-08-27T14:39:44.147Z"
   },
   {
    "duration": 246,
    "start_time": "2022-08-27T14:39:45.396Z"
   },
   {
    "duration": 13,
    "start_time": "2022-08-27T14:39:45.644Z"
   },
   {
    "duration": 52,
    "start_time": "2022-08-27T14:39:45.659Z"
   },
   {
    "duration": 12,
    "start_time": "2022-08-27T14:39:45.713Z"
   },
   {
    "duration": 9,
    "start_time": "2022-08-27T14:39:45.727Z"
   },
   {
    "duration": 17,
    "start_time": "2022-08-27T14:39:45.738Z"
   },
   {
    "duration": 62,
    "start_time": "2022-08-27T14:39:45.756Z"
   },
   {
    "duration": 234,
    "start_time": "2022-08-27T14:39:45.820Z"
   },
   {
    "duration": 32,
    "start_time": "2022-08-27T14:39:46.057Z"
   },
   {
    "duration": 8,
    "start_time": "2022-08-27T14:39:46.091Z"
   },
   {
    "duration": 18,
    "start_time": "2022-08-27T14:39:46.100Z"
   },
   {
    "duration": 24,
    "start_time": "2022-08-27T14:39:46.120Z"
   },
   {
    "duration": 18,
    "start_time": "2022-08-27T14:39:46.146Z"
   },
   {
    "duration": 27,
    "start_time": "2022-08-27T14:39:46.166Z"
   },
   {
    "duration": 16,
    "start_time": "2022-08-27T14:39:46.196Z"
   },
   {
    "duration": 22,
    "start_time": "2022-08-27T14:39:46.214Z"
   },
   {
    "duration": 22,
    "start_time": "2022-08-27T14:39:46.238Z"
   },
   {
    "duration": 39,
    "start_time": "2022-08-27T14:39:46.262Z"
   },
   {
    "duration": 57,
    "start_time": "2022-08-27T14:39:46.303Z"
   },
   {
    "duration": 63,
    "start_time": "2022-08-27T14:39:46.362Z"
   },
   {
    "duration": 8,
    "start_time": "2022-08-27T14:39:46.426Z"
   },
   {
    "duration": 42,
    "start_time": "2022-08-27T14:39:46.436Z"
   },
   {
    "duration": 9,
    "start_time": "2022-08-27T14:39:46.492Z"
   },
   {
    "duration": 44,
    "start_time": "2022-08-27T14:39:46.503Z"
   },
   {
    "duration": 110,
    "start_time": "2022-08-27T14:39:46.549Z"
   },
   {
    "duration": 35,
    "start_time": "2022-08-27T14:39:46.661Z"
   },
   {
    "duration": 91,
    "start_time": "2022-08-27T14:39:46.701Z"
   },
   {
    "duration": 13,
    "start_time": "2022-08-27T14:39:46.794Z"
   },
   {
    "duration": 55,
    "start_time": "2022-08-27T14:39:46.809Z"
   },
   {
    "duration": 42,
    "start_time": "2022-08-27T14:39:46.866Z"
   },
   {
    "duration": 148,
    "start_time": "2022-08-27T14:39:46.911Z"
   },
   {
    "duration": 74,
    "start_time": "2022-08-27T14:39:47.061Z"
   },
   {
    "duration": 91,
    "start_time": "2022-08-27T14:39:47.137Z"
   },
   {
    "duration": 63,
    "start_time": "2022-08-27T14:39:47.230Z"
   },
   {
    "duration": 107,
    "start_time": "2022-08-27T14:39:47.295Z"
   },
   {
    "duration": 100,
    "start_time": "2022-08-27T14:39:47.404Z"
   },
   {
    "duration": 4,
    "start_time": "2022-08-27T14:39:47.506Z"
   },
   {
    "duration": 9,
    "start_time": "2022-08-27T14:39:47.512Z"
   },
   {
    "duration": 8,
    "start_time": "2022-08-27T14:39:47.523Z"
   },
   {
    "duration": 22,
    "start_time": "2022-08-27T14:39:47.533Z"
   },
   {
    "duration": 51,
    "start_time": "2022-08-27T14:39:47.557Z"
   },
   {
    "duration": 25,
    "start_time": "2022-08-27T14:39:47.610Z"
   },
   {
    "duration": 10,
    "start_time": "2022-08-27T14:39:47.637Z"
   },
   {
    "duration": 66,
    "start_time": "2022-08-27T14:39:47.649Z"
   },
   {
    "duration": 29,
    "start_time": "2022-08-27T14:39:47.718Z"
   },
   {
    "duration": 196,
    "start_time": "2022-08-27T14:39:47.749Z"
   },
   {
    "duration": 17,
    "start_time": "2022-08-27T14:39:47.946Z"
   },
   {
    "duration": 28,
    "start_time": "2022-08-27T14:39:47.965Z"
   },
   {
    "duration": 42,
    "start_time": "2022-08-27T14:39:47.996Z"
   },
   {
    "duration": 18,
    "start_time": "2022-08-27T14:39:48.040Z"
   },
   {
    "duration": 33,
    "start_time": "2022-08-27T14:39:48.060Z"
   },
   {
    "duration": 9,
    "start_time": "2022-08-27T14:39:48.095Z"
   },
   {
    "duration": 9,
    "start_time": "2022-08-27T14:39:48.106Z"
   },
   {
    "duration": 6,
    "start_time": "2022-08-27T14:39:48.118Z"
   },
   {
    "duration": 27,
    "start_time": "2022-08-27T14:39:48.126Z"
   },
   {
    "duration": 38,
    "start_time": "2022-08-27T14:39:48.155Z"
   },
   {
    "duration": 15,
    "start_time": "2022-08-27T14:39:48.194Z"
   },
   {
    "duration": 7,
    "start_time": "2022-08-27T14:39:48.211Z"
   },
   {
    "duration": 14,
    "start_time": "2022-08-27T14:39:48.220Z"
   },
   {
    "duration": 17,
    "start_time": "2022-08-27T14:39:48.236Z"
   },
   {
    "duration": 7,
    "start_time": "2022-08-27T14:39:48.255Z"
   },
   {
    "duration": 33,
    "start_time": "2022-08-27T14:39:48.264Z"
   },
   {
    "duration": 36,
    "start_time": "2022-08-27T14:39:48.299Z"
   },
   {
    "duration": 30,
    "start_time": "2022-08-27T14:39:48.338Z"
   },
   {
    "duration": 5,
    "start_time": "2022-08-27T14:39:48.370Z"
   },
   {
    "duration": 14,
    "start_time": "2022-08-27T14:39:48.377Z"
   },
   {
    "duration": 377,
    "start_time": "2022-08-27T14:39:48.393Z"
   },
   {
    "duration": 21,
    "start_time": "2022-08-27T14:39:48.772Z"
   },
   {
    "duration": 215,
    "start_time": "2022-08-27T14:39:48.794Z"
   },
   {
    "duration": 12,
    "start_time": "2022-08-27T14:39:49.011Z"
   },
   {
    "duration": 424,
    "start_time": "2022-08-27T14:39:49.025Z"
   },
   {
    "duration": 126,
    "start_time": "2022-08-27T14:39:49.451Z"
   },
   {
    "duration": 102,
    "start_time": "2022-08-27T14:39:49.580Z"
   },
   {
    "duration": 3,
    "start_time": "2022-08-27T14:39:49.691Z"
   },
   {
    "duration": 5,
    "start_time": "2022-08-27T14:39:49.695Z"
   },
   {
    "duration": 5,
    "start_time": "2022-08-27T14:39:49.702Z"
   },
   {
    "duration": 7,
    "start_time": "2022-08-27T14:39:49.709Z"
   },
   {
    "duration": 98,
    "start_time": "2022-08-27T14:39:49.718Z"
   },
   {
    "duration": 13,
    "start_time": "2022-08-27T14:39:49.818Z"
   },
   {
    "duration": 15,
    "start_time": "2022-08-27T14:39:49.833Z"
   },
   {
    "duration": 42,
    "start_time": "2022-08-27T14:39:49.854Z"
   },
   {
    "duration": 8,
    "start_time": "2022-08-27T14:39:49.899Z"
   },
   {
    "duration": 7,
    "start_time": "2022-08-27T14:39:49.909Z"
   },
   {
    "duration": 7,
    "start_time": "2022-08-27T14:39:49.918Z"
   },
   {
    "duration": 1383,
    "start_time": "2022-08-27T14:41:02.069Z"
   },
   {
    "duration": 3,
    "start_time": "2022-08-27T14:41:08.514Z"
   },
   {
    "duration": 305,
    "start_time": "2022-08-27T14:41:08.519Z"
   },
   {
    "duration": 9,
    "start_time": "2022-08-27T14:41:08.826Z"
   },
   {
    "duration": 60,
    "start_time": "2022-08-27T14:41:08.837Z"
   },
   {
    "duration": 16,
    "start_time": "2022-08-27T14:41:08.900Z"
   },
   {
    "duration": 11,
    "start_time": "2022-08-27T14:41:08.919Z"
   },
   {
    "duration": 13,
    "start_time": "2022-08-27T14:41:08.932Z"
   },
   {
    "duration": 73,
    "start_time": "2022-08-27T14:41:08.947Z"
   },
   {
    "duration": 242,
    "start_time": "2022-08-27T14:41:09.022Z"
   },
   {
    "duration": 31,
    "start_time": "2022-08-27T14:41:09.266Z"
   },
   {
    "duration": 9,
    "start_time": "2022-08-27T14:41:09.300Z"
   },
   {
    "duration": 33,
    "start_time": "2022-08-27T14:41:09.312Z"
   },
   {
    "duration": 32,
    "start_time": "2022-08-27T14:41:09.347Z"
   },
   {
    "duration": 17,
    "start_time": "2022-08-27T14:41:09.381Z"
   },
   {
    "duration": 11,
    "start_time": "2022-08-27T14:41:09.400Z"
   },
   {
    "duration": 28,
    "start_time": "2022-08-27T14:41:09.414Z"
   },
   {
    "duration": 26,
    "start_time": "2022-08-27T14:41:09.444Z"
   },
   {
    "duration": 21,
    "start_time": "2022-08-27T14:41:09.472Z"
   },
   {
    "duration": 25,
    "start_time": "2022-08-27T14:41:09.495Z"
   },
   {
    "duration": 50,
    "start_time": "2022-08-27T14:41:09.522Z"
   },
   {
    "duration": 50,
    "start_time": "2022-08-27T14:41:09.574Z"
   },
   {
    "duration": 7,
    "start_time": "2022-08-27T14:41:09.626Z"
   },
   {
    "duration": 40,
    "start_time": "2022-08-27T14:41:09.635Z"
   },
   {
    "duration": 16,
    "start_time": "2022-08-27T14:41:09.695Z"
   },
   {
    "duration": 43,
    "start_time": "2022-08-27T14:41:09.712Z"
   },
   {
    "duration": 88,
    "start_time": "2022-08-27T14:41:09.756Z"
   },
   {
    "duration": 17,
    "start_time": "2022-08-27T14:41:09.846Z"
   },
   {
    "duration": 84,
    "start_time": "2022-08-27T14:41:09.865Z"
   },
   {
    "duration": 12,
    "start_time": "2022-08-27T14:41:09.955Z"
   },
   {
    "duration": 60,
    "start_time": "2022-08-27T14:41:09.969Z"
   },
   {
    "duration": 20,
    "start_time": "2022-08-27T14:41:10.031Z"
   },
   {
    "duration": 144,
    "start_time": "2022-08-27T14:41:10.053Z"
   },
   {
    "duration": 74,
    "start_time": "2022-08-27T14:41:10.199Z"
   },
   {
    "duration": 92,
    "start_time": "2022-08-27T14:41:10.275Z"
   },
   {
    "duration": 57,
    "start_time": "2022-08-27T14:41:10.369Z"
   },
   {
    "duration": 102,
    "start_time": "2022-08-27T14:41:10.428Z"
   },
   {
    "duration": 98,
    "start_time": "2022-08-27T14:41:10.533Z"
   },
   {
    "duration": 5,
    "start_time": "2022-08-27T14:41:10.633Z"
   },
   {
    "duration": 8,
    "start_time": "2022-08-27T14:41:10.640Z"
   },
   {
    "duration": 8,
    "start_time": "2022-08-27T14:41:10.650Z"
   },
   {
    "duration": 33,
    "start_time": "2022-08-27T14:41:10.660Z"
   },
   {
    "duration": 31,
    "start_time": "2022-08-27T14:41:10.694Z"
   },
   {
    "duration": 19,
    "start_time": "2022-08-27T14:41:10.727Z"
   },
   {
    "duration": 8,
    "start_time": "2022-08-27T14:41:10.748Z"
   },
   {
    "duration": 47,
    "start_time": "2022-08-27T14:41:10.758Z"
   },
   {
    "duration": 30,
    "start_time": "2022-08-27T14:41:10.807Z"
   },
   {
    "duration": 176,
    "start_time": "2022-08-27T14:41:10.839Z"
   },
   {
    "duration": 14,
    "start_time": "2022-08-27T14:41:11.016Z"
   },
   {
    "duration": 11,
    "start_time": "2022-08-27T14:41:11.031Z"
   },
   {
    "duration": 53,
    "start_time": "2022-08-27T14:41:11.044Z"
   },
   {
    "duration": 18,
    "start_time": "2022-08-27T14:41:11.098Z"
   },
   {
    "duration": 12,
    "start_time": "2022-08-27T14:41:11.118Z"
   },
   {
    "duration": 9,
    "start_time": "2022-08-27T14:41:11.132Z"
   },
   {
    "duration": 12,
    "start_time": "2022-08-27T14:41:11.142Z"
   },
   {
    "duration": 5,
    "start_time": "2022-08-27T14:41:11.156Z"
   },
   {
    "duration": 56,
    "start_time": "2022-08-27T14:41:11.162Z"
   },
   {
    "duration": 4,
    "start_time": "2022-08-27T14:41:11.220Z"
   },
   {
    "duration": 16,
    "start_time": "2022-08-27T14:41:11.226Z"
   },
   {
    "duration": 7,
    "start_time": "2022-08-27T14:41:11.244Z"
   },
   {
    "duration": 12,
    "start_time": "2022-08-27T14:41:11.253Z"
   },
   {
    "duration": 12,
    "start_time": "2022-08-27T14:41:11.292Z"
   },
   {
    "duration": 7,
    "start_time": "2022-08-27T14:41:11.306Z"
   },
   {
    "duration": 6,
    "start_time": "2022-08-27T14:41:11.315Z"
   },
   {
    "duration": 12,
    "start_time": "2022-08-27T14:41:11.323Z"
   },
   {
    "duration": 15,
    "start_time": "2022-08-27T14:41:11.336Z"
   },
   {
    "duration": 4,
    "start_time": "2022-08-27T14:41:11.353Z"
   },
   {
    "duration": 9,
    "start_time": "2022-08-27T14:41:11.392Z"
   },
   {
    "duration": 360,
    "start_time": "2022-08-27T14:41:11.402Z"
   },
   {
    "duration": 15,
    "start_time": "2022-08-27T14:41:11.764Z"
   },
   {
    "duration": 279,
    "start_time": "2022-08-27T14:41:11.793Z"
   },
   {
    "duration": 23,
    "start_time": "2022-08-27T14:41:12.074Z"
   },
   {
    "duration": 434,
    "start_time": "2022-08-27T14:41:12.099Z"
   },
   {
    "duration": 120,
    "start_time": "2022-08-27T14:41:12.535Z"
   },
   {
    "duration": 109,
    "start_time": "2022-08-27T14:41:12.657Z"
   },
   {
    "duration": 3,
    "start_time": "2022-08-27T14:41:12.768Z"
   },
   {
    "duration": 13,
    "start_time": "2022-08-27T14:41:12.773Z"
   },
   {
    "duration": 11,
    "start_time": "2022-08-27T14:41:12.787Z"
   },
   {
    "duration": 7,
    "start_time": "2022-08-27T14:41:12.800Z"
   },
   {
    "duration": 67,
    "start_time": "2022-08-27T14:41:12.809Z"
   },
   {
    "duration": 25,
    "start_time": "2022-08-27T14:41:12.877Z"
   },
   {
    "duration": 12,
    "start_time": "2022-08-27T14:41:12.904Z"
   },
   {
    "duration": 24,
    "start_time": "2022-08-27T14:41:12.918Z"
   },
   {
    "duration": 8,
    "start_time": "2022-08-27T14:41:12.947Z"
   },
   {
    "duration": 7,
    "start_time": "2022-08-27T14:41:12.956Z"
   },
   {
    "duration": 4,
    "start_time": "2022-08-27T14:41:12.992Z"
   },
   {
    "duration": 897,
    "start_time": "2022-08-27T14:53:18.183Z"
   },
   {
    "duration": 859,
    "start_time": "2022-08-27T14:53:43.822Z"
   },
   {
    "duration": 11,
    "start_time": "2022-08-27T14:54:05.829Z"
   },
   {
    "duration": 9,
    "start_time": "2022-08-27T14:54:13.553Z"
   },
   {
    "duration": 4,
    "start_time": "2022-08-27T14:55:28.148Z"
   },
   {
    "duration": 282,
    "start_time": "2022-08-27T14:55:28.158Z"
   },
   {
    "duration": 9,
    "start_time": "2022-08-27T14:55:28.442Z"
   },
   {
    "duration": 58,
    "start_time": "2022-08-27T14:55:28.453Z"
   },
   {
    "duration": 10,
    "start_time": "2022-08-27T14:55:28.513Z"
   },
   {
    "duration": 10,
    "start_time": "2022-08-27T14:55:28.525Z"
   },
   {
    "duration": 12,
    "start_time": "2022-08-27T14:55:28.536Z"
   },
   {
    "duration": 66,
    "start_time": "2022-08-27T14:55:28.550Z"
   },
   {
    "duration": 250,
    "start_time": "2022-08-27T14:55:28.618Z"
   },
   {
    "duration": 34,
    "start_time": "2022-08-27T14:55:28.871Z"
   },
   {
    "duration": 10,
    "start_time": "2022-08-27T14:55:28.909Z"
   },
   {
    "duration": 16,
    "start_time": "2022-08-27T14:55:28.921Z"
   },
   {
    "duration": 23,
    "start_time": "2022-08-27T14:55:28.939Z"
   },
   {
    "duration": 31,
    "start_time": "2022-08-27T14:55:28.964Z"
   },
   {
    "duration": 9,
    "start_time": "2022-08-27T14:55:28.997Z"
   },
   {
    "duration": 12,
    "start_time": "2022-08-27T14:55:29.008Z"
   },
   {
    "duration": 13,
    "start_time": "2022-08-27T14:55:29.022Z"
   },
   {
    "duration": 13,
    "start_time": "2022-08-27T14:55:29.038Z"
   },
   {
    "duration": 48,
    "start_time": "2022-08-27T14:55:29.054Z"
   },
   {
    "duration": 46,
    "start_time": "2022-08-27T14:55:29.104Z"
   },
   {
    "duration": 62,
    "start_time": "2022-08-27T14:55:29.152Z"
   },
   {
    "duration": 5,
    "start_time": "2022-08-27T14:55:29.216Z"
   },
   {
    "duration": 31,
    "start_time": "2022-08-27T14:55:29.223Z"
   },
   {
    "duration": 9,
    "start_time": "2022-08-27T14:55:29.256Z"
   },
   {
    "duration": 53,
    "start_time": "2022-08-27T14:55:29.266Z"
   },
   {
    "duration": 99,
    "start_time": "2022-08-27T14:55:29.321Z"
   },
   {
    "duration": 17,
    "start_time": "2022-08-27T14:55:29.422Z"
   },
   {
    "duration": 84,
    "start_time": "2022-08-27T14:55:29.441Z"
   },
   {
    "duration": 11,
    "start_time": "2022-08-27T14:55:29.530Z"
   },
   {
    "duration": 52,
    "start_time": "2022-08-27T14:55:29.543Z"
   },
   {
    "duration": 20,
    "start_time": "2022-08-27T14:55:29.597Z"
   },
   {
    "duration": 135,
    "start_time": "2022-08-27T14:55:29.619Z"
   },
   {
    "duration": 80,
    "start_time": "2022-08-27T14:55:29.756Z"
   },
   {
    "duration": 81,
    "start_time": "2022-08-27T14:55:29.838Z"
   },
   {
    "duration": 49,
    "start_time": "2022-08-27T14:55:29.921Z"
   },
   {
    "duration": 95,
    "start_time": "2022-08-27T14:55:29.972Z"
   },
   {
    "duration": 104,
    "start_time": "2022-08-27T14:55:30.069Z"
   },
   {
    "duration": 5,
    "start_time": "2022-08-27T14:55:30.175Z"
   },
   {
    "duration": 21,
    "start_time": "2022-08-27T14:55:30.191Z"
   },
   {
    "duration": 14,
    "start_time": "2022-08-27T14:55:30.214Z"
   },
   {
    "duration": 24,
    "start_time": "2022-08-27T14:55:30.231Z"
   },
   {
    "duration": 32,
    "start_time": "2022-08-27T14:55:30.256Z"
   },
   {
    "duration": 20,
    "start_time": "2022-08-27T14:55:30.289Z"
   },
   {
    "duration": 9,
    "start_time": "2022-08-27T14:55:30.311Z"
   },
   {
    "duration": 35,
    "start_time": "2022-08-27T14:55:30.322Z"
   },
   {
    "duration": 37,
    "start_time": "2022-08-27T14:55:30.359Z"
   },
   {
    "duration": 184,
    "start_time": "2022-08-27T14:55:30.398Z"
   },
   {
    "duration": 19,
    "start_time": "2022-08-27T14:55:30.584Z"
   },
   {
    "duration": 25,
    "start_time": "2022-08-27T14:55:30.605Z"
   },
   {
    "duration": 55,
    "start_time": "2022-08-27T14:55:30.632Z"
   },
   {
    "duration": 18,
    "start_time": "2022-08-27T14:55:30.689Z"
   },
   {
    "duration": 12,
    "start_time": "2022-08-27T14:55:30.709Z"
   },
   {
    "duration": 34,
    "start_time": "2022-08-27T14:55:30.722Z"
   },
   {
    "duration": 21,
    "start_time": "2022-08-27T14:55:30.757Z"
   },
   {
    "duration": 14,
    "start_time": "2022-08-27T14:55:30.779Z"
   },
   {
    "duration": 36,
    "start_time": "2022-08-27T14:55:30.795Z"
   },
   {
    "duration": 5,
    "start_time": "2022-08-27T14:55:30.833Z"
   },
   {
    "duration": 17,
    "start_time": "2022-08-27T14:55:30.840Z"
   },
   {
    "duration": 20,
    "start_time": "2022-08-27T14:55:30.859Z"
   },
   {
    "duration": 26,
    "start_time": "2022-08-27T14:55:30.881Z"
   },
   {
    "duration": 26,
    "start_time": "2022-08-27T14:55:30.909Z"
   },
   {
    "duration": 24,
    "start_time": "2022-08-27T14:55:30.937Z"
   },
   {
    "duration": 16,
    "start_time": "2022-08-27T14:55:30.963Z"
   },
   {
    "duration": 13,
    "start_time": "2022-08-27T14:55:30.981Z"
   },
   {
    "duration": 24,
    "start_time": "2022-08-27T14:55:30.996Z"
   },
   {
    "duration": 7,
    "start_time": "2022-08-27T14:55:31.023Z"
   },
   {
    "duration": 21,
    "start_time": "2022-08-27T14:55:31.032Z"
   },
   {
    "duration": 359,
    "start_time": "2022-08-27T14:55:31.055Z"
   },
   {
    "duration": 12,
    "start_time": "2022-08-27T14:55:31.416Z"
   },
   {
    "duration": 215,
    "start_time": "2022-08-27T14:55:31.430Z"
   },
   {
    "duration": 11,
    "start_time": "2022-08-27T14:55:31.647Z"
   },
   {
    "duration": 445,
    "start_time": "2022-08-27T14:55:31.660Z"
   },
   {
    "duration": 118,
    "start_time": "2022-08-27T14:55:32.107Z"
   },
   {
    "duration": 103,
    "start_time": "2022-08-27T14:55:32.227Z"
   },
   {
    "duration": 3,
    "start_time": "2022-08-27T14:55:32.332Z"
   },
   {
    "duration": 11,
    "start_time": "2022-08-27T14:55:32.336Z"
   },
   {
    "duration": 7,
    "start_time": "2022-08-27T14:55:32.349Z"
   },
   {
    "duration": 21,
    "start_time": "2022-08-27T14:55:32.358Z"
   },
   {
    "duration": 86,
    "start_time": "2022-08-27T14:55:32.381Z"
   },
   {
    "duration": 14,
    "start_time": "2022-08-27T14:55:32.468Z"
   },
   {
    "duration": 18,
    "start_time": "2022-08-27T14:55:32.484Z"
   },
   {
    "duration": 28,
    "start_time": "2022-08-27T14:55:32.504Z"
   },
   {
    "duration": 9,
    "start_time": "2022-08-27T14:55:32.538Z"
   },
   {
    "duration": 0,
    "start_time": "2022-08-27T14:55:32.548Z"
   },
   {
    "duration": 0,
    "start_time": "2022-08-27T14:55:32.550Z"
   },
   {
    "duration": 0,
    "start_time": "2022-08-27T14:55:32.551Z"
   },
   {
    "duration": 0,
    "start_time": "2022-08-27T14:55:32.556Z"
   },
   {
    "duration": 0,
    "start_time": "2022-08-27T14:55:32.557Z"
   },
   {
    "duration": 6,
    "start_time": "2022-08-27T14:55:49.813Z"
   },
   {
    "duration": 7,
    "start_time": "2022-08-27T14:55:52.870Z"
   },
   {
    "duration": 5,
    "start_time": "2022-08-27T14:55:54.411Z"
   },
   {
    "duration": 4,
    "start_time": "2022-08-27T14:55:55.189Z"
   },
   {
    "duration": 6,
    "start_time": "2022-08-27T14:55:55.962Z"
   },
   {
    "duration": 6,
    "start_time": "2022-08-27T14:56:54.480Z"
   },
   {
    "duration": 6,
    "start_time": "2022-08-27T15:14:36.118Z"
   },
   {
    "duration": 91,
    "start_time": "2022-08-27T15:15:12.217Z"
   },
   {
    "duration": 80,
    "start_time": "2022-08-27T15:15:39.232Z"
   },
   {
    "duration": 11,
    "start_time": "2022-08-27T15:15:51.822Z"
   },
   {
    "duration": 8,
    "start_time": "2022-08-27T15:16:12.044Z"
   },
   {
    "duration": 10,
    "start_time": "2022-08-27T15:24:29.345Z"
   },
   {
    "duration": 7,
    "start_time": "2022-08-27T15:24:34.703Z"
   },
   {
    "duration": 9,
    "start_time": "2022-08-27T15:24:41.300Z"
   },
   {
    "duration": 7,
    "start_time": "2022-08-27T15:34:43.209Z"
   },
   {
    "duration": 1443,
    "start_time": "2022-08-30T15:12:21.619Z"
   },
   {
    "duration": 688,
    "start_time": "2022-08-30T15:12:23.065Z"
   },
   {
    "duration": 14,
    "start_time": "2022-08-30T15:12:23.755Z"
   },
   {
    "duration": 41,
    "start_time": "2022-08-30T15:12:23.771Z"
   },
   {
    "duration": 13,
    "start_time": "2022-08-30T15:12:23.813Z"
   },
   {
    "duration": 11,
    "start_time": "2022-08-30T15:12:23.827Z"
   },
   {
    "duration": 13,
    "start_time": "2022-08-30T15:12:23.840Z"
   },
   {
    "duration": 55,
    "start_time": "2022-08-30T15:12:23.855Z"
   },
   {
    "duration": 222,
    "start_time": "2022-08-30T15:12:23.912Z"
   },
   {
    "duration": 178,
    "start_time": "2022-08-30T15:12:24.136Z"
   },
   {
    "duration": 8,
    "start_time": "2022-08-30T15:12:24.315Z"
   },
   {
    "duration": 28,
    "start_time": "2022-08-30T15:12:24.325Z"
   },
   {
    "duration": 28,
    "start_time": "2022-08-30T15:12:24.355Z"
   },
   {
    "duration": 62,
    "start_time": "2022-08-30T15:12:24.385Z"
   },
   {
    "duration": 9,
    "start_time": "2022-08-30T15:12:24.449Z"
   },
   {
    "duration": 16,
    "start_time": "2022-08-30T15:12:24.460Z"
   },
   {
    "duration": 31,
    "start_time": "2022-08-30T15:12:24.478Z"
   },
   {
    "duration": 24,
    "start_time": "2022-08-30T15:12:24.511Z"
   },
   {
    "duration": 20,
    "start_time": "2022-08-30T15:12:24.537Z"
   },
   {
    "duration": 56,
    "start_time": "2022-08-30T15:12:24.559Z"
   },
   {
    "duration": 41,
    "start_time": "2022-08-30T15:12:24.616Z"
   },
   {
    "duration": 5,
    "start_time": "2022-08-30T15:12:24.659Z"
   },
   {
    "duration": 45,
    "start_time": "2022-08-30T15:12:24.666Z"
   },
   {
    "duration": 9,
    "start_time": "2022-08-30T15:12:24.713Z"
   },
   {
    "duration": 54,
    "start_time": "2022-08-30T15:12:24.723Z"
   },
   {
    "duration": 95,
    "start_time": "2022-08-30T15:12:24.779Z"
   },
   {
    "duration": 20,
    "start_time": "2022-08-30T15:12:24.876Z"
   },
   {
    "duration": 71,
    "start_time": "2022-08-30T15:12:24.900Z"
   },
   {
    "duration": 25,
    "start_time": "2022-08-30T15:12:24.972Z"
   },
   {
    "duration": 43,
    "start_time": "2022-08-30T15:12:24.998Z"
   },
   {
    "duration": 21,
    "start_time": "2022-08-30T15:12:25.043Z"
   },
   {
    "duration": 150,
    "start_time": "2022-08-30T15:12:25.066Z"
   },
   {
    "duration": 74,
    "start_time": "2022-08-30T15:12:25.218Z"
   },
   {
    "duration": 75,
    "start_time": "2022-08-30T15:12:25.294Z"
   },
   {
    "duration": 63,
    "start_time": "2022-08-30T15:12:25.370Z"
   },
   {
    "duration": 91,
    "start_time": "2022-08-30T15:12:25.435Z"
   },
   {
    "duration": 94,
    "start_time": "2022-08-30T15:12:25.527Z"
   },
   {
    "duration": 5,
    "start_time": "2022-08-30T15:12:25.622Z"
   },
   {
    "duration": 29,
    "start_time": "2022-08-30T15:12:25.629Z"
   },
   {
    "duration": 22,
    "start_time": "2022-08-30T15:12:25.659Z"
   },
   {
    "duration": 21,
    "start_time": "2022-08-30T15:12:25.683Z"
   },
   {
    "duration": 58,
    "start_time": "2022-08-30T15:12:25.706Z"
   },
   {
    "duration": 19,
    "start_time": "2022-08-30T15:12:25.766Z"
   },
   {
    "duration": 8,
    "start_time": "2022-08-30T15:12:25.787Z"
   },
   {
    "duration": 37,
    "start_time": "2022-08-30T15:12:25.796Z"
   },
   {
    "duration": 29,
    "start_time": "2022-08-30T15:12:25.835Z"
   },
   {
    "duration": 176,
    "start_time": "2022-08-30T15:12:25.865Z"
   },
   {
    "duration": 13,
    "start_time": "2022-08-30T15:12:26.043Z"
   },
   {
    "duration": 10,
    "start_time": "2022-08-30T15:12:26.058Z"
   },
   {
    "duration": 50,
    "start_time": "2022-08-30T15:12:26.070Z"
   },
   {
    "duration": 16,
    "start_time": "2022-08-30T15:12:26.122Z"
   },
   {
    "duration": 11,
    "start_time": "2022-08-30T15:12:26.140Z"
   },
   {
    "duration": 8,
    "start_time": "2022-08-30T15:12:26.153Z"
   },
   {
    "duration": 36,
    "start_time": "2022-08-30T15:12:26.163Z"
   },
   {
    "duration": 5,
    "start_time": "2022-08-30T15:12:26.201Z"
   },
   {
    "duration": 29,
    "start_time": "2022-08-30T15:12:26.207Z"
   },
   {
    "duration": 4,
    "start_time": "2022-08-30T15:12:26.238Z"
   },
   {
    "duration": 18,
    "start_time": "2022-08-30T15:12:26.244Z"
   },
   {
    "duration": 10,
    "start_time": "2022-08-30T15:12:26.263Z"
   },
   {
    "duration": 13,
    "start_time": "2022-08-30T15:12:26.292Z"
   },
   {
    "duration": 12,
    "start_time": "2022-08-30T15:12:26.307Z"
   },
   {
    "duration": 7,
    "start_time": "2022-08-30T15:12:26.321Z"
   },
   {
    "duration": 10,
    "start_time": "2022-08-30T15:12:26.329Z"
   },
   {
    "duration": 16,
    "start_time": "2022-08-30T15:12:26.340Z"
   },
   {
    "duration": 40,
    "start_time": "2022-08-30T15:12:26.359Z"
   },
   {
    "duration": 5,
    "start_time": "2022-08-30T15:12:26.401Z"
   },
   {
    "duration": 13,
    "start_time": "2022-08-30T15:12:26.407Z"
   },
   {
    "duration": 366,
    "start_time": "2022-08-30T15:12:26.422Z"
   },
   {
    "duration": 13,
    "start_time": "2022-08-30T15:12:26.790Z"
   },
   {
    "duration": 212,
    "start_time": "2022-08-30T15:12:26.806Z"
   },
   {
    "duration": 12,
    "start_time": "2022-08-30T15:12:27.020Z"
   },
   {
    "duration": 433,
    "start_time": "2022-08-30T15:12:27.034Z"
   },
   {
    "duration": 98,
    "start_time": "2022-08-30T15:12:27.468Z"
   },
   {
    "duration": 94,
    "start_time": "2022-08-30T15:12:27.567Z"
   },
   {
    "duration": 2,
    "start_time": "2022-08-30T15:12:27.663Z"
   },
   {
    "duration": 5,
    "start_time": "2022-08-30T15:12:27.667Z"
   },
   {
    "duration": 10,
    "start_time": "2022-08-30T15:12:27.674Z"
   },
   {
    "duration": 5,
    "start_time": "2022-08-30T15:12:27.692Z"
   },
   {
    "duration": 73,
    "start_time": "2022-08-30T15:12:27.699Z"
   },
   {
    "duration": 39,
    "start_time": "2022-08-30T15:12:27.773Z"
   },
   {
    "duration": 13,
    "start_time": "2022-08-30T15:12:27.814Z"
   },
   {
    "duration": 8,
    "start_time": "2022-08-30T15:12:27.833Z"
   },
   {
    "duration": 23,
    "start_time": "2022-08-30T15:12:27.843Z"
   },
   {
    "duration": 29,
    "start_time": "2022-08-30T15:12:27.867Z"
   },
   {
    "duration": 5,
    "start_time": "2022-08-30T15:12:27.898Z"
   },
   {
    "duration": 7,
    "start_time": "2022-08-30T15:12:27.905Z"
   },
   {
    "duration": 9,
    "start_time": "2022-08-30T15:12:27.913Z"
   },
   {
    "duration": 9,
    "start_time": "2022-08-30T15:12:27.923Z"
   },
   {
    "duration": 11,
    "start_time": "2022-08-30T15:12:27.933Z"
   },
   {
    "duration": 72,
    "start_time": "2022-08-30T15:20:49.664Z"
   },
   {
    "duration": 152,
    "start_time": "2022-08-30T15:20:52.057Z"
   },
   {
    "duration": 15,
    "start_time": "2022-08-30T15:20:55.494Z"
   },
   {
    "duration": 15,
    "start_time": "2022-08-30T15:20:56.846Z"
   },
   {
    "duration": 11,
    "start_time": "2022-08-30T15:21:02.042Z"
   },
   {
    "duration": 24,
    "start_time": "2022-08-30T15:21:05.831Z"
   },
   {
    "duration": 9,
    "start_time": "2022-08-30T15:21:10.196Z"
   },
   {
    "duration": 269,
    "start_time": "2022-08-30T15:21:28.446Z"
   },
   {
    "duration": 299,
    "start_time": "2022-08-30T15:22:03.449Z"
   },
   {
    "duration": 12,
    "start_time": "2022-08-30T15:22:41.889Z"
   },
   {
    "duration": 359,
    "start_time": "2022-08-30T15:25:29.102Z"
   },
   {
    "duration": 247,
    "start_time": "2022-08-30T15:25:33.610Z"
   },
   {
    "duration": 64,
    "start_time": "2022-08-30T15:26:04.776Z"
   },
   {
    "duration": 221,
    "start_time": "2022-08-30T15:26:10.867Z"
   },
   {
    "duration": 73,
    "start_time": "2022-08-30T15:26:14.918Z"
   },
   {
    "duration": 162,
    "start_time": "2022-08-30T15:26:19.533Z"
   },
   {
    "duration": 277,
    "start_time": "2022-08-30T15:26:32.013Z"
   },
   {
    "duration": 238,
    "start_time": "2022-08-30T15:26:37.881Z"
   },
   {
    "duration": 205,
    "start_time": "2022-08-30T15:26:44.872Z"
   },
   {
    "duration": 252,
    "start_time": "2022-08-30T15:27:37.924Z"
   },
   {
    "duration": 321,
    "start_time": "2022-08-30T15:27:42.662Z"
   },
   {
    "duration": 227,
    "start_time": "2022-08-30T15:27:52.685Z"
   },
   {
    "duration": 288,
    "start_time": "2022-08-30T15:29:08.178Z"
   },
   {
    "duration": 528,
    "start_time": "2022-08-30T15:29:14.600Z"
   },
   {
    "duration": 6,
    "start_time": "2022-08-30T15:30:41.437Z"
   },
   {
    "duration": 5,
    "start_time": "2022-08-30T15:34:18.869Z"
   },
   {
    "duration": 191,
    "start_time": "2022-08-30T15:36:47.243Z"
   },
   {
    "duration": 215,
    "start_time": "2022-08-30T15:37:57.988Z"
   },
   {
    "duration": 297,
    "start_time": "2022-08-30T15:38:10.063Z"
   },
   {
    "duration": 207,
    "start_time": "2022-08-30T15:40:13.982Z"
   },
   {
    "duration": 486,
    "start_time": "2022-08-30T15:40:29.217Z"
   },
   {
    "duration": 195,
    "start_time": "2022-08-30T15:40:34.446Z"
   },
   {
    "duration": 198,
    "start_time": "2022-08-30T15:41:03.367Z"
   },
   {
    "duration": 211,
    "start_time": "2022-08-30T15:41:16.650Z"
   },
   {
    "duration": 213,
    "start_time": "2022-08-30T15:41:19.994Z"
   },
   {
    "duration": 99,
    "start_time": "2022-08-30T15:47:29.454Z"
   },
   {
    "duration": 171,
    "start_time": "2022-08-30T15:51:55.714Z"
   },
   {
    "duration": 189,
    "start_time": "2022-08-30T15:52:59.271Z"
   },
   {
    "duration": 177,
    "start_time": "2022-08-30T15:56:43.568Z"
   },
   {
    "duration": 1276,
    "start_time": "2022-08-30T15:57:11.683Z"
   },
   {
    "duration": 240,
    "start_time": "2022-08-30T15:57:12.961Z"
   },
   {
    "duration": 13,
    "start_time": "2022-08-30T15:57:13.203Z"
   },
   {
    "duration": 42,
    "start_time": "2022-08-30T15:57:13.217Z"
   },
   {
    "duration": 13,
    "start_time": "2022-08-30T15:57:13.260Z"
   },
   {
    "duration": 25,
    "start_time": "2022-08-30T15:57:13.274Z"
   },
   {
    "duration": 14,
    "start_time": "2022-08-30T15:57:13.301Z"
   },
   {
    "duration": 36,
    "start_time": "2022-08-30T15:57:13.317Z"
   },
   {
    "duration": 210,
    "start_time": "2022-08-30T15:57:13.354Z"
   },
   {
    "duration": 32,
    "start_time": "2022-08-30T15:57:13.567Z"
   },
   {
    "duration": 7,
    "start_time": "2022-08-30T15:57:13.601Z"
   },
   {
    "duration": 14,
    "start_time": "2022-08-30T15:57:13.609Z"
   },
   {
    "duration": 22,
    "start_time": "2022-08-30T15:57:13.624Z"
   },
   {
    "duration": 17,
    "start_time": "2022-08-30T15:57:13.647Z"
   },
   {
    "duration": 10,
    "start_time": "2022-08-30T15:57:13.665Z"
   },
   {
    "duration": 24,
    "start_time": "2022-08-30T15:57:13.676Z"
   },
   {
    "duration": 13,
    "start_time": "2022-08-30T15:57:13.702Z"
   },
   {
    "duration": 13,
    "start_time": "2022-08-30T15:57:13.717Z"
   },
   {
    "duration": 24,
    "start_time": "2022-08-30T15:57:13.732Z"
   },
   {
    "duration": 85,
    "start_time": "2022-08-30T15:57:13.758Z"
   },
   {
    "duration": 60,
    "start_time": "2022-08-30T15:57:13.845Z"
   },
   {
    "duration": 6,
    "start_time": "2022-08-30T15:57:13.908Z"
   },
   {
    "duration": 33,
    "start_time": "2022-08-30T15:57:13.916Z"
   },
   {
    "duration": 9,
    "start_time": "2022-08-30T15:57:13.951Z"
   },
   {
    "duration": 65,
    "start_time": "2022-08-30T15:57:13.962Z"
   },
   {
    "duration": 85,
    "start_time": "2022-08-30T15:57:14.028Z"
   },
   {
    "duration": 17,
    "start_time": "2022-08-30T15:57:14.114Z"
   },
   {
    "duration": 88,
    "start_time": "2022-08-30T15:57:14.137Z"
   },
   {
    "duration": 9,
    "start_time": "2022-08-30T15:57:14.227Z"
   },
   {
    "duration": 38,
    "start_time": "2022-08-30T15:57:14.238Z"
   },
   {
    "duration": 20,
    "start_time": "2022-08-30T15:57:14.292Z"
   },
   {
    "duration": 143,
    "start_time": "2022-08-30T15:57:14.314Z"
   },
   {
    "duration": 75,
    "start_time": "2022-08-30T15:57:14.459Z"
   },
   {
    "duration": 73,
    "start_time": "2022-08-30T15:57:14.535Z"
   },
   {
    "duration": 45,
    "start_time": "2022-08-30T15:57:14.610Z"
   },
   {
    "duration": 91,
    "start_time": "2022-08-30T15:57:14.657Z"
   },
   {
    "duration": 88,
    "start_time": "2022-08-30T15:57:14.749Z"
   },
   {
    "duration": 3,
    "start_time": "2022-08-30T15:57:14.839Z"
   },
   {
    "duration": 29,
    "start_time": "2022-08-30T15:57:14.844Z"
   },
   {
    "duration": 29,
    "start_time": "2022-08-30T15:57:14.874Z"
   },
   {
    "duration": 18,
    "start_time": "2022-08-30T15:57:14.905Z"
   },
   {
    "duration": 43,
    "start_time": "2022-08-30T15:57:14.925Z"
   },
   {
    "duration": 18,
    "start_time": "2022-08-30T15:57:14.970Z"
   },
   {
    "duration": 16,
    "start_time": "2022-08-30T15:57:14.990Z"
   },
   {
    "duration": 40,
    "start_time": "2022-08-30T15:57:15.007Z"
   },
   {
    "duration": 26,
    "start_time": "2022-08-30T15:57:15.048Z"
   },
   {
    "duration": 175,
    "start_time": "2022-08-30T15:57:15.078Z"
   },
   {
    "duration": 12,
    "start_time": "2022-08-30T15:57:15.254Z"
   },
   {
    "duration": 21,
    "start_time": "2022-08-30T15:57:15.268Z"
   },
   {
    "duration": 43,
    "start_time": "2022-08-30T15:57:15.292Z"
   },
   {
    "duration": 17,
    "start_time": "2022-08-30T15:57:15.336Z"
   },
   {
    "duration": 32,
    "start_time": "2022-08-30T15:57:15.355Z"
   },
   {
    "duration": 26,
    "start_time": "2022-08-30T15:57:15.388Z"
   },
   {
    "duration": 29,
    "start_time": "2022-08-30T15:57:15.416Z"
   },
   {
    "duration": 18,
    "start_time": "2022-08-30T15:57:15.447Z"
   },
   {
    "duration": 35,
    "start_time": "2022-08-30T15:57:15.466Z"
   },
   {
    "duration": 5,
    "start_time": "2022-08-30T15:57:15.503Z"
   },
   {
    "duration": 32,
    "start_time": "2022-08-30T15:57:15.510Z"
   },
   {
    "duration": 23,
    "start_time": "2022-08-30T15:57:15.544Z"
   },
   {
    "duration": 31,
    "start_time": "2022-08-30T15:57:15.568Z"
   },
   {
    "duration": 19,
    "start_time": "2022-08-30T15:57:15.601Z"
   },
   {
    "duration": 23,
    "start_time": "2022-08-30T15:57:15.622Z"
   },
   {
    "duration": 12,
    "start_time": "2022-08-30T15:57:15.647Z"
   },
   {
    "duration": 32,
    "start_time": "2022-08-30T15:57:15.661Z"
   },
   {
    "duration": 39,
    "start_time": "2022-08-30T15:57:15.696Z"
   },
   {
    "duration": 5,
    "start_time": "2022-08-30T15:57:15.737Z"
   },
   {
    "duration": 18,
    "start_time": "2022-08-30T15:57:15.744Z"
   },
   {
    "duration": 389,
    "start_time": "2022-08-30T15:57:15.764Z"
   },
   {
    "duration": 13,
    "start_time": "2022-08-30T15:57:16.155Z"
   },
   {
    "duration": 204,
    "start_time": "2022-08-30T15:57:16.170Z"
   },
   {
    "duration": 17,
    "start_time": "2022-08-30T15:57:16.376Z"
   },
   {
    "duration": 335,
    "start_time": "2022-08-30T15:57:16.394Z"
   },
   {
    "duration": 219,
    "start_time": "2022-08-30T15:57:16.731Z"
   },
   {
    "duration": 2,
    "start_time": "2022-08-30T15:57:16.952Z"
   },
   {
    "duration": 15,
    "start_time": "2022-08-30T15:57:16.956Z"
   },
   {
    "duration": 15,
    "start_time": "2022-08-30T15:57:16.972Z"
   },
   {
    "duration": 13,
    "start_time": "2022-08-30T15:57:16.989Z"
   },
   {
    "duration": 87,
    "start_time": "2022-08-30T15:57:17.004Z"
   },
   {
    "duration": 12,
    "start_time": "2022-08-30T15:57:17.092Z"
   },
   {
    "duration": 13,
    "start_time": "2022-08-30T15:57:17.106Z"
   },
   {
    "duration": 30,
    "start_time": "2022-08-30T15:57:17.121Z"
   },
   {
    "duration": 47,
    "start_time": "2022-08-30T15:57:17.160Z"
   },
   {
    "duration": 8,
    "start_time": "2022-08-30T15:57:17.209Z"
   },
   {
    "duration": 229,
    "start_time": "2022-08-30T15:57:17.218Z"
   },
   {
    "duration": 5,
    "start_time": "2022-08-30T15:57:17.449Z"
   },
   {
    "duration": 1193,
    "start_time": "2022-08-31T07:20:31.124Z"
   },
   {
    "duration": 529,
    "start_time": "2022-08-31T07:20:32.320Z"
   },
   {
    "duration": 17,
    "start_time": "2022-08-31T07:20:32.851Z"
   },
   {
    "duration": 53,
    "start_time": "2022-08-31T07:20:32.870Z"
   },
   {
    "duration": 11,
    "start_time": "2022-08-31T07:20:32.926Z"
   },
   {
    "duration": 9,
    "start_time": "2022-08-31T07:20:32.939Z"
   },
   {
    "duration": 14,
    "start_time": "2022-08-31T07:20:32.949Z"
   },
   {
    "duration": 48,
    "start_time": "2022-08-31T07:20:32.965Z"
   },
   {
    "duration": 198,
    "start_time": "2022-08-31T07:20:33.015Z"
   },
   {
    "duration": 73,
    "start_time": "2022-08-31T07:20:33.215Z"
   },
   {
    "duration": 8,
    "start_time": "2022-08-31T07:20:33.290Z"
   },
   {
    "duration": 18,
    "start_time": "2022-08-31T07:20:33.301Z"
   },
   {
    "duration": 26,
    "start_time": "2022-08-31T07:20:33.321Z"
   },
   {
    "duration": 57,
    "start_time": "2022-08-31T07:20:33.351Z"
   },
   {
    "duration": 10,
    "start_time": "2022-08-31T07:20:33.410Z"
   },
   {
    "duration": 13,
    "start_time": "2022-08-31T07:20:33.422Z"
   },
   {
    "duration": 14,
    "start_time": "2022-08-31T07:20:33.437Z"
   },
   {
    "duration": 17,
    "start_time": "2022-08-31T07:20:33.452Z"
   },
   {
    "duration": 18,
    "start_time": "2022-08-31T07:20:33.471Z"
   },
   {
    "duration": 54,
    "start_time": "2022-08-31T07:20:33.491Z"
   },
   {
    "duration": 58,
    "start_time": "2022-08-31T07:20:33.547Z"
   },
   {
    "duration": 6,
    "start_time": "2022-08-31T07:20:33.606Z"
   },
   {
    "duration": 39,
    "start_time": "2022-08-31T07:20:33.614Z"
   },
   {
    "duration": 10,
    "start_time": "2022-08-31T07:20:33.655Z"
   },
   {
    "duration": 47,
    "start_time": "2022-08-31T07:20:33.667Z"
   },
   {
    "duration": 92,
    "start_time": "2022-08-31T07:20:33.716Z"
   },
   {
    "duration": 20,
    "start_time": "2022-08-31T07:20:33.810Z"
   },
   {
    "duration": 88,
    "start_time": "2022-08-31T07:20:33.832Z"
   },
   {
    "duration": 10,
    "start_time": "2022-08-31T07:20:33.922Z"
   },
   {
    "duration": 44,
    "start_time": "2022-08-31T07:20:33.933Z"
   },
   {
    "duration": 18,
    "start_time": "2022-08-31T07:20:33.978Z"
   },
   {
    "duration": 154,
    "start_time": "2022-08-31T07:20:33.998Z"
   },
   {
    "duration": 76,
    "start_time": "2022-08-31T07:20:34.154Z"
   },
   {
    "duration": 85,
    "start_time": "2022-08-31T07:20:34.232Z"
   },
   {
    "duration": 47,
    "start_time": "2022-08-31T07:20:34.319Z"
   },
   {
    "duration": 106,
    "start_time": "2022-08-31T07:20:34.367Z"
   },
   {
    "duration": 111,
    "start_time": "2022-08-31T07:20:34.474Z"
   },
   {
    "duration": 5,
    "start_time": "2022-08-31T07:20:34.587Z"
   },
   {
    "duration": 8,
    "start_time": "2022-08-31T07:20:34.594Z"
   },
   {
    "duration": 8,
    "start_time": "2022-08-31T07:20:34.604Z"
   },
   {
    "duration": 23,
    "start_time": "2022-08-31T07:20:34.618Z"
   },
   {
    "duration": 27,
    "start_time": "2022-08-31T07:20:34.643Z"
   },
   {
    "duration": 17,
    "start_time": "2022-08-31T07:20:34.685Z"
   },
   {
    "duration": 8,
    "start_time": "2022-08-31T07:20:34.704Z"
   },
   {
    "duration": 28,
    "start_time": "2022-08-31T07:20:34.715Z"
   },
   {
    "duration": 52,
    "start_time": "2022-08-31T07:20:34.745Z"
   },
   {
    "duration": 158,
    "start_time": "2022-08-31T07:20:34.800Z"
   },
   {
    "duration": 24,
    "start_time": "2022-08-31T07:20:34.960Z"
   },
   {
    "duration": 12,
    "start_time": "2022-08-31T07:20:34.987Z"
   },
   {
    "duration": 34,
    "start_time": "2022-08-31T07:20:35.001Z"
   },
   {
    "duration": 18,
    "start_time": "2022-08-31T07:20:35.036Z"
   },
   {
    "duration": 34,
    "start_time": "2022-08-31T07:20:35.056Z"
   },
   {
    "duration": 10,
    "start_time": "2022-08-31T07:20:35.091Z"
   },
   {
    "duration": 14,
    "start_time": "2022-08-31T07:20:35.103Z"
   },
   {
    "duration": 6,
    "start_time": "2022-08-31T07:20:35.118Z"
   },
   {
    "duration": 35,
    "start_time": "2022-08-31T07:20:35.126Z"
   },
   {
    "duration": 5,
    "start_time": "2022-08-31T07:20:35.162Z"
   },
   {
    "duration": 12,
    "start_time": "2022-08-31T07:20:35.186Z"
   },
   {
    "duration": 10,
    "start_time": "2022-08-31T07:20:35.200Z"
   },
   {
    "duration": 13,
    "start_time": "2022-08-31T07:20:35.212Z"
   },
   {
    "duration": 13,
    "start_time": "2022-08-31T07:20:35.227Z"
   },
   {
    "duration": 11,
    "start_time": "2022-08-31T07:20:35.242Z"
   },
   {
    "duration": 30,
    "start_time": "2022-08-31T07:20:35.255Z"
   },
   {
    "duration": 11,
    "start_time": "2022-08-31T07:20:35.287Z"
   },
   {
    "duration": 17,
    "start_time": "2022-08-31T07:20:35.300Z"
   },
   {
    "duration": 5,
    "start_time": "2022-08-31T07:20:35.319Z"
   },
   {
    "duration": 10,
    "start_time": "2022-08-31T07:20:35.326Z"
   },
   {
    "duration": 387,
    "start_time": "2022-08-31T07:20:35.338Z"
   },
   {
    "duration": 13,
    "start_time": "2022-08-31T07:20:35.726Z"
   },
   {
    "duration": 208,
    "start_time": "2022-08-31T07:20:35.741Z"
   },
   {
    "duration": 11,
    "start_time": "2022-08-31T07:20:35.951Z"
   },
   {
    "duration": 367,
    "start_time": "2022-08-31T07:20:35.964Z"
   },
   {
    "duration": 175,
    "start_time": "2022-08-31T07:20:36.333Z"
   },
   {
    "duration": 2,
    "start_time": "2022-08-31T07:20:36.510Z"
   },
   {
    "duration": 7,
    "start_time": "2022-08-31T07:20:36.513Z"
   },
   {
    "duration": 5,
    "start_time": "2022-08-31T07:20:36.521Z"
   },
   {
    "duration": 7,
    "start_time": "2022-08-31T07:20:36.527Z"
   },
   {
    "duration": 87,
    "start_time": "2022-08-31T07:20:36.536Z"
   },
   {
    "duration": 14,
    "start_time": "2022-08-31T07:20:36.625Z"
   },
   {
    "duration": 13,
    "start_time": "2022-08-31T07:20:36.642Z"
   },
   {
    "duration": 33,
    "start_time": "2022-08-31T07:20:36.656Z"
   },
   {
    "duration": 23,
    "start_time": "2022-08-31T07:20:36.691Z"
   },
   {
    "duration": 8,
    "start_time": "2022-08-31T07:20:36.715Z"
   },
   {
    "duration": 242,
    "start_time": "2022-08-31T07:20:36.725Z"
   },
   {
    "duration": 5,
    "start_time": "2022-08-31T07:20:36.969Z"
   },
   {
    "duration": 5,
    "start_time": "2022-08-31T07:20:49.912Z"
   },
   {
    "duration": 5,
    "start_time": "2022-08-31T07:20:57.056Z"
   },
   {
    "duration": 5,
    "start_time": "2022-08-31T07:21:03.679Z"
   },
   {
    "duration": 6,
    "start_time": "2022-08-31T07:21:23.456Z"
   },
   {
    "duration": 108,
    "start_time": "2022-08-31T07:21:45.497Z"
   },
   {
    "duration": 6,
    "start_time": "2022-08-31T07:22:09.825Z"
   },
   {
    "duration": 5,
    "start_time": "2022-08-31T07:22:14.015Z"
   },
   {
    "duration": 13,
    "start_time": "2022-08-31T07:22:25.479Z"
   },
   {
    "duration": 7,
    "start_time": "2022-08-31T07:22:40.381Z"
   },
   {
    "duration": 6,
    "start_time": "2022-08-31T07:23:45.424Z"
   },
   {
    "duration": 5,
    "start_time": "2022-08-31T07:24:39.617Z"
   },
   {
    "duration": 5,
    "start_time": "2022-08-31T07:24:51.722Z"
   },
   {
    "duration": 58,
    "start_time": "2022-08-31T14:48:22.519Z"
   },
   {
    "duration": 1454,
    "start_time": "2022-08-31T14:48:27.228Z"
   },
   {
    "duration": 764,
    "start_time": "2022-08-31T14:48:28.685Z"
   },
   {
    "duration": 15,
    "start_time": "2022-08-31T14:48:29.451Z"
   },
   {
    "duration": 43,
    "start_time": "2022-08-31T14:48:29.469Z"
   },
   {
    "duration": 11,
    "start_time": "2022-08-31T14:48:29.514Z"
   },
   {
    "duration": 9,
    "start_time": "2022-08-31T14:48:29.526Z"
   },
   {
    "duration": 36,
    "start_time": "2022-08-31T14:48:29.536Z"
   },
   {
    "duration": 55,
    "start_time": "2022-08-31T14:48:29.574Z"
   },
   {
    "duration": 183,
    "start_time": "2022-08-31T14:48:29.631Z"
   },
   {
    "duration": 418,
    "start_time": "2022-08-31T14:48:29.816Z"
   },
   {
    "duration": 7,
    "start_time": "2022-08-31T14:48:30.235Z"
   },
   {
    "duration": 18,
    "start_time": "2022-08-31T14:48:30.244Z"
   },
   {
    "duration": 37,
    "start_time": "2022-08-31T14:48:30.264Z"
   },
   {
    "duration": 58,
    "start_time": "2022-08-31T14:48:30.303Z"
   },
   {
    "duration": 17,
    "start_time": "2022-08-31T14:48:30.363Z"
   },
   {
    "duration": 17,
    "start_time": "2022-08-31T14:48:30.384Z"
   },
   {
    "duration": 19,
    "start_time": "2022-08-31T14:48:30.403Z"
   },
   {
    "duration": 16,
    "start_time": "2022-08-31T14:48:30.424Z"
   },
   {
    "duration": 28,
    "start_time": "2022-08-31T14:48:30.442Z"
   },
   {
    "duration": 56,
    "start_time": "2022-08-31T14:48:30.475Z"
   },
   {
    "duration": 63,
    "start_time": "2022-08-31T14:48:30.533Z"
   },
   {
    "duration": 8,
    "start_time": "2022-08-31T14:48:30.598Z"
   },
   {
    "duration": 53,
    "start_time": "2022-08-31T14:48:30.607Z"
   },
   {
    "duration": 16,
    "start_time": "2022-08-31T14:48:30.662Z"
   },
   {
    "duration": 44,
    "start_time": "2022-08-31T14:48:30.683Z"
   },
   {
    "duration": 92,
    "start_time": "2022-08-31T14:48:30.729Z"
   },
   {
    "duration": 16,
    "start_time": "2022-08-31T14:48:30.823Z"
   },
   {
    "duration": 94,
    "start_time": "2022-08-31T14:48:30.845Z"
   },
   {
    "duration": 9,
    "start_time": "2022-08-31T14:48:30.941Z"
   },
   {
    "duration": 48,
    "start_time": "2022-08-31T14:48:30.952Z"
   },
   {
    "duration": 17,
    "start_time": "2022-08-31T14:48:31.002Z"
   },
   {
    "duration": 142,
    "start_time": "2022-08-31T14:48:31.020Z"
   },
   {
    "duration": 72,
    "start_time": "2022-08-31T14:48:31.163Z"
   },
   {
    "duration": 83,
    "start_time": "2022-08-31T14:48:31.237Z"
   },
   {
    "duration": 65,
    "start_time": "2022-08-31T14:48:31.322Z"
   },
   {
    "duration": 84,
    "start_time": "2022-08-31T14:48:31.389Z"
   },
   {
    "duration": 114,
    "start_time": "2022-08-31T14:48:31.475Z"
   },
   {
    "duration": 5,
    "start_time": "2022-08-31T14:48:31.590Z"
   },
   {
    "duration": 13,
    "start_time": "2022-08-31T14:48:31.596Z"
   },
   {
    "duration": 14,
    "start_time": "2022-08-31T14:48:31.612Z"
   },
   {
    "duration": 14,
    "start_time": "2022-08-31T14:48:31.628Z"
   },
   {
    "duration": 46,
    "start_time": "2022-08-31T14:48:31.644Z"
   },
   {
    "duration": 18,
    "start_time": "2022-08-31T14:48:31.692Z"
   },
   {
    "duration": 7,
    "start_time": "2022-08-31T14:48:31.712Z"
   },
   {
    "duration": 26,
    "start_time": "2022-08-31T14:48:31.721Z"
   },
   {
    "duration": 51,
    "start_time": "2022-08-31T14:48:31.749Z"
   },
   {
    "duration": 159,
    "start_time": "2022-08-31T14:48:31.802Z"
   },
   {
    "duration": 24,
    "start_time": "2022-08-31T14:48:31.963Z"
   },
   {
    "duration": 12,
    "start_time": "2022-08-31T14:48:31.989Z"
   },
   {
    "duration": 36,
    "start_time": "2022-08-31T14:48:32.002Z"
   },
   {
    "duration": 44,
    "start_time": "2022-08-31T14:48:32.039Z"
   },
   {
    "duration": 11,
    "start_time": "2022-08-31T14:48:32.085Z"
   },
   {
    "duration": 13,
    "start_time": "2022-08-31T14:48:32.098Z"
   },
   {
    "duration": 8,
    "start_time": "2022-08-31T14:48:32.112Z"
   },
   {
    "duration": 5,
    "start_time": "2022-08-31T14:48:32.122Z"
   },
   {
    "duration": 53,
    "start_time": "2022-08-31T14:48:32.129Z"
   },
   {
    "duration": 5,
    "start_time": "2022-08-31T14:48:32.184Z"
   },
   {
    "duration": 17,
    "start_time": "2022-08-31T14:48:32.190Z"
   },
   {
    "duration": 9,
    "start_time": "2022-08-31T14:48:32.208Z"
   },
   {
    "duration": 10,
    "start_time": "2022-08-31T14:48:32.219Z"
   },
   {
    "duration": 12,
    "start_time": "2022-08-31T14:48:32.231Z"
   },
   {
    "duration": 25,
    "start_time": "2022-08-31T14:48:32.244Z"
   },
   {
    "duration": 21,
    "start_time": "2022-08-31T14:48:32.272Z"
   },
   {
    "duration": 13,
    "start_time": "2022-08-31T14:48:32.294Z"
   },
   {
    "duration": 17,
    "start_time": "2022-08-31T14:48:32.308Z"
   },
   {
    "duration": 4,
    "start_time": "2022-08-31T14:48:32.326Z"
   },
   {
    "duration": 9,
    "start_time": "2022-08-31T14:48:32.332Z"
   },
   {
    "duration": 380,
    "start_time": "2022-08-31T14:48:32.343Z"
   },
   {
    "duration": 11,
    "start_time": "2022-08-31T14:48:32.724Z"
   },
   {
    "duration": 290,
    "start_time": "2022-08-31T14:48:32.737Z"
   },
   {
    "duration": 0,
    "start_time": "2022-08-31T14:48:33.029Z"
   },
   {
    "duration": 0,
    "start_time": "2022-08-31T14:48:33.030Z"
   },
   {
    "duration": 0,
    "start_time": "2022-08-31T14:48:33.031Z"
   },
   {
    "duration": 0,
    "start_time": "2022-08-31T14:48:33.032Z"
   },
   {
    "duration": 0,
    "start_time": "2022-08-31T14:48:33.034Z"
   },
   {
    "duration": 0,
    "start_time": "2022-08-31T14:48:33.035Z"
   },
   {
    "duration": 0,
    "start_time": "2022-08-31T14:48:33.036Z"
   },
   {
    "duration": 0,
    "start_time": "2022-08-31T14:48:33.037Z"
   },
   {
    "duration": 0,
    "start_time": "2022-08-31T14:48:33.038Z"
   },
   {
    "duration": 0,
    "start_time": "2022-08-31T14:48:33.039Z"
   },
   {
    "duration": 0,
    "start_time": "2022-08-31T14:48:33.040Z"
   },
   {
    "duration": 0,
    "start_time": "2022-08-31T14:48:33.041Z"
   },
   {
    "duration": 0,
    "start_time": "2022-08-31T14:48:33.042Z"
   },
   {
    "duration": 0,
    "start_time": "2022-08-31T14:48:33.068Z"
   },
   {
    "duration": 0,
    "start_time": "2022-08-31T14:48:33.069Z"
   },
   {
    "duration": 3,
    "start_time": "2022-08-31T14:48:59.739Z"
   },
   {
    "duration": 258,
    "start_time": "2022-08-31T14:48:59.745Z"
   },
   {
    "duration": 11,
    "start_time": "2022-08-31T14:49:00.005Z"
   },
   {
    "duration": 59,
    "start_time": "2022-08-31T14:49:00.018Z"
   },
   {
    "duration": 13,
    "start_time": "2022-08-31T14:49:00.081Z"
   },
   {
    "duration": 9,
    "start_time": "2022-08-31T14:49:00.096Z"
   },
   {
    "duration": 18,
    "start_time": "2022-08-31T14:49:00.106Z"
   },
   {
    "duration": 62,
    "start_time": "2022-08-31T14:49:00.126Z"
   },
   {
    "duration": 236,
    "start_time": "2022-08-31T14:49:00.190Z"
   },
   {
    "duration": 27,
    "start_time": "2022-08-31T14:49:00.427Z"
   },
   {
    "duration": 7,
    "start_time": "2022-08-31T14:49:00.456Z"
   },
   {
    "duration": 37,
    "start_time": "2022-08-31T14:49:00.469Z"
   },
   {
    "duration": 23,
    "start_time": "2022-08-31T14:49:00.508Z"
   },
   {
    "duration": 17,
    "start_time": "2022-08-31T14:49:00.533Z"
   },
   {
    "duration": 36,
    "start_time": "2022-08-31T14:49:00.552Z"
   },
   {
    "duration": 17,
    "start_time": "2022-08-31T14:49:00.590Z"
   },
   {
    "duration": 32,
    "start_time": "2022-08-31T14:49:00.609Z"
   },
   {
    "duration": 39,
    "start_time": "2022-08-31T14:49:00.643Z"
   },
   {
    "duration": 49,
    "start_time": "2022-08-31T14:49:00.684Z"
   },
   {
    "duration": 58,
    "start_time": "2022-08-31T14:49:00.735Z"
   },
   {
    "duration": 36,
    "start_time": "2022-08-31T14:49:00.795Z"
   },
   {
    "duration": 89,
    "start_time": "2022-08-31T14:49:00.833Z"
   },
   {
    "duration": 68,
    "start_time": "2022-08-31T14:49:00.924Z"
   },
   {
    "duration": 33,
    "start_time": "2022-08-31T14:49:00.994Z"
   },
   {
    "duration": 42,
    "start_time": "2022-08-31T14:49:01.029Z"
   },
   {
    "duration": 91,
    "start_time": "2022-08-31T14:49:01.073Z"
   },
   {
    "duration": 22,
    "start_time": "2022-08-31T14:49:01.166Z"
   },
   {
    "duration": 128,
    "start_time": "2022-08-31T14:49:01.191Z"
   },
   {
    "duration": 11,
    "start_time": "2022-08-31T14:49:01.323Z"
   },
   {
    "duration": 51,
    "start_time": "2022-08-31T14:49:01.336Z"
   },
   {
    "duration": 21,
    "start_time": "2022-08-31T14:49:01.389Z"
   },
   {
    "duration": 152,
    "start_time": "2022-08-31T14:49:01.411Z"
   },
   {
    "duration": 79,
    "start_time": "2022-08-31T14:49:01.568Z"
   },
   {
    "duration": 97,
    "start_time": "2022-08-31T14:49:01.649Z"
   },
   {
    "duration": 57,
    "start_time": "2022-08-31T14:49:01.748Z"
   },
   {
    "duration": 94,
    "start_time": "2022-08-31T14:49:01.807Z"
   },
   {
    "duration": 101,
    "start_time": "2022-08-31T14:49:01.902Z"
   },
   {
    "duration": 4,
    "start_time": "2022-08-31T14:49:02.005Z"
   },
   {
    "duration": 9,
    "start_time": "2022-08-31T14:49:02.011Z"
   },
   {
    "duration": 21,
    "start_time": "2022-08-31T14:49:02.021Z"
   },
   {
    "duration": 18,
    "start_time": "2022-08-31T14:49:02.043Z"
   },
   {
    "duration": 30,
    "start_time": "2022-08-31T14:49:02.063Z"
   },
   {
    "duration": 20,
    "start_time": "2022-08-31T14:49:02.096Z"
   },
   {
    "duration": 8,
    "start_time": "2022-08-31T14:49:02.118Z"
   },
   {
    "duration": 54,
    "start_time": "2022-08-31T14:49:02.128Z"
   },
   {
    "duration": 32,
    "start_time": "2022-08-31T14:49:02.183Z"
   },
   {
    "duration": 190,
    "start_time": "2022-08-31T14:49:02.216Z"
   },
   {
    "duration": 13,
    "start_time": "2022-08-31T14:49:02.408Z"
   },
   {
    "duration": 15,
    "start_time": "2022-08-31T14:49:02.423Z"
   },
   {
    "duration": 49,
    "start_time": "2022-08-31T14:49:02.439Z"
   },
   {
    "duration": 19,
    "start_time": "2022-08-31T14:49:02.490Z"
   },
   {
    "duration": 15,
    "start_time": "2022-08-31T14:49:02.511Z"
   },
   {
    "duration": 14,
    "start_time": "2022-08-31T14:49:02.527Z"
   },
   {
    "duration": 28,
    "start_time": "2022-08-31T14:49:02.543Z"
   },
   {
    "duration": 23,
    "start_time": "2022-08-31T14:49:02.573Z"
   },
   {
    "duration": 31,
    "start_time": "2022-08-31T14:49:02.598Z"
   },
   {
    "duration": 5,
    "start_time": "2022-08-31T14:49:02.631Z"
   },
   {
    "duration": 23,
    "start_time": "2022-08-31T14:49:02.638Z"
   },
   {
    "duration": 29,
    "start_time": "2022-08-31T14:49:02.663Z"
   },
   {
    "duration": 15,
    "start_time": "2022-08-31T14:49:02.694Z"
   },
   {
    "duration": 19,
    "start_time": "2022-08-31T14:49:02.711Z"
   },
   {
    "duration": 11,
    "start_time": "2022-08-31T14:49:02.732Z"
   },
   {
    "duration": 14,
    "start_time": "2022-08-31T14:49:02.744Z"
   },
   {
    "duration": 20,
    "start_time": "2022-08-31T14:49:02.760Z"
   },
   {
    "duration": 26,
    "start_time": "2022-08-31T14:49:02.783Z"
   },
   {
    "duration": 6,
    "start_time": "2022-08-31T14:49:02.811Z"
   },
   {
    "duration": 15,
    "start_time": "2022-08-31T14:49:02.819Z"
   },
   {
    "duration": 379,
    "start_time": "2022-08-31T14:49:02.835Z"
   },
   {
    "duration": 12,
    "start_time": "2022-08-31T14:49:03.216Z"
   },
   {
    "duration": 11,
    "start_time": "2022-08-31T14:49:03.229Z"
   },
   {
    "duration": 614,
    "start_time": "2022-08-31T14:49:03.241Z"
   },
   {
    "duration": 369,
    "start_time": "2022-08-31T14:49:03.857Z"
   },
   {
    "duration": 191,
    "start_time": "2022-08-31T14:49:04.227Z"
   },
   {
    "duration": 3,
    "start_time": "2022-08-31T14:49:04.420Z"
   },
   {
    "duration": 10,
    "start_time": "2022-08-31T14:49:04.424Z"
   },
   {
    "duration": 4,
    "start_time": "2022-08-31T14:49:04.436Z"
   },
   {
    "duration": 9,
    "start_time": "2022-08-31T14:49:04.441Z"
   },
   {
    "duration": 87,
    "start_time": "2022-08-31T14:49:04.452Z"
   },
   {
    "duration": 29,
    "start_time": "2022-08-31T14:49:04.541Z"
   },
   {
    "duration": 18,
    "start_time": "2022-08-31T14:49:04.572Z"
   },
   {
    "duration": 15,
    "start_time": "2022-08-31T14:49:04.592Z"
   },
   {
    "duration": 135,
    "start_time": "2022-08-31T14:49:04.608Z"
   },
   {
    "duration": 19,
    "start_time": "2022-08-31T14:49:04.749Z"
   },
   {
    "duration": 265,
    "start_time": "2022-08-31T14:49:04.773Z"
   },
   {
    "duration": 6,
    "start_time": "2022-08-31T14:49:05.039Z"
   },
   {
    "duration": 218,
    "start_time": "2022-08-31T14:51:21.293Z"
   },
   {
    "duration": 202,
    "start_time": "2022-08-31T15:43:29.172Z"
   },
   {
    "duration": 6,
    "start_time": "2022-08-31T15:43:58.598Z"
   },
   {
    "duration": 3,
    "start_time": "2022-08-31T15:44:21.468Z"
   },
   {
    "duration": 313,
    "start_time": "2022-08-31T15:44:21.477Z"
   },
   {
    "duration": 10,
    "start_time": "2022-08-31T15:44:21.792Z"
   },
   {
    "duration": 37,
    "start_time": "2022-08-31T15:44:21.803Z"
   },
   {
    "duration": 12,
    "start_time": "2022-08-31T15:44:21.869Z"
   },
   {
    "duration": 13,
    "start_time": "2022-08-31T15:44:21.882Z"
   },
   {
    "duration": 15,
    "start_time": "2022-08-31T15:44:21.897Z"
   },
   {
    "duration": 65,
    "start_time": "2022-08-31T15:44:21.914Z"
   },
   {
    "duration": 245,
    "start_time": "2022-08-31T15:44:21.981Z"
   },
   {
    "duration": 27,
    "start_time": "2022-08-31T15:44:22.228Z"
   },
   {
    "duration": 16,
    "start_time": "2022-08-31T15:44:22.258Z"
   },
   {
    "duration": 17,
    "start_time": "2022-08-31T15:44:22.275Z"
   },
   {
    "duration": 24,
    "start_time": "2022-08-31T15:44:22.295Z"
   },
   {
    "duration": 16,
    "start_time": "2022-08-31T15:44:22.321Z"
   },
   {
    "duration": 30,
    "start_time": "2022-08-31T15:44:22.339Z"
   },
   {
    "duration": 13,
    "start_time": "2022-08-31T15:44:22.371Z"
   },
   {
    "duration": 15,
    "start_time": "2022-08-31T15:44:22.386Z"
   },
   {
    "duration": 17,
    "start_time": "2022-08-31T15:44:22.403Z"
   },
   {
    "duration": 47,
    "start_time": "2022-08-31T15:44:22.422Z"
   },
   {
    "duration": 46,
    "start_time": "2022-08-31T15:44:22.471Z"
   },
   {
    "duration": 61,
    "start_time": "2022-08-31T15:44:22.519Z"
   },
   {
    "duration": 6,
    "start_time": "2022-08-31T15:44:22.582Z"
   },
   {
    "duration": 29,
    "start_time": "2022-08-31T15:44:22.590Z"
   },
   {
    "duration": 10,
    "start_time": "2022-08-31T15:44:22.621Z"
   },
   {
    "duration": 56,
    "start_time": "2022-08-31T15:44:22.633Z"
   },
   {
    "duration": 84,
    "start_time": "2022-08-31T15:44:22.691Z"
   },
   {
    "duration": 18,
    "start_time": "2022-08-31T15:44:22.777Z"
   },
   {
    "duration": 82,
    "start_time": "2022-08-31T15:44:22.797Z"
   },
   {
    "duration": 11,
    "start_time": "2022-08-31T15:44:22.884Z"
   },
   {
    "duration": 38,
    "start_time": "2022-08-31T15:44:22.897Z"
   },
   {
    "duration": 43,
    "start_time": "2022-08-31T15:44:22.938Z"
   },
   {
    "duration": 147,
    "start_time": "2022-08-31T15:44:22.983Z"
   },
   {
    "duration": 75,
    "start_time": "2022-08-31T15:44:23.131Z"
   },
   {
    "duration": 84,
    "start_time": "2022-08-31T15:44:23.208Z"
   },
   {
    "duration": 47,
    "start_time": "2022-08-31T15:44:23.294Z"
   },
   {
    "duration": 96,
    "start_time": "2022-08-31T15:44:23.343Z"
   },
   {
    "duration": 120,
    "start_time": "2022-08-31T15:44:23.441Z"
   },
   {
    "duration": 5,
    "start_time": "2022-08-31T15:44:23.568Z"
   },
   {
    "duration": 8,
    "start_time": "2022-08-31T15:44:23.576Z"
   },
   {
    "duration": 14,
    "start_time": "2022-08-31T15:44:23.586Z"
   },
   {
    "duration": 15,
    "start_time": "2022-08-31T15:44:23.601Z"
   },
   {
    "duration": 57,
    "start_time": "2022-08-31T15:44:23.619Z"
   },
   {
    "duration": 23,
    "start_time": "2022-08-31T15:44:23.678Z"
   },
   {
    "duration": 10,
    "start_time": "2022-08-31T15:44:23.703Z"
   },
   {
    "duration": 57,
    "start_time": "2022-08-31T15:44:23.715Z"
   },
   {
    "duration": 30,
    "start_time": "2022-08-31T15:44:23.774Z"
   },
   {
    "duration": 177,
    "start_time": "2022-08-31T15:44:23.805Z"
   },
   {
    "duration": 13,
    "start_time": "2022-08-31T15:44:23.983Z"
   },
   {
    "duration": 13,
    "start_time": "2022-08-31T15:44:23.998Z"
   },
   {
    "duration": 60,
    "start_time": "2022-08-31T15:44:24.013Z"
   },
   {
    "duration": 18,
    "start_time": "2022-08-31T15:44:24.075Z"
   },
   {
    "duration": 11,
    "start_time": "2022-08-31T15:44:24.094Z"
   },
   {
    "duration": 11,
    "start_time": "2022-08-31T15:44:24.108Z"
   },
   {
    "duration": 11,
    "start_time": "2022-08-31T15:44:24.120Z"
   },
   {
    "duration": 5,
    "start_time": "2022-08-31T15:44:24.167Z"
   },
   {
    "duration": 30,
    "start_time": "2022-08-31T15:44:24.174Z"
   },
   {
    "duration": 4,
    "start_time": "2022-08-31T15:44:24.206Z"
   },
   {
    "duration": 24,
    "start_time": "2022-08-31T15:44:24.212Z"
   },
   {
    "duration": 35,
    "start_time": "2022-08-31T15:44:24.238Z"
   },
   {
    "duration": 15,
    "start_time": "2022-08-31T15:44:24.275Z"
   },
   {
    "duration": 16,
    "start_time": "2022-08-31T15:44:24.292Z"
   },
   {
    "duration": 6,
    "start_time": "2022-08-31T15:44:24.310Z"
   },
   {
    "duration": 8,
    "start_time": "2022-08-31T15:44:24.318Z"
   },
   {
    "duration": 43,
    "start_time": "2022-08-31T15:44:24.327Z"
   },
   {
    "duration": 16,
    "start_time": "2022-08-31T15:44:24.372Z"
   },
   {
    "duration": 4,
    "start_time": "2022-08-31T15:44:24.389Z"
   },
   {
    "duration": 12,
    "start_time": "2022-08-31T15:44:24.395Z"
   },
   {
    "duration": 370,
    "start_time": "2022-08-31T15:44:24.409Z"
   },
   {
    "duration": 11,
    "start_time": "2022-08-31T15:44:24.781Z"
   },
   {
    "duration": 11,
    "start_time": "2022-08-31T15:44:24.794Z"
   },
   {
    "duration": 243,
    "start_time": "2022-08-31T15:44:24.806Z"
   },
   {
    "duration": 362,
    "start_time": "2022-08-31T15:44:25.051Z"
   },
   {
    "duration": 216,
    "start_time": "2022-08-31T15:44:25.414Z"
   },
   {
    "duration": 193,
    "start_time": "2022-08-31T15:44:25.632Z"
   },
   {
    "duration": 3,
    "start_time": "2022-08-31T15:44:25.827Z"
   },
   {
    "duration": 9,
    "start_time": "2022-08-31T15:44:25.832Z"
   },
   {
    "duration": 25,
    "start_time": "2022-08-31T15:44:25.843Z"
   },
   {
    "duration": 17,
    "start_time": "2022-08-31T15:44:25.870Z"
   },
   {
    "duration": 67,
    "start_time": "2022-08-31T15:44:25.889Z"
   },
   {
    "duration": 14,
    "start_time": "2022-08-31T15:44:25.968Z"
   },
   {
    "duration": 14,
    "start_time": "2022-08-31T15:44:25.985Z"
   },
   {
    "duration": 13,
    "start_time": "2022-08-31T15:44:26.002Z"
   },
   {
    "duration": 58,
    "start_time": "2022-08-31T15:44:26.023Z"
   },
   {
    "duration": 8,
    "start_time": "2022-08-31T15:44:26.083Z"
   },
   {
    "duration": 233,
    "start_time": "2022-08-31T15:44:26.093Z"
   },
   {
    "duration": 6,
    "start_time": "2022-08-31T15:44:26.329Z"
   },
   {
    "duration": 303,
    "start_time": "2022-08-31T15:44:52.555Z"
   },
   {
    "duration": 11,
    "start_time": "2022-08-31T15:56:37.233Z"
   },
   {
    "duration": 1987,
    "start_time": "2022-08-31T15:57:22.891Z"
   },
   {
    "duration": 1365,
    "start_time": "2022-08-31T15:58:34.825Z"
   },
   {
    "duration": 10,
    "start_time": "2022-08-31T15:59:01.458Z"
   },
   {
    "duration": 9,
    "start_time": "2022-08-31T15:59:15.513Z"
   },
   {
    "duration": 73,
    "start_time": "2022-08-31T16:04:59.260Z"
   },
   {
    "duration": 79,
    "start_time": "2022-08-31T16:05:34.409Z"
   },
   {
    "duration": 75,
    "start_time": "2022-08-31T16:05:57.062Z"
   },
   {
    "duration": 77,
    "start_time": "2022-08-31T16:06:27.773Z"
   },
   {
    "duration": 65,
    "start_time": "2022-08-31T16:06:37.930Z"
   },
   {
    "duration": 59,
    "start_time": "2022-08-31T16:06:55.365Z"
   },
   {
    "duration": 123,
    "start_time": "2022-08-31T16:06:58.357Z"
   },
   {
    "duration": 131,
    "start_time": "2022-08-31T16:07:23.845Z"
   },
   {
    "duration": 143,
    "start_time": "2022-08-31T16:07:43.158Z"
   },
   {
    "duration": 136,
    "start_time": "2022-08-31T16:08:01.952Z"
   },
   {
    "duration": 139,
    "start_time": "2022-08-31T16:08:07.362Z"
   },
   {
    "duration": 206,
    "start_time": "2022-08-31T16:08:46.405Z"
   },
   {
    "duration": 143,
    "start_time": "2022-08-31T16:08:56.355Z"
   },
   {
    "duration": 143,
    "start_time": "2022-08-31T16:14:09.683Z"
   },
   {
    "duration": 159,
    "start_time": "2022-08-31T16:14:31.665Z"
   },
   {
    "duration": 163,
    "start_time": "2022-08-31T16:15:43.689Z"
   },
   {
    "duration": 494,
    "start_time": "2022-08-31T16:17:31.437Z"
   },
   {
    "duration": 254,
    "start_time": "2022-08-31T16:19:41.507Z"
   },
   {
    "duration": 398,
    "start_time": "2022-08-31T16:20:41.406Z"
   },
   {
    "duration": 5,
    "start_time": "2022-08-31T16:30:25.931Z"
   },
   {
    "duration": 143,
    "start_time": "2022-08-31T16:37:46.467Z"
   },
   {
    "duration": 145,
    "start_time": "2022-08-31T16:39:20.197Z"
   },
   {
    "duration": 364,
    "start_time": "2022-08-31T16:42:15.809Z"
   },
   {
    "duration": 343,
    "start_time": "2022-08-31T16:42:24.335Z"
   },
   {
    "duration": 214,
    "start_time": "2022-08-31T16:44:29.112Z"
   }
  ],
  "kernelspec": {
   "display_name": "Python 3 (ipykernel)",
   "language": "python",
   "name": "python3"
  },
  "language_info": {
   "codemirror_mode": {
    "name": "ipython",
    "version": 3
   },
   "file_extension": ".py",
   "mimetype": "text/x-python",
   "name": "python",
   "nbconvert_exporter": "python",
   "pygments_lexer": "ipython3",
   "version": "3.9.5"
  },
  "toc": {
   "base_numbering": 1,
   "nav_menu": {},
   "number_sections": true,
   "sideBar": true,
   "skip_h1_title": true,
   "title_cell": "Table of Contents",
   "title_sidebar": "Contents",
   "toc_cell": false,
   "toc_position": {
    "height": "calc(100% - 180px)",
    "left": "10px",
    "top": "150px",
    "width": "294.188px"
   },
   "toc_section_display": true,
   "toc_window_display": true
  }
 },
 "nbformat": 4,
 "nbformat_minor": 2
}
